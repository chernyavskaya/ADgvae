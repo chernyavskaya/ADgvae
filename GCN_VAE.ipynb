{
 "cells": [
  {
   "cell_type": "code",
   "execution_count": 141,
   "id": "saved-monaco",
   "metadata": {},
   "outputs": [],
   "source": [
    "import tensorflow as tf\n",
    "import numpy as np\n",
    "import h5py\n",
    "import matplotlib.pyplot as plt\n",
    "plt.style.use('/eos/user/n/nchernya/MLHEP/AnomalyDetection/ADgvae/utils/adfigstyle.mplstyle')\n",
    "from importlib import reload"
   ]
  },
  {
   "cell_type": "code",
   "execution_count": 2,
   "id": "obvious-underground",
   "metadata": {},
   "outputs": [
    {
     "name": "stderr",
     "output_type": "stream",
     "text": [
      "Using TensorFlow backend.\n"
     ]
    },
    {
     "data": {
      "text/plain": [
       "<module 'utils.preprocessing' from '/eos/home-n/nchernya/MLHEP/AnomalyDetection/ADgvae/utils/preprocessing.py'>"
      ]
     },
     "execution_count": 2,
     "metadata": {},
     "output_type": "execute_result"
    }
   ],
   "source": [
    "import models.models as models\n",
    "reload(models)\n",
    "import utils.preprocessing as prepr\n",
    "reload(prepr)"
   ]
  },
  {
   "cell_type": "code",
   "execution_count": 3,
   "id": "democratic-occasion",
   "metadata": {},
   "outputs": [
    {
     "name": "stdout",
     "output_type": "stream",
     "text": [
      "Number of jets = 12571\n",
      "Number of constituents (nodes) = 100\n",
      "Number of features = 3\n"
     ]
    },
    {
     "name": "stderr",
     "output_type": "stream",
     "text": [
      "/eos/home-n/nchernya/MLHEP/AnomalyDetection/ADgvae/utils/preprocessing.py:38: RuntimeWarning: divide by zero encountered in power\n",
      "  D = np.nan_to_num(np.power(D,-0.5), posinf=0, neginf=0) # normalize (**-(1/2))\n"
     ]
    },
    {
     "name": "stdout",
     "output_type": "stream",
     "text": [
      "Number of jets = 2518\n",
      "Number of constituents (nodes) = 100\n",
      "Number of features = 3\n"
     ]
    }
   ],
   "source": [
    "#Data Samples\n",
    "TRAIN_PATH = '/eos/project/d/dshep/TOPCLASS/DijetAnomaly/VAE_data/events/qcd_sqrtshatTeV_13TeV_PU40_NEW_sideband_parts/'\n",
    "filename_bg = TRAIN_PATH + 'qcd_sqrtshatTeV_13TeV_PU40_NEW_sideband_000.h5'\n",
    "batch_size = 128\n",
    "train_set_size = batch_size*50\n",
    "nodes_n, feat_sz, particles_bg, A_bg, A_tilde_bg = prepr.prepare_data(filename_bg,train_set_size,0,train_set_size+1)\n",
    "\n",
    "VALID_PATH = '/eos/project/d/dshep/TOPCLASS/DijetAnomaly/VAE_data/events/qcd_sqrtshatTeV_13TeV_PU40_NEW_EXT_sideband_parts'\n",
    "filename_bg_valid = TRAIN_PATH + 'qcd_sqrtshatTeV_13TeV_PU40_NEW_EXT_sideband_000.h5'\n",
    "batch_size = 128\n",
    "valid_set_size = batch_size*10\n",
    "_,_, particles_bg_valid, A_bg_valid, A_tilde_bg_valid = prepr.prepare_data(filename_bg,valid_set_size,0,valid_set_size+1)"
   ]
  },
  {
   "cell_type": "code",
   "execution_count": 4,
   "id": "north-element",
   "metadata": {},
   "outputs": [
    {
     "name": "stdout",
     "output_type": "stream",
     "text": [
      "(6400, 100, 3) (6400, 100, 100) (6400, 100, 100)\n"
     ]
    }
   ],
   "source": [
    "print(particles_bg.shape, A_tilde_bg.shape, A_bg.shape)"
   ]
  },
  {
   "cell_type": "code",
   "execution_count": null,
   "id": "classical-special",
   "metadata": {},
   "outputs": [],
   "source": []
  },
  {
   "cell_type": "code",
   "execution_count": null,
   "id": "powered-endorsement",
   "metadata": {},
   "outputs": [],
   "source": []
  },
  {
   "cell_type": "markdown",
   "id": "weighted-engine",
   "metadata": {},
   "source": [
    "# Autoencoder"
   ]
  },
  {
   "cell_type": "code",
   "execution_count": 155,
   "id": "generic-protocol",
   "metadata": {},
   "outputs": [
    {
     "name": "stdout",
     "output_type": "stream",
     "text": [
      "Model: \"functional_67\"\n",
      "__________________________________________________________________________________________________\n",
      "Layer (type)                    Output Shape         Param #     Connected to                     \n",
      "==================================================================================================\n",
      "encoder_input_features (InputLa [(None, 100, 3)]     0                                            \n",
      "__________________________________________________________________________________________________\n",
      "encoder_input_adjacency (InputL [(None, 100, 100)]   0                                            \n",
      "__________________________________________________________________________________________________\n",
      "graph_convolution_54 (GraphConv (None, 100, 6)       42          encoder_input_features[0][0]     \n",
      "                                                                 encoder_input_adjacency[0][0]    \n",
      "__________________________________________________________________________________________________\n",
      "graph_convolution_55 (GraphConv (None, 100, 8)       104         graph_convolution_54[0][0]       \n",
      "                                                                 encoder_input_adjacency[0][0]    \n",
      "__________________________________________________________________________________________________\n",
      "graph_convolution_56 (GraphConv (None, 100, 4)       68          graph_convolution_55[0][0]       \n",
      "                                                                 encoder_input_adjacency[0][0]    \n",
      "__________________________________________________________________________________________________\n",
      "graph_convolution_57 (GraphConv (None, 100, 2)       18          graph_convolution_56[0][0]       \n",
      "                                                                 encoder_input_adjacency[0][0]    \n",
      "__________________________________________________________________________________________________\n",
      "graph_convolution_58 (GraphConv (None, 100, 1)       5           graph_convolution_57[0][0]       \n",
      "                                                                 encoder_input_adjacency[0][0]    \n",
      "==================================================================================================\n",
      "Total params: 237\n",
      "Trainable params: 237\n",
      "Non-trainable params: 0\n",
      "__________________________________________________________________________________________________\n"
     ]
    }
   ],
   "source": [
    "gnn = models.GraphAutoencoder(nodes_n=nodes_n, feat_sz=feat_sz, activation=tf.nn.tanh)\n",
    "gnn.compile(optimizer=tf.keras.optimizers.Adam(learning_rate=0.001), run_eagerly=True)  #learning rate 0.001 worked"
   ]
  },
  {
   "cell_type": "code",
   "execution_count": 156,
   "id": "extended-handle",
   "metadata": {
    "scrolled": true
   },
   "outputs": [
    {
     "name": "stdout",
     "output_type": "stream",
     "text": [
      "Epoch 1/50\n",
      "38/38 [==============================] - 4s 99ms/step - val_loss: 1.1761\n",
      "Epoch 2/50\n",
      "38/38 [==============================] - 3s 92ms/step - val_loss: 0.6309\n",
      "Epoch 3/50\n",
      "38/38 [==============================] - 4s 95ms/step - val_loss: 0.4852\n",
      "Epoch 4/50\n",
      "38/38 [==============================] - 4s 93ms/step - val_loss: 0.4388\n",
      "Epoch 5/50\n",
      "38/38 [==============================] - 4s 96ms/step - val_loss: 0.4219\n",
      "Epoch 6/50\n",
      "38/38 [==============================] - 4s 105ms/step - val_loss: 0.4156\n",
      "Epoch 7/50\n",
      "38/38 [==============================] - 3s 91ms/step - val_loss: 0.4133\n",
      "Epoch 8/50\n",
      "38/38 [==============================] - 4s 93ms/step - val_loss: 0.4125\n",
      "Epoch 9/50\n",
      "38/38 [==============================] - 4s 99ms/step - val_loss: 0.4122\n",
      "Epoch 10/50\n",
      "38/38 [==============================] - 4s 96ms/step - val_loss: 0.4120\n",
      "Epoch 11/50\n",
      "38/38 [==============================] - 3s 91ms/step - val_loss: 0.4119\n",
      "Epoch 12/50\n",
      "38/38 [==============================] - 4s 94ms/step - val_loss: 0.4118\n",
      "Epoch 13/50\n",
      "38/38 [==============================] - 4s 101ms/step - val_loss: 0.4117\n",
      "Epoch 14/50\n",
      "38/38 [==============================] - 4s 96ms/step - val_loss: 0.4116\n",
      "Epoch 15/50\n",
      "38/38 [==============================] - 4s 98ms/step - val_loss: 0.4115\n",
      "Epoch 16/50\n",
      "38/38 [==============================] - 4s 94ms/step - val_loss: 0.4114\n",
      "Epoch 17/50\n",
      "38/38 [==============================] - 4s 98ms/step - val_loss: 0.4113\n",
      "Epoch 18/50\n",
      "38/38 [==============================] - 4s 97ms/step - val_loss: 0.4112\n",
      "Epoch 19/50\n",
      "38/38 [==============================] - 4s 97ms/step - val_loss: 0.4111\n",
      "Epoch 20/50\n",
      "38/38 [==============================] - 4s 93ms/step - val_loss: 0.4111\n",
      "Epoch 21/50\n",
      "38/38 [==============================] - 3s 91ms/step - val_loss: 0.4110\n",
      "Epoch 22/50\n",
      "38/38 [==============================] - 4s 96ms/step - val_loss: 0.4109\n",
      "Epoch 23/50\n",
      "38/38 [==============================] - 4s 93ms/step - val_loss: 0.4109\n",
      "Epoch 24/50\n",
      "38/38 [==============================] - 4s 93ms/step - val_loss: 0.4108\n",
      "Epoch 25/50\n",
      "38/38 [==============================] - 3s 90ms/step - val_loss: 0.4108\n",
      "Epoch 26/50\n",
      "38/38 [==============================] - 3s 90ms/step - val_loss: 0.4107\n",
      "Epoch 27/50\n",
      "38/38 [==============================] - 4s 95ms/step - val_loss: 0.4107\n",
      "Epoch 28/50\n",
      "38/38 [==============================] - 4s 93ms/step - val_loss: 0.4107\n",
      "Epoch 29/50\n",
      "38/38 [==============================] - 4s 95ms/step - val_loss: 0.4106\n",
      "Epoch 30/50\n",
      "38/38 [==============================] - 4s 94ms/step - val_loss: 0.4106\n",
      "Epoch 31/50\n",
      "38/38 [==============================] - 4s 94ms/step - val_loss: 0.4106\n",
      "Epoch 32/50\n",
      "38/38 [==============================] - 3s 86ms/step - val_loss: 0.4105\n",
      "Epoch 33/50\n",
      "38/38 [==============================] - 4s 95ms/step - val_loss: 0.4105\n",
      "Epoch 34/50\n",
      "38/38 [==============================] - 4s 94ms/step - val_loss: 0.4105\n",
      "Epoch 35/50\n",
      "38/38 [==============================] - 3s 90ms/step - val_loss: 0.4105\n",
      "Epoch 36/50\n",
      "38/38 [==============================] - 3s 89ms/step - val_loss: 0.4104\n",
      "Epoch 37/50\n",
      "38/38 [==============================] - 3s 91ms/step - val_loss: 0.4104\n",
      "Epoch 38/50\n",
      "38/38 [==============================] - ETA: 0s\n",
      "Epoch 00038: ReduceLROnPlateau reducing learning rate to 0.00010000000474974513.\n",
      "38/38 [==============================] - 4s 94ms/step - val_loss: 0.4104\n",
      "Epoch 39/50\n",
      "38/38 [==============================] - 4s 92ms/step - val_loss: 0.4104\n",
      "Epoch 40/50\n",
      "38/38 [==============================] - 3s 86ms/step - val_loss: 0.4104\n",
      "Epoch 41/50\n",
      "38/38 [==============================] - 3s 85ms/step - val_loss: 0.4104\n",
      "Epoch 42/50\n",
      "38/38 [==============================] - 3s 82ms/step - val_loss: 0.4104\n",
      "Epoch 43/50\n",
      "38/38 [==============================] - 3s 86ms/step - val_loss: 0.4104\n",
      "Epoch 44/50\n",
      "38/38 [==============================] - 3s 91ms/step - val_loss: 0.4104\n",
      "Epoch 45/50\n",
      "38/38 [==============================] - ETA: 0s\n",
      "Epoch 00045: ReduceLROnPlateau reducing learning rate to 1.0000000474974514e-05.\n",
      "38/38 [==============================] - 3s 90ms/step - val_loss: 0.4104\n",
      "Epoch 46/50\n",
      "38/38 [==============================] - 3s 91ms/step - val_loss: 0.4104\n",
      "Epoch 47/50\n",
      "38/38 [==============================] - 3s 90ms/step - val_loss: 0.4104\n",
      "Epoch 48/50\n",
      "38/38 [==============================] - 3s 92ms/step - val_loss: 0.4104\n",
      "Epoch 49/50\n",
      "38/38 [==============================] - 4s 95ms/step - val_loss: 0.4104\n",
      "Epoch 50/50\n",
      "38/38 [==============================] - ETA: 0s\n",
      "Epoch 00050: ReduceLROnPlateau reducing learning rate to 1.0000000656873453e-06.\n",
      "38/38 [==============================] - 3s 83ms/step - val_loss: 0.4104\n"
     ]
    },
    {
     "data": {
      "text/plain": [
       "<tensorflow.python.keras.callbacks.History at 0x7f11a237ff70>"
      ]
     },
     "execution_count": 156,
     "metadata": {},
     "output_type": "execute_result"
    }
   ],
   "source": [
    "callbacks = [tf.keras.callbacks.ReduceLROnPlateau(factor=0.1, patience=5, verbose=1),\n",
    "            tf.keras.callbacks.EarlyStopping(monitor='val_loss', patience=5, verbose=1)]\n",
    "gnn.fit((particles_bg, A_tilde_bg), A_bg, epochs=50, batch_size=128, validation_split=0.25, callbacks=callbacks)"
   ]
  },
  {
   "cell_type": "markdown",
   "id": "earned-sister",
   "metadata": {},
   "source": [
    "## Predict BG and Sig"
   ]
  },
  {
   "cell_type": "code",
   "execution_count": 11,
   "id": "national-arbitration",
   "metadata": {},
   "outputs": [
    {
     "name": "stdout",
     "output_type": "stream",
     "text": [
      "Number of jets = 9966\n",
      "Number of constituents (nodes) = 100\n",
      "Number of features = 3\n"
     ]
    },
    {
     "name": "stderr",
     "output_type": "stream",
     "text": [
      "/eos/home-n/nchernya/MLHEP/AnomalyDetection/ADgvae/utils/preprocessing.py:38: RuntimeWarning: divide by zero encountered in power\n",
      "  D = np.nan_to_num(np.power(D,-0.5), posinf=0, neginf=0) # normalize (**-(1/2))\n"
     ]
    },
    {
     "name": "stdout",
     "output_type": "stream",
     "text": [
      "Number of jets = 9840\n",
      "Number of constituents (nodes) = 100\n",
      "Number of features = 3\n"
     ]
    }
   ],
   "source": [
    "#Prepare signal and background (for testing) samples\n",
    "\n",
    "#signal\n",
    "SIG_PATH = '/eos/project/d/dshep/TOPCLASS/DijetAnomaly/VAE_data/events/RSGraviton_WW_NARROW_13TeV_PU40_3.5TeV_NEW_parts/'\n",
    "filename_sig = SIG_PATH + 'RSGraviton_WW_NARROW_13TeV_PU40_3.5TeV_NEW_concat_001.h5'\n",
    "_,_, particles_sig, A_sig, A_tilde_sig = prepr.prepare_data(filename_sig,5000,0,5000)\n",
    "#background test \n",
    "_,_, particles_bg_test, A_bg_test, A_tilde_bg_test = prepr.prepare_data(filename_bg,5000,train_set_size+1,train_set_size+5000)\n"
   ]
  },
  {
   "cell_type": "code",
   "execution_count": 233,
   "id": "reserved-prevention",
   "metadata": {},
   "outputs": [],
   "source": [
    "z_sig, A_pred_sig = gnn((particles_sig, A_tilde_sig))\n",
    "z_bg_test, A_pred_bg_test = gnn((particles_bg_test, A_tilde_bg_test))\n",
    "loss_signal_gnn = tf.math.reduce_mean(tf.nn.sigmoid_cross_entropy_with_logits(A_sig, A_pred_sig), axis=(1,2)).numpy() #predicted adjecny, but not set to 0/1 yet\n",
    "loss_bg_gnn = tf.math.reduce_mean(tf.nn.sigmoid_cross_entropy_with_logits(A_bg_test, A_pred_bg_test), axis=(1,2)).numpy()"
   ]
  },
  {
   "cell_type": "code",
   "execution_count": 162,
   "id": "needed-bearing",
   "metadata": {
    "scrolled": false
   },
   "outputs": [
    {
     "data": {
      "image/png": "[encoded data removed]",
      "text/plain": [
       "<Figure size 720x576 with 1 Axes>"
      ]
     },
     "metadata": {
      "needs_background": "light"
     },
     "output_type": "display_data"
    }
   ],
   "source": [
    "max_score = np.max(loss_signal)#,np.max(loss_bg_dist))\n",
    "min_score = np.min(loss_bg)#,np.max(loss_bg_dist))\n",
    "bins = 20\n",
    "# plot BG\n",
    "plt.figure()\n",
    "plt.hist(loss_bg, bins=bins, label='BG', density=True, range=(min_score, max_score), \n",
    "         histtype='step', fill=False, linewidth=2)\n",
    "plt.hist(loss_signal, bins=bins, label='SIG', density=True, range=(min_score, max_score), \n",
    "         histtype='step', fill=False, linewidth=2)\n",
    "#plt.semilogy()\n",
    "plt.xlabel(\"AE Loss\")\n",
    "plt.ylabel(\"Normalized Dist\")\n",
    "plt.grid(True)\n",
    "plt.legend(loc='upper right')\n",
    "plt.show()"
   ]
  },
  {
   "cell_type": "code",
   "execution_count": null,
   "id": "understood-planning",
   "metadata": {},
   "outputs": [],
   "source": []
  },
  {
   "cell_type": "code",
   "execution_count": null,
   "id": "changing-medicine",
   "metadata": {},
   "outputs": [],
   "source": []
  },
  {
   "cell_type": "markdown",
   "id": "established-azerbaijan",
   "metadata": {},
   "source": [
    "# GCN VAE"
   ]
  },
  {
   "cell_type": "code",
   "execution_count": 5,
   "id": "nonprofit-cuisine",
   "metadata": {},
   "outputs": [],
   "source": [
    "def threeD_loss_manual(inputs, outputs):\n",
    "    distances = np.sum(np.subtract(inputs[:,:,np.newaxis,:],outputs[:,np.newaxis,:,:])**2, axis=-1)\n",
    "    min_dist_to_inputs = np.min(distances,axis=1)\n",
    "    min_dist_to_outputs = np.min(distances,axis=2)\n",
    "    return np.sum(min_dist_to_inputs,axis=1) + np.sum(min_dist_to_outputs,axis=1)\n",
    "\n"
   ]
  },
  {
   "cell_type": "code",
   "execution_count": 163,
   "id": "basic-holder",
   "metadata": {},
   "outputs": [
    {
     "data": {
      "text/plain": [
       "<module 'utils.preprocessing' from '/eos/home-n/nchernya/MLHEP/AnomalyDetection/ADgvae/utils/preprocessing.py'>"
      ]
     },
     "execution_count": 163,
     "metadata": {},
     "output_type": "execute_result"
    }
   ],
   "source": [
    "import models.losses as losses\n",
    "reload(losses)\n",
    "import models.models as models\n",
    "reload(models)\n",
    "import utils.preprocessing as prepr\n",
    "reload(prepr)\n"
   ]
  },
  {
   "cell_type": "code",
   "execution_count": 164,
   "id": "perceived-crisis",
   "metadata": {
    "scrolled": true
   },
   "outputs": [
    {
     "name": "stdout",
     "output_type": "stream",
     "text": [
      "100\n",
      "Model: \"functional_69\"\n",
      "__________________________________________________________________________________________________\n",
      "Layer (type)                    Output Shape         Param #     Connected to                     \n",
      "==================================================================================================\n",
      "encoder_input_features (InputLa [(None, 100, 3)]     0                                            \n",
      "__________________________________________________________________________________________________\n",
      "encoder_input_adjacency (InputL [(None, 100, 100)]   0                                            \n",
      "__________________________________________________________________________________________________\n",
      "graph_convolution_59 (GraphConv (None, 100, 6)       42          encoder_input_features[0][0]     \n",
      "                                                                 encoder_input_adjacency[0][0]    \n",
      "__________________________________________________________________________________________________\n",
      "graph_convolution_60 (GraphConv (None, 100, 2)       26          graph_convolution_59[0][0]       \n",
      "                                                                 encoder_input_adjacency[0][0]    \n",
      "__________________________________________________________________________________________________\n",
      "flatten_22 (Flatten)            (None, 200)          0           graph_convolution_60[0][0]       \n",
      "__________________________________________________________________________________________________\n",
      "dense_88 (Dense)                (None, 100)          20100       flatten_22[0][0]                 \n",
      "__________________________________________________________________________________________________\n",
      "dense_89 (Dense)                (None, 50)           5050        dense_88[0][0]                   \n",
      "__________________________________________________________________________________________________\n",
      "tf_op_layer_Shape_66 (TensorFlo [(2,)]               0           dense_89[0][0]                   \n",
      "__________________________________________________________________________________________________\n",
      "tf_op_layer_Shape_67 (TensorFlo [(2,)]               0           dense_89[0][0]                   \n",
      "__________________________________________________________________________________________________\n",
      "tf_op_layer_strided_slice_44 (T [()]                 0           tf_op_layer_Shape_66[0][0]       \n",
      "__________________________________________________________________________________________________\n",
      "tf_op_layer_strided_slice_45 (T [()]                 0           tf_op_layer_Shape_67[0][0]       \n",
      "__________________________________________________________________________________________________\n",
      "tf_op_layer_shape_68 (TensorFlo [(2,)]               0           tf_op_layer_strided_slice_44[0][0\n",
      "                                                                 tf_op_layer_strided_slice_45[0][0\n",
      "__________________________________________________________________________________________________\n",
      "dense_90 (Dense)                (None, 50)           5050        dense_88[0][0]                   \n",
      "__________________________________________________________________________________________________\n",
      "tf_op_layer_RandomStandardNorma [(None, None)]       0           tf_op_layer_shape_68[0][0]       \n",
      "__________________________________________________________________________________________________\n",
      "tf_op_layer_Mul_67 (TensorFlowO [(None, 50)]         0           dense_90[0][0]                   \n",
      "__________________________________________________________________________________________________\n",
      "tf_op_layer_Mul_66 (TensorFlowO [(None, None)]       0           tf_op_layer_RandomStandardNormal_\n",
      "__________________________________________________________________________________________________\n",
      "tf_op_layer_Exp_22 (TensorFlowO [(None, 50)]         0           tf_op_layer_Mul_67[0][0]         \n",
      "__________________________________________________________________________________________________\n",
      "tf_op_layer_Add_22 (TensorFlowO [(None, None)]       0           tf_op_layer_Mul_66[0][0]         \n",
      "__________________________________________________________________________________________________\n",
      "tf_op_layer_Mul_68 (TensorFlowO [(None, 50)]         0           tf_op_layer_Exp_22[0][0]         \n",
      "                                                                 tf_op_layer_Add_22[0][0]         \n",
      "__________________________________________________________________________________________________\n",
      "tf_op_layer_AddV2_22 (TensorFlo [(None, 50)]         0           dense_89[0][0]                   \n",
      "                                                                 tf_op_layer_Mul_68[0][0]         \n",
      "==================================================================================================\n",
      "Total params: 30,268\n",
      "Trainable params: 30,268\n",
      "Non-trainable params: 0\n",
      "__________________________________________________________________________________________________\n",
      "100\n",
      "Model: \"functional_71\"\n",
      "__________________________________________________________________________________________________\n",
      "Layer (type)                    Output Shape         Param #     Connected to                     \n",
      "==================================================================================================\n",
      "encoder_input_features (InputLa [(None, 100, 3)]     0                                            \n",
      "__________________________________________________________________________________________________\n",
      "encoder_input_adjacency (InputL [(None, 100, 100)]   0                                            \n",
      "__________________________________________________________________________________________________\n",
      "graph_convolution_61 (GraphConv (None, 100, 6)       42          encoder_input_features[0][0]     \n",
      "                                                                 encoder_input_adjacency[0][0]    \n",
      "__________________________________________________________________________________________________\n",
      "graph_convolution_62 (GraphConv (None, 100, 2)       26          graph_convolution_61[0][0]       \n",
      "                                                                 encoder_input_adjacency[0][0]    \n",
      "__________________________________________________________________________________________________\n",
      "flatten_23 (Flatten)            (None, 200)          0           graph_convolution_62[0][0]       \n",
      "__________________________________________________________________________________________________\n",
      "dense_91 (Dense)                (None, 100)          20100       flatten_23[0][0]                 \n",
      "__________________________________________________________________________________________________\n",
      "dense_92 (Dense)                (None, 50)           5050        dense_91[0][0]                   \n",
      "__________________________________________________________________________________________________\n",
      "tf_op_layer_Shape_69 (TensorFlo [(2,)]               0           dense_92[0][0]                   \n",
      "__________________________________________________________________________________________________\n",
      "tf_op_layer_Shape_70 (TensorFlo [(2,)]               0           dense_92[0][0]                   \n",
      "__________________________________________________________________________________________________\n",
      "tf_op_layer_strided_slice_46 (T [()]                 0           tf_op_layer_Shape_69[0][0]       \n",
      "__________________________________________________________________________________________________\n",
      "tf_op_layer_strided_slice_47 (T [()]                 0           tf_op_layer_Shape_70[0][0]       \n",
      "__________________________________________________________________________________________________\n",
      "tf_op_layer_shape_71 (TensorFlo [(2,)]               0           tf_op_layer_strided_slice_46[0][0\n",
      "                                                                 tf_op_layer_strided_slice_47[0][0\n",
      "__________________________________________________________________________________________________\n",
      "dense_93 (Dense)                (None, 50)           5050        dense_91[0][0]                   \n",
      "__________________________________________________________________________________________________\n",
      "tf_op_layer_RandomStandardNorma [(None, None)]       0           tf_op_layer_shape_71[0][0]       \n",
      "__________________________________________________________________________________________________\n",
      "tf_op_layer_Mul_70 (TensorFlowO [(None, 50)]         0           dense_93[0][0]                   \n",
      "__________________________________________________________________________________________________\n",
      "tf_op_layer_Mul_69 (TensorFlowO [(None, None)]       0           tf_op_layer_RandomStandardNormal_\n",
      "__________________________________________________________________________________________________\n",
      "tf_op_layer_Exp_23 (TensorFlowO [(None, 50)]         0           tf_op_layer_Mul_70[0][0]         \n",
      "__________________________________________________________________________________________________\n",
      "tf_op_layer_Add_23 (TensorFlowO [(None, None)]       0           tf_op_layer_Mul_69[0][0]         \n",
      "__________________________________________________________________________________________________\n",
      "tf_op_layer_Mul_71 (TensorFlowO [(None, 50)]         0           tf_op_layer_Exp_23[0][0]         \n",
      "                                                                 tf_op_layer_Add_23[0][0]         \n",
      "__________________________________________________________________________________________________\n",
      "tf_op_layer_AddV2_23 (TensorFlo [(None, 50)]         0           dense_92[0][0]                   \n",
      "                                                                 tf_op_layer_Mul_71[0][0]         \n",
      "==================================================================================================\n",
      "Total params: 30,268\n",
      "Trainable params: 30,268\n",
      "Non-trainable params: 0\n",
      "__________________________________________________________________________________________________\n",
      "Model: \"functional_73\"\n",
      "__________________________________________________________________________________________________\n",
      "Layer (type)                    Output Shape         Param #     Connected to                     \n",
      "==================================================================================================\n",
      "decoder_input_latent_space (Inp [(None, 50)]         0                                            \n",
      "__________________________________________________________________________________________________\n",
      "dense_94 (Dense)                (None, 100)          5100        decoder_input_latent_space[0][0] \n",
      "__________________________________________________________________________________________________\n",
      "dense_95 (Dense)                (None, 200)          20200       dense_94[0][0]                   \n",
      "__________________________________________________________________________________________________\n",
      "reshape_11 (Reshape)            (None, 100, 2)       0           dense_95[0][0]                   \n",
      "__________________________________________________________________________________________________\n",
      "decoder_input_adjacency (InputL [(None, 100, 100)]   0                                            \n",
      "__________________________________________________________________________________________________\n",
      "graph_convolution_63 (GraphConv (None, 100, 6)       30          reshape_11[0][0]                 \n",
      "                                                                 decoder_input_adjacency[0][0]    \n",
      "__________________________________________________________________________________________________\n",
      "graph_convolution_64 (GraphConv (None, 100, 3)       39          graph_convolution_63[0][0]       \n",
      "                                                                 decoder_input_adjacency[0][0]    \n",
      "==================================================================================================\n",
      "Total params: 25,369\n",
      "Trainable params: 25,369\n",
      "Non-trainable params: 0\n",
      "__________________________________________________________________________________________________\n"
     ]
    }
   ],
   "source": [
    "gcnvae = models.GCNVariationalAutoEncoder(nodes_n=nodes_n, feat_sz=feat_sz, activation=tf.nn.tanh,latent_dim=50,kl_warmup_time=10)\n",
    "gcnvae.compile(optimizer=tf.keras.optimizers.Adam(learning_rate=0.01), run_eagerly=True)"
   ]
  },
  {
   "cell_type": "code",
   "execution_count": 165,
   "id": "intellectual-ebony",
   "metadata": {},
   "outputs": [
    {
     "data": {
      "image/png": "[encoded data removed]",
      "text/plain": [
       "<IPython.core.display.Image object>"
      ]
     },
     "execution_count": 165,
     "metadata": {},
     "output_type": "execute_result"
    }
   ],
   "source": [
    "tf.keras.utils.plot_model(gcnvae, show_shapes=True)"
   ]
  },
  {
   "cell_type": "code",
   "execution_count": 166,
   "id": "frequent-coalition",
   "metadata": {},
   "outputs": [],
   "source": [
    "custom_callback = models.KLWarmupCallback()"
   ]
  },
  {
   "cell_type": "code",
   "execution_count": 167,
   "id": "center-genome",
   "metadata": {
    "scrolled": true
   },
   "outputs": [
    {
     "name": "stdout",
     "output_type": "stream",
     "text": [
      "Epoch 1/30\n",
      "50/50 [==============================] - 5s 107ms/step - loss: 1.5140 - loss_reco: 1.5140 - loss_latent: 18.7938 - beta_kl_warmup: 0.0000e+00 - val_loss: 2.0639 - val_loss_reco: 2.0639 - val_loss_latent: 18396.1172\n",
      "Epoch 2/30\n",
      "50/50 [==============================] - 5s 102ms/step - loss: 1.1178 - loss_reco: 1.0656 - loss_latent: 0.0522 - beta_kl_warmup: 0.1000 - val_loss: 31.7940 - val_loss_reco: 1.9634 - val_loss_latent: 29.8306\n",
      "Epoch 3/30\n",
      "50/50 [==============================] - 5s 100ms/step - loss: 0.9753 - loss_reco: 0.9752 - loss_latent: 3.2719e-05 - beta_kl_warmup: 0.2000 - val_loss: 63.5072 - val_loss_reco: 1.9038 - val_loss_latent: 30.8017\n",
      "Epoch 4/30\n",
      "50/50 [==============================] - 5s 101ms/step - loss: 0.9515 - loss_reco: 0.9515 - loss_latent: 2.9949e-06 - beta_kl_warmup: 0.3000 - val_loss: 94.2665 - val_loss_reco: 1.8650 - val_loss_latent: 30.8005\n",
      "Epoch 5/30\n",
      "50/50 [==============================] - 5s 101ms/step - loss: 0.9358 - loss_reco: 0.9358 - loss_latent: 2.2626e-06 - beta_kl_warmup: 0.4000 - val_loss: 125.3131 - val_loss_reco: 1.8252 - val_loss_latent: 30.8720 ETA: 0s - loss: 0.9319 - loss_reco: 0.9319 - loss_latent: 2.1618e-06 - beta_kl_wa\n",
      "Epoch 6/30\n",
      "50/50 [==============================] - ETA: 0s - loss: 0.9255 - loss_reco: 0.9254 - loss_latent: 2.6982e-06 - beta_kl_warmup: 0.5000 ETA: 0s - loss: 0.9243 - loss_reco: 0.9243 - loss_latent: 2.7995e-06 - beta_kl_warmup: 0. - ETA: 0s - loss: 0.9242 - loss_reco: 0.9241 - loss_latent: 2.8084e-06 - beta\n",
      "Epoch 00006: ReduceLROnPlateau reducing learning rate to 0.0009999999776482583.\n",
      "50/50 [==============================] - 5s 98ms/step - loss: 0.9253 - loss_reco: 0.9253 - loss_latent: 2.6964e-06 - beta_kl_warmup: 0.5000 - val_loss: 156.0043 - val_loss_reco: 1.7930 - val_loss_latent: 30.8423\n",
      "Epoch 00006: early stopping\n"
     ]
    },
    {
     "data": {
      "text/plain": [
       "<tensorflow.python.keras.callbacks.History at 0x7f11a1fe7160>"
      ]
     },
     "execution_count": 167,
     "metadata": {},
     "output_type": "execute_result"
    }
   ],
   "source": [
    "callbacks = [tf.keras.callbacks.ReduceLROnPlateau(factor=0.1, patience=5, verbose=2),\n",
    "            tf.keras.callbacks.EarlyStopping(monitor='val_loss', patience=5, verbose=2),custom_callback] \n",
    "gcnvae.fit(particles_bg, A_tilde_bg, epochs=30, batch_size=128, validation_data = ((particles_bg_valid, A_bg_valid)), callbacks=callbacks) "
   ]
  },
  {
   "cell_type": "code",
   "execution_count": 56,
   "id": "empty-firmware",
   "metadata": {},
   "outputs": [],
   "source": [
    "#background"
   ]
  },
  {
   "cell_type": "code",
   "execution_count": 13,
   "id": "tutorial-graphics",
   "metadata": {},
   "outputs": [
    {
     "name": "stdout",
     "output_type": "stream",
     "text": [
      "Number of jets = 3929\n",
      "Number of constituents (nodes) = 100\n",
      "Number of features = 3\n"
     ]
    }
   ],
   "source": [
    "_,_, particles_bg_test, A_bg_test, A_tilde_bg_test = prepr.prepare_data(filename_bg,2000,train_set_size+1,train_set_size+2000)\n"
   ]
  },
  {
   "cell_type": "code",
   "execution_count": 14,
   "id": "empty-logging",
   "metadata": {},
   "outputs": [
    {
     "name": "stdout",
     "output_type": "stream",
     "text": [
      "Number of jets = 363512\n",
      "Number of constituents (nodes) = 100\n",
      "Number of features = 3\n"
     ]
    }
   ],
   "source": [
    "#signal\n",
    "SIG_PATH = '/eos/project/d/dshep/TOPCLASS/DijetAnomaly/VAE_data/events/RSGraviton_WW_NARROW_13TeV_PU40_1.5TeV_NEW_parts/'\n",
    "filename_sig = SIG_PATH + 'RSGraviton_WW_NARROW_13TeV_PU40_1.5TeV_NEW_concat_001.h5'\n",
    "nodes_n, feat_sz, particles_sig, A_sig, A_tilde_sig = prepr.prepare_data(filename_sig,2000)\n"
   ]
  },
  {
   "cell_type": "code",
   "execution_count": 157,
   "id": "suited-expansion",
   "metadata": {},
   "outputs": [],
   "source": [
    "loaded_1 = tf.keras.models.load_model(\n",
    "    \"output_model_saved_003\", custom_objects={\"GCNVariationalAutoEncoder\": models.GCNVariationalAutoEncoder}\n",
    ")\n"
   ]
  },
  {
   "cell_type": "code",
   "execution_count": 168,
   "id": "solved-tattoo",
   "metadata": {},
   "outputs": [],
   "source": [
    "#Predict\n",
    "\n",
    "#model = loaded_1\n",
    "model = gcnvae\n",
    "\n",
    "features_out_bg_test, z_bg_test, z_mean_bg_test, z_log_var_bg_test = model((particles_bg_test, A_tilde_bg_test))\n",
    "features_out_bg_test = features_out_bg_test.numpy().astype('float32')\n",
    "loss_bg = threeD_loss_manual(particles_bg_test.astype('float32'),features_out_bg_test)\n",
    "\n",
    "features_out_sig, z_sig, z_mean_sig, z_log_var_sig = model((particles_sig, A_tilde_sig))\n",
    "features_out_sig = features_out_sig.numpy().astype('float32')\n",
    "loss_signal = threeD_loss_manual(particles_sig.astype('float32'),features_out_sig)"
   ]
  },
  {
   "cell_type": "code",
   "execution_count": 169,
   "id": "terminal-reynolds",
   "metadata": {},
   "outputs": [
    {
     "data": {
      "image/png": "[encoded data removed]",
      "text/plain": [
       "<Figure size 720x576 with 1 Axes>"
      ]
     },
     "metadata": {
      "needs_background": "light"
     },
     "output_type": "display_data"
    }
   ],
   "source": [
    "plt.style.use('/eos/user/n/nchernya/MLHEP/AnomalyDetection/ADgvae/utils/adfigstyle.mplstyle')\n",
    "\n",
    "max_score = np.quantile(loss_signal,0.9)#,np.max(loss_bg_dist))\n",
    "min_score = np.min(loss_bg)#,np.max(loss_bg_dist))\n",
    "bins = 40\n",
    "# plot BG\n",
    "plt.figure()\n",
    "plt.hist(loss_bg, bins=bins, label='BG', density=True, range=(min_score, max_score), \n",
    "         histtype='step', fill=False, linewidth=1.5)\n",
    "plt.hist(loss_signal, bins=bins, label='SIG', density=True, range=(min_score, max_score), \n",
    "         histtype='step', fill=False, linewidth=1.5)\n",
    "#plt.semilogy()\n",
    "plt.xlabel(\"VAE Chamfer Loss\")\n",
    "plt.ylabel(\"Normalized Dist.\")\n",
    "plt.legend(loc='upper right')\n",
    "plt.show()"
   ]
  },
  {
   "cell_type": "code",
   "execution_count": 172,
   "id": "educated-jurisdiction",
   "metadata": {},
   "outputs": [
    {
     "name": "stdout",
     "output_type": "stream",
     "text": [
      "117.41040039062501 123.30767822265625\n"
     ]
    }
   ],
   "source": [
    "print(np.quantile(loss_bg,0.8),np.quantile(loss_signal,0.8))"
   ]
  },
  {
   "cell_type": "code",
   "execution_count": null,
   "id": "acting-crystal",
   "metadata": {},
   "outputs": [],
   "source": []
  },
  {
   "cell_type": "code",
   "execution_count": 184,
   "id": "renewable-mayor",
   "metadata": {},
   "outputs": [],
   "source": [
    "import sys, os\n",
    "sys.path.append(os.path.abspath(os.path.join('..')))\n",
    "sys.path.append(os.path.abspath(os.path.join('../vande/')))\n",
    "sys.path.append(os.path.abspath(os.path.join('../pofah/')))\n",
    "sys.path.append(os.path.abspath(os.path.join('../sarewt/')))"
   ]
  },
  {
   "cell_type": "code",
   "execution_count": 228,
   "id": "boring-firewall",
   "metadata": {},
   "outputs": [
    {
     "data": {
      "text/plain": [
       "<module 'vande.analysis.analysis_roc' from '/eos/home-n/nchernya/MLHEP/AnomalyDetection/vande/analysis/analysis_roc.py'>"
      ]
     },
     "execution_count": 228,
     "metadata": {},
     "output_type": "execute_result"
    }
   ],
   "source": [
    "import vande.analysis.analysis_roc as ar\n",
    "reload(ar)"
   ]
  },
  {
   "cell_type": "code",
   "execution_count": 234,
   "id": "successful-browser",
   "metadata": {},
   "outputs": [],
   "source": [
    "neg_class_losses = [loss_bg.tolist(),loss_bg_gnn.tolist()]\n",
    "pos_class_losses = [loss_signal.tolist(),loss_signal_gnn.tolist()]"
   ]
  },
  {
   "cell_type": "code",
   "execution_count": 236,
   "id": "clear-railway",
   "metadata": {},
   "outputs": [
    {
     "name": "stderr",
     "output_type": "stream",
     "text": [
      "/eos/home-n/nchernya/MLHEP/AnomalyDetection/vande/analysis/analysis_roc.py:33: RuntimeWarning: divide by zero encountered in true_divide\n",
      "  plt.semilogy(tpr, 1./fpr, label=label + \" (auc \" + \"{0:.3f}\".format(aucs[-1]) + \")\")\n",
      "/eos/home-n/nchernya/MLHEP/AnomalyDetection/vande/analysis/analysis_roc.py:33: RuntimeWarning: divide by zero encountered in true_divide\n",
      "  plt.semilogy(tpr, 1./fpr, label=label + \" (auc \" + \"{0:.3f}\".format(aucs[-1]) + \")\")\n"
     ]
    },
    {
     "data": {
      "text/plain": [
       "[0.5482505, 0.5661335]"
      ]
     },
     "execution_count": 236,
     "metadata": {},
     "output_type": "execute_result"
    }
   ],
   "source": [
    "plt.style.use('/eos/user/n/nchernya/MLHEP/AnomalyDetection/ADgvae/utils/adfigstyle.mplstyle')\n",
    "ar.plot_roc( neg_class_losses, pos_class_losses, legend=['GCN VAE','GAE'], title='ROC ', plot_name='ROC_text', fig_dir='figs/',log_x=False )"
   ]
  },
  {
   "cell_type": "code",
   "execution_count": null,
   "id": "jewish-consequence",
   "metadata": {},
   "outputs": [],
   "source": []
  },
  {
   "cell_type": "code",
   "execution_count": null,
   "id": "million-samba",
   "metadata": {},
   "outputs": [],
   "source": []
  },
  {
   "cell_type": "code",
   "execution_count": null,
   "id": "polished-scheduling",
   "metadata": {},
   "outputs": [],
   "source": []
  },
  {
   "cell_type": "code",
   "execution_count": null,
   "id": "spiritual-landing",
   "metadata": {},
   "outputs": [],
   "source": []
  },
  {
   "cell_type": "code",
   "execution_count": null,
   "id": "guilty-accent",
   "metadata": {},
   "outputs": [],
   "source": []
  },
  {
   "cell_type": "code",
   "execution_count": null,
   "id": "interested-hypothesis",
   "metadata": {},
   "outputs": [],
   "source": []
  },
  {
   "cell_type": "code",
   "execution_count": null,
   "id": "sixth-default",
   "metadata": {},
   "outputs": [],
   "source": []
  },
  {
   "cell_type": "code",
   "execution_count": null,
   "id": "seventh-popularity",
   "metadata": {},
   "outputs": [],
   "source": []
  }
 ],
 "metadata": {
  "kernelspec": {
   "display_name": "Python 3",
   "language": "python",
   "name": "python3"
  },
  "language_info": {
   "codemirror_mode": {
    "name": "ipython",
    "version": 3
   },
   "file_extension": ".py",
   "mimetype": "text/x-python",
   "name": "python",
   "nbconvert_exporter": "python",
   "pygments_lexer": "ipython3",
   "version": "3.8.6"
  }
 },
 "nbformat": 4,
 "nbformat_minor": 5
}
