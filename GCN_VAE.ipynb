{
 "cells": [
  {
   "cell_type": "code",
   "execution_count": 1,
   "id": "chicken-supply",
   "metadata": {},
   "outputs": [],
   "source": [
    "import tensorflow as tf\n",
    "import numpy as np\n",
    "import h5py\n",
    "import matplotlib.pyplot as plt\n",
    "plt.style.use('/eos/user/n/nchernya/MLHEP/AnomalyDetection/ADgvae/utils/adfigstyle.mplstyle')\n",
    "from importlib import reload"
   ]
  },
  {
   "cell_type": "code",
   "execution_count": 2,
   "id": "regulation-elizabeth",
   "metadata": {},
   "outputs": [
    {
     "name": "stderr",
     "output_type": "stream",
     "text": [
      "Using TensorFlow backend.\n"
     ]
    },
    {
     "data": {
      "text/plain": [
       "<module 'utils.preprocessing' from '/eos/home-n/nchernya/MLHEP/AnomalyDetection/ADgvae/utils/preprocessing.py'>"
      ]
     },
     "execution_count": 2,
     "metadata": {},
     "output_type": "execute_result"
    }
   ],
   "source": [
    "import models.models as models\n",
    "reload(models)\n",
    "import utils.preprocessing as prepr\n",
    "reload(prepr)"
   ]
  },
  {
   "cell_type": "code",
   "execution_count": 3,
   "id": "middle-tractor",
   "metadata": {},
   "outputs": [
    {
     "name": "stdout",
     "output_type": "stream",
     "text": [
      "Number of jets = 12571\n",
      "Number of constituents (nodes) = 100\n",
      "Number of features = 3\n"
     ]
    },
    {
     "name": "stderr",
     "output_type": "stream",
     "text": [
      "/eos/home-n/nchernya/MLHEP/AnomalyDetection/ADgvae/utils/preprocessing.py:38: RuntimeWarning: divide by zero encountered in power\n",
      "  D = np.nan_to_num(np.power(D,-0.5), posinf=0, neginf=0) # normalize (**-(1/2))\n"
     ]
    },
    {
     "name": "stdout",
     "output_type": "stream",
     "text": [
      "Number of jets = 9840\n",
      "Number of constituents (nodes) = 100\n",
      "Number of features = 3\n",
      "Number of jets = 2518\n",
      "Number of constituents (nodes) = 100\n",
      "Number of features = 3\n"
     ]
    }
   ],
   "source": [
    "#Data Samples\n",
    "DATA_PATH = '/eos/project/d/dshep/TOPCLASS/DijetAnomaly/VAE_data/events/'\n",
    "\n",
    "TRAIN_NAME = 'qcd_sqrtshatTeV_13TeV_PU40_NEW_sideband'\n",
    "filename_bg = DATA_PATH + TRAIN_NAME + '_parts/' + TRAIN_NAME + '_000.h5'\n",
    "batch_size = 128\n",
    "train_set_size = batch_size*50\n",
    "nodes_n, feat_sz, particles_bg, A_bg, A_tilde_bg = prepr.prepare_data(filename_bg,train_set_size,0,train_set_size+1)\n",
    "#BG test\n",
    "_,_, particles_bg_test, A_bg_test, A_tilde_bg_test = prepr.prepare_data(filename_bg,5000,train_set_size+1,train_set_size+5000)\n",
    "\n",
    "# BG validation\n",
    "VALID_NAME = 'qcd_sqrtshatTeV_13TeV_PU40_NEW_EXT_sideband'\n",
    "filename_bg_valid = DATA_PATH + VALID_NAME + '_parts/' + VALID_NAME + '_000.h5'\n",
    "batch_size = 128\n",
    "valid_set_size = batch_size*10\n",
    "_,_, particles_bg_valid, A_bg_valid, A_tilde_bg_valid = prepr.prepare_data(filename_bg,valid_set_size,0,valid_set_size+1)\n"
   ]
  },
  {
   "cell_type": "code",
   "execution_count": null,
   "id": "earlier-overall",
   "metadata": {},
   "outputs": [],
   "source": []
  },
  {
   "cell_type": "code",
   "execution_count": null,
   "id": "serial-smart",
   "metadata": {},
   "outputs": [],
   "source": []
  },
  {
   "cell_type": "code",
   "execution_count": 4,
   "id": "painful-resolution",
   "metadata": {},
   "outputs": [
    {
     "name": "stdout",
     "output_type": "stream",
     "text": [
      "Number of jets = 9966\n",
      "Number of constituents (nodes) = 100\n",
      "Number of features = 3\n"
     ]
    }
   ],
   "source": [
    "#signal\n",
    "SIG_MASS = '3.5'\n",
    "SIG_NAME = 'RSGraviton_WW_NARROW_13TeV_PU40_'+SIG_MASS+'TeV_NEW'\n",
    "filename_sig = DATA_PATH + SIG_NAME + '_parts/' + SIG_NAME + '_concat_001.h5'\n",
    "_,_, particles_sig, A_sig, A_tilde_sig = prepr.prepare_data(filename_sig,5000,0,5000)"
   ]
  },
  {
   "cell_type": "code",
   "execution_count": 5,
   "id": "experimental-comment",
   "metadata": {},
   "outputs": [
    {
     "name": "stdout",
     "output_type": "stream",
     "text": [
      "(6400, 100, 3) (6400, 100, 100) (6400, 100, 100)\n"
     ]
    }
   ],
   "source": [
    "print(particles_bg.shape, A_tilde_bg.shape, A_bg.shape)"
   ]
  },
  {
   "cell_type": "code",
   "execution_count": null,
   "id": "weekly-stroke",
   "metadata": {},
   "outputs": [],
   "source": [
    "#Do normalization now to see what it does"
   ]
  },
  {
   "cell_type": "markdown",
   "id": "activated-transfer",
   "metadata": {},
   "source": [
    "# Plot features"
   ]
  },
  {
   "cell_type": "code",
   "execution_count": 1,
   "id": "horizontal-excitement",
   "metadata": {
    "scrolled": true
   },
   "outputs": [
    {
     "ename": "NameError",
     "evalue": "name 'np' is not defined",
     "output_type": "error",
     "traceback": [
      "\u001b[0;31m---------------------------------------------------------------------------\u001b[0m",
      "\u001b[0;31mNameError\u001b[0m                                 Traceback (most recent call last)",
      "\u001b[0;32m<ipython-input-1-7978eaa71121>\u001b[0m in \u001b[0;36m<module>\u001b[0;34m\u001b[0m\n\u001b[1;32m      1\u001b[0m \u001b[0mfeats\u001b[0m \u001b[0;34m=\u001b[0m \u001b[0;34m'eta,phi,pt'\u001b[0m\u001b[0;34m.\u001b[0m\u001b[0msplit\u001b[0m\u001b[0;34m(\u001b[0m\u001b[0;34m','\u001b[0m\u001b[0;34m)\u001b[0m\u001b[0;34m\u001b[0m\u001b[0;34m\u001b[0m\u001b[0m\n\u001b[1;32m      2\u001b[0m \u001b[0;32mfor\u001b[0m \u001b[0mi\u001b[0m \u001b[0;32min\u001b[0m \u001b[0mrange\u001b[0m\u001b[0;34m(\u001b[0m\u001b[0;36m0\u001b[0m\u001b[0;34m,\u001b[0m\u001b[0;36m3\u001b[0m\u001b[0;34m)\u001b[0m\u001b[0;34m:\u001b[0m\u001b[0;34m\u001b[0m\u001b[0;34m\u001b[0m\u001b[0m\n\u001b[0;32m----> 3\u001b[0;31m     \u001b[0mxmin\u001b[0m \u001b[0;34m=\u001b[0m \u001b[0mnp\u001b[0m\u001b[0;34m.\u001b[0m\u001b[0mquantile\u001b[0m\u001b[0;34m(\u001b[0m\u001b[0mparticles_bg\u001b[0m\u001b[0;34m[\u001b[0m\u001b[0;34m:\u001b[0m\u001b[0;34m,\u001b[0m\u001b[0;34m:\u001b[0m\u001b[0;34m,\u001b[0m\u001b[0mi\u001b[0m\u001b[0;34m]\u001b[0m\u001b[0;34m.\u001b[0m\u001b[0mflatten\u001b[0m\u001b[0;34m(\u001b[0m\u001b[0;34m)\u001b[0m\u001b[0;34m,\u001b[0m\u001b[0;36m0.05\u001b[0m\u001b[0;34m)\u001b[0m\u001b[0;34m\u001b[0m\u001b[0;34m\u001b[0m\u001b[0m\n\u001b[0m\u001b[1;32m      4\u001b[0m     \u001b[0mxmax\u001b[0m \u001b[0;34m=\u001b[0m \u001b[0mnp\u001b[0m\u001b[0;34m.\u001b[0m\u001b[0mquantile\u001b[0m\u001b[0;34m(\u001b[0m\u001b[0mparticles_bg\u001b[0m\u001b[0;34m[\u001b[0m\u001b[0;34m:\u001b[0m\u001b[0;34m,\u001b[0m\u001b[0;34m:\u001b[0m\u001b[0;34m,\u001b[0m\u001b[0mi\u001b[0m\u001b[0;34m]\u001b[0m\u001b[0;34m.\u001b[0m\u001b[0mflatten\u001b[0m\u001b[0;34m(\u001b[0m\u001b[0;34m)\u001b[0m\u001b[0;34m,\u001b[0m\u001b[0;36m0.98\u001b[0m\u001b[0;34m)\u001b[0m\u001b[0;34m\u001b[0m\u001b[0;34m\u001b[0m\u001b[0m\n\u001b[1;32m      5\u001b[0m     \u001b[0mplt\u001b[0m\u001b[0;34m.\u001b[0m\u001b[0mfigure\u001b[0m\u001b[0;34m(\u001b[0m\u001b[0;34m)\u001b[0m\u001b[0;34m\u001b[0m\u001b[0;34m\u001b[0m\u001b[0m\n",
      "\u001b[0;31mNameError\u001b[0m: name 'np' is not defined"
     ]
    }
   ],
   "source": [
    "feats = 'eta,phi,pt'.split(',')\n",
    "for i in range(0,3):\n",
    "    xmin = np.quantile(particles_bg[:,:,i].flatten(),0.05)\n",
    "    xmax = np.quantile(particles_bg[:,:,i].flatten(),0.98)\n",
    "    plt.figure()\n",
    "    plt.hist(particles_bg[:,:,i].flatten(), bins=10, label='Original', density=True, histtype='step', fill=False, linewidth=2)\n",
    "    plt.xlabel(feats[i])\n",
    "    plt.ylabel(\"Normalized\")\n",
    "    plt.legend(loc='upper right')\n",
    "    #plt.semilogy()\n",
    "    plt.show()"
   ]
  },
  {
   "cell_type": "code",
   "execution_count": null,
   "id": "french-engagement",
   "metadata": {},
   "outputs": [],
   "source": []
  },
  {
   "cell_type": "code",
   "execution_count": null,
   "id": "outdoor-trademark",
   "metadata": {},
   "outputs": [],
   "source": []
  },
  {
   "cell_type": "code",
   "execution_count": null,
   "id": "sized-oregon",
   "metadata": {},
   "outputs": [],
   "source": []
  },
  {
   "cell_type": "code",
   "execution_count": null,
   "id": "signal-flour",
   "metadata": {},
   "outputs": [],
   "source": []
  },
  {
   "cell_type": "markdown",
   "id": "funded-killer",
   "metadata": {},
   "source": []
  },
  {
   "cell_type": "code",
   "execution_count": null,
   "id": "usual-render",
   "metadata": {},
   "outputs": [],
   "source": []
  },
  {
   "cell_type": "markdown",
   "id": "satisfied-antibody",
   "metadata": {},
   "source": [
    "# Autoencoder"
   ]
  },
  {
   "cell_type": "code",
   "execution_count": 7,
   "id": "corrected-lodging",
   "metadata": {},
   "outputs": [
    {
     "name": "stdout",
     "output_type": "stream",
     "text": [
      "Model: \"functional_1\"\n",
      "__________________________________________________________________________________________________\n",
      "Layer (type)                    Output Shape         Param #     Connected to                     \n",
      "==================================================================================================\n",
      "encoder_input_features (InputLa [(None, 100, 3)]     0                                            \n",
      "__________________________________________________________________________________________________\n",
      "encoder_input_adjacency (InputL [(None, 100, 100)]   0                                            \n",
      "__________________________________________________________________________________________________\n",
      "graph_convolution (GraphConvolu (None, 100, 6)       42          encoder_input_features[0][0]     \n",
      "                                                                 encoder_input_adjacency[0][0]    \n",
      "__________________________________________________________________________________________________\n",
      "graph_convolution_1 (GraphConvo (None, 100, 8)       104         graph_convolution[0][0]          \n",
      "                                                                 encoder_input_adjacency[0][0]    \n",
      "__________________________________________________________________________________________________\n",
      "graph_convolution_2 (GraphConvo (None, 100, 4)       68          graph_convolution_1[0][0]        \n",
      "                                                                 encoder_input_adjacency[0][0]    \n",
      "__________________________________________________________________________________________________\n",
      "graph_convolution_3 (GraphConvo (None, 100, 2)       18          graph_convolution_2[0][0]        \n",
      "                                                                 encoder_input_adjacency[0][0]    \n",
      "__________________________________________________________________________________________________\n",
      "graph_convolution_4 (GraphConvo (None, 100, 1)       5           graph_convolution_3[0][0]        \n",
      "                                                                 encoder_input_adjacency[0][0]    \n",
      "==================================================================================================\n",
      "Total params: 237\n",
      "Trainable params: 237\n",
      "Non-trainable params: 0\n",
      "__________________________________________________________________________________________________\n"
     ]
    }
   ],
   "source": [
    "gnn = models.GraphAutoencoder(nodes_n=nodes_n, feat_sz=feat_sz, activation=tf.nn.tanh)\n",
    "gnn.compile(optimizer=tf.keras.optimizers.Adam(learning_rate=0.01), run_eagerly=True) "
   ]
  },
  {
   "cell_type": "code",
   "execution_count": 11,
   "id": "north-flood",
   "metadata": {
    "scrolled": true
   },
   "outputs": [
    {
     "name": "stdout",
     "output_type": "stream",
     "text": [
      "Epoch 1/50\n",
      "38/38 [==============================] - 5s 120ms/step - val_loss: 0.4240\n",
      "Epoch 2/50\n",
      "38/38 [==============================] - 4s 116ms/step - val_loss: 0.4240\n",
      "Epoch 3/50\n",
      "38/38 [==============================] - 4s 113ms/step - val_loss: 0.4240\n",
      "Epoch 4/50\n",
      "38/38 [==============================] - 4s 111ms/step - val_loss: 0.4240\n",
      "Epoch 5/50\n",
      "38/38 [==============================] - 4s 116ms/step - val_loss: 0.4240\n",
      "Epoch 6/50\n",
      "38/38 [==============================] - ETA: 0s\n",
      "Epoch 00006: ReduceLROnPlateau reducing learning rate to 9.99999883788405e-07.\n",
      "38/38 [==============================] - 4s 107ms/step - val_loss: 0.4240\n",
      "Epoch 7/50\n",
      "38/38 [==============================] - 4s 108ms/step - val_loss: 0.4240\n",
      "Epoch 8/50\n",
      "38/38 [==============================] - 4s 113ms/step - val_loss: 0.4240\n",
      "Epoch 00008: early stopping\n"
     ]
    },
    {
     "data": {
      "text/plain": [
       "<tensorflow.python.keras.callbacks.History at 0x7fc150a1ae50>"
      ]
     },
     "execution_count": 11,
     "metadata": {},
     "output_type": "execute_result"
    }
   ],
   "source": [
    "callbacks = [tf.keras.callbacks.ReduceLROnPlateau(factor=0.1, patience=5, verbose=1),\n",
    "            tf.keras.callbacks.EarlyStopping(monitor='val_loss', patience=5, verbose=1)]\n",
    "gnn.fit((particles_bg, A_tilde_bg), A_bg, epochs=50, batch_size=128, validation_split=0.25, callbacks=callbacks)"
   ]
  },
  {
   "cell_type": "markdown",
   "id": "quiet-carolina",
   "metadata": {},
   "source": [
    "## Predict BG and Sig"
   ]
  },
  {
   "cell_type": "code",
   "execution_count": null,
   "id": "extra-conference",
   "metadata": {},
   "outputs": [],
   "source": [
    "\n"
   ]
  },
  {
   "cell_type": "code",
   "execution_count": 12,
   "id": "compound-impression",
   "metadata": {},
   "outputs": [],
   "source": [
    "z_sig, A_pred_sig = gnn((particles_sig, A_tilde_sig))\n",
    "z_bg_test, A_pred_bg_test = gnn((particles_bg_test, A_tilde_bg_test))\n",
    "loss_signal_gnn = tf.math.reduce_mean(tf.nn.sigmoid_cross_entropy_with_logits(A_sig, A_pred_sig), axis=(1,2)).numpy() #predicted adjecny, but not set to 0/1 yet\n",
    "loss_bg_gnn = tf.math.reduce_mean(tf.nn.sigmoid_cross_entropy_with_logits(A_bg_test, A_pred_bg_test), axis=(1,2)).numpy()"
   ]
  },
  {
   "cell_type": "code",
   "execution_count": 13,
   "id": "diverse-technique",
   "metadata": {
    "scrolled": false
   },
   "outputs": [
    {
     "data": {
      "image/png": "[encoded data removed]",
      "text/plain": [
       "<Figure size 432x288 with 1 Axes>"
      ]
     },
     "metadata": {
      "needs_background": "light"
     },
     "output_type": "display_data"
    }
   ],
   "source": [
    "max_score = np.quantile(loss_signal_gnn,0.999)#,np.max(loss_bg_dist))\n",
    "min_score = np.quantile(loss_bg_gnn,0.05)#,np.max(loss_bg_dist))\n",
    "bins = 20\n",
    "# plot BG\n",
    "plt.figure()\n",
    "plt.hist(loss_bg_gnn, bins=bins, label='BG', density=True, range=(min_score, max_score), \n",
    "         histtype='step', fill=False, linewidth=2)\n",
    "plt.hist(loss_signal_gnn, bins=bins, label='SIG', density=True, range=(min_score, max_score), \n",
    "         histtype='step', fill=False, linewidth=2)\n",
    "#plt.semilogy()\n",
    "plt.xlabel(\"AE Loss\")\n",
    "plt.ylabel(\"Normalized Dist\")\n",
    "plt.grid(True)\n",
    "plt.legend(loc='upper right')\n",
    "plt.show()"
   ]
  },
  {
   "cell_type": "markdown",
   "id": "intensive-commonwealth",
   "metadata": {},
   "source": [
    "# GVAE"
   ]
  },
  {
   "cell_type": "code",
   "execution_count": 14,
   "id": "substantial-biography",
   "metadata": {},
   "outputs": [],
   "source": [
    "gvae = models.GraphVariationalAutoencoder(nodes_n=nodes_n, feat_sz=feat_sz, activation=tf.nn.tanh)\n",
    "gvae.compile(optimizer=tf.keras.optimizers.Adam(learning_rate=0.001), run_eagerly=True) "
   ]
  },
  {
   "cell_type": "code",
   "execution_count": 15,
   "id": "national-acoustic",
   "metadata": {
    "scrolled": true
   },
   "outputs": [
    {
     "name": "stdout",
     "output_type": "stream",
     "text": [
      "Epoch 1/30\n",
      "50/50 [==============================] - 4s 84ms/step - loss: 1.9692 - loss_reco: 0.7550 - loss_latent: 1.2142 - val_loss: 1.7923 - val_loss_reco: 0.6916 - val_loss_latent: 1.1007\n",
      "Epoch 2/30\n",
      "50/50 [==============================] - 5s 97ms/step - loss: 1.6587 - loss_reco: 0.6679 - loss_latent: 0.9908 - val_loss: 1.5036 - val_loss_reco: 0.6156 - val_loss_latent: 0.8880\n",
      "Epoch 3/30\n",
      "50/50 [==============================] - 5s 100ms/step - loss: 1.3976 - loss_reco: 0.6033 - loss_latent: 0.7943 - val_loss: 1.2698 - val_loss_reco: 0.5622 - val_loss_latent: 0.7076\n",
      "Epoch 4/30\n",
      "50/50 [==============================] - 5s 99ms/step - loss: 1.1824 - loss_reco: 0.5499 - loss_latent: 0.6325 - val_loss: 1.0781 - val_loss_reco: 0.5137 - val_loss_latent: 0.5644\n",
      "Epoch 5/30\n",
      "50/50 [==============================] - 5s 98ms/step - loss: 1.0151 - loss_reco: 0.5081 - loss_latent: 0.5069 - val_loss: 0.9330 - val_loss_reco: 0.4777 - val_loss_latent: 0.4553\n",
      "Epoch 6/30\n",
      "50/50 [==============================] - 5s 97ms/step - loss: 0.8903 - loss_reco: 0.4779 - loss_latent: 0.4124 - val_loss: 0.8312 - val_loss_reco: 0.4573 - val_loss_latent: 0.3739\n",
      "Epoch 7/30\n",
      "50/50 [==============================] - 5s 96ms/step - loss: 0.7997 - loss_reco: 0.4576 - loss_latent: 0.3421 - val_loss: 0.7490 - val_loss_reco: 0.4358 - val_loss_latent: 0.3132\n",
      "Epoch 8/30\n",
      "50/50 [==============================] - 5s 96ms/step - loss: 0.7342 - loss_reco: 0.4450 - loss_latent: 0.2892 - val_loss: 0.6953 - val_loss_reco: 0.4285 - val_loss_latent: 0.2668\n",
      "Epoch 9/30\n",
      "50/50 [==============================] - 5s 95ms/step - loss: 0.6859 - loss_reco: 0.4378 - loss_latent: 0.2481 - val_loss: 0.6549 - val_loss_reco: 0.4249 - val_loss_latent: 0.2300\n",
      "Epoch 10/30\n",
      "50/50 [==============================] - 5s 98ms/step - loss: 0.6481 - loss_reco: 0.4333 - loss_latent: 0.2148 - val_loss: 0.6213 - val_loss_reco: 0.4216 - val_loss_latent: 0.1997\n",
      "Epoch 11/30\n",
      "50/50 [==============================] - 5s 95ms/step - loss: 0.6190 - loss_reco: 0.4320 - loss_latent: 0.1871 - val_loss: 0.5956 - val_loss_reco: 0.4216 - val_loss_latent: 0.1740\n",
      "Epoch 12/30\n",
      "50/50 [==============================] - 5s 97ms/step - loss: 0.5948 - loss_reco: 0.4315 - loss_latent: 0.1633 - val_loss: 0.5741 - val_loss_reco: 0.4222 - val_loss_latent: 0.1519\n",
      "Epoch 13/30\n",
      "50/50 [==============================] - 5s 98ms/step - loss: 0.5750 - loss_reco: 0.4324 - loss_latent: 0.1427 - val_loss: 0.5532 - val_loss_reco: 0.4206 - val_loss_latent: 0.1327\n",
      "Epoch 14/30\n",
      "50/50 [==============================] - 5s 100ms/step - loss: 0.5591 - loss_reco: 0.4341 - loss_latent: 0.1250 - val_loss: 0.5400 - val_loss_reco: 0.4238 - val_loss_latent: 0.1161\n",
      "Epoch 15/30\n",
      "50/50 [==============================] - 5s 95ms/step - loss: 0.5452 - loss_reco: 0.4356 - loss_latent: 0.1096 - val_loss: 0.5295 - val_loss_reco: 0.4276 - val_loss_latent: 0.1019\n",
      "Epoch 16/30\n",
      "50/50 [==============================] - 5s 96ms/step - loss: 0.5334 - loss_reco: 0.4371 - loss_latent: 0.0963 - val_loss: 0.5196 - val_loss_reco: 0.4299 - val_loss_latent: 0.0897\n",
      "Epoch 17/30\n",
      "50/50 [==============================] - 5s 97ms/step - loss: 0.5243 - loss_reco: 0.4394 - loss_latent: 0.0849 - val_loss: 0.5115 - val_loss_reco: 0.4321 - val_loss_latent: 0.0793\n",
      "Epoch 18/30\n",
      "50/50 [==============================] - 5s 97ms/step - loss: 0.5163 - loss_reco: 0.4410 - loss_latent: 0.0753 - val_loss: 0.5034 - val_loss_reco: 0.4329 - val_loss_latent: 0.0705\n",
      "Epoch 19/30\n",
      "50/50 [==============================] - 5s 97ms/step - loss: 0.5098 - loss_reco: 0.4427 - loss_latent: 0.0670 - val_loss: 0.4979 - val_loss_reco: 0.4348 - val_loss_latent: 0.0631\n",
      "Epoch 20/30\n",
      "50/50 [==============================] - 5s 97ms/step - loss: 0.5043 - loss_reco: 0.4443 - loss_latent: 0.0601 - val_loss: 0.4931 - val_loss_reco: 0.4363 - val_loss_latent: 0.0568\n",
      "Epoch 21/30\n",
      "50/50 [==============================] - 5s 96ms/step - loss: 0.5000 - loss_reco: 0.4457 - loss_latent: 0.0543 - val_loss: 0.4877 - val_loss_reco: 0.4361 - val_loss_latent: 0.0515\n",
      "Epoch 22/30\n",
      "50/50 [==============================] - 5s 96ms/step - loss: 0.4958 - loss_reco: 0.4465 - loss_latent: 0.0493 - val_loss: 0.4858 - val_loss_reco: 0.4388 - val_loss_latent: 0.0471\n",
      "Epoch 23/30\n",
      "50/50 [==============================] - 5s 96ms/step - loss: 0.4924 - loss_reco: 0.4473 - loss_latent: 0.0451 - val_loss: 0.4820 - val_loss_reco: 0.4387 - val_loss_latent: 0.0433\n",
      "Epoch 24/30\n",
      "50/50 [==============================] - 5s 96ms/step - loss: 0.4900 - loss_reco: 0.4485 - loss_latent: 0.0415 - val_loss: 0.4785 - val_loss_reco: 0.4383 - val_loss_latent: 0.0401\n",
      "Epoch 25/30\n",
      "50/50 [==============================] - 5s 97ms/step - loss: 0.4877 - loss_reco: 0.4491 - loss_latent: 0.0386 - val_loss: 0.4796 - val_loss_reco: 0.4422 - val_loss_latent: 0.0375\n",
      "Epoch 26/30\n",
      "50/50 [==============================] - 5s 97ms/step - loss: 0.4853 - loss_reco: 0.4493 - loss_latent: 0.0361 - val_loss: 0.4752 - val_loss_reco: 0.4400 - val_loss_latent: 0.0353\n",
      "Epoch 27/30\n",
      "50/50 [==============================] - 5s 100ms/step - loss: 0.4834 - loss_reco: 0.4494 - loss_latent: 0.0339 - val_loss: 0.4738 - val_loss_reco: 0.4405 - val_loss_latent: 0.0333\n",
      "Epoch 28/30\n",
      "50/50 [==============================] - 5s 98ms/step - loss: 0.4816 - loss_reco: 0.4495 - loss_latent: 0.0322 - val_loss: 0.4714 - val_loss_reco: 0.4397 - val_loss_latent: 0.0317\n",
      "Epoch 29/30\n",
      "50/50 [==============================] - 5s 102ms/step - loss: 0.4800 - loss_reco: 0.4493 - loss_latent: 0.0307 - val_loss: 0.4727 - val_loss_reco: 0.4424 - val_loss_latent: 0.0303\n",
      "Epoch 30/30\n",
      "50/50 [==============================] - 5s 96ms/step - loss: 0.4790 - loss_reco: 0.4496 - loss_latent: 0.0294 - val_loss: 0.4681 - val_loss_reco: 0.4390 - val_loss_latent: 0.0292\n"
     ]
    },
    {
     "data": {
      "text/plain": [
       "<tensorflow.python.keras.callbacks.History at 0x7fc1508a5f10>"
      ]
     },
     "execution_count": 15,
     "metadata": {},
     "output_type": "execute_result"
    }
   ],
   "source": [
    "callbacks = [tf.keras.callbacks.ReduceLROnPlateau(factor=0.1, patience=5, verbose=2),\n",
    "            tf.keras.callbacks.EarlyStopping(monitor='val_loss', patience=5, verbose=2)] \n",
    "gvae.fit((particles_bg, A_tilde_bg), A_bg, epochs=30, batch_size=128, validation_data = ((particles_bg_valid, A_tilde_bg_valid),A_bg_valid), callbacks=callbacks) "
   ]
  },
  {
   "cell_type": "code",
   "execution_count": 16,
   "id": "compound-faith",
   "metadata": {},
   "outputs": [],
   "source": [
    "z_sig, z_mean_sig, z_log_var_sig, A_pred_sig = gvae((particles_sig, A_tilde_sig))\n",
    "z_bg_test,z_mean_bg_test, z_log_var_bg_test, A_pred_bg_test = gvae((particles_bg_test, A_tilde_bg_test))\n",
    "loss_signal_gvae = tf.math.reduce_mean(tf.nn.sigmoid_cross_entropy_with_logits(A_sig, A_pred_sig), axis=(1,2)).numpy() #predicted adjecny, but not set to 0/1 yet\n",
    "loss_bg_gvae = tf.math.reduce_mean(tf.nn.sigmoid_cross_entropy_with_logits(A_bg_test, A_pred_bg_test), axis=(1,2)).numpy()\n"
   ]
  },
  {
   "cell_type": "code",
   "execution_count": 17,
   "id": "healthy-decline",
   "metadata": {},
   "outputs": [
    {
     "data": {
      "image/png": "[encoded data removed]",
      "text/plain": [
       "<Figure size 720x576 with 1 Axes>"
      ]
     },
     "metadata": {
      "needs_background": "light"
     },
     "output_type": "display_data"
    }
   ],
   "source": [
    "plt.style.use('/eos/user/n/nchernya/MLHEP/AnomalyDetection/ADgvae/utils/adfigstyle.mplstyle')\n",
    "\n",
    "max_score = np.quantile(loss_signal_gvae,0.95)#,np.max(loss_bg_dist))\n",
    "min_score = np.min(loss_bg_gvae)#,np.max(loss_bg_dist))\n",
    "bins = 30\n",
    "# plot BG\n",
    "plt.figure()\n",
    "plt.hist(loss_bg_gvae, bins=bins, label='BG', density=True, range=(min_score, max_score), \n",
    "         histtype='step', fill=False, linewidth=1.5)\n",
    "plt.hist(loss_signal_gvae, bins=bins, label='SIG', density=True, range=(min_score, max_score), \n",
    "         histtype='step', fill=False, linewidth=1.5)\n",
    "#plt.semilogy()\n",
    "plt.xlabel(\"GVAE Chamfer Loss\")\n",
    "plt.ylabel(\"Normalized Dist.\")\n",
    "plt.legend(loc='upper right')\n",
    "plt.show()"
   ]
  },
  {
   "cell_type": "code",
   "execution_count": null,
   "id": "quarterly-dietary",
   "metadata": {},
   "outputs": [],
   "source": []
  },
  {
   "cell_type": "markdown",
   "id": "facial-assembly",
   "metadata": {},
   "source": [
    "# GCN VAE"
   ]
  },
  {
   "cell_type": "code",
   "execution_count": 18,
   "id": "academic-recruitment",
   "metadata": {},
   "outputs": [],
   "source": [
    "def threeD_loss_manual(inputs, outputs):\n",
    "    distances = np.sum(np.subtract(inputs[:,:,np.newaxis,:],outputs[:,np.newaxis,:,:])**2, axis=-1)\n",
    "    min_dist_to_inputs = np.min(distances,axis=1)\n",
    "    min_dist_to_outputs = np.min(distances,axis=2)\n",
    "    return np.sum(min_dist_to_inputs,axis=1) + np.sum(min_dist_to_outputs,axis=1)\n",
    "\n"
   ]
  },
  {
   "cell_type": "code",
   "execution_count": 19,
   "id": "otherwise-stone",
   "metadata": {},
   "outputs": [
    {
     "data": {
      "text/plain": [
       "<module 'utils.preprocessing' from '/eos/home-n/nchernya/MLHEP/AnomalyDetection/ADgvae/utils/preprocessing.py'>"
      ]
     },
     "execution_count": 19,
     "metadata": {},
     "output_type": "execute_result"
    }
   ],
   "source": [
    "import models.losses as losses\n",
    "reload(losses)\n",
    "import models.models as models\n",
    "reload(models)\n",
    "import utils.preprocessing as prepr\n",
    "reload(prepr)\n"
   ]
  },
  {
   "cell_type": "code",
   "execution_count": 20,
   "id": "turned-quebec",
   "metadata": {
    "scrolled": true
   },
   "outputs": [
    {
     "name": "stdout",
     "output_type": "stream",
     "text": [
      "100\n",
      "Model: \"functional_5\"\n",
      "__________________________________________________________________________________________________\n",
      "Layer (type)                    Output Shape         Param #     Connected to                     \n",
      "==================================================================================================\n",
      "encoder_input_features (InputLa [(None, 100, 3)]     0                                            \n",
      "__________________________________________________________________________________________________\n",
      "encoder_input_adjacency (InputL [(None, 100, 100)]   0                                            \n",
      "__________________________________________________________________________________________________\n",
      "graph_convolution_8 (GraphConvo (None, 100, 6)       42          encoder_input_features[0][0]     \n",
      "                                                                 encoder_input_adjacency[0][0]    \n",
      "__________________________________________________________________________________________________\n",
      "graph_convolution_9 (GraphConvo (None, 100, 2)       26          graph_convolution_8[0][0]        \n",
      "                                                                 encoder_input_adjacency[0][0]    \n",
      "__________________________________________________________________________________________________\n",
      "flatten (Flatten)               (None, 200)          0           graph_convolution_9[0][0]        \n",
      "__________________________________________________________________________________________________\n",
      "dense (Dense)                   (None, 100)          20100       flatten[0][0]                    \n",
      "__________________________________________________________________________________________________\n",
      "dense_1 (Dense)                 (None, 50)           5050        dense[0][0]                      \n",
      "__________________________________________________________________________________________________\n",
      "tf_op_layer_Shape_1 (TensorFlow [(2,)]               0           dense_1[0][0]                    \n",
      "__________________________________________________________________________________________________\n",
      "tf_op_layer_Shape_2 (TensorFlow [(2,)]               0           dense_1[0][0]                    \n",
      "__________________________________________________________________________________________________\n",
      "tf_op_layer_strided_slice_1 (Te [()]                 0           tf_op_layer_Shape_1[0][0]        \n",
      "__________________________________________________________________________________________________\n",
      "tf_op_layer_strided_slice_2 (Te [()]                 0           tf_op_layer_Shape_2[0][0]        \n",
      "__________________________________________________________________________________________________\n",
      "tf_op_layer_shape_3 (TensorFlow [(2,)]               0           tf_op_layer_strided_slice_1[0][0]\n",
      "                                                                 tf_op_layer_strided_slice_2[0][0]\n",
      "__________________________________________________________________________________________________\n",
      "dense_2 (Dense)                 (None, 50)           5050        dense[0][0]                      \n",
      "__________________________________________________________________________________________________\n",
      "tf_op_layer_RandomStandardNorma [(None, None)]       0           tf_op_layer_shape_3[0][0]        \n",
      "__________________________________________________________________________________________________\n",
      "tf_op_layer_Mul_4 (TensorFlowOp [(None, 50)]         0           dense_2[0][0]                    \n",
      "__________________________________________________________________________________________________\n",
      "tf_op_layer_Mul_3 (TensorFlowOp [(None, None)]       0           tf_op_layer_RandomStandardNormal_\n",
      "__________________________________________________________________________________________________\n",
      "tf_op_layer_Exp_1 (TensorFlowOp [(None, 50)]         0           tf_op_layer_Mul_4[0][0]          \n",
      "__________________________________________________________________________________________________\n",
      "tf_op_layer_Add_1 (TensorFlowOp [(None, None)]       0           tf_op_layer_Mul_3[0][0]          \n",
      "__________________________________________________________________________________________________\n",
      "tf_op_layer_Mul_5 (TensorFlowOp [(None, 50)]         0           tf_op_layer_Exp_1[0][0]          \n",
      "                                                                 tf_op_layer_Add_1[0][0]          \n",
      "__________________________________________________________________________________________________\n",
      "tf_op_layer_AddV2_1 (TensorFlow [(None, 50)]         0           dense_1[0][0]                    \n",
      "                                                                 tf_op_layer_Mul_5[0][0]          \n",
      "==================================================================================================\n",
      "Total params: 30,268\n",
      "Trainable params: 30,268\n",
      "Non-trainable params: 0\n",
      "__________________________________________________________________________________________________\n",
      "100\n",
      "Model: \"functional_7\"\n",
      "__________________________________________________________________________________________________\n",
      "Layer (type)                    Output Shape         Param #     Connected to                     \n",
      "==================================================================================================\n",
      "encoder_input_features (InputLa [(None, 100, 3)]     0                                            \n",
      "__________________________________________________________________________________________________\n",
      "encoder_input_adjacency (InputL [(None, 100, 100)]   0                                            \n",
      "__________________________________________________________________________________________________\n",
      "graph_convolution_10 (GraphConv (None, 100, 6)       42          encoder_input_features[0][0]     \n",
      "                                                                 encoder_input_adjacency[0][0]    \n",
      "__________________________________________________________________________________________________\n",
      "graph_convolution_11 (GraphConv (None, 100, 2)       26          graph_convolution_10[0][0]       \n",
      "                                                                 encoder_input_adjacency[0][0]    \n",
      "__________________________________________________________________________________________________\n",
      "flatten_1 (Flatten)             (None, 200)          0           graph_convolution_11[0][0]       \n",
      "__________________________________________________________________________________________________\n",
      "dense_3 (Dense)                 (None, 100)          20100       flatten_1[0][0]                  \n",
      "__________________________________________________________________________________________________\n",
      "dense_4 (Dense)                 (None, 50)           5050        dense_3[0][0]                    \n",
      "__________________________________________________________________________________________________\n",
      "tf_op_layer_Shape_4 (TensorFlow [(2,)]               0           dense_4[0][0]                    \n",
      "__________________________________________________________________________________________________\n",
      "tf_op_layer_Shape_5 (TensorFlow [(2,)]               0           dense_4[0][0]                    \n",
      "__________________________________________________________________________________________________\n",
      "tf_op_layer_strided_slice_3 (Te [()]                 0           tf_op_layer_Shape_4[0][0]        \n",
      "__________________________________________________________________________________________________\n",
      "tf_op_layer_strided_slice_4 (Te [()]                 0           tf_op_layer_Shape_5[0][0]        \n",
      "__________________________________________________________________________________________________\n",
      "tf_op_layer_shape_6 (TensorFlow [(2,)]               0           tf_op_layer_strided_slice_3[0][0]\n",
      "                                                                 tf_op_layer_strided_slice_4[0][0]\n",
      "__________________________________________________________________________________________________\n",
      "dense_5 (Dense)                 (None, 50)           5050        dense_3[0][0]                    \n",
      "__________________________________________________________________________________________________\n",
      "tf_op_layer_RandomStandardNorma [(None, None)]       0           tf_op_layer_shape_6[0][0]        \n",
      "__________________________________________________________________________________________________\n",
      "tf_op_layer_Mul_7 (TensorFlowOp [(None, 50)]         0           dense_5[0][0]                    \n",
      "__________________________________________________________________________________________________\n",
      "tf_op_layer_Mul_6 (TensorFlowOp [(None, None)]       0           tf_op_layer_RandomStandardNormal_\n",
      "__________________________________________________________________________________________________\n",
      "tf_op_layer_Exp_2 (TensorFlowOp [(None, 50)]         0           tf_op_layer_Mul_7[0][0]          \n",
      "__________________________________________________________________________________________________\n",
      "tf_op_layer_Add_2 (TensorFlowOp [(None, None)]       0           tf_op_layer_Mul_6[0][0]          \n",
      "__________________________________________________________________________________________________\n",
      "tf_op_layer_Mul_8 (TensorFlowOp [(None, 50)]         0           tf_op_layer_Exp_2[0][0]          \n",
      "                                                                 tf_op_layer_Add_2[0][0]          \n",
      "__________________________________________________________________________________________________\n",
      "tf_op_layer_AddV2_2 (TensorFlow [(None, 50)]         0           dense_4[0][0]                    \n",
      "                                                                 tf_op_layer_Mul_8[0][0]          \n",
      "==================================================================================================\n",
      "Total params: 30,268\n",
      "Trainable params: 30,268\n",
      "Non-trainable params: 0\n",
      "__________________________________________________________________________________________________\n",
      "Model: \"functional_9\"\n",
      "__________________________________________________________________________________________________\n",
      "Layer (type)                    Output Shape         Param #     Connected to                     \n",
      "==================================================================================================\n",
      "decoder_input_latent_space (Inp [(None, 50)]         0                                            \n",
      "__________________________________________________________________________________________________\n",
      "dense_6 (Dense)                 (None, 100)          5100        decoder_input_latent_space[0][0] \n",
      "__________________________________________________________________________________________________\n",
      "dense_7 (Dense)                 (None, 200)          20200       dense_6[0][0]                    \n",
      "__________________________________________________________________________________________________\n",
      "reshape (Reshape)               (None, 100, 2)       0           dense_7[0][0]                    \n",
      "__________________________________________________________________________________________________\n",
      "decoder_input_adjacency (InputL [(None, 100, 100)]   0                                            \n",
      "__________________________________________________________________________________________________\n",
      "graph_convolution_12 (GraphConv (None, 100, 6)       30          reshape[0][0]                    \n",
      "                                                                 decoder_input_adjacency[0][0]    \n",
      "__________________________________________________________________________________________________\n",
      "graph_convolution_13 (GraphConv (None, 100, 3)       39          graph_convolution_12[0][0]       \n",
      "                                                                 decoder_input_adjacency[0][0]    \n",
      "==================================================================================================\n",
      "Total params: 25,369\n",
      "Trainable params: 25,369\n",
      "Non-trainable params: 0\n",
      "__________________________________________________________________________________________________\n"
     ]
    }
   ],
   "source": [
    "gcnvae = models.GCNVariationalAutoEncoder(nodes_n=nodes_n, feat_sz=feat_sz, activation=tf.nn.tanh,latent_dim=50,kl_warmup_time=10)\n",
    "gcnvae.compile(optimizer=tf.keras.optimizers.Adam(learning_rate=0.01), run_eagerly=True)"
   ]
  },
  {
   "cell_type": "code",
   "execution_count": 21,
   "id": "becoming-language",
   "metadata": {},
   "outputs": [],
   "source": [
    "#tf.keras.utils.plot_model(gcnvae, show_shapes=True)"
   ]
  },
  {
   "cell_type": "code",
   "execution_count": null,
   "id": "persistent-prevention",
   "metadata": {},
   "outputs": [],
   "source": []
  },
  {
   "cell_type": "code",
   "execution_count": 22,
   "id": "organized-scratch",
   "metadata": {
    "scrolled": true
   },
   "outputs": [
    {
     "name": "stdout",
     "output_type": "stream",
     "text": [
      "Epoch 1/30\n",
      "50/50 [==============================] - 6s 113ms/step - loss: 0.9124 - loss_reco: 0.9124 - loss_latent: 5.9598 - beta_kl_warmup: 0.0000e+00 - val_loss: 0.5611 - val_loss_reco: 0.5611 - val_loss_latent: 1.6985\n",
      "Epoch 2/30\n",
      "50/50 [==============================] - 6s 117ms/step - loss: 0.6092 - loss_reco: 0.5478 - loss_latent: 0.0615 - beta_kl_warmup: 0.1000 - val_loss: 0.4881 - val_loss_reco: 0.4879 - val_loss_latent: 1.9898e-04m\n",
      "Epoch 3/30\n",
      "50/50 [==============================] - 6s 118ms/step - loss: 0.4626 - loss_reco: 0.4625 - loss_latent: 4.7032e-05 - beta_kl_warmup: 0.2000 - val_loss: 0.4579 - val_loss_reco: 0.4579 - val_loss_latent: 9.3687e-06\n",
      "Epoch 4/30\n",
      "50/50 [==============================] - 6s 112ms/step - loss: 0.4432 - loss_reco: 0.4432 - loss_latent: 5.5621e-06 - beta_kl_warmup: 0.3000 - val_loss: 0.4412 - val_loss_reco: 0.4412 - val_loss_latent: 6.7204e-06\n",
      "Epoch 5/30\n",
      "50/50 [==============================] - 6s 114ms/step - loss: 0.4302 - loss_reco: 0.4301 - loss_latent: 6.6561e-06 - beta_kl_warmup: 0.4000 - val_loss: 0.4301 - val_loss_reco: 0.4301 - val_loss_latent: 8.1247e-06\n",
      "Epoch 6/30\n",
      "50/50 [==============================] - 6s 122ms/step - loss: 0.4233 - loss_reco: 0.4233 - loss_latent: 5.3805e-06 - beta_kl_warmup: 0.5000 - val_loss: 0.4264 - val_loss_reco: 0.4263 - val_loss_latent: 6.4427e-06\n",
      "Epoch 7/30\n",
      "50/50 [==============================] - 6s 115ms/step - loss: 0.4192 - loss_reco: 0.4192 - loss_latent: 4.1410e-06 - beta_kl_warmup: 0.6000 - val_loss: 0.4207 - val_loss_reco: 0.4207 - val_loss_latent: 4.7487e-06\n",
      "Epoch 8/30\n",
      "50/50 [==============================] - 6s 114ms/step - loss: 0.4161 - loss_reco: 0.4161 - loss_latent: 4.4466e-06 - beta_kl_warmup: 0.7000 - val_loss: 0.4202 - val_loss_reco: 0.4202 - val_loss_latent: 3.0082e-06\n",
      "Epoch 9/30\n",
      "50/50 [==============================] - 6s 112ms/step - loss: 0.4142 - loss_reco: 0.4141 - loss_latent: 3.5354e-06 - beta_kl_warmup: 0.8000 - val_loss: 0.4159 - val_loss_reco: 0.4159 - val_loss_latent: 1.8567e-06_wa\n",
      "Epoch 10/30\n",
      "50/50 [==============================] - 6s 116ms/step - loss: 0.4120 - loss_reco: 0.4120 - loss_latent: 2.7495e-06 - beta_kl_warmup: 0.9000 - val_loss: 0.4166 - val_loss_reco: 0.4165 - val_loss_latent: 3.5900e-06\n",
      "Epoch 11/30\n",
      "50/50 [==============================] - 6s 118ms/step - loss: 0.4104 - loss_reco: 0.4104 - loss_latent: 2.8771e-06 - beta_kl_warmup: 1.0000 - val_loss: 0.4148 - val_loss_reco: 0.4148 - val_loss_latent: 2.3842e-06\n",
      "Epoch 12/30\n",
      "50/50 [==============================] - 6s 114ms/step - loss: 0.4092 - loss_reco: 0.4092 - loss_latent: 2.4052e-06 - beta_kl_warmup: 1.0000 - val_loss: 0.4137 - val_loss_reco: 0.4137 - val_loss_latent: 2.2882e-06\n",
      "Epoch 13/30\n",
      "50/50 [==============================] - 6s 112ms/step - loss: 0.4078 - loss_reco: 0.4078 - loss_latent: 2.3123e-06 - beta_kl_warmup: 1.0000 - val_loss: 0.4135 - val_loss_reco: 0.4135 - val_loss_latent: 1.6457e-06_warmup: \n",
      "Epoch 14/30\n",
      "50/50 [==============================] - 6s 112ms/step - loss: 0.4066 - loss_reco: 0.4066 - loss_latent: 1.9297e-06 - beta_kl_warmup: 1.0000 - val_loss: 0.4115 - val_loss_reco: 0.4115 - val_loss_latent: 1.4716e-06\n",
      "Epoch 15/30\n",
      "50/50 [==============================] - 6s 117ms/step - loss: 0.4056 - loss_reco: 0.4055 - loss_latent: 2.1378e-06 - beta_kl_warmup: 1.0000 - val_loss: 0.4108 - val_loss_reco: 0.4107 - val_loss_latent: 2.1470e-06\n",
      "Epoch 16/30\n",
      "50/50 [==============================] - 5s 110ms/step - loss: 0.4041 - loss_reco: 0.4041 - loss_latent: 2.1242e-06 - beta_kl_warmup: 1.0000 - val_loss: 0.4072 - val_loss_reco: 0.4072 - val_loss_latent: 2.0695e-06\n",
      "Epoch 17/30\n",
      "50/50 [==============================] - 6s 115ms/step - loss: 0.4030 - loss_reco: 0.4030 - loss_latent: 2.3333e-06 - beta_kl_warmup: 1.0000 - val_loss: 0.4083 - val_loss_reco: 0.4083 - val_loss_latent: 1.4228e-06\n",
      "Epoch 18/30\n",
      "50/50 [==============================] - 6s 110ms/step - loss: 0.4022 - loss_reco: 0.4022 - loss_latent: 1.8795e-06 - beta_kl_warmup: 1.0000 - val_loss: 0.4083 - val_loss_reco: 0.4083 - val_loss_latent: 2.3729e-06_wa - ETA: 0s - loss: 0.4022 - loss_reco: 0.4021 - loss_latent: 1.8684e-06 - beta_kl_warmup: \n",
      "Epoch 19/30\n",
      "50/50 [==============================] - 5s 109ms/step - loss: 0.4018 - loss_reco: 0.4018 - loss_latent: 2.4175e-06 - beta_kl_warmup: 1.0000 - val_loss: 0.4055 - val_loss_reco: 0.4055 - val_loss_latent: 1.6588e-06\n",
      "Epoch 20/30\n",
      "50/50 [==============================] - 6s 112ms/step - loss: 0.4006 - loss_reco: 0.4006 - loss_latent: 2.2708e-06 - beta_kl_warmup: 1.0000 - val_loss: 0.4064 - val_loss_reco: 0.4063 - val_loss_latent: 1.8936e-06\n",
      "Epoch 21/30\n",
      "50/50 [==============================] - 6s 111ms/step - loss: 0.4003 - loss_reco: 0.4003 - loss_latent: 2.2539e-06 - beta_kl_warmup: 1.0000 - val_loss: 0.4049 - val_loss_reco: 0.4049 - val_loss_latent: 1.8412e-06_warmup: 1.00\n",
      "Epoch 22/30\n",
      "50/50 [==============================] - 6s 112ms/step - loss: 0.3988 - loss_reco: 0.3988 - loss_latent: 1.7791e-06 - beta_kl_warmup: 1.0000 - val_loss: 0.4050 - val_loss_reco: 0.4050 - val_loss_latent: 1.1277e-06\n",
      "Epoch 23/30\n",
      "50/50 [==============================] - 5s 109ms/step - loss: 0.3984 - loss_reco: 0.3984 - loss_latent: 1.6277e-06 - beta_kl_warmup: 1.0000 - val_loss: 0.4035 - val_loss_reco: 0.4034 - val_loss_latent: 1.1897e-06\n",
      "Epoch 24/30\n",
      "50/50 [==============================] - 6s 111ms/step - loss: 0.3976 - loss_reco: 0.3976 - loss_latent: 1.5531e-06 - beta_kl_warmup: 1.0000 - val_loss: 0.4022 - val_loss_reco: 0.4022 - val_loss_latent: 1.9449e-06\n",
      "Epoch 25/30\n",
      "50/50 [==============================] - 6s 115ms/step - loss: 0.3975 - loss_reco: 0.3975 - loss_latent: 2.0525e-06 - beta_kl_warmup: 1.0000 - val_loss: 0.4002 - val_loss_reco: 0.4002 - val_loss_latent: 1.4687e-06\n",
      "Epoch 26/30\n",
      "50/50 [==============================] - 6s 112ms/step - loss: 0.3966 - loss_reco: 0.3966 - loss_latent: 1.7453e-06 - beta_kl_warmup: 1.0000 - val_loss: 0.4004 - val_loss_reco: 0.4003 - val_loss_latent: 2.4056e-06_wa\n",
      "Epoch 27/30\n",
      "50/50 [==============================] - 6s 119ms/step - loss: 0.3961 - loss_reco: 0.3961 - loss_latent: 1.9614e-06 - beta_kl_warmup: 1.0000 - val_loss: 0.4033 - val_loss_reco: 0.4033 - val_loss_latent: 1.8799e-06\n",
      "Epoch 28/30\n",
      "50/50 [==============================] - 6s 122ms/step - loss: 0.3963 - loss_reco: 0.3963 - loss_latent: 1.9568e-06 - beta_kl_warmup: 1.0000 - val_loss: 0.4001 - val_loss_reco: 0.4000 - val_loss_latent: 2.0921e-06\n",
      "Epoch 29/30\n",
      "50/50 [==============================] - 6s 119ms/step - loss: 0.3958 - loss_reco: 0.3958 - loss_latent: 1.3090e-06 - beta_kl_warmup: 1.0000 - val_loss: 0.3996 - val_loss_reco: 0.3996 - val_loss_latent: 1.3345e-06\n",
      "Epoch 30/30\n",
      "50/50 [==============================] - 6s 113ms/step - loss: 0.3957 - loss_reco: 0.3957 - loss_latent: 1.1994e-06 - beta_kl_warmup: 1.0000 - val_loss: 0.3999 - val_loss_reco: 0.3999 - val_loss_latent: 1.6314e-06\n"
     ]
    },
    {
     "data": {
      "text/plain": [
       "<tensorflow.python.keras.callbacks.History at 0x7fc14bd106d0>"
      ]
     },
     "execution_count": 22,
     "metadata": {},
     "output_type": "execute_result"
    }
   ],
   "source": [
    "custom_callback = models.KLWarmupCallback()\n",
    "callbacks = [tf.keras.callbacks.ReduceLROnPlateau(factor=0.1, patience=5, verbose=2),\n",
    "            tf.keras.callbacks.EarlyStopping(monitor='val_loss', patience=5, verbose=2),custom_callback] \n",
    "gcnvae.fit(particles_bg, A_tilde_bg, epochs=30, batch_size=128, validation_data = ((particles_bg_valid, A_tilde_bg_valid)), callbacks=callbacks) "
   ]
  },
  {
   "cell_type": "code",
   "execution_count": null,
   "id": "altered-ebony",
   "metadata": {},
   "outputs": [],
   "source": []
  },
  {
   "cell_type": "code",
   "execution_count": null,
   "id": "built-nightmare",
   "metadata": {},
   "outputs": [],
   "source": []
  },
  {
   "cell_type": "code",
   "execution_count": null,
   "id": "personalized-female",
   "metadata": {},
   "outputs": [],
   "source": [
    "\n"
   ]
  },
  {
   "cell_type": "code",
   "execution_count": null,
   "id": "massive-meaning",
   "metadata": {},
   "outputs": [],
   "source": [
    "loaded_1 = tf.keras.models.load_model(\n",
    "    \"output_model_saved_003\", custom_objects={\"GCNVariationalAutoEncoder\": models.GCNVariationalAutoEncoder}\n",
    ")\n"
   ]
  },
  {
   "cell_type": "code",
   "execution_count": 23,
   "id": "european-living",
   "metadata": {},
   "outputs": [],
   "source": [
    "#Predict\n",
    "\n",
    "#model = loaded_1\n",
    "model = gcnvae\n",
    "\n",
    "features_out_bg_test, z_bg_test, z_mean_bg_test, z_log_var_bg_test = model((particles_bg_test, A_tilde_bg_test))\n",
    "features_out_bg_test = features_out_bg_test.numpy().astype('float32')\n",
    "loss_bg = threeD_loss_manual(particles_bg_test.astype('float32'),features_out_bg_test)\n",
    "\n",
    "features_out_sig, z_sig, z_mean_sig, z_log_var_sig = model((particles_sig, A_tilde_sig))\n",
    "features_out_sig = features_out_sig.numpy().astype('float32')\n",
    "loss_signal = threeD_loss_manual(particles_sig.astype('float32'),features_out_sig)"
   ]
  },
  {
   "cell_type": "code",
   "execution_count": 24,
   "id": "blocked-gross",
   "metadata": {},
   "outputs": [
    {
     "data": {
      "image/png": "[encoded data removed]",
      "text/plain": [
       "<Figure size 720x576 with 1 Axes>"
      ]
     },
     "metadata": {
      "needs_background": "light"
     },
     "output_type": "display_data"
    }
   ],
   "source": [
    "plt.style.use('/eos/user/n/nchernya/MLHEP/AnomalyDetection/ADgvae/utils/adfigstyle.mplstyle')\n",
    "\n",
    "max_score = np.quantile(loss_signal,0.9)#,np.max(loss_bg_dist))\n",
    "min_score = np.min(loss_bg)#,np.max(loss_bg_dist))\n",
    "bins = 30\n",
    "# plot BG\n",
    "plt.figure()\n",
    "plt.hist(loss_bg, bins=bins, label='BG', density=True, range=(min_score, max_score), \n",
    "         histtype='step', fill=False, linewidth=1.5)\n",
    "plt.hist(loss_signal, bins=bins, label='SIG', density=True, range=(min_score, max_score), \n",
    "         histtype='step', fill=False, linewidth=1.5)\n",
    "#plt.semilogy()\n",
    "plt.xlabel(\"VAE Chamfer Loss\")\n",
    "plt.ylabel(\"Normalized Dist.\")\n",
    "plt.legend(loc='upper right')\n",
    "plt.show()"
   ]
  },
  {
   "cell_type": "code",
   "execution_count": 25,
   "id": "minimal-jonathan",
   "metadata": {},
   "outputs": [
    {
     "name": "stdout",
     "output_type": "stream",
     "text": [
      "46.299955749511724 56.34009857177735\n"
     ]
    }
   ],
   "source": [
    "print(np.quantile(loss_bg,0.8),np.quantile(loss_signal,0.8))"
   ]
  },
  {
   "cell_type": "code",
   "execution_count": null,
   "id": "extensive-chemical",
   "metadata": {},
   "outputs": [],
   "source": []
  },
  {
   "cell_type": "code",
   "execution_count": 26,
   "id": "senior-legend",
   "metadata": {},
   "outputs": [],
   "source": [
    "import sys, os\n",
    "sys.path.append(os.path.abspath(os.path.join('..')))\n",
    "sys.path.append(os.path.abspath(os.path.join('../vande/')))\n",
    "sys.path.append(os.path.abspath(os.path.join('../pofah/')))\n",
    "sys.path.append(os.path.abspath(os.path.join('../sarewt/')))"
   ]
  },
  {
   "cell_type": "code",
   "execution_count": 27,
   "id": "rolled-error",
   "metadata": {},
   "outputs": [
    {
     "data": {
      "text/plain": [
       "<module 'vande.analysis.analysis_roc' from '/eos/home-n/nchernya/MLHEP/AnomalyDetection/vande/analysis/analysis_roc.py'>"
      ]
     },
     "execution_count": 27,
     "metadata": {},
     "output_type": "execute_result"
    }
   ],
   "source": [
    "import vande.analysis.analysis_roc as ar\n",
    "reload(ar)"
   ]
  },
  {
   "cell_type": "code",
   "execution_count": 28,
   "id": "dangerous-trick",
   "metadata": {},
   "outputs": [],
   "source": [
    "neg_class_losses = [loss_bg.tolist(),loss_bg_gnn.tolist(),loss_bg_gvae.tolist()]\n",
    "pos_class_losses = [loss_signal.tolist(),loss_signal_gnn.tolist(),loss_signal_gvae.tolist()]"
   ]
  },
  {
   "cell_type": "code",
   "execution_count": 29,
   "id": "creative-anthropology",
   "metadata": {},
   "outputs": [
    {
     "name": "stderr",
     "output_type": "stream",
     "text": [
      "/eos/home-n/nchernya/MLHEP/AnomalyDetection/vande/analysis/analysis_roc.py:33: RuntimeWarning: divide by zero encountered in true_divide\n",
      "  plt.semilogy(tpr, 1./fpr, label=label + \" (auc \" + \"{0:.3f}\".format(aucs[-1]) + \")\")\n",
      "/eos/home-n/nchernya/MLHEP/AnomalyDetection/vande/analysis/analysis_roc.py:33: RuntimeWarning: divide by zero encountered in true_divide\n",
      "  plt.semilogy(tpr, 1./fpr, label=label + \" (auc \" + \"{0:.3f}\".format(aucs[-1]) + \")\")\n",
      "/eos/home-n/nchernya/MLHEP/AnomalyDetection/vande/analysis/analysis_roc.py:33: RuntimeWarning: divide by zero encountered in true_divide\n",
      "  plt.semilogy(tpr, 1./fpr, label=label + \" (auc \" + \"{0:.3f}\".format(aucs[-1]) + \")\")\n"
     ]
    },
    {
     "data": {
      "text/plain": [
       "[0.7055882600000001, 0.43359932, 0.45108079999999995]"
      ]
     },
     "execution_count": 29,
     "metadata": {},
     "output_type": "execute_result"
    }
   ],
   "source": [
    "plt.style.use('/eos/user/n/nchernya/MLHEP/AnomalyDetection/ADgvae/utils/adfigstyle.mplstyle')\n",
    "ar.plot_roc( neg_class_losses, pos_class_losses, legend=['GCN VAE','GAE','GVAE'], title='ROC ', plot_name='ROC_text', fig_dir='figs/',log_x=False )"
   ]
  },
  {
   "cell_type": "code",
   "execution_count": null,
   "id": "bearing-depression",
   "metadata": {},
   "outputs": [],
   "source": []
  },
  {
   "cell_type": "markdown",
   "id": "assisted-segment",
   "metadata": {},
   "source": [
    "# Plot features "
   ]
  },
  {
   "cell_type": "code",
   "execution_count": null,
   "id": "sufficient-history",
   "metadata": {},
   "outputs": [],
   "source": [
    "feats = 'pt,eta,phi'.split(',')\n",
    "for i in range(0,3):\n",
    "    plt.figure()\n",
    "    plt.hist(particles_bg[:,:,i].flatten(), bins=10, label='Original', density=True, histtype='step', fill=False, linewidth=2)\n",
    "    plt.hist(features_out_bg_test[:,:,i].flatten(), bins=10, label='GCN VAE', density=True, histtype='step', fill=False, linewidth=2)\n",
    "    plt.xlabel(feats[i])\n",
    "    plt.ylabel(\"Normalized\")\n",
    "    plt.legend(loc='upper right')\n",
    "    plt.show()"
   ]
  },
  {
   "cell_type": "code",
   "execution_count": null,
   "id": "genetic-adapter",
   "metadata": {},
   "outputs": [],
   "source": [
    "i = 2\n",
    "print(np.min(particles_bg[:,:,i]),np.max(particles_bg[:,:,i]))"
   ]
  },
  {
   "cell_type": "code",
   "execution_count": null,
   "id": "determined-diamond",
   "metadata": {},
   "outputs": [],
   "source": []
  },
  {
   "cell_type": "code",
   "execution_count": null,
   "id": "musical-letter",
   "metadata": {},
   "outputs": [],
   "source": []
  },
  {
   "cell_type": "code",
   "execution_count": null,
   "id": "recent-proof",
   "metadata": {},
   "outputs": [],
   "source": []
  },
  {
   "cell_type": "code",
   "execution_count": null,
   "id": "russian-immigration",
   "metadata": {},
   "outputs": [],
   "source": []
  }
 ],
 "metadata": {
  "kernelspec": {
   "display_name": "Python 3",
   "language": "python",
   "name": "python3"
  },
  "language_info": {
   "codemirror_mode": {
    "name": "ipython",
    "version": 3
   },
   "file_extension": ".py",
   "mimetype": "text/x-python",
   "name": "python",
   "nbconvert_exporter": "python",
   "pygments_lexer": "ipython3",
   "version": "3.7.6"
  }
 },
 "nbformat": 4,
 "nbformat_minor": 5
}
