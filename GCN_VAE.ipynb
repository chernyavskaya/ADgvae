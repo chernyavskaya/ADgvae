{
 "cells": [
  {
   "cell_type": "code",
   "execution_count": 1,
   "id": "clinical-moisture",
   "metadata": {},
   "outputs": [],
   "source": [
    "import tensorflow as tf\n",
    "import numpy as np\n",
    "import h5py\n",
    "import matplotlib.pyplot as plt\n",
    "from importlib import reload"
   ]
  },
  {
   "cell_type": "code",
   "execution_count": 2,
   "id": "wireless-congo",
   "metadata": {},
   "outputs": [
    {
     "name": "stderr",
     "output_type": "stream",
     "text": [
      "Using TensorFlow backend.\n"
     ]
    },
    {
     "data": {
      "text/plain": [
       "<module 'utils.preprocessing' from '/eos/home-n/nchernya/MLHEP/AnomalyDetection/ADgvae/utils/preprocessing.py'>"
      ]
     },
     "execution_count": 2,
     "metadata": {},
     "output_type": "execute_result"
    }
   ],
   "source": [
    "import models.models as models\n",
    "reload(models)\n",
    "import utils.preprocessing as prepr\n",
    "reload(prepr)"
   ]
  },
  {
   "cell_type": "code",
   "execution_count": 3,
   "id": "downtown-smell",
   "metadata": {},
   "outputs": [
    {
     "name": "stdout",
     "output_type": "stream",
     "text": [
      "Number of jets = 12571\n",
      "Number of constituents (nodes) = 100\n",
      "Number of features = 3\n"
     ]
    },
    {
     "name": "stderr",
     "output_type": "stream",
     "text": [
      "/eos/home-n/nchernya/MLHEP/AnomalyDetection/ADgvae/utils/preprocessing.py:38: RuntimeWarning: divide by zero encountered in power\n",
      "  D = np.nan_to_num(np.power(D,-0.5), posinf=0, neginf=0) # normalize (**-(1/2))\n"
     ]
    },
    {
     "name": "stdout",
     "output_type": "stream",
     "text": [
      "Number of jets = 2518\n",
      "Number of constituents (nodes) = 100\n",
      "Number of features = 3\n"
     ]
    }
   ],
   "source": [
    "#Data Samples\n",
    "TRAIN_PATH = '/eos/project/d/dshep/TOPCLASS/DijetAnomaly/VAE_data/events/qcd_sqrtshatTeV_13TeV_PU40_NEW_sideband_parts/'\n",
    "filename_bg = TRAIN_PATH + 'qcd_sqrtshatTeV_13TeV_PU40_NEW_sideband_000.h5'\n",
    "batch_size = 128\n",
    "train_set_size = batch_size*50\n",
    "nodes_n, feat_sz, particles_bg, A_bg, A_tilde_bg = prepr.prepare_data(filename_bg,train_set_size,0,train_set_size+1)\n",
    "\n",
    "VALID_PATH = '/eos/project/d/dshep/TOPCLASS/DijetAnomaly/VAE_data/events/qcd_sqrtshatTeV_13TeV_PU40_NEW_EXT_sideband_parts'\n",
    "filename_bg_valid = TRAIN_PATH + 'qcd_sqrtshatTeV_13TeV_PU40_NEW_EXT_sideband_000.h5'\n",
    "batch_size = 128\n",
    "valid_set_size = batch_size*10\n",
    "_,_, particles_bg_valid, A_bg_valid, A_tilde_bg_valid = prepr.prepare_data(filename_bg,valid_set_size,0,valid_set_size+1)"
   ]
  },
  {
   "cell_type": "code",
   "execution_count": 4,
   "id": "grateful-treaty",
   "metadata": {},
   "outputs": [
    {
     "name": "stdout",
     "output_type": "stream",
     "text": [
      "(6400, 100, 3) (6400, 100, 100) (6400, 100, 100)\n"
     ]
    }
   ],
   "source": [
    "print(particles_bg.shape, A_tilde_bg.shape, A_bg.shape)"
   ]
  },
  {
   "cell_type": "code",
   "execution_count": 79,
   "id": "strategic-converter",
   "metadata": {},
   "outputs": [
    {
     "ename": "AttributeError",
     "evalue": "'numpy.ndarray' object has no attribute 'nan'",
     "output_type": "error",
     "traceback": [
      "\u001b[0;31m---------------------------------------------------------------------------\u001b[0m",
      "\u001b[0;31mAttributeError\u001b[0m                            Traceback (most recent call last)",
      "\u001b[0;32m<ipython-input-79-352b64bfc56d>\u001b[0m in \u001b[0;36m<module>\u001b[0;34m\u001b[0m\n\u001b[0;32m----> 1\u001b[0;31m \u001b[0mA_tilde_bg_valid\u001b[0m\u001b[0;34m.\u001b[0m\u001b[0mnan\u001b[0m\u001b[0;34m(\u001b[0m\u001b[0;34m)\u001b[0m\u001b[0;34m\u001b[0m\u001b[0;34m\u001b[0m\u001b[0m\n\u001b[0m",
      "\u001b[0;31mAttributeError\u001b[0m: 'numpy.ndarray' object has no attribute 'nan'"
     ]
    }
   ],
   "source": []
  },
  {
   "cell_type": "code",
   "execution_count": null,
   "id": "heavy-drama",
   "metadata": {},
   "outputs": [],
   "source": []
  },
  {
   "cell_type": "markdown",
   "id": "incredible-samoa",
   "metadata": {},
   "source": [
    "# Autoencoder"
   ]
  },
  {
   "cell_type": "code",
   "execution_count": 6,
   "id": "accessible-atlas",
   "metadata": {},
   "outputs": [
    {
     "name": "stdout",
     "output_type": "stream",
     "text": [
      "Model: \"functional_1\"\n",
      "__________________________________________________________________________________________________\n",
      "Layer (type)                    Output Shape         Param #     Connected to                     \n",
      "==================================================================================================\n",
      "encoder_input_features (InputLa [(None, 100, 3)]     0                                            \n",
      "__________________________________________________________________________________________________\n",
      "encoder_input_adjacency (InputL [(None, 100, 100)]   0                                            \n",
      "__________________________________________________________________________________________________\n",
      "graph_convolution (GraphConvolu (None, 100, 6)       42          encoder_input_features[0][0]     \n",
      "                                                                 encoder_input_adjacency[0][0]    \n",
      "__________________________________________________________________________________________________\n",
      "graph_convolution_1 (GraphConvo (None, 100, 8)       104         graph_convolution[0][0]          \n",
      "                                                                 encoder_input_adjacency[0][0]    \n",
      "__________________________________________________________________________________________________\n",
      "graph_convolution_2 (GraphConvo (None, 100, 4)       68          graph_convolution_1[0][0]        \n",
      "                                                                 encoder_input_adjacency[0][0]    \n",
      "__________________________________________________________________________________________________\n",
      "graph_convolution_3 (GraphConvo (None, 100, 2)       18          graph_convolution_2[0][0]        \n",
      "                                                                 encoder_input_adjacency[0][0]    \n",
      "__________________________________________________________________________________________________\n",
      "graph_convolution_4 (GraphConvo (None, 100, 1)       5           graph_convolution_3[0][0]        \n",
      "                                                                 encoder_input_adjacency[0][0]    \n",
      "==================================================================================================\n",
      "Total params: 237\n",
      "Trainable params: 237\n",
      "Non-trainable params: 0\n",
      "__________________________________________________________________________________________________\n"
     ]
    }
   ],
   "source": [
    "gnn = models.GraphAutoencoder(nodes_n=nodes_n, feat_sz=feat_sz, activation=tf.nn.tanh)\n",
    "gnn.compile(optimizer=tf.keras.optimizers.Adam(learning_rate=0.001), run_eagerly=True)  #learning rate 0.001 worked"
   ]
  },
  {
   "cell_type": "code",
   "execution_count": 7,
   "id": "potential-catalyst",
   "metadata": {
    "scrolled": true
   },
   "outputs": [
    {
     "name": "stdout",
     "output_type": "stream",
     "text": [
      "Epoch 1/50\n",
      "74/74 [==============================] - 8s 111ms/step - val_loss: 0.4226\n",
      "Epoch 2/50\n",
      "74/74 [==============================] - 7s 95ms/step - val_loss: 0.4060\n",
      "Epoch 3/50\n",
      "74/74 [==============================] - 8s 105ms/step - val_loss: 0.4033\n",
      "Epoch 4/50\n",
      "74/74 [==============================] - 8s 111ms/step - val_loss: 0.4018\n",
      "Epoch 5/50\n",
      "74/74 [==============================] - 8s 108ms/step - val_loss: 0.4009\n",
      "Epoch 6/50\n",
      "74/74 [==============================] - 8s 106ms/step - val_loss: 0.4003\n",
      "Epoch 7/50\n",
      "74/74 [==============================] - 8s 107ms/step - val_loss: 0.3999\n",
      "Epoch 8/50\n",
      "74/74 [==============================] - 8s 106ms/step - val_loss: 0.3996\n",
      "Epoch 9/50\n",
      "74/74 [==============================] - 8s 103ms/step - val_loss: 0.3994\n",
      "Epoch 10/50\n",
      "74/74 [==============================] - 7s 93ms/step - val_loss: 0.3993\n",
      "Epoch 11/50\n",
      "74/74 [==============================] - 8s 107ms/step - val_loss: 0.3992\n",
      "Epoch 12/50\n",
      "74/74 [==============================] - 8s 106ms/step - val_loss: 0.3991\n",
      "Epoch 13/50\n",
      "74/74 [==============================] - 8s 106ms/step - val_loss: 0.3991\n",
      "Epoch 14/50\n",
      "74/74 [==============================] - 8s 106ms/step - val_loss: 0.3991\n",
      "Epoch 15/50\n",
      "74/74 [==============================] - 8s 106ms/step - val_loss: 0.3990\n",
      "Epoch 16/50\n",
      "74/74 [==============================] - 8s 108ms/step - val_loss: 0.3990\n",
      "Epoch 17/50\n",
      "74/74 [==============================] - 7s 99ms/step - val_loss: 0.3990\n",
      "Epoch 18/50\n",
      "74/74 [==============================] - 7s 99ms/step - val_loss: 0.3990\n",
      "Epoch 19/50\n",
      "74/74 [==============================] - 8s 106ms/step - val_loss: 0.3990\n",
      "Epoch 20/50\n",
      "74/74 [==============================] - ETA: 0s\n",
      "Epoch 00020: ReduceLROnPlateau reducing learning rate to 0.00010000000474974513.\n",
      "74/74 [==============================] - 8s 107ms/step - val_loss: 0.3990\n",
      "Epoch 21/50\n",
      "74/74 [==============================] - 8s 107ms/step - val_loss: 0.3990\n",
      "Epoch 22/50\n",
      "74/74 [==============================] - 8s 107ms/step - val_loss: 0.3990\n",
      "Epoch 23/50\n",
      "74/74 [==============================] - 8s 106ms/step - val_loss: 0.3990\n",
      "Epoch 24/50\n",
      "74/74 [==============================] - 8s 106ms/step - val_loss: 0.3990\n",
      "Epoch 25/50\n",
      "74/74 [==============================] - ETA: 0s\n",
      "Epoch 00025: ReduceLROnPlateau reducing learning rate to 1.0000000474974514e-05.\n",
      "74/74 [==============================] - 7s 93ms/step - val_loss: 0.3990\n",
      "Epoch 26/50\n",
      "74/74 [==============================] - 8s 103ms/step - val_loss: 0.3990\n",
      "Epoch 27/50\n",
      "74/74 [==============================] - 8s 106ms/step - val_loss: 0.3990\n",
      "Epoch 28/50\n",
      "74/74 [==============================] - 8s 105ms/step - val_loss: 0.3990\n",
      "Epoch 29/50\n",
      "74/74 [==============================] - 8s 110ms/step - val_loss: 0.3990\n",
      "Epoch 30/50\n",
      "74/74 [==============================] - ETA: 0s\n",
      "Epoch 00030: ReduceLROnPlateau reducing learning rate to 1.0000000656873453e-06.\n",
      "74/74 [==============================] - 8s 105ms/step - val_loss: 0.3990\n",
      "Epoch 31/50\n",
      "74/74 [==============================] - 8s 104ms/step - val_loss: 0.3990\n",
      "Epoch 32/50\n",
      "74/74 [==============================] - 8s 102ms/step - val_loss: 0.3990\n",
      "Epoch 33/50\n",
      "74/74 [==============================] - 7s 95ms/step - val_loss: 0.3990\n",
      "Epoch 34/50\n",
      "74/74 [==============================] - 8s 104ms/step - val_loss: 0.3990\n",
      "Epoch 35/50\n",
      "74/74 [==============================] - ETA: 0s\n",
      "Epoch 00035: ReduceLROnPlateau reducing learning rate to 1.0000001111620805e-07.\n",
      "74/74 [==============================] - 8s 102ms/step - val_loss: 0.3990\n",
      "Epoch 36/50\n",
      "74/74 [==============================] - 8s 106ms/step - val_loss: 0.3990\n",
      "Epoch 37/50\n",
      "74/74 [==============================] - 8s 111ms/step - val_loss: 0.3990\n",
      "Epoch 38/50\n",
      "74/74 [==============================] - 8s 102ms/step - val_loss: 0.3990\n",
      "Epoch 39/50\n",
      "74/74 [==============================] - 8s 108ms/step - val_loss: 0.3990\n",
      "Epoch 00039: early stopping\n"
     ]
    },
    {
     "data": {
      "text/plain": [
       "<tensorflow.python.keras.callbacks.History at 0x7f09d9482850>"
      ]
     },
     "execution_count": 7,
     "metadata": {},
     "output_type": "execute_result"
    }
   ],
   "source": [
    "callbacks = [tf.keras.callbacks.ReduceLROnPlateau(factor=0.1, patience=5, verbose=1),\n",
    "            tf.keras.callbacks.EarlyStopping(monitor='val_loss', patience=5, verbose=1)]\n",
    "gnn.fit((particles_bg, A_tilde_bg), A_bg, epochs=50, batch_size=128, validation_split=0.25, callbacks=callbacks)"
   ]
  },
  {
   "cell_type": "markdown",
   "id": "corporate-burner",
   "metadata": {},
   "source": [
    "## Predict BG and Sig"
   ]
  },
  {
   "cell_type": "code",
   "execution_count": 11,
   "id": "expensive-catering",
   "metadata": {},
   "outputs": [
    {
     "name": "stdout",
     "output_type": "stream",
     "text": [
      "Number of jets = 9966\n",
      "Number of constituents (nodes) = 100\n",
      "Number of features = 3\n"
     ]
    },
    {
     "name": "stderr",
     "output_type": "stream",
     "text": [
      "/eos/home-n/nchernya/MLHEP/AnomalyDetection/ADgvae/utils/preprocessing.py:38: RuntimeWarning: divide by zero encountered in power\n",
      "  D = np.nan_to_num(np.power(D,-0.5), posinf=0, neginf=0) # normalize (**-(1/2))\n"
     ]
    },
    {
     "name": "stdout",
     "output_type": "stream",
     "text": [
      "Number of jets = 9840\n",
      "Number of constituents (nodes) = 100\n",
      "Number of features = 3\n"
     ]
    }
   ],
   "source": [
    "#Prepare signal and background (for testing) samples\n",
    "\n",
    "#signal\n",
    "SIG_PATH = '/eos/project/d/dshep/TOPCLASS/DijetAnomaly/VAE_data/events/RSGraviton_WW_NARROW_13TeV_PU40_3.5TeV_NEW_parts/'\n",
    "filename_sig = SIG_PATH + 'RSGraviton_WW_NARROW_13TeV_PU40_3.5TeV_NEW_concat_001.h5'\n",
    "_,_, particles_sig, A_sig, A_tilde_sig = prepr.prepare_data(filename_sig,5000,0,5000)\n",
    "#background test \n",
    "_,_, particles_bg_test, A_bg_test, A_tilde_bg_test = prepr.prepare_data(filename_bg,5000,train_set_size+1,train_set_size+5000)\n"
   ]
  },
  {
   "cell_type": "code",
   "execution_count": 12,
   "id": "perfect-insertion",
   "metadata": {},
   "outputs": [],
   "source": [
    "z_sig, A_pred_sig = gnn((particles_sig, A_tilde_sig))\n",
    "z_bg_test, A_pred_bg_test = gnn((particles_bg_test, A_tilde_bg_test))\n",
    "loss_signal = tf.math.reduce_mean(tf.nn.sigmoid_cross_entropy_with_logits(A_sig, A_pred_sig), axis=(1,2)).numpy() #predicted adjecny, but not set to 0/1 yet\n",
    "loss_bg = tf.math.reduce_mean(tf.nn.sigmoid_cross_entropy_with_logits(A_bg_test, A_pred_bg_test), axis=(1,2)).numpy()"
   ]
  },
  {
   "cell_type": "code",
   "execution_count": 13,
   "id": "sought-weekly",
   "metadata": {
    "scrolled": true
   },
   "outputs": [
    {
     "data": {
      "image/png": "[encoded data removed]",
      "text/plain": [
       "<Figure size 432x288 with 1 Axes>"
      ]
     },
     "metadata": {
      "needs_background": "light"
     },
     "output_type": "display_data"
    }
   ],
   "source": [
    "max_score = np.max(np.max(loss_signal))#,np.max(loss_bg_dist))\n",
    "min_score = np.max(np.min(loss_bg))#,np.max(loss_bg_dist))\n",
    "# plot BG\n",
    "plt.figure()\n",
    "plt.hist(loss_bg, bins=100, label='BG', density=True, range=(min_score, max_score), \n",
    "         histtype='step', fill=False, linewidth=1.5,color='g')\n",
    "plt.hist(loss_signal, bins=100, label='SIG', density=True, range=(min_score, max_score), \n",
    "         histtype='step', fill=False, linewidth=1.5,color='r')\n",
    "#plt.semilogy()\n",
    "plt.xlabel(\"AE Loss\")\n",
    "plt.ylabel(\"Probability (a.u.)\")\n",
    "plt.grid(True)\n",
    "plt.legend(loc='upper right')\n",
    "plt.show()"
   ]
  },
  {
   "cell_type": "code",
   "execution_count": null,
   "id": "offshore-louis",
   "metadata": {},
   "outputs": [],
   "source": []
  },
  {
   "cell_type": "code",
   "execution_count": null,
   "id": "black-festival",
   "metadata": {},
   "outputs": [],
   "source": []
  },
  {
   "cell_type": "markdown",
   "id": "exciting-emerald",
   "metadata": {},
   "source": [
    "# GCN VAE"
   ]
  },
  {
   "cell_type": "code",
   "execution_count": 5,
   "id": "instructional-acquisition",
   "metadata": {},
   "outputs": [],
   "source": [
    "def threeD_loss_manual(inputs, outputs):\n",
    "    distances = np.sum(np.subtract(inputs[:,:,np.newaxis,:],outputs[:,np.newaxis,:,:])**2, axis=-1)\n",
    "    min_dist_to_inputs = np.min(distances,axis=1)\n",
    "    min_dist_to_outputs = np.min(distances,axis=2)\n",
    "    return np.sum(min_dist_to_inputs,axis=1) + np.sum(min_dist_to_outputs,axis=1)\n",
    "\n"
   ]
  },
  {
   "cell_type": "code",
   "execution_count": 94,
   "id": "quantitative-rapid",
   "metadata": {},
   "outputs": [
    {
     "data": {
      "text/plain": [
       "<module 'utils.preprocessing' from '/eos/home-n/nchernya/MLHEP/AnomalyDetection/ADgvae/utils/preprocessing.py'>"
      ]
     },
     "execution_count": 94,
     "metadata": {},
     "output_type": "execute_result"
    }
   ],
   "source": [
    "import models.losses as losses\n",
    "reload(losses)\n",
    "import models.models as models\n",
    "reload(models)\n",
    "import utils.preprocessing as prepr\n",
    "reload(prepr)\n"
   ]
  },
  {
   "cell_type": "code",
   "execution_count": 95,
   "id": "contemporary-sucking",
   "metadata": {
    "scrolled": true
   },
   "outputs": [
    {
     "name": "stdout",
     "output_type": "stream",
     "text": [
      "100\n",
      "Model: \"functional_61\"\n",
      "__________________________________________________________________________________________________\n",
      "Layer (type)                    Output Shape         Param #     Connected to                     \n",
      "==================================================================================================\n",
      "encoder_input_features (InputLa [(None, 100, 3)]     0                                            \n",
      "__________________________________________________________________________________________________\n",
      "encoder_input_adjacency (InputL [(None, 100, 100)]   0                                            \n",
      "__________________________________________________________________________________________________\n",
      "graph_convolution_51 (GraphConv (None, 100, 2)       14          encoder_input_features[0][0]     \n",
      "                                                                 encoder_input_adjacency[0][0]    \n",
      "__________________________________________________________________________________________________\n",
      "flatten_20 (Flatten)            (None, 200)          0           graph_convolution_51[0][0]       \n",
      "__________________________________________________________________________________________________\n",
      "dense_80 (Dense)                (None, 100)          20100       flatten_20[0][0]                 \n",
      "__________________________________________________________________________________________________\n",
      "dense_81 (Dense)                (None, 50)           5050        dense_80[0][0]                   \n",
      "__________________________________________________________________________________________________\n",
      "tf_op_layer_Shape_60 (TensorFlo [(2,)]               0           dense_81[0][0]                   \n",
      "__________________________________________________________________________________________________\n",
      "tf_op_layer_Shape_61 (TensorFlo [(2,)]               0           dense_81[0][0]                   \n",
      "__________________________________________________________________________________________________\n",
      "tf_op_layer_strided_slice_40 (T [()]                 0           tf_op_layer_Shape_60[0][0]       \n",
      "__________________________________________________________________________________________________\n",
      "tf_op_layer_strided_slice_41 (T [()]                 0           tf_op_layer_Shape_61[0][0]       \n",
      "__________________________________________________________________________________________________\n",
      "tf_op_layer_shape_62 (TensorFlo [(2,)]               0           tf_op_layer_strided_slice_40[0][0\n",
      "                                                                 tf_op_layer_strided_slice_41[0][0\n",
      "__________________________________________________________________________________________________\n",
      "dense_82 (Dense)                (None, 50)           5050        dense_80[0][0]                   \n",
      "__________________________________________________________________________________________________\n",
      "tf_op_layer_RandomStandardNorma [(None, None)]       0           tf_op_layer_shape_62[0][0]       \n",
      "__________________________________________________________________________________________________\n",
      "tf_op_layer_Mul_61 (TensorFlowO [(None, 50)]         0           dense_82[0][0]                   \n",
      "__________________________________________________________________________________________________\n",
      "tf_op_layer_Mul_60 (TensorFlowO [(None, None)]       0           tf_op_layer_RandomStandardNormal_\n",
      "__________________________________________________________________________________________________\n",
      "tf_op_layer_Exp_20 (TensorFlowO [(None, 50)]         0           tf_op_layer_Mul_61[0][0]         \n",
      "__________________________________________________________________________________________________\n",
      "tf_op_layer_Add_20 (TensorFlowO [(None, None)]       0           tf_op_layer_Mul_60[0][0]         \n",
      "__________________________________________________________________________________________________\n",
      "tf_op_layer_Mul_62 (TensorFlowO [(None, 50)]         0           tf_op_layer_Exp_20[0][0]         \n",
      "                                                                 tf_op_layer_Add_20[0][0]         \n",
      "__________________________________________________________________________________________________\n",
      "tf_op_layer_AddV2_20 (TensorFlo [(None, 50)]         0           dense_81[0][0]                   \n",
      "                                                                 tf_op_layer_Mul_62[0][0]         \n",
      "==================================================================================================\n",
      "Total params: 30,214\n",
      "Trainable params: 30,214\n",
      "Non-trainable params: 0\n",
      "__________________________________________________________________________________________________\n",
      "100\n",
      "Model: \"functional_63\"\n",
      "__________________________________________________________________________________________________\n",
      "Layer (type)                    Output Shape         Param #     Connected to                     \n",
      "==================================================================================================\n",
      "encoder_input_features (InputLa [(None, 100, 3)]     0                                            \n",
      "__________________________________________________________________________________________________\n",
      "encoder_input_adjacency (InputL [(None, 100, 100)]   0                                            \n",
      "__________________________________________________________________________________________________\n",
      "graph_convolution_52 (GraphConv (None, 100, 2)       14          encoder_input_features[0][0]     \n",
      "                                                                 encoder_input_adjacency[0][0]    \n",
      "__________________________________________________________________________________________________\n",
      "flatten_21 (Flatten)            (None, 200)          0           graph_convolution_52[0][0]       \n",
      "__________________________________________________________________________________________________\n",
      "dense_83 (Dense)                (None, 100)          20100       flatten_21[0][0]                 \n",
      "__________________________________________________________________________________________________\n",
      "dense_84 (Dense)                (None, 50)           5050        dense_83[0][0]                   \n",
      "__________________________________________________________________________________________________\n",
      "tf_op_layer_Shape_63 (TensorFlo [(2,)]               0           dense_84[0][0]                   \n",
      "__________________________________________________________________________________________________\n",
      "tf_op_layer_Shape_64 (TensorFlo [(2,)]               0           dense_84[0][0]                   \n",
      "__________________________________________________________________________________________________\n",
      "tf_op_layer_strided_slice_42 (T [()]                 0           tf_op_layer_Shape_63[0][0]       \n",
      "__________________________________________________________________________________________________\n",
      "tf_op_layer_strided_slice_43 (T [()]                 0           tf_op_layer_Shape_64[0][0]       \n",
      "__________________________________________________________________________________________________\n",
      "tf_op_layer_shape_65 (TensorFlo [(2,)]               0           tf_op_layer_strided_slice_42[0][0\n",
      "                                                                 tf_op_layer_strided_slice_43[0][0\n",
      "__________________________________________________________________________________________________\n",
      "dense_85 (Dense)                (None, 50)           5050        dense_83[0][0]                   \n",
      "__________________________________________________________________________________________________\n",
      "tf_op_layer_RandomStandardNorma [(None, None)]       0           tf_op_layer_shape_65[0][0]       \n",
      "__________________________________________________________________________________________________\n",
      "tf_op_layer_Mul_64 (TensorFlowO [(None, 50)]         0           dense_85[0][0]                   \n",
      "__________________________________________________________________________________________________\n",
      "tf_op_layer_Mul_63 (TensorFlowO [(None, None)]       0           tf_op_layer_RandomStandardNormal_\n",
      "__________________________________________________________________________________________________\n",
      "tf_op_layer_Exp_21 (TensorFlowO [(None, 50)]         0           tf_op_layer_Mul_64[0][0]         \n",
      "__________________________________________________________________________________________________\n",
      "tf_op_layer_Add_21 (TensorFlowO [(None, None)]       0           tf_op_layer_Mul_63[0][0]         \n",
      "__________________________________________________________________________________________________\n",
      "tf_op_layer_Mul_65 (TensorFlowO [(None, 50)]         0           tf_op_layer_Exp_21[0][0]         \n",
      "                                                                 tf_op_layer_Add_21[0][0]         \n",
      "__________________________________________________________________________________________________\n",
      "tf_op_layer_AddV2_21 (TensorFlo [(None, 50)]         0           dense_84[0][0]                   \n",
      "                                                                 tf_op_layer_Mul_65[0][0]         \n",
      "==================================================================================================\n",
      "Total params: 30,214\n",
      "Trainable params: 30,214\n",
      "Non-trainable params: 0\n",
      "__________________________________________________________________________________________________\n",
      "Model: \"functional_65\"\n",
      "__________________________________________________________________________________________________\n",
      "Layer (type)                    Output Shape         Param #     Connected to                     \n",
      "==================================================================================================\n",
      "decoder_input_latent_space (Inp [(None, 50)]         0                                            \n",
      "__________________________________________________________________________________________________\n",
      "dense_86 (Dense)                (None, 100)          5100        decoder_input_latent_space[0][0] \n",
      "__________________________________________________________________________________________________\n",
      "dense_87 (Dense)                (None, 200)          20200       dense_86[0][0]                   \n",
      "__________________________________________________________________________________________________\n",
      "reshape_10 (Reshape)            (None, 100, 2)       0           dense_87[0][0]                   \n",
      "__________________________________________________________________________________________________\n",
      "decoder_input_adjacency (InputL [(None, 100, 100)]   0                                            \n",
      "__________________________________________________________________________________________________\n",
      "graph_convolution_53 (GraphConv (None, 100, 3)       15          reshape_10[0][0]                 \n",
      "                                                                 decoder_input_adjacency[0][0]    \n",
      "==================================================================================================\n",
      "Total params: 25,315\n",
      "Trainable params: 25,315\n",
      "Non-trainable params: 0\n",
      "__________________________________________________________________________________________________\n"
     ]
    }
   ],
   "source": [
    "gcnvae = models.GCNVariationalAutoEncoder(nodes_n=nodes_n, feat_sz=feat_sz, activation=tf.nn.tanh,latent_dim=50,kl_warmup_time=10)\n",
    "gcnvae.compile(optimizer=tf.keras.optimizers.Adam(learning_rate=0.01), run_eagerly=True)"
   ]
  },
  {
   "cell_type": "code",
   "execution_count": 96,
   "id": "numeric-oxygen",
   "metadata": {},
   "outputs": [
    {
     "data": {
      "image/png": "[encoded data removed]",
      "text/plain": [
       "<IPython.core.display.Image object>"
      ]
     },
     "execution_count": 96,
     "metadata": {},
     "output_type": "execute_result"
    }
   ],
   "source": [
    "tf.keras.utils.plot_model(gcnvae, show_shapes=True)"
   ]
  },
  {
   "cell_type": "code",
   "execution_count": 97,
   "id": "generic-check",
   "metadata": {},
   "outputs": [],
   "source": [
    "custom_callback = models.KLWarmupCallback()"
   ]
  },
  {
   "cell_type": "code",
   "execution_count": 107,
   "id": "assured-impression",
   "metadata": {
    "scrolled": true
   },
   "outputs": [
    {
     "name": "stdout",
     "output_type": "stream",
     "text": [
      "Epoch 1/30\n",
      "50/50 [==============================] - 4s 72ms/step - loss: 0.8953 - loss_reco: 0.8953 - loss_latent: 2.4842e-04 - beta_kl_warmup: 0.0000e+00 - val_loss: 0.9874 - val_loss_reco: 0.9874 - val_loss_latent: 0.0289\n",
      "Epoch 2/30\n",
      "50/50 [==============================] - 4s 75ms/step - loss: 0.8949 - loss_reco: 0.8948 - loss_latent: 9.2048e-05 - beta_kl_warmup: 0.1000 - val_loss: 0.9989 - val_loss_reco: 0.9699 - val_loss_latent: 0.0289\n",
      "Epoch 3/30\n",
      "50/50 [==============================] - 3s 68ms/step - loss: 0.8945 - loss_reco: 0.8945 - loss_latent: 2.4275e-06 - beta_kl_warmup: 0.2000 - val_loss: 1.0310 - val_loss_reco: 0.9731 - val_loss_latent: 0.0289\n",
      "Epoch 4/30\n",
      "50/50 [==============================] - 3s 67ms/step - loss: 0.8943 - loss_reco: 0.8943 - loss_latent: 1.4110e-06 - beta_kl_warmup: 0.3000 - val_loss: 1.0823 - val_loss_reco: 0.9954 - val_loss_latent: 0.0289\n",
      "Epoch 5/30\n",
      "50/50 [==============================] - 4s 73ms/step - loss: 0.8912 - loss_reco: 0.8912 - loss_latent: 9.8975e-07 - beta_kl_warmup: 0.4000 - val_loss: 1.0868 - val_loss_reco: 0.9710 - val_loss_latent: 0.0289\n",
      "Epoch 6/30\n",
      "50/50 [==============================] - ETA: 0s - loss: 0.8922 - loss_reco: 0.8922 - loss_latent: 7.8449e-07 - beta_kl_warmup: 0.5000\n",
      "Epoch 00006: ReduceLROnPlateau reducing learning rate to 0.0009999999776482583.\n",
      "50/50 [==============================] - 4s 71ms/step - loss: 0.8924 - loss_reco: 0.8924 - loss_latent: 7.8662e-07 - beta_kl_warmup: 0.5000 - val_loss: 1.1182 - val_loss_reco: 0.9734 - val_loss_latent: 0.0290\n",
      "Epoch 00006: early stopping\n"
     ]
    },
    {
     "data": {
      "text/plain": [
       "<tensorflow.python.keras.callbacks.History at 0x7f11a2bc2ca0>"
      ]
     },
     "execution_count": 107,
     "metadata": {},
     "output_type": "execute_result"
    }
   ],
   "source": [
    "callbacks = [tf.keras.callbacks.ReduceLROnPlateau(factor=0.1, patience=5, verbose=2),\n",
    "            tf.keras.callbacks.EarlyStopping(monitor='val_loss', patience=5, verbose=2),custom_callback] \n",
    "gcnvae.fit(particles_bg, A_tilde_bg, epochs=30, batch_size=128, validation_data = ((particles_bg_valid, A_bg_valid)), callbacks=callbacks) "
   ]
  },
  {
   "cell_type": "code",
   "execution_count": 56,
   "id": "bound-reservation",
   "metadata": {},
   "outputs": [],
   "source": [
    "#background"
   ]
  },
  {
   "cell_type": "code",
   "execution_count": 13,
   "id": "bacterial-knowing",
   "metadata": {},
   "outputs": [
    {
     "name": "stdout",
     "output_type": "stream",
     "text": [
      "Number of jets = 3929\n",
      "Number of constituents (nodes) = 100\n",
      "Number of features = 3\n"
     ]
    }
   ],
   "source": [
    "_,_, particles_bg_test, A_bg_test, A_tilde_bg_test = prepr.prepare_data(filename_bg,2000,train_set_size+1,train_set_size+2000)\n"
   ]
  },
  {
   "cell_type": "code",
   "execution_count": 14,
   "id": "bibliographic-concern",
   "metadata": {},
   "outputs": [
    {
     "name": "stdout",
     "output_type": "stream",
     "text": [
      "Number of jets = 363512\n",
      "Number of constituents (nodes) = 100\n",
      "Number of features = 3\n"
     ]
    }
   ],
   "source": [
    "#signal\n",
    "SIG_PATH = '/eos/project/d/dshep/TOPCLASS/DijetAnomaly/VAE_data/events/RSGraviton_WW_NARROW_13TeV_PU40_1.5TeV_NEW_parts/'\n",
    "filename_sig = SIG_PATH + 'RSGraviton_WW_NARROW_13TeV_PU40_1.5TeV_NEW_concat_001.h5'\n",
    "nodes_n, feat_sz, particles_sig, A_sig, A_tilde_sig = prepr.prepare_data(filename_sig,2000)\n"
   ]
  },
  {
   "cell_type": "code",
   "execution_count": 157,
   "id": "pacific-obligation",
   "metadata": {},
   "outputs": [],
   "source": [
    "loaded_1 = tf.keras.models.load_model(\n",
    "    \"output_model_saved_003\", custom_objects={\"GCNVariationalAutoEncoder\": models.GCNVariationalAutoEncoder}\n",
    ")\n"
   ]
  },
  {
   "cell_type": "code",
   "execution_count": 108,
   "id": "divine-circus",
   "metadata": {},
   "outputs": [],
   "source": [
    "#Predict\n",
    "\n",
    "#model = loaded_1\n",
    "model = gcnvae\n",
    "\n",
    "features_out_bg_test, z_bg_test, z_mean_bg_test, z_log_var_bg_test = model((particles_bg_test, A_tilde_bg_test))\n",
    "features_out_bg_test = features_out_bg_test.numpy().astype('float32')\n",
    "loss_bg = threeD_loss_manual(particles_bg_test.astype('float32'),features_out_bg_test)\n",
    "\n",
    "features_out_sig, z_sig, z_mean_sig, z_log_var_sig = model((particles_sig, A_tilde_sig))\n",
    "features_out_sig = features_out_sig.numpy().astype('float32')\n",
    "loss_signal = threeD_loss_manual(particles_sig.astype('float32'),features_out_sig)"
   ]
  },
  {
   "cell_type": "code",
   "execution_count": 109,
   "id": "duplicate-density",
   "metadata": {},
   "outputs": [
    {
     "data": {
      "image/png": "[encoded data removed]",
      "text/plain": [
       "<Figure size 432x288 with 1 Axes>"
      ]
     },
     "metadata": {
      "needs_background": "light"
     },
     "output_type": "display_data"
    }
   ],
   "source": [
    "max_score = np.quantile(loss_signal,0.9)#,np.max(loss_bg_dist))\n",
    "min_score = np.min(loss_bg)#,np.max(loss_bg_dist))\n",
    "# plot BG\n",
    "plt.figure()\n",
    "plt.hist(loss_bg, bins=50, label='BG', density=True, range=(min_score, max_score), \n",
    "         histtype='step', fill=False, linewidth=1.5,color='g')\n",
    "plt.hist(loss_signal, bins=50, label='SIG', density=True, range=(min_score, max_score), \n",
    "         histtype='step', fill=False, linewidth=1.5,color='r')\n",
    "#plt.semilogy()\n",
    "plt.xlabel(\"VAE Chamfer Loss\")\n",
    "plt.ylabel(\"Normalized Dist.\")\n",
    "plt.grid(True)\n",
    "plt.legend(loc='upper right')\n",
    "plt.show()"
   ]
  },
  {
   "cell_type": "code",
   "execution_count": 101,
   "id": "listed-keyboard",
   "metadata": {},
   "outputs": [
    {
     "data": {
      "text/plain": [
       "89.00744"
      ]
     },
     "execution_count": 101,
     "metadata": {},
     "output_type": "execute_result"
    }
   ],
   "source": [
    "loss_signal.mean()"
   ]
  },
  {
   "cell_type": "code",
   "execution_count": 102,
   "id": "indie-certification",
   "metadata": {},
   "outputs": [
    {
     "data": {
      "text/plain": [
       "89.50076"
      ]
     },
     "execution_count": 102,
     "metadata": {},
     "output_type": "execute_result"
    }
   ],
   "source": [
    "loss_bg.mean()"
   ]
  },
  {
   "cell_type": "code",
   "execution_count": 12,
   "id": "fifty-consultancy",
   "metadata": {},
   "outputs": [],
   "source": [
    "import sys, os\n",
    "sys.path.append(os.path.abspath(os.path.join('..')))\n",
    "sys.path.append(os.path.abspath(os.path.join('../vande/')))\n",
    "sys.path.append(os.path.abspath(os.path.join('../pofah/')))"
   ]
  },
  {
   "cell_type": "code",
   "execution_count": 105,
   "id": "moral-contemporary",
   "metadata": {},
   "outputs": [
    {
     "data": {
      "text/plain": [
       "114.77048797607422"
      ]
     },
     "execution_count": 105,
     "metadata": {},
     "output_type": "execute_result"
    }
   ],
   "source": [
    "np.quantile(loss_bg,0.8)"
   ]
  },
  {
   "cell_type": "code",
   "execution_count": 106,
   "id": "smaller-matter",
   "metadata": {},
   "outputs": [
    {
     "data": {
      "text/plain": [
       "120.73636016845704"
      ]
     },
     "execution_count": 106,
     "metadata": {},
     "output_type": "execute_result"
    }
   ],
   "source": [
    "np.quantile(loss_signal,0.8)"
   ]
  },
  {
   "cell_type": "code",
   "execution_count": null,
   "id": "joint-spring",
   "metadata": {},
   "outputs": [],
   "source": []
  },
  {
   "cell_type": "code",
   "execution_count": null,
   "id": "legendary-sampling",
   "metadata": {},
   "outputs": [],
   "source": []
  },
  {
   "cell_type": "code",
   "execution_count": null,
   "id": "varied-neighborhood",
   "metadata": {},
   "outputs": [],
   "source": []
  },
  {
   "cell_type": "code",
   "execution_count": null,
   "id": "demographic-platform",
   "metadata": {},
   "outputs": [],
   "source": []
  },
  {
   "cell_type": "code",
   "execution_count": null,
   "id": "recreational-partner",
   "metadata": {},
   "outputs": [],
   "source": []
  },
  {
   "cell_type": "code",
   "execution_count": null,
   "id": "compliant-specification",
   "metadata": {},
   "outputs": [],
   "source": []
  },
  {
   "cell_type": "code",
   "execution_count": null,
   "id": "following-identification",
   "metadata": {},
   "outputs": [],
   "source": []
  },
  {
   "cell_type": "code",
   "execution_count": null,
   "id": "noticed-subscription",
   "metadata": {},
   "outputs": [],
   "source": []
  }
 ],
 "metadata": {
  "kernelspec": {
   "display_name": "Python 3",
   "language": "python",
   "name": "python3"
  },
  "language_info": {
   "codemirror_mode": {
    "name": "ipython",
    "version": 3
   },
   "file_extension": ".py",
   "mimetype": "text/x-python",
   "name": "python",
   "nbconvert_exporter": "python",
   "pygments_lexer": "ipython3",
   "version": "3.8.6"
  }
 },
 "nbformat": 4,
 "nbformat_minor": 5
}
