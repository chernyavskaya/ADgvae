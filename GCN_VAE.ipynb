{
 "cells": [
  {
   "cell_type": "code",
   "execution_count": 1,
   "id": "medium-nickname",
   "metadata": {},
   "outputs": [],
   "source": [
    "import tensorflow as tf\n",
    "import numpy as np\n",
    "import h5py\n",
    "import matplotlib.pyplot as plt\n",
    "from importlib import reload"
   ]
  },
  {
   "cell_type": "code",
   "execution_count": 2,
   "id": "characteristic-attribute",
   "metadata": {},
   "outputs": [
    {
     "data": {
      "text/plain": [
       "<module 'utils.preprocessing' from '/eos/home-n/nchernya/MLHEP/AnomalyDetection/ADgvae/utils/preprocessing.py'>"
      ]
     },
     "execution_count": 2,
     "metadata": {},
     "output_type": "execute_result"
    }
   ],
   "source": [
    "import models.models as models\n",
    "reload(models)\n",
    "import utils.preprocessing as prepr\n",
    "reload(prepr)"
   ]
  },
  {
   "cell_type": "code",
   "execution_count": 3,
   "id": "comparative-ladder",
   "metadata": {},
   "outputs": [
    {
     "name": "stdout",
     "output_type": "stream",
     "text": [
      "Number of jets = 12571\n",
      "Number of constituents (nodes) = 100\n",
      "Number of features = 3\n"
     ]
    },
    {
     "name": "stderr",
     "output_type": "stream",
     "text": [
      "/eos/home-n/nchernya/MLHEP/AnomalyDetection/ADgvae/utils/preprocessing.py:38: RuntimeWarning: divide by zero encountered in power\n",
      "  D = np.nan_to_num(np.power(D,-0.5), posinf=0, neginf=0) # normalize (**-(1/2))\n"
     ]
    }
   ],
   "source": [
    "#Data Samples\n",
    "TRAIN_PATH = '/eos/project/d/dshep/TOPCLASS/DijetAnomaly/VAE_data/events/qcd_sqrtshatTeV_13TeV_PU40_NEW_sideband_parts/'\n",
    "filename_bg = TRAIN_PATH + 'qcd_sqrtshatTeV_13TeV_PU40_NEW_sideband_000.h5'\n",
    "batch_size = 128\n",
    "train_set_size = batch_size*50\n",
    "nodes_n, feat_sz, particles_bg, A_bg, A_tilde_bg = prepr.prepare_data(filename_bg,train_set_size,0,train_set_size+1) #20"
   ]
  },
  {
   "cell_type": "code",
   "execution_count": 4,
   "id": "massive-dining",
   "metadata": {},
   "outputs": [
    {
     "name": "stdout",
     "output_type": "stream",
     "text": [
      "(6400, 100, 3) (6400, 100, 100) (6400, 100, 100)\n"
     ]
    }
   ],
   "source": [
    "print(particles_bg.shape, A_tilde_bg.shape, A_bg.shape)"
   ]
  },
  {
   "cell_type": "code",
   "execution_count": null,
   "id": "cleared-passing",
   "metadata": {},
   "outputs": [],
   "source": []
  },
  {
   "cell_type": "markdown",
   "id": "express-absolute",
   "metadata": {},
   "source": [
    "# Autoencoder"
   ]
  },
  {
   "cell_type": "code",
   "execution_count": 6,
   "id": "hourly-softball",
   "metadata": {},
   "outputs": [
    {
     "name": "stdout",
     "output_type": "stream",
     "text": [
      "Model: \"functional_1\"\n",
      "__________________________________________________________________________________________________\n",
      "Layer (type)                    Output Shape         Param #     Connected to                     \n",
      "==================================================================================================\n",
      "encoder_input_features (InputLa [(None, 100, 3)]     0                                            \n",
      "__________________________________________________________________________________________________\n",
      "encoder_input_adjacency (InputL [(None, 100, 100)]   0                                            \n",
      "__________________________________________________________________________________________________\n",
      "graph_convolution (GraphConvolu (None, 100, 6)       42          encoder_input_features[0][0]     \n",
      "                                                                 encoder_input_adjacency[0][0]    \n",
      "__________________________________________________________________________________________________\n",
      "graph_convolution_1 (GraphConvo (None, 100, 8)       104         graph_convolution[0][0]          \n",
      "                                                                 encoder_input_adjacency[0][0]    \n",
      "__________________________________________________________________________________________________\n",
      "graph_convolution_2 (GraphConvo (None, 100, 4)       68          graph_convolution_1[0][0]        \n",
      "                                                                 encoder_input_adjacency[0][0]    \n",
      "__________________________________________________________________________________________________\n",
      "graph_convolution_3 (GraphConvo (None, 100, 2)       18          graph_convolution_2[0][0]        \n",
      "                                                                 encoder_input_adjacency[0][0]    \n",
      "__________________________________________________________________________________________________\n",
      "graph_convolution_4 (GraphConvo (None, 100, 1)       5           graph_convolution_3[0][0]        \n",
      "                                                                 encoder_input_adjacency[0][0]    \n",
      "==================================================================================================\n",
      "Total params: 237\n",
      "Trainable params: 237\n",
      "Non-trainable params: 0\n",
      "__________________________________________________________________________________________________\n"
     ]
    }
   ],
   "source": [
    "gnn = models.GraphAutoencoder(nodes_n=nodes_n, feat_sz=feat_sz, activation=tf.nn.tanh)\n",
    "gnn.compile(optimizer=tf.keras.optimizers.Adam(learning_rate=0.001), run_eagerly=True)  #learning rate 0.001 worked"
   ]
  },
  {
   "cell_type": "code",
   "execution_count": 7,
   "id": "beginning-diagram",
   "metadata": {
    "scrolled": true
   },
   "outputs": [
    {
     "name": "stdout",
     "output_type": "stream",
     "text": [
      "Epoch 1/50\n",
      "74/74 [==============================] - 8s 111ms/step - val_loss: 0.4226\n",
      "Epoch 2/50\n",
      "74/74 [==============================] - 7s 95ms/step - val_loss: 0.4060\n",
      "Epoch 3/50\n",
      "74/74 [==============================] - 8s 105ms/step - val_loss: 0.4033\n",
      "Epoch 4/50\n",
      "74/74 [==============================] - 8s 111ms/step - val_loss: 0.4018\n",
      "Epoch 5/50\n",
      "74/74 [==============================] - 8s 108ms/step - val_loss: 0.4009\n",
      "Epoch 6/50\n",
      "74/74 [==============================] - 8s 106ms/step - val_loss: 0.4003\n",
      "Epoch 7/50\n",
      "74/74 [==============================] - 8s 107ms/step - val_loss: 0.3999\n",
      "Epoch 8/50\n",
      "74/74 [==============================] - 8s 106ms/step - val_loss: 0.3996\n",
      "Epoch 9/50\n",
      "74/74 [==============================] - 8s 103ms/step - val_loss: 0.3994\n",
      "Epoch 10/50\n",
      "74/74 [==============================] - 7s 93ms/step - val_loss: 0.3993\n",
      "Epoch 11/50\n",
      "74/74 [==============================] - 8s 107ms/step - val_loss: 0.3992\n",
      "Epoch 12/50\n",
      "74/74 [==============================] - 8s 106ms/step - val_loss: 0.3991\n",
      "Epoch 13/50\n",
      "74/74 [==============================] - 8s 106ms/step - val_loss: 0.3991\n",
      "Epoch 14/50\n",
      "74/74 [==============================] - 8s 106ms/step - val_loss: 0.3991\n",
      "Epoch 15/50\n",
      "74/74 [==============================] - 8s 106ms/step - val_loss: 0.3990\n",
      "Epoch 16/50\n",
      "74/74 [==============================] - 8s 108ms/step - val_loss: 0.3990\n",
      "Epoch 17/50\n",
      "74/74 [==============================] - 7s 99ms/step - val_loss: 0.3990\n",
      "Epoch 18/50\n",
      "74/74 [==============================] - 7s 99ms/step - val_loss: 0.3990\n",
      "Epoch 19/50\n",
      "74/74 [==============================] - 8s 106ms/step - val_loss: 0.3990\n",
      "Epoch 20/50\n",
      "74/74 [==============================] - ETA: 0s\n",
      "Epoch 00020: ReduceLROnPlateau reducing learning rate to 0.00010000000474974513.\n",
      "74/74 [==============================] - 8s 107ms/step - val_loss: 0.3990\n",
      "Epoch 21/50\n",
      "74/74 [==============================] - 8s 107ms/step - val_loss: 0.3990\n",
      "Epoch 22/50\n",
      "74/74 [==============================] - 8s 107ms/step - val_loss: 0.3990\n",
      "Epoch 23/50\n",
      "74/74 [==============================] - 8s 106ms/step - val_loss: 0.3990\n",
      "Epoch 24/50\n",
      "74/74 [==============================] - 8s 106ms/step - val_loss: 0.3990\n",
      "Epoch 25/50\n",
      "74/74 [==============================] - ETA: 0s\n",
      "Epoch 00025: ReduceLROnPlateau reducing learning rate to 1.0000000474974514e-05.\n",
      "74/74 [==============================] - 7s 93ms/step - val_loss: 0.3990\n",
      "Epoch 26/50\n",
      "74/74 [==============================] - 8s 103ms/step - val_loss: 0.3990\n",
      "Epoch 27/50\n",
      "74/74 [==============================] - 8s 106ms/step - val_loss: 0.3990\n",
      "Epoch 28/50\n",
      "74/74 [==============================] - 8s 105ms/step - val_loss: 0.3990\n",
      "Epoch 29/50\n",
      "74/74 [==============================] - 8s 110ms/step - val_loss: 0.3990\n",
      "Epoch 30/50\n",
      "74/74 [==============================] - ETA: 0s\n",
      "Epoch 00030: ReduceLROnPlateau reducing learning rate to 1.0000000656873453e-06.\n",
      "74/74 [==============================] - 8s 105ms/step - val_loss: 0.3990\n",
      "Epoch 31/50\n",
      "74/74 [==============================] - 8s 104ms/step - val_loss: 0.3990\n",
      "Epoch 32/50\n",
      "74/74 [==============================] - 8s 102ms/step - val_loss: 0.3990\n",
      "Epoch 33/50\n",
      "74/74 [==============================] - 7s 95ms/step - val_loss: 0.3990\n",
      "Epoch 34/50\n",
      "74/74 [==============================] - 8s 104ms/step - val_loss: 0.3990\n",
      "Epoch 35/50\n",
      "74/74 [==============================] - ETA: 0s\n",
      "Epoch 00035: ReduceLROnPlateau reducing learning rate to 1.0000001111620805e-07.\n",
      "74/74 [==============================] - 8s 102ms/step - val_loss: 0.3990\n",
      "Epoch 36/50\n",
      "74/74 [==============================] - 8s 106ms/step - val_loss: 0.3990\n",
      "Epoch 37/50\n",
      "74/74 [==============================] - 8s 111ms/step - val_loss: 0.3990\n",
      "Epoch 38/50\n",
      "74/74 [==============================] - 8s 102ms/step - val_loss: 0.3990\n",
      "Epoch 39/50\n",
      "74/74 [==============================] - 8s 108ms/step - val_loss: 0.3990\n",
      "Epoch 00039: early stopping\n"
     ]
    },
    {
     "data": {
      "text/plain": [
       "<tensorflow.python.keras.callbacks.History at 0x7f09d9482850>"
      ]
     },
     "execution_count": 7,
     "metadata": {},
     "output_type": "execute_result"
    }
   ],
   "source": [
    "callbacks = [tf.keras.callbacks.ReduceLROnPlateau(factor=0.1, patience=5, verbose=1),\n",
    "            tf.keras.callbacks.EarlyStopping(monitor='val_loss', patience=5, verbose=1)]\n",
    "gnn.fit((particles_bg, A_tilde_bg), A_bg, epochs=50, batch_size=128, validation_split=0.25, callbacks=callbacks)"
   ]
  },
  {
   "cell_type": "markdown",
   "id": "applied-order",
   "metadata": {},
   "source": [
    "## Predict BG and Sig"
   ]
  },
  {
   "cell_type": "code",
   "execution_count": 11,
   "id": "proved-distribution",
   "metadata": {},
   "outputs": [
    {
     "name": "stdout",
     "output_type": "stream",
     "text": [
      "Number of jets = 9966\n",
      "Number of constituents (nodes) = 100\n",
      "Number of features = 3\n"
     ]
    },
    {
     "name": "stderr",
     "output_type": "stream",
     "text": [
      "/eos/home-n/nchernya/MLHEP/AnomalyDetection/ADgvae/utils/preprocessing.py:38: RuntimeWarning: divide by zero encountered in power\n",
      "  D = np.nan_to_num(np.power(D,-0.5), posinf=0, neginf=0) # normalize (**-(1/2))\n"
     ]
    },
    {
     "name": "stdout",
     "output_type": "stream",
     "text": [
      "Number of jets = 9840\n",
      "Number of constituents (nodes) = 100\n",
      "Number of features = 3\n"
     ]
    }
   ],
   "source": [
    "#Prepare signal and background (for testing) samples\n",
    "\n",
    "#signal\n",
    "SIG_PATH = '/eos/project/d/dshep/TOPCLASS/DijetAnomaly/VAE_data/events/RSGraviton_WW_NARROW_13TeV_PU40_3.5TeV_NEW_parts/'\n",
    "filename_sig = SIG_PATH + 'RSGraviton_WW_NARROW_13TeV_PU40_3.5TeV_NEW_concat_001.h5'\n",
    "_,_, particles_sig, A_sig, A_tilde_sig = prepr.prepare_data(filename_sig,5000,0,5000)\n",
    "#background test \n",
    "_,_, particles_bg_test, A_bg_test, A_tilde_bg_test = prepr.prepare_data(filename_bg,5000,train_set_size+1,train_set_size+5000)\n"
   ]
  },
  {
   "cell_type": "code",
   "execution_count": 12,
   "id": "dirty-master",
   "metadata": {},
   "outputs": [],
   "source": [
    "z_sig, A_pred_sig = gnn((particles_sig, A_tilde_sig))\n",
    "z_bg_test, A_pred_bg_test = gnn((particles_bg_test, A_tilde_bg_test))\n",
    "loss_signal = tf.math.reduce_mean(tf.nn.sigmoid_cross_entropy_with_logits(A_sig, A_pred_sig), axis=(1,2)).numpy() #predicted adjecny, but not set to 0/1 yet\n",
    "loss_bg = tf.math.reduce_mean(tf.nn.sigmoid_cross_entropy_with_logits(A_bg_test, A_pred_bg_test), axis=(1,2)).numpy()"
   ]
  },
  {
   "cell_type": "code",
   "execution_count": 13,
   "id": "requested-brooks",
   "metadata": {
    "scrolled": true
   },
   "outputs": [
    {
     "data": {
      "image/png": "[encoded data removed]",
      "text/plain": [
       "<Figure size 432x288 with 1 Axes>"
      ]
     },
     "metadata": {
      "needs_background": "light"
     },
     "output_type": "display_data"
    }
   ],
   "source": [
    "max_score = np.max(np.max(loss_signal))#,np.max(loss_bg_dist))\n",
    "min_score = np.max(np.min(loss_bg))#,np.max(loss_bg_dist))\n",
    "# plot BG\n",
    "plt.figure()\n",
    "plt.hist(loss_bg, bins=100, label='BG', density=True, range=(min_score, max_score), \n",
    "         histtype='step', fill=False, linewidth=1.5,color='g')\n",
    "plt.hist(loss_signal, bins=100, label='SIG', density=True, range=(min_score, max_score), \n",
    "         histtype='step', fill=False, linewidth=1.5,color='r')\n",
    "#plt.semilogy()\n",
    "plt.xlabel(\"AE Loss\")\n",
    "plt.ylabel(\"Probability (a.u.)\")\n",
    "plt.grid(True)\n",
    "plt.legend(loc='upper right')\n",
    "plt.show()"
   ]
  },
  {
   "cell_type": "code",
   "execution_count": null,
   "id": "binary-temperature",
   "metadata": {},
   "outputs": [],
   "source": []
  },
  {
   "cell_type": "code",
   "execution_count": null,
   "id": "dried-welding",
   "metadata": {},
   "outputs": [],
   "source": []
  },
  {
   "cell_type": "markdown",
   "id": "obvious-referral",
   "metadata": {},
   "source": [
    "# Trying GCN VAE"
   ]
  },
  {
   "cell_type": "code",
   "execution_count": 16,
   "id": "rough-zambia",
   "metadata": {},
   "outputs": [],
   "source": [
    "def threeD_loss_manual(inputs, outputs):\n",
    "    distances = np.sum(np.subtract(inputs[:,:,np.newaxis,:],outputs[:,np.newaxis,:,:])**2, axis=-1)\n",
    "    min_dist_to_inputs = np.min(distances,axis=1)\n",
    "    min_dist_to_outputs = np.min(distances,axis=2)\n",
    "    return np.sum(min_dist_to_inputs,axis=1) + np.sum(min_dist_to_outputs,axis=1)\n",
    "\n"
   ]
  },
  {
   "cell_type": "code",
   "execution_count": 6,
   "id": "bizarre-island",
   "metadata": {},
   "outputs": [
    {
     "data": {
      "text/plain": [
       "<module 'utils.preprocessing' from '/eos/home-n/nchernya/MLHEP/AnomalyDetection/ADgvae/utils/preprocessing.py'>"
      ]
     },
     "execution_count": 6,
     "metadata": {},
     "output_type": "execute_result"
    }
   ],
   "source": [
    "import models.models as models\n",
    "reload(models)\n",
    "import utils.preprocessing as prepr\n",
    "reload(prepr)"
   ]
  },
  {
   "cell_type": "code",
   "execution_count": 7,
   "id": "electric-aquarium",
   "metadata": {
    "scrolled": true
   },
   "outputs": [
    {
     "name": "stdout",
     "output_type": "stream",
     "text": [
      "100\n",
      "Model: \"functional_1\"\n",
      "__________________________________________________________________________________________________\n",
      "Layer (type)                    Output Shape         Param #     Connected to                     \n",
      "==================================================================================================\n",
      "encoder_input_features (InputLa [(None, 100, 3)]     0                                            \n",
      "__________________________________________________________________________________________________\n",
      "encoder_input_adjacency (InputL [(None, 100, 100)]   0                                            \n",
      "__________________________________________________________________________________________________\n",
      "graph_convolution (GraphConvolu (None, 100, 2)       14          encoder_input_features[0][0]     \n",
      "                                                                 encoder_input_adjacency[0][0]    \n",
      "__________________________________________________________________________________________________\n",
      "flatten (Flatten)               (None, 200)          0           graph_convolution[0][0]          \n",
      "__________________________________________________________________________________________________\n",
      "dense (Dense)                   (None, 100)          20100       flatten[0][0]                    \n",
      "__________________________________________________________________________________________________\n",
      "dense_1 (Dense)                 (None, 30)           3030        dense[0][0]                      \n",
      "__________________________________________________________________________________________________\n",
      "tf_op_layer_Shape (TensorFlowOp [(2,)]               0           dense_1[0][0]                    \n",
      "__________________________________________________________________________________________________\n",
      "tf_op_layer_Shape_1 (TensorFlow [(2,)]               0           dense_1[0][0]                    \n",
      "__________________________________________________________________________________________________\n",
      "tf_op_layer_strided_slice (Tens [()]                 0           tf_op_layer_Shape[0][0]          \n",
      "__________________________________________________________________________________________________\n",
      "tf_op_layer_strided_slice_1 (Te [()]                 0           tf_op_layer_Shape_1[0][0]        \n",
      "__________________________________________________________________________________________________\n",
      "tf_op_layer_shape_2 (TensorFlow [(2,)]               0           tf_op_layer_strided_slice[0][0]  \n",
      "                                                                 tf_op_layer_strided_slice_1[0][0]\n",
      "__________________________________________________________________________________________________\n",
      "dense_2 (Dense)                 (None, 30)           3030        dense[0][0]                      \n",
      "__________________________________________________________________________________________________\n",
      "tf_op_layer_RandomStandardNorma [(None, None)]       0           tf_op_layer_shape_2[0][0]        \n",
      "__________________________________________________________________________________________________\n",
      "tf_op_layer_Mul_1 (TensorFlowOp [(None, 30)]         0           dense_2[0][0]                    \n",
      "__________________________________________________________________________________________________\n",
      "tf_op_layer_Mul (TensorFlowOpLa [(None, None)]       0           tf_op_layer_RandomStandardNormal[\n",
      "__________________________________________________________________________________________________\n",
      "tf_op_layer_Exp (TensorFlowOpLa [(None, 30)]         0           tf_op_layer_Mul_1[0][0]          \n",
      "__________________________________________________________________________________________________\n",
      "tf_op_layer_Add (TensorFlowOpLa [(None, None)]       0           tf_op_layer_Mul[0][0]            \n",
      "__________________________________________________________________________________________________\n",
      "tf_op_layer_Mul_2 (TensorFlowOp [(None, 30)]         0           tf_op_layer_Exp[0][0]            \n",
      "                                                                 tf_op_layer_Add[0][0]            \n",
      "__________________________________________________________________________________________________\n",
      "tf_op_layer_AddV2 (TensorFlowOp [(None, 30)]         0           dense_1[0][0]                    \n",
      "                                                                 tf_op_layer_Mul_2[0][0]          \n",
      "==================================================================================================\n",
      "Total params: 26,174\n",
      "Trainable params: 26,174\n",
      "Non-trainable params: 0\n",
      "__________________________________________________________________________________________________\n",
      "100\n",
      "Model: \"functional_3\"\n",
      "__________________________________________________________________________________________________\n",
      "Layer (type)                    Output Shape         Param #     Connected to                     \n",
      "==================================================================================================\n",
      "encoder_input_features (InputLa [(None, 100, 3)]     0                                            \n",
      "__________________________________________________________________________________________________\n",
      "encoder_input_adjacency (InputL [(None, 100, 100)]   0                                            \n",
      "__________________________________________________________________________________________________\n",
      "graph_convolution_1 (GraphConvo (None, 100, 2)       14          encoder_input_features[0][0]     \n",
      "                                                                 encoder_input_adjacency[0][0]    \n",
      "__________________________________________________________________________________________________\n",
      "flatten_1 (Flatten)             (None, 200)          0           graph_convolution_1[0][0]        \n",
      "__________________________________________________________________________________________________\n",
      "dense_3 (Dense)                 (None, 100)          20100       flatten_1[0][0]                  \n",
      "__________________________________________________________________________________________________\n",
      "dense_4 (Dense)                 (None, 30)           3030        dense_3[0][0]                    \n",
      "__________________________________________________________________________________________________\n",
      "tf_op_layer_Shape_3 (TensorFlow [(2,)]               0           dense_4[0][0]                    \n",
      "__________________________________________________________________________________________________\n",
      "tf_op_layer_Shape_4 (TensorFlow [(2,)]               0           dense_4[0][0]                    \n",
      "__________________________________________________________________________________________________\n",
      "tf_op_layer_strided_slice_2 (Te [()]                 0           tf_op_layer_Shape_3[0][0]        \n",
      "__________________________________________________________________________________________________\n",
      "tf_op_layer_strided_slice_3 (Te [()]                 0           tf_op_layer_Shape_4[0][0]        \n",
      "__________________________________________________________________________________________________\n",
      "tf_op_layer_shape_5 (TensorFlow [(2,)]               0           tf_op_layer_strided_slice_2[0][0]\n",
      "                                                                 tf_op_layer_strided_slice_3[0][0]\n",
      "__________________________________________________________________________________________________\n",
      "dense_5 (Dense)                 (None, 30)           3030        dense_3[0][0]                    \n",
      "__________________________________________________________________________________________________\n",
      "tf_op_layer_RandomStandardNorma [(None, None)]       0           tf_op_layer_shape_5[0][0]        \n",
      "__________________________________________________________________________________________________\n",
      "tf_op_layer_Mul_4 (TensorFlowOp [(None, 30)]         0           dense_5[0][0]                    \n",
      "__________________________________________________________________________________________________\n",
      "tf_op_layer_Mul_3 (TensorFlowOp [(None, None)]       0           tf_op_layer_RandomStandardNormal_\n",
      "__________________________________________________________________________________________________\n",
      "tf_op_layer_Exp_1 (TensorFlowOp [(None, 30)]         0           tf_op_layer_Mul_4[0][0]          \n",
      "__________________________________________________________________________________________________\n",
      "tf_op_layer_Add_1 (TensorFlowOp [(None, None)]       0           tf_op_layer_Mul_3[0][0]          \n",
      "__________________________________________________________________________________________________\n",
      "tf_op_layer_Mul_5 (TensorFlowOp [(None, 30)]         0           tf_op_layer_Exp_1[0][0]          \n",
      "                                                                 tf_op_layer_Add_1[0][0]          \n",
      "__________________________________________________________________________________________________\n",
      "tf_op_layer_AddV2_1 (TensorFlow [(None, 30)]         0           dense_4[0][0]                    \n",
      "                                                                 tf_op_layer_Mul_5[0][0]          \n",
      "==================================================================================================\n",
      "Total params: 26,174\n",
      "Trainable params: 26,174\n",
      "Non-trainable params: 0\n",
      "__________________________________________________________________________________________________\n",
      "Model: \"functional_5\"\n",
      "__________________________________________________________________________________________________\n",
      "Layer (type)                    Output Shape         Param #     Connected to                     \n",
      "==================================================================================================\n",
      "decoder_input_latent_space (Inp [(None, 30)]         0                                            \n",
      "__________________________________________________________________________________________________\n",
      "dense_6 (Dense)                 (None, 100)          3100        decoder_input_latent_space[0][0] \n",
      "__________________________________________________________________________________________________\n",
      "dense_7 (Dense)                 (None, 200)          20200       dense_6[0][0]                    \n",
      "__________________________________________________________________________________________________\n",
      "reshape (Reshape)               (None, 100, 2)       0           dense_7[0][0]                    \n",
      "__________________________________________________________________________________________________\n",
      "decoder_input_adjacency (InputL [(None, 100, 100)]   0                                            \n",
      "__________________________________________________________________________________________________\n",
      "graph_convolution_2 (GraphConvo (None, 100, 3)       15          reshape[0][0]                    \n",
      "                                                                 decoder_input_adjacency[0][0]    \n",
      "==================================================================================================\n",
      "Total params: 23,315\n",
      "Trainable params: 23,315\n",
      "Non-trainable params: 0\n",
      "__________________________________________________________________________________________________\n"
     ]
    }
   ],
   "source": [
    "gcnvae = models.GCNVariationalAutoEncoder(nodes_n=nodes_n, feat_sz=feat_sz, activation=tf.nn.tanh,latent_dim=30)\n",
    "gcnvae.compile(optimizer=tf.keras.optimizers.Adam(learning_rate=0.01), run_eagerly=True)"
   ]
  },
  {
   "cell_type": "code",
   "execution_count": 12,
   "id": "roman-stake",
   "metadata": {
    "scrolled": true
   },
   "outputs": [
    {
     "name": "stdout",
     "output_type": "stream",
     "text": [
      "Epoch 1/100\n",
      "50/50 [==============================] - ETA: 0s - loss: 1.8009 - loss_reco: 1.8008 - loss_latent: 1.5806e-04WARNING:tensorflow:Reduce LR on plateau conditioned on metric `val_loss` which is not available. Available metrics are: loss,loss_reco,loss_latent,lr\n",
      "50/50 [==============================] - 3s 65ms/step - loss: 1.7985 - loss_reco: 1.7983 - loss_latent: 1.6012e-04\n",
      "Epoch 2/100\n",
      "50/50 [==============================] - ETA: 0s - loss: 1.7320 - loss_reco: 1.7313 - loss_latent: 6.3417e-04WARNING:tensorflow:Reduce LR on plateau conditioned on metric `val_loss` which is not available. Available metrics are: loss,loss_reco,loss_latent,lr\n",
      "50/50 [==============================] - 4s 77ms/step - loss: 1.7296 - loss_reco: 1.7290 - loss_latent: 6.3325e-04\n",
      "Epoch 3/100\n",
      "50/50 [==============================] - ETA: 0s - loss: 1.5538 - loss_reco: 1.5537 - loss_latent: 1.1393e-04WARNING:tensorflow:Reduce LR on plateau conditioned on metric `val_loss` which is not available. Available metrics are: loss,loss_reco,loss_latent,lr\n",
      "50/50 [==============================] - 4s 74ms/step - loss: 1.5542 - loss_reco: 1.5541 - loss_latent: 1.1275e-04\n",
      "Epoch 4/100\n",
      "50/50 [==============================] - ETA: 0s - loss: 1.5344 - loss_reco: 1.5344 - loss_latent: 3.7066e-05WARNING:tensorflow:Reduce LR on plateau conditioned on metric `val_loss` which is not available. Available metrics are: loss,loss_reco,loss_latent,lr\n",
      "50/50 [==============================] - 4s 75ms/step - loss: 1.5363 - loss_reco: 1.5363 - loss_latent: 3.6650e-05\n",
      "Epoch 5/100\n",
      "50/50 [==============================] - ETA: 0s - loss: 1.5303 - loss_reco: 1.5303 - loss_latent: 1.1874e-05WARNING:tensorflow:Reduce LR on plateau conditioned on metric `val_loss` which is not available. Available metrics are: loss,loss_reco,loss_latent,lr\n",
      "50/50 [==============================] - 4s 74ms/step - loss: 1.5283 - loss_reco: 1.5283 - loss_latent: 1.1883e-05\n",
      "Epoch 6/100\n",
      "50/50 [==============================] - ETA: 0s - loss: 1.5274 - loss_reco: 1.5274 - loss_latent: 7.0160e-06WARNING:tensorflow:Reduce LR on plateau conditioned on metric `val_loss` which is not available. Available metrics are: loss,loss_reco,loss_latent,lr\n",
      "50/50 [==============================] - 4s 75ms/step - loss: 1.5271 - loss_reco: 1.5271 - loss_latent: 6.9668e-06\n",
      "Epoch 7/100\n",
      "50/50 [==============================] - ETA: 0s - loss: 1.5258 - loss_reco: 1.5258 - loss_latent: 3.6285e-06WARNING:tensorflow:Reduce LR on plateau conditioned on metric `val_loss` which is not available. Available metrics are: loss,loss_reco,loss_latent,lr\n",
      "50/50 [==============================] - 4s 77ms/step - loss: 1.5238 - loss_reco: 1.5238 - loss_latent: 3.5949e-06\n",
      "Epoch 8/100\n",
      "50/50 [==============================] - ETA: 0s - loss: 1.5245 - loss_reco: 1.5245 - loss_latent: 2.5896e-06WARNING:tensorflow:Reduce LR on plateau conditioned on metric `val_loss` which is not available. Available metrics are: loss,loss_reco,loss_latent,lr\n",
      "50/50 [==============================] - 4s 71ms/step - loss: 1.5240 - loss_reco: 1.5240 - loss_latent: 2.5838e-06\n",
      "Epoch 9/100\n",
      "50/50 [==============================] - ETA: 0s - loss: 1.5241 - loss_reco: 1.5241 - loss_latent: 1.8738e-06WARNING:tensorflow:Reduce LR on plateau conditioned on metric `val_loss` which is not available. Available metrics are: loss,loss_reco,loss_latent,lr\n",
      "50/50 [==============================] - 4s 74ms/step - loss: 1.5267 - loss_reco: 1.5267 - loss_latent: 1.8785e-06\n",
      "Epoch 10/100\n",
      "50/50 [==============================] - ETA: 0s - loss: 1.5232 - loss_reco: 1.5232 - loss_latent: 1.6515e-06WARNING:tensorflow:Reduce LR on plateau conditioned on metric `val_loss` which is not available. Available metrics are: loss,loss_reco,loss_latent,lr\n",
      "50/50 [==============================] - 4s 79ms/step - loss: 1.5212 - loss_reco: 1.5212 - loss_latent: 1.6483e-06\n",
      "Epoch 11/100\n",
      "50/50 [==============================] - ETA: 0s - loss: 1.5234 - loss_reco: 1.5234 - loss_latent: 1.3890e-06WARNING:tensorflow:Reduce LR on plateau conditioned on metric `val_loss` which is not available. Available metrics are: loss,loss_reco,loss_latent,lr\n",
      "50/50 [==============================] - 4s 78ms/step - loss: 1.5236 - loss_reco: 1.5236 - loss_latent: 1.3853e-06\n",
      "Epoch 12/100\n",
      "50/50 [==============================] - ETA: 0s - loss: 1.5227 - loss_reco: 1.5227 - loss_latent: 1.4684e-06WARNING:tensorflow:Reduce LR on plateau conditioned on metric `val_loss` which is not available. Available metrics are: loss,loss_reco,loss_latent,lr\n",
      "50/50 [==============================] - 4s 72ms/step - loss: 1.5210 - loss_reco: 1.5210 - loss_latent: 1.4640e-06\n",
      "Epoch 13/100\n",
      "50/50 [==============================] - ETA: 0s - loss: 1.0461 - loss_reco: 1.0461 - loss_latent: 1.6814e-05WARNING:tensorflow:Reduce LR on plateau conditioned on metric `val_loss` which is not available. Available metrics are: loss,loss_reco,loss_latent,lr\n",
      "50/50 [==============================] - 3s 65ms/step - loss: 1.0436 - loss_reco: 1.0436 - loss_latent: 1.6582e-05\n",
      "Epoch 14/100\n",
      "50/50 [==============================] - ETA: 0s - loss: 0.9493 - loss_reco: 0.9493 - loss_latent: 2.1638e-06WARNING:tensorflow:Reduce LR on plateau conditioned on metric `val_loss` which is not available. Available metrics are: loss,loss_reco,loss_latent,lr\n",
      "50/50 [==============================] - 3s 70ms/step - loss: 0.9512 - loss_reco: 0.9511 - loss_latent: 2.1352e-06\n",
      "Epoch 15/100\n",
      "50/50 [==============================] - ETA: 0s - loss: 0.9483 - loss_reco: 0.9483 - loss_latent: 9.1189e-07WARNING:tensorflow:Reduce LR on plateau conditioned on metric `val_loss` which is not available. Available metrics are: loss,loss_reco,loss_latent,lr\n",
      "50/50 [==============================] - 4s 73ms/step - loss: 0.9489 - loss_reco: 0.9489 - loss_latent: 9.1345e-07\n",
      "Epoch 16/100\n",
      "50/50 [==============================] - ETA: 0s - loss: 0.9479 - loss_reco: 0.9479 - loss_latent: 8.1926e-07WARNING:tensorflow:Reduce LR on plateau conditioned on metric `val_loss` which is not available. Available metrics are: loss,loss_reco,loss_latent,lr\n",
      "50/50 [==============================] - 4s 73ms/step - loss: 0.9469 - loss_reco: 0.9469 - loss_latent: 8.1313e-07\n",
      "Epoch 17/100\n",
      "50/50 [==============================] - ETA: 0s - loss: 0.9479 - loss_reco: 0.9479 - loss_latent: 7.5440e-07WARNING:tensorflow:Reduce LR on plateau conditioned on metric `val_loss` which is not available. Available metrics are: loss,loss_reco,loss_latent,lr\n",
      "50/50 [==============================] - 4s 77ms/step - loss: 0.9462 - loss_reco: 0.9462 - loss_latent: 7.5618e-07\n",
      "Epoch 18/100\n",
      "50/50 [==============================] - ETA: 0s - loss: 0.9475 - loss_reco: 0.9475 - loss_latent: 8.7857e-07WARNING:tensorflow:Reduce LR on plateau conditioned on metric `val_loss` which is not available. Available metrics are: loss,loss_reco,loss_latent,lr\n",
      "50/50 [==============================] - 4s 73ms/step - loss: 0.9493 - loss_reco: 0.9493 - loss_latent: 8.8131e-07\n",
      "Epoch 19/100\n",
      "50/50 [==============================] - ETA: 0s - loss: 0.9466 - loss_reco: 0.9466 - loss_latent: 9.2494e-07WARNING:tensorflow:Reduce LR on plateau conditioned on metric `val_loss` which is not available. Available metrics are: loss,loss_reco,loss_latent,lr\n",
      "50/50 [==============================] - 4s 75ms/step - loss: 0.9451 - loss_reco: 0.9451 - loss_latent: 9.7006e-07\n",
      "Epoch 20/100\n",
      "50/50 [==============================] - ETA: 0s - loss: 0.9410 - loss_reco: 0.9409 - loss_latent: 7.5506e-06- ETA: 2s - loss: 0.9288 - loss_reWARNING:tensorflow:Reduce LR on plateau conditioned on metric `val_loss` which is not available. Available metrics are: loss,loss_reco,loss_latent,lr\n",
      "50/50 [==============================] - 4s 76ms/step - loss: 0.9418 - loss_reco: 0.9418 - loss_latent: 7.5188e-06\n",
      "Epoch 21/100\n",
      "50/50 [==============================] - ETA: 0s - loss: 0.9334 - loss_reco: 0.9333 - loss_latent: 3.6077e-06WARNING:tensorflow:Reduce LR on plateau conditioned on metric `val_loss` which is not available. Available metrics are: loss,loss_reco,loss_latent,lr\n",
      "50/50 [==============================] - 4s 76ms/step - loss: 0.9315 - loss_reco: 0.9315 - loss_latent: 3.5885e-06\n",
      "Epoch 22/100\n"
     ]
    },
    {
     "name": "stdout",
     "output_type": "stream",
     "text": [
      "50/50 [==============================] - ETA: 0s - loss: 0.9262 - loss_reco: 0.9262 - loss_latent: 1.2888e-06WARNING:tensorflow:Reduce LR on plateau conditioned on metric `val_loss` which is not available. Available metrics are: loss,loss_reco,loss_latent,lr\n",
      "50/50 [==============================] - 4s 72ms/step - loss: 0.9259 - loss_reco: 0.9259 - loss_latent: 1.2755e-06\n",
      "Epoch 23/100\n",
      "50/50 [==============================] - ETA: 0s - loss: 0.9250 - loss_reco: 0.9250 - loss_latent: 5.6003e-07WARNING:tensorflow:Reduce LR on plateau conditioned on metric `val_loss` which is not available. Available metrics are: loss,loss_reco,loss_latent,lr\n",
      "50/50 [==============================] - 4s 76ms/step - loss: 0.9265 - loss_reco: 0.9265 - loss_latent: 5.6089e-07\n",
      "Epoch 24/100\n",
      "50/50 [==============================] - ETA: 0s - loss: 0.9257 - loss_reco: 0.9257 - loss_latent: 1.3719e-06WARNING:tensorflow:Reduce LR on plateau conditioned on metric `val_loss` which is not available. Available metrics are: loss,loss_reco,loss_latent,lr\n",
      "50/50 [==============================] - 4s 72ms/step - loss: 0.9258 - loss_reco: 0.9258 - loss_latent: 1.3783e-06\n",
      "Epoch 25/100\n",
      "50/50 [==============================] - ETA: 0s - loss: 0.9248 - loss_reco: 0.9248 - loss_latent: 1.2660e-06WARNING:tensorflow:Reduce LR on plateau conditioned on metric `val_loss` which is not available. Available metrics are: loss,loss_reco,loss_latent,lr\n",
      "50/50 [==============================] - 4s 75ms/step - loss: 0.9238 - loss_reco: 0.9238 - loss_latent: 1.2709e-06\n",
      "Epoch 26/100\n",
      "50/50 [==============================] - ETA: 0s - loss: 0.9248 - loss_reco: 0.9248 - loss_latent: 9.9562e-07WARNING:tensorflow:Reduce LR on plateau conditioned on metric `val_loss` which is not available. Available metrics are: loss,loss_reco,loss_latent,lr\n",
      "50/50 [==============================] - 4s 75ms/step - loss: 0.9277 - loss_reco: 0.9277 - loss_latent: 9.9074e-07\n",
      "Epoch 27/100\n",
      "50/50 [==============================] - ETA: 0s - loss: 0.9244 - loss_reco: 0.9244 - loss_latent: 8.1207e-07WARNING:tensorflow:Reduce LR on plateau conditioned on metric `val_loss` which is not available. Available metrics are: loss,loss_reco,loss_latent,lr\n",
      "50/50 [==============================] - 4s 75ms/step - loss: 0.9246 - loss_reco: 0.9246 - loss_latent: 8.2580e-07\n",
      "Epoch 28/100\n",
      "50/50 [==============================] - ETA: 0s - loss: 0.9243 - loss_reco: 0.9243 - loss_latent: 6.8220e-07WARNING:tensorflow:Reduce LR on plateau conditioned on metric `val_loss` which is not available. Available metrics are: loss,loss_reco,loss_latent,lr\n",
      "50/50 [==============================] - 3s 69ms/step - loss: 0.9235 - loss_reco: 0.9235 - loss_latent: 6.7645e-07\n",
      "Epoch 29/100\n",
      "50/50 [==============================] - ETA: 0s - loss: 0.9247 - loss_reco: 0.9247 - loss_latent: 1.1104e-06WARNING:tensorflow:Reduce LR on plateau conditioned on metric `val_loss` which is not available. Available metrics are: loss,loss_reco,loss_latent,lr\n",
      "50/50 [==============================] - 3s 68ms/step - loss: 0.9250 - loss_reco: 0.9250 - loss_latent: 1.1257e-06\n",
      "Epoch 30/100\n",
      "50/50 [==============================] - ETA: 0s - loss: 0.9247 - loss_reco: 0.9247 - loss_latent: 1.1403e-06WARNING:tensorflow:Reduce LR on plateau conditioned on metric `val_loss` which is not available. Available metrics are: loss,loss_reco,loss_latent,lr\n",
      "50/50 [==============================] - 3s 68ms/step - loss: 0.9261 - loss_reco: 0.9261 - loss_latent: 1.1313e-06\n",
      "Epoch 31/100\n",
      "50/50 [==============================] - ETA: 0s - loss: 0.9244 - loss_reco: 0.9244 - loss_latent: 1.0798e-06WARNING:tensorflow:Reduce LR on plateau conditioned on metric `val_loss` which is not available. Available metrics are: loss,loss_reco,loss_latent,lr\n",
      "50/50 [==============================] - 4s 70ms/step - loss: 0.9226 - loss_reco: 0.9225 - loss_latent: 1.0865e-06\n",
      "Epoch 32/100\n",
      "50/50 [==============================] - ETA: 0s - loss: 0.9243 - loss_reco: 0.9243 - loss_latent: 9.3448e-07WARNING:tensorflow:Reduce LR on plateau conditioned on metric `val_loss` which is not available. Available metrics are: loss,loss_reco,loss_latent,lr\n",
      "50/50 [==============================] - 4s 79ms/step - loss: 0.9216 - loss_reco: 0.9216 - loss_latent: 9.3342e-07\n",
      "Epoch 33/100\n",
      "50/50 [==============================] - ETA: 0s - loss: 0.9242 - loss_reco: 0.9242 - loss_latent: 2.0697e-06WARNING:tensorflow:Reduce LR on plateau conditioned on metric `val_loss` which is not available. Available metrics are: loss,loss_reco,loss_latent,lr\n",
      "50/50 [==============================] - 4s 76ms/step - loss: 0.9236 - loss_reco: 0.9236 - loss_latent: 2.0534e-06\n",
      "Epoch 34/100\n",
      "50/50 [==============================] - ETA: 0s - loss: 0.9245 - loss_reco: 0.9245 - loss_latent: 1.8889e-06WARNING:tensorflow:Reduce LR on plateau conditioned on metric `val_loss` which is not available. Available metrics are: loss,loss_reco,loss_latent,lr\n",
      "50/50 [==============================] - 4s 75ms/step - loss: 0.9224 - loss_reco: 0.9224 - loss_latent: 1.8807e-06\n",
      "Epoch 35/100\n",
      "50/50 [==============================] - ETA: 0s - loss: 0.9243 - loss_reco: 0.9243 - loss_latent: 1.1882e-06WARNING:tensorflow:Reduce LR on plateau conditioned on metric `val_loss` which is not available. Available metrics are: loss,loss_reco,loss_latent,lr\n",
      "50/50 [==============================] - 4s 76ms/step - loss: 0.9248 - loss_reco: 0.9248 - loss_latent: 1.1764e-06\n",
      "Epoch 36/100\n",
      "50/50 [==============================] - ETA: 0s - loss: 0.9242 - loss_reco: 0.9241 - loss_latent: 8.4708e-07WARNING:tensorflow:Reduce LR on plateau conditioned on metric `val_loss` which is not available. Available metrics are: loss,loss_reco,loss_latent,lr\n",
      "50/50 [==============================] - 4s 77ms/step - loss: 0.9232 - loss_reco: 0.9232 - loss_latent: 8.6744e-07\n",
      "Epoch 37/100\n",
      "50/50 [==============================] - ETA: 0s - loss: 0.9240 - loss_reco: 0.9240 - loss_latent: 7.6580e-07WARNING:tensorflow:Reduce LR on plateau conditioned on metric `val_loss` which is not available. Available metrics are: loss,loss_reco,loss_latent,lr\n",
      "50/50 [==============================] - 4s 76ms/step - loss: 0.9273 - loss_reco: 0.9273 - loss_latent: 7.6008e-07\n",
      "Epoch 38/100\n",
      "50/50 [==============================] - ETA: 0s - loss: 0.9239 - loss_reco: 0.9239 - loss_latent: 9.4477e-07WARNING:tensorflow:Reduce LR on plateau conditioned on metric `val_loss` which is not available. Available metrics are: loss,loss_reco,loss_latent,lr\n",
      "50/50 [==============================] - 4s 77ms/step - loss: 0.9218 - loss_reco: 0.9218 - loss_latent: 9.3275e-07\n",
      "Epoch 39/100\n",
      "50/50 [==============================] - ETA: 0s - loss: 0.9240 - loss_reco: 0.9240 - loss_latent: 8.6669e-07WARNING:tensorflow:Reduce LR on plateau conditioned on metric `val_loss` which is not available. Available metrics are: loss,loss_reco,loss_latent,lr\n",
      "50/50 [==============================] - 4s 78ms/step - loss: 0.9254 - loss_reco: 0.9254 - loss_latent: 8.7551e-07\n",
      "Epoch 40/100\n",
      "50/50 [==============================] - ETA: 0s - loss: 0.9242 - loss_reco: 0.9242 - loss_latent: 1.4412e-06WARNING:tensorflow:Reduce LR on plateau conditioned on metric `val_loss` which is not available. Available metrics are: loss,loss_reco,loss_latent,lr\n",
      "50/50 [==============================] - 4s 73ms/step - loss: 0.9233 - loss_reco: 0.9233 - loss_latent: 1.4360e-06\n",
      "Epoch 41/100\n",
      "50/50 [==============================] - ETA: 0s - loss: 0.9239 - loss_reco: 0.9239 - loss_latent: 1.0631e-06WARNING:tensorflow:Reduce LR on plateau conditioned on metric `val_loss` which is not available. Available metrics are: loss,loss_reco,loss_latent,lr\n",
      "50/50 [==============================] - 4s 78ms/step - loss: 0.9226 - loss_reco: 0.9225 - loss_latent: 1.0542e-06\n",
      "Epoch 42/100\n",
      "50/50 [==============================] - ETA: 0s - loss: 0.9239 - loss_reco: 0.9239 - loss_latent: 1.7283e-06WARNING:tensorflow:Reduce LR on plateau conditioned on metric `val_loss` which is not available. Available metrics are: loss,loss_reco,loss_latent,lr\n",
      "50/50 [==============================] - 4s 76ms/step - loss: 0.9222 - loss_reco: 0.9222 - loss_latent: 1.7365e-06\n",
      "Epoch 43/100\n"
     ]
    },
    {
     "name": "stdout",
     "output_type": "stream",
     "text": [
      "50/50 [==============================] - ETA: 0s - loss: 0.9237 - loss_reco: 0.9237 - loss_latent: 9.4000e-07WARNING:tensorflow:Reduce LR on plateau conditioned on metric `val_loss` which is not available. Available metrics are: loss,loss_reco,loss_latent,lr\n",
      "50/50 [==============================] - 4s 75ms/step - loss: 0.9258 - loss_reco: 0.9258 - loss_latent: 9.3573e-07\n",
      "Epoch 44/100\n",
      "50/50 [==============================] - ETA: 0s - loss: 0.9240 - loss_reco: 0.9240 - loss_latent: 1.2177e-06WARNING:tensorflow:Reduce LR on plateau conditioned on metric `val_loss` which is not available. Available metrics are: loss,loss_reco,loss_latent,lr\n",
      "50/50 [==============================] - 3s 69ms/step - loss: 0.9237 - loss_reco: 0.9237 - loss_latent: 1.2044e-06\n",
      "Epoch 45/100\n",
      "50/50 [==============================] - ETA: 0s - loss: 0.9244 - loss_reco: 0.9244 - loss_latent: 1.3434e-06WARNING:tensorflow:Reduce LR on plateau conditioned on metric `val_loss` which is not available. Available metrics are: loss,loss_reco,loss_latent,lr\n",
      "50/50 [==============================] - 3s 66ms/step - loss: 0.9260 - loss_reco: 0.9260 - loss_latent: 1.3408e-06\n",
      "Epoch 46/100\n",
      "50/50 [==============================] - ETA: 0s - loss: 0.9240 - loss_reco: 0.9240 - loss_latent: 1.8988e-06WARNING:tensorflow:Reduce LR on plateau conditioned on metric `val_loss` which is not available. Available metrics are: loss,loss_reco,loss_latent,lr\n",
      "50/50 [==============================] - 3s 66ms/step - loss: 0.9247 - loss_reco: 0.9247 - loss_latent: 1.8801e-06\n",
      "Epoch 47/100\n",
      "50/50 [==============================] - ETA: 0s - loss: 0.9236 - loss_reco: 0.9236 - loss_latent: 1.1987e-06WARNING:tensorflow:Reduce LR on plateau conditioned on metric `val_loss` which is not available. Available metrics are: loss,loss_reco,loss_latent,lr\n",
      "50/50 [==============================] - 4s 71ms/step - loss: 0.9222 - loss_reco: 0.9222 - loss_latent: 1.1859e-06\n",
      "Epoch 48/100\n",
      "50/50 [==============================] - ETA: 0s - loss: 0.9234 - loss_reco: 0.9234 - loss_latent: 1.1389e-06WARNING:tensorflow:Reduce LR on plateau conditioned on metric `val_loss` which is not available. Available metrics are: loss,loss_reco,loss_latent,lr\n",
      "50/50 [==============================] - 4s 74ms/step - loss: 0.9215 - loss_reco: 0.9215 - loss_latent: 1.1885e-06\n",
      "Epoch 49/100\n",
      "50/50 [==============================] - ETA: 0s - loss: 0.9236 - loss_reco: 0.9236 - loss_latent: 1.4739e-06WARNING:tensorflow:Reduce LR on plateau conditioned on metric `val_loss` which is not available. Available metrics are: loss,loss_reco,loss_latent,lr\n",
      "50/50 [==============================] - 4s 78ms/step - loss: 0.9232 - loss_reco: 0.9232 - loss_latent: 1.4574e-06\n",
      "Epoch 50/100\n",
      "50/50 [==============================] - ETA: 0s - loss: 0.9236 - loss_reco: 0.9236 - loss_latent: 1.4432e-06WARNING:tensorflow:Reduce LR on plateau conditioned on metric `val_loss` which is not available. Available metrics are: loss,loss_reco,loss_latent,lr\n",
      "50/50 [==============================] - 4s 76ms/step - loss: 0.9242 - loss_reco: 0.9242 - loss_latent: 1.4479e-06\n",
      "Epoch 51/100\n",
      "50/50 [==============================] - ETA: 0s - loss: 0.9236 - loss_reco: 0.9236 - loss_latent: 3.1512e-06WARNING:tensorflow:Reduce LR on plateau conditioned on metric `val_loss` which is not available. Available metrics are: loss,loss_reco,loss_latent,lr\n",
      "50/50 [==============================] - 4s 75ms/step - loss: 0.9212 - loss_reco: 0.9212 - loss_latent: 3.1515e-06\n",
      "Epoch 52/100\n",
      "50/50 [==============================] - ETA: 0s - loss: 0.9234 - loss_reco: 0.9234 - loss_latent: 1.8908e-06WARNING:tensorflow:Reduce LR on plateau conditioned on metric `val_loss` which is not available. Available metrics are: loss,loss_reco,loss_latent,lr\n",
      "50/50 [==============================] - 4s 76ms/step - loss: 0.9236 - loss_reco: 0.9236 - loss_latent: 1.8784e-06\n",
      "Epoch 53/100\n",
      "50/50 [==============================] - ETA: 0s - loss: 0.9234 - loss_reco: 0.9234 - loss_latent: 8.7225e-07WARNING:tensorflow:Reduce LR on plateau conditioned on metric `val_loss` which is not available. Available metrics are: loss,loss_reco,loss_latent,lr\n",
      "50/50 [==============================] - 4s 76ms/step - loss: 0.9222 - loss_reco: 0.9222 - loss_latent: 8.7126e-07\n",
      "Epoch 54/100\n",
      "50/50 [==============================] - ETA: 0s - loss: 0.9234 - loss_reco: 0.9234 - loss_latent: 1.2745e-06WARNING:tensorflow:Reduce LR on plateau conditioned on metric `val_loss` which is not available. Available metrics are: loss,loss_reco,loss_latent,lr\n",
      "50/50 [==============================] - 4s 73ms/step - loss: 0.9228 - loss_reco: 0.9228 - loss_latent: 1.2701e-06\n",
      "Epoch 55/100\n",
      "50/50 [==============================] - ETA: 0s - loss: 0.9233 - loss_reco: 0.9233 - loss_latent: 1.1109e-06WARNING:tensorflow:Reduce LR on plateau conditioned on metric `val_loss` which is not available. Available metrics are: loss,loss_reco,loss_latent,lr\n",
      "50/50 [==============================] - 4s 78ms/step - loss: 0.9230 - loss_reco: 0.9230 - loss_latent: 1.1391e-06\n",
      "Epoch 56/100\n",
      "50/50 [==============================] - ETA: 0s - loss: 0.9234 - loss_reco: 0.9234 - loss_latent: 9.8459e-07WARNING:tensorflow:Reduce LR on plateau conditioned on metric `val_loss` which is not available. Available metrics are: loss,loss_reco,loss_latent,lr\n",
      "50/50 [==============================] - 3s 68ms/step - loss: 0.9226 - loss_reco: 0.9226 - loss_latent: 9.7643e-07\n",
      "Epoch 57/100\n",
      "50/50 [==============================] - ETA: 0s - loss: 0.9234 - loss_reco: 0.9234 - loss_latent: 1.3476e-06WARNING:tensorflow:Reduce LR on plateau conditioned on metric `val_loss` which is not available. Available metrics are: loss,loss_reco,loss_latent,lr\n",
      "50/50 [==============================] - 4s 75ms/step - loss: 0.9240 - loss_reco: 0.9240 - loss_latent: 1.3343e-06\n",
      "Epoch 58/100\n",
      "50/50 [==============================] - ETA: 0s - loss: 0.9236 - loss_reco: 0.9236 - loss_latent: 1.1668e-06WARNING:tensorflow:Reduce LR on plateau conditioned on metric `val_loss` which is not available. Available metrics are: loss,loss_reco,loss_latent,lr\n",
      "50/50 [==============================] - 4s 71ms/step - loss: 0.9213 - loss_reco: 0.9213 - loss_latent: 1.1551e-06\n",
      "Epoch 59/100\n",
      "50/50 [==============================] - ETA: 0s - loss: 0.9233 - loss_reco: 0.9233 - loss_latent: 1.5199e-06WARNING:tensorflow:Reduce LR on plateau conditioned on metric `val_loss` which is not available. Available metrics are: loss,loss_reco,loss_latent,lr\n",
      "50/50 [==============================] - 4s 75ms/step - loss: 0.9210 - loss_reco: 0.9210 - loss_latent: 1.5294e-06\n",
      "Epoch 60/100\n",
      "50/50 [==============================] - ETA: 0s - loss: 0.9232 - loss_reco: 0.9232 - loss_latent: 2.1286e-06- ETA: 0s - loss: 0.9219 - loss_reco: 0.9219 - loss_latenWARNING:tensorflow:Reduce LR on plateau conditioned on metric `val_loss` which is not available. Available metrics are: loss,loss_reco,loss_latent,lr\n",
      "50/50 [==============================] - 3s 68ms/step - loss: 0.9216 - loss_reco: 0.9216 - loss_latent: 2.0975e-06\n",
      "Epoch 61/100\n",
      "50/50 [==============================] - ETA: 0s - loss: 0.9232 - loss_reco: 0.9232 - loss_latent: 8.1646e-07WARNING:tensorflow:Reduce LR on plateau conditioned on metric `val_loss` which is not available. Available metrics are: loss,loss_reco,loss_latent,lr\n",
      "50/50 [==============================] - 3s 66ms/step - loss: 0.9201 - loss_reco: 0.9201 - loss_latent: 8.0809e-07\n",
      "Epoch 62/100\n",
      "50/50 [==============================] - ETA: 0s - loss: 0.9232 - loss_reco: 0.9232 - loss_latent: 1.2179e-06WARNING:tensorflow:Reduce LR on plateau conditioned on metric `val_loss` which is not available. Available metrics are: loss,loss_reco,loss_latent,lr\n",
      "50/50 [==============================] - 4s 72ms/step - loss: 0.9226 - loss_reco: 0.9226 - loss_latent: 1.2048e-06\n",
      "Epoch 63/100\n",
      "50/50 [==============================] - ETA: 0s - loss: 0.9232 - loss_reco: 0.9232 - loss_latent: 8.1541e-07WARNING:tensorflow:Reduce LR on plateau conditioned on metric `val_loss` which is not available. Available metrics are: loss,loss_reco,loss_latent,lr\n",
      "50/50 [==============================] - 4s 77ms/step - loss: 0.9218 - loss_reco: 0.9218 - loss_latent: 8.2884e-07\n",
      "Epoch 64/100\n"
     ]
    },
    {
     "name": "stdout",
     "output_type": "stream",
     "text": [
      "50/50 [==============================] - ETA: 0s - loss: 0.9233 - loss_reco: 0.9233 - loss_latent: 2.9407e-06WARNING:tensorflow:Reduce LR on plateau conditioned on metric `val_loss` which is not available. Available metrics are: loss,loss_reco,loss_latent,lr\n",
      "50/50 [==============================] - 4s 72ms/step - loss: 0.9234 - loss_reco: 0.9234 - loss_latent: 2.9959e-06\n",
      "Epoch 65/100\n",
      "50/50 [==============================] - ETA: 0s - loss: 0.9231 - loss_reco: 0.9231 - loss_latent: 3.0272e-06WARNING:tensorflow:Reduce LR on plateau conditioned on metric `val_loss` which is not available. Available metrics are: loss,loss_reco,loss_latent,lr\n",
      "50/50 [==============================] - 4s 75ms/step - loss: 0.9217 - loss_reco: 0.9217 - loss_latent: 2.9894e-06\n",
      "Epoch 66/100\n",
      "50/50 [==============================] - ETA: 0s - loss: 0.9231 - loss_reco: 0.9231 - loss_latent: 1.8220e-06WARNING:tensorflow:Reduce LR on plateau conditioned on metric `val_loss` which is not available. Available metrics are: loss,loss_reco,loss_latent,lr\n",
      "50/50 [==============================] - 4s 75ms/step - loss: 0.9225 - loss_reco: 0.9225 - loss_latent: 2.0216e-06\n",
      "Epoch 67/100\n",
      "50/50 [==============================] - ETA: 0s - loss: 0.9231 - loss_reco: 0.9231 - loss_latent: 2.5029e-06WARNING:tensorflow:Reduce LR on plateau conditioned on metric `val_loss` which is not available. Available metrics are: loss,loss_reco,loss_latent,lr\n",
      "50/50 [==============================] - 4s 79ms/step - loss: 0.9236 - loss_reco: 0.9235 - loss_latent: 2.4834e-06\n",
      "Epoch 68/100\n",
      "50/50 [==============================] - ETA: 0s - loss: 0.9230 - loss_reco: 0.9230 - loss_latent: 1.8654e-06WARNING:tensorflow:Reduce LR on plateau conditioned on metric `val_loss` which is not available. Available metrics are: loss,loss_reco,loss_latent,lr\n",
      "50/50 [==============================] - 4s 77ms/step - loss: 0.9206 - loss_reco: 0.9206 - loss_latent: 1.8505e-06\n",
      "Epoch 69/100\n",
      "50/50 [==============================] - ETA: 0s - loss: 0.9232 - loss_reco: 0.9232 - loss_latent: 1.8033e-06WARNING:tensorflow:Reduce LR on plateau conditioned on metric `val_loss` which is not available. Available metrics are: loss,loss_reco,loss_latent,lr\n",
      "50/50 [==============================] - 4s 79ms/step - loss: 0.9221 - loss_reco: 0.9221 - loss_latent: 1.8047e-06\n",
      "Epoch 70/100\n",
      "50/50 [==============================] - ETA: 0s - loss: 0.9231 - loss_reco: 0.9231 - loss_latent: 1.1491e-06WARNING:tensorflow:Reduce LR on plateau conditioned on metric `val_loss` which is not available. Available metrics are: loss,loss_reco,loss_latent,lr\n",
      "50/50 [==============================] - 4s 80ms/step - loss: 0.9233 - loss_reco: 0.9233 - loss_latent: 1.1603e-06\n",
      "Epoch 71/100\n",
      "50/50 [==============================] - ETA: 0s - loss: 0.9232 - loss_reco: 0.9232 - loss_latent: 1.6409e-06WARNING:tensorflow:Reduce LR on plateau conditioned on metric `val_loss` which is not available. Available metrics are: loss,loss_reco,loss_latent,lr\n",
      "50/50 [==============================] - 4s 76ms/step - loss: 0.9210 - loss_reco: 0.9210 - loss_latent: 1.6277e-06\n",
      "Epoch 72/100\n",
      "50/50 [==============================] - ETA: 0s - loss: 0.9230 - loss_reco: 0.9230 - loss_latent: 2.1395e-06WARNING:tensorflow:Reduce LR on plateau conditioned on metric `val_loss` which is not available. Available metrics are: loss,loss_reco,loss_latent,lr\n",
      "50/50 [==============================] - 3s 62ms/step - loss: 0.9208 - loss_reco: 0.9208 - loss_latent: 2.1469e-06\n",
      "Epoch 73/100\n",
      "50/50 [==============================] - ETA: 0s - loss: 0.9233 - loss_reco: 0.9233 - loss_latent: 3.1491e-06WARNING:tensorflow:Reduce LR on plateau conditioned on metric `val_loss` which is not available. Available metrics are: loss,loss_reco,loss_latent,lr\n",
      "50/50 [==============================] - 4s 70ms/step - loss: 0.9251 - loss_reco: 0.9251 - loss_latent: 3.1192e-06\n",
      "Epoch 74/100\n",
      "50/50 [==============================] - ETA: 0s - loss: 0.9231 - loss_reco: 0.9231 - loss_latent: 1.8670e-06WARNING:tensorflow:Reduce LR on plateau conditioned on metric `val_loss` which is not available. Available metrics are: loss,loss_reco,loss_latent,lr\n",
      "50/50 [==============================] - 4s 78ms/step - loss: 0.9259 - loss_reco: 0.9259 - loss_latent: 1.8549e-06\n",
      "Epoch 75/100\n",
      "50/50 [==============================] - ETA: 0s - loss: 0.9231 - loss_reco: 0.9231 - loss_latent: 2.1801e-06WARNING:tensorflow:Reduce LR on plateau conditioned on metric `val_loss` which is not available. Available metrics are: loss,loss_reco,loss_latent,lr\n",
      "50/50 [==============================] - 4s 77ms/step - loss: 0.9206 - loss_reco: 0.9206 - loss_latent: 2.2321e-06\n",
      "Epoch 76/100\n",
      "50/50 [==============================] - ETA: 0s - loss: 0.9233 - loss_reco: 0.9233 - loss_latent: 3.4559e-06WARNING:tensorflow:Reduce LR on plateau conditioned on metric `val_loss` which is not available. Available metrics are: loss,loss_reco,loss_latent,lr\n",
      "50/50 [==============================] - 3s 67ms/step - loss: 0.9231 - loss_reco: 0.9231 - loss_latent: 3.4396e-06\n",
      "Epoch 77/100\n",
      "50/50 [==============================] - ETA: 0s - loss: 0.9234 - loss_reco: 0.9234 - loss_latent: 2.8029e-06WARNING:tensorflow:Reduce LR on plateau conditioned on metric `val_loss` which is not available. Available metrics are: loss,loss_reco,loss_latent,lr\n",
      "50/50 [==============================] - 3s 66ms/step - loss: 0.9216 - loss_reco: 0.9216 - loss_latent: 2.7862e-06\n",
      "Epoch 78/100\n",
      "50/50 [==============================] - ETA: 0s - loss: 0.9229 - loss_reco: 0.9229 - loss_latent: 2.5568e-06WARNING:tensorflow:Reduce LR on plateau conditioned on metric `val_loss` which is not available. Available metrics are: loss,loss_reco,loss_latent,lr\n",
      "50/50 [==============================] - 3s 69ms/step - loss: 0.9228 - loss_reco: 0.9228 - loss_latent: 2.5619e-06\n",
      "Epoch 79/100\n",
      "50/50 [==============================] - ETA: 0s - loss: 0.9230 - loss_reco: 0.9230 - loss_latent: 3.4080e-06WARNING:tensorflow:Reduce LR on plateau conditioned on metric `val_loss` which is not available. Available metrics are: loss,loss_reco,loss_latent,lr\n",
      "50/50 [==============================] - 4s 80ms/step - loss: 0.9236 - loss_reco: 0.9236 - loss_latent: 3.3752e-06\n",
      "Epoch 80/100\n",
      "50/50 [==============================] - ETA: 0s - loss: 0.9230 - loss_reco: 0.9230 - loss_latent: 1.0786e-06WARNING:tensorflow:Reduce LR on plateau conditioned on metric `val_loss` which is not available. Available metrics are: loss,loss_reco,loss_latent,lr\n",
      "50/50 [==============================] - 4s 74ms/step - loss: 0.9255 - loss_reco: 0.9255 - loss_latent: 1.0759e-06\n",
      "Epoch 81/100\n",
      "50/50 [==============================] - ETA: 0s - loss: 0.9213 - loss_reco: 0.9213 - loss_latent: 1.8227e-06WARNING:tensorflow:Reduce LR on plateau conditioned on metric `val_loss` which is not available. Available metrics are: loss,loss_reco,loss_latent,lr\n",
      "50/50 [==============================] - 4s 80ms/step - loss: 0.9232 - loss_reco: 0.9232 - loss_latent: 1.8363e-06\n",
      "Epoch 82/100\n",
      "50/50 [==============================] - ETA: 0s - loss: 0.9197 - loss_reco: 0.9197 - loss_latent: 3.9861e-06WARNING:tensorflow:Reduce LR on plateau conditioned on metric `val_loss` which is not available. Available metrics are: loss,loss_reco,loss_latent,lr\n",
      "50/50 [==============================] - 4s 77ms/step - loss: 0.9250 - loss_reco: 0.9250 - loss_latent: 3.9452e-06\n",
      "Epoch 83/100\n",
      "50/50 [==============================] - ETA: 0s - loss: 0.9190 - loss_reco: 0.9190 - loss_latent: 1.8196e-06WARNING:tensorflow:Reduce LR on plateau conditioned on metric `val_loss` which is not available. Available metrics are: loss,loss_reco,loss_latent,lr\n",
      "50/50 [==============================] - 4s 77ms/step - loss: 0.9169 - loss_reco: 0.9169 - loss_latent: 1.8063e-06\n",
      "Epoch 84/100\n",
      "50/50 [==============================] - ETA: 0s - loss: 0.9011 - loss_reco: 0.9011 - loss_latent: 2.8890e-06WARNING:tensorflow:Reduce LR on plateau conditioned on metric `val_loss` which is not available. Available metrics are: loss,loss_reco,loss_latent,lr\n",
      "50/50 [==============================] - 4s 75ms/step - loss: 0.8988 - loss_reco: 0.8988 - loss_latent: 2.8510e-06\n",
      "Epoch 85/100\n"
     ]
    },
    {
     "name": "stdout",
     "output_type": "stream",
     "text": [
      "50/50 [==============================] - ETA: 0s - loss: 0.8955 - loss_reco: 0.8955 - loss_latent: 1.6113e-06WARNING:tensorflow:Reduce LR on plateau conditioned on metric `val_loss` which is not available. Available metrics are: loss,loss_reco,loss_latent,lr\n",
      "50/50 [==============================] - 4s 74ms/step - loss: 0.8933 - loss_reco: 0.8933 - loss_latent: 1.5912e-06\n",
      "Epoch 86/100\n",
      "50/50 [==============================] - ETA: 0s - loss: 0.8950 - loss_reco: 0.8950 - loss_latent: 1.3300e-06WARNING:tensorflow:Reduce LR on plateau conditioned on metric `val_loss` which is not available. Available metrics are: loss,loss_reco,loss_latent,lr\n",
      "50/50 [==============================] - 4s 77ms/step - loss: 0.8939 - loss_reco: 0.8939 - loss_latent: 1.3426e-06\n",
      "Epoch 87/100\n",
      "50/50 [==============================] - ETA: 0s - loss: 0.8955 - loss_reco: 0.8955 - loss_latent: 8.4623e-07WARNING:tensorflow:Reduce LR on plateau conditioned on metric `val_loss` which is not available. Available metrics are: loss,loss_reco,loss_latent,lr\n",
      "50/50 [==============================] - 4s 73ms/step - loss: 0.8952 - loss_reco: 0.8952 - loss_latent: 8.3932e-07\n",
      "Epoch 88/100\n",
      "50/50 [==============================] - ETA: 0s - loss: 0.8948 - loss_reco: 0.8948 - loss_latent: 6.4141e-07WARNING:tensorflow:Reduce LR on plateau conditioned on metric `val_loss` which is not available. Available metrics are: loss,loss_reco,loss_latent,lr\n",
      "50/50 [==============================] - 4s 75ms/step - loss: 0.8941 - loss_reco: 0.8941 - loss_latent: 6.4155e-07\n",
      "Epoch 89/100\n",
      "50/50 [==============================] - ETA: 0s - loss: 0.8946 - loss_reco: 0.8946 - loss_latent: 6.5905e-07WARNING:tensorflow:Reduce LR on plateau conditioned on metric `val_loss` which is not available. Available metrics are: loss,loss_reco,loss_latent,lr\n",
      "50/50 [==============================] - 4s 77ms/step - loss: 0.8948 - loss_reco: 0.8948 - loss_latent: 6.5585e-07\n",
      "Epoch 90/100\n",
      "50/50 [==============================] - ETA: 0s - loss: 0.8952 - loss_reco: 0.8952 - loss_latent: 9.8546e-07WARNING:tensorflow:Reduce LR on plateau conditioned on metric `val_loss` which is not available. Available metrics are: loss,loss_reco,loss_latent,lr\n",
      "50/50 [==============================] - 4s 73ms/step - loss: 0.8958 - loss_reco: 0.8958 - loss_latent: 9.8116e-07\n",
      "Epoch 91/100\n",
      "50/50 [==============================] - ETA: 0s - loss: 0.8947 - loss_reco: 0.8947 - loss_latent: 9.6033e-07WARNING:tensorflow:Reduce LR on plateau conditioned on metric `val_loss` which is not available. Available metrics are: loss,loss_reco,loss_latent,lr\n",
      "50/50 [==============================] - 4s 74ms/step - loss: 0.8971 - loss_reco: 0.8971 - loss_latent: 9.5389e-07\n",
      "Epoch 92/100\n",
      "50/50 [==============================] - ETA: 0s - loss: 0.8947 - loss_reco: 0.8947 - loss_latent: 7.0997e-07WARNING:tensorflow:Reduce LR on plateau conditioned on metric `val_loss` which is not available. Available metrics are: loss,loss_reco,loss_latent,lr\n",
      "50/50 [==============================] - 3s 66ms/step - loss: 0.8955 - loss_reco: 0.8955 - loss_latent: 7.0556e-07\n",
      "Epoch 93/100\n",
      "50/50 [==============================] - ETA: 0s - loss: 0.8946 - loss_reco: 0.8946 - loss_latent: 9.6063e-07WARNING:tensorflow:Reduce LR on plateau conditioned on metric `val_loss` which is not available. Available metrics are: loss,loss_reco,loss_latent,lr\n",
      "50/50 [==============================] - 3s 65ms/step - loss: 0.8951 - loss_reco: 0.8951 - loss_latent: 9.6606e-07\n",
      "Epoch 94/100\n",
      "50/50 [==============================] - ETA: 0s - loss: 0.8946 - loss_reco: 0.8946 - loss_latent: 1.7001e-06WARNING:tensorflow:Reduce LR on plateau conditioned on metric `val_loss` which is not available. Available metrics are: loss,loss_reco,loss_latent,lr\n",
      "50/50 [==============================] - 4s 70ms/step - loss: 0.8986 - loss_reco: 0.8986 - loss_latent: 1.6794e-06\n",
      "Epoch 95/100\n",
      "50/50 [==============================] - ETA: 0s - loss: 0.8944 - loss_reco: 0.8944 - loss_latent: 9.4398e-07WARNING:tensorflow:Reduce LR on plateau conditioned on metric `val_loss` which is not available. Available metrics are: loss,loss_reco,loss_latent,lr\n",
      "50/50 [==============================] - 4s 78ms/step - loss: 0.8932 - loss_reco: 0.8932 - loss_latent: 9.5790e-07\n",
      "Epoch 96/100\n",
      "50/50 [==============================] - ETA: 0s - loss: 0.8948 - loss_reco: 0.8948 - loss_latent: 1.1061e-06WARNING:tensorflow:Reduce LR on plateau conditioned on metric `val_loss` which is not available. Available metrics are: loss,loss_reco,loss_latent,lr\n",
      "50/50 [==============================] - 4s 76ms/step - loss: 0.8958 - loss_reco: 0.8958 - loss_latent: 1.1105e-06\n",
      "Epoch 97/100\n",
      "50/50 [==============================] - ETA: 0s - loss: 0.8947 - loss_reco: 0.8947 - loss_latent: 1.7806e-06WARNING:tensorflow:Reduce LR on plateau conditioned on metric `val_loss` which is not available. Available metrics are: loss,loss_reco,loss_latent,lr\n",
      "50/50 [==============================] - 4s 73ms/step - loss: 0.8959 - loss_reco: 0.8959 - loss_latent: 1.7867e-06\n",
      "Epoch 98/100\n",
      "50/50 [==============================] - ETA: 0s - loss: 0.8946 - loss_reco: 0.8946 - loss_latent: 2.5266e-06WARNING:tensorflow:Reduce LR on plateau conditioned on metric `val_loss` which is not available. Available metrics are: loss,loss_reco,loss_latent,lr\n",
      "50/50 [==============================] - 4s 76ms/step - loss: 0.8935 - loss_reco: 0.8935 - loss_latent: 2.6233e-06\n",
      "Epoch 99/100\n",
      "50/50 [==============================] - ETA: 0s - loss: 0.8945 - loss_reco: 0.8945 - loss_latent: 3.3870e-06WARNING:tensorflow:Reduce LR on plateau conditioned on metric `val_loss` which is not available. Available metrics are: loss,loss_reco,loss_latent,lr\n",
      "50/50 [==============================] - 4s 78ms/step - loss: 0.8965 - loss_reco: 0.8965 - loss_latent: 3.3656e-06\n",
      "Epoch 100/100\n",
      "50/50 [==============================] - ETA: 0s - loss: 0.8945 - loss_reco: 0.8945 - loss_latent: 1.8815e-06WARNING:tensorflow:Reduce LR on plateau conditioned on metric `val_loss` which is not available. Available metrics are: loss,loss_reco,loss_latent,lr\n",
      "50/50 [==============================] - 4s 76ms/step - loss: 0.8980 - loss_reco: 0.8980 - loss_latent: 1.8850e-06\n"
     ]
    },
    {
     "data": {
      "text/plain": [
       "<tensorflow.python.keras.callbacks.History at 0x7f68f41f5370>"
      ]
     },
     "execution_count": 12,
     "metadata": {},
     "output_type": "execute_result"
    }
   ],
   "source": [
    "callbacks = [tf.keras.callbacks.ReduceLROnPlateau(factor=0.1, patience=5, verbose=1)]\n",
    "           # tf.keras.callbacks.EarlyStopping(monitor='loss', patience=5, verbose=1)] #does not work on epoch end, need to check why\n",
    "gcnvae.fit(particles_bg, A_bg, epochs=20, batch_size=128, callbacks=callbacks) # validation_split=0.25, "
   ]
  },
  {
   "cell_type": "code",
   "execution_count": null,
   "id": "scientific-slope",
   "metadata": {},
   "outputs": [],
   "source": [
    "#background"
   ]
  },
  {
   "cell_type": "code",
   "execution_count": 19,
   "id": "opening-panic",
   "metadata": {},
   "outputs": [
    {
     "name": "stdout",
     "output_type": "stream",
     "text": [
      "Number of jets = 3929\n",
      "Number of constituents (nodes) = 100\n",
      "Number of features = 3\n"
     ]
    }
   ],
   "source": [
    "_,_, particles_bg_test, A_bg_test, A_tilde_bg_test = prepr.prepare_data(filename_bg,2000,train_set_size+1,train_set_size+2000)\n",
    "features_out_bg_test, z_bg_test, z_mean_bg_test, z_log_var_bg_test = gcnvae((particles_bg_test, A_bg_test))\n",
    "features_out_bg_test = features_out_bg_test.numpy().astype('float32')\n",
    "loss_bg = threeD_loss_manual(particles_bg_test.astype('float32'),features_out_bg_test)"
   ]
  },
  {
   "cell_type": "code",
   "execution_count": 21,
   "id": "express-smoke",
   "metadata": {},
   "outputs": [
    {
     "name": "stdout",
     "output_type": "stream",
     "text": [
      "Number of jets = 583533\n",
      "Number of constituents (nodes) = 100\n",
      "Number of features = 3\n"
     ]
    },
    {
     "ename": "NameError",
     "evalue": "name 'threeD_loss' is not defined",
     "output_type": "error",
     "traceback": [
      "\u001b[0;31m---------------------------------------------------------------------------\u001b[0m",
      "\u001b[0;31mNameError\u001b[0m                                 Traceback (most recent call last)",
      "\u001b[0;32m<ipython-input-21-135151982c91>\u001b[0m in \u001b[0;36m<module>\u001b[0;34m\u001b[0m\n\u001b[1;32m      8\u001b[0m \u001b[0mfeatures_out_sig\u001b[0m\u001b[0;34m,\u001b[0m \u001b[0mz_sig\u001b[0m\u001b[0;34m,\u001b[0m \u001b[0mz_mean_sig\u001b[0m\u001b[0;34m,\u001b[0m \u001b[0mz_log_var_sig\u001b[0m \u001b[0;34m=\u001b[0m \u001b[0mgcnvae\u001b[0m\u001b[0;34m(\u001b[0m\u001b[0;34m(\u001b[0m\u001b[0mparticles_sig\u001b[0m\u001b[0;34m,\u001b[0m \u001b[0mA_sig\u001b[0m\u001b[0;34m)\u001b[0m\u001b[0;34m)\u001b[0m\u001b[0;34m\u001b[0m\u001b[0;34m\u001b[0m\u001b[0m\n\u001b[1;32m      9\u001b[0m \u001b[0mfeatures_out_sig\u001b[0m \u001b[0;34m=\u001b[0m \u001b[0mfeatures_out_sig\u001b[0m\u001b[0;34m.\u001b[0m\u001b[0mnumpy\u001b[0m\u001b[0;34m(\u001b[0m\u001b[0;34m)\u001b[0m\u001b[0;34m.\u001b[0m\u001b[0mastype\u001b[0m\u001b[0;34m(\u001b[0m\u001b[0;34m'float32'\u001b[0m\u001b[0;34m)\u001b[0m\u001b[0;34m\u001b[0m\u001b[0;34m\u001b[0m\u001b[0m\n\u001b[0;32m---> 10\u001b[0;31m \u001b[0mloss_signal\u001b[0m \u001b[0;34m=\u001b[0m \u001b[0mthreeD_loss\u001b[0m\u001b[0;34m(\u001b[0m\u001b[0mparticles_sig\u001b[0m\u001b[0;34m.\u001b[0m\u001b[0mastype\u001b[0m\u001b[0;34m(\u001b[0m\u001b[0;34m'float32'\u001b[0m\u001b[0;34m)\u001b[0m\u001b[0;34m,\u001b[0m\u001b[0mfeatures_out_sig\u001b[0m\u001b[0;34m)\u001b[0m\u001b[0;34m\u001b[0m\u001b[0;34m\u001b[0m\u001b[0m\n\u001b[0m",
      "\u001b[0;31mNameError\u001b[0m: name 'threeD_loss' is not defined"
     ]
    }
   ],
   "source": [
    "#signal\n",
    "SIG_PATH = '/eos/project/d/dshep/TOPCLASS/DijetAnomaly/VAE_data/events/RSGraviton_WW_NARROW_13TeV_PU40_3.5TeV_NEW_parts/'\n",
    "filename_sig = SIG_PATH + 'RSGraviton_WW_NARROW_13TeV_PU40_3.5TeV_NEW_concat_001.h5'\n",
    "nodes_n, feat_sz, particles_sig, A_sig, A_tilde_sig = prepr.prepare_data(filename_sig,2000)\n",
    "\n",
    "features_out_sig, z_sig, z_mean_sig, z_log_var_sig = gcnvae((particles_sig, A_sig))\n",
    "features_out_sig = features_out_sig.numpy().astype('float32')\n",
    "loss_signal = threeD_loss_manual(particles_sig.astype('float32'),features_out_sig)"
   ]
  },
  {
   "cell_type": "code",
   "execution_count": 22,
   "id": "persistent-fight",
   "metadata": {},
   "outputs": [],
   "source": [
    "loss_signal = threeD_loss_manual(particles_sig.astype('float32'),features_out_sig)"
   ]
  },
  {
   "cell_type": "code",
   "execution_count": 27,
   "id": "sought-blade",
   "metadata": {},
   "outputs": [
    {
     "data": {
      "image/png": "[encoded data removed]",
      "text/plain": [
       "<Figure size 432x288 with 1 Axes>"
      ]
     },
     "metadata": {
      "needs_background": "light"
     },
     "output_type": "display_data"
    }
   ],
   "source": [
    "max_score = np.max(np.max(loss_signal))#,np.max(loss_bg_dist))\n",
    "min_score = np.max(np.min(loss_bg))#,np.max(loss_bg_dist))\n",
    "# plot BG\n",
    "plt.figure()\n",
    "plt.hist(loss_bg, bins=100, label='BG', density=True, range=(min_score, max_score), \n",
    "         histtype='step', fill=False, linewidth=1.5,color='g')\n",
    "plt.hist(loss_signal, bins=100, label='SIG', density=True, range=(min_score, max_score), \n",
    "         histtype='step', fill=False, linewidth=1.5,color='r')\n",
    "#plt.semilogy()\n",
    "plt.xlabel(\"VAE Chamfer Loss\")\n",
    "plt.ylabel(\"Probability (a.u.)\")\n",
    "plt.grid(True)\n",
    "plt.legend(loc='upper right')\n",
    "plt.show()"
   ]
  },
  {
   "cell_type": "code",
   "execution_count": 24,
   "id": "republican-falls",
   "metadata": {},
   "outputs": [
    {
     "data": {
      "text/plain": [
       "90.61405"
      ]
     },
     "execution_count": 24,
     "metadata": {},
     "output_type": "execute_result"
    }
   ],
   "source": [
    "loss_signal.mean()"
   ]
  },
  {
   "cell_type": "code",
   "execution_count": 25,
   "id": "happy-oliver",
   "metadata": {},
   "outputs": [
    {
     "data": {
      "text/plain": [
       "88.95781"
      ]
     },
     "execution_count": 25,
     "metadata": {},
     "output_type": "execute_result"
    }
   ],
   "source": [
    "loss_bg.mean()"
   ]
  },
  {
   "cell_type": "code",
   "execution_count": null,
   "id": "cutting-party",
   "metadata": {},
   "outputs": [],
   "source": []
  }
 ],
 "metadata": {
  "kernelspec": {
   "display_name": "Python 3",
   "language": "python",
   "name": "python3"
  },
  "language_info": {
   "codemirror_mode": {
    "name": "ipython",
    "version": 3
   },
   "file_extension": ".py",
   "mimetype": "text/x-python",
   "name": "python",
   "nbconvert_exporter": "python",
   "pygments_lexer": "ipython3",
   "version": "3.8.6"
  }
 },
 "nbformat": 4,
 "nbformat_minor": 5
}
