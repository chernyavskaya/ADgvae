{
 "cells": [
  {
   "cell_type": "code",
   "execution_count": 3,
   "id": "european-appearance",
   "metadata": {},
   "outputs": [],
   "source": [
    "import tensorflow as tf\n",
    "import numpy as np\n",
    "import h5py\n",
    "import matplotlib.pyplot as plt\n",
    "from importlib import reload"
   ]
  },
  {
   "cell_type": "code",
   "execution_count": 4,
   "id": "extensive-brazil",
   "metadata": {},
   "outputs": [
    {
     "data": {
      "text/plain": [
       "<module 'utils.preprocessing' from '/eos/home-n/nchernya/MLHEP/AnomalyDetection/ADgvae/utils/preprocessing.py'>"
      ]
     },
     "execution_count": 4,
     "metadata": {},
     "output_type": "execute_result"
    }
   ],
   "source": [
    "import models.models as models\n",
    "reload(models)\n",
    "import utils.preprocessing as prepr\n",
    "reload(prepr)"
   ]
  },
  {
   "cell_type": "code",
   "execution_count": 5,
   "id": "lined-sister",
   "metadata": {},
   "outputs": [
    {
     "name": "stdout",
     "output_type": "stream",
     "text": [
      "Number of jets = 12571\n",
      "Number of constituents (nodes) = 100\n",
      "Number of features = 3\n"
     ]
    },
    {
     "name": "stderr",
     "output_type": "stream",
     "text": [
      "/eos/home-n/nchernya/MLHEP/AnomalyDetection/ADgvae/utils/preprocessing.py:38: RuntimeWarning: divide by zero encountered in power\n",
      "  D = np.nan_to_num(np.power(D,-0.5), posinf=0, neginf=0) # normalize (**-(1/2))\n"
     ]
    },
    {
     "name": "stdout",
     "output_type": "stream",
     "text": [
      "Number of jets = 2518\n",
      "Number of constituents (nodes) = 100\n",
      "Number of features = 3\n"
     ]
    }
   ],
   "source": [
    "#Data Samples\n",
    "TRAIN_PATH = '/eos/project/d/dshep/TOPCLASS/DijetAnomaly/VAE_data/events/qcd_sqrtshatTeV_13TeV_PU40_NEW_sideband_parts/'\n",
    "filename_bg = TRAIN_PATH + 'qcd_sqrtshatTeV_13TeV_PU40_NEW_sideband_000.h5'\n",
    "batch_size = 128\n",
    "train_set_size = batch_size*50\n",
    "nodes_n, feat_sz, particles_bg, A_bg, A_tilde_bg = prepr.prepare_data(filename_bg,train_set_size,0,train_set_size+1)\n",
    "\n",
    "VALID_PATH = '/eos/project/d/dshep/TOPCLASS/DijetAnomaly/VAE_data/events/qcd_sqrtshatTeV_13TeV_PU40_NEW_EXT_sideband_parts'\n",
    "filename_bg_valid = TRAIN_PATH + 'qcd_sqrtshatTeV_13TeV_PU40_NEW_EXT_sideband_000.h5'\n",
    "batch_size = 128\n",
    "valid_set_size = batch_size*10\n",
    "_,_, particles_bg_valid, A_bg_valid, A_tilde_bg_valid = prepr.prepare_data(filename_bg,valid_set_size,0,valid_set_size+1)"
   ]
  },
  {
   "cell_type": "code",
   "execution_count": 6,
   "id": "bridal-franchise",
   "metadata": {},
   "outputs": [
    {
     "name": "stdout",
     "output_type": "stream",
     "text": [
      "(6400, 100, 3) (6400, 100, 100) (6400, 100, 100)\n"
     ]
    }
   ],
   "source": [
    "print(particles_bg.shape, A_tilde_bg.shape, A_bg.shape)"
   ]
  },
  {
   "cell_type": "code",
   "execution_count": null,
   "id": "boolean-nomination",
   "metadata": {},
   "outputs": [],
   "source": []
  },
  {
   "cell_type": "markdown",
   "id": "exceptional-proposition",
   "metadata": {},
   "source": [
    "# Autoencoder"
   ]
  },
  {
   "cell_type": "code",
   "execution_count": 6,
   "id": "optional-pulse",
   "metadata": {},
   "outputs": [
    {
     "name": "stdout",
     "output_type": "stream",
     "text": [
      "Model: \"functional_1\"\n",
      "__________________________________________________________________________________________________\n",
      "Layer (type)                    Output Shape         Param #     Connected to                     \n",
      "==================================================================================================\n",
      "encoder_input_features (InputLa [(None, 100, 3)]     0                                            \n",
      "__________________________________________________________________________________________________\n",
      "encoder_input_adjacency (InputL [(None, 100, 100)]   0                                            \n",
      "__________________________________________________________________________________________________\n",
      "graph_convolution (GraphConvolu (None, 100, 6)       42          encoder_input_features[0][0]     \n",
      "                                                                 encoder_input_adjacency[0][0]    \n",
      "__________________________________________________________________________________________________\n",
      "graph_convolution_1 (GraphConvo (None, 100, 8)       104         graph_convolution[0][0]          \n",
      "                                                                 encoder_input_adjacency[0][0]    \n",
      "__________________________________________________________________________________________________\n",
      "graph_convolution_2 (GraphConvo (None, 100, 4)       68          graph_convolution_1[0][0]        \n",
      "                                                                 encoder_input_adjacency[0][0]    \n",
      "__________________________________________________________________________________________________\n",
      "graph_convolution_3 (GraphConvo (None, 100, 2)       18          graph_convolution_2[0][0]        \n",
      "                                                                 encoder_input_adjacency[0][0]    \n",
      "__________________________________________________________________________________________________\n",
      "graph_convolution_4 (GraphConvo (None, 100, 1)       5           graph_convolution_3[0][0]        \n",
      "                                                                 encoder_input_adjacency[0][0]    \n",
      "==================================================================================================\n",
      "Total params: 237\n",
      "Trainable params: 237\n",
      "Non-trainable params: 0\n",
      "__________________________________________________________________________________________________\n"
     ]
    }
   ],
   "source": [
    "gnn = models.GraphAutoencoder(nodes_n=nodes_n, feat_sz=feat_sz, activation=tf.nn.tanh)\n",
    "gnn.compile(optimizer=tf.keras.optimizers.Adam(learning_rate=0.001), run_eagerly=True)  #learning rate 0.001 worked"
   ]
  },
  {
   "cell_type": "code",
   "execution_count": 7,
   "id": "regulated-mississippi",
   "metadata": {
    "scrolled": true
   },
   "outputs": [
    {
     "name": "stdout",
     "output_type": "stream",
     "text": [
      "Epoch 1/50\n",
      "74/74 [==============================] - 8s 111ms/step - val_loss: 0.4226\n",
      "Epoch 2/50\n",
      "74/74 [==============================] - 7s 95ms/step - val_loss: 0.4060\n",
      "Epoch 3/50\n",
      "74/74 [==============================] - 8s 105ms/step - val_loss: 0.4033\n",
      "Epoch 4/50\n",
      "74/74 [==============================] - 8s 111ms/step - val_loss: 0.4018\n",
      "Epoch 5/50\n",
      "74/74 [==============================] - 8s 108ms/step - val_loss: 0.4009\n",
      "Epoch 6/50\n",
      "74/74 [==============================] - 8s 106ms/step - val_loss: 0.4003\n",
      "Epoch 7/50\n",
      "74/74 [==============================] - 8s 107ms/step - val_loss: 0.3999\n",
      "Epoch 8/50\n",
      "74/74 [==============================] - 8s 106ms/step - val_loss: 0.3996\n",
      "Epoch 9/50\n",
      "74/74 [==============================] - 8s 103ms/step - val_loss: 0.3994\n",
      "Epoch 10/50\n",
      "74/74 [==============================] - 7s 93ms/step - val_loss: 0.3993\n",
      "Epoch 11/50\n",
      "74/74 [==============================] - 8s 107ms/step - val_loss: 0.3992\n",
      "Epoch 12/50\n",
      "74/74 [==============================] - 8s 106ms/step - val_loss: 0.3991\n",
      "Epoch 13/50\n",
      "74/74 [==============================] - 8s 106ms/step - val_loss: 0.3991\n",
      "Epoch 14/50\n",
      "74/74 [==============================] - 8s 106ms/step - val_loss: 0.3991\n",
      "Epoch 15/50\n",
      "74/74 [==============================] - 8s 106ms/step - val_loss: 0.3990\n",
      "Epoch 16/50\n",
      "74/74 [==============================] - 8s 108ms/step - val_loss: 0.3990\n",
      "Epoch 17/50\n",
      "74/74 [==============================] - 7s 99ms/step - val_loss: 0.3990\n",
      "Epoch 18/50\n",
      "74/74 [==============================] - 7s 99ms/step - val_loss: 0.3990\n",
      "Epoch 19/50\n",
      "74/74 [==============================] - 8s 106ms/step - val_loss: 0.3990\n",
      "Epoch 20/50\n",
      "74/74 [==============================] - ETA: 0s\n",
      "Epoch 00020: ReduceLROnPlateau reducing learning rate to 0.00010000000474974513.\n",
      "74/74 [==============================] - 8s 107ms/step - val_loss: 0.3990\n",
      "Epoch 21/50\n",
      "74/74 [==============================] - 8s 107ms/step - val_loss: 0.3990\n",
      "Epoch 22/50\n",
      "74/74 [==============================] - 8s 107ms/step - val_loss: 0.3990\n",
      "Epoch 23/50\n",
      "74/74 [==============================] - 8s 106ms/step - val_loss: 0.3990\n",
      "Epoch 24/50\n",
      "74/74 [==============================] - 8s 106ms/step - val_loss: 0.3990\n",
      "Epoch 25/50\n",
      "74/74 [==============================] - ETA: 0s\n",
      "Epoch 00025: ReduceLROnPlateau reducing learning rate to 1.0000000474974514e-05.\n",
      "74/74 [==============================] - 7s 93ms/step - val_loss: 0.3990\n",
      "Epoch 26/50\n",
      "74/74 [==============================] - 8s 103ms/step - val_loss: 0.3990\n",
      "Epoch 27/50\n",
      "74/74 [==============================] - 8s 106ms/step - val_loss: 0.3990\n",
      "Epoch 28/50\n",
      "74/74 [==============================] - 8s 105ms/step - val_loss: 0.3990\n",
      "Epoch 29/50\n",
      "74/74 [==============================] - 8s 110ms/step - val_loss: 0.3990\n",
      "Epoch 30/50\n",
      "74/74 [==============================] - ETA: 0s\n",
      "Epoch 00030: ReduceLROnPlateau reducing learning rate to 1.0000000656873453e-06.\n",
      "74/74 [==============================] - 8s 105ms/step - val_loss: 0.3990\n",
      "Epoch 31/50\n",
      "74/74 [==============================] - 8s 104ms/step - val_loss: 0.3990\n",
      "Epoch 32/50\n",
      "74/74 [==============================] - 8s 102ms/step - val_loss: 0.3990\n",
      "Epoch 33/50\n",
      "74/74 [==============================] - 7s 95ms/step - val_loss: 0.3990\n",
      "Epoch 34/50\n",
      "74/74 [==============================] - 8s 104ms/step - val_loss: 0.3990\n",
      "Epoch 35/50\n",
      "74/74 [==============================] - ETA: 0s\n",
      "Epoch 00035: ReduceLROnPlateau reducing learning rate to 1.0000001111620805e-07.\n",
      "74/74 [==============================] - 8s 102ms/step - val_loss: 0.3990\n",
      "Epoch 36/50\n",
      "74/74 [==============================] - 8s 106ms/step - val_loss: 0.3990\n",
      "Epoch 37/50\n",
      "74/74 [==============================] - 8s 111ms/step - val_loss: 0.3990\n",
      "Epoch 38/50\n",
      "74/74 [==============================] - 8s 102ms/step - val_loss: 0.3990\n",
      "Epoch 39/50\n",
      "74/74 [==============================] - 8s 108ms/step - val_loss: 0.3990\n",
      "Epoch 00039: early stopping\n"
     ]
    },
    {
     "data": {
      "text/plain": [
       "<tensorflow.python.keras.callbacks.History at 0x7f09d9482850>"
      ]
     },
     "execution_count": 7,
     "metadata": {},
     "output_type": "execute_result"
    }
   ],
   "source": [
    "callbacks = [tf.keras.callbacks.ReduceLROnPlateau(factor=0.1, patience=5, verbose=1),\n",
    "            tf.keras.callbacks.EarlyStopping(monitor='val_loss', patience=5, verbose=1)]\n",
    "gnn.fit((particles_bg, A_tilde_bg), A_bg, epochs=50, batch_size=128, validation_split=0.25, callbacks=callbacks)"
   ]
  },
  {
   "cell_type": "markdown",
   "id": "prepared-occasions",
   "metadata": {},
   "source": [
    "## Predict BG and Sig"
   ]
  },
  {
   "cell_type": "code",
   "execution_count": 11,
   "id": "several-qualification",
   "metadata": {},
   "outputs": [
    {
     "name": "stdout",
     "output_type": "stream",
     "text": [
      "Number of jets = 9966\n",
      "Number of constituents (nodes) = 100\n",
      "Number of features = 3\n"
     ]
    },
    {
     "name": "stderr",
     "output_type": "stream",
     "text": [
      "/eos/home-n/nchernya/MLHEP/AnomalyDetection/ADgvae/utils/preprocessing.py:38: RuntimeWarning: divide by zero encountered in power\n",
      "  D = np.nan_to_num(np.power(D,-0.5), posinf=0, neginf=0) # normalize (**-(1/2))\n"
     ]
    },
    {
     "name": "stdout",
     "output_type": "stream",
     "text": [
      "Number of jets = 9840\n",
      "Number of constituents (nodes) = 100\n",
      "Number of features = 3\n"
     ]
    }
   ],
   "source": [
    "#Prepare signal and background (for testing) samples\n",
    "\n",
    "#signal\n",
    "SIG_PATH = '/eos/project/d/dshep/TOPCLASS/DijetAnomaly/VAE_data/events/RSGraviton_WW_NARROW_13TeV_PU40_3.5TeV_NEW_parts/'\n",
    "filename_sig = SIG_PATH + 'RSGraviton_WW_NARROW_13TeV_PU40_3.5TeV_NEW_concat_001.h5'\n",
    "_,_, particles_sig, A_sig, A_tilde_sig = prepr.prepare_data(filename_sig,5000,0,5000)\n",
    "#background test \n",
    "_,_, particles_bg_test, A_bg_test, A_tilde_bg_test = prepr.prepare_data(filename_bg,5000,train_set_size+1,train_set_size+5000)\n"
   ]
  },
  {
   "cell_type": "code",
   "execution_count": 12,
   "id": "black-potter",
   "metadata": {},
   "outputs": [],
   "source": [
    "z_sig, A_pred_sig = gnn((particles_sig, A_tilde_sig))\n",
    "z_bg_test, A_pred_bg_test = gnn((particles_bg_test, A_tilde_bg_test))\n",
    "loss_signal = tf.math.reduce_mean(tf.nn.sigmoid_cross_entropy_with_logits(A_sig, A_pred_sig), axis=(1,2)).numpy() #predicted adjecny, but not set to 0/1 yet\n",
    "loss_bg = tf.math.reduce_mean(tf.nn.sigmoid_cross_entropy_with_logits(A_bg_test, A_pred_bg_test), axis=(1,2)).numpy()"
   ]
  },
  {
   "cell_type": "code",
   "execution_count": 13,
   "id": "certain-start",
   "metadata": {
    "scrolled": true
   },
   "outputs": [
    {
     "data": {
      "image/png": "[encoded data removed]",
      "text/plain": [
       "<Figure size 432x288 with 1 Axes>"
      ]
     },
     "metadata": {
      "needs_background": "light"
     },
     "output_type": "display_data"
    }
   ],
   "source": [
    "max_score = np.max(np.max(loss_signal))#,np.max(loss_bg_dist))\n",
    "min_score = np.max(np.min(loss_bg))#,np.max(loss_bg_dist))\n",
    "# plot BG\n",
    "plt.figure()\n",
    "plt.hist(loss_bg, bins=100, label='BG', density=True, range=(min_score, max_score), \n",
    "         histtype='step', fill=False, linewidth=1.5,color='g')\n",
    "plt.hist(loss_signal, bins=100, label='SIG', density=True, range=(min_score, max_score), \n",
    "         histtype='step', fill=False, linewidth=1.5,color='r')\n",
    "#plt.semilogy()\n",
    "plt.xlabel(\"AE Loss\")\n",
    "plt.ylabel(\"Probability (a.u.)\")\n",
    "plt.grid(True)\n",
    "plt.legend(loc='upper right')\n",
    "plt.show()"
   ]
  },
  {
   "cell_type": "code",
   "execution_count": null,
   "id": "designing-effect",
   "metadata": {},
   "outputs": [],
   "source": []
  },
  {
   "cell_type": "code",
   "execution_count": null,
   "id": "rural-telling",
   "metadata": {},
   "outputs": [],
   "source": []
  },
  {
   "cell_type": "markdown",
   "id": "affiliated-affairs",
   "metadata": {},
   "source": [
    "# GCN VAE"
   ]
  },
  {
   "cell_type": "code",
   "execution_count": 7,
   "id": "demonstrated-armstrong",
   "metadata": {},
   "outputs": [],
   "source": [
    "def threeD_loss_manual(inputs, outputs):\n",
    "    distances = np.sum(np.subtract(inputs[:,:,np.newaxis,:],outputs[:,np.newaxis,:,:])**2, axis=-1)\n",
    "    min_dist_to_inputs = np.min(distances,axis=1)\n",
    "    min_dist_to_outputs = np.min(distances,axis=2)\n",
    "    return np.sum(min_dist_to_inputs,axis=1) + np.sum(min_dist_to_outputs,axis=1)\n",
    "\n"
   ]
  },
  {
   "cell_type": "code",
   "execution_count": 128,
   "id": "sound-rolling",
   "metadata": {},
   "outputs": [
    {
     "data": {
      "text/plain": [
       "<module 'utils.preprocessing' from '/eos/home-n/nchernya/MLHEP/AnomalyDetection/ADgvae/utils/preprocessing.py'>"
      ]
     },
     "execution_count": 128,
     "metadata": {},
     "output_type": "execute_result"
    }
   ],
   "source": [
    "import models.losses as losses\n",
    "reload(losses)\n",
    "import models.models as models\n",
    "reload(models)\n",
    "import utils.preprocessing as prepr\n",
    "reload(prepr)\n"
   ]
  },
  {
   "cell_type": "code",
   "execution_count": 129,
   "id": "minus-subcommittee",
   "metadata": {
    "scrolled": true
   },
   "outputs": [
    {
     "name": "stdout",
     "output_type": "stream",
     "text": [
      "100\n",
      "Model: \"functional_61\"\n",
      "__________________________________________________________________________________________________\n",
      "Layer (type)                    Output Shape         Param #     Connected to                     \n",
      "==================================================================================================\n",
      "encoder_input_features (InputLa [(None, 100, 3)]     0                                            \n",
      "__________________________________________________________________________________________________\n",
      "encoder_input_adjacency (InputL [(None, 100, 100)]   0                                            \n",
      "__________________________________________________________________________________________________\n",
      "graph_convolution_30 (GraphConv (None, 100, 2)       14          encoder_input_features[0][0]     \n",
      "                                                                 encoder_input_adjacency[0][0]    \n",
      "__________________________________________________________________________________________________\n",
      "flatten_20 (Flatten)            (None, 200)          0           graph_convolution_30[0][0]       \n",
      "__________________________________________________________________________________________________\n",
      "dense_80 (Dense)                (None, 100)          20100       flatten_20[0][0]                 \n",
      "__________________________________________________________________________________________________\n",
      "dense_81 (Dense)                (None, 10)           1010        dense_80[0][0]                   \n",
      "__________________________________________________________________________________________________\n",
      "tf_op_layer_Shape_60 (TensorFlo [(2,)]               0           dense_81[0][0]                   \n",
      "__________________________________________________________________________________________________\n",
      "tf_op_layer_Shape_61 (TensorFlo [(2,)]               0           dense_81[0][0]                   \n",
      "__________________________________________________________________________________________________\n",
      "tf_op_layer_strided_slice_40 (T [()]                 0           tf_op_layer_Shape_60[0][0]       \n",
      "__________________________________________________________________________________________________\n",
      "tf_op_layer_strided_slice_41 (T [()]                 0           tf_op_layer_Shape_61[0][0]       \n",
      "__________________________________________________________________________________________________\n",
      "tf_op_layer_shape_62 (TensorFlo [(2,)]               0           tf_op_layer_strided_slice_40[0][0\n",
      "                                                                 tf_op_layer_strided_slice_41[0][0\n",
      "__________________________________________________________________________________________________\n",
      "dense_82 (Dense)                (None, 10)           1010        dense_80[0][0]                   \n",
      "__________________________________________________________________________________________________\n",
      "tf_op_layer_RandomStandardNorma [(None, None)]       0           tf_op_layer_shape_62[0][0]       \n",
      "__________________________________________________________________________________________________\n",
      "tf_op_layer_Mul_61 (TensorFlowO [(None, 10)]         0           dense_82[0][0]                   \n",
      "__________________________________________________________________________________________________\n",
      "tf_op_layer_Mul_60 (TensorFlowO [(None, None)]       0           tf_op_layer_RandomStandardNormal_\n",
      "__________________________________________________________________________________________________\n",
      "tf_op_layer_Exp_20 (TensorFlowO [(None, 10)]         0           tf_op_layer_Mul_61[0][0]         \n",
      "__________________________________________________________________________________________________\n",
      "tf_op_layer_Add_20 (TensorFlowO [(None, None)]       0           tf_op_layer_Mul_60[0][0]         \n",
      "__________________________________________________________________________________________________\n",
      "tf_op_layer_Mul_62 (TensorFlowO [(None, 10)]         0           tf_op_layer_Exp_20[0][0]         \n",
      "                                                                 tf_op_layer_Add_20[0][0]         \n",
      "__________________________________________________________________________________________________\n",
      "tf_op_layer_AddV2_20 (TensorFlo [(None, 10)]         0           dense_81[0][0]                   \n",
      "                                                                 tf_op_layer_Mul_62[0][0]         \n",
      "==================================================================================================\n",
      "Total params: 22,134\n",
      "Trainable params: 22,134\n",
      "Non-trainable params: 0\n",
      "__________________________________________________________________________________________________\n",
      "100\n",
      "Model: \"functional_63\"\n",
      "__________________________________________________________________________________________________\n",
      "Layer (type)                    Output Shape         Param #     Connected to                     \n",
      "==================================================================================================\n",
      "encoder_input_features (InputLa [(None, 100, 3)]     0                                            \n",
      "__________________________________________________________________________________________________\n",
      "encoder_input_adjacency (InputL [(None, 100, 100)]   0                                            \n",
      "__________________________________________________________________________________________________\n",
      "graph_convolution_31 (GraphConv (None, 100, 2)       14          encoder_input_features[0][0]     \n",
      "                                                                 encoder_input_adjacency[0][0]    \n",
      "__________________________________________________________________________________________________\n",
      "flatten_21 (Flatten)            (None, 200)          0           graph_convolution_31[0][0]       \n",
      "__________________________________________________________________________________________________\n",
      "dense_83 (Dense)                (None, 100)          20100       flatten_21[0][0]                 \n",
      "__________________________________________________________________________________________________\n",
      "dense_84 (Dense)                (None, 10)           1010        dense_83[0][0]                   \n",
      "__________________________________________________________________________________________________\n",
      "tf_op_layer_Shape_63 (TensorFlo [(2,)]               0           dense_84[0][0]                   \n",
      "__________________________________________________________________________________________________\n",
      "tf_op_layer_Shape_64 (TensorFlo [(2,)]               0           dense_84[0][0]                   \n",
      "__________________________________________________________________________________________________\n",
      "tf_op_layer_strided_slice_42 (T [()]                 0           tf_op_layer_Shape_63[0][0]       \n",
      "__________________________________________________________________________________________________\n",
      "tf_op_layer_strided_slice_43 (T [()]                 0           tf_op_layer_Shape_64[0][0]       \n",
      "__________________________________________________________________________________________________\n",
      "tf_op_layer_shape_65 (TensorFlo [(2,)]               0           tf_op_layer_strided_slice_42[0][0\n",
      "                                                                 tf_op_layer_strided_slice_43[0][0\n",
      "__________________________________________________________________________________________________\n",
      "dense_85 (Dense)                (None, 10)           1010        dense_83[0][0]                   \n",
      "__________________________________________________________________________________________________\n",
      "tf_op_layer_RandomStandardNorma [(None, None)]       0           tf_op_layer_shape_65[0][0]       \n",
      "__________________________________________________________________________________________________\n",
      "tf_op_layer_Mul_64 (TensorFlowO [(None, 10)]         0           dense_85[0][0]                   \n",
      "__________________________________________________________________________________________________\n",
      "tf_op_layer_Mul_63 (TensorFlowO [(None, None)]       0           tf_op_layer_RandomStandardNormal_\n",
      "__________________________________________________________________________________________________\n",
      "tf_op_layer_Exp_21 (TensorFlowO [(None, 10)]         0           tf_op_layer_Mul_64[0][0]         \n",
      "__________________________________________________________________________________________________\n",
      "tf_op_layer_Add_21 (TensorFlowO [(None, None)]       0           tf_op_layer_Mul_63[0][0]         \n",
      "__________________________________________________________________________________________________\n",
      "tf_op_layer_Mul_65 (TensorFlowO [(None, 10)]         0           tf_op_layer_Exp_21[0][0]         \n",
      "                                                                 tf_op_layer_Add_21[0][0]         \n",
      "__________________________________________________________________________________________________\n",
      "tf_op_layer_AddV2_21 (TensorFlo [(None, 10)]         0           dense_84[0][0]                   \n",
      "                                                                 tf_op_layer_Mul_65[0][0]         \n",
      "==================================================================================================\n",
      "Total params: 22,134\n",
      "Trainable params: 22,134\n",
      "Non-trainable params: 0\n",
      "__________________________________________________________________________________________________\n",
      "Model: \"functional_65\"\n",
      "__________________________________________________________________________________________________\n",
      "Layer (type)                    Output Shape         Param #     Connected to                     \n",
      "==================================================================================================\n",
      "decoder_input_latent_space (Inp [(None, 10)]         0                                            \n",
      "__________________________________________________________________________________________________\n",
      "dense_86 (Dense)                (None, 100)          1100        decoder_input_latent_space[0][0] \n",
      "__________________________________________________________________________________________________\n",
      "dense_87 (Dense)                (None, 200)          20200       dense_86[0][0]                   \n",
      "__________________________________________________________________________________________________\n",
      "reshape_10 (Reshape)            (None, 100, 2)       0           dense_87[0][0]                   \n",
      "__________________________________________________________________________________________________\n",
      "decoder_input_adjacency (InputL [(None, 100, 100)]   0                                            \n",
      "__________________________________________________________________________________________________\n",
      "graph_convolution_32 (GraphConv (None, 100, 3)       15          reshape_10[0][0]                 \n",
      "                                                                 decoder_input_adjacency[0][0]    \n",
      "==================================================================================================\n",
      "Total params: 21,315\n",
      "Trainable params: 21,315\n",
      "Non-trainable params: 0\n",
      "__________________________________________________________________________________________________\n"
     ]
    }
   ],
   "source": [
    "gcnvae = models.GCNVariationalAutoEncoder(nodes_n=nodes_n, feat_sz=feat_sz, activation=tf.nn.tanh,latent_dim=10,kl_warmup_time=10)\n",
    "gcnvae.compile(optimizer=tf.keras.optimizers.Adam(learning_rate=0.0001), run_eagerly=True)"
   ]
  },
  {
   "cell_type": "code",
   "execution_count": 130,
   "id": "rolled-banana",
   "metadata": {},
   "outputs": [],
   "source": [
    "custom_callback = models.KLWarmupCallback()"
   ]
  },
  {
   "cell_type": "code",
   "execution_count": 131,
   "id": "configured-reaction",
   "metadata": {
    "scrolled": true
   },
   "outputs": [
    {
     "name": "stdout",
     "output_type": "stream",
     "text": [
      "Epoch 1/30\n",
      "50/50 [==============================] - 4s 90ms/step - loss: 2.7250 - loss_reco: 2.7250 - loss_latent: 1.6488 - beta_kl: 0.0000e+00 - val_loss: 2.4138 - val_loss_reco: 2.4138 - val_loss_latent: 3.3549\n",
      "Epoch 2/30\n",
      "50/50 [==============================] - 4s 89ms/step - loss: 2.8030 - loss_reco: 2.5819 - loss_latent: 2.2114 - beta_kl: 0.1000 - val_loss: 2.5249 - val_loss_reco: 2.3734 - val_loss_latent: 1.5143\n",
      "Epoch 3/30\n",
      "50/50 [==============================] - 4s 87ms/step - loss: 2.7439 - loss_reco: 2.5410 - loss_latent: 1.0146 - beta_kl: 0.2000 - val_loss: 2.4986 - val_loss_reco: 2.3350 - val_loss_latent: 0.8177\n",
      "Epoch 4/30\n",
      "50/50 [==============================] - 4s 84ms/step - loss: 2.6796 - loss_reco: 2.4837 - loss_latent: 0.6529 - beta_kl: 0.3000 - val_loss: 2.4451 - val_loss_reco: 2.2641 - val_loss_latent: 0.6031\n",
      "Epoch 5/30\n",
      "50/50 [==============================] - 4s 85ms/step - loss: 2.6177 - loss_reco: 2.4186 - loss_latent: 0.4978 - beta_kl: 0.4000 - val_loss: 2.3971 - val_loss_reco: 2.2061 - val_loss_latent: 0.4775\n",
      "Epoch 6/30\n",
      "50/50 [==============================] - 4s 84ms/step - loss: 2.5558 - loss_reco: 2.3545 - loss_latent: 0.4027 - beta_kl: 0.5000 - val_loss: 2.3189 - val_loss_reco: 2.1191 - val_loss_latent: 0.3997\n",
      "Epoch 7/30\n",
      "50/50 [==============================] - 4s 84ms/step - loss: 2.4821 - loss_reco: 2.2820 - loss_latent: 0.3334 - beta_kl: 0.6000 - val_loss: 2.2572 - val_loss_reco: 2.0646 - val_loss_latent: 0.3210\n",
      "Epoch 8/30\n",
      "50/50 [==============================] - 4s 86ms/step - loss: 2.4150 - loss_reco: 2.2219 - loss_latent: 0.2758 - beta_kl: 0.7000 - val_loss: 2.2003 - val_loss_reco: 2.0117 - val_loss_latent: 0.2694\n",
      "Epoch 9/30\n",
      "50/50 [==============================] - 4s 85ms/step - loss: 2.3578 - loss_reco: 2.1728 - loss_latent: 0.2313 - beta_kl: 0.8000 - val_loss: 2.1254 - val_loss_reco: 1.9411 - val_loss_latent: 0.2303\n",
      "Epoch 10/30\n",
      "50/50 [==============================] - 4s 85ms/step - loss: 2.2999 - loss_reco: 2.1263 - loss_latent: 0.1929 - beta_kl: 0.9000 - val_loss: 2.0928 - val_loss_reco: 1.9284 - val_loss_latent: 0.1826\n",
      "Epoch 11/30\n",
      "50/50 [==============================] - 5s 96ms/step - loss: 2.2387 - loss_reco: 2.0779 - loss_latent: 0.1608 - beta_kl: 1.0000 - val_loss: 2.0441 - val_loss_reco: 1.8880 - val_loss_latent: 0.1561\n",
      "Epoch 12/30\n",
      "50/50 [==============================] - 4s 89ms/step - loss: 2.1722 - loss_reco: 2.0249 - loss_latent: 0.1473 - beta_kl: 1.0000 - val_loss: 1.9618 - val_loss_reco: 1.8165 - val_loss_latent: 0.1453\n",
      "Epoch 13/30\n",
      "50/50 [==============================] - 4s 89ms/step - loss: 2.1161 - loss_reco: 1.9788 - loss_latent: 0.1373 - beta_kl: 1.0000 - val_loss: 1.9150 - val_loss_reco: 1.7775 - val_loss_latent: 0.1374\n",
      "Epoch 14/30\n",
      "50/50 [==============================] - 4s 88ms/step - loss: 2.0707 - loss_reco: 1.9425 - loss_latent: 0.1282 - beta_kl: 1.0000 - val_loss: 1.8622 - val_loss_reco: 1.7367 - val_loss_latent: 0.1254\n",
      "Epoch 15/30\n",
      "50/50 [==============================] - 4s 85ms/step - loss: 2.0343 - loss_reco: 1.9160 - loss_latent: 0.1184 - beta_kl: 1.0000 - val_loss: 1.8351 - val_loss_reco: 1.7190 - val_loss_latent: 0.1161\n",
      "Epoch 16/30\n",
      "50/50 [==============================] - 4s 84ms/step - loss: 1.9927 - loss_reco: 1.8833 - loss_latent: 0.1094 - beta_kl: 1.0000 - val_loss: 1.8050 - val_loss_reco: 1.7001 - val_loss_latent: 0.1049\n",
      "Epoch 17/30\n",
      "50/50 [==============================] - 4s 82ms/step - loss: 1.9623 - loss_reco: 1.8632 - loss_latent: 0.0991 - beta_kl: 1.0000 - val_loss: 1.7896 - val_loss_reco: 1.6906 - val_loss_latent: 0.0990\n",
      "Epoch 18/30\n",
      "50/50 [==============================] - 4s 85ms/step - loss: 1.9305 - loss_reco: 1.8399 - loss_latent: 0.0907 - beta_kl: 1.0000 - val_loss: 1.7371 - val_loss_reco: 1.6498 - val_loss_latent: 0.0872\n",
      "Epoch 19/30\n",
      "50/50 [==============================] - 4s 86ms/step - loss: 1.9037 - loss_reco: 1.8197 - loss_latent: 0.0839 - beta_kl: 1.0000 - val_loss: 1.7180 - val_loss_reco: 1.6397 - val_loss_latent: 0.0782\n",
      "Epoch 20/30\n",
      "50/50 [==============================] - 4s 84ms/step - loss: 1.8724 - loss_reco: 1.7978 - loss_latent: 0.0745 - beta_kl: 1.0000 - val_loss: 1.6987 - val_loss_reco: 1.6266 - val_loss_latent: 0.0721\n",
      "Epoch 21/30\n",
      "50/50 [==============================] - 4s 87ms/step - loss: 1.8482 - loss_reco: 1.7810 - loss_latent: 0.0672 - beta_kl: 1.0000 - val_loss: 1.6740 - val_loss_reco: 1.6089 - val_loss_latent: 0.0651\n",
      "Epoch 22/30\n",
      "50/50 [==============================] - 4s 84ms/step - loss: 1.8259 - loss_reco: 1.7650 - loss_latent: 0.0609 - beta_kl: 1.0000 - val_loss: 1.6715 - val_loss_reco: 1.6125 - val_loss_latent: 0.0590\n",
      "Epoch 23/30\n",
      "50/50 [==============================] - 4s 83ms/step - loss: 1.8042 - loss_reco: 1.7495 - loss_latent: 0.0546 - beta_kl: 1.0000 - val_loss: 1.6094 - val_loss_reco: 1.5578 - val_loss_latent: 0.0516\n",
      "Epoch 24/30\n",
      "50/50 [==============================] - 4s 83ms/step - loss: 1.7846 - loss_reco: 1.7363 - loss_latent: 0.0483 - beta_kl: 1.0000 - val_loss: 1.6125 - val_loss_reco: 1.5672 - val_loss_latent: 0.0453\n",
      "Epoch 25/30\n",
      "50/50 [==============================] - 4s 81ms/step - loss: 1.7598 - loss_reco: 1.7169 - loss_latent: 0.0429 - beta_kl: 1.0000 - val_loss: 1.5833 - val_loss_reco: 1.5426 - val_loss_latent: 0.0407\n",
      "Epoch 26/30\n",
      "50/50 [==============================] - 4s 84ms/step - loss: 1.7388 - loss_reco: 1.7013 - loss_latent: 0.0374 - beta_kl: 1.0000 - val_loss: 1.5593 - val_loss_reco: 1.5243 - val_loss_latent: 0.0350\n",
      "Epoch 27/30\n",
      "50/50 [==============================] - 4s 87ms/step - loss: 1.7215 - loss_reco: 1.6876 - loss_latent: 0.0339 - beta_kl: 1.0000 - val_loss: 1.5641 - val_loss_reco: 1.5325 - val_loss_latent: 0.0316\n",
      "Epoch 28/30\n",
      "50/50 [==============================] - 4s 85ms/step - loss: 1.7028 - loss_reco: 1.6733 - loss_latent: 0.0295 - beta_kl: 1.0000 - val_loss: 1.5364 - val_loss_reco: 1.5096 - val_loss_latent: 0.0268\n",
      "Epoch 29/30\n",
      "50/50 [==============================] - 4s 88ms/step - loss: 1.6829 - loss_reco: 1.6581 - loss_latent: 0.0248 - beta_kl: 1.0000 - val_loss: 1.5049 - val_loss_reco: 1.4825 - val_loss_latent: 0.0224\n",
      "Epoch 30/30\n",
      "50/50 [==============================] - 4s 88ms/step - loss: 1.6652 - loss_reco: 1.6447 - loss_latent: 0.0205 - beta_kl: 1.0000 - val_loss: 1.5071 - val_loss_reco: 1.4888 - val_loss_latent: 0.0183\n"
     ]
    },
    {
     "data": {
      "text/plain": [
       "<tensorflow.python.keras.callbacks.History at 0x7f4c7409d550>"
      ]
     },
     "execution_count": 131,
     "metadata": {},
     "output_type": "execute_result"
    }
   ],
   "source": [
    "callbacks = [tf.keras.callbacks.ReduceLROnPlateau(factor=0.1, patience=5, verbose=2),\n",
    "            tf.keras.callbacks.EarlyStopping(monitor='val_loss', patience=5, verbose=2),custom_callback] \n",
    "gcnvae.fit(particles_bg, A_bg, epochs=30, batch_size=128, validation_data = ((particles_bg_valid, A_bg_valid)), callbacks=callbacks) "
   ]
  },
  {
   "cell_type": "code",
   "execution_count": 56,
   "id": "threatened-sociology",
   "metadata": {},
   "outputs": [],
   "source": [
    "#background"
   ]
  },
  {
   "cell_type": "code",
   "execution_count": 132,
   "id": "leading-vatican",
   "metadata": {},
   "outputs": [
    {
     "name": "stdout",
     "output_type": "stream",
     "text": [
      "Number of jets = 3929\n",
      "Number of constituents (nodes) = 100\n",
      "Number of features = 3\n"
     ]
    },
    {
     "name": "stderr",
     "output_type": "stream",
     "text": [
      "/eos/home-n/nchernya/MLHEP/AnomalyDetection/ADgvae/utils/preprocessing.py:38: RuntimeWarning: divide by zero encountered in power\n",
      "  D = np.nan_to_num(np.power(D,-0.5), posinf=0, neginf=0) # normalize (**-(1/2))\n"
     ]
    }
   ],
   "source": [
    "_,_, particles_bg_test, A_bg_test, A_tilde_bg_test = prepr.prepare_data(filename_bg,2000,train_set_size+1,train_set_size+2000)\n"
   ]
  },
  {
   "cell_type": "code",
   "execution_count": 133,
   "id": "periodic-wells",
   "metadata": {},
   "outputs": [
    {
     "name": "stdout",
     "output_type": "stream",
     "text": [
      "Number of jets = 363512\n",
      "Number of constituents (nodes) = 100\n",
      "Number of features = 3\n"
     ]
    }
   ],
   "source": [
    "#signal\n",
    "SIG_PATH = '/eos/project/d/dshep/TOPCLASS/DijetAnomaly/VAE_data/events/RSGraviton_WW_NARROW_13TeV_PU40_1.5TeV_NEW_parts/'\n",
    "filename_sig = SIG_PATH + 'RSGraviton_WW_NARROW_13TeV_PU40_1.5TeV_NEW_concat_001.h5'\n",
    "nodes_n, feat_sz, particles_sig, A_sig, A_tilde_sig = prepr.prepare_data(filename_sig,2000)\n"
   ]
  },
  {
   "cell_type": "code",
   "execution_count": 134,
   "id": "patent-corruption",
   "metadata": {},
   "outputs": [],
   "source": [
    "loaded_1 = tf.keras.models.load_model(\n",
    "    \"output_model_saved_001\", custom_objects={\"GCNVariationalAutoEncoder\": models.GCNVariationalAutoEncoder}\n",
    ")\n"
   ]
  },
  {
   "cell_type": "code",
   "execution_count": 138,
   "id": "pressing-coating",
   "metadata": {},
   "outputs": [],
   "source": [
    "#Predict\n",
    "\n",
    "#model = loaded_1\n",
    "model = gcnvae\n",
    "\n",
    "features_out_bg_test, z_bg_test, z_mean_bg_test, z_log_var_bg_test = loaded_1((particles_bg_test, A_bg_test))\n",
    "features_out_bg_test = features_out_bg_test.numpy().astype('float32')\n",
    "loss_bg = threeD_loss_manual(particles_bg_test.astype('float32'),features_out_bg_test)\n",
    "\n",
    "features_out_sig, z_sig, z_mean_sig, z_log_var_sig = loaded_1((particles_sig, A_sig))\n",
    "features_out_sig = features_out_sig.numpy().astype('float32')\n",
    "loss_signal = threeD_loss_manual(particles_sig.astype('float32'),features_out_sig)"
   ]
  },
  {
   "cell_type": "code",
   "execution_count": 141,
   "id": "exposed-screw",
   "metadata": {},
   "outputs": [
    {
     "data": {
      "image/png": "[encoded data removed]",
      "text/plain": [
       "<Figure size 432x288 with 1 Axes>"
      ]
     },
     "metadata": {
      "needs_background": "light"
     },
     "output_type": "display_data"
    }
   ],
   "source": [
    "max_score = np.max(np.max(loss_signal))#,np.max(loss_bg_dist))\n",
    "min_score = np.max(np.min(loss_bg))#,np.max(loss_bg_dist))\n",
    "# plot BG\n",
    "plt.figure()\n",
    "plt.hist(loss_bg, bins=100, label='BG', density=True, range=(min_score, max_score), \n",
    "         histtype='step', fill=False, linewidth=1.5,color='g')\n",
    "plt.hist(loss_signal, bins=100, label='SIG', density=True, range=(min_score, max_score), \n",
    "         histtype='step', fill=False, linewidth=1.5,color='r')\n",
    "#plt.semilogy()\n",
    "plt.xlabel(\"VAE Chamfer Loss\")\n",
    "plt.ylabel(\"Probability (a.u.)\")\n",
    "plt.grid(True)\n",
    "plt.legend(loc='upper right')\n",
    "plt.show()"
   ]
  },
  {
   "cell_type": "code",
   "execution_count": 142,
   "id": "expired-speed",
   "metadata": {},
   "outputs": [
    {
     "data": {
      "text/plain": [
       "100.06661"
      ]
     },
     "execution_count": 142,
     "metadata": {},
     "output_type": "execute_result"
    }
   ],
   "source": [
    "loss_signal.mean()"
   ]
  },
  {
   "cell_type": "code",
   "execution_count": 143,
   "id": "religious-middle",
   "metadata": {},
   "outputs": [
    {
     "data": {
      "text/plain": [
       "99.47577"
      ]
     },
     "execution_count": 143,
     "metadata": {},
     "output_type": "execute_result"
    }
   ],
   "source": [
    "loss_bg.mean()"
   ]
  },
  {
   "cell_type": "code",
   "execution_count": 121,
   "id": "comparable-canon",
   "metadata": {},
   "outputs": [],
   "source": [
    "import sys, os\n",
    "sys.path.append(os.path.abspath(os.path.join('..')))\n",
    "sys.path.append(os.path.abspath(os.path.join('../vande/')))\n",
    "sys.path.append(os.path.abspath(os.path.join('../pofah/')))"
   ]
  },
  {
   "cell_type": "code",
   "execution_count": null,
   "id": "noted-nebraska",
   "metadata": {},
   "outputs": [],
   "source": []
  },
  {
   "cell_type": "code",
   "execution_count": null,
   "id": "descending-square",
   "metadata": {},
   "outputs": [],
   "source": []
  },
  {
   "cell_type": "code",
   "execution_count": null,
   "id": "according-classic",
   "metadata": {},
   "outputs": [],
   "source": []
  },
  {
   "cell_type": "code",
   "execution_count": null,
   "id": "adverse-lawrence",
   "metadata": {},
   "outputs": [],
   "source": []
  },
  {
   "cell_type": "code",
   "execution_count": null,
   "id": "metropolitan-lawyer",
   "metadata": {},
   "outputs": [],
   "source": []
  },
  {
   "cell_type": "code",
   "execution_count": null,
   "id": "north-activity",
   "metadata": {},
   "outputs": [],
   "source": []
  },
  {
   "cell_type": "code",
   "execution_count": null,
   "id": "fresh-couple",
   "metadata": {},
   "outputs": [],
   "source": []
  },
  {
   "cell_type": "code",
   "execution_count": null,
   "id": "instant-international",
   "metadata": {},
   "outputs": [],
   "source": []
  },
  {
   "cell_type": "code",
   "execution_count": null,
   "id": "metric-basement",
   "metadata": {},
   "outputs": [],
   "source": []
  },
  {
   "cell_type": "code",
   "execution_count": null,
   "id": "southwest-quantity",
   "metadata": {},
   "outputs": [],
   "source": []
  }
 ],
 "metadata": {
  "kernelspec": {
   "display_name": "Python 3",
   "language": "python",
   "name": "python3"
  },
  "language_info": {
   "codemirror_mode": {
    "name": "ipython",
    "version": 3
   },
   "file_extension": ".py",
   "mimetype": "text/x-python",
   "name": "python",
   "nbconvert_exporter": "python",
   "pygments_lexer": "ipython3",
   "version": "3.8.6"
  }
 },
 "nbformat": 4,
 "nbformat_minor": 5
}
