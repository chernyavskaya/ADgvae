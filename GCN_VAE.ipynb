{
 "cells": [
  {
   "cell_type": "code",
   "execution_count": 141,
   "id": "funky-mother",
   "metadata": {},
   "outputs": [],
   "source": [
    "import tensorflow as tf\n",
    "import numpy as np\n",
    "import h5py\n",
    "import matplotlib.pyplot as plt\n",
    "plt.style.use('/eos/user/n/nchernya/MLHEP/AnomalyDetection/ADgvae/utils/adfigstyle.mplstyle')\n",
    "from importlib import reload"
   ]
  },
  {
   "cell_type": "code",
   "execution_count": 2,
   "id": "controlled-ensemble",
   "metadata": {},
   "outputs": [
    {
     "name": "stderr",
     "output_type": "stream",
     "text": [
      "Using TensorFlow backend.\n"
     ]
    },
    {
     "data": {
      "text/plain": [
       "<module 'utils.preprocessing' from '/eos/home-n/nchernya/MLHEP/AnomalyDetection/ADgvae/utils/preprocessing.py'>"
      ]
     },
     "execution_count": 2,
     "metadata": {},
     "output_type": "execute_result"
    }
   ],
   "source": [
    "import models.models as models\n",
    "reload(models)\n",
    "import utils.preprocessing as prepr\n",
    "reload(prepr)"
   ]
  },
  {
   "cell_type": "code",
   "execution_count": 277,
   "id": "passive-south",
   "metadata": {},
   "outputs": [
    {
     "name": "stdout",
     "output_type": "stream",
     "text": [
      "Number of jets = 12571\n",
      "Number of constituents (nodes) = 100\n",
      "Number of features = 3\n"
     ]
    },
    {
     "name": "stderr",
     "output_type": "stream",
     "text": [
      "/eos/home-n/nchernya/MLHEP/AnomalyDetection/ADgvae/utils/preprocessing.py:38: RuntimeWarning: divide by zero encountered in power\n",
      "  D = np.nan_to_num(np.power(D,-0.5), posinf=0, neginf=0) # normalize (**-(1/2))\n"
     ]
    },
    {
     "name": "stdout",
     "output_type": "stream",
     "text": [
      "Number of jets = 9840\n",
      "Number of constituents (nodes) = 100\n",
      "Number of features = 3\n",
      "Number of jets = 2518\n",
      "Number of constituents (nodes) = 100\n",
      "Number of features = 3\n",
      "Number of jets = 9854\n",
      "Number of constituents (nodes) = 100\n",
      "Number of features = 3\n"
     ]
    }
   ],
   "source": [
    "#Data Samples\n",
    "DATA_PATH = '/eos/project/d/dshep/TOPCLASS/DijetAnomaly/VAE_data/events/'\n",
    "\n",
    "TRAIN_NAME = 'qcd_sqrtshatTeV_13TeV_PU40_NEW_sideband'\n",
    "filename_bg = DATA_PATH + TRAIN_NAME + '_parts/' + TRAIN_NAME + '_000.h5'\n",
    "batch_size = 128\n",
    "train_set_size = batch_size*50\n",
    "nodes_n, feat_sz, particles_bg, A_bg, A_tilde_bg = prepr.prepare_data(filename_bg,train_set_size,0,train_set_size+1)\n",
    "#BG test\n",
    "_,_, particles_bg_test, A_bg_test, A_tilde_bg_test = prepr.prepare_data(filename_bg,5000,train_set_size+1,train_set_size+5000)\n",
    "\n",
    "# BG validation\n",
    "VALID_NAME = 'qcd_sqrtshatTeV_13TeV_PU40_NEW_EXT_sideband'\n",
    "filename_bg_valid = DATA_PATH + VALID_NAME + '_parts/' + VALID_NAME + '_000.h5'\n",
    "batch_size = 128\n",
    "valid_set_size = batch_size*10\n",
    "_,_, particles_bg_valid, A_bg_valid, A_tilde_bg_valid = prepr.prepare_data(filename_bg,valid_set_size,0,valid_set_size+1)\n"
   ]
  },
  {
   "cell_type": "code",
   "execution_count": 283,
   "id": "according-suffering",
   "metadata": {},
   "outputs": [
    {
     "name": "stdout",
     "output_type": "stream",
     "text": [
      "Number of jets = 9966\n",
      "Number of constituents (nodes) = 100\n",
      "Number of features = 3\n"
     ]
    },
    {
     "name": "stderr",
     "output_type": "stream",
     "text": [
      "/eos/home-n/nchernya/MLHEP/AnomalyDetection/ADgvae/utils/preprocessing.py:38: RuntimeWarning: divide by zero encountered in power\n",
      "  D = np.nan_to_num(np.power(D,-0.5), posinf=0, neginf=0) # normalize (**-(1/2))\n"
     ]
    }
   ],
   "source": [
    "#signal\n",
    "SIG_MASS = '3.5'\n",
    "SIG_NAME = 'RSGraviton_WW_NARROW_13TeV_PU40_'+SIG_MASS+'TeV_NEW'\n",
    "filename_sig = DATA_PATH + SIG_NAME + '_parts/' + SIG_NAME + '_concat_001.h5'\n",
    "_,_, particles_sig, A_sig, A_tilde_sig = prepr.prepare_data(filename_sig,5000,0,5000)"
   ]
  },
  {
   "cell_type": "code",
   "execution_count": 4,
   "id": "parental-harvey",
   "metadata": {},
   "outputs": [
    {
     "name": "stdout",
     "output_type": "stream",
     "text": [
      "(6400, 100, 3) (6400, 100, 100) (6400, 100, 100)\n"
     ]
    }
   ],
   "source": [
    "print(particles_bg.shape, A_tilde_bg.shape, A_bg.shape)"
   ]
  },
  {
   "cell_type": "code",
   "execution_count": null,
   "id": "lonely-efficiency",
   "metadata": {},
   "outputs": [],
   "source": []
  },
  {
   "cell_type": "code",
   "execution_count": null,
   "id": "prescription-savannah",
   "metadata": {},
   "outputs": [],
   "source": []
  },
  {
   "cell_type": "markdown",
   "id": "spatial-guess",
   "metadata": {},
   "source": [
    "# Autoencoder"
   ]
  },
  {
   "cell_type": "code",
   "execution_count": 270,
   "id": "juvenile-shelf",
   "metadata": {},
   "outputs": [
    {
     "name": "stdout",
     "output_type": "stream",
     "text": [
      "Model: \"functional_87\"\n",
      "__________________________________________________________________________________________________\n",
      "Layer (type)                    Output Shape         Param #     Connected to                     \n",
      "==================================================================================================\n",
      "encoder_input_features (InputLa [(None, 100, 3)]     0                                            \n",
      "__________________________________________________________________________________________________\n",
      "encoder_input_adjacency (InputL [(None, 100, 100)]   0                                            \n",
      "__________________________________________________________________________________________________\n",
      "graph_convolution_80 (GraphConv (None, 100, 6)       42          encoder_input_features[0][0]     \n",
      "                                                                 encoder_input_adjacency[0][0]    \n",
      "__________________________________________________________________________________________________\n",
      "graph_convolution_81 (GraphConv (None, 100, 8)       104         graph_convolution_80[0][0]       \n",
      "                                                                 encoder_input_adjacency[0][0]    \n",
      "__________________________________________________________________________________________________\n",
      "graph_convolution_82 (GraphConv (None, 100, 4)       68          graph_convolution_81[0][0]       \n",
      "                                                                 encoder_input_adjacency[0][0]    \n",
      "__________________________________________________________________________________________________\n",
      "graph_convolution_83 (GraphConv (None, 100, 2)       18          graph_convolution_82[0][0]       \n",
      "                                                                 encoder_input_adjacency[0][0]    \n",
      "__________________________________________________________________________________________________\n",
      "graph_convolution_84 (GraphConv (None, 100, 1)       5           graph_convolution_83[0][0]       \n",
      "                                                                 encoder_input_adjacency[0][0]    \n",
      "==================================================================================================\n",
      "Total params: 237\n",
      "Trainable params: 237\n",
      "Non-trainable params: 0\n",
      "__________________________________________________________________________________________________\n"
     ]
    }
   ],
   "source": [
    "gnn = models.GraphAutoencoder(nodes_n=nodes_n, feat_sz=feat_sz, activation=tf.nn.tanh)\n",
    "gnn.compile(optimizer=tf.keras.optimizers.Adam(learning_rate=0.001), run_eagerly=True)  #learning rate 0.001 worked"
   ]
  },
  {
   "cell_type": "code",
   "execution_count": 297,
   "id": "civil-plumbing",
   "metadata": {
    "scrolled": true
   },
   "outputs": [
    {
     "name": "stdout",
     "output_type": "stream",
     "text": [
      "Epoch 1/50\n",
      "38/38 [==============================] - 4s 102ms/step - val_loss: 0.4406\n",
      "Epoch 2/50\n",
      "38/38 [==============================] - 3s 90ms/step - val_loss: 0.4406\n",
      "Epoch 3/50\n",
      "38/38 [==============================] - 4s 103ms/step - val_loss: 0.4406\n",
      "Epoch 4/50\n",
      "38/38 [==============================] - 4s 107ms/step - val_loss: 0.4406\n",
      "Epoch 5/50\n",
      "38/38 [==============================] - 4s 103ms/step - val_loss: 0.4406\n",
      "Epoch 6/50\n",
      "38/38 [==============================] - ETA: 0s\n",
      "Epoch 00006: ReduceLROnPlateau reducing learning rate to 1.000000082740371e-08.\n",
      "38/38 [==============================] - 4s 97ms/step - val_loss: 0.4406\n",
      "Epoch 00006: early stopping\n"
     ]
    },
    {
     "data": {
      "text/plain": [
       "<tensorflow.python.keras.callbacks.History at 0x7f111f71db20>"
      ]
     },
     "execution_count": 297,
     "metadata": {},
     "output_type": "execute_result"
    }
   ],
   "source": [
    "callbacks = [tf.keras.callbacks.ReduceLROnPlateau(factor=0.1, patience=5, verbose=1),\n",
    "            tf.keras.callbacks.EarlyStopping(monitor='val_loss', patience=5, verbose=1)]\n",
    "gnn.fit((particles_bg, A_tilde_bg), A_bg, epochs=50, batch_size=128, validation_split=0.25, callbacks=callbacks)"
   ]
  },
  {
   "cell_type": "markdown",
   "id": "stretch-parallel",
   "metadata": {},
   "source": [
    "## Predict BG and Sig"
   ]
  },
  {
   "cell_type": "code",
   "execution_count": null,
   "id": "fewer-officer",
   "metadata": {},
   "outputs": [],
   "source": [
    "\n"
   ]
  },
  {
   "cell_type": "code",
   "execution_count": 284,
   "id": "improving-night",
   "metadata": {},
   "outputs": [],
   "source": [
    "z_sig, A_pred_sig = gnn((particles_sig, A_tilde_sig))\n",
    "z_bg_test, A_pred_bg_test = gnn((particles_bg_test, A_tilde_bg_test))\n",
    "loss_signal_gnn = tf.math.reduce_mean(tf.nn.sigmoid_cross_entropy_with_logits(A_sig, A_pred_sig), axis=(1,2)).numpy() #predicted adjecny, but not set to 0/1 yet\n",
    "loss_bg_gnn = tf.math.reduce_mean(tf.nn.sigmoid_cross_entropy_with_logits(A_bg_test, A_pred_bg_test), axis=(1,2)).numpy()"
   ]
  },
  {
   "cell_type": "code",
   "execution_count": 289,
   "id": "premier-retrieval",
   "metadata": {
    "scrolled": false
   },
   "outputs": [
    {
     "data": {
      "image/png": "[encoded data removed]",
      "text/plain": [
       "<Figure size 720x576 with 1 Axes>"
      ]
     },
     "metadata": {
      "needs_background": "light"
     },
     "output_type": "display_data"
    }
   ],
   "source": [
    "max_score = np.quantile(loss_signal_gnn,0.98)#,np.max(loss_bg_dist))\n",
    "min_score = np.quantile(loss_bg_gnn,0.05)#,np.max(loss_bg_dist))\n",
    "bins = 20\n",
    "# plot BG\n",
    "plt.figure()\n",
    "plt.hist(loss_bg_gnn, bins=bins, label='BG', density=True, range=(min_score, max_score), \n",
    "         histtype='step', fill=False, linewidth=2)\n",
    "plt.hist(loss_signal_gnn, bins=bins, label='SIG', density=True, range=(min_score, max_score), \n",
    "         histtype='step', fill=False, linewidth=2)\n",
    "#plt.semilogy()\n",
    "plt.xlabel(\"AE Loss\")\n",
    "plt.ylabel(\"Normalized Dist\")\n",
    "plt.grid(True)\n",
    "plt.legend(loc='upper right')\n",
    "plt.show()"
   ]
  },
  {
   "cell_type": "markdown",
   "id": "grand-haiti",
   "metadata": {},
   "source": [
    "# GVAE"
   ]
  },
  {
   "cell_type": "code",
   "execution_count": 259,
   "id": "patent-reaction",
   "metadata": {},
   "outputs": [],
   "source": [
    "gvae = models.GraphVariationalAutoencoder(nodes_n=nodes_n, feat_sz=feat_sz, activation=tf.nn.tanh)\n",
    "gvae.compile(optimizer=tf.keras.optimizers.Adam(learning_rate=0.001), run_eagerly=True) "
   ]
  },
  {
   "cell_type": "code",
   "execution_count": 263,
   "id": "abroad-hopkins",
   "metadata": {
    "scrolled": true
   },
   "outputs": [
    {
     "name": "stdout",
     "output_type": "stream",
     "text": [
      "Epoch 1/30\n",
      "50/50 [==============================] - 4s 74ms/step - loss: 0.4936 - loss_reco: 0.4628 - loss_latent: 0.0308 - val_loss: 0.5141 - val_loss_reco: 0.4858 - val_loss_latent: 0.0283\n",
      "Epoch 2/30\n",
      "50/50 [==============================] - 4s 73ms/step - loss: 0.4896 - loss_reco: 0.4623 - loss_latent: 0.0273 - val_loss: 0.5047 - val_loss_reco: 0.4795 - val_loss_latent: 0.0252\n",
      "Epoch 3/30\n",
      "50/50 [==============================] - 4s 77ms/step - loss: 0.4859 - loss_reco: 0.4616 - loss_latent: 0.0244 - val_loss: 0.5028 - val_loss_reco: 0.4803 - val_loss_latent: 0.0225\n",
      "Epoch 4/30\n",
      "50/50 [==============================] - 4s 74ms/step - loss: 0.4834 - loss_reco: 0.4615 - loss_latent: 0.0219 - val_loss: 0.5018 - val_loss_reco: 0.4815 - val_loss_latent: 0.0203\n",
      "Epoch 5/30\n",
      "50/50 [==============================] - 4s 71ms/step - loss: 0.4805 - loss_reco: 0.4607 - loss_latent: 0.0199 - val_loss: 0.4993 - val_loss_reco: 0.4808 - val_loss_latent: 0.0184\n",
      "Epoch 6/30\n",
      "50/50 [==============================] - 4s 73ms/step - loss: 0.4789 - loss_reco: 0.4607 - loss_latent: 0.0182 - val_loss: 0.4949 - val_loss_reco: 0.4779 - val_loss_latent: 0.0170\n",
      "Epoch 7/30\n",
      "50/50 [==============================] - 4s 75ms/step - loss: 0.4766 - loss_reco: 0.4598 - loss_latent: 0.0168 - val_loss: 0.4941 - val_loss_reco: 0.4783 - val_loss_latent: 0.0158\n",
      "Epoch 8/30\n",
      "50/50 [==============================] - 4s 75ms/step - loss: 0.4752 - loss_reco: 0.4595 - loss_latent: 0.0157 - val_loss: 0.4966 - val_loss_reco: 0.4818 - val_loss_latent: 0.0148\n",
      "Epoch 9/30\n",
      "50/50 [==============================] - 4s 80ms/step - loss: 0.4740 - loss_reco: 0.4592 - loss_latent: 0.0148 - val_loss: 0.4903 - val_loss_reco: 0.4762 - val_loss_latent: 0.0141\n",
      "Epoch 10/30\n",
      "50/50 [==============================] - 4s 75ms/step - loss: 0.4727 - loss_reco: 0.4586 - loss_latent: 0.0141 - val_loss: 0.4903 - val_loss_reco: 0.4767 - val_loss_latent: 0.0135\n",
      "Epoch 11/30\n",
      "50/50 [==============================] - 4s 71ms/step - loss: 0.4721 - loss_reco: 0.4585 - loss_latent: 0.0136 - val_loss: 0.4895 - val_loss_reco: 0.4764 - val_loss_latent: 0.0131\n",
      "Epoch 12/30\n",
      "50/50 [==============================] - 4s 73ms/step - loss: 0.4710 - loss_reco: 0.4577 - loss_latent: 0.0132 - val_loss: 0.4902 - val_loss_reco: 0.4773 - val_loss_latent: 0.0128\n",
      "Epoch 13/30\n",
      "50/50 [==============================] - 3s 68ms/step - loss: 0.4697 - loss_reco: 0.4567 - loss_latent: 0.0130 - val_loss: 0.4885 - val_loss_reco: 0.4758 - val_loss_latent: 0.0126\n",
      "Epoch 14/30\n",
      "50/50 [==============================] - 3s 61ms/step - loss: 0.4694 - loss_reco: 0.4567 - loss_latent: 0.0127 - val_loss: 0.4875 - val_loss_reco: 0.4750 - val_loss_latent: 0.0125\n",
      "Epoch 15/30\n",
      "50/50 [==============================] - 3s 65ms/step - loss: 0.4694 - loss_reco: 0.4568 - loss_latent: 0.0126 - val_loss: 0.4896 - val_loss_reco: 0.4771 - val_loss_latent: 0.0124\n",
      "Epoch 16/30\n",
      "50/50 [==============================] - 3s 62ms/step - loss: 0.4694 - loss_reco: 0.4568 - loss_latent: 0.0125 - val_loss: 0.4871 - val_loss_reco: 0.4747 - val_loss_latent: 0.0124\n",
      "Epoch 17/30\n",
      "50/50 [==============================] - 3s 62ms/step - loss: 0.4683 - loss_reco: 0.4558 - loss_latent: 0.0125 - val_loss: 0.4848 - val_loss_reco: 0.4724 - val_loss_latent: 0.0124\n",
      "Epoch 18/30\n",
      "50/50 [==============================] - 3s 65ms/step - loss: 0.4683 - loss_reco: 0.4558 - loss_latent: 0.0125 - val_loss: 0.4871 - val_loss_reco: 0.4747 - val_loss_latent: 0.0124\n",
      "Epoch 19/30\n",
      "50/50 [==============================] - 3s 70ms/step - loss: 0.4681 - loss_reco: 0.4557 - loss_latent: 0.0125 - val_loss: 0.4871 - val_loss_reco: 0.4747 - val_loss_latent: 0.0125\n",
      "Epoch 20/30\n",
      "50/50 [==============================] - 4s 76ms/step - loss: 0.4679 - loss_reco: 0.4554 - loss_latent: 0.0125 - val_loss: 0.4886 - val_loss_reco: 0.4761 - val_loss_latent: 0.0125\n",
      "Epoch 21/30\n",
      "50/50 [==============================] - 4s 77ms/step - loss: 0.4680 - loss_reco: 0.4554 - loss_latent: 0.0125 - val_loss: 0.4858 - val_loss_reco: 0.4733 - val_loss_latent: 0.0125\n",
      "Epoch 22/30\n",
      "50/50 [==============================] - ETA: 0s - loss: 0.4672 - loss_reco: 0.4547 - loss_latent: 0.0125\n",
      "Epoch 00022: ReduceLROnPlateau reducing learning rate to 0.00010000000474974513.\n",
      "50/50 [==============================] - 4s 74ms/step - loss: 0.4673 - loss_reco: 0.4547 - loss_latent: 0.0125 - val_loss: 0.4859 - val_loss_reco: 0.4734 - val_loss_latent: 0.0125\n",
      "Epoch 00022: early stopping\n"
     ]
    },
    {
     "data": {
      "text/plain": [
       "<tensorflow.python.keras.callbacks.History at 0x7f11006930d0>"
      ]
     },
     "execution_count": 263,
     "metadata": {},
     "output_type": "execute_result"
    }
   ],
   "source": [
    "callbacks = [tf.keras.callbacks.ReduceLROnPlateau(factor=0.1, patience=5, verbose=2),\n",
    "            tf.keras.callbacks.EarlyStopping(monitor='val_loss', patience=5, verbose=2)] \n",
    "gvae.fit((particles_bg, A_tilde_bg), A_bg, epochs=30, batch_size=128, validation_data = ((particles_bg_valid, A_tilde_bg_valid),A_bg_valid), callbacks=callbacks) "
   ]
  },
  {
   "cell_type": "code",
   "execution_count": 290,
   "id": "figured-concentrate",
   "metadata": {},
   "outputs": [],
   "source": [
    "z_sig, z_mean_sig, z_log_var_sig, A_pred_sig = gvae((particles_sig, A_tilde_sig))\n",
    "z_bg_test,z_mean_bg_test, z_log_var_bg_test, A_pred_bg_test = gvae((particles_bg_test, A_tilde_bg_test))\n",
    "loss_signal_gvae = tf.math.reduce_mean(tf.nn.sigmoid_cross_entropy_with_logits(A_sig, A_pred_sig), axis=(1,2)).numpy() #predicted adjecny, but not set to 0/1 yet\n",
    "loss_bg_gvae = tf.math.reduce_mean(tf.nn.sigmoid_cross_entropy_with_logits(A_bg_test, A_pred_bg_test), axis=(1,2)).numpy()\n"
   ]
  },
  {
   "cell_type": "code",
   "execution_count": 292,
   "id": "animal-trailer",
   "metadata": {},
   "outputs": [
    {
     "data": {
      "image/png": "[encoded data removed]",
      "text/plain": [
       "<Figure size 720x576 with 1 Axes>"
      ]
     },
     "metadata": {
      "needs_background": "light"
     },
     "output_type": "display_data"
    }
   ],
   "source": [
    "plt.style.use('/eos/user/n/nchernya/MLHEP/AnomalyDetection/ADgvae/utils/adfigstyle.mplstyle')\n",
    "\n",
    "max_score = np.quantile(loss_signal_gvae,0.95)#,np.max(loss_bg_dist))\n",
    "min_score = np.min(loss_bg_gvae)#,np.max(loss_bg_dist))\n",
    "bins = 30\n",
    "# plot BG\n",
    "plt.figure()\n",
    "plt.hist(loss_bg_gvae, bins=bins, label='BG', density=True, range=(min_score, max_score), \n",
    "         histtype='step', fill=False, linewidth=1.5)\n",
    "plt.hist(loss_signal_gvae, bins=bins, label='SIG', density=True, range=(min_score, max_score), \n",
    "         histtype='step', fill=False, linewidth=1.5)\n",
    "#plt.semilogy()\n",
    "plt.xlabel(\"GVAE Chamfer Loss\")\n",
    "plt.ylabel(\"Normalized Dist.\")\n",
    "plt.legend(loc='upper right')\n",
    "plt.show()"
   ]
  },
  {
   "cell_type": "code",
   "execution_count": null,
   "id": "protective-collect",
   "metadata": {},
   "outputs": [],
   "source": []
  },
  {
   "cell_type": "markdown",
   "id": "amino-bedroom",
   "metadata": {},
   "source": [
    "# GCN VAE"
   ]
  },
  {
   "cell_type": "code",
   "execution_count": 5,
   "id": "suburban-quilt",
   "metadata": {},
   "outputs": [],
   "source": [
    "def threeD_loss_manual(inputs, outputs):\n",
    "    distances = np.sum(np.subtract(inputs[:,:,np.newaxis,:],outputs[:,np.newaxis,:,:])**2, axis=-1)\n",
    "    min_dist_to_inputs = np.min(distances,axis=1)\n",
    "    min_dist_to_outputs = np.min(distances,axis=2)\n",
    "    return np.sum(min_dist_to_inputs,axis=1) + np.sum(min_dist_to_outputs,axis=1)\n",
    "\n"
   ]
  },
  {
   "cell_type": "code",
   "execution_count": 239,
   "id": "neural-qatar",
   "metadata": {},
   "outputs": [
    {
     "data": {
      "text/plain": [
       "<module 'utils.preprocessing' from '/eos/home-n/nchernya/MLHEP/AnomalyDetection/ADgvae/utils/preprocessing.py'>"
      ]
     },
     "execution_count": 239,
     "metadata": {},
     "output_type": "execute_result"
    }
   ],
   "source": [
    "import models.losses as losses\n",
    "reload(losses)\n",
    "import models.models as models\n",
    "reload(models)\n",
    "import utils.preprocessing as prepr\n",
    "reload(prepr)\n"
   ]
  },
  {
   "cell_type": "code",
   "execution_count": 240,
   "id": "serial-province",
   "metadata": {
    "scrolled": true
   },
   "outputs": [
    {
     "name": "stdout",
     "output_type": "stream",
     "text": [
      "100\n",
      "Model: \"functional_77\"\n",
      "__________________________________________________________________________________________________\n",
      "Layer (type)                    Output Shape         Param #     Connected to                     \n",
      "==================================================================================================\n",
      "encoder_input_features (InputLa [(None, 100, 3)]     0                                            \n",
      "__________________________________________________________________________________________________\n",
      "encoder_input_adjacency (InputL [(None, 100, 100)]   0                                            \n",
      "__________________________________________________________________________________________________\n",
      "graph_convolution_68 (GraphConv (None, 100, 6)       42          encoder_input_features[0][0]     \n",
      "                                                                 encoder_input_adjacency[0][0]    \n",
      "__________________________________________________________________________________________________\n",
      "graph_convolution_69 (GraphConv (None, 100, 2)       26          graph_convolution_68[0][0]       \n",
      "                                                                 encoder_input_adjacency[0][0]    \n",
      "__________________________________________________________________________________________________\n",
      "flatten_24 (Flatten)            (None, 200)          0           graph_convolution_69[0][0]       \n",
      "__________________________________________________________________________________________________\n",
      "dense_96 (Dense)                (None, 100)          20100       flatten_24[0][0]                 \n",
      "__________________________________________________________________________________________________\n",
      "dense_97 (Dense)                (None, 50)           5050        dense_96[0][0]                   \n",
      "__________________________________________________________________________________________________\n",
      "tf_op_layer_Shape_73 (TensorFlo [(2,)]               0           dense_97[0][0]                   \n",
      "__________________________________________________________________________________________________\n",
      "tf_op_layer_Shape_74 (TensorFlo [(2,)]               0           dense_97[0][0]                   \n",
      "__________________________________________________________________________________________________\n",
      "tf_op_layer_strided_slice_49 (T [()]                 0           tf_op_layer_Shape_73[0][0]       \n",
      "__________________________________________________________________________________________________\n",
      "tf_op_layer_strided_slice_50 (T [()]                 0           tf_op_layer_Shape_74[0][0]       \n",
      "__________________________________________________________________________________________________\n",
      "tf_op_layer_shape_75 (TensorFlo [(2,)]               0           tf_op_layer_strided_slice_49[0][0\n",
      "                                                                 tf_op_layer_strided_slice_50[0][0\n",
      "__________________________________________________________________________________________________\n",
      "dense_98 (Dense)                (None, 50)           5050        dense_96[0][0]                   \n",
      "__________________________________________________________________________________________________\n",
      "tf_op_layer_RandomStandardNorma [(None, None)]       0           tf_op_layer_shape_75[0][0]       \n",
      "__________________________________________________________________________________________________\n",
      "tf_op_layer_Mul_76 (TensorFlowO [(None, 50)]         0           dense_98[0][0]                   \n",
      "__________________________________________________________________________________________________\n",
      "tf_op_layer_Mul_75 (TensorFlowO [(None, None)]       0           tf_op_layer_RandomStandardNormal_\n",
      "__________________________________________________________________________________________________\n",
      "tf_op_layer_Exp_25 (TensorFlowO [(None, 50)]         0           tf_op_layer_Mul_76[0][0]         \n",
      "__________________________________________________________________________________________________\n",
      "tf_op_layer_Add_25 (TensorFlowO [(None, None)]       0           tf_op_layer_Mul_75[0][0]         \n",
      "__________________________________________________________________________________________________\n",
      "tf_op_layer_Mul_77 (TensorFlowO [(None, 50)]         0           tf_op_layer_Exp_25[0][0]         \n",
      "                                                                 tf_op_layer_Add_25[0][0]         \n",
      "__________________________________________________________________________________________________\n",
      "tf_op_layer_AddV2_25 (TensorFlo [(None, 50)]         0           dense_97[0][0]                   \n",
      "                                                                 tf_op_layer_Mul_77[0][0]         \n",
      "==================================================================================================\n",
      "Total params: 30,268\n",
      "Trainable params: 30,268\n",
      "Non-trainable params: 0\n",
      "__________________________________________________________________________________________________\n",
      "100\n",
      "Model: \"functional_79\"\n",
      "__________________________________________________________________________________________________\n",
      "Layer (type)                    Output Shape         Param #     Connected to                     \n",
      "==================================================================================================\n",
      "encoder_input_features (InputLa [(None, 100, 3)]     0                                            \n",
      "__________________________________________________________________________________________________\n",
      "encoder_input_adjacency (InputL [(None, 100, 100)]   0                                            \n",
      "__________________________________________________________________________________________________\n",
      "graph_convolution_70 (GraphConv (None, 100, 6)       42          encoder_input_features[0][0]     \n",
      "                                                                 encoder_input_adjacency[0][0]    \n",
      "__________________________________________________________________________________________________\n",
      "graph_convolution_71 (GraphConv (None, 100, 2)       26          graph_convolution_70[0][0]       \n",
      "                                                                 encoder_input_adjacency[0][0]    \n",
      "__________________________________________________________________________________________________\n",
      "flatten_25 (Flatten)            (None, 200)          0           graph_convolution_71[0][0]       \n",
      "__________________________________________________________________________________________________\n",
      "dense_99 (Dense)                (None, 100)          20100       flatten_25[0][0]                 \n",
      "__________________________________________________________________________________________________\n",
      "dense_100 (Dense)               (None, 50)           5050        dense_99[0][0]                   \n",
      "__________________________________________________________________________________________________\n",
      "tf_op_layer_Shape_76 (TensorFlo [(2,)]               0           dense_100[0][0]                  \n",
      "__________________________________________________________________________________________________\n",
      "tf_op_layer_Shape_77 (TensorFlo [(2,)]               0           dense_100[0][0]                  \n",
      "__________________________________________________________________________________________________\n",
      "tf_op_layer_strided_slice_51 (T [()]                 0           tf_op_layer_Shape_76[0][0]       \n",
      "__________________________________________________________________________________________________\n",
      "tf_op_layer_strided_slice_52 (T [()]                 0           tf_op_layer_Shape_77[0][0]       \n",
      "__________________________________________________________________________________________________\n",
      "tf_op_layer_shape_78 (TensorFlo [(2,)]               0           tf_op_layer_strided_slice_51[0][0\n",
      "                                                                 tf_op_layer_strided_slice_52[0][0\n",
      "__________________________________________________________________________________________________\n",
      "dense_101 (Dense)               (None, 50)           5050        dense_99[0][0]                   \n",
      "__________________________________________________________________________________________________\n",
      "tf_op_layer_RandomStandardNorma [(None, None)]       0           tf_op_layer_shape_78[0][0]       \n",
      "__________________________________________________________________________________________________\n",
      "tf_op_layer_Mul_79 (TensorFlowO [(None, 50)]         0           dense_101[0][0]                  \n",
      "__________________________________________________________________________________________________\n",
      "tf_op_layer_Mul_78 (TensorFlowO [(None, None)]       0           tf_op_layer_RandomStandardNormal_\n",
      "__________________________________________________________________________________________________\n",
      "tf_op_layer_Exp_26 (TensorFlowO [(None, 50)]         0           tf_op_layer_Mul_79[0][0]         \n",
      "__________________________________________________________________________________________________\n",
      "tf_op_layer_Add_26 (TensorFlowO [(None, None)]       0           tf_op_layer_Mul_78[0][0]         \n",
      "__________________________________________________________________________________________________\n",
      "tf_op_layer_Mul_80 (TensorFlowO [(None, 50)]         0           tf_op_layer_Exp_26[0][0]         \n",
      "                                                                 tf_op_layer_Add_26[0][0]         \n",
      "__________________________________________________________________________________________________\n",
      "tf_op_layer_AddV2_26 (TensorFlo [(None, 50)]         0           dense_100[0][0]                  \n",
      "                                                                 tf_op_layer_Mul_80[0][0]         \n",
      "==================================================================================================\n",
      "Total params: 30,268\n",
      "Trainable params: 30,268\n",
      "Non-trainable params: 0\n",
      "__________________________________________________________________________________________________\n",
      "Model: \"functional_81\"\n",
      "__________________________________________________________________________________________________\n",
      "Layer (type)                    Output Shape         Param #     Connected to                     \n",
      "==================================================================================================\n",
      "decoder_input_latent_space (Inp [(None, 50)]         0                                            \n",
      "__________________________________________________________________________________________________\n",
      "dense_102 (Dense)               (None, 100)          5100        decoder_input_latent_space[0][0] \n",
      "__________________________________________________________________________________________________\n",
      "dense_103 (Dense)               (None, 200)          20200       dense_102[0][0]                  \n",
      "__________________________________________________________________________________________________\n",
      "reshape_12 (Reshape)            (None, 100, 2)       0           dense_103[0][0]                  \n",
      "__________________________________________________________________________________________________\n",
      "decoder_input_adjacency (InputL [(None, 100, 100)]   0                                            \n",
      "__________________________________________________________________________________________________\n",
      "graph_convolution_72 (GraphConv (None, 100, 6)       30          reshape_12[0][0]                 \n",
      "                                                                 decoder_input_adjacency[0][0]    \n",
      "__________________________________________________________________________________________________\n",
      "graph_convolution_73 (GraphConv (None, 100, 3)       39          graph_convolution_72[0][0]       \n",
      "                                                                 decoder_input_adjacency[0][0]    \n",
      "==================================================================================================\n",
      "Total params: 25,369\n",
      "Trainable params: 25,369\n",
      "Non-trainable params: 0\n",
      "__________________________________________________________________________________________________\n"
     ]
    }
   ],
   "source": [
    "gcnvae = models.GCNVariationalAutoEncoder(nodes_n=nodes_n, feat_sz=feat_sz, activation=tf.nn.tanh,latent_dim=50,kl_warmup_time=10)\n",
    "gcnvae.compile(optimizer=tf.keras.optimizers.Adam(learning_rate=0.01), run_eagerly=True)"
   ]
  },
  {
   "cell_type": "code",
   "execution_count": 241,
   "id": "tribal-election",
   "metadata": {},
   "outputs": [
    {
     "data": {
      "image/png": "[encoded data removed]",
      "text/plain": [
       "<IPython.core.display.Image object>"
      ]
     },
     "execution_count": 241,
     "metadata": {},
     "output_type": "execute_result"
    }
   ],
   "source": [
    "tf.keras.utils.plot_model(gcnvae, show_shapes=True)"
   ]
  },
  {
   "cell_type": "code",
   "execution_count": null,
   "id": "announced-calgary",
   "metadata": {},
   "outputs": [],
   "source": []
  },
  {
   "cell_type": "code",
   "execution_count": 242,
   "id": "silent-federation",
   "metadata": {
    "scrolled": true
   },
   "outputs": [
    {
     "name": "stdout",
     "output_type": "stream",
     "text": [
      "Epoch 1/30\n",
      "50/50 [==============================] - 5s 101ms/step - loss: 1.2190 - loss_reco: 1.2190 - loss_latent: 2.1406 - beta_kl_warmup: 0.0000e+00 - val_loss: 0.9559 - val_loss_reco: 0.9559 - val_loss_latent: 7.1620s - loss: 1.4245 - loss_reco: 1.4245 - loss_latent: 1.1065 - beta_kl_warmup: 0. - ETA: 1s - loss: 1.3701 - loss_reco: 1.3701 - loss_latent: 1.1002 -  - ETA: 0s - loss: 1.2589 - loss_reco: 1.2589 - loss_latent: 1.6247 - beta_kl_warmup\n",
      "Epoch 2/30\n",
      "50/50 [==============================] - 5s 100ms/step - loss: 1.3102 - loss_reco: 1.0075 - loss_latent: 0.3027 - beta_kl_warmup: 0.1000 - val_loss: 0.9467 - val_loss_reco: 0.9453 - val_loss_latent: 0.0014_warmup - ETA: 2s - loss: 1.7303 - loss_rec\n",
      "Epoch 3/30\n",
      "50/50 [==============================] - 5s 100ms/step - loss: 0.9490 - loss_reco: 0.9484 - loss_latent: 3.1488e-04 - beta_kl_warmup: 0.2000 - val_loss: 0.9209 - val_loss_reco: 0.9208 - val_loss_latent: 1.9719e-0560 - loss_reco: 0.9451 - loss_latent: 4.3674e-04 - beta_kl_warm - ETA: 0s - loss: 0.9383 - loss_reco: 0.9375 - loss_latent: 3.8974e-04 - beta_kl_warm - ETA: 0s - loss: 0.9367 - loss_reco: 0.9360 - loss_latent: 3.5067e-04 - beta_kl_wa\n",
      "Epoch 4/30\n",
      "50/50 [==============================] - 5s 100ms/step - loss: 0.9322 - loss_reco: 0.9322 - loss_latent: 7.1014e-06 - beta_kl_warmup: 0.3000 - val_loss: 0.9100 - val_loss_reco: 0.9100 - val_loss_latent: 1.0657e-06\n",
      "Epoch 5/30\n",
      "50/50 [==============================] - 5s 99ms/step - loss: 0.9197 - loss_reco: 0.9197 - loss_latent: 2.0290e-06 - beta_kl_warmup: 0.4000 - val_loss: 0.9024 - val_loss_reco: 0.9024 - val_loss_latent: 5.9307e-07\n",
      "Epoch 6/30\n",
      "50/50 [==============================] - 5s 101ms/step - loss: 0.9164 - loss_reco: 0.9164 - loss_latent: 1.2714e-06 - beta_kl_warmup: 0.5000 - val_loss: 0.8988 - val_loss_reco: 0.8988 - val_loss_latent: 2.9087e-07\n",
      "Epoch 7/30\n",
      "50/50 [==============================] - 5s 100ms/step - loss: 0.9103 - loss_reco: 0.9103 - loss_latent: 7.9578e-07 - beta_kl_warmup: 0.6000 - val_loss: 0.8935 - val_loss_reco: 0.8935 - val_loss_latent: 2.5213e-07\n",
      "Epoch 8/30\n",
      "50/50 [==============================] - 5s 102ms/step - loss: 0.9074 - loss_reco: 0.9074 - loss_latent: 5.9098e-07 - beta_kl_warmup: 0.7000 - val_loss: 0.8911 - val_loss_reco: 0.8911 - val_loss_latent: 2.0206e-07\n",
      "Epoch 9/30\n",
      "50/50 [==============================] - 5s 100ms/step - loss: 0.9037 - loss_reco: 0.9037 - loss_latent: 4.2268e-07 - beta_kl_warmup: 0.8000 - val_loss: 0.8877 - val_loss_reco: 0.8877 - val_loss_latent: 2.4378e-070.9066 - loss_reco: 0.9066 - loss_latent: 4.1706e-07 - beta - ETA: 0s - loss: 0.9010 - loss_reco: 0.9010 - loss_latent: 3.7608e-07 - beta_kl_\n",
      "Epoch 10/30\n",
      "50/50 [==============================] - 5s 101ms/step - loss: 0.9036 - loss_reco: 0.9036 - loss_latent: 2.9714e-07 - beta_kl_warmup: 0.9000 - val_loss: 0.8875 - val_loss_reco: 0.8875 - val_loss_latent: 1.0788e-07\n",
      "Epoch 11/30\n",
      "50/50 [==============================] - 5s 98ms/step - loss: 0.9000 - loss_reco: 0.9000 - loss_latent: 2.0397e-07 - beta_kl_warmup: 1.0000 - val_loss: 0.8864 - val_loss_reco: 0.8864 - val_loss_latent: 8.6427e-08\n",
      "Epoch 12/30\n",
      "50/50 [==============================] - 5s 98ms/step - loss: 0.9006 - loss_reco: 0.9006 - loss_latent: 1.7124e-07 - beta_kl_warmup: 1.0000 - val_loss: 0.8845 - val_loss_reco: 0.8845 - val_loss_latent: 1.0788e-07\n",
      "Epoch 13/30\n",
      "50/50 [==============================] - 5s 99ms/step - loss: 0.8979 - loss_reco: 0.8979 - loss_latent: 1.5855e-07 - beta_kl_warmup: 1.0000 - val_loss: 0.8834 - val_loss_reco: 0.8834 - val_loss_latent: 1.6451e-07\n",
      "Epoch 14/30\n",
      "50/50 [==============================] - 5s 100ms/step - loss: 0.8979 - loss_reco: 0.8979 - loss_latent: 1.2438e-07 - beta_kl_warmup: 1.0000 - val_loss: 0.8832 - val_loss_reco: 0.8832 - val_loss_latent: 1.1086e-07: 0.8997 - loss_reco: 0.8997 - loss_latent: 1.2954e-07 - beta_kl_\n",
      "Epoch 15/30\n",
      "50/50 [==============================] - 5s 100ms/step - loss: 0.8956 - loss_reco: 0.8956 - loss_latent: 1.2469e-07 - beta_kl_warmup: 1.0000 - val_loss: 0.8827 - val_loss_reco: 0.8827 - val_loss_latent: 7.0333e-08\n",
      "Epoch 16/30\n",
      "50/50 [==============================] - 5s 97ms/step - loss: 0.8963 - loss_reco: 0.8963 - loss_latent: 1.1179e-07 - beta_kl_warmup: 1.0000 - val_loss: 0.8821 - val_loss_reco: 0.8821 - val_loss_latent: 8.7023e-08\n",
      "Epoch 17/30\n",
      "50/50 [==============================] - 5s 97ms/step - loss: 0.8974 - loss_reco: 0.8974 - loss_latent: 9.8585e-08 - beta_kl_warmup: 1.0000 - val_loss: 0.8826 - val_loss_reco: 0.8826 - val_loss_latent: 7.6294e-08\n",
      "Epoch 18/30\n",
      "50/50 [==============================] - 5s 102ms/step - loss: 0.8933 - loss_reco: 0.8933 - loss_latent: 1.0852e-07 - beta_kl_warmup: 1.0000 - val_loss: 0.8819 - val_loss_reco: 0.8819 - val_loss_latent: 9.8348e-08\n",
      "Epoch 19/30\n",
      "50/50 [==============================] - 5s 100ms/step - loss: 0.8951 - loss_reco: 0.8950 - loss_latent: 1.3500e-07 - beta_kl_warmup: 1.0000 - val_loss: 0.8818 - val_loss_reco: 0.8818 - val_loss_latent: 1.3232e-07\n",
      "Epoch 20/30\n",
      "50/50 [==============================] - 5s 97ms/step - loss: 0.8941 - loss_reco: 0.8941 - loss_latent: 9.2309e-08 - beta_kl_warmup: 1.0000 - val_loss: 0.8813 - val_loss_reco: 0.8812 - val_loss_latent: 7.2122e-08028 - loss_latent: 9.1960e-08 - beta_kl_warmup\n",
      "Epoch 21/30\n",
      "50/50 [==============================] - 5s 99ms/step - loss: 0.8953 - loss_reco: 0.8953 - loss_latent: 8.3271e-08 - beta_kl_warmup: 1.0000 - val_loss: 0.8808 - val_loss_reco: 0.8808 - val_loss_latent: 4.7088e-08\n",
      "Epoch 22/30\n",
      "50/50 [==============================] - 5s 102ms/step - loss: 0.8982 - loss_reco: 0.8982 - loss_latent: 8.9124e-08 - beta_kl_warmup: 1.0000 - val_loss: 0.8809 - val_loss_reco: 0.8809 - val_loss_latent: 7.5102e-08\n",
      "Epoch 23/30\n",
      "50/50 [==============================] - 5s 97ms/step - loss: 0.8956 - loss_reco: 0.8956 - loss_latent: 1.0980e-07 - beta_kl_warmup: 1.0000 - val_loss: 0.8804 - val_loss_reco: 0.8804 - val_loss_latent: 1.7941e-07\n",
      "Epoch 24/30\n",
      "50/50 [==============================] - 5s 102ms/step - loss: 0.8961 - loss_reco: 0.8961 - loss_latent: 9.7387e-08 - beta_kl_warmup: 1.0000 - val_loss: 0.8796 - val_loss_reco: 0.8796 - val_loss_latent: 7.1526e-08\n",
      "Epoch 25/30\n",
      "50/50 [==============================] - 5s 98ms/step - loss: 0.8920 - loss_reco: 0.8920 - loss_latent: 9.1964e-08 - beta_kl_warmup: 1.0000 - val_loss: 0.8803 - val_loss_reco: 0.8803 - val_loss_latent: 9.5367e-08\n",
      "Epoch 26/30\n",
      "50/50 [==============================] - 5s 100ms/step - loss: 0.8986 - loss_reco: 0.8986 - loss_latent: 8.4086e-08 - beta_kl_warmup: 1.0000 - val_loss: 0.8797 - val_loss_reco: 0.8797 - val_loss_latent: 6.1989e-08\n",
      "Epoch 27/30\n",
      "50/50 [==============================] - 5s 98ms/step - loss: 0.8942 - loss_reco: 0.8942 - loss_latent: 7.0948e-08 - beta_kl_warmup: 1.0000 - val_loss: 0.8782 - val_loss_reco: 0.8782 - val_loss_latent: 5.0664e-08\n",
      "Epoch 28/30\n",
      "50/50 [==============================] - 5s 98ms/step - loss: 0.8934 - loss_reco: 0.8934 - loss_latent: 7.1885e-08 - beta_kl_warmup: 1.0000 - val_loss: 0.8787 - val_loss_reco: 0.8787 - val_loss_latent: 6.0201e-08l_warmup: \n",
      "Epoch 29/30\n",
      "50/50 [==============================] - 5s 99ms/step - loss: 0.8998 - loss_reco: 0.8998 - loss_latent: 8.6294e-08 - beta_kl_warmup: 1.0000 - val_loss: 0.8786 - val_loss_reco: 0.8786 - val_loss_latent: 7.0930e-08\n",
      "Epoch 30/30\n",
      "50/50 [==============================] - 5s 99ms/step - loss: 0.8937 - loss_reco: 0.8937 - loss_latent: 1.0299e-07 - beta_kl_warmup: 1.0000 - val_loss: 0.8782 - val_loss_reco: 0.8782 - val_loss_latent: 1.3471e-07\n"
     ]
    },
    {
     "data": {
      "text/plain": [
       "<tensorflow.python.keras.callbacks.History at 0x7f10f80f5940>"
      ]
     },
     "execution_count": 242,
     "metadata": {},
     "output_type": "execute_result"
    }
   ],
   "source": [
    "custom_callback = models.KLWarmupCallback()\n",
    "callbacks = [tf.keras.callbacks.ReduceLROnPlateau(factor=0.1, patience=5, verbose=2),\n",
    "            tf.keras.callbacks.EarlyStopping(monitor='val_loss', patience=5, verbose=2),custom_callback] \n",
    "gcnvae.fit(particles_bg, A_tilde_bg, epochs=30, batch_size=128, validation_data = ((particles_bg_valid, A_tilde_bg_valid)), callbacks=callbacks) "
   ]
  },
  {
   "cell_type": "code",
   "execution_count": null,
   "id": "written-superintendent",
   "metadata": {},
   "outputs": [],
   "source": []
  },
  {
   "cell_type": "code",
   "execution_count": null,
   "id": "understanding-happiness",
   "metadata": {},
   "outputs": [],
   "source": []
  },
  {
   "cell_type": "code",
   "execution_count": null,
   "id": "sweet-hands",
   "metadata": {},
   "outputs": [],
   "source": [
    "\n"
   ]
  },
  {
   "cell_type": "code",
   "execution_count": 157,
   "id": "dense-sharing",
   "metadata": {},
   "outputs": [],
   "source": [
    "loaded_1 = tf.keras.models.load_model(\n",
    "    \"output_model_saved_003\", custom_objects={\"GCNVariationalAutoEncoder\": models.GCNVariationalAutoEncoder}\n",
    ")\n"
   ]
  },
  {
   "cell_type": "code",
   "execution_count": 293,
   "id": "buried-click",
   "metadata": {},
   "outputs": [],
   "source": [
    "#Predict\n",
    "\n",
    "#model = loaded_1\n",
    "model = gcnvae\n",
    "\n",
    "features_out_bg_test, z_bg_test, z_mean_bg_test, z_log_var_bg_test = model((particles_bg_test, A_tilde_bg_test))\n",
    "features_out_bg_test = features_out_bg_test.numpy().astype('float32')\n",
    "loss_bg = threeD_loss_manual(particles_bg_test.astype('float32'),features_out_bg_test)\n",
    "\n",
    "features_out_sig, z_sig, z_mean_sig, z_log_var_sig = model((particles_sig, A_tilde_sig))\n",
    "features_out_sig = features_out_sig.numpy().astype('float32')\n",
    "loss_signal = threeD_loss_manual(particles_sig.astype('float32'),features_out_sig)"
   ]
  },
  {
   "cell_type": "code",
   "execution_count": 294,
   "id": "least-penny",
   "metadata": {},
   "outputs": [
    {
     "data": {
      "image/png": "[encoded data removed]",
      "text/plain": [
       "<Figure size 720x576 with 1 Axes>"
      ]
     },
     "metadata": {
      "needs_background": "light"
     },
     "output_type": "display_data"
    }
   ],
   "source": [
    "plt.style.use('/eos/user/n/nchernya/MLHEP/AnomalyDetection/ADgvae/utils/adfigstyle.mplstyle')\n",
    "\n",
    "max_score = np.quantile(loss_signal,0.9)#,np.max(loss_bg_dist))\n",
    "min_score = np.min(loss_bg)#,np.max(loss_bg_dist))\n",
    "bins = 40\n",
    "# plot BG\n",
    "plt.figure()\n",
    "plt.hist(loss_bg, bins=bins, label='BG', density=True, range=(min_score, max_score), \n",
    "         histtype='step', fill=False, linewidth=1.5)\n",
    "plt.hist(loss_signal, bins=bins, label='SIG', density=True, range=(min_score, max_score), \n",
    "         histtype='step', fill=False, linewidth=1.5)\n",
    "#plt.semilogy()\n",
    "plt.xlabel(\"VAE Chamfer Loss\")\n",
    "plt.ylabel(\"Normalized Dist.\")\n",
    "plt.legend(loc='upper right')\n",
    "plt.show()"
   ]
  },
  {
   "cell_type": "code",
   "execution_count": 246,
   "id": "knowing-cheat",
   "metadata": {},
   "outputs": [
    {
     "name": "stdout",
     "output_type": "stream",
     "text": [
      "114.27671051025393 120.3024154663086\n"
     ]
    }
   ],
   "source": [
    "print(np.quantile(loss_bg,0.8),np.quantile(loss_signal,0.8))"
   ]
  },
  {
   "cell_type": "code",
   "execution_count": null,
   "id": "sunset-proportion",
   "metadata": {},
   "outputs": [],
   "source": []
  },
  {
   "cell_type": "code",
   "execution_count": 184,
   "id": "understanding-drawing",
   "metadata": {},
   "outputs": [],
   "source": [
    "import sys, os\n",
    "sys.path.append(os.path.abspath(os.path.join('..')))\n",
    "sys.path.append(os.path.abspath(os.path.join('../vande/')))\n",
    "sys.path.append(os.path.abspath(os.path.join('../pofah/')))\n",
    "sys.path.append(os.path.abspath(os.path.join('../sarewt/')))"
   ]
  },
  {
   "cell_type": "code",
   "execution_count": 228,
   "id": "digital-benefit",
   "metadata": {},
   "outputs": [
    {
     "data": {
      "text/plain": [
       "<module 'vande.analysis.analysis_roc' from '/eos/home-n/nchernya/MLHEP/AnomalyDetection/vande/analysis/analysis_roc.py'>"
      ]
     },
     "execution_count": 228,
     "metadata": {},
     "output_type": "execute_result"
    }
   ],
   "source": [
    "import vande.analysis.analysis_roc as ar\n",
    "reload(ar)"
   ]
  },
  {
   "cell_type": "code",
   "execution_count": 295,
   "id": "adverse-noise",
   "metadata": {},
   "outputs": [],
   "source": [
    "neg_class_losses = [loss_bg.tolist(),loss_bg_gnn.tolist(),loss_bg_gvae.tolist()]\n",
    "pos_class_losses = [loss_signal.tolist(),loss_signal_gnn.tolist(),loss_signal_gvae.tolist()]"
   ]
  },
  {
   "cell_type": "code",
   "execution_count": 296,
   "id": "bright-invention",
   "metadata": {},
   "outputs": [
    {
     "name": "stderr",
     "output_type": "stream",
     "text": [
      "/eos/home-n/nchernya/MLHEP/AnomalyDetection/vande/analysis/analysis_roc.py:33: RuntimeWarning: divide by zero encountered in true_divide\n",
      "  plt.semilogy(tpr, 1./fpr, label=label + \" (auc \" + \"{0:.3f}\".format(aucs[-1]) + \")\")\n",
      "/eos/home-n/nchernya/MLHEP/AnomalyDetection/vande/analysis/analysis_roc.py:33: RuntimeWarning: divide by zero encountered in true_divide\n",
      "  plt.semilogy(tpr, 1./fpr, label=label + \" (auc \" + \"{0:.3f}\".format(aucs[-1]) + \")\")\n",
      "/eos/home-n/nchernya/MLHEP/AnomalyDetection/vande/analysis/analysis_roc.py:33: RuntimeWarning: divide by zero encountered in true_divide\n",
      "  plt.semilogy(tpr, 1./fpr, label=label + \" (auc \" + \"{0:.3f}\".format(aucs[-1]) + \")\")\n"
     ]
    },
    {
     "data": {
      "text/plain": [
       "[0.55944858, 0.5544533, 0.48788074000000003]"
      ]
     },
     "execution_count": 296,
     "metadata": {},
     "output_type": "execute_result"
    }
   ],
   "source": [
    "plt.style.use('/eos/user/n/nchernya/MLHEP/AnomalyDetection/ADgvae/utils/adfigstyle.mplstyle')\n",
    "ar.plot_roc( neg_class_losses, pos_class_losses, legend=['GCN VAE','GAE','GVAE'], title='ROC ', plot_name='ROC_text', fig_dir='figs/',log_x=False )"
   ]
  },
  {
   "cell_type": "code",
   "execution_count": null,
   "id": "north-murder",
   "metadata": {},
   "outputs": [],
   "source": []
  },
  {
   "cell_type": "code",
   "execution_count": null,
   "id": "annoying-resort",
   "metadata": {},
   "outputs": [],
   "source": []
  },
  {
   "cell_type": "code",
   "execution_count": null,
   "id": "synthetic-lightweight",
   "metadata": {},
   "outputs": [],
   "source": []
  },
  {
   "cell_type": "code",
   "execution_count": null,
   "id": "superior-wisconsin",
   "metadata": {},
   "outputs": [],
   "source": []
  },
  {
   "cell_type": "code",
   "execution_count": null,
   "id": "bigger-engineering",
   "metadata": {},
   "outputs": [],
   "source": []
  },
  {
   "cell_type": "code",
   "execution_count": null,
   "id": "macro-edinburgh",
   "metadata": {},
   "outputs": [],
   "source": []
  },
  {
   "cell_type": "code",
   "execution_count": null,
   "id": "eight-cheese",
   "metadata": {},
   "outputs": [],
   "source": []
  },
  {
   "cell_type": "code",
   "execution_count": null,
   "id": "natural-hypothesis",
   "metadata": {},
   "outputs": [],
   "source": []
  }
 ],
 "metadata": {
  "kernelspec": {
   "display_name": "Python 3",
   "language": "python",
   "name": "python3"
  },
  "language_info": {
   "codemirror_mode": {
    "name": "ipython",
    "version": 3
   },
   "file_extension": ".py",
   "mimetype": "text/x-python",
   "name": "python",
   "nbconvert_exporter": "python",
   "pygments_lexer": "ipython3",
   "version": "3.8.6"
  }
 },
 "nbformat": 4,
 "nbformat_minor": 5
}
