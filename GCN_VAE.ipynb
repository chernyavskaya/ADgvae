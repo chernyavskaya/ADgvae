{
 "cells": [
  {
   "cell_type": "code",
   "execution_count": 1,
   "id": "alone-intellectual",
   "metadata": {},
   "outputs": [],
   "source": [
    "import tensorflow as tf\n",
    "import numpy as np\n",
    "import h5py\n",
    "import matplotlib.pyplot as plt\n",
    "from importlib import reload"
   ]
  },
  {
   "cell_type": "code",
   "execution_count": 2,
   "id": "quantitative-gospel",
   "metadata": {},
   "outputs": [
    {
     "data": {
      "text/plain": [
       "<module 'utils.preprocessing' from '/eos/home-n/nchernya/MLHEP/AnomalyDetection/ADgvae/utils/preprocessing.py'>"
      ]
     },
     "execution_count": 2,
     "metadata": {},
     "output_type": "execute_result"
    }
   ],
   "source": [
    "import models.models as models\n",
    "reload(models)\n",
    "import utils.preprocessing as prepr\n",
    "reload(prepr)"
   ]
  },
  {
   "cell_type": "code",
   "execution_count": 3,
   "id": "cubic-quarter",
   "metadata": {},
   "outputs": [
    {
     "name": "stdout",
     "output_type": "stream",
     "text": [
      "Number of jets = 12571\n",
      "Number of constituents (nodes) = 100\n",
      "Number of features = 3\n"
     ]
    },
    {
     "name": "stderr",
     "output_type": "stream",
     "text": [
      "/eos/home-n/nchernya/MLHEP/AnomalyDetection/ADgvae/utils/preprocessing.py:38: RuntimeWarning: divide by zero encountered in power\n",
      "  D = np.nan_to_num(np.power(D,-0.5), posinf=0, neginf=0) # normalize (**-(1/2))\n"
     ]
    },
    {
     "name": "stdout",
     "output_type": "stream",
     "text": [
      "Number of jets = 2518\n",
      "Number of constituents (nodes) = 100\n",
      "Number of features = 3\n"
     ]
    }
   ],
   "source": [
    "#Data Samples\n",
    "TRAIN_PATH = '/eos/project/d/dshep/TOPCLASS/DijetAnomaly/VAE_data/events/qcd_sqrtshatTeV_13TeV_PU40_NEW_sideband_parts/'\n",
    "filename_bg = TRAIN_PATH + 'qcd_sqrtshatTeV_13TeV_PU40_NEW_sideband_000.h5'\n",
    "batch_size = 128\n",
    "train_set_size = batch_size*50\n",
    "nodes_n, feat_sz, particles_bg, A_bg, A_tilde_bg = prepr.prepare_data(filename_bg,train_set_size,0,train_set_size+1)\n",
    "\n",
    "VALID_PATH = '/eos/project/d/dshep/TOPCLASS/DijetAnomaly/VAE_data/events/qcd_sqrtshatTeV_13TeV_PU40_NEW_EXT_sideband_parts'\n",
    "filename_bg_valid = TRAIN_PATH + 'qcd_sqrtshatTeV_13TeV_PU40_NEW_EXT_sideband_000.h5'\n",
    "batch_size = 128\n",
    "valid_set_size = batch_size*10\n",
    "_,_, particles_bg_valid, A_bg_valid, A_tilde_bg_valid = prepr.prepare_data(filename_bg,valid_set_size,0,valid_set_size+1)"
   ]
  },
  {
   "cell_type": "code",
   "execution_count": 39,
   "id": "amino-fitness",
   "metadata": {},
   "outputs": [
    {
     "name": "stdout",
     "output_type": "stream",
     "text": [
      "(6400, 100, 3) (6400, 100, 100) (6400, 100, 100)\n"
     ]
    }
   ],
   "source": [
    "print(particles_bg.shape, A_tilde_bg.shape, A_bg.shape)"
   ]
  },
  {
   "cell_type": "code",
   "execution_count": 41,
   "id": "weekly-elements",
   "metadata": {},
   "outputs": [
    {
     "name": "stdout",
     "output_type": "stream",
     "text": [
      "Number of jets = 12571\n",
      "Number of constituents (nodes) = 100\n",
      "Number of features = 3\n"
     ]
    }
   ],
   "source": []
  },
  {
   "cell_type": "markdown",
   "id": "progressive-wound",
   "metadata": {},
   "source": [
    "# Autoencoder"
   ]
  },
  {
   "cell_type": "code",
   "execution_count": 6,
   "id": "unnecessary-third",
   "metadata": {},
   "outputs": [
    {
     "name": "stdout",
     "output_type": "stream",
     "text": [
      "Model: \"functional_1\"\n",
      "__________________________________________________________________________________________________\n",
      "Layer (type)                    Output Shape         Param #     Connected to                     \n",
      "==================================================================================================\n",
      "encoder_input_features (InputLa [(None, 100, 3)]     0                                            \n",
      "__________________________________________________________________________________________________\n",
      "encoder_input_adjacency (InputL [(None, 100, 100)]   0                                            \n",
      "__________________________________________________________________________________________________\n",
      "graph_convolution (GraphConvolu (None, 100, 6)       42          encoder_input_features[0][0]     \n",
      "                                                                 encoder_input_adjacency[0][0]    \n",
      "__________________________________________________________________________________________________\n",
      "graph_convolution_1 (GraphConvo (None, 100, 8)       104         graph_convolution[0][0]          \n",
      "                                                                 encoder_input_adjacency[0][0]    \n",
      "__________________________________________________________________________________________________\n",
      "graph_convolution_2 (GraphConvo (None, 100, 4)       68          graph_convolution_1[0][0]        \n",
      "                                                                 encoder_input_adjacency[0][0]    \n",
      "__________________________________________________________________________________________________\n",
      "graph_convolution_3 (GraphConvo (None, 100, 2)       18          graph_convolution_2[0][0]        \n",
      "                                                                 encoder_input_adjacency[0][0]    \n",
      "__________________________________________________________________________________________________\n",
      "graph_convolution_4 (GraphConvo (None, 100, 1)       5           graph_convolution_3[0][0]        \n",
      "                                                                 encoder_input_adjacency[0][0]    \n",
      "==================================================================================================\n",
      "Total params: 237\n",
      "Trainable params: 237\n",
      "Non-trainable params: 0\n",
      "__________________________________________________________________________________________________\n"
     ]
    }
   ],
   "source": [
    "gnn = models.GraphAutoencoder(nodes_n=nodes_n, feat_sz=feat_sz, activation=tf.nn.tanh)\n",
    "gnn.compile(optimizer=tf.keras.optimizers.Adam(learning_rate=0.001), run_eagerly=True)  #learning rate 0.001 worked"
   ]
  },
  {
   "cell_type": "code",
   "execution_count": 7,
   "id": "underlying-color",
   "metadata": {
    "scrolled": true
   },
   "outputs": [
    {
     "name": "stdout",
     "output_type": "stream",
     "text": [
      "Epoch 1/50\n",
      "74/74 [==============================] - 8s 111ms/step - val_loss: 0.4226\n",
      "Epoch 2/50\n",
      "74/74 [==============================] - 7s 95ms/step - val_loss: 0.4060\n",
      "Epoch 3/50\n",
      "74/74 [==============================] - 8s 105ms/step - val_loss: 0.4033\n",
      "Epoch 4/50\n",
      "74/74 [==============================] - 8s 111ms/step - val_loss: 0.4018\n",
      "Epoch 5/50\n",
      "74/74 [==============================] - 8s 108ms/step - val_loss: 0.4009\n",
      "Epoch 6/50\n",
      "74/74 [==============================] - 8s 106ms/step - val_loss: 0.4003\n",
      "Epoch 7/50\n",
      "74/74 [==============================] - 8s 107ms/step - val_loss: 0.3999\n",
      "Epoch 8/50\n",
      "74/74 [==============================] - 8s 106ms/step - val_loss: 0.3996\n",
      "Epoch 9/50\n",
      "74/74 [==============================] - 8s 103ms/step - val_loss: 0.3994\n",
      "Epoch 10/50\n",
      "74/74 [==============================] - 7s 93ms/step - val_loss: 0.3993\n",
      "Epoch 11/50\n",
      "74/74 [==============================] - 8s 107ms/step - val_loss: 0.3992\n",
      "Epoch 12/50\n",
      "74/74 [==============================] - 8s 106ms/step - val_loss: 0.3991\n",
      "Epoch 13/50\n",
      "74/74 [==============================] - 8s 106ms/step - val_loss: 0.3991\n",
      "Epoch 14/50\n",
      "74/74 [==============================] - 8s 106ms/step - val_loss: 0.3991\n",
      "Epoch 15/50\n",
      "74/74 [==============================] - 8s 106ms/step - val_loss: 0.3990\n",
      "Epoch 16/50\n",
      "74/74 [==============================] - 8s 108ms/step - val_loss: 0.3990\n",
      "Epoch 17/50\n",
      "74/74 [==============================] - 7s 99ms/step - val_loss: 0.3990\n",
      "Epoch 18/50\n",
      "74/74 [==============================] - 7s 99ms/step - val_loss: 0.3990\n",
      "Epoch 19/50\n",
      "74/74 [==============================] - 8s 106ms/step - val_loss: 0.3990\n",
      "Epoch 20/50\n",
      "74/74 [==============================] - ETA: 0s\n",
      "Epoch 00020: ReduceLROnPlateau reducing learning rate to 0.00010000000474974513.\n",
      "74/74 [==============================] - 8s 107ms/step - val_loss: 0.3990\n",
      "Epoch 21/50\n",
      "74/74 [==============================] - 8s 107ms/step - val_loss: 0.3990\n",
      "Epoch 22/50\n",
      "74/74 [==============================] - 8s 107ms/step - val_loss: 0.3990\n",
      "Epoch 23/50\n",
      "74/74 [==============================] - 8s 106ms/step - val_loss: 0.3990\n",
      "Epoch 24/50\n",
      "74/74 [==============================] - 8s 106ms/step - val_loss: 0.3990\n",
      "Epoch 25/50\n",
      "74/74 [==============================] - ETA: 0s\n",
      "Epoch 00025: ReduceLROnPlateau reducing learning rate to 1.0000000474974514e-05.\n",
      "74/74 [==============================] - 7s 93ms/step - val_loss: 0.3990\n",
      "Epoch 26/50\n",
      "74/74 [==============================] - 8s 103ms/step - val_loss: 0.3990\n",
      "Epoch 27/50\n",
      "74/74 [==============================] - 8s 106ms/step - val_loss: 0.3990\n",
      "Epoch 28/50\n",
      "74/74 [==============================] - 8s 105ms/step - val_loss: 0.3990\n",
      "Epoch 29/50\n",
      "74/74 [==============================] - 8s 110ms/step - val_loss: 0.3990\n",
      "Epoch 30/50\n",
      "74/74 [==============================] - ETA: 0s\n",
      "Epoch 00030: ReduceLROnPlateau reducing learning rate to 1.0000000656873453e-06.\n",
      "74/74 [==============================] - 8s 105ms/step - val_loss: 0.3990\n",
      "Epoch 31/50\n",
      "74/74 [==============================] - 8s 104ms/step - val_loss: 0.3990\n",
      "Epoch 32/50\n",
      "74/74 [==============================] - 8s 102ms/step - val_loss: 0.3990\n",
      "Epoch 33/50\n",
      "74/74 [==============================] - 7s 95ms/step - val_loss: 0.3990\n",
      "Epoch 34/50\n",
      "74/74 [==============================] - 8s 104ms/step - val_loss: 0.3990\n",
      "Epoch 35/50\n",
      "74/74 [==============================] - ETA: 0s\n",
      "Epoch 00035: ReduceLROnPlateau reducing learning rate to 1.0000001111620805e-07.\n",
      "74/74 [==============================] - 8s 102ms/step - val_loss: 0.3990\n",
      "Epoch 36/50\n",
      "74/74 [==============================] - 8s 106ms/step - val_loss: 0.3990\n",
      "Epoch 37/50\n",
      "74/74 [==============================] - 8s 111ms/step - val_loss: 0.3990\n",
      "Epoch 38/50\n",
      "74/74 [==============================] - 8s 102ms/step - val_loss: 0.3990\n",
      "Epoch 39/50\n",
      "74/74 [==============================] - 8s 108ms/step - val_loss: 0.3990\n",
      "Epoch 00039: early stopping\n"
     ]
    },
    {
     "data": {
      "text/plain": [
       "<tensorflow.python.keras.callbacks.History at 0x7f09d9482850>"
      ]
     },
     "execution_count": 7,
     "metadata": {},
     "output_type": "execute_result"
    }
   ],
   "source": [
    "callbacks = [tf.keras.callbacks.ReduceLROnPlateau(factor=0.1, patience=5, verbose=1),\n",
    "            tf.keras.callbacks.EarlyStopping(monitor='val_loss', patience=5, verbose=1)]\n",
    "gnn.fit((particles_bg, A_tilde_bg), A_bg, epochs=50, batch_size=128, validation_split=0.25, callbacks=callbacks)"
   ]
  },
  {
   "cell_type": "markdown",
   "id": "closed-moses",
   "metadata": {},
   "source": [
    "## Predict BG and Sig"
   ]
  },
  {
   "cell_type": "code",
   "execution_count": 11,
   "id": "mexican-snake",
   "metadata": {},
   "outputs": [
    {
     "name": "stdout",
     "output_type": "stream",
     "text": [
      "Number of jets = 9966\n",
      "Number of constituents (nodes) = 100\n",
      "Number of features = 3\n"
     ]
    },
    {
     "name": "stderr",
     "output_type": "stream",
     "text": [
      "/eos/home-n/nchernya/MLHEP/AnomalyDetection/ADgvae/utils/preprocessing.py:38: RuntimeWarning: divide by zero encountered in power\n",
      "  D = np.nan_to_num(np.power(D,-0.5), posinf=0, neginf=0) # normalize (**-(1/2))\n"
     ]
    },
    {
     "name": "stdout",
     "output_type": "stream",
     "text": [
      "Number of jets = 9840\n",
      "Number of constituents (nodes) = 100\n",
      "Number of features = 3\n"
     ]
    }
   ],
   "source": [
    "#Prepare signal and background (for testing) samples\n",
    "\n",
    "#signal\n",
    "SIG_PATH = '/eos/project/d/dshep/TOPCLASS/DijetAnomaly/VAE_data/events/RSGraviton_WW_NARROW_13TeV_PU40_3.5TeV_NEW_parts/'\n",
    "filename_sig = SIG_PATH + 'RSGraviton_WW_NARROW_13TeV_PU40_3.5TeV_NEW_concat_001.h5'\n",
    "_,_, particles_sig, A_sig, A_tilde_sig = prepr.prepare_data(filename_sig,5000,0,5000)\n",
    "#background test \n",
    "_,_, particles_bg_test, A_bg_test, A_tilde_bg_test = prepr.prepare_data(filename_bg,5000,train_set_size+1,train_set_size+5000)\n"
   ]
  },
  {
   "cell_type": "code",
   "execution_count": 12,
   "id": "missing-village",
   "metadata": {},
   "outputs": [],
   "source": [
    "z_sig, A_pred_sig = gnn((particles_sig, A_tilde_sig))\n",
    "z_bg_test, A_pred_bg_test = gnn((particles_bg_test, A_tilde_bg_test))\n",
    "loss_signal = tf.math.reduce_mean(tf.nn.sigmoid_cross_entropy_with_logits(A_sig, A_pred_sig), axis=(1,2)).numpy() #predicted adjecny, but not set to 0/1 yet\n",
    "loss_bg = tf.math.reduce_mean(tf.nn.sigmoid_cross_entropy_with_logits(A_bg_test, A_pred_bg_test), axis=(1,2)).numpy()"
   ]
  },
  {
   "cell_type": "code",
   "execution_count": 13,
   "id": "straight-junior",
   "metadata": {
    "scrolled": true
   },
   "outputs": [
    {
     "data": {
      "image/png": "[encoded data removed]",
      "text/plain": [
       "<Figure size 432x288 with 1 Axes>"
      ]
     },
     "metadata": {
      "needs_background": "light"
     },
     "output_type": "display_data"
    }
   ],
   "source": [
    "max_score = np.max(np.max(loss_signal))#,np.max(loss_bg_dist))\n",
    "min_score = np.max(np.min(loss_bg))#,np.max(loss_bg_dist))\n",
    "# plot BG\n",
    "plt.figure()\n",
    "plt.hist(loss_bg, bins=100, label='BG', density=True, range=(min_score, max_score), \n",
    "         histtype='step', fill=False, linewidth=1.5,color='g')\n",
    "plt.hist(loss_signal, bins=100, label='SIG', density=True, range=(min_score, max_score), \n",
    "         histtype='step', fill=False, linewidth=1.5,color='r')\n",
    "#plt.semilogy()\n",
    "plt.xlabel(\"AE Loss\")\n",
    "plt.ylabel(\"Probability (a.u.)\")\n",
    "plt.grid(True)\n",
    "plt.legend(loc='upper right')\n",
    "plt.show()"
   ]
  },
  {
   "cell_type": "code",
   "execution_count": null,
   "id": "amateur-roberts",
   "metadata": {},
   "outputs": [],
   "source": []
  },
  {
   "cell_type": "code",
   "execution_count": null,
   "id": "valuable-bolivia",
   "metadata": {},
   "outputs": [],
   "source": []
  },
  {
   "cell_type": "markdown",
   "id": "partial-trouble",
   "metadata": {},
   "source": [
    "# GCN VAE"
   ]
  },
  {
   "cell_type": "code",
   "execution_count": 54,
   "id": "thorough-reliance",
   "metadata": {},
   "outputs": [],
   "source": [
    "def threeD_loss_manual(inputs, outputs):\n",
    "    distances = np.sum(np.subtract(inputs[:,:,np.newaxis,:],outputs[:,np.newaxis,:,:])**2, axis=-1)\n",
    "    min_dist_to_inputs = np.min(distances,axis=1)\n",
    "    min_dist_to_outputs = np.min(distances,axis=2)\n",
    "    return np.sum(min_dist_to_inputs,axis=1) + np.sum(min_dist_to_outputs,axis=1)\n",
    "\n"
   ]
  },
  {
   "cell_type": "code",
   "execution_count": 55,
   "id": "incorrect-bleeding",
   "metadata": {},
   "outputs": [
    {
     "data": {
      "text/plain": [
       "<module 'utils.preprocessing' from '/eos/home-n/nchernya/MLHEP/AnomalyDetection/ADgvae/utils/preprocessing.py'>"
      ]
     },
     "execution_count": 55,
     "metadata": {},
     "output_type": "execute_result"
    }
   ],
   "source": [
    "import models.losses as losses\n",
    "reload(losses)\n",
    "import models.models as models\n",
    "reload(models)\n",
    "import utils.preprocessing as prepr\n",
    "reload(prepr)\n"
   ]
  },
  {
   "cell_type": "code",
   "execution_count": 56,
   "id": "deadly-retail",
   "metadata": {
    "scrolled": true
   },
   "outputs": [
    {
     "name": "stdout",
     "output_type": "stream",
     "text": [
      "100\n",
      "Model: \"functional_97\"\n",
      "__________________________________________________________________________________________________\n",
      "Layer (type)                    Output Shape         Param #     Connected to                     \n",
      "==================================================================================================\n",
      "encoder_input_features (InputLa [(None, 100, 3)]     0                                            \n",
      "__________________________________________________________________________________________________\n",
      "encoder_input_adjacency (InputL [(None, 100, 100)]   0                                            \n",
      "__________________________________________________________________________________________________\n",
      "graph_convolution_48 (GraphConv (None, 100, 2)       14          encoder_input_features[0][0]     \n",
      "                                                                 encoder_input_adjacency[0][0]    \n",
      "__________________________________________________________________________________________________\n",
      "flatten_32 (Flatten)            (None, 200)          0           graph_convolution_48[0][0]       \n",
      "__________________________________________________________________________________________________\n",
      "dense_128 (Dense)               (None, 100)          20100       flatten_32[0][0]                 \n",
      "__________________________________________________________________________________________________\n",
      "dense_129 (Dense)               (None, 30)           3030        dense_128[0][0]                  \n",
      "__________________________________________________________________________________________________\n",
      "tf_op_layer_Shape_96 (TensorFlo [(2,)]               0           dense_129[0][0]                  \n",
      "__________________________________________________________________________________________________\n",
      "tf_op_layer_Shape_97 (TensorFlo [(2,)]               0           dense_129[0][0]                  \n",
      "__________________________________________________________________________________________________\n",
      "tf_op_layer_strided_slice_64 (T [()]                 0           tf_op_layer_Shape_96[0][0]       \n",
      "__________________________________________________________________________________________________\n",
      "tf_op_layer_strided_slice_65 (T [()]                 0           tf_op_layer_Shape_97[0][0]       \n",
      "__________________________________________________________________________________________________\n",
      "tf_op_layer_shape_98 (TensorFlo [(2,)]               0           tf_op_layer_strided_slice_64[0][0\n",
      "                                                                 tf_op_layer_strided_slice_65[0][0\n",
      "__________________________________________________________________________________________________\n",
      "dense_130 (Dense)               (None, 30)           3030        dense_128[0][0]                  \n",
      "__________________________________________________________________________________________________\n",
      "tf_op_layer_RandomStandardNorma [(None, None)]       0           tf_op_layer_shape_98[0][0]       \n",
      "__________________________________________________________________________________________________\n",
      "tf_op_layer_Mul_97 (TensorFlowO [(None, 30)]         0           dense_130[0][0]                  \n",
      "__________________________________________________________________________________________________\n",
      "tf_op_layer_Mul_96 (TensorFlowO [(None, None)]       0           tf_op_layer_RandomStandardNormal_\n",
      "__________________________________________________________________________________________________\n",
      "tf_op_layer_Exp_32 (TensorFlowO [(None, 30)]         0           tf_op_layer_Mul_97[0][0]         \n",
      "__________________________________________________________________________________________________\n",
      "tf_op_layer_Add_32 (TensorFlowO [(None, None)]       0           tf_op_layer_Mul_96[0][0]         \n",
      "__________________________________________________________________________________________________\n",
      "tf_op_layer_Mul_98 (TensorFlowO [(None, 30)]         0           tf_op_layer_Exp_32[0][0]         \n",
      "                                                                 tf_op_layer_Add_32[0][0]         \n",
      "__________________________________________________________________________________________________\n",
      "tf_op_layer_AddV2_32 (TensorFlo [(None, 30)]         0           dense_129[0][0]                  \n",
      "                                                                 tf_op_layer_Mul_98[0][0]         \n",
      "==================================================================================================\n",
      "Total params: 26,174\n",
      "Trainable params: 26,174\n",
      "Non-trainable params: 0\n",
      "__________________________________________________________________________________________________\n",
      "100\n",
      "Model: \"functional_99\"\n",
      "__________________________________________________________________________________________________\n",
      "Layer (type)                    Output Shape         Param #     Connected to                     \n",
      "==================================================================================================\n",
      "encoder_input_features (InputLa [(None, 100, 3)]     0                                            \n",
      "__________________________________________________________________________________________________\n",
      "encoder_input_adjacency (InputL [(None, 100, 100)]   0                                            \n",
      "__________________________________________________________________________________________________\n",
      "graph_convolution_49 (GraphConv (None, 100, 2)       14          encoder_input_features[0][0]     \n",
      "                                                                 encoder_input_adjacency[0][0]    \n",
      "__________________________________________________________________________________________________\n",
      "flatten_33 (Flatten)            (None, 200)          0           graph_convolution_49[0][0]       \n",
      "__________________________________________________________________________________________________\n",
      "dense_131 (Dense)               (None, 100)          20100       flatten_33[0][0]                 \n",
      "__________________________________________________________________________________________________\n",
      "dense_132 (Dense)               (None, 30)           3030        dense_131[0][0]                  \n",
      "__________________________________________________________________________________________________\n",
      "tf_op_layer_Shape_99 (TensorFlo [(2,)]               0           dense_132[0][0]                  \n",
      "__________________________________________________________________________________________________\n",
      "tf_op_layer_Shape_100 (TensorFl [(2,)]               0           dense_132[0][0]                  \n",
      "__________________________________________________________________________________________________\n",
      "tf_op_layer_strided_slice_66 (T [()]                 0           tf_op_layer_Shape_99[0][0]       \n",
      "__________________________________________________________________________________________________\n",
      "tf_op_layer_strided_slice_67 (T [()]                 0           tf_op_layer_Shape_100[0][0]      \n",
      "__________________________________________________________________________________________________\n",
      "tf_op_layer_shape_101 (TensorFl [(2,)]               0           tf_op_layer_strided_slice_66[0][0\n",
      "                                                                 tf_op_layer_strided_slice_67[0][0\n",
      "__________________________________________________________________________________________________\n",
      "dense_133 (Dense)               (None, 30)           3030        dense_131[0][0]                  \n",
      "__________________________________________________________________________________________________\n",
      "tf_op_layer_RandomStandardNorma [(None, None)]       0           tf_op_layer_shape_101[0][0]      \n",
      "__________________________________________________________________________________________________\n",
      "tf_op_layer_Mul_100 (TensorFlow [(None, 30)]         0           dense_133[0][0]                  \n",
      "__________________________________________________________________________________________________\n",
      "tf_op_layer_Mul_99 (TensorFlowO [(None, None)]       0           tf_op_layer_RandomStandardNormal_\n",
      "__________________________________________________________________________________________________\n",
      "tf_op_layer_Exp_33 (TensorFlowO [(None, 30)]         0           tf_op_layer_Mul_100[0][0]        \n",
      "__________________________________________________________________________________________________\n",
      "tf_op_layer_Add_33 (TensorFlowO [(None, None)]       0           tf_op_layer_Mul_99[0][0]         \n",
      "__________________________________________________________________________________________________\n",
      "tf_op_layer_Mul_101 (TensorFlow [(None, 30)]         0           tf_op_layer_Exp_33[0][0]         \n",
      "                                                                 tf_op_layer_Add_33[0][0]         \n",
      "__________________________________________________________________________________________________\n",
      "tf_op_layer_AddV2_33 (TensorFlo [(None, 30)]         0           dense_132[0][0]                  \n",
      "                                                                 tf_op_layer_Mul_101[0][0]        \n",
      "==================================================================================================\n",
      "Total params: 26,174\n",
      "Trainable params: 26,174\n",
      "Non-trainable params: 0\n",
      "__________________________________________________________________________________________________\n",
      "Model: \"functional_101\"\n",
      "__________________________________________________________________________________________________\n",
      "Layer (type)                    Output Shape         Param #     Connected to                     \n",
      "==================================================================================================\n",
      "decoder_input_latent_space (Inp [(None, 30)]         0                                            \n",
      "__________________________________________________________________________________________________\n",
      "dense_134 (Dense)               (None, 100)          3100        decoder_input_latent_space[0][0] \n",
      "__________________________________________________________________________________________________\n",
      "dense_135 (Dense)               (None, 200)          20200       dense_134[0][0]                  \n",
      "__________________________________________________________________________________________________\n",
      "reshape_16 (Reshape)            (None, 100, 2)       0           dense_135[0][0]                  \n",
      "__________________________________________________________________________________________________\n",
      "decoder_input_adjacency (InputL [(None, 100, 100)]   0                                            \n",
      "__________________________________________________________________________________________________\n",
      "graph_convolution_50 (GraphConv (None, 100, 3)       15          reshape_16[0][0]                 \n",
      "                                                                 decoder_input_adjacency[0][0]    \n",
      "==================================================================================================\n",
      "Total params: 23,315\n",
      "Trainable params: 23,315\n",
      "Non-trainable params: 0\n",
      "__________________________________________________________________________________________________\n"
     ]
    }
   ],
   "source": [
    "gcnvae = models.GCNVariationalAutoEncoder(nodes_n=nodes_n, feat_sz=feat_sz, activation=tf.nn.tanh,latent_dim=30)\n",
    "gcnvae.compile(optimizer=tf.keras.optimizers.Adam(learning_rate=0.001), run_eagerly=True)"
   ]
  },
  {
   "cell_type": "code",
   "execution_count": 58,
   "id": "religious-spanking",
   "metadata": {
    "scrolled": true
   },
   "outputs": [
    {
     "name": "stdout",
     "output_type": "stream",
     "text": [
      "Epoch 1/30\n",
      "50/50 [==============================] - 3s 67ms/step - loss: 3.9627 - loss_reco: 3.9600 - loss_latent: 0.0027 - val_loss: 3.7769 - val_loss_reco: 3.7748 - val_loss_latent: 0.0021\n",
      "Epoch 2/30\n",
      "50/50 [==============================] - 3s 68ms/step - loss: 3.7758 - loss_reco: 3.7742 - loss_latent: 0.0016 - val_loss: 3.5296 - val_loss_reco: 3.5282 - val_loss_latent: 0.0014\n",
      "Epoch 3/30\n",
      "50/50 [==============================] - 3s 67ms/step - loss: 3.5404 - loss_reco: 3.5392 - loss_latent: 0.0012 - val_loss: 3.2404 - val_loss_reco: 3.2392 - val_loss_latent: 0.0012\n",
      "Epoch 4/30\n",
      "50/50 [==============================] - 3s 63ms/step - loss: 2.9057 - loss_reco: 2.9042 - loss_latent: 0.0015 - val_loss: 2.3263 - val_loss_reco: 2.3240 - val_loss_latent: 0.0022\n",
      "Epoch 5/30\n",
      "50/50 [==============================] - 3s 64ms/step - loss: 2.2891 - loss_reco: 2.2868 - loss_latent: 0.0023 - val_loss: 2.0891 - val_loss_reco: 2.0866 - val_loss_latent: 0.0024\n",
      "Epoch 6/30\n",
      "50/50 [==============================] - 3s 61ms/step - loss: 2.0910 - loss_reco: 2.0891 - loss_latent: 0.0019 - val_loss: 1.9290 - val_loss_reco: 1.9274 - val_loss_latent: 0.0016\n",
      "Epoch 7/30\n",
      "50/50 [==============================] - 3s 62ms/step - loss: 1.9441 - loss_reco: 1.9429 - loss_latent: 0.0012 - val_loss: 1.7911 - val_loss_reco: 1.7901 - val_loss_latent: 0.0010\n",
      "Epoch 8/30\n",
      "50/50 [==============================] - 3s 61ms/step - loss: 1.8120 - loss_reco: 1.8113 - loss_latent: 7.1931e-04 - val_loss: 1.6632 - val_loss_reco: 1.6625 - val_loss_latent: 6.5061e-04\n",
      "Epoch 9/30\n",
      "50/50 [==============================] - 3s 60ms/step - loss: 1.6913 - loss_reco: 1.6908 - loss_latent: 4.6016e-04 - val_loss: 1.5545 - val_loss_reco: 1.5541 - val_loss_latent: 4.1843e-04\n",
      "Epoch 10/30\n",
      "50/50 [==============================] - 3s 67ms/step - loss: 1.5746 - loss_reco: 1.5743 - loss_latent: 3.0720e-04 - val_loss: 1.4294 - val_loss_reco: 1.4291 - val_loss_latent: 3.1242e-04\n",
      "Epoch 11/30\n",
      "50/50 [==============================] - 3s 61ms/step - loss: 1.4775 - loss_reco: 1.4773 - loss_latent: 2.3691e-04 - val_loss: 1.3400 - val_loss_reco: 1.3398 - val_loss_latent: 2.3797e-04\n",
      "Epoch 12/30\n",
      "50/50 [==============================] - 3s 63ms/step - loss: 1.3741 - loss_reco: 1.3740 - loss_latent: 1.6068e-04 - val_loss: 1.2452 - val_loss_reco: 1.2451 - val_loss_latent: 1.3636e-04\n",
      "Epoch 13/30\n",
      "50/50 [==============================] - 3s 64ms/step - loss: 1.2848 - loss_reco: 1.2847 - loss_latent: 8.8126e-05 - val_loss: 1.1418 - val_loss_reco: 1.1417 - val_loss_latent: 1.0137e-04\n",
      "Epoch 14/30\n",
      "50/50 [==============================] - 3s 59ms/step - loss: 1.2116 - loss_reco: 1.2115 - loss_latent: 7.3343e-05 - val_loss: 1.0853 - val_loss_reco: 1.0852 - val_loss_latent: 8.8129e-05\n",
      "Epoch 15/30\n",
      "50/50 [==============================] - 3s 63ms/step - loss: 1.1520 - loss_reco: 1.1519 - loss_latent: 6.0337e-05 - val_loss: 1.0310 - val_loss_reco: 1.0309 - val_loss_latent: 6.3193e-05\n",
      "Epoch 16/30\n",
      "50/50 [==============================] - 3s 60ms/step - loss: 1.1009 - loss_reco: 1.1009 - loss_latent: 5.0021e-05 - val_loss: 0.9897 - val_loss_reco: 0.9897 - val_loss_latent: 6.6980e-05\n",
      "Epoch 17/30\n",
      "50/50 [==============================] - 3s 63ms/step - loss: 1.0647 - loss_reco: 1.0647 - loss_latent: 4.9428e-05 - val_loss: 0.9565 - val_loss_reco: 0.9564 - val_loss_latent: 6.6772e-05\n",
      "Epoch 18/30\n",
      "50/50 [==============================] - 3s 61ms/step - loss: 1.0370 - loss_reco: 1.0369 - loss_latent: 5.5401e-05 - val_loss: 0.9387 - val_loss_reco: 0.9386 - val_loss_latent: 6.9546e-05\n",
      "Epoch 19/30\n",
      "50/50 [==============================] - 3s 62ms/step - loss: 1.0184 - loss_reco: 1.0183 - loss_latent: 4.9751e-05 - val_loss: 0.9214 - val_loss_reco: 0.9213 - val_loss_latent: 5.7933e-05\n",
      "Epoch 20/30\n",
      "50/50 [==============================] - 3s 62ms/step - loss: 1.0090 - loss_reco: 1.0090 - loss_latent: 4.2710e-05 - val_loss: 0.9049 - val_loss_reco: 0.9049 - val_loss_latent: 5.2737e-05\n",
      "Epoch 21/30\n",
      "50/50 [==============================] - 3s 60ms/step - loss: 1.0031 - loss_reco: 1.0030 - loss_latent: 3.6295e-05 - val_loss: 0.9054 - val_loss_reco: 0.9053 - val_loss_latent: 4.4697e-05\n",
      "Epoch 22/30\n",
      "50/50 [==============================] - 3s 62ms/step - loss: 0.9921 - loss_reco: 0.9921 - loss_latent: 2.8827e-05 - val_loss: 0.8976 - val_loss_reco: 0.8975 - val_loss_latent: 4.1246e-05\n",
      "Epoch 23/30\n",
      "50/50 [==============================] - 3s 67ms/step - loss: 0.9850 - loss_reco: 0.9849 - loss_latent: 2.7006e-05 - val_loss: 0.8936 - val_loss_reco: 0.8935 - val_loss_latent: 3.4838e-05\n",
      "Epoch 24/30\n",
      "50/50 [==============================] - 4s 75ms/step - loss: 0.9787 - loss_reco: 0.9787 - loss_latent: 2.6162e-05 - val_loss: 0.8824 - val_loss_reco: 0.8823 - val_loss_latent: 3.3513e-05\n",
      "Epoch 25/30\n",
      "50/50 [==============================] - 4s 72ms/step - loss: 0.9735 - loss_reco: 0.9735 - loss_latent: 2.3292e-05 - val_loss: 0.8783 - val_loss_reco: 0.8782 - val_loss_latent: 2.9880e-05\n",
      "Epoch 26/30\n",
      "50/50 [==============================] - 3s 68ms/step - loss: 0.9698 - loss_reco: 0.9698 - loss_latent: 2.2708e-05 - val_loss: 0.8735 - val_loss_reco: 0.8735 - val_loss_latent: 2.9246e-05\n",
      "Epoch 27/30\n",
      "50/50 [==============================] - 4s 71ms/step - loss: 0.9661 - loss_reco: 0.9660 - loss_latent: 2.0928e-05 - val_loss: 0.8699 - val_loss_reco: 0.8698 - val_loss_latent: 2.4679e-05\n",
      "Epoch 28/30\n",
      "50/50 [==============================] - 4s 76ms/step - loss: 0.9587 - loss_reco: 0.9586 - loss_latent: 1.8025e-05 - val_loss: 0.8652 - val_loss_reco: 0.8652 - val_loss_latent: 2.4041e-05\n",
      "Epoch 29/30\n",
      "50/50 [==============================] - 4s 70ms/step - loss: 0.9581 - loss_reco: 0.9581 - loss_latent: 1.7095e-05 - val_loss: 0.8618 - val_loss_reco: 0.8618 - val_loss_latent: 2.0919e-05\n",
      "Epoch 30/30\n",
      "50/50 [==============================] - 4s 75ms/step - loss: 0.9509 - loss_reco: 0.9509 - loss_latent: 1.4150e-05 - val_loss: 0.8583 - val_loss_reco: 0.8583 - val_loss_latent: 1.7239e-05\n"
     ]
    },
    {
     "data": {
      "text/plain": [
       "<tensorflow.python.keras.callbacks.History at 0x7f564811dbe0>"
      ]
     },
     "execution_count": 58,
     "metadata": {},
     "output_type": "execute_result"
    }
   ],
   "source": [
    "callbacks = [tf.keras.callbacks.ReduceLROnPlateau(factor=0.1, patience=5, verbose=2),\n",
    "            tf.keras.callbacks.EarlyStopping(monitor='val_loss', patience=5, verbose=2)] \n",
    "gcnvae.fit(particles_bg, A_bg, epochs=30, batch_size=128, validation_data = ((particles_bg_valid, A_bg_valid)), callbacks=callbacks) "
   ]
  },
  {
   "cell_type": "code",
   "execution_count": 33,
   "id": "explicit-falls",
   "metadata": {},
   "outputs": [],
   "source": [
    "#background"
   ]
  },
  {
   "cell_type": "code",
   "execution_count": 59,
   "id": "packed-cornwall",
   "metadata": {},
   "outputs": [
    {
     "name": "stdout",
     "output_type": "stream",
     "text": [
      "Number of jets = 3929\n",
      "Number of constituents (nodes) = 100\n",
      "Number of features = 3\n"
     ]
    }
   ],
   "source": [
    "_,_, particles_bg_test, A_bg_test, A_tilde_bg_test = prepr.prepare_data(filename_bg,2000,train_set_size+1,train_set_size+2000)\n",
    "features_out_bg_test, z_bg_test, z_mean_bg_test, z_log_var_bg_test = gcnvae((particles_bg_test, A_bg_test))\n",
    "features_out_bg_test = features_out_bg_test.numpy().astype('float32')\n",
    "loss_bg = threeD_loss_manual(particles_bg_test.astype('float32'),features_out_bg_test)"
   ]
  },
  {
   "cell_type": "code",
   "execution_count": 60,
   "id": "favorite-optics",
   "metadata": {},
   "outputs": [
    {
     "name": "stdout",
     "output_type": "stream",
     "text": [
      "Number of jets = 583533\n",
      "Number of constituents (nodes) = 100\n",
      "Number of features = 3\n"
     ]
    }
   ],
   "source": [
    "#signal\n",
    "SIG_PATH = '/eos/project/d/dshep/TOPCLASS/DijetAnomaly/VAE_data/events/RSGraviton_WW_NARROW_13TeV_PU40_3.5TeV_NEW_parts/'\n",
    "filename_sig = SIG_PATH + 'RSGraviton_WW_NARROW_13TeV_PU40_3.5TeV_NEW_concat_001.h5'\n",
    "nodes_n, feat_sz, particles_sig, A_sig, A_tilde_sig = prepr.prepare_data(filename_sig,2000)\n",
    "\n",
    "features_out_sig, z_sig, z_mean_sig, z_log_var_sig = gcnvae((particles_sig, A_sig))\n",
    "features_out_sig = features_out_sig.numpy().astype('float32')\n",
    "loss_signal = threeD_loss_manual(particles_sig.astype('float32'),features_out_sig)"
   ]
  },
  {
   "cell_type": "code",
   "execution_count": null,
   "id": "first-dubai",
   "metadata": {},
   "outputs": [],
   "source": []
  },
  {
   "cell_type": "code",
   "execution_count": 61,
   "id": "chief-philip",
   "metadata": {},
   "outputs": [
    {
     "data": {
      "image/png": "[encoded data removed]",
      "text/plain": [
       "<Figure size 432x288 with 1 Axes>"
      ]
     },
     "metadata": {
      "needs_background": "light"
     },
     "output_type": "display_data"
    }
   ],
   "source": [
    "max_score = np.max(np.max(loss_signal))#,np.max(loss_bg_dist))\n",
    "min_score = np.max(np.min(loss_bg))#,np.max(loss_bg_dist))\n",
    "# plot BG\n",
    "plt.figure()\n",
    "plt.hist(loss_bg, bins=100, label='BG', density=True, range=(min_score, max_score), \n",
    "         histtype='step', fill=False, linewidth=1.5,color='g')\n",
    "plt.hist(loss_signal, bins=100, label='SIG', density=True, range=(min_score, max_score), \n",
    "         histtype='step', fill=False, linewidth=1.5,color='r')\n",
    "#plt.semilogy()\n",
    "plt.xlabel(\"VAE Chamfer Loss\")\n",
    "plt.ylabel(\"Probability (a.u.)\")\n",
    "plt.grid(True)\n",
    "plt.legend(loc='upper right')\n",
    "plt.show()"
   ]
  },
  {
   "cell_type": "code",
   "execution_count": 24,
   "id": "turned-lotus",
   "metadata": {},
   "outputs": [
    {
     "data": {
      "text/plain": [
       "90.61405"
      ]
     },
     "execution_count": 24,
     "metadata": {},
     "output_type": "execute_result"
    }
   ],
   "source": [
    "loss_signal.mean()"
   ]
  },
  {
   "cell_type": "code",
   "execution_count": 25,
   "id": "built-thinking",
   "metadata": {},
   "outputs": [
    {
     "data": {
      "text/plain": [
       "88.95781"
      ]
     },
     "execution_count": 25,
     "metadata": {},
     "output_type": "execute_result"
    }
   ],
   "source": [
    "loss_bg.mean()"
   ]
  },
  {
   "cell_type": "code",
   "execution_count": null,
   "id": "everyday-target",
   "metadata": {},
   "outputs": [],
   "source": []
  }
 ],
 "metadata": {
  "kernelspec": {
   "display_name": "Python 3",
   "language": "python",
   "name": "python3"
  },
  "language_info": {
   "codemirror_mode": {
    "name": "ipython",
    "version": 3
   },
   "file_extension": ".py",
   "mimetype": "text/x-python",
   "name": "python",
   "nbconvert_exporter": "python",
   "pygments_lexer": "ipython3",
   "version": "3.8.6"
  }
 },
 "nbformat": 4,
 "nbformat_minor": 5
}
