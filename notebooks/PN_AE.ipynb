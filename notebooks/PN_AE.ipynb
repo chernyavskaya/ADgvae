{
 "cells": [
  {
   "cell_type": "code",
   "execution_count": 1,
   "metadata": {},
   "outputs": [
    {
     "name": "stdout",
     "output_type": "stream",
     "text": [
      "setGPU: Setting GPU to: 0\n"
     ]
    }
   ],
   "source": [
    "import numpy as np\n",
    "import h5py\n",
    "import os\n",
    "import matplotlib.pyplot as plt\n",
    "import tensorflow as tf\n",
    "from tensorflow import keras\n",
    "import setGPU\n",
    "from importlib import reload\n",
    "import sys, os\n",
    "sys.path.append(os.path.abspath(os.path.join('..')))\n",
    "sys.path.append(os.path.abspath(os.path.join('../../')))\n",
    "import vande.analysis.analysis_roc as ar"
   ]
  },
  {
   "cell_type": "code",
   "execution_count": 2,
   "metadata": {},
   "outputs": [
    {
     "name": "stderr",
     "output_type": "stream",
     "text": [
      "Using TensorFlow backend.\n"
     ]
    },
    {
     "data": {
      "text/plain": [
       "<module 'utils.preprocessing' from '/eos/home-n/nchernya/MLHEP/AnomalyDetection/ADgvae/utils/preprocessing.py'>"
      ]
     },
     "execution_count": 2,
     "metadata": {},
     "output_type": "execute_result"
    }
   ],
   "source": [
    "import models.models as models\n",
    "reload(models)\n",
    "import models.losses as losses\n",
    "reload(losses)\n",
    "import utils.preprocessing as prepr\n",
    "reload(prepr)"
   ]
  },
  {
   "cell_type": "code",
   "execution_count": 3,
   "metadata": {},
   "outputs": [],
   "source": [
    "#Data Samples\n",
    "DATA_PATH = '/eos/project/d/dshep/TOPCLASS/DijetAnomaly/VAE_data/events/'\n",
    "\n",
    "TRAIN_NAME = 'qcd_sqrtshatTeV_13TeV_PU40_NEW_sideband'\n",
    "filename_bg = DATA_PATH + TRAIN_NAME + '_parts/' + TRAIN_NAME + '_000.h5'\n",
    "batch_size = 128\n",
    "train_set_size = int((5*10e3//batch_size)*batch_size)"
   ]
  },
  {
   "cell_type": "code",
   "execution_count": 4,
   "metadata": {},
   "outputs": [
    {
     "name": "stderr",
     "output_type": "stream",
     "text": [
      "/eos/home-n/nchernya/MLHEP/AnomalyDetection/ADgvae/utils/preprocessing.py:8: RuntimeWarning: divide by zero encountered in log\n",
      "  return np.where(x==0,-10,np.log(x))\n"
     ]
    },
    {
     "name": "stdout",
     "output_type": "stream",
     "text": [
      "Number of jets = 98135\n",
      "Number of constituents (nodes) = 50\n",
      "Number of features = 3\n"
     ]
    }
   ],
   "source": [
    "nodes_n, feat_sz, particles_bg  = prepr.prepare_data_constituents(filename_bg,train_set_size,0,train_set_size+1)\n"
   ]
  },
  {
   "cell_type": "code",
   "execution_count": 5,
   "metadata": {},
   "outputs": [
    {
     "name": "stdout",
     "output_type": "stream",
     "text": [
      "Number of jets = 19650\n",
      "Number of constituents (nodes) = 50\n",
      "Number of features = 3\n"
     ]
    }
   ],
   "source": [
    "\n",
    "# BG validation\n",
    "VALID_NAME = 'qcd_sqrtshatTeV_13TeV_PU40_NEW_EXT_sideband'\n",
    "filename_bg_valid = DATA_PATH + VALID_NAME + '_parts/' + VALID_NAME + '_000.h5'\n",
    "valid_set_size = int((10e3//batch_size)*batch_size)\n",
    "_,_, particles_bg_valid = prepr.prepare_data_constituents(filename_bg_valid,valid_set_size,0,valid_set_size+1)\n",
    "\n"
   ]
  },
  {
   "cell_type": "code",
   "execution_count": 6,
   "metadata": {},
   "outputs": [
    {
     "name": "stdout",
     "output_type": "stream",
     "text": [
      "Number of jets = 9840\n",
      "Number of constituents (nodes) = 50\n",
      "Number of features = 3\n"
     ]
    }
   ],
   "source": [
    "#BG test\n",
    "_,_, particles_bg_test = prepr.prepare_data_constituents(filename_bg_valid,5000,valid_set_size+1,valid_set_size+5000)\n"
   ]
  },
  {
   "cell_type": "code",
   "execution_count": 7,
   "metadata": {},
   "outputs": [
    {
     "name": "stdout",
     "output_type": "stream",
     "text": [
      "Number of jets = 9966\n",
      "Number of constituents (nodes) = 50\n",
      "Number of features = 3\n"
     ]
    }
   ],
   "source": [
    "#signal\n",
    "SIG_MASS = '3.5'\n",
    "SIG_NAME = 'RSGraviton_WW_NARROW_13TeV_PU40_'+SIG_MASS+'TeV_NEW'\n",
    "filename_sig = DATA_PATH + SIG_NAME + '_parts/' + SIG_NAME + '_concat_001.h5'\n",
    "_,_, particles_sig = prepr.prepare_data_constituents(filename_sig,5000,0,5000)"
   ]
  },
  {
   "cell_type": "code",
   "execution_count": 8,
   "metadata": {},
   "outputs": [],
   "source": [
    "output_file = '/eos/user/n/nchernya/MLHEP/AnomalyDetection/ADgvae/input/QCD_training_data.h5'\n",
    "with h5py.File(output_file, 'w')as outFile:\n",
    "    outFile.create_dataset('particle_bg', data=particles_bg, compression='gzip')\n",
    "    outFile.create_dataset('particle_bg_valid', data=particles_bg_valid, compression='gzip')\n",
    "    outFile.create_dataset('particle_sig', data=particles_bg_valid, compression='gzip')"
   ]
  },
  {
   "cell_type": "code",
   "execution_count": 9,
   "metadata": {},
   "outputs": [
    {
     "data": {
      "image/png": "[encoded data removed]",
      "text/plain": [
       "<Figure size 432x288 with 1 Axes>"
      ]
     },
     "metadata": {
      "needs_background": "light"
     },
     "output_type": "display_data"
    },
    {
     "data": {
      "image/png": "[encoded data removed]",
      "text/plain": [
       "<Figure size 432x288 with 1 Axes>"
      ]
     },
     "metadata": {
      "needs_background": "light"
     },
     "output_type": "display_data"
    },
    {
     "data": {
      "image/png": "[encoded data removed]",
      "text/plain": [
       "<Figure size 432x288 with 1 Axes>"
      ]
     },
     "metadata": {
      "needs_background": "light"
     },
     "output_type": "display_data"
    }
   ],
   "source": [
    "feats = 'eta,phi,pt'.split(',')\n",
    "for i in range(0,3):\n",
    "    xmin = np.quantile(particles_bg[:,:,i].flatten(),0.05)\n",
    "    xmax = np.quantile(particles_bg[:,:,i].flatten(),0.98)\n",
    "    plt.figure()\n",
    "    plt.hist(particles_bg[:,:,i].flatten(), bins=50, label='Input BG', density=True, histtype='step', fill=False, linewidth=2)\n",
    "    plt.xlabel(feats[i])\n",
    "    plt.ylabel(\"Normalized\")\n",
    "    plt.legend(loc='upper right')\n",
    "    #plt.semilogy()\n",
    "    plt.show()"
   ]
  },
  {
   "cell_type": "code",
   "execution_count": null,
   "metadata": {},
   "outputs": [],
   "source": []
  },
  {
   "cell_type": "code",
   "execution_count": 10,
   "metadata": {},
   "outputs": [
    {
     "data": {
      "text/plain": [
       "<module 'models.ParticleNetAE' from '/eos/home-n/nchernya/MLHEP/AnomalyDetection/ADgvae/models/ParticleNetAE.py'>"
      ]
     },
     "execution_count": 10,
     "metadata": {},
     "output_type": "execute_result"
    }
   ],
   "source": [
    "import tensorflow.keras.layers as klayers\n",
    "from tensorflow.keras.optimizers import SGD, Adam, Nadam\n",
    "from tensorflow.keras.callbacks import EarlyStopping, ModelCheckpoint, ReduceLROnPlateau, TensorBoard\n",
    "\n",
    "import models.models as models\n",
    "reload(models)\n",
    "import models.layers as layers\n",
    "reload(layers)\n",
    "import models.custom_functions as funcs\n",
    "reload(funcs)\n",
    "import models.ParticleNetAE as pnae\n",
    "reload(pnae)"
   ]
  },
  {
   "cell_type": "markdown",
   "metadata": {},
   "source": [
    "# Particle Net AE"
   ]
  },
  {
   "cell_type": "code",
   "execution_count": 13,
   "metadata": {},
   "outputs": [],
   "source": [
    "class _DotDict:\n",
    "    pass\n",
    "\n",
    "setting = _DotDict()\n",
    " # conv_params: list of tuple in the format (K, (C1, C2, C3))\n",
    "setting.conv_params = [\n",
    "        (7, (32, 32, 32)),\n",
    "        (7, (64, 64, 64)),\n",
    "        ]\n",
    "# conv_pooling: 'average' or 'max'\n",
    "setting.conv_pooling = 'average'\n",
    "setting.num_points = nodes_n #num of original consituents\n",
    "setting.num_features = feat_sz #num of original features\n",
    "setting.input_shapes = {'points': [nodes_n,feat_sz-1],'features':[nodes_n,feat_sz]}\n",
    "setting.latent_dim = 10\n",
    "setting.ae_type = 'vae'  #ae or vae \n",
    "setting.beta_kl = 1 \n",
    "setting.kl_warmup_time = 0\n",
    "setting.activation = klayers.LeakyReLU(alpha=0.1)\n"
   ]
  },
  {
   "cell_type": "code",
   "execution_count": 14,
   "metadata": {},
   "outputs": [
    {
     "name": "stdout",
     "output_type": "stream",
     "text": [
      "Model: \"ParticleNetBase\"\n",
      "__________________________________________________________________________________________________\n",
      "Layer (type)                    Output Shape         Param #     Connected to                     \n",
      "==================================================================================================\n",
      "points (InputLayer)             [(None, 50, 2)]      0                                            \n",
      "__________________________________________________________________________________________________\n",
      "features (InputLayer)           [(None, 50, 3)]      0                                            \n",
      "__________________________________________________________________________________________________\n",
      "tf_op_layer_Transpose (TensorFl [(None, 2, 50)]      0           points[0][0]                     \n",
      "__________________________________________________________________________________________________\n",
      "tf_op_layer_ExpandDims (TensorF [(None, 50, 1, 3)]   0           features[0][0]                   \n",
      "__________________________________________________________________________________________________\n",
      "tf_op_layer_Mul (TensorFlowOpLa [(None, 50, 2)]      0           points[0][0]                     \n",
      "                                                                 points[0][0]                     \n",
      "__________________________________________________________________________________________________\n",
      "tf_op_layer_BatchMatMulV2 (Tens [(None, 50, 50)]     0           points[0][0]                     \n",
      "                                                                 tf_op_layer_Transpose[0][0]      \n",
      "__________________________________________________________________________________________________\n",
      "tf_op_layer_Mul_1 (TensorFlowOp [(None, 50, 2)]      0           points[0][0]                     \n",
      "                                                                 points[0][0]                     \n",
      "__________________________________________________________________________________________________\n",
      "PN_VAE__fts_bn (BatchNormalizat (None, 50, 1, 3)     12          tf_op_layer_ExpandDims[0][0]     \n",
      "__________________________________________________________________________________________________\n",
      "tf_op_layer_Sum (TensorFlowOpLa [(None, 50, 1)]      0           tf_op_layer_Mul[0][0]            \n",
      "__________________________________________________________________________________________________\n",
      "tf_op_layer_Mul_2 (TensorFlowOp [(None, 50, 50)]     0           tf_op_layer_BatchMatMulV2[0][0]  \n",
      "__________________________________________________________________________________________________\n",
      "tf_op_layer_Sum_1 (TensorFlowOp [(None, 50, 1)]      0           tf_op_layer_Mul_1[0][0]          \n",
      "__________________________________________________________________________________________________\n",
      "tf_op_layer_Squeeze (TensorFlow [(None, 50, 3)]      0           PN_VAE__fts_bn[0][0]             \n",
      "__________________________________________________________________________________________________\n",
      "tf_op_layer_Sub (TensorFlowOpLa [(None, 50, 50)]     0           tf_op_layer_Sum[0][0]            \n",
      "                                                                 tf_op_layer_Mul_2[0][0]          \n",
      "__________________________________________________________________________________________________\n",
      "tf_op_layer_Transpose_1 (Tensor [(None, 1, 50)]      0           tf_op_layer_Sum_1[0][0]          \n",
      "__________________________________________________________________________________________________\n",
      "tf_op_layer_Shape (TensorFlowOp [(3,)]               0           tf_op_layer_Squeeze[0][0]        \n",
      "__________________________________________________________________________________________________\n",
      "tf_op_layer_AddV2 (TensorFlowOp [(None, 50, 50)]     0           tf_op_layer_Sub[0][0]            \n",
      "                                                                 tf_op_layer_Transpose_1[0][0]    \n",
      "__________________________________________________________________________________________________\n",
      "tf_op_layer_strided_slice_1 (Te [()]                 0           tf_op_layer_Shape[0][0]          \n",
      "__________________________________________________________________________________________________\n",
      "tf_op_layer_Neg (TensorFlowOpLa [(None, 50, 50)]     0           tf_op_layer_AddV2[0][0]          \n",
      "__________________________________________________________________________________________________\n",
      "tf_op_layer_Range (TensorFlowOp [(None,)]            0           tf_op_layer_strided_slice_1[0][0]\n",
      "__________________________________________________________________________________________________\n",
      "tf_op_layer_TopKV2 (TensorFlowO [(None, 50, 8), (Non 0           tf_op_layer_Neg[0][0]            \n",
      "__________________________________________________________________________________________________\n",
      "tf_op_layer_Reshape (TensorFlow [(None, 1, 1, 1)]    0           tf_op_layer_Range[0][0]          \n",
      "__________________________________________________________________________________________________\n",
      "tf_op_layer_strided_slice (Tens [(None, 50, 7)]      0           tf_op_layer_TopKV2[0][1]         \n",
      "__________________________________________________________________________________________________\n",
      "tf_op_layer_Tile (TensorFlowOpL [(None, 50, 7, 1)]   0           tf_op_layer_Reshape[0][0]        \n",
      "__________________________________________________________________________________________________\n",
      "tf_op_layer_ExpandDims_1 (Tenso [(None, 50, 7, 1)]   0           tf_op_layer_strided_slice[0][0]  \n",
      "__________________________________________________________________________________________________\n",
      "tf_op_layer_ExpandDims_2 (Tenso [(None, 50, 1, 3)]   0           tf_op_layer_Squeeze[0][0]        \n",
      "__________________________________________________________________________________________________\n",
      "tf_op_layer_concat (TensorFlowO [(None, 50, 7, 2)]   0           tf_op_layer_Tile[0][0]           \n",
      "                                                                 tf_op_layer_ExpandDims_1[0][0]   \n",
      "__________________________________________________________________________________________________\n",
      "tf_op_layer_Tile_1 (TensorFlowO [(None, 50, 7, 3)]   0           tf_op_layer_ExpandDims_2[0][0]   \n",
      "__________________________________________________________________________________________________\n",
      "tf_op_layer_GatherNd (TensorFlo [(None, 50, 7, 3)]   0           tf_op_layer_Squeeze[0][0]        \n",
      "                                                                 tf_op_layer_concat[0][0]         \n",
      "__________________________________________________________________________________________________\n",
      "tf_op_layer_Sub_1 (TensorFlowOp [(None, 50, 7, 3)]   0           tf_op_layer_GatherNd[0][0]       \n",
      "                                                                 tf_op_layer_Tile_1[0][0]         \n",
      "__________________________________________________________________________________________________\n",
      "tf_op_layer_concat_1 (TensorFlo [(None, 50, 7, 6)]   0           tf_op_layer_Tile_1[0][0]         \n",
      "                                                                 tf_op_layer_Sub_1[0][0]          \n",
      "__________________________________________________________________________________________________\n",
      "PN_VAE__0_conv0 (Conv2D)        (None, 50, 7, 32)    192         tf_op_layer_concat_1[0][0]       \n",
      "__________________________________________________________________________________________________\n",
      "PN_VAE__0_bn0 (BatchNormalizati (None, 50, 7, 32)    128         PN_VAE__0_conv0[0][0]            \n",
      "__________________________________________________________________________________________________\n",
      "PN_VAE__0_act0 (Activation)     (None, 50, 7, 32)    0           PN_VAE__0_bn0[0][0]              \n",
      "__________________________________________________________________________________________________\n",
      "PN_VAE__0_conv1 (Conv2D)        (None, 50, 7, 32)    1024        PN_VAE__0_act0[0][0]             \n",
      "__________________________________________________________________________________________________\n",
      "PN_VAE__0_bn1 (BatchNormalizati (None, 50, 7, 32)    128         PN_VAE__0_conv1[0][0]            \n",
      "__________________________________________________________________________________________________\n",
      "PN_VAE__0_act1 (Activation)     (None, 50, 7, 32)    0           PN_VAE__0_bn1[0][0]              \n",
      "__________________________________________________________________________________________________\n",
      "tf_op_layer_ExpandDims_3 (Tenso [(None, 50, 1, 3)]   0           tf_op_layer_Squeeze[0][0]        \n",
      "__________________________________________________________________________________________________\n",
      "PN_VAE__0_conv2 (Conv2D)        (None, 50, 7, 32)    1024        PN_VAE__0_act1[0][0]             \n",
      "__________________________________________________________________________________________________\n",
      "PN_VAE__0_sc_conv (Conv2D)      (None, 50, 1, 32)    96          tf_op_layer_ExpandDims_3[0][0]   \n",
      "__________________________________________________________________________________________________\n",
      "PN_VAE__0_bn2 (BatchNormalizati (None, 50, 7, 32)    128         PN_VAE__0_conv2[0][0]            \n",
      "__________________________________________________________________________________________________\n",
      "PN_VAE__0_sc_bn (BatchNormaliza (None, 50, 1, 32)    128         PN_VAE__0_sc_conv[0][0]          \n",
      "__________________________________________________________________________________________________\n",
      "PN_VAE__0_act2 (Activation)     (None, 50, 7, 32)    0           PN_VAE__0_bn2[0][0]              \n",
      "__________________________________________________________________________________________________\n",
      "tf_op_layer_Transpose_2 (Tensor [(None, 2, 50)]      0           points[0][0]                     \n",
      "__________________________________________________________________________________________________\n",
      "tf_op_layer_Squeeze_1 (TensorFl [(None, 50, 32)]     0           PN_VAE__0_sc_bn[0][0]            \n",
      "__________________________________________________________________________________________________\n",
      "tf_op_layer_Mean (TensorFlowOpL [(None, 50, 32)]     0           PN_VAE__0_act2[0][0]             \n",
      "__________________________________________________________________________________________________\n",
      "tf_op_layer_Mul_3 (TensorFlowOp [(None, 50, 2)]      0           points[0][0]                     \n",
      "                                                                 points[0][0]                     \n",
      "__________________________________________________________________________________________________\n",
      "tf_op_layer_BatchMatMulV2_1 (Te [(None, 50, 50)]     0           points[0][0]                     \n",
      "                                                                 tf_op_layer_Transpose_2[0][0]    \n",
      "__________________________________________________________________________________________________\n",
      "tf_op_layer_Mul_4 (TensorFlowOp [(None, 50, 2)]      0           points[0][0]                     \n",
      "                                                                 points[0][0]                     \n",
      "__________________________________________________________________________________________________\n",
      "tf_op_layer_AddV2_1 (TensorFlow [(None, 50, 32)]     0           tf_op_layer_Squeeze_1[0][0]      \n",
      "                                                                 tf_op_layer_Mean[0][0]           \n",
      "__________________________________________________________________________________________________\n",
      "tf_op_layer_Sum_2 (TensorFlowOp [(None, 50, 1)]      0           tf_op_layer_Mul_3[0][0]          \n",
      "__________________________________________________________________________________________________\n",
      "tf_op_layer_Mul_5 (TensorFlowOp [(None, 50, 50)]     0           tf_op_layer_BatchMatMulV2_1[0][0]\n",
      "__________________________________________________________________________________________________\n",
      "tf_op_layer_Sum_3 (TensorFlowOp [(None, 50, 1)]      0           tf_op_layer_Mul_4[0][0]          \n",
      "__________________________________________________________________________________________________\n",
      "PN_VAE__0_sc_act (Activation)   (None, 50, 32)       0           tf_op_layer_AddV2_1[0][0]        \n",
      "__________________________________________________________________________________________________\n",
      "tf_op_layer_Sub_2 (TensorFlowOp [(None, 50, 50)]     0           tf_op_layer_Sum_2[0][0]          \n",
      "                                                                 tf_op_layer_Mul_5[0][0]          \n",
      "__________________________________________________________________________________________________\n",
      "tf_op_layer_Transpose_3 (Tensor [(None, 1, 50)]      0           tf_op_layer_Sum_3[0][0]          \n",
      "__________________________________________________________________________________________________\n",
      "tf_op_layer_Shape_1 (TensorFlow [(3,)]               0           PN_VAE__0_sc_act[0][0]           \n",
      "__________________________________________________________________________________________________\n",
      "tf_op_layer_AddV2_2 (TensorFlow [(None, 50, 50)]     0           tf_op_layer_Sub_2[0][0]          \n",
      "                                                                 tf_op_layer_Transpose_3[0][0]    \n",
      "__________________________________________________________________________________________________\n",
      "tf_op_layer_strided_slice_3 (Te [()]                 0           tf_op_layer_Shape_1[0][0]        \n",
      "__________________________________________________________________________________________________\n",
      "tf_op_layer_Neg_1 (TensorFlowOp [(None, 50, 50)]     0           tf_op_layer_AddV2_2[0][0]        \n",
      "__________________________________________________________________________________________________\n",
      "tf_op_layer_Range_1 (TensorFlow [(None,)]            0           tf_op_layer_strided_slice_3[0][0]\n",
      "__________________________________________________________________________________________________\n",
      "tf_op_layer_TopKV2_1 (TensorFlo [(None, 50, 8), (Non 0           tf_op_layer_Neg_1[0][0]          \n",
      "__________________________________________________________________________________________________\n",
      "tf_op_layer_Reshape_1 (TensorFl [(None, 1, 1, 1)]    0           tf_op_layer_Range_1[0][0]        \n",
      "__________________________________________________________________________________________________\n",
      "tf_op_layer_strided_slice_2 (Te [(None, 50, 7)]      0           tf_op_layer_TopKV2_1[0][1]       \n",
      "__________________________________________________________________________________________________\n",
      "tf_op_layer_Tile_2 (TensorFlowO [(None, 50, 7, 1)]   0           tf_op_layer_Reshape_1[0][0]      \n",
      "__________________________________________________________________________________________________\n",
      "tf_op_layer_ExpandDims_4 (Tenso [(None, 50, 7, 1)]   0           tf_op_layer_strided_slice_2[0][0]\n",
      "__________________________________________________________________________________________________\n",
      "tf_op_layer_ExpandDims_5 (Tenso [(None, 50, 1, 32)]  0           PN_VAE__0_sc_act[0][0]           \n",
      "__________________________________________________________________________________________________\n",
      "tf_op_layer_concat_2 (TensorFlo [(None, 50, 7, 2)]   0           tf_op_layer_Tile_2[0][0]         \n",
      "                                                                 tf_op_layer_ExpandDims_4[0][0]   \n",
      "__________________________________________________________________________________________________\n",
      "tf_op_layer_Tile_3 (TensorFlowO [(None, 50, 7, 32)]  0           tf_op_layer_ExpandDims_5[0][0]   \n",
      "__________________________________________________________________________________________________\n",
      "tf_op_layer_GatherNd_1 (TensorF [(None, 50, 7, 32)]  0           PN_VAE__0_sc_act[0][0]           \n",
      "                                                                 tf_op_layer_concat_2[0][0]       \n",
      "__________________________________________________________________________________________________\n",
      "tf_op_layer_Sub_3 (TensorFlowOp [(None, 50, 7, 32)]  0           tf_op_layer_GatherNd_1[0][0]     \n",
      "                                                                 tf_op_layer_Tile_3[0][0]         \n",
      "__________________________________________________________________________________________________\n",
      "tf_op_layer_concat_3 (TensorFlo [(None, 50, 7, 64)]  0           tf_op_layer_Tile_3[0][0]         \n",
      "                                                                 tf_op_layer_Sub_3[0][0]          \n",
      "__________________________________________________________________________________________________\n",
      "PN_VAE__1_conv0 (Conv2D)        (None, 50, 7, 64)    4096        tf_op_layer_concat_3[0][0]       \n",
      "__________________________________________________________________________________________________\n",
      "PN_VAE__1_bn0 (BatchNormalizati (None, 50, 7, 64)    256         PN_VAE__1_conv0[0][0]            \n",
      "__________________________________________________________________________________________________\n",
      "PN_VAE__1_act0 (Activation)     (None, 50, 7, 64)    0           PN_VAE__1_bn0[0][0]              \n",
      "__________________________________________________________________________________________________\n",
      "PN_VAE__1_conv1 (Conv2D)        (None, 50, 7, 64)    4096        PN_VAE__1_act0[0][0]             \n",
      "__________________________________________________________________________________________________\n",
      "PN_VAE__1_bn1 (BatchNormalizati (None, 50, 7, 64)    256         PN_VAE__1_conv1[0][0]            \n",
      "__________________________________________________________________________________________________\n",
      "PN_VAE__1_act1 (Activation)     (None, 50, 7, 64)    0           PN_VAE__1_bn1[0][0]              \n",
      "__________________________________________________________________________________________________\n",
      "tf_op_layer_ExpandDims_6 (Tenso [(None, 50, 1, 32)]  0           PN_VAE__0_sc_act[0][0]           \n",
      "__________________________________________________________________________________________________\n",
      "PN_VAE__1_conv2 (Conv2D)        (None, 50, 7, 64)    4096        PN_VAE__1_act1[0][0]             \n",
      "__________________________________________________________________________________________________\n",
      "PN_VAE__1_sc_conv (Conv2D)      (None, 50, 1, 64)    2048        tf_op_layer_ExpandDims_6[0][0]   \n",
      "__________________________________________________________________________________________________\n",
      "PN_VAE__1_bn2 (BatchNormalizati (None, 50, 7, 64)    256         PN_VAE__1_conv2[0][0]            \n",
      "__________________________________________________________________________________________________\n",
      "PN_VAE__1_sc_bn (BatchNormaliza (None, 50, 1, 64)    256         PN_VAE__1_sc_conv[0][0]          \n",
      "__________________________________________________________________________________________________\n",
      "PN_VAE__1_act2 (Activation)     (None, 50, 7, 64)    0           PN_VAE__1_bn2[0][0]              \n",
      "__________________________________________________________________________________________________\n",
      "tf_op_layer_Squeeze_2 (TensorFl [(None, 50, 64)]     0           PN_VAE__1_sc_bn[0][0]            \n",
      "__________________________________________________________________________________________________\n",
      "tf_op_layer_Mean_1 (TensorFlowO [(None, 50, 64)]     0           PN_VAE__1_act2[0][0]             \n",
      "__________________________________________________________________________________________________\n",
      "tf_op_layer_AddV2_3 (TensorFlow [(None, 50, 64)]     0           tf_op_layer_Squeeze_2[0][0]      \n",
      "                                                                 tf_op_layer_Mean_1[0][0]         \n",
      "__________________________________________________________________________________________________\n",
      "PN_VAE__1_sc_act (Activation)   (None, 50, 64)       0           tf_op_layer_AddV2_3[0][0]        \n",
      "__________________________________________________________________________________________________\n",
      "tf_op_layer_Mean_2 (TensorFlowO [(None, 64)]         0           PN_VAE__1_sc_act[0][0]           \n",
      "==================================================================================================\n",
      "Total params: 18,220\n",
      "Trainable params: 17,446\n",
      "Non-trainable params: 774\n",
      "__________________________________________________________________________________________________\n",
      "Model: \"Encoder\"\n",
      "_________________________________________________________________\n",
      "Layer (type)                 Output Shape              Param #   \n",
      "=================================================================\n",
      "encoder_input (InputLayer)   [(None, 64)]              0         \n",
      "_________________________________________________________________\n",
      "SamplingLayer (Functional)   [(None, 10), (None, 10),  1300      \n",
      "=================================================================\n",
      "Total params: 1,300\n",
      "Trainable params: 1,300\n",
      "Non-trainable params: 0\n",
      "_________________________________________________________________\n"
     ]
    },
    {
     "name": "stdout",
     "output_type": "stream",
     "text": [
      "Model: \"Decoder\"\n",
      "_________________________________________________________________\n",
      "Layer (type)                 Output Shape              Param #   \n",
      "=================================================================\n",
      "decoder_input (InputLayer)   [(None, 10)]              0         \n",
      "_________________________________________________________________\n",
      "dense (Dense)                (None, 1250)              13750     \n",
      "_________________________________________________________________\n",
      "PN_VAE__bn_1 (BatchNormaliza (None, 1250)              5000      \n",
      "_________________________________________________________________\n",
      "reshape (Reshape)            (None, 50, 25)            0         \n",
      "_________________________________________________________________\n",
      "tf_op_layer_ExpandDims_7 (Te [(None, 50, 1, 25)]       0         \n",
      "_________________________________________________________________\n",
      "PN_VAE__conv_0 (Conv2D)      (None, 50, 1, 9)          234       \n",
      "_________________________________________________________________\n",
      "tf_op_layer_Squeeze_3 (Tenso [(None, 50, 9)]           0         \n",
      "_________________________________________________________________\n",
      "PN_VAE__bn_2 (BatchNormaliza (None, 50, 9)             36        \n",
      "_________________________________________________________________\n",
      "tf_op_layer_ExpandDims_8 (Te [(None, 50, 1, 9)]        0         \n",
      "_________________________________________________________________\n",
      "PN_VAE__conv_2 (Conv2D)      (None, 50, 1, 6)          60        \n",
      "_________________________________________________________________\n",
      "tf_op_layer_Squeeze_4 (Tenso [(None, 50, 6)]           0         \n",
      "_________________________________________________________________\n",
      "PN_VAE__bn_3 (BatchNormaliza (None, 50, 6)             24        \n",
      "_________________________________________________________________\n",
      "tf_op_layer_ExpandDims_9 (Te [(None, 50, 1, 6)]        0         \n",
      "_________________________________________________________________\n",
      "PN_VAE__conv_out (Conv2D)    (None, 50, 1, 3)          21        \n",
      "_________________________________________________________________\n",
      "tf_op_layer_Squeeze_5 (Tenso [(None, 50, 3)]           0         \n",
      "=================================================================\n",
      "Total params: 19,125\n",
      "Trainable params: 16,595\n",
      "Non-trainable params: 2,530\n",
      "_________________________________________________________________\n"
     ]
    }
   ],
   "source": [
    "model = pnae.PNVAE(setting=setting,name='PN_VAE_')\n"
   ]
  },
  {
   "cell_type": "code",
   "execution_count": null,
   "metadata": {},
   "outputs": [
    {
     "name": "stdout",
     "output_type": "stream",
     "text": [
      "Epoch 1/3\n",
      "390/390 [==============================] - 9s 24ms/step - loss: 0.1338 - loss_reco: 0.1337 - loss_latent: 1.3461e-04 - val_loss: 0.0512 - val_loss_reco: 0.0512 - val_loss_latent: 8.1865e-06\n",
      "Epoch 2/3\n",
      "259/390 [==================>...........] - ETA: 2s - loss: 0.0438 - loss_reco: 0.0438 - loss_latent: 7.1271e-06"
     ]
    }
   ],
   "source": [
    "optim = Adam(learning_rate=0.001)\n",
    "\n",
    "model.compile(optimizer=optim)\n",
    "\n",
    "# early stopping callback\n",
    "es = EarlyStopping(monitor='val_loss', patience=10)\n",
    "\n",
    "# Learning rate scheduler \n",
    "ls = ReduceLROnPlateau(monitor='val_loss', factor=0.2, patience=10)\n",
    "\n",
    "kl_beta_callback = models.KLWarmupCallback()   \n",
    "\n",
    "\n",
    "history = model.fit((particles_bg[:,:,0:2], particles_bg) ,  particles_bg,\n",
    "                    validation_data = ((particles_bg_valid[:,:,0:2], particles_bg_valid) , particles_bg_valid),\n",
    "                    epochs=3, \n",
    "                    batch_size=128, \n",
    "                    verbose=1,\n",
    "                    callbacks=[es,ls,kl_beta_callback]) "
   ]
  },
  {
   "cell_type": "code",
   "execution_count": null,
   "metadata": {},
   "outputs": [],
   "source": []
  },
  {
   "cell_type": "code",
   "execution_count": 104,
   "metadata": {},
   "outputs": [],
   "source": [
    "#models_dir = '/eos/user/n/nchernya/MLHEP/AnomalyDetection/ADgvae/output_models/'\n",
    "#model_path = models_dir + \"output_model_saved_PN_AE_2021_07_30_T_09_26\"\n",
    "#loaded_model = tf.keras.models.load_model(\n",
    "#    model_path,\n",
    "#    custom_objects={\"PN_AE\": pn.get_particle_net_lite_ae, \"threeD_loss\":losses.threeD_loss}\n",
    "#)\n",
    "\n",
    "#weights_path = models_dir +'PN_AE_weights_2021_07_29_T_18_19.25-0.023.hdf5'\n",
    "#loaded_model.load_weights(\n",
    "#    weights_path, by_name=True, skip_mismatch=False)"
   ]
  },
  {
   "cell_type": "code",
   "execution_count": null,
   "metadata": {},
   "outputs": [],
   "source": []
  },
  {
   "cell_type": "code",
   "execution_count": null,
   "metadata": {},
   "outputs": [],
   "source": [
    "#model = loaded_model\n",
    "\n",
    "_,Y_bg_predict = model.predict([particles_bg_test[:,:,0:2],particles_bg_test])\n",
    "_,Y_sig_predict = model.predict([particles_sig[:,:,0:2],particles_sig])"
   ]
  },
  {
   "cell_type": "code",
   "execution_count": null,
   "metadata": {},
   "outputs": [],
   "source": [
    "loss_bg = losses.threeD_loss_manual(particles_bg_test,Y_bg_predict)\n",
    "loss_sig = losses.threeD_loss_manual(particles_sig,Y_sig_predict)\n",
    "#loss_bg = losses.mse_loss_manual(particles_bg_test,Y_bg_predict)\n",
    "#loss_sig = losses.mse_loss_manual(particles_sig,Y_sig_predict)\n",
    "\n",
    "\n",
    "plt.style.use('/eos/user/n/nchernya/MLHEP/AnomalyDetection/ADgvae/utils/adfigstyle.mplstyle')\n",
    "\n",
    "max_score = np.quantile(loss_sig,0.99)#,np.max(loss_bg_dist))\n",
    "min_score = np.min(loss_bg)#,np.max(loss_bg_dist))\n",
    "bins = 30\n",
    "# plot BG\n",
    "plt.figure()\n",
    "plt.hist(loss_bg, bins=bins, label='BG', density=True, range=(min_score, max_score), \n",
    "         histtype='step', fill=False, linewidth=1.5)\n",
    "plt.hist(loss_sig, bins=bins, label='SIG', density=True, range=(min_score, max_score), \n",
    "         histtype='step', linestyle='--',fill=False, linewidth=1.5)\n",
    "#plt.semilogy()\n",
    "plt.xlabel(\"VAE Chamfer Loss\")\n",
    "plt.ylabel(\"Normalized Dist.\")\n",
    "plt.legend(loc='upper right')\n",
    "savename = '/eos/user/n/nchernya/MLHEP/AnomalyDetection/ADgvae/figs/reco_edgeconv_pn_ae.pdf'\n",
    "plt.savefig(savename)\n",
    "plt.show()"
   ]
  },
  {
   "cell_type": "code",
   "execution_count": null,
   "metadata": {},
   "outputs": [],
   "source": [
    "plt.style.use('/eos/user/n/nchernya/MLHEP/AnomalyDetection/ADgvae/utils/adfigstyle.mplstyle')\n",
    "for i in range(0,len(feats)):\n",
    "    #xmin = np.quantile(particles_bg[:,:,i].flatten(),0.)\n",
    "    #xmax = np.quantile(particles_bg[:,:,i].flatten(),1)\n",
    "    xmin = np.min([np.min(particles_bg[:,:,i].flatten()),np.min(Y_bg_predict[:,:,i].flatten())])\n",
    "    xmax = np.max([np.max(particles_bg[:,:,i].flatten()),np.max(Y_bg_predict[:,:,i].flatten())])\n",
    "    n_bins = 40\n",
    "    plot_range = (xmin,xmax)\n",
    "    plt.figure()\n",
    "    _,bins,_ = plt.hist(particles_bg_test[:,:,i].flatten(), bins=n_bins, range = plot_range,label='Input BG', density=True, histtype='step', fill=False, linewidth=2)\n",
    "    _,_,_ = plt.hist(particles_sig[:,:,i].flatten(), bins=bins, label='Input SIG',density=True, histtype='step', fill=False, linewidth=2)\n",
    "    _,_,_ = plt.hist(Y_bg_predict[:,:,i].flatten(), bins=bins, label='Reco. BG', linestyle='--',density=True, histtype='step', fill=False, linewidth=2)\n",
    "    _,_,_ = plt.hist(Y_sig_predict[:,:,i].flatten(), bins=bins, label='Reco. SIG', linestyle=':',density=True, histtype='step', fill=False, linewidth=2)\n",
    "    plt.xlabel(feats[i])\n",
    "    plt.ylabel(\"Normalized\")\n",
    "    plt.legend(bbox_to_anchor=(1., 1.),fontsize=15)\n",
    "    plt.semilogy()\n",
    "    savename = '/eos/user/n/nchernya/MLHEP/AnomalyDetection/ADgvae/figs/reco_edgeconv_pn_ae_{}_test.pdf'.format(feats[i])\n",
    "    plt.savefig(savename)\n",
    "    plt.show()"
   ]
  },
  {
   "cell_type": "code",
   "execution_count": null,
   "metadata": {},
   "outputs": [],
   "source": [
    "neg_class_losses = [loss_bg.tolist()]\n",
    "pos_class_losses = [loss_sig.tolist()]\n",
    "\n",
    "plt.style.use('/eos/user/n/nchernya/MLHEP/AnomalyDetection/ADgvae/utils/adfigstyle.mplstyle')\n",
    "ar.plot_roc( neg_class_losses, pos_class_losses, legend=['PN AE'], title='ROC ',\n",
    "            plot_name='ROC_pnae_test', fig_dir='/eos/user/n/nchernya/MLHEP/AnomalyDetection/ADgvae/figs/',log_x=False )\n"
   ]
  },
  {
   "cell_type": "code",
   "execution_count": null,
   "metadata": {},
   "outputs": [],
   "source": []
  },
  {
   "cell_type": "code",
   "execution_count": null,
   "metadata": {},
   "outputs": [],
   "source": []
  },
  {
   "cell_type": "code",
   "execution_count": null,
   "metadata": {},
   "outputs": [],
   "source": []
  },
  {
   "cell_type": "code",
   "execution_count": 56,
   "metadata": {},
   "outputs": [],
   "source": [
    "#dataset= tf.data.Dataset.from_tensor_slices((particles_bg[:,:,0:2], particles_bg))\n"
   ]
  },
  {
   "cell_type": "code",
   "execution_count": null,
   "metadata": {},
   "outputs": [],
   "source": []
  },
  {
   "cell_type": "code",
   "execution_count": 174,
   "metadata": {},
   "outputs": [
    {
     "data": {
      "text/plain": [
       "(array([[ 0.,  3.,  0.,  1.,  1.,  4.,  0.,  0.,  4.,  0.,  3.,  2.,  1.,\n",
       "          0.,  0.,  3.,  6.,  2.,  4.,  1.,  2.,  7.,  6.,  1.,  4.,  4.,\n",
       "          4.,  1.,  3.,  3.,  4.,  0.,  3.,  1.,  2.,  2.,  0.,  2.,  1.,\n",
       "          3.,  3.,  3.,  1.,  2.,  2.,  0.,  0.,  0.,  0.,  1.],\n",
       "        [ 1.,  1.,  1.,  0.,  2.,  1.,  0.,  2.,  1.,  0.,  2.,  0.,  2.,\n",
       "          2.,  3.,  4.,  2.,  4.,  2.,  5.,  4.,  4.,  4.,  6.,  1.,  3.,\n",
       "          4.,  5.,  5.,  3.,  0.,  1.,  3.,  3.,  1.,  1.,  0.,  3.,  1.,\n",
       "          3.,  2.,  0.,  3.,  2.,  1.,  0.,  0.,  1.,  0.,  1.],\n",
       "        [ 0.,  0.,  0.,  0.,  0.,  0.,  0.,  0.,  0.,  0.,  0.,  0.,  0.,\n",
       "          0.,  0.,  0.,  0.,  0.,  0.,  0.,  0.,  0.,  0.,  0.,  0.,  0.,\n",
       "          0.,  0.,  0.,  0.,  0.,  0.,  0.,  0.,  0.,  7., 12., 13., 15.,\n",
       "         15., 10.,  8.,  6.,  4.,  1.,  3.,  1.,  0.,  1.,  4.]]),\n",
       " array([-0.7176487 , -0.6873638 , -0.657079  , -0.6267941 , -0.5965093 ,\n",
       "        -0.5662244 , -0.5359396 , -0.5056547 , -0.47536984, -0.445085  ,\n",
       "        -0.41480014, -0.3845153 , -0.35423043, -0.32394555, -0.2936607 ,\n",
       "        -0.26337585, -0.233091  , -0.20280614, -0.1725213 , -0.14223643,\n",
       "        -0.11195157, -0.08166672, -0.05138187, -0.02109701,  0.00918784,\n",
       "         0.0394727 ,  0.06975755,  0.10004241,  0.13032727,  0.16061212,\n",
       "         0.19089697,  0.22118182,  0.2514667 ,  0.28175154,  0.3120364 ,\n",
       "         0.34232125,  0.3726061 ,  0.40289095,  0.43317583,  0.46346068,\n",
       "         0.49374554,  0.5240304 ,  0.55431527,  0.5846001 ,  0.614885  ,\n",
       "         0.6451698 ,  0.6754547 ,  0.7057395 ,  0.7360244 ,  0.7663092 ,\n",
       "         0.7965941 ], dtype=float32),\n",
       " <a list of 3 BarContainer objects>)"
      ]
     },
     "execution_count": 174,
     "metadata": {},
     "output_type": "execute_result"
    },
    {
     "data": {
      "image/png": "[encoded data removed]",
      "text/plain": [
       "<Figure size 576x504 with 1 Axes>"
      ]
     },
     "metadata": {
      "needs_background": "light"
     },
     "output_type": "display_data"
    }
   ],
   "source": [
    "#plt.hist(particles_bg[2],bins=50) # trasnformed, I think it does this double peak, \n",
    "#because features and coordinates are summed (from the shortcut)\n",
    "#could batch norm help with this?\n",
    "\n",
    "#also try to do std transformation of pt instead"
   ]
  },
  {
   "cell_type": "code",
   "execution_count": null,
   "metadata": {},
   "outputs": [],
   "source": [
    "#looks like batch normalization helped with the double peak"
   ]
  },
  {
   "cell_type": "code",
   "execution_count": null,
   "metadata": {},
   "outputs": [],
   "source": [
    "#try to remove batch norm before latent space"
   ]
  },
  {
   "cell_type": "code",
   "execution_count": null,
   "metadata": {},
   "outputs": [],
   "source": []
  }
 ],
 "metadata": {
  "kernelspec": {
   "display_name": "Python 3",
   "language": "python",
   "name": "python3"
  },
  "language_info": {
   "codemirror_mode": {
    "name": "ipython",
    "version": 3
   },
   "file_extension": ".py",
   "mimetype": "text/x-python",
   "name": "python",
   "nbconvert_exporter": "python",
   "pygments_lexer": "ipython3",
   "version": "3.7.6"
  }
 },
 "nbformat": 4,
 "nbformat_minor": 2
}
