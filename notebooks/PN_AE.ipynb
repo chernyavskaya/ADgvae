{
 "cells": [
  {
   "cell_type": "code",
   "execution_count": 1,
   "metadata": {},
   "outputs": [
    {
     "name": "stdout",
     "output_type": "stream",
     "text": [
      "setGPU: Setting GPU to: 0\n"
     ]
    }
   ],
   "source": [
    "import numpy as np\n",
    "import h5py\n",
    "import os\n",
    "import matplotlib.pyplot as plt\n",
    "import tensorflow as tf\n",
    "from tensorflow import keras\n",
    "import setGPU\n",
    "from importlib import reload\n",
    "import sys, os\n",
    "sys.path.append(os.path.abspath(os.path.join('..')))\n",
    "sys.path.append(os.path.abspath(os.path.join('../../')))\n",
    "import vande.analysis.analysis_roc as ar"
   ]
  },
  {
   "cell_type": "code",
   "execution_count": 2,
   "metadata": {},
   "outputs": [
    {
     "name": "stderr",
     "output_type": "stream",
     "text": [
      "Using TensorFlow backend.\n"
     ]
    },
    {
     "data": {
      "text/plain": [
       "<module 'utils.preprocessing' from '/eos/home-n/nchernya/MLHEP/AnomalyDetection/ADgvae/utils/preprocessing.py'>"
      ]
     },
     "execution_count": 2,
     "metadata": {},
     "output_type": "execute_result"
    }
   ],
   "source": [
    "import models.models as models\n",
    "reload(models)\n",
    "import models.losses as losses\n",
    "reload(losses)\n",
    "import utils.preprocessing as prepr\n",
    "reload(prepr)"
   ]
  },
  {
   "cell_type": "code",
   "execution_count": 3,
   "metadata": {},
   "outputs": [],
   "source": [
    "#Data Samples\n",
    "DATA_PATH = '/eos/project/d/dshep/TOPCLASS/DijetAnomaly/VAE_data/events/'\n",
    "\n",
    "TRAIN_NAME = 'qcd_sqrtshatTeV_13TeV_PU40_NEW_sideband'\n",
    "filename_bg = DATA_PATH + TRAIN_NAME + '_parts/' + TRAIN_NAME + '_000.h5'\n",
    "batch_size = 128\n",
    "train_set_size = int((5*10e3//batch_size)*batch_size)"
   ]
  },
  {
   "cell_type": "code",
   "execution_count": 4,
   "metadata": {},
   "outputs": [
    {
     "name": "stderr",
     "output_type": "stream",
     "text": [
      "/eos/home-n/nchernya/MLHEP/AnomalyDetection/ADgvae/utils/preprocessing.py:8: RuntimeWarning: divide by zero encountered in log\n",
      "  return np.where(x==0,-10,np.log(x))\n"
     ]
    },
    {
     "name": "stdout",
     "output_type": "stream",
     "text": [
      "Number of jets = 98135\n",
      "Number of constituents (nodes) = 50\n",
      "Number of features = 3\n"
     ]
    }
   ],
   "source": [
    "nodes_n, feat_sz, particles_bg  = prepr.prepare_data_constituents(filename_bg,train_set_size,0,train_set_size+1)\n"
   ]
  },
  {
   "cell_type": "code",
   "execution_count": 5,
   "metadata": {},
   "outputs": [
    {
     "name": "stdout",
     "output_type": "stream",
     "text": [
      "Number of jets = 19650\n",
      "Number of constituents (nodes) = 50\n",
      "Number of features = 3\n"
     ]
    }
   ],
   "source": [
    "\n",
    "# BG validation\n",
    "VALID_NAME = 'qcd_sqrtshatTeV_13TeV_PU40_NEW_EXT_sideband'\n",
    "filename_bg_valid = DATA_PATH + VALID_NAME + '_parts/' + VALID_NAME + '_000.h5'\n",
    "valid_set_size = int((10e3//batch_size)*batch_size)\n",
    "_,_, particles_bg_valid = prepr.prepare_data_constituents(filename_bg_valid,valid_set_size,0,valid_set_size+1)\n",
    "\n"
   ]
  },
  {
   "cell_type": "code",
   "execution_count": 6,
   "metadata": {},
   "outputs": [
    {
     "name": "stdout",
     "output_type": "stream",
     "text": [
      "Number of jets = 9840\n",
      "Number of constituents (nodes) = 50\n",
      "Number of features = 3\n"
     ]
    }
   ],
   "source": [
    "#BG test\n",
    "_,_, particles_bg_test = prepr.prepare_data_constituents(filename_bg_valid,5000,valid_set_size+1,valid_set_size+5000)\n"
   ]
  },
  {
   "cell_type": "code",
   "execution_count": 7,
   "metadata": {},
   "outputs": [
    {
     "name": "stdout",
     "output_type": "stream",
     "text": [
      "Number of jets = 9966\n",
      "Number of constituents (nodes) = 50\n",
      "Number of features = 3\n"
     ]
    }
   ],
   "source": [
    "#signal\n",
    "SIG_MASS = '3.5'\n",
    "SIG_NAME = 'RSGraviton_WW_NARROW_13TeV_PU40_'+SIG_MASS+'TeV_NEW'\n",
    "filename_sig = DATA_PATH + SIG_NAME + '_parts/' + SIG_NAME + '_concat_001.h5'\n",
    "_,_, particles_sig = prepr.prepare_data_constituents(filename_sig,5000,0,5000)"
   ]
  },
  {
   "cell_type": "code",
   "execution_count": 8,
   "metadata": {},
   "outputs": [],
   "source": [
    "output_file = '/eos/user/n/nchernya/MLHEP/AnomalyDetection/ADgvae/input/QCD_training_data.h5'\n",
    "with h5py.File(output_file, 'w')as outFile:\n",
    "    outFile.create_dataset('particle_bg', data=particles_bg, compression='gzip')\n",
    "    outFile.create_dataset('particle_bg_valid', data=particles_bg_valid, compression='gzip')\n",
    "    outFile.create_dataset('particle_sig', data=particles_bg_valid, compression='gzip')"
   ]
  },
  {
   "cell_type": "code",
   "execution_count": 9,
   "metadata": {},
   "outputs": [
    {
     "data": {
      "image/png": "[encoded data removed]",
      "text/plain": [
       "<Figure size 432x288 with 1 Axes>"
      ]
     },
     "metadata": {
      "needs_background": "light"
     },
     "output_type": "display_data"
    },
    {
     "data": {
      "image/png": "[encoded data removed]",
      "text/plain": [
       "<Figure size 432x288 with 1 Axes>"
      ]
     },
     "metadata": {
      "needs_background": "light"
     },
     "output_type": "display_data"
    },
    {
     "data": {
      "image/png": "[encoded data removed]",
      "text/plain": [
       "<Figure size 432x288 with 1 Axes>"
      ]
     },
     "metadata": {
      "needs_background": "light"
     },
     "output_type": "display_data"
    }
   ],
   "source": [
    "feats = 'eta,phi,pt'.split(',')\n",
    "for i in range(0,3):\n",
    "    xmin = np.quantile(particles_bg[:,:,i].flatten(),0.05)\n",
    "    xmax = np.quantile(particles_bg[:,:,i].flatten(),0.98)\n",
    "    plt.figure()\n",
    "    plt.hist(particles_bg[:,:,i].flatten(), bins=50, label='Input BG', density=True, histtype='step', fill=False, linewidth=2)\n",
    "    plt.xlabel(feats[i])\n",
    "    plt.ylabel(\"Normalized\")\n",
    "    plt.legend(loc='upper right')\n",
    "    #plt.semilogy()\n",
    "    plt.show()"
   ]
  },
  {
   "cell_type": "code",
   "execution_count": null,
   "metadata": {},
   "outputs": [],
   "source": []
  },
  {
   "cell_type": "markdown",
   "metadata": {},
   "source": [
    "# Particle Net AE"
   ]
  },
  {
   "cell_type": "code",
   "execution_count": 9,
   "metadata": {},
   "outputs": [
    {
     "data": {
      "text/plain": [
       "<module 'models.PNmodel' from '/eos/home-n/nchernya/MLHEP/AnomalyDetection/ADgvae/models/PNmodel.py'>"
      ]
     },
     "execution_count": 9,
     "metadata": {},
     "output_type": "execute_result"
    }
   ],
   "source": [
    "import models.PNmodel as pn\n",
    "reload(pn)"
   ]
  },
  {
   "cell_type": "code",
   "execution_count": 194,
   "metadata": {},
   "outputs": [
    {
     "name": "stdout",
     "output_type": "stream",
     "text": [
      "64\n",
      "Model: \"ParticleNetAE\"\n",
      "__________________________________________________________________________________________________\n",
      "Layer (type)                    Output Shape         Param #     Connected to                     \n",
      "==================================================================================================\n",
      "points (InputLayer)             [(None, 50, 2)]      0                                            \n",
      "__________________________________________________________________________________________________\n",
      "features (InputLayer)           [(None, 50, 3)]      0                                            \n",
      "__________________________________________________________________________________________________\n",
      "tf_op_layer_Transpose_50 (Tenso [(None, 2, 50)]      0           points[0][0]                     \n",
      "__________________________________________________________________________________________________\n",
      "tf_op_layer_ExpandDims_115 (Ten [(None, 50, 1, 3)]   0           features[0][0]                   \n",
      "__________________________________________________________________________________________________\n",
      "tf_op_layer_Mul_75 (TensorFlowO [(None, 50, 2)]      0           points[0][0]                     \n",
      "                                                                 points[0][0]                     \n",
      "__________________________________________________________________________________________________\n",
      "tf_op_layer_BatchMatMulV2_25 (T [(None, 50, 50)]     0           points[0][0]                     \n",
      "                                                                 tf_op_layer_Transpose_50[0][0]   \n",
      "__________________________________________________________________________________________________\n",
      "tf_op_layer_Mul_76 (TensorFlowO [(None, 50, 2)]      0           points[0][0]                     \n",
      "                                                                 points[0][0]                     \n",
      "__________________________________________________________________________________________________\n",
      "ParticleNet_fts_bn (BatchNormal (None, 50, 1, 3)     12          tf_op_layer_ExpandDims_115[0][0] \n",
      "__________________________________________________________________________________________________\n",
      "tf_op_layer_Sum_50 (TensorFlowO [(None, 50, 1)]      0           tf_op_layer_Mul_75[0][0]         \n",
      "__________________________________________________________________________________________________\n",
      "tf_op_layer_Mul_77 (TensorFlowO [(None, 50, 50)]     0           tf_op_layer_BatchMatMulV2_25[0][0\n",
      "__________________________________________________________________________________________________\n",
      "tf_op_layer_Sum_51 (TensorFlowO [(None, 50, 1)]      0           tf_op_layer_Mul_76[0][0]         \n",
      "__________________________________________________________________________________________________\n",
      "tf_op_layer_Squeeze_65 (TensorF [(None, 50, 3)]      0           ParticleNet_fts_bn[0][0]         \n",
      "__________________________________________________________________________________________________\n",
      "tf_op_layer_Sub_50 (TensorFlowO [(None, 50, 50)]     0           tf_op_layer_Sum_50[0][0]         \n",
      "                                                                 tf_op_layer_Mul_77[0][0]         \n",
      "__________________________________________________________________________________________________\n",
      "tf_op_layer_Transpose_51 (Tenso [(None, 1, 50)]      0           tf_op_layer_Sum_51[0][0]         \n",
      "__________________________________________________________________________________________________\n",
      "tf_op_layer_Shape_25 (TensorFlo [(3,)]               0           tf_op_layer_Squeeze_65[0][0]     \n",
      "__________________________________________________________________________________________________\n",
      "tf_op_layer_AddV2_48 (TensorFlo [(None, 50, 50)]     0           tf_op_layer_Sub_50[0][0]         \n",
      "                                                                 tf_op_layer_Transpose_51[0][0]   \n",
      "__________________________________________________________________________________________________\n",
      "tf_op_layer_strided_slice_51 (T [()]                 0           tf_op_layer_Shape_25[0][0]       \n",
      "__________________________________________________________________________________________________\n",
      "tf_op_layer_Neg_25 (TensorFlowO [(None, 50, 50)]     0           tf_op_layer_AddV2_48[0][0]       \n",
      "__________________________________________________________________________________________________\n",
      "tf_op_layer_Range_25 (TensorFlo [(None,)]            0           tf_op_layer_strided_slice_51[0][0\n",
      "__________________________________________________________________________________________________\n",
      "tf_op_layer_TopKV2_25 (TensorFl [(None, 50, 8), (Non 0           tf_op_layer_Neg_25[0][0]         \n",
      "__________________________________________________________________________________________________\n",
      "tf_op_layer_Reshape_25 (TensorF [(None, 1, 1, 1)]    0           tf_op_layer_Range_25[0][0]       \n",
      "__________________________________________________________________________________________________\n",
      "tf_op_layer_strided_slice_50 (T [(None, 50, 7)]      0           tf_op_layer_TopKV2_25[0][1]      \n",
      "__________________________________________________________________________________________________\n",
      "tf_op_layer_Tile_50 (TensorFlow [(None, 50, 7, 1)]   0           tf_op_layer_Reshape_25[0][0]     \n",
      "__________________________________________________________________________________________________\n",
      "tf_op_layer_ExpandDims_116 (Ten [(None, 50, 7, 1)]   0           tf_op_layer_strided_slice_50[0][0\n",
      "__________________________________________________________________________________________________\n",
      "tf_op_layer_ExpandDims_117 (Ten [(None, 50, 1, 3)]   0           tf_op_layer_Squeeze_65[0][0]     \n",
      "__________________________________________________________________________________________________\n",
      "tf_op_layer_concat_50 (TensorFl [(None, 50, 7, 2)]   0           tf_op_layer_Tile_50[0][0]        \n",
      "                                                                 tf_op_layer_ExpandDims_116[0][0] \n",
      "__________________________________________________________________________________________________\n",
      "tf_op_layer_Tile_51 (TensorFlow [(None, 50, 7, 3)]   0           tf_op_layer_ExpandDims_117[0][0] \n",
      "__________________________________________________________________________________________________\n",
      "tf_op_layer_GatherNd_25 (Tensor [(None, 50, 7, 3)]   0           tf_op_layer_Squeeze_65[0][0]     \n",
      "                                                                 tf_op_layer_concat_50[0][0]      \n",
      "__________________________________________________________________________________________________\n",
      "tf_op_layer_Sub_51 (TensorFlowO [(None, 50, 7, 3)]   0           tf_op_layer_GatherNd_25[0][0]    \n",
      "                                                                 tf_op_layer_Tile_51[0][0]        \n",
      "__________________________________________________________________________________________________\n",
      "tf_op_layer_concat_51 (TensorFl [(None, 50, 7, 6)]   0           tf_op_layer_Tile_51[0][0]        \n",
      "                                                                 tf_op_layer_Sub_51[0][0]         \n",
      "__________________________________________________________________________________________________\n",
      "ParticleNet_EdgeConv0_conv0 (Co (None, 50, 7, 32)    192         tf_op_layer_concat_51[0][0]      \n",
      "__________________________________________________________________________________________________\n",
      "ParticleNet_EdgeConv0_bn0 (Batc (None, 50, 7, 32)    128         ParticleNet_EdgeConv0_conv0[0][0]\n",
      "__________________________________________________________________________________________________\n",
      "ParticleNet_EdgeConv0_act0 (Act (None, 50, 7, 32)    0           ParticleNet_EdgeConv0_bn0[0][0]  \n",
      "__________________________________________________________________________________________________\n",
      "ParticleNet_EdgeConv0_conv1 (Co (None, 50, 7, 32)    1024        ParticleNet_EdgeConv0_act0[0][0] \n",
      "__________________________________________________________________________________________________\n",
      "ParticleNet_EdgeConv0_bn1 (Batc (None, 50, 7, 32)    128         ParticleNet_EdgeConv0_conv1[0][0]\n",
      "__________________________________________________________________________________________________\n",
      "ParticleNet_EdgeConv0_act1 (Act (None, 50, 7, 32)    0           ParticleNet_EdgeConv0_bn1[0][0]  \n",
      "__________________________________________________________________________________________________\n",
      "ParticleNet_EdgeConv0_conv2 (Co (None, 50, 7, 32)    1024        ParticleNet_EdgeConv0_act1[0][0] \n",
      "__________________________________________________________________________________________________\n",
      "ParticleNet_EdgeConv0_bn2 (Batc (None, 50, 7, 32)    128         ParticleNet_EdgeConv0_conv2[0][0]\n",
      "__________________________________________________________________________________________________\n",
      "tf_op_layer_Transpose_52 (Tenso [(None, 2, 50)]      0           points[0][0]                     \n",
      "__________________________________________________________________________________________________\n",
      "ParticleNet_EdgeConv0_act2 (Act (None, 50, 7, 32)    0           ParticleNet_EdgeConv0_bn2[0][0]  \n",
      "__________________________________________________________________________________________________\n",
      "tf_op_layer_Mul_78 (TensorFlowO [(None, 50, 2)]      0           points[0][0]                     \n",
      "                                                                 points[0][0]                     \n",
      "__________________________________________________________________________________________________\n",
      "tf_op_layer_BatchMatMulV2_26 (T [(None, 50, 50)]     0           points[0][0]                     \n",
      "                                                                 tf_op_layer_Transpose_52[0][0]   \n",
      "__________________________________________________________________________________________________\n",
      "tf_op_layer_Mul_79 (TensorFlowO [(None, 50, 2)]      0           points[0][0]                     \n",
      "                                                                 points[0][0]                     \n",
      "__________________________________________________________________________________________________\n",
      "tf_op_layer_Mean_34 (TensorFlow [(None, 50, 32)]     0           ParticleNet_EdgeConv0_act2[0][0] \n",
      "__________________________________________________________________________________________________\n",
      "tf_op_layer_Sum_52 (TensorFlowO [(None, 50, 1)]      0           tf_op_layer_Mul_78[0][0]         \n",
      "__________________________________________________________________________________________________\n",
      "tf_op_layer_Mul_80 (TensorFlowO [(None, 50, 50)]     0           tf_op_layer_BatchMatMulV2_26[0][0\n",
      "__________________________________________________________________________________________________\n",
      "tf_op_layer_Sum_53 (TensorFlowO [(None, 50, 1)]      0           tf_op_layer_Mul_79[0][0]         \n",
      "__________________________________________________________________________________________________\n",
      "ParticleNet_EdgeConv0_sc_act (A (None, 50, 32)       0           tf_op_layer_Mean_34[0][0]        \n",
      "__________________________________________________________________________________________________\n",
      "tf_op_layer_Sub_52 (TensorFlowO [(None, 50, 50)]     0           tf_op_layer_Sum_52[0][0]         \n",
      "                                                                 tf_op_layer_Mul_80[0][0]         \n",
      "__________________________________________________________________________________________________\n",
      "tf_op_layer_Transpose_53 (Tenso [(None, 1, 50)]      0           tf_op_layer_Sum_53[0][0]         \n",
      "__________________________________________________________________________________________________\n",
      "tf_op_layer_Shape_26 (TensorFlo [(3,)]               0           ParticleNet_EdgeConv0_sc_act[0][0\n",
      "__________________________________________________________________________________________________\n",
      "tf_op_layer_AddV2_49 (TensorFlo [(None, 50, 50)]     0           tf_op_layer_Sub_52[0][0]         \n",
      "                                                                 tf_op_layer_Transpose_53[0][0]   \n",
      "__________________________________________________________________________________________________\n",
      "tf_op_layer_strided_slice_53 (T [()]                 0           tf_op_layer_Shape_26[0][0]       \n",
      "__________________________________________________________________________________________________\n",
      "tf_op_layer_Neg_26 (TensorFlowO [(None, 50, 50)]     0           tf_op_layer_AddV2_49[0][0]       \n",
      "__________________________________________________________________________________________________\n",
      "tf_op_layer_Range_26 (TensorFlo [(None,)]            0           tf_op_layer_strided_slice_53[0][0\n",
      "__________________________________________________________________________________________________\n",
      "tf_op_layer_TopKV2_26 (TensorFl [(None, 50, 8), (Non 0           tf_op_layer_Neg_26[0][0]         \n",
      "__________________________________________________________________________________________________\n",
      "tf_op_layer_Reshape_26 (TensorF [(None, 1, 1, 1)]    0           tf_op_layer_Range_26[0][0]       \n",
      "__________________________________________________________________________________________________\n",
      "tf_op_layer_strided_slice_52 (T [(None, 50, 7)]      0           tf_op_layer_TopKV2_26[0][1]      \n",
      "__________________________________________________________________________________________________\n",
      "tf_op_layer_Tile_52 (TensorFlow [(None, 50, 7, 1)]   0           tf_op_layer_Reshape_26[0][0]     \n",
      "__________________________________________________________________________________________________\n",
      "tf_op_layer_ExpandDims_119 (Ten [(None, 50, 7, 1)]   0           tf_op_layer_strided_slice_52[0][0\n",
      "__________________________________________________________________________________________________\n",
      "tf_op_layer_ExpandDims_120 (Ten [(None, 50, 1, 32)]  0           ParticleNet_EdgeConv0_sc_act[0][0\n",
      "__________________________________________________________________________________________________\n",
      "tf_op_layer_concat_52 (TensorFl [(None, 50, 7, 2)]   0           tf_op_layer_Tile_52[0][0]        \n",
      "                                                                 tf_op_layer_ExpandDims_119[0][0] \n",
      "__________________________________________________________________________________________________\n",
      "tf_op_layer_Tile_53 (TensorFlow [(None, 50, 7, 32)]  0           tf_op_layer_ExpandDims_120[0][0] \n",
      "__________________________________________________________________________________________________\n",
      "tf_op_layer_GatherNd_26 (Tensor [(None, 50, 7, 32)]  0           ParticleNet_EdgeConv0_sc_act[0][0\n",
      "                                                                 tf_op_layer_concat_52[0][0]      \n",
      "__________________________________________________________________________________________________\n",
      "tf_op_layer_Sub_53 (TensorFlowO [(None, 50, 7, 32)]  0           tf_op_layer_GatherNd_26[0][0]    \n",
      "                                                                 tf_op_layer_Tile_53[0][0]        \n",
      "__________________________________________________________________________________________________\n",
      "tf_op_layer_concat_53 (TensorFl [(None, 50, 7, 64)]  0           tf_op_layer_Tile_53[0][0]        \n",
      "                                                                 tf_op_layer_Sub_53[0][0]         \n",
      "__________________________________________________________________________________________________\n",
      "ParticleNet_EdgeConv1_conv0 (Co (None, 50, 7, 64)    4096        tf_op_layer_concat_53[0][0]      \n",
      "__________________________________________________________________________________________________\n",
      "ParticleNet_EdgeConv1_bn0 (Batc (None, 50, 7, 64)    256         ParticleNet_EdgeConv1_conv0[0][0]\n",
      "__________________________________________________________________________________________________\n",
      "ParticleNet_EdgeConv1_act0 (Act (None, 50, 7, 64)    0           ParticleNet_EdgeConv1_bn0[0][0]  \n",
      "__________________________________________________________________________________________________\n",
      "ParticleNet_EdgeConv1_conv1 (Co (None, 50, 7, 64)    4096        ParticleNet_EdgeConv1_act0[0][0] \n",
      "__________________________________________________________________________________________________\n",
      "ParticleNet_EdgeConv1_bn1 (Batc (None, 50, 7, 64)    256         ParticleNet_EdgeConv1_conv1[0][0]\n",
      "__________________________________________________________________________________________________\n",
      "ParticleNet_EdgeConv1_act1 (Act (None, 50, 7, 64)    0           ParticleNet_EdgeConv1_bn1[0][0]  \n",
      "__________________________________________________________________________________________________\n",
      "ParticleNet_EdgeConv1_conv2 (Co (None, 50, 7, 64)    4096        ParticleNet_EdgeConv1_act1[0][0] \n",
      "__________________________________________________________________________________________________\n",
      "ParticleNet_EdgeConv1_bn2 (Batc (None, 50, 7, 64)    256         ParticleNet_EdgeConv1_conv2[0][0]\n",
      "__________________________________________________________________________________________________\n",
      "ParticleNet_EdgeConv1_act2 (Act (None, 50, 7, 64)    0           ParticleNet_EdgeConv1_bn2[0][0]  \n",
      "__________________________________________________________________________________________________\n",
      "tf_op_layer_Mean_35 (TensorFlow [(None, 50, 64)]     0           ParticleNet_EdgeConv1_act2[0][0] \n",
      "__________________________________________________________________________________________________\n",
      "ParticleNet_EdgeConv1_sc_act (A (None, 50, 64)       0           tf_op_layer_Mean_35[0][0]        \n",
      "__________________________________________________________________________________________________\n",
      "tf_op_layer_Mean_36 (TensorFlow [(None, 64)]         0           ParticleNet_EdgeConv1_sc_act[0][0\n",
      "__________________________________________________________________________________________________\n",
      "dense_26 (Dense)                (None, 7)            455         tf_op_layer_Mean_36[0][0]        \n",
      "__________________________________________________________________________________________________\n",
      "dense_27 (Dense)                (None, 1250)         10000       dense_26[0][0]                   \n",
      "__________________________________________________________________________________________________\n",
      "AE_bn_1 (BatchNormalization)    (None, 1250)         5000        dense_27[0][0]                   \n",
      "__________________________________________________________________________________________________\n",
      "reshape_13 (Reshape)            (None, 50, 25)       0           AE_bn_1[0][0]                    \n",
      "__________________________________________________________________________________________________\n",
      "tf_op_layer_ExpandDims_122 (Ten [(None, 50, 1, 25)]  0           reshape_13[0][0]                 \n",
      "__________________________________________________________________________________________________\n",
      "AE_conv_0 (Conv2D)              (None, 50, 1, 9)     234         tf_op_layer_ExpandDims_122[0][0] \n",
      "__________________________________________________________________________________________________\n",
      "tf_op_layer_Squeeze_68 (TensorF [(None, 50, 9)]      0           AE_conv_0[0][0]                  \n",
      "__________________________________________________________________________________________________\n",
      "AE_bn_2 (BatchNormalization)    (None, 50, 9)        36          tf_op_layer_Squeeze_68[0][0]     \n",
      "__________________________________________________________________________________________________\n",
      "tf_op_layer_ExpandDims_123 (Ten [(None, 50, 1, 9)]   0           AE_bn_2[0][0]                    \n",
      "__________________________________________________________________________________________________\n",
      "AE_conv_2 (Conv2D)              (None, 50, 1, 6)     60          tf_op_layer_ExpandDims_123[0][0] \n",
      "__________________________________________________________________________________________________\n",
      "tf_op_layer_Squeeze_69 (TensorF [(None, 50, 6)]      0           AE_conv_2[0][0]                  \n",
      "__________________________________________________________________________________________________\n",
      "AE_bn_3 (BatchNormalization)    (None, 50, 6)        24          tf_op_layer_Squeeze_69[0][0]     \n",
      "__________________________________________________________________________________________________\n",
      "tf_op_layer_ExpandDims_124 (Ten [(None, 50, 1, 6)]   0           AE_bn_3[0][0]                    \n",
      "__________________________________________________________________________________________________\n",
      "AE_conv_out (Conv2D)            (None, 50, 1, 3)     21          tf_op_layer_ExpandDims_124[0][0] \n",
      "__________________________________________________________________________________________________\n",
      "tf_op_layer_Squeeze_70 (TensorF [(None, 50, 3)]      0           AE_conv_out[0][0]                \n",
      "==================================================================================================\n",
      "Total params: 31,522\n",
      "Trainable params: 28,410\n",
      "Non-trainable params: 3,112\n",
      "__________________________________________________________________________________________________\n"
     ]
    }
   ],
   "source": [
    "input_shapes = {}\n",
    "input_shapes['points'] =  [nodes_n,feat_sz-1] #using only coordinates eta phi\n",
    "input_shapes['features'] = [nodes_n,feat_sz]\n",
    "input_shapes['mask'] = None\n",
    "model = pn.get_particle_net_lite_ae(input_shapes)\n",
    "model.summary()"
   ]
  },
  {
   "cell_type": "code",
   "execution_count": 197,
   "metadata": {},
   "outputs": [],
   "source": [
    "from tensorflow.keras.optimizers import SGD, Adam, Nadam\n",
    "from tensorflow.keras.callbacks import EarlyStopping, ModelCheckpoint, ReduceLROnPlateau, TensorBoard\n",
    "\n",
    "optim = Adam(learning_rate=0.001)\n",
    "\n",
    "# Compile the Model\n",
    "model.compile(optimizer=optim, loss=losses.threeD_loss)\n",
    "#model.compile(optimizer=optim, loss='mse')"
   ]
  },
  {
   "cell_type": "code",
   "execution_count": 198,
   "metadata": {},
   "outputs": [
    {
     "name": "stdout",
     "output_type": "stream",
     "text": [
      "Epoch 1/10\n",
      "390/390 [==============================] - 9s 23ms/step - loss: 0.0371 - val_loss: 0.0430\n",
      "Epoch 2/10\n",
      "390/390 [==============================] - 8s 21ms/step - loss: 0.0318 - val_loss: 0.0388\n",
      "Epoch 3/10\n",
      "390/390 [==============================] - 8s 21ms/step - loss: 0.0304 - val_loss: 0.0348\n",
      "Epoch 4/10\n",
      "390/390 [==============================] - 8s 21ms/step - loss: 0.0297 - val_loss: 0.0336\n",
      "Epoch 5/10\n",
      "390/390 [==============================] - 8s 21ms/step - loss: 0.0293 - val_loss: 0.0322\n",
      "Epoch 6/10\n",
      "390/390 [==============================] - 9s 22ms/step - loss: 0.0289 - val_loss: 0.0329\n",
      "Epoch 7/10\n",
      "390/390 [==============================] - 8s 22ms/step - loss: 0.0287 - val_loss: 0.0330\n",
      "Epoch 8/10\n",
      "390/390 [==============================] - 8s 22ms/step - loss: 0.0284 - val_loss: 0.0312\n",
      "Epoch 9/10\n",
      "390/390 [==============================] - 8s 22ms/step - loss: 0.0282 - val_loss: 0.0307\n",
      "Epoch 10/10\n",
      "390/390 [==============================] - 8s 21ms/step - loss: 0.0281 - val_loss: 0.0326\n"
     ]
    }
   ],
   "source": [
    "\n",
    "# early stopping callback\n",
    "es = EarlyStopping(monitor='val_loss', patience=10)\n",
    "\n",
    "# Learning rate scheduler \n",
    "ls = ReduceLROnPlateau(monitor='val_loss', factor=0.2, patience=10)\n",
    "\n",
    "history = model.fit((particles_bg[:500000,:,0:2], particles_bg[:500000,:,:]) ,  particles_bg[:500000,:,:],\n",
    "                    validation_data = ((particles_bg_valid[:100000,:,0:2], particles_bg_valid[:100000,:,:]) , particles_bg_valid[:100000,:,:]),\n",
    "                    epochs=10, \n",
    "                    batch_size=128, \n",
    "                    verbose=1,\n",
    "                    callbacks=[es,ls]) "
   ]
  },
  {
   "cell_type": "code",
   "execution_count": 10,
   "metadata": {},
   "outputs": [
    {
     "ename": "NameError",
     "evalue": "name 'filepath' is not defined",
     "output_type": "error",
     "traceback": [
      "\u001b[0;31m---------------------------------------------------------------------------\u001b[0m",
      "\u001b[0;31mNameError\u001b[0m                                 Traceback (most recent call last)",
      "\u001b[0;32m<ipython-input-10-d628ee424204>\u001b[0m in \u001b[0;36m<module>\u001b[0;34m\u001b[0m\n\u001b[1;32m      8\u001b[0m \u001b[0mweights_path\u001b[0m \u001b[0;34m=\u001b[0m \u001b[0mmodels_dir\u001b[0m \u001b[0;34m+\u001b[0m\u001b[0;34m'PN_AE_weights_2021_07_29_T_18_19.25-0.023.hdf5'\u001b[0m\u001b[0;34m\u001b[0m\u001b[0;34m\u001b[0m\u001b[0m\n\u001b[1;32m      9\u001b[0m loaded_model.load_weights(\n\u001b[0;32m---> 10\u001b[0;31m     filepath, by_name=True, skip_mismatch=False)\n\u001b[0m",
      "\u001b[0;31mNameError\u001b[0m: name 'filepath' is not defined"
     ]
    }
   ],
   "source": [
    "models_dir = '/eos/user/n/nchernya/MLHEP/AnomalyDetection/ADgvae/output_models/'\n",
    "model_path = models_dir + \"output_model_saved_PN_AE_2021_07_30_T_09_26\"\n",
    "loaded_model = tf.keras.models.load_model(\n",
    "    model_path,\n",
    "    custom_objects={\"PN_AE\": pn.get_particle_net_lite_ae, \"threeD_loss\":losses.threeD_loss}\n",
    ")\n",
    "\n",
    "weights_path = models_dir +'PN_AE_weights_2021_07_29_T_18_19.25-0.023.hdf5'\n",
    "loaded_model.load_weights(\n",
    "    weights_path, by_name=True, skip_mismatch=False)"
   ]
  },
  {
   "cell_type": "code",
   "execution_count": 382,
   "metadata": {},
   "outputs": [
    {
     "data": {
      "text/plain": [
       "(5000, 50, 3)"
      ]
     },
     "execution_count": 382,
     "metadata": {},
     "output_type": "execute_result"
    }
   ],
   "source": [
    "Y_bg_predict[1].shape"
   ]
  },
  {
   "cell_type": "code",
   "execution_count": 385,
   "metadata": {},
   "outputs": [],
   "source": [
    "#model = loaded_model\n",
    "\n",
    "_,Y_bg_predict = model.predict([particles_bg_test[:,:,0:2],particles_bg_test])\n",
    "_,Y_sig_predict = model.predict([particles_sig[:,:,0:2],particles_sig])"
   ]
  },
  {
   "cell_type": "code",
   "execution_count": 387,
   "metadata": {},
   "outputs": [
    {
     "data": {
      "image/png": "[encoded data removed]",
      "text/plain": [
       "<Figure size 576x504 with 1 Axes>"
      ]
     },
     "metadata": {
      "needs_background": "light"
     },
     "output_type": "display_data"
    }
   ],
   "source": [
    "loss_bg = losses.threeD_loss_manual(particles_bg_test,Y_bg_predict)\n",
    "loss_sig = losses.threeD_loss_manual(particles_sig,Y_sig_predict)\n",
    "#loss_bg = losses.mse_loss_manual(particles_bg_test,Y_bg_predict)\n",
    "#loss_sig = losses.mse_loss_manual(particles_sig,Y_sig_predict)\n",
    "\n",
    "\n",
    "plt.style.use('/eos/user/n/nchernya/MLHEP/AnomalyDetection/ADgvae/utils/adfigstyle.mplstyle')\n",
    "\n",
    "max_score = np.quantile(loss_sig,0.99)#,np.max(loss_bg_dist))\n",
    "min_score = np.min(loss_bg)#,np.max(loss_bg_dist))\n",
    "bins = 30\n",
    "# plot BG\n",
    "plt.figure()\n",
    "plt.hist(loss_bg, bins=bins, label='BG', density=True, range=(min_score, max_score), \n",
    "         histtype='step', fill=False, linewidth=1.5)\n",
    "plt.hist(loss_sig, bins=bins, label='SIG', density=True, range=(min_score, max_score), \n",
    "         histtype='step', linestyle='--',fill=False, linewidth=1.5)\n",
    "#plt.semilogy()\n",
    "plt.xlabel(\"VAE Chamfer Loss\")\n",
    "plt.ylabel(\"Normalized Dist.\")\n",
    "plt.legend(loc='upper right')\n",
    "savename = '/eos/user/n/nchernya/MLHEP/AnomalyDetection/ADgvae/figs/reco_edgeconv_pn_ae.pdf'\n",
    "plt.savefig(savename)\n",
    "plt.show()"
   ]
  },
  {
   "cell_type": "code",
   "execution_count": 388,
   "metadata": {},
   "outputs": [
    {
     "data": {
      "image/png": "[encoded data removed]",
      "text/plain": [
       "<Figure size 576x504 with 1 Axes>"
      ]
     },
     "metadata": {
      "needs_background": "light"
     },
     "output_type": "display_data"
    },
    {
     "data": {
      "image/png": "[encoded data removed]",
      "text/plain": [
       "<Figure size 576x504 with 1 Axes>"
      ]
     },
     "metadata": {
      "needs_background": "light"
     },
     "output_type": "display_data"
    },
    {
     "data": {
      "image/png": "[encoded data removed]",
      "text/plain": [
       "<Figure size 576x504 with 1 Axes>"
      ]
     },
     "metadata": {
      "needs_background": "light"
     },
     "output_type": "display_data"
    }
   ],
   "source": [
    "plt.style.use('/eos/user/n/nchernya/MLHEP/AnomalyDetection/ADgvae/utils/adfigstyle.mplstyle')\n",
    "for i in range(0,len(feats)):\n",
    "    #xmin = np.quantile(particles_bg[:,:,i].flatten(),0.)\n",
    "    #xmax = np.quantile(particles_bg[:,:,i].flatten(),1)\n",
    "    xmin = np.min([np.min(particles_bg[:,:,i].flatten()),np.min(Y_bg_predict[:,:,i].flatten())])\n",
    "    xmax = np.max([np.max(particles_bg[:,:,i].flatten()),np.max(Y_bg_predict[:,:,i].flatten())])\n",
    "    n_bins = 40\n",
    "    plot_range = (xmin,xmax)\n",
    "    plt.figure()\n",
    "    _,bins,_ = plt.hist(particles_bg_test[:,:,i].flatten(), bins=n_bins, range = plot_range,label='Input BG', density=True, histtype='step', fill=False, linewidth=2)\n",
    "    _,_,_ = plt.hist(particles_sig[:,:,i].flatten(), bins=bins, label='Input SIG',density=True, histtype='step', fill=False, linewidth=2)\n",
    "    _,_,_ = plt.hist(Y_bg_predict[:,:,i].flatten(), bins=bins, label='Reco. BG', linestyle='--',density=True, histtype='step', fill=False, linewidth=2)\n",
    "    _,_,_ = plt.hist(Y_sig_predict[:,:,i].flatten(), bins=bins, label='Reco. SIG', linestyle=':',density=True, histtype='step', fill=False, linewidth=2)\n",
    "    plt.xlabel(feats[i])\n",
    "    plt.ylabel(\"Normalized\")\n",
    "    plt.legend(bbox_to_anchor=(1., 1.),fontsize=15)\n",
    "    plt.semilogy()\n",
    "    savename = '/eos/user/n/nchernya/MLHEP/AnomalyDetection/ADgvae/figs/reco_edgeconv_pn_ae_{}_test.pdf'.format(feats[i])\n",
    "    plt.savefig(savename)\n",
    "    plt.show()"
   ]
  },
  {
   "cell_type": "code",
   "execution_count": 389,
   "metadata": {},
   "outputs": [
    {
     "name": "stderr",
     "output_type": "stream",
     "text": [
      "/eos/home-n/nchernya/MLHEP/AnomalyDetection/vande/analysis/analysis_roc.py:33: RuntimeWarning: divide by zero encountered in true_divide\n",
      "  plt.semilogy(tpr, 1./fpr, label=label + \" (auc \" + \"{0:.3f}\".format(aucs[-1]) + \")\")\n"
     ]
    },
    {
     "data": {
      "image/png": "[encoded data removed]",
      "text/plain": [
       "<Figure size 504x504 with 1 Axes>"
      ]
     },
     "metadata": {
      "needs_background": "light"
     },
     "output_type": "display_data"
    },
    {
     "data": {
      "text/plain": [
       "[0.7480986399999999]"
      ]
     },
     "execution_count": 389,
     "metadata": {},
     "output_type": "execute_result"
    }
   ],
   "source": [
    "neg_class_losses = [loss_bg.tolist()]\n",
    "pos_class_losses = [loss_sig.tolist()]\n",
    "\n",
    "plt.style.use('/eos/user/n/nchernya/MLHEP/AnomalyDetection/ADgvae/utils/adfigstyle.mplstyle')\n",
    "ar.plot_roc( neg_class_losses, pos_class_losses, legend=['PN AE'], title='ROC ',\n",
    "            plot_name='ROC_pnae_test', fig_dir='/eos/user/n/nchernya/MLHEP/AnomalyDetection/ADgvae/figs/',log_x=False )\n"
   ]
  },
  {
   "cell_type": "code",
   "execution_count": null,
   "metadata": {},
   "outputs": [],
   "source": []
  },
  {
   "cell_type": "code",
   "execution_count": null,
   "metadata": {},
   "outputs": [],
   "source": []
  },
  {
   "cell_type": "code",
   "execution_count": null,
   "metadata": {},
   "outputs": [],
   "source": []
  },
  {
   "cell_type": "code",
   "execution_count": 56,
   "metadata": {},
   "outputs": [],
   "source": [
    "#dataset= tf.data.Dataset.from_tensor_slices((particles_bg[:,:,0:2], particles_bg))\n"
   ]
  },
  {
   "cell_type": "code",
   "execution_count": null,
   "metadata": {},
   "outputs": [],
   "source": []
  },
  {
   "cell_type": "code",
   "execution_count": 174,
   "metadata": {},
   "outputs": [
    {
     "data": {
      "text/plain": [
       "(array([[ 0.,  3.,  0.,  1.,  1.,  4.,  0.,  0.,  4.,  0.,  3.,  2.,  1.,\n",
       "          0.,  0.,  3.,  6.,  2.,  4.,  1.,  2.,  7.,  6.,  1.,  4.,  4.,\n",
       "          4.,  1.,  3.,  3.,  4.,  0.,  3.,  1.,  2.,  2.,  0.,  2.,  1.,\n",
       "          3.,  3.,  3.,  1.,  2.,  2.,  0.,  0.,  0.,  0.,  1.],\n",
       "        [ 1.,  1.,  1.,  0.,  2.,  1.,  0.,  2.,  1.,  0.,  2.,  0.,  2.,\n",
       "          2.,  3.,  4.,  2.,  4.,  2.,  5.,  4.,  4.,  4.,  6.,  1.,  3.,\n",
       "          4.,  5.,  5.,  3.,  0.,  1.,  3.,  3.,  1.,  1.,  0.,  3.,  1.,\n",
       "          3.,  2.,  0.,  3.,  2.,  1.,  0.,  0.,  1.,  0.,  1.],\n",
       "        [ 0.,  0.,  0.,  0.,  0.,  0.,  0.,  0.,  0.,  0.,  0.,  0.,  0.,\n",
       "          0.,  0.,  0.,  0.,  0.,  0.,  0.,  0.,  0.,  0.,  0.,  0.,  0.,\n",
       "          0.,  0.,  0.,  0.,  0.,  0.,  0.,  0.,  0.,  7., 12., 13., 15.,\n",
       "         15., 10.,  8.,  6.,  4.,  1.,  3.,  1.,  0.,  1.,  4.]]),\n",
       " array([-0.7176487 , -0.6873638 , -0.657079  , -0.6267941 , -0.5965093 ,\n",
       "        -0.5662244 , -0.5359396 , -0.5056547 , -0.47536984, -0.445085  ,\n",
       "        -0.41480014, -0.3845153 , -0.35423043, -0.32394555, -0.2936607 ,\n",
       "        -0.26337585, -0.233091  , -0.20280614, -0.1725213 , -0.14223643,\n",
       "        -0.11195157, -0.08166672, -0.05138187, -0.02109701,  0.00918784,\n",
       "         0.0394727 ,  0.06975755,  0.10004241,  0.13032727,  0.16061212,\n",
       "         0.19089697,  0.22118182,  0.2514667 ,  0.28175154,  0.3120364 ,\n",
       "         0.34232125,  0.3726061 ,  0.40289095,  0.43317583,  0.46346068,\n",
       "         0.49374554,  0.5240304 ,  0.55431527,  0.5846001 ,  0.614885  ,\n",
       "         0.6451698 ,  0.6754547 ,  0.7057395 ,  0.7360244 ,  0.7663092 ,\n",
       "         0.7965941 ], dtype=float32),\n",
       " <a list of 3 BarContainer objects>)"
      ]
     },
     "execution_count": 174,
     "metadata": {},
     "output_type": "execute_result"
    },
    {
     "data": {
      "image/png": "[encoded data removed]",
      "text/plain": [
       "<Figure size 576x504 with 1 Axes>"
      ]
     },
     "metadata": {
      "needs_background": "light"
     },
     "output_type": "display_data"
    }
   ],
   "source": [
    "#plt.hist(particles_bg[2],bins=50) # trasnformed, I think it does this double peak, \n",
    "#because features and coordinates are summed (from the shortcut)\n",
    "#could batch norm help with this?\n",
    "\n",
    "#also try to do std transformation of pt instead"
   ]
  },
  {
   "cell_type": "code",
   "execution_count": null,
   "metadata": {},
   "outputs": [],
   "source": [
    "#looks like batch normalization helped with the double peak"
   ]
  },
  {
   "cell_type": "code",
   "execution_count": null,
   "metadata": {},
   "outputs": [],
   "source": [
    "#try to remove batch norm before latent space"
   ]
  },
  {
   "cell_type": "code",
   "execution_count": null,
   "metadata": {},
   "outputs": [],
   "source": []
  },
  {
   "cell_type": "code",
   "execution_count": null,
   "metadata": {},
   "outputs": [],
   "source": []
  },
  {
   "cell_type": "code",
   "execution_count": 267,
   "metadata": {},
   "outputs": [
    {
     "data": {
      "text/plain": [
       "<module 'models.PNmodel' from '/eos/home-n/nchernya/MLHEP/AnomalyDetection/ADgvae/models/PNmodel.py'>"
      ]
     },
     "execution_count": 267,
     "metadata": {},
     "output_type": "execute_result"
    }
   ],
   "source": [
    "reload(models)\n",
    "import models.PNmodel as pn\n",
    "reload(pn)\n"
   ]
  },
  {
   "cell_type": "code",
   "execution_count": 344,
   "metadata": {},
   "outputs": [],
   "source": [
    "input_shapes = {}\n",
    "input_shapes['points'] =  [nodes_n,feat_sz-1] #using only coordinates eta phi\n",
    "input_shapes['features'] = [nodes_n,feat_sz]\n",
    "input_shapes['mask'] = None\n",
    "ae_info = {}\n",
    "ae_info['latent_dim'] = 10\n",
    "ae_info['ae_type'] = 'ae'\n",
    "model = pn.get_particle_net_lite_ae(input_shapes,ae_info)\n"
   ]
  },
  {
   "cell_type": "code",
   "execution_count": 345,
   "metadata": {},
   "outputs": [],
   "source": [
    "\n",
    "#optim = Adam(learning_rate=0.001)\n",
    "\n",
    "# Compile the Model\n",
    "#model.compile(optimizer=optim, loss=losses.threeD_loss)"
   ]
  },
  {
   "cell_type": "code",
   "execution_count": 346,
   "metadata": {
    "scrolled": true
   },
   "outputs": [
    {
     "name": "stdout",
     "output_type": "stream",
     "text": [
      "Model: \"ParticleNetae\"\n",
      "__________________________________________________________________________________________________\n",
      "Layer (type)                    Output Shape         Param #     Connected to                     \n",
      "==================================================================================================\n",
      "points (InputLayer)             [(None, 50, 2)]      0                                            \n",
      "__________________________________________________________________________________________________\n",
      "features (InputLayer)           [(None, 50, 3)]      0                                            \n",
      "__________________________________________________________________________________________________\n",
      "tf_op_layer_Transpose_108 (Tens [(None, 2, 50)]      0           points[0][0]                     \n",
      "__________________________________________________________________________________________________\n",
      "tf_op_layer_ExpandDims_263 (Ten [(None, 50, 1, 3)]   0           features[0][0]                   \n",
      "__________________________________________________________________________________________________\n",
      "tf_op_layer_Mul_177 (TensorFlow [(None, 50, 2)]      0           points[0][0]                     \n",
      "                                                                 points[0][0]                     \n",
      "__________________________________________________________________________________________________\n",
      "tf_op_layer_BatchMatMulV2_54 (T [(None, 50, 50)]     0           points[0][0]                     \n",
      "                                                                 tf_op_layer_Transpose_108[0][0]  \n",
      "__________________________________________________________________________________________________\n",
      "tf_op_layer_Mul_178 (TensorFlow [(None, 50, 2)]      0           points[0][0]                     \n",
      "                                                                 points[0][0]                     \n",
      "__________________________________________________________________________________________________\n",
      "ParticleNet_fts_bn (BatchNormal (None, 50, 1, 3)     12          tf_op_layer_ExpandDims_263[0][0] \n",
      "__________________________________________________________________________________________________\n",
      "tf_op_layer_Sum_108 (TensorFlow [(None, 50, 1)]      0           tf_op_layer_Mul_177[0][0]        \n",
      "__________________________________________________________________________________________________\n",
      "tf_op_layer_Mul_179 (TensorFlow [(None, 50, 50)]     0           tf_op_layer_BatchMatMulV2_54[0][0\n",
      "__________________________________________________________________________________________________\n",
      "tf_op_layer_Sum_109 (TensorFlow [(None, 50, 1)]      0           tf_op_layer_Mul_178[0][0]        \n",
      "__________________________________________________________________________________________________\n",
      "tf_op_layer_Squeeze_155 (Tensor [(None, 50, 3)]      0           ParticleNet_fts_bn[0][0]         \n",
      "__________________________________________________________________________________________________\n",
      "tf_op_layer_Sub_108 (TensorFlow [(None, 50, 50)]     0           tf_op_layer_Sum_108[0][0]        \n",
      "                                                                 tf_op_layer_Mul_179[0][0]        \n",
      "__________________________________________________________________________________________________\n",
      "tf_op_layer_Transpose_109 (Tens [(None, 1, 50)]      0           tf_op_layer_Sum_109[0][0]        \n",
      "__________________________________________________________________________________________________\n",
      "tf_op_layer_Shape_69 (TensorFlo [(3,)]               0           tf_op_layer_Squeeze_155[0][0]    \n",
      "__________________________________________________________________________________________________\n",
      "tf_op_layer_AddV2_108 (TensorFl [(None, 50, 50)]     0           tf_op_layer_Sub_108[0][0]        \n",
      "                                                                 tf_op_layer_Transpose_109[0][0]  \n",
      "__________________________________________________________________________________________________\n",
      "tf_op_layer_strided_slice_119 ( [()]                 0           tf_op_layer_Shape_69[0][0]       \n",
      "__________________________________________________________________________________________________\n",
      "tf_op_layer_Neg_54 (TensorFlowO [(None, 50, 50)]     0           tf_op_layer_AddV2_108[0][0]      \n",
      "__________________________________________________________________________________________________\n",
      "tf_op_layer_Range_54 (TensorFlo [(None,)]            0           tf_op_layer_strided_slice_119[0][\n",
      "__________________________________________________________________________________________________\n",
      "tf_op_layer_TopKV2_54 (TensorFl [(None, 50, 8), (Non 0           tf_op_layer_Neg_54[0][0]         \n",
      "__________________________________________________________________________________________________\n",
      "tf_op_layer_Reshape_54 (TensorF [(None, 1, 1, 1)]    0           tf_op_layer_Range_54[0][0]       \n",
      "__________________________________________________________________________________________________\n",
      "tf_op_layer_strided_slice_118 ( [(None, 50, 7)]      0           tf_op_layer_TopKV2_54[0][1]      \n",
      "__________________________________________________________________________________________________\n",
      "tf_op_layer_Tile_108 (TensorFlo [(None, 50, 7, 1)]   0           tf_op_layer_Reshape_54[0][0]     \n",
      "__________________________________________________________________________________________________\n",
      "tf_op_layer_ExpandDims_264 (Ten [(None, 50, 7, 1)]   0           tf_op_layer_strided_slice_118[0][\n",
      "__________________________________________________________________________________________________\n",
      "tf_op_layer_ExpandDims_265 (Ten [(None, 50, 1, 3)]   0           tf_op_layer_Squeeze_155[0][0]    \n",
      "__________________________________________________________________________________________________\n",
      "tf_op_layer_concat_108 (TensorF [(None, 50, 7, 2)]   0           tf_op_layer_Tile_108[0][0]       \n",
      "                                                                 tf_op_layer_ExpandDims_264[0][0] \n",
      "__________________________________________________________________________________________________\n",
      "tf_op_layer_Tile_109 (TensorFlo [(None, 50, 7, 3)]   0           tf_op_layer_ExpandDims_265[0][0] \n",
      "__________________________________________________________________________________________________\n",
      "tf_op_layer_GatherNd_54 (Tensor [(None, 50, 7, 3)]   0           tf_op_layer_Squeeze_155[0][0]    \n",
      "                                                                 tf_op_layer_concat_108[0][0]     \n",
      "__________________________________________________________________________________________________\n",
      "tf_op_layer_Sub_109 (TensorFlow [(None, 50, 7, 3)]   0           tf_op_layer_GatherNd_54[0][0]    \n",
      "                                                                 tf_op_layer_Tile_109[0][0]       \n",
      "__________________________________________________________________________________________________\n",
      "tf_op_layer_concat_109 (TensorF [(None, 50, 7, 6)]   0           tf_op_layer_Tile_109[0][0]       \n",
      "                                                                 tf_op_layer_Sub_109[0][0]        \n",
      "__________________________________________________________________________________________________\n",
      "ParticleNet_EdgeConv0_conv0 (Co (None, 50, 7, 32)    192         tf_op_layer_concat_109[0][0]     \n",
      "__________________________________________________________________________________________________\n",
      "ParticleNet_EdgeConv0_bn0 (Batc (None, 50, 7, 32)    128         ParticleNet_EdgeConv0_conv0[0][0]\n",
      "__________________________________________________________________________________________________\n",
      "ParticleNet_EdgeConv0_act0 (Act (None, 50, 7, 32)    0           ParticleNet_EdgeConv0_bn0[0][0]  \n",
      "__________________________________________________________________________________________________\n",
      "ParticleNet_EdgeConv0_conv1 (Co (None, 50, 7, 32)    1024        ParticleNet_EdgeConv0_act0[0][0] \n",
      "__________________________________________________________________________________________________\n",
      "ParticleNet_EdgeConv0_bn1 (Batc (None, 50, 7, 32)    128         ParticleNet_EdgeConv0_conv1[0][0]\n",
      "__________________________________________________________________________________________________\n",
      "ParticleNet_EdgeConv0_act1 (Act (None, 50, 7, 32)    0           ParticleNet_EdgeConv0_bn1[0][0]  \n",
      "__________________________________________________________________________________________________\n",
      "tf_op_layer_ExpandDims_266 (Ten [(None, 50, 1, 3)]   0           tf_op_layer_Squeeze_155[0][0]    \n",
      "__________________________________________________________________________________________________\n",
      "ParticleNet_EdgeConv0_conv2 (Co (None, 50, 7, 32)    1024        ParticleNet_EdgeConv0_act1[0][0] \n",
      "__________________________________________________________________________________________________\n",
      "ParticleNet_EdgeConv0_sc_conv ( (None, 50, 1, 32)    96          tf_op_layer_ExpandDims_266[0][0] \n",
      "__________________________________________________________________________________________________\n",
      "ParticleNet_EdgeConv0_bn2 (Batc (None, 50, 7, 32)    128         ParticleNet_EdgeConv0_conv2[0][0]\n",
      "__________________________________________________________________________________________________\n",
      "ParticleNet_EdgeConv0_sc_bn (Ba (None, 50, 1, 32)    128         ParticleNet_EdgeConv0_sc_conv[0][\n",
      "__________________________________________________________________________________________________\n",
      "ParticleNet_EdgeConv0_act2 (Act (None, 50, 7, 32)    0           ParticleNet_EdgeConv0_bn2[0][0]  \n",
      "__________________________________________________________________________________________________\n",
      "tf_op_layer_Transpose_110 (Tens [(None, 2, 50)]      0           points[0][0]                     \n",
      "__________________________________________________________________________________________________\n",
      "tf_op_layer_Squeeze_156 (Tensor [(None, 50, 32)]     0           ParticleNet_EdgeConv0_sc_bn[0][0]\n",
      "__________________________________________________________________________________________________\n",
      "tf_op_layer_Mean_102 (TensorFlo [(None, 50, 32)]     0           ParticleNet_EdgeConv0_act2[0][0] \n",
      "__________________________________________________________________________________________________\n",
      "tf_op_layer_Mul_180 (TensorFlow [(None, 50, 2)]      0           points[0][0]                     \n",
      "                                                                 points[0][0]                     \n",
      "__________________________________________________________________________________________________\n",
      "tf_op_layer_BatchMatMulV2_55 (T [(None, 50, 50)]     0           points[0][0]                     \n",
      "                                                                 tf_op_layer_Transpose_110[0][0]  \n",
      "__________________________________________________________________________________________________\n",
      "tf_op_layer_Mul_181 (TensorFlow [(None, 50, 2)]      0           points[0][0]                     \n",
      "                                                                 points[0][0]                     \n",
      "__________________________________________________________________________________________________\n",
      "tf_op_layer_AddV2_109 (TensorFl [(None, 50, 32)]     0           tf_op_layer_Squeeze_156[0][0]    \n",
      "                                                                 tf_op_layer_Mean_102[0][0]       \n",
      "__________________________________________________________________________________________________\n",
      "tf_op_layer_Sum_110 (TensorFlow [(None, 50, 1)]      0           tf_op_layer_Mul_180[0][0]        \n",
      "__________________________________________________________________________________________________\n",
      "tf_op_layer_Mul_182 (TensorFlow [(None, 50, 50)]     0           tf_op_layer_BatchMatMulV2_55[0][0\n",
      "__________________________________________________________________________________________________\n",
      "tf_op_layer_Sum_111 (TensorFlow [(None, 50, 1)]      0           tf_op_layer_Mul_181[0][0]        \n",
      "__________________________________________________________________________________________________\n",
      "ParticleNet_EdgeConv0_sc_act (A (None, 50, 32)       0           tf_op_layer_AddV2_109[0][0]      \n",
      "__________________________________________________________________________________________________\n",
      "tf_op_layer_Sub_110 (TensorFlow [(None, 50, 50)]     0           tf_op_layer_Sum_110[0][0]        \n",
      "                                                                 tf_op_layer_Mul_182[0][0]        \n",
      "__________________________________________________________________________________________________\n",
      "tf_op_layer_Transpose_111 (Tens [(None, 1, 50)]      0           tf_op_layer_Sum_111[0][0]        \n",
      "__________________________________________________________________________________________________\n",
      "tf_op_layer_Shape_70 (TensorFlo [(3,)]               0           ParticleNet_EdgeConv0_sc_act[0][0\n",
      "__________________________________________________________________________________________________\n",
      "tf_op_layer_AddV2_110 (TensorFl [(None, 50, 50)]     0           tf_op_layer_Sub_110[0][0]        \n",
      "                                                                 tf_op_layer_Transpose_111[0][0]  \n",
      "__________________________________________________________________________________________________\n",
      "tf_op_layer_strided_slice_121 ( [()]                 0           tf_op_layer_Shape_70[0][0]       \n",
      "__________________________________________________________________________________________________\n",
      "tf_op_layer_Neg_55 (TensorFlowO [(None, 50, 50)]     0           tf_op_layer_AddV2_110[0][0]      \n",
      "__________________________________________________________________________________________________\n",
      "tf_op_layer_Range_55 (TensorFlo [(None,)]            0           tf_op_layer_strided_slice_121[0][\n",
      "__________________________________________________________________________________________________\n",
      "tf_op_layer_TopKV2_55 (TensorFl [(None, 50, 8), (Non 0           tf_op_layer_Neg_55[0][0]         \n",
      "__________________________________________________________________________________________________\n",
      "tf_op_layer_Reshape_55 (TensorF [(None, 1, 1, 1)]    0           tf_op_layer_Range_55[0][0]       \n",
      "__________________________________________________________________________________________________\n",
      "tf_op_layer_strided_slice_120 ( [(None, 50, 7)]      0           tf_op_layer_TopKV2_55[0][1]      \n",
      "__________________________________________________________________________________________________\n",
      "tf_op_layer_Tile_110 (TensorFlo [(None, 50, 7, 1)]   0           tf_op_layer_Reshape_55[0][0]     \n",
      "__________________________________________________________________________________________________\n",
      "tf_op_layer_ExpandDims_267 (Ten [(None, 50, 7, 1)]   0           tf_op_layer_strided_slice_120[0][\n",
      "__________________________________________________________________________________________________\n",
      "tf_op_layer_ExpandDims_268 (Ten [(None, 50, 1, 32)]  0           ParticleNet_EdgeConv0_sc_act[0][0\n",
      "__________________________________________________________________________________________________\n",
      "tf_op_layer_concat_110 (TensorF [(None, 50, 7, 2)]   0           tf_op_layer_Tile_110[0][0]       \n",
      "                                                                 tf_op_layer_ExpandDims_267[0][0] \n",
      "__________________________________________________________________________________________________\n",
      "tf_op_layer_Tile_111 (TensorFlo [(None, 50, 7, 32)]  0           tf_op_layer_ExpandDims_268[0][0] \n",
      "__________________________________________________________________________________________________\n",
      "tf_op_layer_GatherNd_55 (Tensor [(None, 50, 7, 32)]  0           ParticleNet_EdgeConv0_sc_act[0][0\n",
      "                                                                 tf_op_layer_concat_110[0][0]     \n",
      "__________________________________________________________________________________________________\n",
      "tf_op_layer_Sub_111 (TensorFlow [(None, 50, 7, 32)]  0           tf_op_layer_GatherNd_55[0][0]    \n",
      "                                                                 tf_op_layer_Tile_111[0][0]       \n",
      "__________________________________________________________________________________________________\n",
      "tf_op_layer_concat_111 (TensorF [(None, 50, 7, 64)]  0           tf_op_layer_Tile_111[0][0]       \n",
      "                                                                 tf_op_layer_Sub_111[0][0]        \n",
      "__________________________________________________________________________________________________\n",
      "ParticleNet_EdgeConv1_conv0 (Co (None, 50, 7, 64)    4096        tf_op_layer_concat_111[0][0]     \n",
      "__________________________________________________________________________________________________\n",
      "ParticleNet_EdgeConv1_bn0 (Batc (None, 50, 7, 64)    256         ParticleNet_EdgeConv1_conv0[0][0]\n",
      "__________________________________________________________________________________________________\n",
      "ParticleNet_EdgeConv1_act0 (Act (None, 50, 7, 64)    0           ParticleNet_EdgeConv1_bn0[0][0]  \n",
      "__________________________________________________________________________________________________\n",
      "ParticleNet_EdgeConv1_conv1 (Co (None, 50, 7, 64)    4096        ParticleNet_EdgeConv1_act0[0][0] \n",
      "__________________________________________________________________________________________________\n",
      "ParticleNet_EdgeConv1_bn1 (Batc (None, 50, 7, 64)    256         ParticleNet_EdgeConv1_conv1[0][0]\n",
      "__________________________________________________________________________________________________\n",
      "ParticleNet_EdgeConv1_act1 (Act (None, 50, 7, 64)    0           ParticleNet_EdgeConv1_bn1[0][0]  \n",
      "__________________________________________________________________________________________________\n",
      "tf_op_layer_ExpandDims_269 (Ten [(None, 50, 1, 32)]  0           ParticleNet_EdgeConv0_sc_act[0][0\n",
      "__________________________________________________________________________________________________\n",
      "ParticleNet_EdgeConv1_conv2 (Co (None, 50, 7, 64)    4096        ParticleNet_EdgeConv1_act1[0][0] \n",
      "__________________________________________________________________________________________________\n",
      "ParticleNet_EdgeConv1_sc_conv ( (None, 50, 1, 64)    2048        tf_op_layer_ExpandDims_269[0][0] \n",
      "__________________________________________________________________________________________________\n",
      "ParticleNet_EdgeConv1_bn2 (Batc (None, 50, 7, 64)    256         ParticleNet_EdgeConv1_conv2[0][0]\n",
      "__________________________________________________________________________________________________\n",
      "ParticleNet_EdgeConv1_sc_bn (Ba (None, 50, 1, 64)    256         ParticleNet_EdgeConv1_sc_conv[0][\n",
      "__________________________________________________________________________________________________\n",
      "ParticleNet_EdgeConv1_act2 (Act (None, 50, 7, 64)    0           ParticleNet_EdgeConv1_bn2[0][0]  \n",
      "__________________________________________________________________________________________________\n",
      "tf_op_layer_Squeeze_157 (Tensor [(None, 50, 64)]     0           ParticleNet_EdgeConv1_sc_bn[0][0]\n",
      "__________________________________________________________________________________________________\n",
      "tf_op_layer_Mean_103 (TensorFlo [(None, 50, 64)]     0           ParticleNet_EdgeConv1_act2[0][0] \n",
      "__________________________________________________________________________________________________\n",
      "tf_op_layer_AddV2_111 (TensorFl [(None, 50, 64)]     0           tf_op_layer_Squeeze_157[0][0]    \n",
      "                                                                 tf_op_layer_Mean_103[0][0]       \n",
      "__________________________________________________________________________________________________\n",
      "ParticleNet_EdgeConv1_sc_act (A (None, 50, 64)       0           tf_op_layer_AddV2_111[0][0]      \n",
      "__________________________________________________________________________________________________\n",
      "tf_op_layer_Mean_104 (TensorFlo [(None, 64)]         0           ParticleNet_EdgeConv1_sc_act[0][0\n",
      "__________________________________________________________________________________________________\n",
      "dense_34 (Dense)                (None, 10)           650         tf_op_layer_Mean_104[0][0]       \n",
      "__________________________________________________________________________________________________\n",
      "dense_35 (Dense)                (None, 1250)         13750       dense_34[0][0]                   \n",
      "__________________________________________________________________________________________________\n",
      "decoder_bn_1 (BatchNormalizatio (None, 1250)         5000        dense_35[0][0]                   \n",
      "__________________________________________________________________________________________________\n",
      "reshape_13 (Reshape)            (None, 50, 25)       0           decoder_bn_1[0][0]               \n",
      "__________________________________________________________________________________________________\n",
      "tf_op_layer_ExpandDims_270 (Ten [(None, 50, 1, 25)]  0           reshape_13[0][0]                 \n",
      "__________________________________________________________________________________________________\n",
      "decoder_conv_0 (Conv2D)         (None, 50, 1, 9)     234         tf_op_layer_ExpandDims_270[0][0] \n",
      "__________________________________________________________________________________________________\n",
      "tf_op_layer_Squeeze_158 (Tensor [(None, 50, 9)]      0           decoder_conv_0[0][0]             \n",
      "__________________________________________________________________________________________________\n",
      "decoder_bn_2 (BatchNormalizatio (None, 50, 9)        36          tf_op_layer_Squeeze_158[0][0]    \n",
      "__________________________________________________________________________________________________\n",
      "tf_op_layer_ExpandDims_271 (Ten [(None, 50, 1, 9)]   0           decoder_bn_2[0][0]               \n",
      "__________________________________________________________________________________________________\n",
      "decoder_conv_2 (Conv2D)         (None, 50, 1, 6)     60          tf_op_layer_ExpandDims_271[0][0] \n",
      "__________________________________________________________________________________________________\n",
      "tf_op_layer_Squeeze_159 (Tensor [(None, 50, 6)]      0           decoder_conv_2[0][0]             \n",
      "__________________________________________________________________________________________________\n",
      "decoder_bn_3 (BatchNormalizatio (None, 50, 6)        24          tf_op_layer_Squeeze_159[0][0]    \n",
      "__________________________________________________________________________________________________\n",
      "tf_op_layer_ExpandDims_272 (Ten [(None, 50, 1, 6)]   0           decoder_bn_3[0][0]               \n",
      "__________________________________________________________________________________________________\n",
      "decoder_conv_out (Conv2D)       (None, 50, 1, 3)     21          tf_op_layer_ExpandDims_272[0][0] \n",
      "__________________________________________________________________________________________________\n",
      "tf_op_layer_Squeeze_160 (Tensor [(None, 50, 3)]      0           decoder_conv_out[0][0]           \n",
      "==================================================================================================\n",
      "Total params: 37,995\n",
      "Trainable params: 34,691\n",
      "Non-trainable params: 3,304\n",
      "__________________________________________________________________________________________________\n"
     ]
    }
   ],
   "source": [
    "model.summary()"
   ]
  },
  {
   "cell_type": "code",
   "execution_count": 271,
   "metadata": {},
   "outputs": [
    {
     "name": "stdout",
     "output_type": "stream",
     "text": [
      "Epoch 1/10\n"
     ]
    },
    {
     "ename": "_SymbolicException",
     "evalue": "Inputs to eager execution function cannot be Keras symbolic tensors, but found [<tf.Tensor 'z_mean/leaky_re_lu_887/LeakyRelu:0' shape=(None, 10) dtype=float32>, <tf.Tensor 'z_log_var/leaky_re_lu_887/LeakyRelu:0' shape=(None, 10) dtype=float32>]",
     "output_type": "error",
     "traceback": [
      "\u001b[0;31m---------------------------------------------------------------------------\u001b[0m",
      "\u001b[0;31mTypeError\u001b[0m                                 Traceback (most recent call last)",
      "\u001b[0;32m/cvmfs/sft.cern.ch/lcg/views/LCG_100cuda/x86_64-centos7-gcc8-opt/lib/python3.7/site-packages/tensorflow/python/eager/execute.py\u001b[0m in \u001b[0;36mquick_execute\u001b[0;34m(op_name, num_outputs, inputs, attrs, ctx, name)\u001b[0m\n\u001b[1;32m     59\u001b[0m     tensors = pywrap_tfe.TFE_Py_Execute(ctx._handle, device_name, op_name,\n\u001b[0;32m---> 60\u001b[0;31m                                         inputs, attrs, num_outputs)\n\u001b[0m\u001b[1;32m     61\u001b[0m   \u001b[0;32mexcept\u001b[0m \u001b[0mcore\u001b[0m\u001b[0;34m.\u001b[0m\u001b[0m_NotOkStatusException\u001b[0m \u001b[0;32mas\u001b[0m \u001b[0me\u001b[0m\u001b[0;34m:\u001b[0m\u001b[0;34m\u001b[0m\u001b[0;34m\u001b[0m\u001b[0m\n",
      "\u001b[0;31mTypeError\u001b[0m: An op outside of the function building code is being passed\na \"Graph\" tensor. It is possible to have Graph tensors\nleak out of the function building context by including a\ntf.init_scope in your function building code.\nFor example, the following function will fail:\n  @tf.function\n  def has_init_scope():\n    my_constant = tf.constant(1.)\n    with tf.init_scope():\n      added = my_constant * 2\nThe graph tensor has name: z_mean/leaky_re_lu_887/LeakyRelu:0",
      "\nDuring handling of the above exception, another exception occurred:\n",
      "\u001b[0;31m_SymbolicException\u001b[0m                        Traceback (most recent call last)",
      "\u001b[0;32m<ipython-input-271-d1281ab85914>\u001b[0m in \u001b[0;36m<module>\u001b[0;34m\u001b[0m\n\u001b[1;32m     11\u001b[0m                     \u001b[0mbatch_size\u001b[0m\u001b[0;34m=\u001b[0m\u001b[0;36m128\u001b[0m\u001b[0;34m,\u001b[0m\u001b[0;34m\u001b[0m\u001b[0;34m\u001b[0m\u001b[0m\n\u001b[1;32m     12\u001b[0m                     \u001b[0mverbose\u001b[0m\u001b[0;34m=\u001b[0m\u001b[0;36m1\u001b[0m\u001b[0;34m,\u001b[0m\u001b[0;34m\u001b[0m\u001b[0;34m\u001b[0m\u001b[0m\n\u001b[0;32m---> 13\u001b[0;31m                     callbacks=[es,ls]) \n\u001b[0m",
      "\u001b[0;32m/cvmfs/sft.cern.ch/lcg/views/LCG_100cuda/x86_64-centos7-gcc8-opt/lib/python3.7/site-packages/tensorflow/python/keras/engine/training.py\u001b[0m in \u001b[0;36m_method_wrapper\u001b[0;34m(self, *args, **kwargs)\u001b[0m\n\u001b[1;32m    106\u001b[0m   \u001b[0;32mdef\u001b[0m \u001b[0m_method_wrapper\u001b[0m\u001b[0;34m(\u001b[0m\u001b[0mself\u001b[0m\u001b[0;34m,\u001b[0m \u001b[0;34m*\u001b[0m\u001b[0margs\u001b[0m\u001b[0;34m,\u001b[0m \u001b[0;34m**\u001b[0m\u001b[0mkwargs\u001b[0m\u001b[0;34m)\u001b[0m\u001b[0;34m:\u001b[0m\u001b[0;34m\u001b[0m\u001b[0;34m\u001b[0m\u001b[0m\n\u001b[1;32m    107\u001b[0m     \u001b[0;32mif\u001b[0m \u001b[0;32mnot\u001b[0m \u001b[0mself\u001b[0m\u001b[0;34m.\u001b[0m\u001b[0m_in_multi_worker_mode\u001b[0m\u001b[0;34m(\u001b[0m\u001b[0;34m)\u001b[0m\u001b[0;34m:\u001b[0m  \u001b[0;31m# pylint: disable=protected-access\u001b[0m\u001b[0;34m\u001b[0m\u001b[0;34m\u001b[0m\u001b[0m\n\u001b[0;32m--> 108\u001b[0;31m       \u001b[0;32mreturn\u001b[0m \u001b[0mmethod\u001b[0m\u001b[0;34m(\u001b[0m\u001b[0mself\u001b[0m\u001b[0;34m,\u001b[0m \u001b[0;34m*\u001b[0m\u001b[0margs\u001b[0m\u001b[0;34m,\u001b[0m \u001b[0;34m**\u001b[0m\u001b[0mkwargs\u001b[0m\u001b[0;34m)\u001b[0m\u001b[0;34m\u001b[0m\u001b[0;34m\u001b[0m\u001b[0m\n\u001b[0m\u001b[1;32m    109\u001b[0m \u001b[0;34m\u001b[0m\u001b[0m\n\u001b[1;32m    110\u001b[0m     \u001b[0;31m# Running inside `run_distribute_coordinator` already.\u001b[0m\u001b[0;34m\u001b[0m\u001b[0;34m\u001b[0m\u001b[0;34m\u001b[0m\u001b[0m\n",
      "\u001b[0;32m/cvmfs/sft.cern.ch/lcg/views/LCG_100cuda/x86_64-centos7-gcc8-opt/lib/python3.7/site-packages/tensorflow/python/keras/engine/training.py\u001b[0m in \u001b[0;36mfit\u001b[0;34m(self, x, y, batch_size, epochs, verbose, callbacks, validation_split, validation_data, shuffle, class_weight, sample_weight, initial_epoch, steps_per_epoch, validation_steps, validation_batch_size, validation_freq, max_queue_size, workers, use_multiprocessing)\u001b[0m\n\u001b[1;32m   1096\u001b[0m                 batch_size=batch_size):\n\u001b[1;32m   1097\u001b[0m               \u001b[0mcallbacks\u001b[0m\u001b[0;34m.\u001b[0m\u001b[0mon_train_batch_begin\u001b[0m\u001b[0;34m(\u001b[0m\u001b[0mstep\u001b[0m\u001b[0;34m)\u001b[0m\u001b[0;34m\u001b[0m\u001b[0;34m\u001b[0m\u001b[0m\n\u001b[0;32m-> 1098\u001b[0;31m               \u001b[0mtmp_logs\u001b[0m \u001b[0;34m=\u001b[0m \u001b[0mtrain_function\u001b[0m\u001b[0;34m(\u001b[0m\u001b[0miterator\u001b[0m\u001b[0;34m)\u001b[0m\u001b[0;34m\u001b[0m\u001b[0;34m\u001b[0m\u001b[0m\n\u001b[0m\u001b[1;32m   1099\u001b[0m               \u001b[0;32mif\u001b[0m \u001b[0mdata_handler\u001b[0m\u001b[0;34m.\u001b[0m\u001b[0mshould_sync\u001b[0m\u001b[0;34m:\u001b[0m\u001b[0;34m\u001b[0m\u001b[0;34m\u001b[0m\u001b[0m\n\u001b[1;32m   1100\u001b[0m                 \u001b[0mcontext\u001b[0m\u001b[0;34m.\u001b[0m\u001b[0masync_wait\u001b[0m\u001b[0;34m(\u001b[0m\u001b[0;34m)\u001b[0m\u001b[0;34m\u001b[0m\u001b[0;34m\u001b[0m\u001b[0m\n",
      "\u001b[0;32m/cvmfs/sft.cern.ch/lcg/views/LCG_100cuda/x86_64-centos7-gcc8-opt/lib/python3.7/site-packages/tensorflow/python/eager/def_function.py\u001b[0m in \u001b[0;36m__call__\u001b[0;34m(self, *args, **kwds)\u001b[0m\n\u001b[1;32m    778\u001b[0m       \u001b[0;32melse\u001b[0m\u001b[0;34m:\u001b[0m\u001b[0;34m\u001b[0m\u001b[0;34m\u001b[0m\u001b[0m\n\u001b[1;32m    779\u001b[0m         \u001b[0mcompiler\u001b[0m \u001b[0;34m=\u001b[0m \u001b[0;34m\"nonXla\"\u001b[0m\u001b[0;34m\u001b[0m\u001b[0;34m\u001b[0m\u001b[0m\n\u001b[0;32m--> 780\u001b[0;31m         \u001b[0mresult\u001b[0m \u001b[0;34m=\u001b[0m \u001b[0mself\u001b[0m\u001b[0;34m.\u001b[0m\u001b[0m_call\u001b[0m\u001b[0;34m(\u001b[0m\u001b[0;34m*\u001b[0m\u001b[0margs\u001b[0m\u001b[0;34m,\u001b[0m \u001b[0;34m**\u001b[0m\u001b[0mkwds\u001b[0m\u001b[0;34m)\u001b[0m\u001b[0;34m\u001b[0m\u001b[0;34m\u001b[0m\u001b[0m\n\u001b[0m\u001b[1;32m    781\u001b[0m \u001b[0;34m\u001b[0m\u001b[0m\n\u001b[1;32m    782\u001b[0m       \u001b[0mnew_tracing_count\u001b[0m \u001b[0;34m=\u001b[0m \u001b[0mself\u001b[0m\u001b[0;34m.\u001b[0m\u001b[0m_get_tracing_count\u001b[0m\u001b[0;34m(\u001b[0m\u001b[0;34m)\u001b[0m\u001b[0;34m\u001b[0m\u001b[0;34m\u001b[0m\u001b[0m\n",
      "\u001b[0;32m/cvmfs/sft.cern.ch/lcg/views/LCG_100cuda/x86_64-centos7-gcc8-opt/lib/python3.7/site-packages/tensorflow/python/eager/def_function.py\u001b[0m in \u001b[0;36m_call\u001b[0;34m(self, *args, **kwds)\u001b[0m\n\u001b[1;32m    838\u001b[0m         \u001b[0;31m# Lifting succeeded, so variables are initialized and we can run the\u001b[0m\u001b[0;34m\u001b[0m\u001b[0;34m\u001b[0m\u001b[0;34m\u001b[0m\u001b[0m\n\u001b[1;32m    839\u001b[0m         \u001b[0;31m# stateless function.\u001b[0m\u001b[0;34m\u001b[0m\u001b[0;34m\u001b[0m\u001b[0;34m\u001b[0m\u001b[0m\n\u001b[0;32m--> 840\u001b[0;31m         \u001b[0;32mreturn\u001b[0m \u001b[0mself\u001b[0m\u001b[0;34m.\u001b[0m\u001b[0m_stateless_fn\u001b[0m\u001b[0;34m(\u001b[0m\u001b[0;34m*\u001b[0m\u001b[0margs\u001b[0m\u001b[0;34m,\u001b[0m \u001b[0;34m**\u001b[0m\u001b[0mkwds\u001b[0m\u001b[0;34m)\u001b[0m\u001b[0;34m\u001b[0m\u001b[0;34m\u001b[0m\u001b[0m\n\u001b[0m\u001b[1;32m    841\u001b[0m     \u001b[0;32melse\u001b[0m\u001b[0;34m:\u001b[0m\u001b[0;34m\u001b[0m\u001b[0;34m\u001b[0m\u001b[0m\n\u001b[1;32m    842\u001b[0m       \u001b[0mcanon_args\u001b[0m\u001b[0;34m,\u001b[0m \u001b[0mcanon_kwds\u001b[0m \u001b[0;34m=\u001b[0m\u001b[0;31m \u001b[0m\u001b[0;31m\\\u001b[0m\u001b[0;34m\u001b[0m\u001b[0;34m\u001b[0m\u001b[0m\n",
      "\u001b[0;32m/cvmfs/sft.cern.ch/lcg/views/LCG_100cuda/x86_64-centos7-gcc8-opt/lib/python3.7/site-packages/tensorflow/python/eager/function.py\u001b[0m in \u001b[0;36m__call__\u001b[0;34m(self, *args, **kwargs)\u001b[0m\n\u001b[1;32m   2827\u001b[0m     \u001b[0;32mwith\u001b[0m \u001b[0mself\u001b[0m\u001b[0;34m.\u001b[0m\u001b[0m_lock\u001b[0m\u001b[0;34m:\u001b[0m\u001b[0;34m\u001b[0m\u001b[0;34m\u001b[0m\u001b[0m\n\u001b[1;32m   2828\u001b[0m       \u001b[0mgraph_function\u001b[0m\u001b[0;34m,\u001b[0m \u001b[0margs\u001b[0m\u001b[0;34m,\u001b[0m \u001b[0mkwargs\u001b[0m \u001b[0;34m=\u001b[0m \u001b[0mself\u001b[0m\u001b[0;34m.\u001b[0m\u001b[0m_maybe_define_function\u001b[0m\u001b[0;34m(\u001b[0m\u001b[0margs\u001b[0m\u001b[0;34m,\u001b[0m \u001b[0mkwargs\u001b[0m\u001b[0;34m)\u001b[0m\u001b[0;34m\u001b[0m\u001b[0;34m\u001b[0m\u001b[0m\n\u001b[0;32m-> 2829\u001b[0;31m     \u001b[0;32mreturn\u001b[0m \u001b[0mgraph_function\u001b[0m\u001b[0;34m.\u001b[0m\u001b[0m_filtered_call\u001b[0m\u001b[0;34m(\u001b[0m\u001b[0margs\u001b[0m\u001b[0;34m,\u001b[0m \u001b[0mkwargs\u001b[0m\u001b[0;34m)\u001b[0m  \u001b[0;31m# pylint: disable=protected-access\u001b[0m\u001b[0;34m\u001b[0m\u001b[0;34m\u001b[0m\u001b[0m\n\u001b[0m\u001b[1;32m   2830\u001b[0m \u001b[0;34m\u001b[0m\u001b[0m\n\u001b[1;32m   2831\u001b[0m   \u001b[0;34m@\u001b[0m\u001b[0mproperty\u001b[0m\u001b[0;34m\u001b[0m\u001b[0;34m\u001b[0m\u001b[0m\n",
      "\u001b[0;32m/cvmfs/sft.cern.ch/lcg/views/LCG_100cuda/x86_64-centos7-gcc8-opt/lib/python3.7/site-packages/tensorflow/python/eager/function.py\u001b[0m in \u001b[0;36m_filtered_call\u001b[0;34m(self, args, kwargs, cancellation_manager)\u001b[0m\n\u001b[1;32m   1846\u001b[0m                            resource_variable_ops.BaseResourceVariable))],\n\u001b[1;32m   1847\u001b[0m         \u001b[0mcaptured_inputs\u001b[0m\u001b[0;34m=\u001b[0m\u001b[0mself\u001b[0m\u001b[0;34m.\u001b[0m\u001b[0mcaptured_inputs\u001b[0m\u001b[0;34m,\u001b[0m\u001b[0;34m\u001b[0m\u001b[0;34m\u001b[0m\u001b[0m\n\u001b[0;32m-> 1848\u001b[0;31m         cancellation_manager=cancellation_manager)\n\u001b[0m\u001b[1;32m   1849\u001b[0m \u001b[0;34m\u001b[0m\u001b[0m\n\u001b[1;32m   1850\u001b[0m   \u001b[0;32mdef\u001b[0m \u001b[0m_call_flat\u001b[0m\u001b[0;34m(\u001b[0m\u001b[0mself\u001b[0m\u001b[0;34m,\u001b[0m \u001b[0margs\u001b[0m\u001b[0;34m,\u001b[0m \u001b[0mcaptured_inputs\u001b[0m\u001b[0;34m,\u001b[0m \u001b[0mcancellation_manager\u001b[0m\u001b[0;34m=\u001b[0m\u001b[0;32mNone\u001b[0m\u001b[0;34m)\u001b[0m\u001b[0;34m:\u001b[0m\u001b[0;34m\u001b[0m\u001b[0;34m\u001b[0m\u001b[0m\n",
      "\u001b[0;32m/cvmfs/sft.cern.ch/lcg/views/LCG_100cuda/x86_64-centos7-gcc8-opt/lib/python3.7/site-packages/tensorflow/python/eager/function.py\u001b[0m in \u001b[0;36m_call_flat\u001b[0;34m(self, args, captured_inputs, cancellation_manager)\u001b[0m\n\u001b[1;32m   1922\u001b[0m       \u001b[0;31m# No tape is watching; skip to running the function.\u001b[0m\u001b[0;34m\u001b[0m\u001b[0;34m\u001b[0m\u001b[0;34m\u001b[0m\u001b[0m\n\u001b[1;32m   1923\u001b[0m       return self._build_call_outputs(self._inference_function.call(\n\u001b[0;32m-> 1924\u001b[0;31m           ctx, args, cancellation_manager=cancellation_manager))\n\u001b[0m\u001b[1;32m   1925\u001b[0m     forward_backward = self._select_forward_and_backward_functions(\n\u001b[1;32m   1926\u001b[0m         \u001b[0margs\u001b[0m\u001b[0;34m,\u001b[0m\u001b[0;34m\u001b[0m\u001b[0;34m\u001b[0m\u001b[0m\n",
      "\u001b[0;32m/cvmfs/sft.cern.ch/lcg/views/LCG_100cuda/x86_64-centos7-gcc8-opt/lib/python3.7/site-packages/tensorflow/python/eager/function.py\u001b[0m in \u001b[0;36mcall\u001b[0;34m(self, ctx, args, cancellation_manager)\u001b[0m\n\u001b[1;32m    548\u001b[0m               \u001b[0minputs\u001b[0m\u001b[0;34m=\u001b[0m\u001b[0margs\u001b[0m\u001b[0;34m,\u001b[0m\u001b[0;34m\u001b[0m\u001b[0;34m\u001b[0m\u001b[0m\n\u001b[1;32m    549\u001b[0m               \u001b[0mattrs\u001b[0m\u001b[0;34m=\u001b[0m\u001b[0mattrs\u001b[0m\u001b[0;34m,\u001b[0m\u001b[0;34m\u001b[0m\u001b[0;34m\u001b[0m\u001b[0m\n\u001b[0;32m--> 550\u001b[0;31m               ctx=ctx)\n\u001b[0m\u001b[1;32m    551\u001b[0m         \u001b[0;32melse\u001b[0m\u001b[0;34m:\u001b[0m\u001b[0;34m\u001b[0m\u001b[0;34m\u001b[0m\u001b[0m\n\u001b[1;32m    552\u001b[0m           outputs = execute.execute_with_cancellation(\n",
      "\u001b[0;32m/cvmfs/sft.cern.ch/lcg/views/LCG_100cuda/x86_64-centos7-gcc8-opt/lib/python3.7/site-packages/tensorflow/python/eager/execute.py\u001b[0m in \u001b[0;36mquick_execute\u001b[0;34m(op_name, num_outputs, inputs, attrs, ctx, name)\u001b[0m\n\u001b[1;32m     72\u001b[0m       raise core._SymbolicException(\n\u001b[1;32m     73\u001b[0m           \u001b[0;34m\"Inputs to eager execution function cannot be Keras symbolic \"\u001b[0m\u001b[0;34m\u001b[0m\u001b[0;34m\u001b[0m\u001b[0m\n\u001b[0;32m---> 74\u001b[0;31m           \"tensors, but found {}\".format(keras_symbolic_tensors))\n\u001b[0m\u001b[1;32m     75\u001b[0m     \u001b[0;32mraise\u001b[0m \u001b[0me\u001b[0m\u001b[0;34m\u001b[0m\u001b[0;34m\u001b[0m\u001b[0m\n\u001b[1;32m     76\u001b[0m   \u001b[0;31m# pylint: enable=protected-access\u001b[0m\u001b[0;34m\u001b[0m\u001b[0;34m\u001b[0m\u001b[0;34m\u001b[0m\u001b[0m\n",
      "\u001b[0;31m_SymbolicException\u001b[0m: Inputs to eager execution function cannot be Keras symbolic tensors, but found [<tf.Tensor 'z_mean/leaky_re_lu_887/LeakyRelu:0' shape=(None, 10) dtype=float32>, <tf.Tensor 'z_log_var/leaky_re_lu_887/LeakyRelu:0' shape=(None, 10) dtype=float32>]"
     ]
    }
   ],
   "source": [
    "\n",
    "# early stopping callback\n",
    "es = EarlyStopping(monitor='val_loss', patience=10)\n",
    "\n",
    "# Learning rate scheduler \n",
    "ls = ReduceLROnPlateau(monitor='val_loss', factor=0.2, patience=10)\n",
    "\n",
    "history = model.fit((particles_bg[:500000,:,0:2], particles_bg[:500000,:,:]) ,  particles_bg[:500000,:,:],\n",
    "                    validation_data = ((particles_bg_valid[:100000,:,0:2], particles_bg_valid[:100000,:,:]) , particles_bg_valid[:100000,:,:]),\n",
    "                    epochs=10, \n",
    "                    batch_size=128, \n",
    "                    verbose=1,\n",
    "                    callbacks=[es,ls]) "
   ]
  },
  {
   "cell_type": "code",
   "execution_count": 375,
   "metadata": {},
   "outputs": [],
   "source": [
    "\n",
    "input_shapes = {}\n",
    "input_shapes['points'] =  [nodes_n,feat_sz-1] #using only coordinates eta phi\n",
    "input_shapes['features'] = [nodes_n,feat_sz]\n",
    "input_shapes['mask'] = None\n",
    "ae_info = {}\n",
    "ae_info['latent_dim'] = 10\n",
    "ae_info['ae_type'] = 'ae'\n",
    "\n",
    "class _DotDict:\n",
    "    pass\n",
    "\n",
    "\n",
    "if 1>0:\n",
    "    setting = _DotDict()\n",
    "    # conv_params: list of tuple in the format (K, (C1, C2, C3))\n",
    "    setting.conv_params = [\n",
    "        (7, (32, 32, 32)),\n",
    "        (7, (64, 64, 64)),\n",
    "        ]\n",
    "    # conv_pooling: 'average' or 'max'\n",
    "    setting.conv_pooling = 'average'\n",
    "    # fc_params: list of tuples in the format (C, drop_rate)\n",
    "    setting.fc_params = None \n",
    "    setting.num_points = input_shapes['points'][0] #num of original consituents\n",
    "    setting.num_features = input_shapes['features'][1] #num of original features\n",
    "    setting.latent_dim = ae_info['latent_dim'] \n",
    "    setting.ae_type = ae_info['ae_type'] #'ae' #ae or vae \n",
    "\n"
   ]
  },
  {
   "cell_type": "code",
   "execution_count": 376,
   "metadata": {},
   "outputs": [
    {
     "data": {
      "text/plain": [
       "<module 'models.ParticleNetAE' from '/eos/home-n/nchernya/MLHEP/AnomalyDetection/ADgvae/models/ParticleNetAE.py'>"
      ]
     },
     "execution_count": 376,
     "metadata": {},
     "output_type": "execute_result"
    }
   ],
   "source": [
    "import models.models as models\n",
    "reload(models)\n",
    "import models.layers as layers\n",
    "reload(layers)\n",
    "import models.PNmodel as pn\n",
    "reload(pn)\n",
    "import models.custom_functions as funcs\n",
    "reload(funcs)\n",
    "import models.ParticleNetAE as pnae\n",
    "reload(pnae)"
   ]
  },
  {
   "cell_type": "code",
   "execution_count": 377,
   "metadata": {},
   "outputs": [
    {
     "name": "stdout",
     "output_type": "stream",
     "text": [
      "Model: \"ParticleNetBase\"\n",
      "__________________________________________________________________________________________________\n",
      "Layer (type)                    Output Shape         Param #     Connected to                     \n",
      "==================================================================================================\n",
      "points (InputLayer)             [(None, 50, 2)]      0                                            \n",
      "__________________________________________________________________________________________________\n",
      "features (InputLayer)           [(None, 50, 3)]      0                                            \n",
      "__________________________________________________________________________________________________\n",
      "tf_op_layer_Transpose_120 (Tens [(None, 2, 50)]      0           points[0][0]                     \n",
      "__________________________________________________________________________________________________\n",
      "tf_op_layer_ExpandDims_293 (Ten [(None, 50, 1, 3)]   0           features[0][0]                   \n",
      "__________________________________________________________________________________________________\n",
      "tf_op_layer_Mul_195 (TensorFlow [(None, 50, 2)]      0           points[0][0]                     \n",
      "                                                                 points[0][0]                     \n",
      "__________________________________________________________________________________________________\n",
      "tf_op_layer_BatchMatMulV2_60 (T [(None, 50, 50)]     0           points[0][0]                     \n",
      "                                                                 tf_op_layer_Transpose_120[0][0]  \n",
      "__________________________________________________________________________________________________\n",
      "tf_op_layer_Mul_196 (TensorFlow [(None, 50, 2)]      0           points[0][0]                     \n",
      "                                                                 points[0][0]                     \n",
      "__________________________________________________________________________________________________\n",
      "PN__fts_bn (BatchNormalization) (None, 50, 1, 3)     12          tf_op_layer_ExpandDims_293[0][0] \n",
      "__________________________________________________________________________________________________\n",
      "tf_op_layer_Sum_120 (TensorFlow [(None, 50, 1)]      0           tf_op_layer_Mul_195[0][0]        \n",
      "__________________________________________________________________________________________________\n",
      "tf_op_layer_Mul_197 (TensorFlow [(None, 50, 50)]     0           tf_op_layer_BatchMatMulV2_60[0][0\n",
      "__________________________________________________________________________________________________\n",
      "tf_op_layer_Sum_121 (TensorFlow [(None, 50, 1)]      0           tf_op_layer_Mul_196[0][0]        \n",
      "__________________________________________________________________________________________________\n",
      "tf_op_layer_Squeeze_173 (Tensor [(None, 50, 3)]      0           PN__fts_bn[0][0]                 \n",
      "__________________________________________________________________________________________________\n",
      "tf_op_layer_Sub_120 (TensorFlow [(None, 50, 50)]     0           tf_op_layer_Sum_120[0][0]        \n",
      "                                                                 tf_op_layer_Mul_197[0][0]        \n",
      "__________________________________________________________________________________________________\n",
      "tf_op_layer_Transpose_121 (Tens [(None, 1, 50)]      0           tf_op_layer_Sum_121[0][0]        \n",
      "__________________________________________________________________________________________________\n",
      "tf_op_layer_Shape_75 (TensorFlo [(3,)]               0           tf_op_layer_Squeeze_173[0][0]    \n",
      "__________________________________________________________________________________________________\n",
      "tf_op_layer_AddV2_120 (TensorFl [(None, 50, 50)]     0           tf_op_layer_Sub_120[0][0]        \n",
      "                                                                 tf_op_layer_Transpose_121[0][0]  \n",
      "__________________________________________________________________________________________________\n",
      "tf_op_layer_strided_slice_131 ( [()]                 0           tf_op_layer_Shape_75[0][0]       \n",
      "__________________________________________________________________________________________________\n",
      "tf_op_layer_Neg_60 (TensorFlowO [(None, 50, 50)]     0           tf_op_layer_AddV2_120[0][0]      \n",
      "__________________________________________________________________________________________________\n",
      "tf_op_layer_Range_60 (TensorFlo [(None,)]            0           tf_op_layer_strided_slice_131[0][\n",
      "__________________________________________________________________________________________________\n",
      "tf_op_layer_TopKV2_60 (TensorFl [(None, 50, 8), (Non 0           tf_op_layer_Neg_60[0][0]         \n",
      "__________________________________________________________________________________________________\n",
      "tf_op_layer_Reshape_60 (TensorF [(None, 1, 1, 1)]    0           tf_op_layer_Range_60[0][0]       \n",
      "__________________________________________________________________________________________________\n",
      "tf_op_layer_strided_slice_130 ( [(None, 50, 7)]      0           tf_op_layer_TopKV2_60[0][1]      \n",
      "__________________________________________________________________________________________________\n",
      "tf_op_layer_Tile_120 (TensorFlo [(None, 50, 7, 1)]   0           tf_op_layer_Reshape_60[0][0]     \n",
      "__________________________________________________________________________________________________\n",
      "tf_op_layer_ExpandDims_294 (Ten [(None, 50, 7, 1)]   0           tf_op_layer_strided_slice_130[0][\n",
      "__________________________________________________________________________________________________\n",
      "tf_op_layer_ExpandDims_295 (Ten [(None, 50, 1, 3)]   0           tf_op_layer_Squeeze_173[0][0]    \n",
      "__________________________________________________________________________________________________\n",
      "tf_op_layer_concat_120 (TensorF [(None, 50, 7, 2)]   0           tf_op_layer_Tile_120[0][0]       \n",
      "                                                                 tf_op_layer_ExpandDims_294[0][0] \n",
      "__________________________________________________________________________________________________\n",
      "tf_op_layer_Tile_121 (TensorFlo [(None, 50, 7, 3)]   0           tf_op_layer_ExpandDims_295[0][0] \n",
      "__________________________________________________________________________________________________\n",
      "tf_op_layer_GatherNd_60 (Tensor [(None, 50, 7, 3)]   0           tf_op_layer_Squeeze_173[0][0]    \n",
      "                                                                 tf_op_layer_concat_120[0][0]     \n",
      "__________________________________________________________________________________________________\n",
      "tf_op_layer_Sub_121 (TensorFlow [(None, 50, 7, 3)]   0           tf_op_layer_GatherNd_60[0][0]    \n",
      "                                                                 tf_op_layer_Tile_121[0][0]       \n",
      "__________________________________________________________________________________________________\n",
      "tf_op_layer_concat_121 (TensorF [(None, 50, 7, 6)]   0           tf_op_layer_Tile_121[0][0]       \n",
      "                                                                 tf_op_layer_Sub_121[0][0]        \n",
      "__________________________________________________________________________________________________\n",
      "conv2d_115 (Conv2D)             (None, 50, 7, 32)    192         tf_op_layer_concat_121[0][0]     \n",
      "__________________________________________________________________________________________________\n",
      "batch_normalization_101 (BatchN (None, 50, 7, 32)    128         conv2d_115[0][0]                 \n",
      "__________________________________________________________________________________________________\n",
      "activation_100 (Activation)     (None, 50, 7, 32)    0           batch_normalization_101[0][0]    \n",
      "__________________________________________________________________________________________________\n",
      "conv2d_116 (Conv2D)             (None, 50, 7, 32)    1024        activation_100[0][0]             \n",
      "__________________________________________________________________________________________________\n",
      "batch_normalization_102 (BatchN (None, 50, 7, 32)    128         conv2d_116[0][0]                 \n",
      "__________________________________________________________________________________________________\n",
      "activation_101 (Activation)     (None, 50, 7, 32)    0           batch_normalization_102[0][0]    \n",
      "__________________________________________________________________________________________________\n",
      "tf_op_layer_ExpandDims_296 (Ten [(None, 50, 1, 3)]   0           tf_op_layer_Squeeze_173[0][0]    \n",
      "__________________________________________________________________________________________________\n",
      "conv2d_117 (Conv2D)             (None, 50, 7, 32)    1024        activation_101[0][0]             \n",
      "__________________________________________________________________________________________________\n",
      "conv2d_118 (Conv2D)             (None, 50, 1, 32)    96          tf_op_layer_ExpandDims_296[0][0] \n",
      "__________________________________________________________________________________________________\n",
      "batch_normalization_103 (BatchN (None, 50, 7, 32)    128         conv2d_117[0][0]                 \n",
      "__________________________________________________________________________________________________\n",
      "batch_normalization_104 (BatchN (None, 50, 1, 32)    128         conv2d_118[0][0]                 \n",
      "__________________________________________________________________________________________________\n",
      "activation_102 (Activation)     (None, 50, 7, 32)    0           batch_normalization_103[0][0]    \n",
      "__________________________________________________________________________________________________\n",
      "tf_op_layer_Transpose_122 (Tens [(None, 2, 50)]      0           points[0][0]                     \n",
      "__________________________________________________________________________________________________\n",
      "tf_op_layer_Squeeze_174 (Tensor [(None, 50, 32)]     0           batch_normalization_104[0][0]    \n",
      "__________________________________________________________________________________________________\n",
      "tf_op_layer_Mean_111 (TensorFlo [(None, 50, 32)]     0           activation_102[0][0]             \n",
      "__________________________________________________________________________________________________\n",
      "tf_op_layer_Mul_198 (TensorFlow [(None, 50, 2)]      0           points[0][0]                     \n",
      "                                                                 points[0][0]                     \n",
      "__________________________________________________________________________________________________\n",
      "tf_op_layer_BatchMatMulV2_61 (T [(None, 50, 50)]     0           points[0][0]                     \n",
      "                                                                 tf_op_layer_Transpose_122[0][0]  \n",
      "__________________________________________________________________________________________________\n",
      "tf_op_layer_Mul_199 (TensorFlow [(None, 50, 2)]      0           points[0][0]                     \n",
      "                                                                 points[0][0]                     \n",
      "__________________________________________________________________________________________________\n",
      "tf_op_layer_AddV2_121 (TensorFl [(None, 50, 32)]     0           tf_op_layer_Squeeze_174[0][0]    \n",
      "                                                                 tf_op_layer_Mean_111[0][0]       \n",
      "__________________________________________________________________________________________________\n",
      "tf_op_layer_Sum_122 (TensorFlow [(None, 50, 1)]      0           tf_op_layer_Mul_198[0][0]        \n",
      "__________________________________________________________________________________________________\n",
      "tf_op_layer_Mul_200 (TensorFlow [(None, 50, 50)]     0           tf_op_layer_BatchMatMulV2_61[0][0\n",
      "__________________________________________________________________________________________________\n",
      "tf_op_layer_Sum_123 (TensorFlow [(None, 50, 1)]      0           tf_op_layer_Mul_199[0][0]        \n",
      "__________________________________________________________________________________________________\n",
      "activation_103 (Activation)     (None, 50, 32)       0           tf_op_layer_AddV2_121[0][0]      \n",
      "__________________________________________________________________________________________________\n",
      "tf_op_layer_Sub_122 (TensorFlow [(None, 50, 50)]     0           tf_op_layer_Sum_122[0][0]        \n",
      "                                                                 tf_op_layer_Mul_200[0][0]        \n",
      "__________________________________________________________________________________________________\n",
      "tf_op_layer_Transpose_123 (Tens [(None, 1, 50)]      0           tf_op_layer_Sum_123[0][0]        \n",
      "__________________________________________________________________________________________________\n",
      "tf_op_layer_Shape_76 (TensorFlo [(3,)]               0           activation_103[0][0]             \n",
      "__________________________________________________________________________________________________\n",
      "tf_op_layer_AddV2_122 (TensorFl [(None, 50, 50)]     0           tf_op_layer_Sub_122[0][0]        \n",
      "                                                                 tf_op_layer_Transpose_123[0][0]  \n",
      "__________________________________________________________________________________________________\n",
      "tf_op_layer_strided_slice_133 ( [()]                 0           tf_op_layer_Shape_76[0][0]       \n",
      "__________________________________________________________________________________________________\n",
      "tf_op_layer_Neg_61 (TensorFlowO [(None, 50, 50)]     0           tf_op_layer_AddV2_122[0][0]      \n",
      "__________________________________________________________________________________________________\n",
      "tf_op_layer_Range_61 (TensorFlo [(None,)]            0           tf_op_layer_strided_slice_133[0][\n",
      "__________________________________________________________________________________________________\n",
      "tf_op_layer_TopKV2_61 (TensorFl [(None, 50, 8), (Non 0           tf_op_layer_Neg_61[0][0]         \n",
      "__________________________________________________________________________________________________\n",
      "tf_op_layer_Reshape_61 (TensorF [(None, 1, 1, 1)]    0           tf_op_layer_Range_61[0][0]       \n",
      "__________________________________________________________________________________________________\n",
      "tf_op_layer_strided_slice_132 ( [(None, 50, 7)]      0           tf_op_layer_TopKV2_61[0][1]      \n",
      "__________________________________________________________________________________________________\n",
      "tf_op_layer_Tile_122 (TensorFlo [(None, 50, 7, 1)]   0           tf_op_layer_Reshape_61[0][0]     \n",
      "__________________________________________________________________________________________________\n",
      "tf_op_layer_ExpandDims_297 (Ten [(None, 50, 7, 1)]   0           tf_op_layer_strided_slice_132[0][\n",
      "__________________________________________________________________________________________________\n",
      "tf_op_layer_ExpandDims_298 (Ten [(None, 50, 1, 32)]  0           activation_103[0][0]             \n",
      "__________________________________________________________________________________________________\n",
      "tf_op_layer_concat_122 (TensorF [(None, 50, 7, 2)]   0           tf_op_layer_Tile_122[0][0]       \n",
      "                                                                 tf_op_layer_ExpandDims_297[0][0] \n",
      "__________________________________________________________________________________________________\n",
      "tf_op_layer_Tile_123 (TensorFlo [(None, 50, 7, 32)]  0           tf_op_layer_ExpandDims_298[0][0] \n",
      "__________________________________________________________________________________________________\n",
      "tf_op_layer_GatherNd_61 (Tensor [(None, 50, 7, 32)]  0           activation_103[0][0]             \n",
      "                                                                 tf_op_layer_concat_122[0][0]     \n",
      "__________________________________________________________________________________________________\n",
      "tf_op_layer_Sub_123 (TensorFlow [(None, 50, 7, 32)]  0           tf_op_layer_GatherNd_61[0][0]    \n",
      "                                                                 tf_op_layer_Tile_123[0][0]       \n",
      "__________________________________________________________________________________________________\n",
      "tf_op_layer_concat_123 (TensorF [(None, 50, 7, 64)]  0           tf_op_layer_Tile_123[0][0]       \n",
      "                                                                 tf_op_layer_Sub_123[0][0]        \n",
      "__________________________________________________________________________________________________\n",
      "conv2d_119 (Conv2D)             (None, 50, 7, 64)    4096        tf_op_layer_concat_123[0][0]     \n",
      "__________________________________________________________________________________________________\n",
      "batch_normalization_105 (BatchN (None, 50, 7, 64)    256         conv2d_119[0][0]                 \n",
      "__________________________________________________________________________________________________\n",
      "activation_104 (Activation)     (None, 50, 7, 64)    0           batch_normalization_105[0][0]    \n",
      "__________________________________________________________________________________________________\n",
      "conv2d_120 (Conv2D)             (None, 50, 7, 64)    4096        activation_104[0][0]             \n",
      "__________________________________________________________________________________________________\n",
      "batch_normalization_106 (BatchN (None, 50, 7, 64)    256         conv2d_120[0][0]                 \n",
      "__________________________________________________________________________________________________\n",
      "activation_105 (Activation)     (None, 50, 7, 64)    0           batch_normalization_106[0][0]    \n",
      "__________________________________________________________________________________________________\n",
      "tf_op_layer_ExpandDims_299 (Ten [(None, 50, 1, 32)]  0           activation_103[0][0]             \n",
      "__________________________________________________________________________________________________\n",
      "conv2d_121 (Conv2D)             (None, 50, 7, 64)    4096        activation_105[0][0]             \n",
      "__________________________________________________________________________________________________\n",
      "conv2d_122 (Conv2D)             (None, 50, 1, 64)    2048        tf_op_layer_ExpandDims_299[0][0] \n",
      "__________________________________________________________________________________________________\n",
      "batch_normalization_107 (BatchN (None, 50, 7, 64)    256         conv2d_121[0][0]                 \n",
      "__________________________________________________________________________________________________\n",
      "batch_normalization_108 (BatchN (None, 50, 1, 64)    256         conv2d_122[0][0]                 \n",
      "__________________________________________________________________________________________________\n",
      "activation_106 (Activation)     (None, 50, 7, 64)    0           batch_normalization_107[0][0]    \n",
      "__________________________________________________________________________________________________\n",
      "tf_op_layer_Squeeze_175 (Tensor [(None, 50, 64)]     0           batch_normalization_108[0][0]    \n",
      "__________________________________________________________________________________________________\n",
      "tf_op_layer_Mean_112 (TensorFlo [(None, 50, 64)]     0           activation_106[0][0]             \n",
      "__________________________________________________________________________________________________\n",
      "tf_op_layer_AddV2_123 (TensorFl [(None, 50, 64)]     0           tf_op_layer_Squeeze_175[0][0]    \n",
      "                                                                 tf_op_layer_Mean_112[0][0]       \n",
      "__________________________________________________________________________________________________\n",
      "activation_107 (Activation)     (None, 50, 64)       0           tf_op_layer_AddV2_123[0][0]      \n",
      "__________________________________________________________________________________________________\n",
      "tf_op_layer_Mean_113 (TensorFlo [(None, 64)]         0           activation_107[0][0]             \n",
      "==================================================================================================\n",
      "Total params: 18,220\n",
      "Trainable params: 17,446\n",
      "Non-trainable params: 774\n",
      "__________________________________________________________________________________________________\n",
      "Model: \"Encoder\"\n",
      "_________________________________________________________________\n",
      "Layer (type)                 Output Shape              Param #   \n",
      "=================================================================\n",
      "encoder_input (InputLayer)   [(None, 64)]              0         \n",
      "_________________________________________________________________\n",
      "dense_40 (Dense)             (None, 10)                650       \n",
      "=================================================================\n",
      "Total params: 650\n",
      "Trainable params: 650\n",
      "Non-trainable params: 0\n",
      "_________________________________________________________________\n"
     ]
    },
    {
     "name": "stdout",
     "output_type": "stream",
     "text": [
      "Model: \"Decoder\"\n",
      "_________________________________________________________________\n",
      "Layer (type)                 Output Shape              Param #   \n",
      "=================================================================\n",
      "decoder_input (InputLayer)   [(None, 10)]              0         \n",
      "_________________________________________________________________\n",
      "dense_41 (Dense)             (None, 1250)              13750     \n",
      "_________________________________________________________________\n",
      "PN__bn_1 (BatchNormalization (None, 1250)              5000      \n",
      "_________________________________________________________________\n",
      "reshape_16 (Reshape)         (None, 50, 25)            0         \n",
      "_________________________________________________________________\n",
      "tf_op_layer_ExpandDims_300 ( [(None, 50, 1, 25)]       0         \n",
      "_________________________________________________________________\n",
      "PN__conv_0 (Conv2D)          (None, 50, 1, 9)          234       \n",
      "_________________________________________________________________\n",
      "tf_op_layer_Squeeze_176 (Ten [(None, 50, 9)]           0         \n",
      "_________________________________________________________________\n",
      "PN__bn_2 (BatchNormalization (None, 50, 9)             36        \n",
      "_________________________________________________________________\n",
      "tf_op_layer_ExpandDims_301 ( [(None, 50, 1, 9)]        0         \n",
      "_________________________________________________________________\n",
      "PN__conv_2 (Conv2D)          (None, 50, 1, 6)          60        \n",
      "_________________________________________________________________\n",
      "tf_op_layer_Squeeze_177 (Ten [(None, 50, 6)]           0         \n",
      "_________________________________________________________________\n",
      "PN__bn_3 (BatchNormalization (None, 50, 6)             24        \n",
      "_________________________________________________________________\n",
      "tf_op_layer_ExpandDims_302 ( [(None, 50, 1, 6)]        0         \n",
      "_________________________________________________________________\n",
      "PN__conv_out (Conv2D)        (None, 50, 1, 3)          21        \n",
      "_________________________________________________________________\n",
      "tf_op_layer_Squeeze_178 (Ten [(None, 50, 3)]           0         \n",
      "=================================================================\n",
      "Total params: 19,125\n",
      "Trainable params: 16,595\n",
      "Non-trainable params: 2,530\n",
      "_________________________________________________________________\n"
     ]
    }
   ],
   "source": [
    "model = pnae.PNVAE(input_shapes=input_shapes,setting=setting,mask=None,name='PN_')\n"
   ]
  },
  {
   "cell_type": "code",
   "execution_count": 378,
   "metadata": {},
   "outputs": [
    {
     "name": "stdout",
     "output_type": "stream",
     "text": [
      "Epoch 1/3\n",
      "390/390 [==============================] - 9s 22ms/step - val_loss: 0.0333\n",
      "Epoch 2/3\n",
      "390/390 [==============================] - 8s 21ms/step - val_loss: 0.0303\n",
      "Epoch 3/3\n",
      "390/390 [==============================] - 8s 21ms/step - val_loss: 0.0301\n"
     ]
    }
   ],
   "source": [
    "optim = Adam(learning_rate=0.001)\n",
    "\n",
    "model.compile(optimizer=optim)\n",
    "\n",
    "\n",
    "# early stopping callback\n",
    "es = EarlyStopping(monitor='val_loss', patience=10)\n",
    "\n",
    "# Learning rate scheduler \n",
    "ls = ReduceLROnPlateau(monitor='val_loss', factor=0.2, patience=10)\n",
    "\n",
    "history = model.fit((particles_bg[:500000,:,0:2], particles_bg[:500000,:,:]) ,  particles_bg[:500000,:,:],\n",
    "                    validation_data = ((particles_bg_valid[:100000,:,0:2], particles_bg_valid[:100000,:,:]) , particles_bg_valid[:100000,:,:]),\n",
    "                    epochs=3, \n",
    "                    batch_size=128, \n",
    "                    verbose=1,\n",
    "                    callbacks=[es,ls]) "
   ]
  },
  {
   "cell_type": "code",
   "execution_count": null,
   "metadata": {},
   "outputs": [],
   "source": []
  },
  {
   "cell_type": "code",
   "execution_count": null,
   "metadata": {},
   "outputs": [],
   "source": []
  },
  {
   "cell_type": "code",
   "execution_count": null,
   "metadata": {},
   "outputs": [],
   "source": []
  },
  {
   "cell_type": "code",
   "execution_count": null,
   "metadata": {},
   "outputs": [],
   "source": []
  },
  {
   "cell_type": "code",
   "execution_count": null,
   "metadata": {},
   "outputs": [],
   "source": []
  },
  {
   "cell_type": "code",
   "execution_count": null,
   "metadata": {},
   "outputs": [],
   "source": []
  },
  {
   "cell_type": "code",
   "execution_count": null,
   "metadata": {},
   "outputs": [],
   "source": []
  },
  {
   "cell_type": "code",
   "execution_count": null,
   "metadata": {},
   "outputs": [],
   "source": []
  },
  {
   "cell_type": "code",
   "execution_count": null,
   "metadata": {},
   "outputs": [],
   "source": []
  }
 ],
 "metadata": {
  "kernelspec": {
   "display_name": "Python 3",
   "language": "python",
   "name": "python3"
  },
  "language_info": {
   "codemirror_mode": {
    "name": "ipython",
    "version": 3
   },
   "file_extension": ".py",
   "mimetype": "text/x-python",
   "name": "python",
   "nbconvert_exporter": "python",
   "pygments_lexer": "ipython3",
   "version": "3.7.6"
  }
 },
 "nbformat": 4,
 "nbformat_minor": 2
}
