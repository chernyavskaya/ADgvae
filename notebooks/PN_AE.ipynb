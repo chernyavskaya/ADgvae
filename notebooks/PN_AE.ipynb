{
 "cells": [
  {
   "cell_type": "code",
   "execution_count": 3,
   "metadata": {},
   "outputs": [
    {
     "name": "stdout",
     "output_type": "stream",
     "text": [
      "setGPU: Setting GPU to: 0\n"
     ]
    }
   ],
   "source": [
    "import numpy as np\n",
    "import h5py\n",
    "import os\n",
    "import matplotlib.pyplot as plt\n",
    "import tensorflow as tf\n",
    "from tensorflow import keras\n",
    "import setGPU\n",
    "from importlib import reload\n",
    "import sys, os\n",
    "sys.path.append(os.path.abspath(os.path.join('..')))\n",
    "sys.path.append(os.path.abspath(os.path.join('../../')))\n",
    "import vande.analysis.analysis_roc as ar"
   ]
  },
  {
   "cell_type": "code",
   "execution_count": 4,
   "metadata": {},
   "outputs": [
    {
     "name": "stderr",
     "output_type": "stream",
     "text": [
      "Using TensorFlow backend.\n"
     ]
    },
    {
     "data": {
      "text/plain": [
       "<module 'utils.preprocessing' from '/eos/home-n/nchernya/MLHEP/AnomalyDetection/ADgvae/utils/preprocessing.py'>"
      ]
     },
     "execution_count": 4,
     "metadata": {},
     "output_type": "execute_result"
    }
   ],
   "source": [
    "import models.models as models\n",
    "reload(models)\n",
    "import models.losses as losses\n",
    "reload(losses)\n",
    "import utils.preprocessing as prepr\n",
    "reload(prepr)"
   ]
  },
  {
   "cell_type": "code",
   "execution_count": null,
   "metadata": {},
   "outputs": [],
   "source": [
    "#Data Samples\n",
    "#DATA_PATH = '/eos/project/d/dshep/TOPCLASS/DijetAnomaly/VAE_data/events/'\n",
    "\n",
    "#TRAIN_NAME = 'qcd_sqrtshatTeV_13TeV_PU40_NEW_sideband'\n",
    "#filename_bg = DATA_PATH + TRAIN_NAME + '_parts/' + TRAIN_NAME + '_000.h5'\n",
    "#batch_size = 128\n",
    "#train_set_size = int((5*10e5//batch_size)*batch_size)\n",
    "#_,_, particles_bg = prepr.prepare_data_constituents(filename_bg,train_set_size,0,train_set_size+1)"
   ]
  },
  {
   "cell_type": "code",
   "execution_count": 7,
   "metadata": {},
   "outputs": [],
   "source": [
    "DATA_PATH = '/eos/user/n/nchernya/MLHEP/AnomalyDetection/ADgvae/input/'\n",
    "filename_bg = DATA_PATH + 'QCD_training_data_02_08_2021.h5'\n",
    "inFile = h5py.File(filename_bg, 'r')\n",
    "particles_bg = inFile['particle_bg'][0:int(5*10e4)]\n",
    "particles_bg_valid = inFile['particle_bg_valid'][0:int(1*10e4)]\n",
    "particles_bg_test = inFile['particle_bg_test'][0:int(1*10e4)]\n",
    "nodes_n = particles_bg.shape[1]\n",
    "feat_sz = particles_bg.shape[2]"
   ]
  },
  {
   "cell_type": "code",
   "execution_count": 8,
   "metadata": {},
   "outputs": [
    {
     "name": "stderr",
     "output_type": "stream",
     "text": [
      "/eos/home-n/nchernya/MLHEP/AnomalyDetection/ADgvae/utils/preprocessing.py:8: RuntimeWarning: divide by zero encountered in log\n",
      "  return np.where(x==0,-10,np.log(x))\n"
     ]
    },
    {
     "name": "stdout",
     "output_type": "stream",
     "text": [
      "Number of jets = 9966\n",
      "Number of constituents (nodes) = 50\n",
      "Number of features = 3\n"
     ]
    }
   ],
   "source": [
    "#signal\n",
    "DATA_PATH = '/eos/project/d/dshep/TOPCLASS/DijetAnomaly/VAE_data/events/'\n",
    "SIG_MASS = '3.5'\n",
    "SIG_NAME = 'RSGraviton_WW_NARROW_13TeV_PU40_'+SIG_MASS+'TeV_NEW'\n",
    "filename_sig = DATA_PATH + SIG_NAME + '_parts/' + SIG_NAME + '_concat_001.h5'\n",
    "_,_, particles_sig = prepr.prepare_data_constituents(filename_sig,5000,0,5000)"
   ]
  },
  {
   "cell_type": "code",
   "execution_count": null,
   "metadata": {},
   "outputs": [],
   "source": []
  },
  {
   "cell_type": "code",
   "execution_count": 9,
   "metadata": {},
   "outputs": [
    {
     "data": {
      "text/plain": [
       "(100, 50, 3)"
      ]
     },
     "execution_count": 9,
     "metadata": {},
     "output_type": "execute_result"
    }
   ],
   "source": []
  },
  {
   "cell_type": "code",
   "execution_count": 9,
   "metadata": {},
   "outputs": [
    {
     "data": {
      "image/png": "[encoded data removed]",
      "text/plain": [
       "<Figure size 432x288 with 1 Axes>"
      ]
     },
     "metadata": {
      "needs_background": "light"
     },
     "output_type": "display_data"
    },
    {
     "data": {
      "image/png": "[encoded data removed]",
      "text/plain": [
       "<Figure size 432x288 with 1 Axes>"
      ]
     },
     "metadata": {
      "needs_background": "light"
     },
     "output_type": "display_data"
    },
    {
     "data": {
      "image/png": "[encoded data removed]",
      "text/plain": [
       "<Figure size 432x288 with 1 Axes>"
      ]
     },
     "metadata": {
      "needs_background": "light"
     },
     "output_type": "display_data"
    }
   ],
   "source": [
    "feats = 'eta,phi,pt'.split(',')\n",
    "for i in range(0,3):\n",
    "    xmin = np.quantile(particles_bg[:,:,i].flatten(),0.05)\n",
    "    xmax = np.quantile(particles_bg[:,:,i].flatten(),0.98)\n",
    "    plt.figure()\n",
    "    plt.hist(particles_bg[:,:,i].flatten(), bins=50, label='Input BG', density=True, histtype='step', fill=False, linewidth=2)\n",
    "    plt.xlabel(feats[i])\n",
    "    plt.ylabel(\"Normalized\")\n",
    "    plt.legend(loc='upper right')\n",
    "    plt.semilogy()\n",
    "    plt.show()"
   ]
  },
  {
   "cell_type": "code",
   "execution_count": null,
   "metadata": {},
   "outputs": [],
   "source": []
  },
  {
   "cell_type": "code",
   "execution_count": 49,
   "metadata": {},
   "outputs": [
    {
     "data": {
      "text/plain": [
       "<module 'models.ParticleNetAE' from '/eos/home-n/nchernya/MLHEP/AnomalyDetection/ADgvae/models/ParticleNetAE.py'>"
      ]
     },
     "execution_count": 49,
     "metadata": {},
     "output_type": "execute_result"
    }
   ],
   "source": [
    "import tensorflow.keras.layers as klayers\n",
    "from tensorflow.keras.optimizers import SGD, Adam, Nadam\n",
    "from tensorflow.keras.callbacks import EarlyStopping, ModelCheckpoint, ReduceLROnPlateau, TensorBoard\n",
    "\n",
    "import models.models as models\n",
    "reload(models)\n",
    "import models.layers as layers\n",
    "reload(layers)\n",
    "import models.custom_functions as funcs\n",
    "reload(funcs)\n",
    "import models.ParticleNetAE as pnae\n",
    "reload(pnae)"
   ]
  },
  {
   "cell_type": "markdown",
   "metadata": {},
   "source": [
    "# Particle Net AE"
   ]
  },
  {
   "cell_type": "code",
   "execution_count": 80,
   "metadata": {},
   "outputs": [],
   "source": [
    "class _DotDict:\n",
    "    pass\n",
    "\n",
    "setting = _DotDict()\n",
    " # conv_params: list of tuple in the format (K, (C1, C2, C3))\n",
    "setting.conv_params = [\n",
    "        (7, (16, 16, 16)),\n",
    "        (7, (8, 8, 8)),\n",
    "#        (7, (64, 64, 64)),\n",
    "#        (7, (32, 32, 32)),\n",
    "#        (7, (64, 64, 64)),\n",
    "        ]\n",
    "setting.conv_params_decoder = [16,8] #[32,16,8, 5]\n",
    "# conv_pooling: 'average' or 'max'\n",
    "setting.conv_pooling = 'average'\n",
    "setting.num_points = nodes_n #num of original consituents\n",
    "setting.num_features = feat_sz #num of original features\n",
    "setting.input_shapes = {'points': [nodes_n,feat_sz-1],'features':[nodes_n,feat_sz]}\n",
    "setting.latent_dim = 20\n",
    "setting.ae_type = 'vae'  #ae or vae \n",
    "setting.beta_kl = 10\n",
    "setting.kl_warmup_time = 3\n",
    "setting.activation = klayers.LeakyReLU(alpha=0.1)\n"
   ]
  },
  {
   "cell_type": "code",
   "execution_count": 81,
   "metadata": {},
   "outputs": [
    {
     "name": "stdout",
     "output_type": "stream",
     "text": [
      "Model: \"ParticleNetBase\"\n",
      "__________________________________________________________________________________________________\n",
      "Layer (type)                    Output Shape         Param #     Connected to                     \n",
      "==================================================================================================\n",
      "points (InputLayer)             [(None, 50, 2)]      0                                            \n",
      "__________________________________________________________________________________________________\n",
      "features (InputLayer)           [(None, 50, 3)]      0                                            \n",
      "__________________________________________________________________________________________________\n",
      "tf_op_layer_Transpose_30 (Tenso [(None, 2, 50)]      0           points[0][0]                     \n",
      "__________________________________________________________________________________________________\n",
      "tf_op_layer_ExpandDims_81 (Tens [(None, 50, 1, 3)]   0           features[0][0]                   \n",
      "__________________________________________________________________________________________________\n",
      "tf_op_layer_Mul_72 (TensorFlowO [(None, 50, 2)]      0           points[0][0]                     \n",
      "                                                                 points[0][0]                     \n",
      "__________________________________________________________________________________________________\n",
      "tf_op_layer_BatchMatMulV2_15 (T [(None, 50, 50)]     0           points[0][0]                     \n",
      "                                                                 tf_op_layer_Transpose_30[0][0]   \n",
      "__________________________________________________________________________________________________\n",
      "tf_op_layer_Mul_73 (TensorFlowO [(None, 50, 2)]      0           points[0][0]                     \n",
      "                                                                 points[0][0]                     \n",
      "__________________________________________________________________________________________________\n",
      "PN_VAE__fts_bn (BatchNormalizat (None, 50, 1, 3)     12          tf_op_layer_ExpandDims_81[0][0]  \n",
      "__________________________________________________________________________________________________\n",
      "tf_op_layer_Sum_30 (TensorFlowO [(None, 50, 1)]      0           tf_op_layer_Mul_72[0][0]         \n",
      "__________________________________________________________________________________________________\n",
      "tf_op_layer_Mul_74 (TensorFlowO [(None, 50, 50)]     0           tf_op_layer_BatchMatMulV2_15[0][0\n",
      "__________________________________________________________________________________________________\n",
      "tf_op_layer_Sum_31 (TensorFlowO [(None, 50, 1)]      0           tf_op_layer_Mul_73[0][0]         \n",
      "__________________________________________________________________________________________________\n",
      "tf_op_layer_Squeeze_50 (TensorF [(None, 50, 3)]      0           PN_VAE__fts_bn[0][0]             \n",
      "__________________________________________________________________________________________________\n",
      "tf_op_layer_Sub_30 (TensorFlowO [(None, 50, 50)]     0           tf_op_layer_Sum_30[0][0]         \n",
      "                                                                 tf_op_layer_Mul_74[0][0]         \n",
      "__________________________________________________________________________________________________\n",
      "tf_op_layer_Transpose_31 (Tenso [(None, 1, 50)]      0           tf_op_layer_Sum_31[0][0]         \n",
      "__________________________________________________________________________________________________\n",
      "tf_op_layer_Shape_42 (TensorFlo [(3,)]               0           tf_op_layer_Squeeze_50[0][0]     \n",
      "__________________________________________________________________________________________________\n",
      "tf_op_layer_AddV2_39 (TensorFlo [(None, 50, 50)]     0           tf_op_layer_Sub_30[0][0]         \n",
      "                                                                 tf_op_layer_Transpose_31[0][0]   \n",
      "__________________________________________________________________________________________________\n",
      "tf_op_layer_strided_slice_49 (T [()]                 0           tf_op_layer_Shape_42[0][0]       \n",
      "__________________________________________________________________________________________________\n",
      "tf_op_layer_Neg_15 (TensorFlowO [(None, 50, 50)]     0           tf_op_layer_AddV2_39[0][0]       \n",
      "__________________________________________________________________________________________________\n",
      "tf_op_layer_Range_15 (TensorFlo [(None,)]            0           tf_op_layer_strided_slice_49[0][0\n",
      "__________________________________________________________________________________________________\n",
      "tf_op_layer_TopKV2_15 (TensorFl [(None, 50, 8), (Non 0           tf_op_layer_Neg_15[0][0]         \n",
      "__________________________________________________________________________________________________\n",
      "tf_op_layer_Reshape_15 (TensorF [(None, 1, 1, 1)]    0           tf_op_layer_Range_15[0][0]       \n",
      "__________________________________________________________________________________________________\n",
      "tf_op_layer_strided_slice_48 (T [(None, 50, 7)]      0           tf_op_layer_TopKV2_15[0][1]      \n",
      "__________________________________________________________________________________________________\n",
      "tf_op_layer_Tile_30 (TensorFlow [(None, 50, 7, 1)]   0           tf_op_layer_Reshape_15[0][0]     \n",
      "__________________________________________________________________________________________________\n",
      "tf_op_layer_ExpandDims_82 (Tens [(None, 50, 7, 1)]   0           tf_op_layer_strided_slice_48[0][0\n",
      "__________________________________________________________________________________________________\n",
      "tf_op_layer_ExpandDims_83 (Tens [(None, 50, 1, 3)]   0           tf_op_layer_Squeeze_50[0][0]     \n",
      "__________________________________________________________________________________________________\n",
      "tf_op_layer_concat_30 (TensorFl [(None, 50, 7, 2)]   0           tf_op_layer_Tile_30[0][0]        \n",
      "                                                                 tf_op_layer_ExpandDims_82[0][0]  \n",
      "__________________________________________________________________________________________________\n",
      "tf_op_layer_Tile_31 (TensorFlow [(None, 50, 7, 3)]   0           tf_op_layer_ExpandDims_83[0][0]  \n",
      "__________________________________________________________________________________________________\n",
      "tf_op_layer_GatherNd_15 (Tensor [(None, 50, 7, 3)]   0           tf_op_layer_Squeeze_50[0][0]     \n",
      "                                                                 tf_op_layer_concat_30[0][0]      \n",
      "__________________________________________________________________________________________________\n",
      "tf_op_layer_Sub_31 (TensorFlowO [(None, 50, 7, 3)]   0           tf_op_layer_GatherNd_15[0][0]    \n",
      "                                                                 tf_op_layer_Tile_31[0][0]        \n",
      "__________________________________________________________________________________________________\n",
      "tf_op_layer_concat_31 (TensorFl [(None, 50, 7, 6)]   0           tf_op_layer_Tile_31[0][0]        \n",
      "                                                                 tf_op_layer_Sub_31[0][0]         \n",
      "__________________________________________________________________________________________________\n",
      "PN_VAE__0_conv0 (Conv2D)        (None, 50, 7, 16)    96          tf_op_layer_concat_31[0][0]      \n",
      "__________________________________________________________________________________________________\n",
      "PN_VAE__0_bn0 (BatchNormalizati (None, 50, 7, 16)    64          PN_VAE__0_conv0[0][0]            \n",
      "__________________________________________________________________________________________________\n",
      "PN_VAE__0_act0 (Activation)     (None, 50, 7, 16)    0           PN_VAE__0_bn0[0][0]              \n",
      "__________________________________________________________________________________________________\n",
      "PN_VAE__0_conv1 (Conv2D)        (None, 50, 7, 16)    256         PN_VAE__0_act0[0][0]             \n",
      "__________________________________________________________________________________________________\n",
      "PN_VAE__0_bn1 (BatchNormalizati (None, 50, 7, 16)    64          PN_VAE__0_conv1[0][0]            \n",
      "__________________________________________________________________________________________________\n",
      "PN_VAE__0_act1 (Activation)     (None, 50, 7, 16)    0           PN_VAE__0_bn1[0][0]              \n",
      "__________________________________________________________________________________________________\n",
      "tf_op_layer_ExpandDims_84 (Tens [(None, 50, 1, 3)]   0           tf_op_layer_Squeeze_50[0][0]     \n",
      "__________________________________________________________________________________________________\n",
      "PN_VAE__0_conv2 (Conv2D)        (None, 50, 7, 16)    256         PN_VAE__0_act1[0][0]             \n",
      "__________________________________________________________________________________________________\n",
      "PN_VAE__0_sc_conv (Conv2D)      (None, 50, 1, 16)    48          tf_op_layer_ExpandDims_84[0][0]  \n",
      "__________________________________________________________________________________________________\n",
      "PN_VAE__0_bn2 (BatchNormalizati (None, 50, 7, 16)    64          PN_VAE__0_conv2[0][0]            \n",
      "__________________________________________________________________________________________________\n",
      "PN_VAE__0_sc_bn (BatchNormaliza (None, 50, 1, 16)    64          PN_VAE__0_sc_conv[0][0]          \n",
      "__________________________________________________________________________________________________\n",
      "PN_VAE__0_act2 (Activation)     (None, 50, 7, 16)    0           PN_VAE__0_bn2[0][0]              \n",
      "__________________________________________________________________________________________________\n",
      "tf_op_layer_Transpose_32 (Tenso [(None, 2, 50)]      0           points[0][0]                     \n",
      "__________________________________________________________________________________________________\n",
      "tf_op_layer_Squeeze_51 (TensorF [(None, 50, 16)]     0           PN_VAE__0_sc_bn[0][0]            \n",
      "__________________________________________________________________________________________________\n",
      "tf_op_layer_Mean_24 (TensorFlow [(None, 50, 16)]     0           PN_VAE__0_act2[0][0]             \n",
      "__________________________________________________________________________________________________\n",
      "tf_op_layer_Mul_75 (TensorFlowO [(None, 50, 2)]      0           points[0][0]                     \n",
      "                                                                 points[0][0]                     \n",
      "__________________________________________________________________________________________________\n",
      "tf_op_layer_BatchMatMulV2_16 (T [(None, 50, 50)]     0           points[0][0]                     \n",
      "                                                                 tf_op_layer_Transpose_32[0][0]   \n",
      "__________________________________________________________________________________________________\n",
      "tf_op_layer_Mul_76 (TensorFlowO [(None, 50, 2)]      0           points[0][0]                     \n",
      "                                                                 points[0][0]                     \n",
      "__________________________________________________________________________________________________\n",
      "tf_op_layer_AddV2_40 (TensorFlo [(None, 50, 16)]     0           tf_op_layer_Squeeze_51[0][0]     \n",
      "                                                                 tf_op_layer_Mean_24[0][0]        \n",
      "__________________________________________________________________________________________________\n",
      "tf_op_layer_Sum_32 (TensorFlowO [(None, 50, 1)]      0           tf_op_layer_Mul_75[0][0]         \n",
      "__________________________________________________________________________________________________\n",
      "tf_op_layer_Mul_77 (TensorFlowO [(None, 50, 50)]     0           tf_op_layer_BatchMatMulV2_16[0][0\n",
      "__________________________________________________________________________________________________\n",
      "tf_op_layer_Sum_33 (TensorFlowO [(None, 50, 1)]      0           tf_op_layer_Mul_76[0][0]         \n",
      "__________________________________________________________________________________________________\n",
      "PN_VAE__0_sc_act (Activation)   (None, 50, 16)       0           tf_op_layer_AddV2_40[0][0]       \n",
      "__________________________________________________________________________________________________\n",
      "tf_op_layer_Sub_32 (TensorFlowO [(None, 50, 50)]     0           tf_op_layer_Sum_32[0][0]         \n",
      "                                                                 tf_op_layer_Mul_77[0][0]         \n",
      "__________________________________________________________________________________________________\n",
      "tf_op_layer_Transpose_33 (Tenso [(None, 1, 50)]      0           tf_op_layer_Sum_33[0][0]         \n",
      "__________________________________________________________________________________________________\n",
      "tf_op_layer_Shape_43 (TensorFlo [(3,)]               0           PN_VAE__0_sc_act[0][0]           \n",
      "__________________________________________________________________________________________________\n",
      "tf_op_layer_AddV2_41 (TensorFlo [(None, 50, 50)]     0           tf_op_layer_Sub_32[0][0]         \n",
      "                                                                 tf_op_layer_Transpose_33[0][0]   \n",
      "__________________________________________________________________________________________________\n",
      "tf_op_layer_strided_slice_51 (T [()]                 0           tf_op_layer_Shape_43[0][0]       \n",
      "__________________________________________________________________________________________________\n",
      "tf_op_layer_Neg_16 (TensorFlowO [(None, 50, 50)]     0           tf_op_layer_AddV2_41[0][0]       \n",
      "__________________________________________________________________________________________________\n",
      "tf_op_layer_Range_16 (TensorFlo [(None,)]            0           tf_op_layer_strided_slice_51[0][0\n",
      "__________________________________________________________________________________________________\n",
      "tf_op_layer_TopKV2_16 (TensorFl [(None, 50, 8), (Non 0           tf_op_layer_Neg_16[0][0]         \n",
      "__________________________________________________________________________________________________\n",
      "tf_op_layer_Reshape_16 (TensorF [(None, 1, 1, 1)]    0           tf_op_layer_Range_16[0][0]       \n",
      "__________________________________________________________________________________________________\n",
      "tf_op_layer_strided_slice_50 (T [(None, 50, 7)]      0           tf_op_layer_TopKV2_16[0][1]      \n",
      "__________________________________________________________________________________________________\n",
      "tf_op_layer_Tile_32 (TensorFlow [(None, 50, 7, 1)]   0           tf_op_layer_Reshape_16[0][0]     \n",
      "__________________________________________________________________________________________________\n",
      "tf_op_layer_ExpandDims_85 (Tens [(None, 50, 7, 1)]   0           tf_op_layer_strided_slice_50[0][0\n",
      "__________________________________________________________________________________________________\n",
      "tf_op_layer_ExpandDims_86 (Tens [(None, 50, 1, 16)]  0           PN_VAE__0_sc_act[0][0]           \n",
      "__________________________________________________________________________________________________\n",
      "tf_op_layer_concat_32 (TensorFl [(None, 50, 7, 2)]   0           tf_op_layer_Tile_32[0][0]        \n",
      "                                                                 tf_op_layer_ExpandDims_85[0][0]  \n",
      "__________________________________________________________________________________________________\n",
      "tf_op_layer_Tile_33 (TensorFlow [(None, 50, 7, 16)]  0           tf_op_layer_ExpandDims_86[0][0]  \n",
      "__________________________________________________________________________________________________\n",
      "tf_op_layer_GatherNd_16 (Tensor [(None, 50, 7, 16)]  0           PN_VAE__0_sc_act[0][0]           \n",
      "                                                                 tf_op_layer_concat_32[0][0]      \n",
      "__________________________________________________________________________________________________\n",
      "tf_op_layer_Sub_33 (TensorFlowO [(None, 50, 7, 16)]  0           tf_op_layer_GatherNd_16[0][0]    \n",
      "                                                                 tf_op_layer_Tile_33[0][0]        \n",
      "__________________________________________________________________________________________________\n",
      "tf_op_layer_concat_33 (TensorFl [(None, 50, 7, 32)]  0           tf_op_layer_Tile_33[0][0]        \n",
      "                                                                 tf_op_layer_Sub_33[0][0]         \n",
      "__________________________________________________________________________________________________\n",
      "PN_VAE__1_conv0 (Conv2D)        (None, 50, 7, 8)     256         tf_op_layer_concat_33[0][0]      \n",
      "__________________________________________________________________________________________________\n",
      "PN_VAE__1_bn0 (BatchNormalizati (None, 50, 7, 8)     32          PN_VAE__1_conv0[0][0]            \n",
      "__________________________________________________________________________________________________\n",
      "PN_VAE__1_act0 (Activation)     (None, 50, 7, 8)     0           PN_VAE__1_bn0[0][0]              \n",
      "__________________________________________________________________________________________________\n",
      "PN_VAE__1_conv1 (Conv2D)        (None, 50, 7, 8)     64          PN_VAE__1_act0[0][0]             \n",
      "__________________________________________________________________________________________________\n",
      "PN_VAE__1_bn1 (BatchNormalizati (None, 50, 7, 8)     32          PN_VAE__1_conv1[0][0]            \n",
      "__________________________________________________________________________________________________\n",
      "PN_VAE__1_act1 (Activation)     (None, 50, 7, 8)     0           PN_VAE__1_bn1[0][0]              \n",
      "__________________________________________________________________________________________________\n",
      "tf_op_layer_ExpandDims_87 (Tens [(None, 50, 1, 16)]  0           PN_VAE__0_sc_act[0][0]           \n",
      "__________________________________________________________________________________________________\n",
      "PN_VAE__1_conv2 (Conv2D)        (None, 50, 7, 8)     64          PN_VAE__1_act1[0][0]             \n",
      "__________________________________________________________________________________________________\n",
      "PN_VAE__1_sc_conv (Conv2D)      (None, 50, 1, 8)     128         tf_op_layer_ExpandDims_87[0][0]  \n",
      "__________________________________________________________________________________________________\n",
      "PN_VAE__1_bn2 (BatchNormalizati (None, 50, 7, 8)     32          PN_VAE__1_conv2[0][0]            \n",
      "__________________________________________________________________________________________________\n",
      "PN_VAE__1_sc_bn (BatchNormaliza (None, 50, 1, 8)     32          PN_VAE__1_sc_conv[0][0]          \n",
      "__________________________________________________________________________________________________\n",
      "PN_VAE__1_act2 (Activation)     (None, 50, 7, 8)     0           PN_VAE__1_bn2[0][0]              \n",
      "__________________________________________________________________________________________________\n",
      "tf_op_layer_Squeeze_52 (TensorF [(None, 50, 8)]      0           PN_VAE__1_sc_bn[0][0]            \n",
      "__________________________________________________________________________________________________\n",
      "tf_op_layer_Mean_25 (TensorFlow [(None, 50, 8)]      0           PN_VAE__1_act2[0][0]             \n",
      "__________________________________________________________________________________________________\n",
      "tf_op_layer_AddV2_42 (TensorFlo [(None, 50, 8)]      0           tf_op_layer_Squeeze_52[0][0]     \n",
      "                                                                 tf_op_layer_Mean_25[0][0]        \n",
      "__________________________________________________________________________________________________\n",
      "PN_VAE__1_sc_act (Activation)   (None, 50, 8)        0           tf_op_layer_AddV2_42[0][0]       \n",
      "__________________________________________________________________________________________________\n",
      "tf_op_layer_Mean_26 (TensorFlow [(None, 8)]          0           PN_VAE__1_sc_act[0][0]           \n",
      "==================================================================================================\n",
      "Total params: 1,564\n",
      "Trainable params: 1,366\n",
      "Non-trainable params: 198\n",
      "__________________________________________________________________________________________________\n",
      "Model: \"Encoder\"\n",
      "_________________________________________________________________\n",
      "Layer (type)                 Output Shape              Param #   \n",
      "=================================================================\n",
      "encoder_input (InputLayer)   [(None, 8)]               0         \n",
      "_________________________________________________________________\n",
      "SamplingLayer (Functional)   [(None, 20), (None, 20),  360       \n",
      "=================================================================\n",
      "Total params: 360\n",
      "Trainable params: 360\n",
      "Non-trainable params: 0\n",
      "_________________________________________________________________\n"
     ]
    },
    {
     "name": "stdout",
     "output_type": "stream",
     "text": [
      "Model: \"Decoder\"\n",
      "_________________________________________________________________\n",
      "Layer (type)                 Output Shape              Param #   \n",
      "=================================================================\n",
      "decoder_input (InputLayer)   [(None, 20)]              0         \n",
      "_________________________________________________________________\n",
      "dense_9 (Dense)              (None, 800)               16800     \n",
      "_________________________________________________________________\n",
      "PN_VAE__dense_0 (BatchNormal (None, 800)               3200      \n",
      "_________________________________________________________________\n",
      "PN_VAE__act_0 (Activation)   (None, 800)               0         \n",
      "_________________________________________________________________\n",
      "reshape_8 (Reshape)          (None, 50, 16)            0         \n",
      "_________________________________________________________________\n",
      "tf_op_layer_ExpandDims_88 (T [(None, 50, 1, 16)]       0         \n",
      "_________________________________________________________________\n",
      "PN_VAE__conv_1 (Conv2D)      (None, 50, 1, 8)          128       \n",
      "_________________________________________________________________\n",
      "PN_VAE__bn_1 (BatchNormaliza (None, 50, 1, 8)          32        \n",
      "_________________________________________________________________\n",
      "tf_op_layer_Squeeze_53 (Tens [(None, 50, 8)]           0         \n",
      "_________________________________________________________________\n",
      "PN_VAE__act_1 (Activation)   (None, 50, 8)             0         \n",
      "_________________________________________________________________\n",
      "tf_op_layer_ExpandDims_89 (T [(None, 50, 1, 8)]        0         \n",
      "_________________________________________________________________\n",
      "PN_VAE__conv_out (Conv2D)    (None, 50, 1, 3)          27        \n",
      "_________________________________________________________________\n",
      "tf_op_layer_Squeeze_54 (Tens [(None, 50, 3)]           0         \n",
      "=================================================================\n",
      "Total params: 20,187\n",
      "Trainable params: 18,571\n",
      "Non-trainable params: 1,616\n",
      "_________________________________________________________________\n"
     ]
    }
   ],
   "source": [
    "model = pnae.PNVAE(setting=setting,name='PN_VAE_')\n"
   ]
  },
  {
   "cell_type": "code",
   "execution_count": 82,
   "metadata": {},
   "outputs": [
    {
     "name": "stdout",
     "output_type": "stream",
     "text": [
      "Epoch 1/5\n",
      "391/391 [==============================] - 12s 32ms/step - loss: 0.1311 - loss_reco: 0.1301 - loss_latent: 2.7706e-04 - val_loss: 0.0712 - val_loss_reco: 0.0712 - val_loss_latent: 1.5854e-06\n",
      "Epoch 2/5\n",
      "391/391 [==============================] - 11s 29ms/step - loss: 0.0494 - loss_reco: 0.0494 - loss_latent: 9.8952e-07 - val_loss: 0.0419 - val_loss_reco: 0.0419 - val_loss_latent: 8.0293e-07\n",
      "Epoch 3/5\n",
      "391/391 [==============================] - 11s 29ms/step - loss: 0.0402 - loss_reco: 0.0402 - loss_latent: 5.2993e-07 - val_loss: 0.0371 - val_loss_reco: 0.0371 - val_loss_latent: 4.4018e-07\n",
      "Epoch 4/5\n",
      "391/391 [==============================] - 11s 29ms/step - loss: 0.0380 - loss_reco: 0.0380 - loss_latent: 3.5027e-07 - val_loss: 0.0358 - val_loss_reco: 0.0358 - val_loss_latent: 3.4016e-07\n",
      "Epoch 5/5\n",
      "391/391 [==============================] - 11s 29ms/step - loss: 0.0369 - loss_reco: 0.0369 - loss_latent: 2.5405e-07 - val_loss: 0.0349 - val_loss_reco: 0.0349 - val_loss_latent: 2.6340e-07\n"
     ]
    }
   ],
   "source": [
    "optim = Adam(learning_rate=0.001)\n",
    "\n",
    "model.compile(optimizer=optim)\n",
    "\n",
    "# early stopping callback\n",
    "es = EarlyStopping(monitor='val_loss', patience=10)\n",
    "\n",
    "# Learning rate scheduler \n",
    "ls = ReduceLROnPlateau(monitor='val_loss', factor=0.2, patience=10)\n",
    "\n",
    "kl_beta_callback = models.KLWarmupCallback()   \n",
    "\n",
    "\n",
    "history = model.fit((particles_bg[:50000,:,0:2], particles_bg[:50000,:,:]) ,  particles_bg[:50000,:,:],\n",
    "                    validation_data = ((particles_bg_valid[:50000,:,0:2], particles_bg_valid[:50000,:,:]) , particles_bg_valid[:50000,:,:]),\n",
    "                    epochs=5, \n",
    "                    batch_size=128, \n",
    "                    verbose=1,\n",
    "                    callbacks=[es,ls,kl_beta_callback]) "
   ]
  },
  {
   "cell_type": "code",
   "execution_count": null,
   "metadata": {},
   "outputs": [],
   "source": []
  },
  {
   "cell_type": "code",
   "execution_count": 51,
   "metadata": {},
   "outputs": [],
   "source": [
    "#models_dir = '/eos/user/n/nchernya/MLHEP/AnomalyDetection/ADgvae/output_models/'\n",
    "#model_path = models_dir + \"output_model_saved_PN_AE_2021_07_30_T_09_26\"\n",
    "#loaded_model = tf.keras.models.load_model(\n",
    "#    model_path,\n",
    "#    custom_objects={\"PN_AE\": pn.get_particle_net_lite_ae, \"threeD_loss\":losses.threeD_loss}\n",
    "#)\n",
    "\n",
    "#weights_path = models_dir +'PN_AE_weights_2021_07_29_T_18_19.25-0.023.hdf5'\n",
    "#loaded_model.load_weights(\n",
    "#    weights_path, by_name=True, skip_mismatch=False)"
   ]
  },
  {
   "cell_type": "code",
   "execution_count": null,
   "metadata": {},
   "outputs": [],
   "source": []
  },
  {
   "cell_type": "code",
   "execution_count": 83,
   "metadata": {},
   "outputs": [],
   "source": [
    "#model = loaded_model\n",
    "\n",
    "_,Y_bg_predict = model.predict([particles_bg_test[:,:,0:2],particles_bg_test])\n",
    "_,Y_sig_predict = model.predict([particles_sig[:,:,0:2],particles_sig])"
   ]
  },
  {
   "cell_type": "code",
   "execution_count": 84,
   "metadata": {},
   "outputs": [
    {
     "data": {
      "image/png": "[encoded data removed]",
      "text/plain": [
       "<Figure size 576x504 with 1 Axes>"
      ]
     },
     "metadata": {
      "needs_background": "light"
     },
     "output_type": "display_data"
    }
   ],
   "source": [
    "loss_bg = losses.threeD_loss_manual(particles_bg_test,Y_bg_predict)\n",
    "loss_sig = losses.threeD_loss_manual(particles_sig,Y_sig_predict)\n",
    "#loss_bg = losses.mse_loss_manual(particles_bg_test,Y_bg_predict)\n",
    "#loss_sig = losses.mse_loss_manual(particles_sig,Y_sig_predict)\n",
    "\n",
    "\n",
    "plt.style.use('/eos/user/n/nchernya/MLHEP/AnomalyDetection/ADgvae/utils/adfigstyle.mplstyle')\n",
    "\n",
    "max_score = np.quantile(loss_sig,0.99)#,np.max(loss_bg_dist))\n",
    "min_score = np.min(loss_bg)#,np.max(loss_bg_dist))\n",
    "bins = 30\n",
    "# plot BG\n",
    "plt.figure()\n",
    "plt.hist(loss_bg, bins=bins, label='BG', density=True, range=(min_score, max_score), \n",
    "         histtype='step', fill=False, linewidth=1.5)\n",
    "plt.hist(loss_sig, bins=bins, label='SIG', density=True, range=(min_score, max_score), \n",
    "         histtype='step', linestyle='--',fill=False, linewidth=1.5)\n",
    "#plt.semilogy()\n",
    "plt.xlabel(\"VAE Chamfer Loss\")\n",
    "plt.ylabel(\"Normalized Dist.\")\n",
    "plt.legend(loc='upper right')\n",
    "savename = '/eos/user/n/nchernya/MLHEP/AnomalyDetection/ADgvae/figs/reco_edgeconv_pn_vae.pdf'\n",
    "plt.savefig(savename)\n",
    "plt.show()"
   ]
  },
  {
   "cell_type": "code",
   "execution_count": null,
   "metadata": {},
   "outputs": [
    {
     "data": {
      "image/png": "[encoded data removed]",
      "text/plain": [
       "<Figure size 576x504 with 1 Axes>"
      ]
     },
     "metadata": {
      "needs_background": "light"
     },
     "output_type": "display_data"
    }
   ],
   "source": [
    "plt.style.use('/eos/user/n/nchernya/MLHEP/AnomalyDetection/ADgvae/utils/adfigstyle.mplstyle')\n",
    "for i in range(0,len(feats)):\n",
    "    #xmin = np.quantile(particles_bg[:,:,i].flatten(),0.)\n",
    "    #xmax = np.quantile(particles_bg[:,:,i].flatten(),1)\n",
    "    xmin = np.min([np.min(particles_bg[:,:,i].flatten()),np.min(Y_bg_predict[:,:,i].flatten())])\n",
    "    xmax = np.max([np.max(particles_bg[:,:,i].flatten()),np.max(Y_bg_predict[:,:,i].flatten())])\n",
    "    n_bins = 40\n",
    "    plot_range = (xmin,xmax)\n",
    "    plt.figure()\n",
    "    _,bins,_ = plt.hist(particles_bg_test[:,:,i].flatten(), bins=n_bins, range = plot_range,label='Input BG', density=True, histtype='step', fill=False, linewidth=2)\n",
    "    _,_,_ = plt.hist(particles_sig[:,:,i].flatten(), bins=bins, label='Input SIG',density=True, histtype='step', fill=False, linewidth=2)\n",
    "    _,_,_ = plt.hist(Y_bg_predict[:,:,i].flatten(), bins=bins, label='Reco. BG', linestyle='--',density=True, histtype='step', fill=False, linewidth=2)\n",
    "    _,_,_ = plt.hist(Y_sig_predict[:,:,i].flatten(), bins=bins, label='Reco. SIG', linestyle=':',density=True, histtype='step', fill=False, linewidth=2)\n",
    "    plt.xlabel(feats[i])\n",
    "    plt.ylabel(\"Normalized\")\n",
    "    plt.legend(bbox_to_anchor=(1., 1.),fontsize=15)\n",
    "    plt.semilogy()\n",
    "    savename = '/eos/user/n/nchernya/MLHEP/AnomalyDetection/ADgvae/figs/reco_edgeconv_pn_vae_{}.pdf'.format(feats[i])\n",
    "    plt.savefig(savename)\n",
    "    plt.show()"
   ]
  },
  {
   "cell_type": "code",
   "execution_count": 86,
   "metadata": {},
   "outputs": [
    {
     "name": "stderr",
     "output_type": "stream",
     "text": [
      "/eos/home-n/nchernya/MLHEP/AnomalyDetection/vande/analysis/analysis_roc.py:33: RuntimeWarning: divide by zero encountered in true_divide\n",
      "  plt.semilogy(tpr, 1./fpr, label=label + \" (auc \" + \"{0:.3f}\".format(aucs[-1]) + \")\")\n"
     ]
    },
    {
     "data": {
      "image/png": "[encoded data removed]",
      "text/plain": [
       "<Figure size 504x504 with 1 Axes>"
      ]
     },
     "metadata": {
      "needs_background": "light"
     },
     "output_type": "display_data"
    },
    {
     "data": {
      "text/plain": [
       "[0.83632014]"
      ]
     },
     "execution_count": 86,
     "metadata": {},
     "output_type": "execute_result"
    }
   ],
   "source": [
    "neg_class_losses = [loss_bg.tolist()]\n",
    "pos_class_losses = [loss_sig.tolist()]\n",
    "\n",
    "plt.style.use('/eos/user/n/nchernya/MLHEP/AnomalyDetection/ADgvae/utils/adfigstyle.mplstyle')\n",
    "ar.plot_roc( neg_class_losses, pos_class_losses, legend=['PN AE'], title='ROC ',\n",
    "            plot_name='ROC_pnae_test', fig_dir='/eos/user/n/nchernya/MLHEP/AnomalyDetection/ADgvae/figs/',log_x=False )\n"
   ]
  },
  {
   "cell_type": "code",
   "execution_count": null,
   "metadata": {},
   "outputs": [],
   "source": []
  },
  {
   "cell_type": "code",
   "execution_count": null,
   "metadata": {},
   "outputs": [],
   "source": []
  },
  {
   "cell_type": "code",
   "execution_count": null,
   "metadata": {},
   "outputs": [],
   "source": []
  },
  {
   "cell_type": "code",
   "execution_count": 56,
   "metadata": {},
   "outputs": [],
   "source": [
    "#dataset= tf.data.Dataset.from_tensor_slices((particles_bg[:,:,0:2], particles_bg))\n"
   ]
  },
  {
   "cell_type": "code",
   "execution_count": null,
   "metadata": {},
   "outputs": [],
   "source": []
  }
 ],
 "metadata": {
  "kernelspec": {
   "display_name": "Python 3",
   "language": "python",
   "name": "python3"
  },
  "language_info": {
   "codemirror_mode": {
    "name": "ipython",
    "version": 3
   },
   "file_extension": ".py",
   "mimetype": "text/x-python",
   "name": "python",
   "nbconvert_exporter": "python",
   "pygments_lexer": "ipython3",
   "version": "3.7.6"
  }
 },
 "nbformat": 4,
 "nbformat_minor": 2
}
