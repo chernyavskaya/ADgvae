{
 "cells": [
  {
   "cell_type": "code",
   "execution_count": 1,
   "metadata": {},
   "outputs": [],
   "source": [
    "import os,sys\n",
    "import numpy as np\n",
    "from collections import namedtuple\n",
    "import tqdm\n",
    "import glob\n",
    "import math\n",
    "import random\n",
    "import inspect\n",
    "import os.path as osp\n",
    "from pathlib import Path\n",
    "import itertools\n",
    "from itertools import chain\n",
    "import numpy as np\n",
    "import pandas as pd\n",
    "import multiprocessing\n",
    "import h5py\n",
    "import matplotlib.pyplot as plt\n",
    "import numpy as np\n",
    "import sys, os\n",
    "from importlib import reload\n",
    "\n",
    "import torch\n",
    "import torch.nn as nn\n",
    "from torch.utils.data import random_split\n",
    "from torch_geometric.data import Data, DataLoader, DataListLoader\n",
    "from torch_geometric.nn import EdgeConv, global_mean_pool, DataParallel\n",
    "import torch.nn as nn\n",
    "import torch.nn.functional as F\n",
    "import torch_geometric.transforms as T\n",
    "from torch_geometric.data import Data,Dataset\n",
    "from torch_scatter import scatter_mean, scatter\n",
    "from torch.nn import Sequential as Seq, Linear as Lin, ReLU\n",
    "from torch_geometric.nn import MetaLayer, EdgeConv, global_mean_pool, DynamicEdgeConv\n",
    "import h5py"
   ]
  },
  {
   "cell_type": "code",
   "execution_count": 2,
   "metadata": {},
   "outputs": [
    {
     "data": {
      "text/plain": [
       "<module 'graph_data.graph_data' from '/eos/home-n/nchernya/MLHEP/AnomalyDetection/ADgvae/graph_data/graph_data.py'>"
      ]
     },
     "execution_count": 2,
     "metadata": {},
     "output_type": "execute_result"
    }
   ],
   "source": [
    "import sys, os\n",
    "sys.path.append(os.path.abspath(os.path.join('../')))\n",
    "\n",
    "import models_torch.models as models\n",
    "reload(models)\n",
    "import models_torch.losses as losses\n",
    "reload(losses)\n",
    "import utils_torch.preprocessing as prepr\n",
    "reload(prepr)\n",
    "import utils_torch.plot_util as plot\n",
    "reload(plot)\n",
    "import utils_torch.train_util as train\n",
    "reload(train)\n",
    "import graph_data.graph_data as graph_data\n",
    "reload(graph_data)"
   ]
  },
  {
   "cell_type": "code",
   "execution_count": null,
   "metadata": {},
   "outputs": [],
   "source": []
  },
  {
   "cell_type": "code",
   "execution_count": null,
   "metadata": {},
   "outputs": [],
   "source": []
  },
  {
   "cell_type": "code",
   "execution_count": 3,
   "metadata": {},
   "outputs": [],
   "source": [
    "data_dir = '/eos/user/n/nchernya/MLHEP/AnomalyDetection/ADgvae/output_models/pytroch/'\n",
    "dataset = graph_data.GraphDataset(root=data_dir,n_jets=1e4)\n",
    "    \n",
    "use_generator = False\n",
    "if use_generator:\n",
    "    validation_split = 0.2\n",
    "    dataset_size = len(dataset)\n",
    "    indices = list(range(dataset_size))\n",
    "    if dataset_size > 2:\n",
    "        split = int(np.floor(validation_split * dataset_size))\n",
    "    else: \n",
    "        split = 1\n",
    "    print(dataset_size,split)\n",
    "    random_seed= 1001\n",
    "\n",
    "    train_subset, val_subset = torch.utils.data.random_split(dataset, [dataset_size - split, split],\n",
    "                                                             generator=torch.Generator().manual_seed(random_seed))\n",
    "    print(\"train subset dim:\", len(train_subset))\n",
    "    print(\"validation subset dim\", len(val_subset))\n",
    "    dataloaders = {\n",
    "        'train':  DataLoader(train_subset, batch_size=128, shuffle=True),\n",
    "        'val':   DataLoader(val_subset, batch_size=128, shuffle=True)\n",
    "    }\n",
    "    print(\"train_dataloader dim:\", len(dataloaders['train']))\n",
    "    print(\"val dataloader dim:\", len(dataloaders['val']))\n",
    "else : \n",
    "    in_memory_datas = dataset.return_inmemory_data() "
   ]
  },
  {
   "cell_type": "code",
   "execution_count": 4,
   "metadata": {},
   "outputs": [],
   "source": [
    "pf_cands,jet_prop = dataset.pf_cands,dataset.jet_prop\n",
    "pf_cands_t = torch.cat([torch.tensor(pf_cands[i], dtype=torch.float) for i in range(len(pf_cands))])"
   ]
  },
  {
   "cell_type": "code",
   "execution_count": 33,
   "metadata": {},
   "outputs": [
    {
     "data": {
      "text/plain": [
       "<module 'vande.util.util_plotting' from '/eos/home-n/nchernya/MLHEP/AnomalyDetection/vande/util/util_plotting.py'>"
      ]
     },
     "execution_count": 33,
     "metadata": {},
     "output_type": "execute_result"
    }
   ],
   "source": [
    "sys.path.append(os.path.abspath(os.path.join('../../')))\n",
    "\n",
    "import vande.util.util_plotting as vande_plot\n",
    "reload(vande_plot)"
   ]
  },
  {
   "cell_type": "code",
   "execution_count": 45,
   "metadata": {},
   "outputs": [],
   "source": [
    "pf_feats = 'px,py,pz,E,pt,eta,phi'.split(',')\n",
    "jet_feats = 'N_constituents,M,Pt,Eta,Phi'.split(',')\n",
    "\n",
    "\n",
    "save_dir = '/eos/user/n/nchernya/MLHEP/AnomalyDetection/ADgvae/output_models/pytroch/input_feats/'\n",
    "vande_plot.plot_features(pf_cands_t.numpy(), pf_feats ,'Normalized' , 'QCD', plotname='{}plot_pf_feats_{}'.format(save_dir,'QCD_side'), legend=['QCD'], ylogscale=True)\n",
    "vande_plot.plot_features(jet_prop[:,0:-1], jet_feats ,'Normalized' , 'QCD', plotname='{}plot_jet_feats_{}'.format(save_dir,'QCD_side'), legend=['QCD'], ylogscale=True)\n"
   ]
  },
  {
   "cell_type": "code",
   "execution_count": null,
   "metadata": {
    "scrolled": false
   },
   "outputs": [],
   "source": []
  },
  {
   "cell_type": "code",
   "execution_count": null,
   "metadata": {},
   "outputs": [],
   "source": []
  },
  {
   "cell_type": "code",
   "execution_count": 45,
   "metadata": {},
   "outputs": [
    {
     "name": "stdout",
     "output_type": "stream",
     "text": [
      "train_dataloader dim: 8\n"
     ]
    }
   ],
   "source": [
    "#scaler = standardize(train_subset) # I dont think that this works for the dataset implementation as it is done now, implement scaler as part of dataset ? \n",
    "scaler = prepr.standardize(in_memory_datas) \n",
    "\n",
    "dataloaders = {\n",
    "    'train':  DataLoader(in_memory_datas, batch_size=128, shuffle=True)\n",
    "    }\n",
    "print(\"train_dataloader dim:\", len(dataloaders['train']))\n",
    "\n",
    "#dataset.get(0).u"
   ]
  },
  {
   "cell_type": "code",
   "execution_count": null,
   "metadata": {},
   "outputs": [],
   "source": []
  },
  {
   "cell_type": "code",
   "execution_count": null,
   "metadata": {},
   "outputs": [],
   "source": []
  },
  {
   "cell_type": "code",
   "execution_count": 7,
   "metadata": {},
   "outputs": [],
   "source": []
  },
  {
   "cell_type": "code",
   "execution_count": 46,
   "metadata": {},
   "outputs": [],
   "source": [
    "torch.manual_seed(0)\n",
    "device = torch.device('cuda:0' if torch.cuda.is_available() else 'cpu')\n",
    "multi_gpu = False #torch.cuda.device_count()>1"
   ]
  },
  {
   "cell_type": "code",
   "execution_count": null,
   "metadata": {},
   "outputs": [],
   "source": []
  },
  {
   "cell_type": "code",
   "execution_count": null,
   "metadata": {},
   "outputs": [],
   "source": []
  },
  {
   "cell_type": "code",
   "execution_count": null,
   "metadata": {},
   "outputs": [],
   "source": []
  },
  {
   "cell_type": "code",
   "execution_count": 49,
   "metadata": {},
   "outputs": [
    {
     "data": {
      "text/plain": [
       "EdgeNet(\n",
       "  (batchnorm): BatchNorm1d(7, eps=1e-05, momentum=0.1, affine=True, track_running_stats=True)\n",
       "  (encoder): EdgeConv(nn=Sequential(\n",
       "    (0): Linear(in_features=14, out_features=32, bias=True)\n",
       "    (1): ReLU()\n",
       "    (2): Linear(in_features=32, out_features=32, bias=True)\n",
       "    (3): ReLU()\n",
       "    (4): Linear(in_features=32, out_features=2, bias=True)\n",
       "    (5): ReLU()\n",
       "  ))\n",
       "  (decoder): EdgeConv(nn=Sequential(\n",
       "    (0): Linear(in_features=4, out_features=32, bias=True)\n",
       "    (1): ReLU()\n",
       "    (2): Linear(in_features=32, out_features=32, bias=True)\n",
       "    (3): ReLU()\n",
       "    (4): Linear(in_features=32, out_features=7, bias=True)\n",
       "  ))\n",
       ")"
      ]
     },
     "execution_count": 49,
     "metadata": {},
     "output_type": "execute_result"
    }
   ],
   "source": [
    "#loss\n",
    "#loss_ftn_obj = LossFunction('mse_coordinates', device=device)\n",
    "loss_ftn_obj = losses.LossFunction('mse', device=device)\n",
    "\n",
    "# model\n",
    "input_dim = 7\n",
    "output_dim = 7#4\n",
    "big_dim = 32\n",
    "hidden_dim = 2\n",
    "model = models.EdgeNet(input_dim=input_dim,output_dim=output_dim, big_dim=big_dim, hidden_dim=hidden_dim)\n",
    "\n",
    "optimizer = torch.optim.Adam(model.parameters(), lr = 10e-3)\n",
    "scheduler = torch.optim.lr_scheduler.ReduceLROnPlateau(optimizer, patience=4, threshold=1e-6)\n",
    "\n",
    "model.to(device)\n"
   ]
  },
  {
   "cell_type": "code",
   "execution_count": 58,
   "metadata": {},
   "outputs": [
    {
     "name": "stderr",
     "output_type": "stream",
     "text": [
      "\n",
      "  0%|          | 0/7.8125 [00:00<?, ?it/s]\u001b[A\n",
      "train loss = 1.1026058:   0%|          | 0/7.8125 [00:04<?, ?it/s]\u001b[A\n",
      "train loss = 1.1026058:   0%|          | 0/7.8125 [00:04<?, ?it/s]\u001b[A\n",
      "train loss = 1.1026058:  13%|█▎        | 1/7.8125 [00:04<00:30,  4.54s/it]\u001b[A\n",
      "train loss = 0.9385760:  13%|█▎        | 1/7.8125 [00:04<00:30,  4.54s/it]\u001b[A\n",
      "train loss = 0.9385760:  13%|█▎        | 1/7.8125 [00:04<00:30,  4.54s/it]\u001b[A\n",
      "train loss = 0.9385760:  26%|██▌       | 2/7.8125 [00:04<00:18,  3.22s/it]\u001b[A\n",
      "train loss = 1.0185511:  26%|██▌       | 2/7.8125 [00:04<00:18,  3.22s/it]\u001b[A\n",
      "train loss = 1.0185511:  26%|██▌       | 2/7.8125 [00:04<00:18,  3.22s/it]\u001b[A\n",
      "train loss = 1.0185511:  38%|███▊      | 3/7.8125 [00:04<00:11,  2.29s/it]\u001b[A\n",
      "train loss = 1.0707859:  38%|███▊      | 3/7.8125 [00:04<00:11,  2.29s/it]\u001b[A\n",
      "train loss = 1.0707859:  38%|███▊      | 3/7.8125 [00:04<00:11,  2.29s/it]\u001b[A\n",
      "train loss = 1.0707859:  51%|█████     | 4/7.8125 [00:04<00:06,  1.63s/it]\u001b[A\n",
      "train loss = 0.8313523:  51%|█████     | 4/7.8125 [00:05<00:06,  1.63s/it]\u001b[A\n",
      "train loss = 0.8313523:  51%|█████     | 4/7.8125 [00:05<00:06,  1.63s/it]\u001b[A\n",
      "train loss = 0.8313523:  64%|██████▍   | 5/7.8125 [00:05<00:03,  1.18s/it]\u001b[A\n",
      "train loss = 0.7351894:  64%|██████▍   | 5/7.8125 [00:05<00:03,  1.18s/it]\u001b[A\n",
      "train loss = 0.7351894:  64%|██████▍   | 5/7.8125 [00:05<00:03,  1.18s/it]\u001b[A\n",
      "train loss = 0.7351894:  77%|███████▋  | 6/7.8125 [00:05<00:01,  1.17it/s]\u001b[A\n",
      "train loss = 0.7893596:  77%|███████▋  | 6/7.8125 [00:05<00:01,  1.17it/s]\u001b[A\n",
      "train loss = 0.7893596:  77%|███████▋  | 6/7.8125 [00:05<00:01,  1.17it/s]\u001b[A\n",
      "train loss = 0.7893596:  90%|████████▉ | 7/7.8125 [00:05<00:00,  1.58it/s]\u001b[A\n",
      "train loss = 0.7953988:  90%|████████▉ | 7/7.8125 [00:05<00:00,  1.58it/s]\u001b[A\n",
      "train loss = 0.7953988:  90%|████████▉ | 7/7.8125 [00:05<00:00,  1.58it/s]\u001b[A\n",
      "train loss = 0.7953988: : 8it [00:05,  1.50it/s]                          \u001b[A\n",
      "  0%|          | 0/7.8125 [00:00<?, ?it/s]\u001b[A\n",
      "train loss = 0.8056224:   0%|          | 0/7.8125 [00:00<?, ?it/s]\u001b[A\n",
      "train loss = 0.8056224:   0%|          | 0/7.8125 [00:00<?, ?it/s]\u001b[A\n",
      "train loss = 0.8056224:  13%|█▎        | 1/7.8125 [00:00<00:00,  8.14it/s]\u001b[A"
     ]
    },
    {
     "name": "stdout",
     "output_type": "stream",
     "text": [
      "Epoch: 00, Training Loss:   0.9102\n"
     ]
    },
    {
     "name": "stderr",
     "output_type": "stream",
     "text": [
      "\n",
      "train loss = 0.7560380:  13%|█▎        | 1/7.8125 [00:00<00:00,  8.14it/s]\u001b[A\n",
      "train loss = 0.7560380:  13%|█▎        | 1/7.8125 [00:00<00:00,  8.14it/s]\u001b[A\n",
      "train loss = 0.7560380:  26%|██▌       | 2/7.8125 [00:00<00:00,  8.38it/s]\u001b[A\n",
      "train loss = 0.7405478:  26%|██▌       | 2/7.8125 [00:00<00:00,  8.38it/s]\u001b[A\n",
      "train loss = 0.7405478:  26%|██▌       | 2/7.8125 [00:00<00:00,  8.38it/s]\u001b[A\n",
      "train loss = 0.7405478:  38%|███▊      | 3/7.8125 [00:00<00:00,  8.53it/s]\u001b[A\n",
      "train loss = 0.7379527:  38%|███▊      | 3/7.8125 [00:00<00:00,  8.53it/s]\u001b[A\n",
      "train loss = 0.7379527:  38%|███▊      | 3/7.8125 [00:00<00:00,  8.53it/s]\u001b[A\n",
      "train loss = 0.7379527:  51%|█████     | 4/7.8125 [00:00<00:00,  8.63it/s]\u001b[A\n",
      "train loss = 0.8141848:  51%|█████     | 4/7.8125 [00:00<00:00,  8.63it/s]\u001b[A\n",
      "train loss = 0.8141848:  51%|█████     | 4/7.8125 [00:00<00:00,  8.63it/s]\u001b[A\n",
      "train loss = 0.8141848:  64%|██████▍   | 5/7.8125 [00:00<00:00,  8.60it/s]\u001b[A\n",
      "train loss = 0.6988147:  64%|██████▍   | 5/7.8125 [00:00<00:00,  8.60it/s]\u001b[A\n",
      "train loss = 0.6988147:  64%|██████▍   | 5/7.8125 [00:00<00:00,  8.60it/s]\u001b[A\n",
      "train loss = 0.6988147:  77%|███████▋  | 6/7.8125 [00:00<00:00,  8.45it/s]\u001b[A\n",
      "train loss = 0.6114100:  77%|███████▋  | 6/7.8125 [00:00<00:00,  8.45it/s]\u001b[A\n",
      "train loss = 0.6114100:  77%|███████▋  | 6/7.8125 [00:00<00:00,  8.45it/s]\u001b[A\n",
      "train loss = 0.6114100:  90%|████████▉ | 7/7.8125 [00:00<00:00,  8.41it/s]\u001b[A\n",
      "train loss = 0.6149664:  90%|████████▉ | 7/7.8125 [00:00<00:00,  8.41it/s]\u001b[A\n",
      "train loss = 0.6149664:  90%|████████▉ | 7/7.8125 [00:00<00:00,  8.41it/s]\u001b[A\n",
      "train loss = 0.6149664: : 8it [00:00,  8.71it/s]                          \u001b[A\n",
      "  0%|          | 0/7.8125 [00:00<?, ?it/s]\u001b[A\n",
      "train loss = 0.7478458:   0%|          | 0/7.8125 [00:00<?, ?it/s]\u001b[A\n",
      "train loss = 0.7478458:   0%|          | 0/7.8125 [00:00<?, ?it/s]\u001b[A\n",
      "train loss = 0.7478458:  13%|█▎        | 1/7.8125 [00:00<00:00,  8.14it/s]\u001b[A"
     ]
    },
    {
     "name": "stdout",
     "output_type": "stream",
     "text": [
      "Epoch: 01, Training Loss:   0.7224\n"
     ]
    },
    {
     "name": "stderr",
     "output_type": "stream",
     "text": [
      "\n",
      "train loss = 0.6363030:  13%|█▎        | 1/7.8125 [00:00<00:00,  8.14it/s]\u001b[A\n",
      "train loss = 0.6363030:  13%|█▎        | 1/7.8125 [00:00<00:00,  8.14it/s]\u001b[A\n",
      "train loss = 0.6363030:  26%|██▌       | 2/7.8125 [00:00<00:00,  8.48it/s]\u001b[A\n",
      "train loss = 0.6769050:  26%|██▌       | 2/7.8125 [00:00<00:00,  8.48it/s]\u001b[A\n",
      "train loss = 0.6769050:  26%|██▌       | 2/7.8125 [00:00<00:00,  8.48it/s]\u001b[A\n",
      "train loss = 0.6769050:  38%|███▊      | 3/7.8125 [00:00<00:00,  8.77it/s]\u001b[A\n",
      "train loss = 0.5703521:  38%|███▊      | 3/7.8125 [00:00<00:00,  8.77it/s]\u001b[A\n",
      "train loss = 0.5703521:  38%|███▊      | 3/7.8125 [00:00<00:00,  8.77it/s]\u001b[A\n",
      "train loss = 0.5703521:  51%|█████     | 4/7.8125 [00:00<00:00,  9.00it/s]\u001b[A\n",
      "train loss = 0.5411949:  51%|█████     | 4/7.8125 [00:00<00:00,  9.00it/s]\u001b[A\n",
      "train loss = 0.5411949:  51%|█████     | 4/7.8125 [00:00<00:00,  9.00it/s]\u001b[A\n",
      "train loss = 0.5411949:  64%|██████▍   | 5/7.8125 [00:00<00:00,  8.64it/s]\u001b[A\n",
      "train loss = 0.6736951:  64%|██████▍   | 5/7.8125 [00:00<00:00,  8.64it/s]\u001b[A\n",
      "train loss = 0.6736951:  64%|██████▍   | 5/7.8125 [00:00<00:00,  8.64it/s]\u001b[A\n",
      "train loss = 0.6736951:  77%|███████▋  | 6/7.8125 [00:00<00:00,  8.87it/s]\u001b[A\n",
      "train loss = 0.4968987:  77%|███████▋  | 6/7.8125 [00:00<00:00,  8.87it/s]\u001b[A\n",
      "train loss = 0.4968987:  77%|███████▋  | 6/7.8125 [00:00<00:00,  8.87it/s]\u001b[A\n",
      "train loss = 0.4968987:  90%|████████▉ | 7/7.8125 [00:00<00:00,  8.75it/s]\u001b[A\n",
      "train loss = 0.4391458:  90%|████████▉ | 7/7.8125 [00:00<00:00,  8.75it/s]\u001b[A\n",
      "train loss = 0.4391458:  90%|████████▉ | 7/7.8125 [00:00<00:00,  8.75it/s]\u001b[A\n",
      "train loss = 0.4391458: : 8it [00:00,  8.95it/s]                          \u001b[A\n",
      "  0%|          | 0/7.8125 [00:00<?, ?it/s]\u001b[A\n",
      "train loss = 0.4615742:   0%|          | 0/7.8125 [00:00<?, ?it/s]\u001b[A\n",
      "train loss = 0.4615742:   0%|          | 0/7.8125 [00:00<?, ?it/s]\u001b[A\n",
      "train loss = 0.4615742:  13%|█▎        | 1/7.8125 [00:00<00:00,  8.09it/s]\u001b[A"
     ]
    },
    {
     "name": "stdout",
     "output_type": "stream",
     "text": [
      "Epoch: 02, Training Loss:   0.5978\n"
     ]
    },
    {
     "name": "stderr",
     "output_type": "stream",
     "text": [
      "\n",
      "train loss = 0.3698697:  13%|█▎        | 1/7.8125 [00:00<00:00,  8.09it/s]\u001b[A\n",
      "train loss = 0.3698697:  13%|█▎        | 1/7.8125 [00:00<00:00,  8.09it/s]\u001b[A\n",
      "train loss = 0.3698697:  26%|██▌       | 2/7.8125 [00:00<00:00,  8.34it/s]\u001b[A\n",
      "train loss = 0.4421588:  26%|██▌       | 2/7.8125 [00:00<00:00,  8.34it/s]\u001b[A\n",
      "train loss = 0.4421588:  26%|██▌       | 2/7.8125 [00:00<00:00,  8.34it/s]\u001b[A\n",
      "train loss = 0.4421588:  38%|███▊      | 3/7.8125 [00:00<00:00,  8.66it/s]\u001b[A\n",
      "train loss = 0.4347049:  38%|███▊      | 3/7.8125 [00:00<00:00,  8.66it/s]\u001b[A\n",
      "train loss = 0.4347049:  38%|███▊      | 3/7.8125 [00:00<00:00,  8.66it/s]\u001b[A\n",
      "train loss = 0.4347049:  51%|█████     | 4/7.8125 [00:00<00:00,  8.89it/s]\u001b[A\n",
      "train loss = 0.3949658:  51%|█████     | 4/7.8125 [00:00<00:00,  8.89it/s]\u001b[A\n",
      "train loss = 0.3949658:  51%|█████     | 4/7.8125 [00:00<00:00,  8.89it/s]\u001b[A\n",
      "train loss = 0.3949658:  64%|██████▍   | 5/7.8125 [00:00<00:00,  9.00it/s]\u001b[A\n",
      "train loss = 0.5263690:  64%|██████▍   | 5/7.8125 [00:00<00:00,  9.00it/s]\u001b[A\n",
      "train loss = 0.5263690:  64%|██████▍   | 5/7.8125 [00:00<00:00,  9.00it/s]\u001b[A\n",
      "train loss = 0.5263690:  77%|███████▋  | 6/7.8125 [00:00<00:00,  9.15it/s]\u001b[A\n",
      "train loss = 0.4709881:  77%|███████▋  | 6/7.8125 [00:00<00:00,  9.15it/s]\u001b[A\n",
      "train loss = 0.4709881:  77%|███████▋  | 6/7.8125 [00:00<00:00,  9.15it/s]\u001b[A\n",
      "train loss = 0.4709881:  90%|████████▉ | 7/7.8125 [00:00<00:00,  9.32it/s]\u001b[A\n",
      "train loss = 0.4265606:  90%|████████▉ | 7/7.8125 [00:00<00:00,  9.32it/s]\u001b[A\n",
      "train loss = 0.4265606:  90%|████████▉ | 7/7.8125 [00:00<00:00,  9.32it/s]\u001b[A\n",
      "train loss = 0.4265606: : 8it [00:00,  9.32it/s]                          \u001b[A\n",
      "  0%|          | 0/7.8125 [00:00<?, ?it/s]\u001b[A\n",
      "train loss = 0.4037070:   0%|          | 0/7.8125 [00:00<?, ?it/s]\u001b[A\n",
      "train loss = 0.4037070:   0%|          | 0/7.8125 [00:00<?, ?it/s]\u001b[A\n",
      "train loss = 0.4037070:  13%|█▎        | 1/7.8125 [00:00<00:00,  7.53it/s]\u001b[A"
     ]
    },
    {
     "name": "stdout",
     "output_type": "stream",
     "text": [
      "Epoch: 03, Training Loss:   0.4409\n"
     ]
    },
    {
     "name": "stderr",
     "output_type": "stream",
     "text": [
      "\n",
      "train loss = 0.2927673:  13%|█▎        | 1/7.8125 [00:00<00:00,  7.53it/s]\u001b[A\n",
      "train loss = 0.2927673:  13%|█▎        | 1/7.8125 [00:00<00:00,  7.53it/s]\u001b[A\n",
      "train loss = 0.2927673:  26%|██▌       | 2/7.8125 [00:00<00:00,  7.86it/s]\u001b[A\n",
      "train loss = 0.3703017:  26%|██▌       | 2/7.8125 [00:00<00:00,  7.86it/s]\u001b[A\n",
      "train loss = 0.3703017:  26%|██▌       | 2/7.8125 [00:00<00:00,  7.86it/s]\u001b[A\n",
      "train loss = 0.3703017:  38%|███▊      | 3/7.8125 [00:00<00:00,  8.16it/s]\u001b[A\n",
      "train loss = 0.3751352:  38%|███▊      | 3/7.8125 [00:00<00:00,  8.16it/s]\u001b[A\n",
      "train loss = 0.3751352:  38%|███▊      | 3/7.8125 [00:00<00:00,  8.16it/s]\u001b[A\n",
      "train loss = 0.3751352:  51%|█████     | 4/7.8125 [00:00<00:00,  8.37it/s]\u001b[A\n",
      "train loss = 0.4075520:  51%|█████     | 4/7.8125 [00:00<00:00,  8.37it/s]\u001b[A\n",
      "train loss = 0.4075520:  51%|█████     | 4/7.8125 [00:00<00:00,  8.37it/s]\u001b[A\n",
      "train loss = 0.4075520:  64%|██████▍   | 5/7.8125 [00:00<00:00,  8.61it/s]\u001b[A\n",
      "train loss = 0.3930303:  64%|██████▍   | 5/7.8125 [00:00<00:00,  8.61it/s]\u001b[A\n",
      "train loss = 0.3930303:  64%|██████▍   | 5/7.8125 [00:00<00:00,  8.61it/s]\u001b[A\n",
      "train loss = 0.3930303:  77%|███████▋  | 6/7.8125 [00:00<00:00,  8.75it/s]\u001b[A\n",
      "train loss = 0.3264436:  77%|███████▋  | 6/7.8125 [00:00<00:00,  8.75it/s]\u001b[A\n",
      "train loss = 0.3264436:  77%|███████▋  | 6/7.8125 [00:00<00:00,  8.75it/s]\u001b[A\n",
      "train loss = 0.3264436:  90%|████████▉ | 7/7.8125 [00:00<00:00,  8.76it/s]\u001b[A\n",
      "train loss = 0.3626721:  90%|████████▉ | 7/7.8125 [00:00<00:00,  8.76it/s]\u001b[A\n",
      "train loss = 0.3626721:  90%|████████▉ | 7/7.8125 [00:00<00:00,  8.76it/s]\u001b[A\n",
      "train loss = 0.3626721: : 8it [00:00,  9.06it/s]                          \u001b[A\n",
      "  0%|          | 0/7.8125 [00:00<?, ?it/s]\u001b[A\n",
      "train loss = 0.3285762:   0%|          | 0/7.8125 [00:00<?, ?it/s]\u001b[A\n",
      "train loss = 0.3285762:   0%|          | 0/7.8125 [00:00<?, ?it/s]\u001b[A\n",
      "train loss = 0.3285762:  13%|█▎        | 1/7.8125 [00:00<00:00,  7.79it/s]\u001b[A"
     ]
    },
    {
     "name": "stdout",
     "output_type": "stream",
     "text": [
      "Epoch: 04, Training Loss:   0.3665\n"
     ]
    },
    {
     "name": "stderr",
     "output_type": "stream",
     "text": [
      "\n",
      "train loss = 0.2871736:  13%|█▎        | 1/7.8125 [00:00<00:00,  7.79it/s]\u001b[A\n",
      "train loss = 0.2871736:  13%|█▎        | 1/7.8125 [00:00<00:00,  7.79it/s]\u001b[A\n",
      "train loss = 0.2871736:  26%|██▌       | 2/7.8125 [00:00<00:00,  7.97it/s]\u001b[A\n",
      "train loss = 0.3191681:  26%|██▌       | 2/7.8125 [00:00<00:00,  7.97it/s]\u001b[A\n",
      "train loss = 0.3191681:  26%|██▌       | 2/7.8125 [00:00<00:00,  7.97it/s]\u001b[A\n",
      "train loss = 0.3191681:  38%|███▊      | 3/7.8125 [00:00<00:00,  8.20it/s]\u001b[A\n",
      "train loss = 0.4328444:  38%|███▊      | 3/7.8125 [00:00<00:00,  8.20it/s]\u001b[A\n",
      "train loss = 0.4328444:  38%|███▊      | 3/7.8125 [00:00<00:00,  8.20it/s]\u001b[A\n",
      "train loss = 0.4328444:  51%|█████     | 4/7.8125 [00:00<00:00,  8.33it/s]\u001b[A\n",
      "train loss = 0.2994530:  51%|█████     | 4/7.8125 [00:00<00:00,  8.33it/s]\u001b[A\n",
      "train loss = 0.2994530:  51%|█████     | 4/7.8125 [00:00<00:00,  8.33it/s]\u001b[A\n",
      "train loss = 0.2994530:  64%|██████▍   | 5/7.8125 [00:00<00:00,  8.52it/s]\u001b[A\n",
      "train loss = 0.3185475:  64%|██████▍   | 5/7.8125 [00:00<00:00,  8.52it/s]\u001b[A\n",
      "train loss = 0.3185475:  64%|██████▍   | 5/7.8125 [00:00<00:00,  8.52it/s]\u001b[A\n",
      "train loss = 0.3185475:  77%|███████▋  | 6/7.8125 [00:00<00:00,  8.61it/s]\u001b[A\n",
      "train loss = 0.3023432:  77%|███████▋  | 6/7.8125 [00:00<00:00,  8.61it/s]\u001b[A\n",
      "train loss = 0.3023432:  77%|███████▋  | 6/7.8125 [00:00<00:00,  8.61it/s]\u001b[A\n",
      "train loss = 0.3023432:  90%|████████▉ | 7/7.8125 [00:00<00:00,  8.60it/s]\u001b[A\n",
      "train loss = 0.2949094:  90%|████████▉ | 7/7.8125 [00:00<00:00,  8.60it/s]\u001b[A\n",
      "train loss = 0.2949094:  90%|████████▉ | 7/7.8125 [00:00<00:00,  8.60it/s]\u001b[A\n",
      "train loss = 0.2949094: : 8it [00:00,  8.84it/s]                          \u001b[A\n",
      "  0%|          | 0/7.8125 [00:00<?, ?it/s]\u001b[A\n",
      "train loss = 0.2484584:   0%|          | 0/7.8125 [00:00<?, ?it/s]\u001b[A\n",
      "train loss = 0.2484584:   0%|          | 0/7.8125 [00:00<?, ?it/s]\u001b[A\n",
      "train loss = 0.2484584:  13%|█▎        | 1/7.8125 [00:00<00:00,  7.03it/s]\u001b[A"
     ]
    },
    {
     "name": "stdout",
     "output_type": "stream",
     "text": [
      "Epoch: 05, Training Loss:   0.3229\n"
     ]
    },
    {
     "name": "stderr",
     "output_type": "stream",
     "text": [
      "\n",
      "train loss = 0.3735018:  13%|█▎        | 1/7.8125 [00:00<00:00,  7.03it/s]\u001b[A\n",
      "train loss = 0.3735018:  13%|█▎        | 1/7.8125 [00:00<00:00,  7.03it/s]\u001b[A\n",
      "train loss = 0.3735018:  26%|██▌       | 2/7.8125 [00:00<00:00,  7.45it/s]\u001b[A\n",
      "train loss = 0.3005232:  26%|██▌       | 2/7.8125 [00:00<00:00,  7.45it/s]\u001b[A\n",
      "train loss = 0.3005232:  26%|██▌       | 2/7.8125 [00:00<00:00,  7.45it/s]\u001b[A\n",
      "train loss = 0.3005232:  38%|███▊      | 3/7.8125 [00:00<00:00,  7.78it/s]\u001b[A\n",
      "train loss = 0.3239109:  38%|███▊      | 3/7.8125 [00:00<00:00,  7.78it/s]\u001b[A\n",
      "train loss = 0.3239109:  38%|███▊      | 3/7.8125 [00:00<00:00,  7.78it/s]\u001b[A\n",
      "train loss = 0.3239109:  51%|█████     | 4/7.8125 [00:00<00:00,  8.05it/s]\u001b[A\n",
      "train loss = 0.2606470:  51%|█████     | 4/7.8125 [00:00<00:00,  8.05it/s]\u001b[A\n",
      "train loss = 0.2606470:  51%|█████     | 4/7.8125 [00:00<00:00,  8.05it/s]\u001b[A\n",
      "train loss = 0.2606470:  64%|██████▍   | 5/7.8125 [00:00<00:00,  8.37it/s]\u001b[A\n",
      "train loss = 0.2198222:  64%|██████▍   | 5/7.8125 [00:00<00:00,  8.37it/s]\u001b[A\n",
      "train loss = 0.2198222:  64%|██████▍   | 5/7.8125 [00:00<00:00,  8.37it/s]\u001b[A\n",
      "train loss = 0.2198222:  77%|███████▋  | 6/7.8125 [00:00<00:00,  8.19it/s]\u001b[A\n",
      "train loss = 0.3031718:  77%|███████▋  | 6/7.8125 [00:00<00:00,  8.19it/s]\u001b[A\n",
      "train loss = 0.3031718:  77%|███████▋  | 6/7.8125 [00:00<00:00,  8.19it/s]\u001b[A\n",
      "train loss = 0.3031718:  90%|████████▉ | 7/7.8125 [00:00<00:00,  8.41it/s]\u001b[A\n",
      "train loss = 0.2366371:  90%|████████▉ | 7/7.8125 [00:00<00:00,  8.41it/s]\u001b[A\n",
      "train loss = 0.2366371:  90%|████████▉ | 7/7.8125 [00:00<00:00,  8.41it/s]\u001b[A\n",
      "train loss = 0.2366371: : 8it [00:00,  8.55it/s]                          \u001b[A\n",
      "  0%|          | 0/7.8125 [00:00<?, ?it/s]\u001b[A\n",
      "train loss = 0.2658512:   0%|          | 0/7.8125 [00:00<?, ?it/s]\u001b[A\n",
      "train loss = 0.2658512:   0%|          | 0/7.8125 [00:00<?, ?it/s]\u001b[A\n",
      "train loss = 0.2658512:  13%|█▎        | 1/7.8125 [00:00<00:00,  7.47it/s]\u001b[A"
     ]
    },
    {
     "name": "stdout",
     "output_type": "stream",
     "text": [
      "Epoch: 06, Training Loss:   0.2833\n"
     ]
    },
    {
     "name": "stderr",
     "output_type": "stream",
     "text": [
      "\n",
      "train loss = 0.2998235:  13%|█▎        | 1/7.8125 [00:00<00:00,  7.47it/s]\u001b[A\n",
      "train loss = 0.2998235:  13%|█▎        | 1/7.8125 [00:00<00:00,  7.47it/s]\u001b[A\n",
      "train loss = 0.2998235:  26%|██▌       | 2/7.8125 [00:00<00:00,  7.70it/s]\u001b[A\n",
      "train loss = 0.2625081:  26%|██▌       | 2/7.8125 [00:00<00:00,  7.70it/s]\u001b[A\n",
      "train loss = 0.2625081:  26%|██▌       | 2/7.8125 [00:00<00:00,  7.70it/s]\u001b[A\n",
      "train loss = 0.2625081:  38%|███▊      | 3/7.8125 [00:00<00:00,  8.06it/s]\u001b[A\n",
      "train loss = 0.1998820:  38%|███▊      | 3/7.8125 [00:00<00:00,  8.06it/s]\u001b[A\n",
      "train loss = 0.1998820:  38%|███▊      | 3/7.8125 [00:00<00:00,  8.06it/s]\u001b[A\n",
      "train loss = 0.1998820:  51%|█████     | 4/7.8125 [00:00<00:00,  8.49it/s]\u001b[A\n",
      "train loss = 0.2134328:  51%|█████     | 4/7.8125 [00:00<00:00,  8.49it/s]\u001b[A\n",
      "train loss = 0.2134328:  51%|█████     | 4/7.8125 [00:00<00:00,  8.49it/s]\u001b[A\n",
      "train loss = 0.2134328:  64%|██████▍   | 5/7.8125 [00:00<00:00,  8.71it/s]\u001b[A\n",
      "train loss = 0.2582675:  64%|██████▍   | 5/7.8125 [00:00<00:00,  8.71it/s]\u001b[A\n",
      "train loss = 0.2582675:  64%|██████▍   | 5/7.8125 [00:00<00:00,  8.71it/s]\u001b[A\n",
      "train loss = 0.2582675:  77%|███████▋  | 6/7.8125 [00:00<00:00,  8.85it/s]\u001b[A\n",
      "train loss = 0.2168615:  77%|███████▋  | 6/7.8125 [00:00<00:00,  8.85it/s]\u001b[A\n",
      "train loss = 0.2168615:  77%|███████▋  | 6/7.8125 [00:00<00:00,  8.85it/s]\u001b[A\n",
      "train loss = 0.2168615:  90%|████████▉ | 7/7.8125 [00:00<00:00,  8.95it/s]\u001b[A\n",
      "train loss = 0.2556518:  90%|████████▉ | 7/7.8125 [00:00<00:00,  8.95it/s]\u001b[A\n",
      "train loss = 0.2556518:  90%|████████▉ | 7/7.8125 [00:00<00:00,  8.95it/s]\u001b[A\n",
      "train loss = 0.2556518: : 8it [00:00,  9.16it/s]                          \u001b[A\n",
      "  0%|          | 0/7.8125 [00:00<?, ?it/s]\u001b[A\n",
      "train loss = 0.1923296:   0%|          | 0/7.8125 [00:00<?, ?it/s]\u001b[A\n",
      "train loss = 0.1923296:   0%|          | 0/7.8125 [00:00<?, ?it/s]\u001b[A\n",
      "train loss = 0.1923296:  13%|█▎        | 1/7.8125 [00:00<00:00,  7.67it/s]\u001b[A"
     ]
    },
    {
     "name": "stdout",
     "output_type": "stream",
     "text": [
      "Epoch: 07, Training Loss:   0.2465\n"
     ]
    },
    {
     "name": "stderr",
     "output_type": "stream",
     "text": [
      "\n",
      "train loss = 0.2333088:  13%|█▎        | 1/7.8125 [00:00<00:00,  7.67it/s]\u001b[A\n",
      "train loss = 0.2333088:  13%|█▎        | 1/7.8125 [00:00<00:00,  7.67it/s]\u001b[A\n",
      "train loss = 0.2333088:  26%|██▌       | 2/7.8125 [00:00<00:00,  7.97it/s]\u001b[A\n",
      "train loss = 0.2753197:  26%|██▌       | 2/7.8125 [00:00<00:00,  7.97it/s]\u001b[A\n",
      "train loss = 0.2753197:  26%|██▌       | 2/7.8125 [00:00<00:00,  7.97it/s]\u001b[A\n",
      "train loss = 0.2753197:  38%|███▊      | 3/7.8125 [00:00<00:00,  8.21it/s]\u001b[A\n",
      "train loss = 0.1893596:  38%|███▊      | 3/7.8125 [00:00<00:00,  8.21it/s]\u001b[A\n",
      "train loss = 0.1893596:  38%|███▊      | 3/7.8125 [00:00<00:00,  8.21it/s]\u001b[A\n",
      "train loss = 0.1893596:  51%|█████     | 4/7.8125 [00:00<00:00,  8.63it/s]\u001b[A\n",
      "train loss = 0.1783302:  51%|█████     | 4/7.8125 [00:00<00:00,  8.63it/s]\u001b[A\n",
      "train loss = 0.1783302:  51%|█████     | 4/7.8125 [00:00<00:00,  8.63it/s]\u001b[A\n",
      "train loss = 0.1783302:  64%|██████▍   | 5/7.8125 [00:00<00:00,  8.89it/s]\u001b[A\n",
      "train loss = 0.2091288:  64%|██████▍   | 5/7.8125 [00:00<00:00,  8.89it/s]\u001b[A\n",
      "train loss = 0.2091288:  64%|██████▍   | 5/7.8125 [00:00<00:00,  8.89it/s]\u001b[A\n",
      "train loss = 0.2091288:  77%|███████▋  | 6/7.8125 [00:00<00:00,  9.09it/s]\u001b[A\n",
      "train loss = 0.1795066:  77%|███████▋  | 6/7.8125 [00:00<00:00,  9.09it/s]\u001b[A\n",
      "train loss = 0.1795066:  77%|███████▋  | 6/7.8125 [00:00<00:00,  9.09it/s]\u001b[A\n",
      "train loss = 0.1795066:  90%|████████▉ | 7/7.8125 [00:00<00:00,  9.08it/s]\u001b[A\n",
      "train loss = 0.1906231:  90%|████████▉ | 7/7.8125 [00:00<00:00,  9.08it/s]\u001b[A\n",
      "train loss = 0.1906231:  90%|████████▉ | 7/7.8125 [00:00<00:00,  9.08it/s]\u001b[A\n",
      "train loss = 0.1906231: : 8it [00:00,  9.12it/s]                          \u001b[A\n",
      "  0%|          | 0/7.8125 [00:00<?, ?it/s]\u001b[A\n",
      "train loss = 0.1566821:   0%|          | 0/7.8125 [00:00<?, ?it/s]\u001b[A\n",
      "train loss = 0.1566821:   0%|          | 0/7.8125 [00:00<?, ?it/s]\u001b[A\n",
      "train loss = 0.1566821:  13%|█▎        | 1/7.8125 [00:00<00:00,  7.95it/s]\u001b[A"
     ]
    },
    {
     "name": "stdout",
     "output_type": "stream",
     "text": [
      "Epoch: 08, Training Loss:   0.2060\n"
     ]
    },
    {
     "name": "stderr",
     "output_type": "stream",
     "text": [
      "\n",
      "train loss = 0.1761241:  13%|█▎        | 1/7.8125 [00:00<00:00,  7.95it/s]\u001b[A\n",
      "train loss = 0.1761241:  13%|█▎        | 1/7.8125 [00:00<00:00,  7.95it/s]\u001b[A\n",
      "train loss = 0.1761241:  26%|██▌       | 2/7.8125 [00:00<00:00,  8.31it/s]\u001b[A\n",
      "train loss = 0.1870629:  26%|██▌       | 2/7.8125 [00:00<00:00,  8.31it/s]\u001b[A\n",
      "train loss = 0.1870629:  26%|██▌       | 2/7.8125 [00:00<00:00,  8.31it/s]\u001b[A\n",
      "train loss = 0.1870629:  38%|███▊      | 3/7.8125 [00:00<00:00,  8.47it/s]\u001b[A\n",
      "train loss = 0.2013997:  38%|███▊      | 3/7.8125 [00:00<00:00,  8.47it/s]\u001b[A\n",
      "train loss = 0.2013997:  38%|███▊      | 3/7.8125 [00:00<00:00,  8.47it/s]\u001b[A\n",
      "train loss = 0.2013997:  51%|█████     | 4/7.8125 [00:00<00:00,  8.33it/s]\u001b[A\n",
      "train loss = 0.1738259:  51%|█████     | 4/7.8125 [00:00<00:00,  8.33it/s]\u001b[A\n",
      "train loss = 0.1738259:  51%|█████     | 4/7.8125 [00:00<00:00,  8.33it/s]\u001b[A\n",
      "train loss = 0.1738259:  64%|██████▍   | 5/7.8125 [00:00<00:00,  8.35it/s]\u001b[A\n",
      "train loss = 0.1584999:  64%|██████▍   | 5/7.8125 [00:00<00:00,  8.35it/s]\u001b[A\n",
      "train loss = 0.1584999:  64%|██████▍   | 5/7.8125 [00:00<00:00,  8.35it/s]\u001b[A\n",
      "train loss = 0.1584999:  77%|███████▋  | 6/7.8125 [00:00<00:00,  8.55it/s]\u001b[A\n",
      "train loss = 0.1919773:  77%|███████▋  | 6/7.8125 [00:00<00:00,  8.55it/s]\u001b[A\n",
      "train loss = 0.1919773:  77%|███████▋  | 6/7.8125 [00:00<00:00,  8.55it/s]\u001b[A\n",
      "train loss = 0.1919773:  90%|████████▉ | 7/7.8125 [00:00<00:00,  8.71it/s]\u001b[A\n",
      "train loss = 0.2222639:  90%|████████▉ | 7/7.8125 [00:00<00:00,  8.71it/s]\u001b[A\n",
      "train loss = 0.2222639:  90%|████████▉ | 7/7.8125 [00:00<00:00,  8.71it/s]\u001b[A\n",
      "train loss = 0.2222639: : 8it [00:00,  8.81it/s]                          \u001b[A\n",
      "  0%|          | 0/7.8125 [00:00<?, ?it/s]\u001b[A\n",
      "train loss = 0.1534133:   0%|          | 0/7.8125 [00:00<?, ?it/s]\u001b[A\n",
      "train loss = 0.1534133:   0%|          | 0/7.8125 [00:00<?, ?it/s]\u001b[A\n",
      "train loss = 0.1534133:  13%|█▎        | 1/7.8125 [00:00<00:00,  8.81it/s]\u001b[A\n"
     ]
    },
    {
     "name": "stdout",
     "output_type": "stream",
     "text": [
      "Epoch: 09, Training Loss:   0.1835\n"
     ]
    },
    {
     "name": "stderr",
     "output_type": "stream",
     "text": [
      "train loss = 0.1756693:  13%|█▎        | 1/7.8125 [00:00<00:00,  8.81it/s]\u001b[A\n",
      "train loss = 0.1756693:  13%|█▎        | 1/7.8125 [00:00<00:00,  8.81it/s]\u001b[A\n",
      "train loss = 0.2280580:  13%|█▎        | 1/7.8125 [00:00<00:00,  8.81it/s]\u001b[A\n",
      "train loss = 0.2280580:  13%|█▎        | 1/7.8125 [00:00<00:00,  8.81it/s]\u001b[A\n",
      "train loss = 0.2280580:  38%|███▊      | 3/7.8125 [00:00<00:00,  9.13it/s]\u001b[A\n",
      "train loss = 0.1656586:  38%|███▊      | 3/7.8125 [00:00<00:00,  9.13it/s]\u001b[A\n",
      "train loss = 0.1656586:  38%|███▊      | 3/7.8125 [00:00<00:00,  9.13it/s]\u001b[A\n",
      "train loss = 0.1656586:  51%|█████     | 4/7.8125 [00:00<00:00,  9.00it/s]\u001b[A\n",
      "train loss = 0.1315137:  51%|█████     | 4/7.8125 [00:00<00:00,  9.00it/s]\u001b[A\n",
      "train loss = 0.1315137:  51%|█████     | 4/7.8125 [00:00<00:00,  9.00it/s]\u001b[A\n",
      "train loss = 0.1315137:  64%|██████▍   | 5/7.8125 [00:00<00:00,  8.56it/s]\u001b[A\n",
      "train loss = 0.1675919:  64%|██████▍   | 5/7.8125 [00:00<00:00,  8.56it/s]\u001b[A\n",
      "train loss = 0.1675919:  64%|██████▍   | 5/7.8125 [00:00<00:00,  8.56it/s]\u001b[A\n",
      "train loss = 0.1675919:  77%|███████▋  | 6/7.8125 [00:00<00:00,  8.38it/s]\u001b[A\n",
      "train loss = 0.1313056:  77%|███████▋  | 6/7.8125 [00:00<00:00,  8.38it/s]\u001b[A\n",
      "train loss = 0.1313056:  77%|███████▋  | 6/7.8125 [00:00<00:00,  8.38it/s]\u001b[A\n",
      "train loss = 0.1313056:  90%|████████▉ | 7/7.8125 [00:00<00:00,  8.33it/s]\u001b[A\n",
      "train loss = 0.1771246:  90%|████████▉ | 7/7.8125 [00:00<00:00,  8.33it/s]\u001b[A\n",
      "train loss = 0.1771246:  90%|████████▉ | 7/7.8125 [00:00<00:00,  8.33it/s]\u001b[A\n",
      "train loss = 0.1771246: : 8it [00:00,  8.40it/s]                          \u001b[A\n",
      "  0%|          | 0/7.8125 [00:00<?, ?it/s]\u001b[A\n",
      "train loss = 0.1386240:   0%|          | 0/7.8125 [00:00<?, ?it/s]\u001b[A\n",
      "train loss = 0.1386240:   0%|          | 0/7.8125 [00:00<?, ?it/s]\u001b[A\n",
      "train loss = 0.1386240:  13%|█▎        | 1/7.8125 [00:00<00:00,  7.09it/s]\u001b[A"
     ]
    },
    {
     "name": "stdout",
     "output_type": "stream",
     "text": [
      "Epoch: 10, Training Loss:   0.1663\n"
     ]
    },
    {
     "name": "stderr",
     "output_type": "stream",
     "text": [
      "\n",
      "train loss = 0.1298680:  13%|█▎        | 1/7.8125 [00:00<00:00,  7.09it/s]\u001b[A\n",
      "train loss = 0.1298680:  13%|█▎        | 1/7.8125 [00:00<00:00,  7.09it/s]\u001b[A\n",
      "train loss = 0.1298680:  26%|██▌       | 2/7.8125 [00:00<00:00,  7.62it/s]\u001b[A\n",
      "train loss = 0.1219484:  26%|██▌       | 2/7.8125 [00:00<00:00,  7.62it/s]\u001b[A\n",
      "train loss = 0.1219484:  26%|██▌       | 2/7.8125 [00:00<00:00,  7.62it/s]\u001b[A\n",
      "train loss = 0.1219484:  38%|███▊      | 3/7.8125 [00:00<00:00,  8.10it/s]\u001b[A\n",
      "train loss = 0.1748438:  38%|███▊      | 3/7.8125 [00:00<00:00,  8.10it/s]\u001b[A\n",
      "train loss = 0.1748438:  38%|███▊      | 3/7.8125 [00:00<00:00,  8.10it/s]\u001b[A\n",
      "train loss = 0.1748438:  51%|█████     | 4/7.8125 [00:00<00:00,  8.51it/s]\u001b[A\n",
      "train loss = 0.1449743:  51%|█████     | 4/7.8125 [00:00<00:00,  8.51it/s]\u001b[A\n",
      "train loss = 0.1449743:  51%|█████     | 4/7.8125 [00:00<00:00,  8.51it/s]\u001b[A\n",
      "train loss = 0.1449743:  64%|██████▍   | 5/7.8125 [00:00<00:00,  8.77it/s]\u001b[A\n",
      "train loss = 0.1465610:  64%|██████▍   | 5/7.8125 [00:00<00:00,  8.77it/s]\u001b[A\n",
      "train loss = 0.1465610:  64%|██████▍   | 5/7.8125 [00:00<00:00,  8.77it/s]\u001b[A\n",
      "train loss = 0.1465610:  77%|███████▋  | 6/7.8125 [00:00<00:00,  9.06it/s]\u001b[A\n",
      "train loss = 0.2195682:  77%|███████▋  | 6/7.8125 [00:00<00:00,  9.06it/s]\u001b[A\n",
      "train loss = 0.2195682:  77%|███████▋  | 6/7.8125 [00:00<00:00,  9.06it/s]\u001b[A\n",
      "train loss = 0.2195682:  90%|████████▉ | 7/7.8125 [00:00<00:00,  9.21it/s]\u001b[A\n",
      "train loss = 0.1544576:  90%|████████▉ | 7/7.8125 [00:00<00:00,  9.21it/s]\u001b[A\n",
      "train loss = 0.1544576:  90%|████████▉ | 7/7.8125 [00:00<00:00,  9.21it/s]\u001b[A\n",
      "train loss = 0.1544576: : 8it [00:00,  9.23it/s]                          \u001b[A\n",
      "  0%|          | 0/7.8125 [00:00<?, ?it/s]\u001b[A\n",
      "train loss = 0.1578940:   0%|          | 0/7.8125 [00:00<?, ?it/s]\u001b[A\n",
      "train loss = 0.1578940:   0%|          | 0/7.8125 [00:00<?, ?it/s]\u001b[A\n",
      "train loss = 0.1578940:  13%|█▎        | 1/7.8125 [00:00<00:00,  7.51it/s]\u001b[A"
     ]
    },
    {
     "name": "stdout",
     "output_type": "stream",
     "text": [
      "Epoch: 11, Training Loss:   0.1539\n"
     ]
    },
    {
     "name": "stderr",
     "output_type": "stream",
     "text": [
      "\n",
      "train loss = 0.1797734:  13%|█▎        | 1/7.8125 [00:00<00:00,  7.51it/s]\u001b[A\n",
      "train loss = 0.1797734:  13%|█▎        | 1/7.8125 [00:00<00:00,  7.51it/s]\u001b[A\n",
      "train loss = 0.1797734:  26%|██▌       | 2/7.8125 [00:00<00:00,  7.79it/s]\u001b[A\n",
      "train loss = 0.1643803:  26%|██▌       | 2/7.8125 [00:00<00:00,  7.79it/s]\u001b[A\n",
      "train loss = 0.1643803:  26%|██▌       | 2/7.8125 [00:00<00:00,  7.79it/s]\u001b[A\n",
      "train loss = 0.1643803:  38%|███▊      | 3/7.8125 [00:00<00:00,  8.20it/s]\u001b[A\n",
      "train loss = 0.1032175:  38%|███▊      | 3/7.8125 [00:00<00:00,  8.20it/s]\u001b[A\n",
      "train loss = 0.1032175:  38%|███▊      | 3/7.8125 [00:00<00:00,  8.20it/s]\u001b[A\n",
      "train loss = 0.1032175:  51%|█████     | 4/7.8125 [00:00<00:00,  8.43it/s]\u001b[A\n",
      "train loss = 0.1247770:  51%|█████     | 4/7.8125 [00:00<00:00,  8.43it/s]\u001b[A\n",
      "train loss = 0.1247770:  51%|█████     | 4/7.8125 [00:00<00:00,  8.43it/s]\u001b[A\n",
      "train loss = 0.1247770:  64%|██████▍   | 5/7.8125 [00:00<00:00,  8.58it/s]\u001b[A\n",
      "train loss = 0.1189279:  64%|██████▍   | 5/7.8125 [00:00<00:00,  8.58it/s]\u001b[A\n",
      "train loss = 0.1189279:  64%|██████▍   | 5/7.8125 [00:00<00:00,  8.58it/s]\u001b[A\n",
      "train loss = 0.1189279:  77%|███████▋  | 6/7.8125 [00:00<00:00,  8.59it/s]\u001b[A\n",
      "train loss = 0.1091314:  77%|███████▋  | 6/7.8125 [00:00<00:00,  8.59it/s]\u001b[A\n",
      "train loss = 0.1091314:  77%|███████▋  | 6/7.8125 [00:00<00:00,  8.59it/s]\u001b[A\n",
      "train loss = 0.1091314:  90%|████████▉ | 7/7.8125 [00:00<00:00,  8.75it/s]\u001b[A\n",
      "train loss = 0.1262663:  90%|████████▉ | 7/7.8125 [00:00<00:00,  8.75it/s]\u001b[A\n",
      "train loss = 0.1262663:  90%|████████▉ | 7/7.8125 [00:00<00:00,  8.75it/s]\u001b[A\n",
      "train loss = 0.1262663: : 8it [00:00,  9.00it/s]                          \u001b[A\n",
      "  0%|          | 0/7.8125 [00:00<?, ?it/s]\u001b[A\n",
      "train loss = 0.1197411:   0%|          | 0/7.8125 [00:00<?, ?it/s]\u001b[A\n",
      "train loss = 0.1197411:   0%|          | 0/7.8125 [00:00<?, ?it/s]\u001b[A\n",
      "train loss = 0.1197411:  13%|█▎        | 1/7.8125 [00:00<00:00,  7.79it/s]\u001b[A"
     ]
    },
    {
     "name": "stdout",
     "output_type": "stream",
     "text": [
      "Epoch: 12, Training Loss:   0.1355\n"
     ]
    },
    {
     "name": "stderr",
     "output_type": "stream",
     "text": [
      "\n",
      "train loss = 0.0950310:  13%|█▎        | 1/7.8125 [00:00<00:00,  7.79it/s]\u001b[A\n",
      "train loss = 0.0950310:  13%|█▎        | 1/7.8125 [00:00<00:00,  7.79it/s]\u001b[A\n",
      "train loss = 0.0950310:  26%|██▌       | 2/7.8125 [00:00<00:00,  8.02it/s]\u001b[A\n",
      "train loss = 0.1019903:  26%|██▌       | 2/7.8125 [00:00<00:00,  8.02it/s]\u001b[A\n",
      "train loss = 0.1019903:  26%|██▌       | 2/7.8125 [00:00<00:00,  8.02it/s]\u001b[A\n",
      "train loss = 0.1019903:  38%|███▊      | 3/7.8125 [00:00<00:00,  8.24it/s]\u001b[A\n",
      "train loss = 0.1456406:  38%|███▊      | 3/7.8125 [00:00<00:00,  8.24it/s]\u001b[A\n",
      "train loss = 0.1456406:  38%|███▊      | 3/7.8125 [00:00<00:00,  8.24it/s]\u001b[A\n",
      "train loss = 0.1456406:  51%|█████     | 4/7.8125 [00:00<00:00,  8.49it/s]\u001b[A\n",
      "train loss = 0.1648109:  51%|█████     | 4/7.8125 [00:00<00:00,  8.49it/s]\u001b[A\n",
      "train loss = 0.1648109:  51%|█████     | 4/7.8125 [00:00<00:00,  8.49it/s]\u001b[A\n",
      "train loss = 0.1648109:  64%|██████▍   | 5/7.8125 [00:00<00:00,  8.68it/s]\u001b[A\n",
      "train loss = 0.1224464:  64%|██████▍   | 5/7.8125 [00:00<00:00,  8.68it/s]\u001b[A\n",
      "train loss = 0.1224464:  64%|██████▍   | 5/7.8125 [00:00<00:00,  8.68it/s]\u001b[A\n",
      "train loss = 0.1224464:  77%|███████▋  | 6/7.8125 [00:00<00:00,  8.93it/s]\u001b[A\n",
      "train loss = 0.1335095:  77%|███████▋  | 6/7.8125 [00:00<00:00,  8.93it/s]\u001b[A\n",
      "train loss = 0.1335095:  77%|███████▋  | 6/7.8125 [00:00<00:00,  8.93it/s]\u001b[A\n",
      "train loss = 0.1335095:  90%|████████▉ | 7/7.8125 [00:00<00:00,  9.00it/s]\u001b[A\n",
      "train loss = 0.1390817:  90%|████████▉ | 7/7.8125 [00:00<00:00,  9.00it/s]\u001b[A\n",
      "train loss = 0.1390817:  90%|████████▉ | 7/7.8125 [00:00<00:00,  9.00it/s]\u001b[A\n",
      "train loss = 0.1390817: : 8it [00:00,  8.99it/s]                          \u001b[A\n",
      "  0%|          | 0/7.8125 [00:00<?, ?it/s]\u001b[A\n",
      "train loss = 0.1166188:   0%|          | 0/7.8125 [00:00<?, ?it/s]\u001b[A\n",
      "train loss = 0.1166188:   0%|          | 0/7.8125 [00:00<?, ?it/s]\u001b[A\n",
      "train loss = 0.1166188:  13%|█▎        | 1/7.8125 [00:00<00:00,  8.10it/s]\u001b[A"
     ]
    },
    {
     "name": "stdout",
     "output_type": "stream",
     "text": [
      "Epoch: 13, Training Loss:   0.1278\n"
     ]
    },
    {
     "name": "stderr",
     "output_type": "stream",
     "text": [
      "\n",
      "train loss = 0.1190320:  13%|█▎        | 1/7.8125 [00:00<00:00,  8.10it/s]\u001b[A\n",
      "train loss = 0.1190320:  13%|█▎        | 1/7.8125 [00:00<00:00,  8.10it/s]\u001b[A\n",
      "train loss = 0.1190320:  26%|██▌       | 2/7.8125 [00:00<00:00,  8.28it/s]\u001b[A\n",
      "train loss = 0.1502569:  26%|██▌       | 2/7.8125 [00:00<00:00,  8.28it/s]\u001b[A\n",
      "train loss = 0.1502569:  26%|██▌       | 2/7.8125 [00:00<00:00,  8.28it/s]\u001b[A\n",
      "train loss = 0.1502569:  38%|███▊      | 3/7.8125 [00:00<00:00,  8.43it/s]\u001b[A\n",
      "train loss = 0.1719221:  38%|███▊      | 3/7.8125 [00:00<00:00,  8.43it/s]\u001b[A\n",
      "train loss = 0.1719221:  38%|███▊      | 3/7.8125 [00:00<00:00,  8.43it/s]\u001b[A\n",
      "train loss = 0.1719221:  51%|█████     | 4/7.8125 [00:00<00:00,  8.71it/s]\u001b[A\n",
      "train loss = 0.1480476:  51%|█████     | 4/7.8125 [00:00<00:00,  8.71it/s]\u001b[A\n",
      "train loss = 0.1480476:  51%|█████     | 4/7.8125 [00:00<00:00,  8.71it/s]\u001b[A\n",
      "train loss = 0.1480476:  64%|██████▍   | 5/7.8125 [00:00<00:00,  8.72it/s]\u001b[A\n",
      "train loss = 0.0945069:  64%|██████▍   | 5/7.8125 [00:00<00:00,  8.72it/s]\u001b[A\n",
      "train loss = 0.0945069:  64%|██████▍   | 5/7.8125 [00:00<00:00,  8.72it/s]\u001b[A\n",
      "train loss = 0.0945069:  77%|███████▋  | 6/7.8125 [00:00<00:00,  8.69it/s]\u001b[A\n",
      "train loss = 0.1336257:  77%|███████▋  | 6/7.8125 [00:00<00:00,  8.69it/s]\u001b[A\n",
      "train loss = 0.1336257:  77%|███████▋  | 6/7.8125 [00:00<00:00,  8.69it/s]\u001b[A\n",
      "train loss = 0.1336257:  90%|████████▉ | 7/7.8125 [00:00<00:00,  8.78it/s]\u001b[A\n",
      "train loss = 0.1270844:  90%|████████▉ | 7/7.8125 [00:00<00:00,  8.78it/s]\u001b[A\n",
      "train loss = 0.1270844:  90%|████████▉ | 7/7.8125 [00:00<00:00,  8.78it/s]\u001b[A\n",
      "train loss = 0.1270844: : 8it [00:00,  8.91it/s]                          \u001b[A\n",
      "  0%|          | 0/7.8125 [00:00<?, ?it/s]\u001b[A\n",
      "train loss = 0.0993853:   0%|          | 0/7.8125 [00:00<?, ?it/s]\u001b[A\n",
      "train loss = 0.0993853:   0%|          | 0/7.8125 [00:00<?, ?it/s]\u001b[A\n",
      "train loss = 0.0993853:  13%|█▎        | 1/7.8125 [00:00<00:00,  8.06it/s]\u001b[A"
     ]
    },
    {
     "name": "stdout",
     "output_type": "stream",
     "text": [
      "Epoch: 14, Training Loss:   0.1326\n"
     ]
    },
    {
     "name": "stderr",
     "output_type": "stream",
     "text": [
      "\n",
      "train loss = 0.1341481:  13%|█▎        | 1/7.8125 [00:00<00:00,  8.06it/s]\u001b[A\n",
      "train loss = 0.1341481:  13%|█▎        | 1/7.8125 [00:00<00:00,  8.06it/s]\u001b[A\n",
      "train loss = 0.1341481:  26%|██▌       | 2/7.8125 [00:00<00:00,  8.26it/s]\u001b[A\n",
      "train loss = 0.1182647:  26%|██▌       | 2/7.8125 [00:00<00:00,  8.26it/s]\u001b[A\n",
      "train loss = 0.1182647:  26%|██▌       | 2/7.8125 [00:00<00:00,  8.26it/s]\u001b[A\n",
      "train loss = 0.1182647:  38%|███▊      | 3/7.8125 [00:00<00:00,  8.37it/s]\u001b[A\n",
      "train loss = 0.1327326:  38%|███▊      | 3/7.8125 [00:00<00:00,  8.37it/s]\u001b[A\n",
      "train loss = 0.1327326:  38%|███▊      | 3/7.8125 [00:00<00:00,  8.37it/s]\u001b[A\n",
      "train loss = 0.1327326:  51%|█████     | 4/7.8125 [00:00<00:00,  8.65it/s]\u001b[A\n",
      "train loss = 0.1280856:  51%|█████     | 4/7.8125 [00:00<00:00,  8.65it/s]\u001b[A\n",
      "train loss = 0.1280856:  51%|█████     | 4/7.8125 [00:00<00:00,  8.65it/s]\u001b[A\n",
      "train loss = 0.1280856:  64%|██████▍   | 5/7.8125 [00:00<00:00,  8.83it/s]\u001b[A\n",
      "train loss = 0.1088993:  64%|██████▍   | 5/7.8125 [00:00<00:00,  8.83it/s]\u001b[A\n",
      "train loss = 0.1088993:  64%|██████▍   | 5/7.8125 [00:00<00:00,  8.83it/s]\u001b[A\n",
      "train loss = 0.1088993:  77%|███████▋  | 6/7.8125 [00:00<00:00,  9.05it/s]\u001b[A\n",
      "train loss = 0.1169169:  77%|███████▋  | 6/7.8125 [00:00<00:00,  9.05it/s]\u001b[A\n",
      "train loss = 0.1169169:  77%|███████▋  | 6/7.8125 [00:00<00:00,  9.05it/s]\u001b[A\n",
      "train loss = 0.1169169:  90%|████████▉ | 7/7.8125 [00:00<00:00,  9.19it/s]\u001b[A\n",
      "train loss = 0.1221761:  90%|████████▉ | 7/7.8125 [00:00<00:00,  9.19it/s]\u001b[A\n",
      "train loss = 0.1221761:  90%|████████▉ | 7/7.8125 [00:00<00:00,  9.19it/s]\u001b[A\n",
      "train loss = 0.1221761: : 8it [00:00,  9.40it/s]                          \u001b[A\n",
      "  0%|          | 0/7.8125 [00:00<?, ?it/s]\u001b[A\n",
      "train loss = 0.1021835:   0%|          | 0/7.8125 [00:00<?, ?it/s]\u001b[A\n",
      "train loss = 0.1021835:   0%|          | 0/7.8125 [00:00<?, ?it/s]\u001b[A\n",
      "train loss = 0.1021835:  13%|█▎        | 1/7.8125 [00:00<00:00,  7.96it/s]\u001b[A"
     ]
    },
    {
     "name": "stdout",
     "output_type": "stream",
     "text": [
      "Epoch: 15, Training Loss:   0.1201\n"
     ]
    },
    {
     "name": "stderr",
     "output_type": "stream",
     "text": [
      "\n",
      "train loss = 0.1703051:  13%|█▎        | 1/7.8125 [00:00<00:00,  7.96it/s]\u001b[A\n",
      "train loss = 0.1703051:  13%|█▎        | 1/7.8125 [00:00<00:00,  7.96it/s]\u001b[A\n",
      "train loss = 0.1703051:  26%|██▌       | 2/7.8125 [00:00<00:00,  8.40it/s]\u001b[A\n",
      "train loss = 0.1138992:  26%|██▌       | 2/7.8125 [00:00<00:00,  8.40it/s]\u001b[A\n",
      "train loss = 0.1138992:  26%|██▌       | 2/7.8125 [00:00<00:00,  8.40it/s]\u001b[A\n",
      "train loss = 0.1138992:  38%|███▊      | 3/7.8125 [00:00<00:00,  8.67it/s]\u001b[A\n",
      "train loss = 0.1188591:  38%|███▊      | 3/7.8125 [00:00<00:00,  8.67it/s]\u001b[A\n",
      "train loss = 0.1188591:  38%|███▊      | 3/7.8125 [00:00<00:00,  8.67it/s]\u001b[A\n",
      "train loss = 0.1188591:  51%|█████     | 4/7.8125 [00:00<00:00,  8.91it/s]\u001b[A\n",
      "train loss = 0.1133544:  51%|█████     | 4/7.8125 [00:00<00:00,  8.91it/s]\u001b[A\n",
      "train loss = 0.1133544:  51%|█████     | 4/7.8125 [00:00<00:00,  8.91it/s]\u001b[A\n",
      "train loss = 0.1133544:  64%|██████▍   | 5/7.8125 [00:00<00:00,  9.09it/s]\u001b[A\n",
      "train loss = 0.0938741:  64%|██████▍   | 5/7.8125 [00:00<00:00,  9.09it/s]\u001b[A\n",
      "train loss = 0.0938741:  64%|██████▍   | 5/7.8125 [00:00<00:00,  9.09it/s]\u001b[A\n",
      "train loss = 0.0938741:  77%|███████▋  | 6/7.8125 [00:00<00:00,  9.22it/s]\u001b[A\n",
      "train loss = 0.0849946:  77%|███████▋  | 6/7.8125 [00:00<00:00,  9.22it/s]\u001b[A\n",
      "train loss = 0.0849946:  77%|███████▋  | 6/7.8125 [00:00<00:00,  9.22it/s]\u001b[A\n",
      "train loss = 0.0849946:  90%|████████▉ | 7/7.8125 [00:00<00:00,  9.19it/s]\u001b[A\n",
      "train loss = 0.1754128:  90%|████████▉ | 7/7.8125 [00:00<00:00,  9.19it/s]\u001b[A\n",
      "train loss = 0.1754128:  90%|████████▉ | 7/7.8125 [00:00<00:00,  9.19it/s]\u001b[A\n",
      "train loss = 0.1754128: : 8it [00:00,  9.34it/s]                          \u001b[A\n",
      "  0%|          | 0/7.8125 [00:00<?, ?it/s]\u001b[A\n",
      "train loss = 0.1127858:   0%|          | 0/7.8125 [00:00<?, ?it/s]\u001b[A\n",
      "train loss = 0.1127858:   0%|          | 0/7.8125 [00:00<?, ?it/s]\u001b[A\n",
      "train loss = 0.1127858:  13%|█▎        | 1/7.8125 [00:00<00:00,  8.06it/s]\u001b[A"
     ]
    },
    {
     "name": "stdout",
     "output_type": "stream",
     "text": [
      "Epoch: 16, Training Loss:   0.1216\n"
     ]
    },
    {
     "name": "stderr",
     "output_type": "stream",
     "text": [
      "\n",
      "train loss = 0.1384787:  13%|█▎        | 1/7.8125 [00:00<00:00,  8.06it/s]\u001b[A\n",
      "train loss = 0.1384787:  13%|█▎        | 1/7.8125 [00:00<00:00,  8.06it/s]\u001b[A\n",
      "train loss = 0.1384787:  26%|██▌       | 2/7.8125 [00:00<00:00,  8.19it/s]\u001b[A\n",
      "train loss = 0.0900189:  26%|██▌       | 2/7.8125 [00:00<00:00,  8.19it/s]\u001b[A\n",
      "train loss = 0.0900189:  26%|██▌       | 2/7.8125 [00:00<00:00,  8.19it/s]\u001b[A\n",
      "train loss = 0.0900189:  38%|███▊      | 3/7.8125 [00:00<00:00,  8.32it/s]\u001b[A\n",
      "train loss = 0.1056179:  38%|███▊      | 3/7.8125 [00:00<00:00,  8.32it/s]\u001b[A\n",
      "train loss = 0.1056179:  38%|███▊      | 3/7.8125 [00:00<00:00,  8.32it/s]\u001b[A\n",
      "train loss = 0.1056179:  51%|█████     | 4/7.8125 [00:00<00:00,  8.61it/s]\u001b[A\n",
      "train loss = 0.1042206:  51%|█████     | 4/7.8125 [00:00<00:00,  8.61it/s]\u001b[A\n",
      "train loss = 0.1042206:  51%|█████     | 4/7.8125 [00:00<00:00,  8.61it/s]\u001b[A\n",
      "train loss = 0.1042206:  64%|██████▍   | 5/7.8125 [00:00<00:00,  8.84it/s]\u001b[A\n",
      "train loss = 0.0960765:  64%|██████▍   | 5/7.8125 [00:00<00:00,  8.84it/s]\u001b[A\n",
      "train loss = 0.0960765:  64%|██████▍   | 5/7.8125 [00:00<00:00,  8.84it/s]\u001b[A\n",
      "train loss = 0.0960765:  77%|███████▋  | 6/7.8125 [00:00<00:00,  9.01it/s]\u001b[A\n",
      "train loss = 0.0975016:  77%|███████▋  | 6/7.8125 [00:00<00:00,  9.01it/s]\u001b[A\n",
      "train loss = 0.0975016:  77%|███████▋  | 6/7.8125 [00:00<00:00,  9.01it/s]\u001b[A\n",
      "train loss = 0.0975016:  90%|████████▉ | 7/7.8125 [00:00<00:00,  9.23it/s]\u001b[A\n",
      "train loss = 0.1044078:  90%|████████▉ | 7/7.8125 [00:00<00:00,  9.23it/s]\u001b[A\n",
      "train loss = 0.1044078:  90%|████████▉ | 7/7.8125 [00:00<00:00,  9.23it/s]\u001b[A\n",
      "train loss = 0.1044078: : 8it [00:00,  9.44it/s]                          \u001b[A\n",
      "  0%|          | 0/7.8125 [00:00<?, ?it/s]\u001b[A\n",
      "train loss = 0.0860854:   0%|          | 0/7.8125 [00:00<?, ?it/s]\u001b[A\n",
      "train loss = 0.0860854:   0%|          | 0/7.8125 [00:00<?, ?it/s]\u001b[A\n",
      "train loss = 0.0860854:  13%|█▎        | 1/7.8125 [00:00<00:00,  8.04it/s]\u001b[A"
     ]
    },
    {
     "name": "stdout",
     "output_type": "stream",
     "text": [
      "Epoch: 17, Training Loss:   0.1061\n"
     ]
    },
    {
     "name": "stderr",
     "output_type": "stream",
     "text": [
      "\n",
      "train loss = 0.1103828:  13%|█▎        | 1/7.8125 [00:00<00:00,  8.04it/s]\u001b[A\n",
      "train loss = 0.1103828:  13%|█▎        | 1/7.8125 [00:00<00:00,  8.04it/s]\u001b[A\n",
      "train loss = 0.1103828:  26%|██▌       | 2/7.8125 [00:00<00:00,  8.25it/s]\u001b[A\n",
      "train loss = 0.0941902:  26%|██▌       | 2/7.8125 [00:00<00:00,  8.25it/s]\u001b[A\n",
      "train loss = 0.0941902:  26%|██▌       | 2/7.8125 [00:00<00:00,  8.25it/s]\u001b[A\n",
      "train loss = 0.0941902:  38%|███▊      | 3/7.8125 [00:00<00:00,  8.49it/s]\u001b[A\n",
      "train loss = 0.0747463:  38%|███▊      | 3/7.8125 [00:00<00:00,  8.49it/s]\u001b[A\n",
      "train loss = 0.0747463:  38%|███▊      | 3/7.8125 [00:00<00:00,  8.49it/s]\u001b[A\n",
      "train loss = 0.0747463:  51%|█████     | 4/7.8125 [00:00<00:00,  8.67it/s]\u001b[A\n",
      "train loss = 0.0911851:  51%|█████     | 4/7.8125 [00:00<00:00,  8.67it/s]\u001b[A\n",
      "train loss = 0.0911851:  51%|█████     | 4/7.8125 [00:00<00:00,  8.67it/s]\u001b[A\n",
      "train loss = 0.0911851:  64%|██████▍   | 5/7.8125 [00:00<00:00,  8.79it/s]\u001b[A\n",
      "train loss = 0.0952291:  64%|██████▍   | 5/7.8125 [00:00<00:00,  8.79it/s]\u001b[A\n",
      "train loss = 0.0952291:  64%|██████▍   | 5/7.8125 [00:00<00:00,  8.79it/s]\u001b[A\n",
      "train loss = 0.0952291:  77%|███████▋  | 6/7.8125 [00:00<00:00,  8.95it/s]\u001b[A\n",
      "train loss = 0.1004825:  77%|███████▋  | 6/7.8125 [00:00<00:00,  8.95it/s]\u001b[A\n",
      "train loss = 0.1004825:  77%|███████▋  | 6/7.8125 [00:00<00:00,  8.95it/s]\u001b[A\n",
      "train loss = 0.1004825:  90%|████████▉ | 7/7.8125 [00:00<00:00,  9.06it/s]\u001b[A\n",
      "train loss = 0.1396046:  90%|████████▉ | 7/7.8125 [00:00<00:00,  9.06it/s]\u001b[A\n",
      "train loss = 0.1396046:  90%|████████▉ | 7/7.8125 [00:00<00:00,  9.06it/s]\u001b[A\n",
      "train loss = 0.1396046: : 8it [00:00,  9.09it/s]                          \u001b[A\n",
      "  0%|          | 0/7.8125 [00:00<?, ?it/s]\u001b[A\n",
      "train loss = 0.0752232:   0%|          | 0/7.8125 [00:00<?, ?it/s]\u001b[A\n",
      "train loss = 0.0752232:   0%|          | 0/7.8125 [00:00<?, ?it/s]\u001b[A\n",
      "train loss = 0.0752232:  13%|█▎        | 1/7.8125 [00:00<00:00,  8.33it/s]\u001b[A"
     ]
    },
    {
     "name": "stdout",
     "output_type": "stream",
     "text": [
      "Epoch: 18, Training Loss:   0.0990\n"
     ]
    },
    {
     "name": "stderr",
     "output_type": "stream",
     "text": [
      "\n",
      "train loss = 0.1191765:  13%|█▎        | 1/7.8125 [00:00<00:00,  8.33it/s]\u001b[A\n",
      "train loss = 0.1191765:  13%|█▎        | 1/7.8125 [00:00<00:00,  8.33it/s]\u001b[A\n",
      "train loss = 0.1191765:  26%|██▌       | 2/7.8125 [00:00<00:00,  8.64it/s]\u001b[A\n",
      "train loss = 0.1319329:  26%|██▌       | 2/7.8125 [00:00<00:00,  8.64it/s]\u001b[A\n",
      "train loss = 0.1319329:  26%|██▌       | 2/7.8125 [00:00<00:00,  8.64it/s]\u001b[A\n",
      "train loss = 0.1319329:  38%|███▊      | 3/7.8125 [00:00<00:00,  8.87it/s]\u001b[A\n",
      "train loss = 0.0967640:  38%|███▊      | 3/7.8125 [00:00<00:00,  8.87it/s]\u001b[A\n",
      "train loss = 0.0967640:  38%|███▊      | 3/7.8125 [00:00<00:00,  8.87it/s]\u001b[A\n",
      "train loss = 0.0967640:  51%|█████     | 4/7.8125 [00:00<00:00,  9.05it/s]\u001b[A\n",
      "train loss = 0.1217029:  51%|█████     | 4/7.8125 [00:00<00:00,  9.05it/s]\u001b[A\n",
      "train loss = 0.1217029:  51%|█████     | 4/7.8125 [00:00<00:00,  9.05it/s]\u001b[A\n",
      "train loss = 0.1217029:  64%|██████▍   | 5/7.8125 [00:00<00:00,  8.94it/s]\u001b[A\n",
      "train loss = 0.0729977:  64%|██████▍   | 5/7.8125 [00:00<00:00,  8.94it/s]\u001b[A\n",
      "train loss = 0.0729977:  64%|██████▍   | 5/7.8125 [00:00<00:00,  8.94it/s]\u001b[A\n",
      "train loss = 0.0729977:  77%|███████▋  | 6/7.8125 [00:00<00:00,  8.91it/s]\u001b[A\n",
      "train loss = 0.0796661:  77%|███████▋  | 6/7.8125 [00:00<00:00,  8.91it/s]\u001b[A\n",
      "train loss = 0.0796661:  77%|███████▋  | 6/7.8125 [00:00<00:00,  8.91it/s]\u001b[A\n",
      "train loss = 0.0796661:  90%|████████▉ | 7/7.8125 [00:00<00:00,  8.83it/s]\u001b[A\n",
      "train loss = 0.0846051:  90%|████████▉ | 7/7.8125 [00:00<00:00,  8.83it/s]\u001b[A\n",
      "train loss = 0.0846051:  90%|████████▉ | 7/7.8125 [00:00<00:00,  8.83it/s]\u001b[A\n",
      "train loss = 0.0846051: : 8it [00:00,  9.14it/s]                          \u001b[A\n",
      "  0%|          | 0/7.8125 [00:00<?, ?it/s]\u001b[A\n",
      "train loss = 0.0712050:   0%|          | 0/7.8125 [00:00<?, ?it/s]\u001b[A\n",
      "train loss = 0.0712050:   0%|          | 0/7.8125 [00:00<?, ?it/s]\u001b[A\n",
      "train loss = 0.0712050:  13%|█▎        | 1/7.8125 [00:00<00:00,  7.22it/s]\u001b[A"
     ]
    },
    {
     "name": "stdout",
     "output_type": "stream",
     "text": [
      "Epoch: 19, Training Loss:   0.0978\n"
     ]
    },
    {
     "name": "stderr",
     "output_type": "stream",
     "text": [
      "\n",
      "train loss = 0.1100537:  13%|█▎        | 1/7.8125 [00:00<00:00,  7.22it/s]\u001b[A\n",
      "train loss = 0.1100537:  13%|█▎        | 1/7.8125 [00:00<00:00,  7.22it/s]\u001b[A\n",
      "train loss = 0.1100537:  26%|██▌       | 2/7.8125 [00:00<00:00,  7.72it/s]\u001b[A\n",
      "train loss = 0.1236992:  26%|██▌       | 2/7.8125 [00:00<00:00,  7.72it/s]\u001b[A\n",
      "train loss = 0.1236992:  26%|██▌       | 2/7.8125 [00:00<00:00,  7.72it/s]\u001b[A\n",
      "train loss = 0.1236992:  38%|███▊      | 3/7.8125 [00:00<00:00,  8.13it/s]\u001b[A\n",
      "train loss = 0.0825272:  38%|███▊      | 3/7.8125 [00:00<00:00,  8.13it/s]\u001b[A\n",
      "train loss = 0.0825272:  38%|███▊      | 3/7.8125 [00:00<00:00,  8.13it/s]\u001b[A\n",
      "train loss = 0.0825272:  51%|█████     | 4/7.8125 [00:00<00:00,  8.44it/s]\u001b[A\n",
      "train loss = 0.0813271:  51%|█████     | 4/7.8125 [00:00<00:00,  8.44it/s]\u001b[A\n",
      "train loss = 0.0813271:  51%|█████     | 4/7.8125 [00:00<00:00,  8.44it/s]\u001b[A\n",
      "train loss = 0.0813271:  64%|██████▍   | 5/7.8125 [00:00<00:00,  8.66it/s]\u001b[A\n",
      "train loss = 0.1076382:  64%|██████▍   | 5/7.8125 [00:00<00:00,  8.66it/s]\u001b[A\n",
      "train loss = 0.1076382:  64%|██████▍   | 5/7.8125 [00:00<00:00,  8.66it/s]\u001b[A\n",
      "train loss = 0.1076382:  77%|███████▋  | 6/7.8125 [00:00<00:00,  8.81it/s]\u001b[A\n",
      "train loss = 0.1009833:  77%|███████▋  | 6/7.8125 [00:00<00:00,  8.81it/s]\u001b[A\n",
      "train loss = 0.1009833:  77%|███████▋  | 6/7.8125 [00:00<00:00,  8.81it/s]\u001b[A\n",
      "train loss = 0.1009833:  90%|████████▉ | 7/7.8125 [00:00<00:00,  8.82it/s]\u001b[A\n",
      "train loss = 0.0710651:  90%|████████▉ | 7/7.8125 [00:00<00:00,  8.82it/s]\u001b[A\n",
      "train loss = 0.0710651:  90%|████████▉ | 7/7.8125 [00:00<00:00,  8.82it/s]\u001b[A\n",
      "train loss = 0.0710651: : 8it [00:00,  9.06it/s]                          \u001b[A\n",
      "  0%|          | 0/7.8125 [00:00<?, ?it/s]\u001b[A\n",
      "train loss = 0.0934552:   0%|          | 0/7.8125 [00:00<?, ?it/s]\u001b[A\n",
      "train loss = 0.0934552:   0%|          | 0/7.8125 [00:00<?, ?it/s]\u001b[A\n",
      "train loss = 0.0934552:  13%|█▎        | 1/7.8125 [00:00<00:00,  8.17it/s]\u001b[A"
     ]
    },
    {
     "name": "stdout",
     "output_type": "stream",
     "text": [
      "Epoch: 20, Training Loss:   0.0936\n"
     ]
    },
    {
     "name": "stderr",
     "output_type": "stream",
     "text": [
      "\n",
      "train loss = 0.1171279:  13%|█▎        | 1/7.8125 [00:00<00:00,  8.17it/s]\u001b[A\n",
      "train loss = 0.1171279:  13%|█▎        | 1/7.8125 [00:00<00:00,  8.17it/s]\u001b[A\n",
      "train loss = 0.1171279:  26%|██▌       | 2/7.8125 [00:00<00:00,  8.53it/s]\u001b[A\n",
      "train loss = 0.0912531:  26%|██▌       | 2/7.8125 [00:00<00:00,  8.53it/s]\u001b[A\n",
      "train loss = 0.0912531:  26%|██▌       | 2/7.8125 [00:00<00:00,  8.53it/s]\u001b[A\n",
      "train loss = 0.0912531:  38%|███▊      | 3/7.8125 [00:00<00:00,  8.87it/s]\u001b[A\n",
      "train loss = 0.1110960:  38%|███▊      | 3/7.8125 [00:00<00:00,  8.87it/s]\u001b[A\n",
      "train loss = 0.1110960:  38%|███▊      | 3/7.8125 [00:00<00:00,  8.87it/s]\u001b[A\n",
      "train loss = 0.1110960:  51%|█████     | 4/7.8125 [00:00<00:00,  9.06it/s]\u001b[A\n",
      "train loss = 0.0960880:  51%|█████     | 4/7.8125 [00:00<00:00,  9.06it/s]\u001b[A\n",
      "train loss = 0.0960880:  51%|█████     | 4/7.8125 [00:00<00:00,  9.06it/s]\u001b[A\n",
      "train loss = 0.0960880:  64%|██████▍   | 5/7.8125 [00:00<00:00,  9.14it/s]\u001b[A\n",
      "train loss = 0.0919913:  64%|██████▍   | 5/7.8125 [00:00<00:00,  9.14it/s]\u001b[A\n",
      "train loss = 0.0919913:  64%|██████▍   | 5/7.8125 [00:00<00:00,  9.14it/s]\u001b[A\n",
      "train loss = 0.0919913:  77%|███████▋  | 6/7.8125 [00:00<00:00,  9.38it/s]\u001b[A\n",
      "train loss = 0.1228075:  77%|███████▋  | 6/7.8125 [00:00<00:00,  9.38it/s]\u001b[A\n",
      "train loss = 0.1228075:  77%|███████▋  | 6/7.8125 [00:00<00:00,  9.38it/s]\u001b[A\n",
      "train loss = 0.1228075:  90%|████████▉ | 7/7.8125 [00:00<00:00,  9.08it/s]\u001b[A\n",
      "train loss = 0.0922580:  90%|████████▉ | 7/7.8125 [00:00<00:00,  9.08it/s]\u001b[A\n",
      "train loss = 0.0922580:  90%|████████▉ | 7/7.8125 [00:00<00:00,  9.08it/s]\u001b[A\n",
      "train loss = 0.0922580: : 8it [00:00,  9.33it/s]                          \u001b[A\n",
      "  0%|          | 0/7.8125 [00:00<?, ?it/s]\u001b[A\n",
      "train loss = 0.1304592:   0%|          | 0/7.8125 [00:00<?, ?it/s]\u001b[A\n",
      "train loss = 0.1304592:   0%|          | 0/7.8125 [00:00<?, ?it/s]\u001b[A\n",
      "train loss = 0.1304592:  13%|█▎        | 1/7.8125 [00:00<00:00,  8.53it/s]\u001b[A"
     ]
    },
    {
     "name": "stdout",
     "output_type": "stream",
     "text": [
      "Epoch: 21, Training Loss:   0.1020\n"
     ]
    },
    {
     "name": "stderr",
     "output_type": "stream",
     "text": [
      "\n",
      "train loss = 0.0737134:  13%|█▎        | 1/7.8125 [00:00<00:00,  8.53it/s]\u001b[A\n",
      "train loss = 0.0737134:  13%|█▎        | 1/7.8125 [00:00<00:00,  8.53it/s]\u001b[A\n",
      "train loss = 0.0737134:  26%|██▌       | 2/7.8125 [00:00<00:00,  8.74it/s]\u001b[A\n",
      "train loss = 0.1016926:  26%|██▌       | 2/7.8125 [00:00<00:00,  8.74it/s]\u001b[A\n",
      "train loss = 0.1016926:  26%|██▌       | 2/7.8125 [00:00<00:00,  8.74it/s]\u001b[A\n",
      "train loss = 0.1016926:  38%|███▊      | 3/7.8125 [00:00<00:00,  8.92it/s]\u001b[A\n",
      "train loss = 0.1482556:  38%|███▊      | 3/7.8125 [00:00<00:00,  8.92it/s]\u001b[A\n",
      "train loss = 0.1482556:  38%|███▊      | 3/7.8125 [00:00<00:00,  8.92it/s]\u001b[A\n",
      "train loss = 0.1482556:  51%|█████     | 4/7.8125 [00:00<00:00,  9.03it/s]\u001b[A\n",
      "train loss = 0.0625546:  51%|█████     | 4/7.8125 [00:00<00:00,  9.03it/s]\u001b[A\n",
      "train loss = 0.0625546:  51%|█████     | 4/7.8125 [00:00<00:00,  9.03it/s]\u001b[A\n",
      "train loss = 0.0625546:  64%|██████▍   | 5/7.8125 [00:00<00:00,  9.10it/s]\u001b[A\n",
      "train loss = 0.0968546:  64%|██████▍   | 5/7.8125 [00:00<00:00,  9.10it/s]\u001b[A\n",
      "train loss = 0.0968546:  64%|██████▍   | 5/7.8125 [00:00<00:00,  9.10it/s]\u001b[A\n",
      "train loss = 0.0968546:  77%|███████▋  | 6/7.8125 [00:00<00:00,  9.09it/s]\u001b[A\n",
      "train loss = 0.0946948:  77%|███████▋  | 6/7.8125 [00:00<00:00,  9.09it/s]\u001b[A\n",
      "train loss = 0.0946948:  77%|███████▋  | 6/7.8125 [00:00<00:00,  9.09it/s]\u001b[A\n",
      "train loss = 0.0946948:  90%|████████▉ | 7/7.8125 [00:00<00:00,  9.18it/s]\u001b[A\n",
      "train loss = 0.1116709:  90%|████████▉ | 7/7.8125 [00:00<00:00,  9.18it/s]\u001b[A\n",
      "train loss = 0.1116709:  90%|████████▉ | 7/7.8125 [00:00<00:00,  9.18it/s]\u001b[A\n",
      "train loss = 0.1116709: : 8it [00:00,  9.21it/s]                          \u001b[A\n",
      "  0%|          | 0/7.8125 [00:00<?, ?it/s]\u001b[A\n",
      "train loss = 0.1007697:   0%|          | 0/7.8125 [00:00<?, ?it/s]\u001b[A\n",
      "train loss = 0.1007697:   0%|          | 0/7.8125 [00:00<?, ?it/s]\u001b[A\n",
      "train loss = 0.1007697:  13%|█▎        | 1/7.8125 [00:00<00:00,  7.99it/s]\u001b[A"
     ]
    },
    {
     "name": "stdout",
     "output_type": "stream",
     "text": [
      "Epoch: 22, Training Loss:   0.1025\n"
     ]
    },
    {
     "name": "stderr",
     "output_type": "stream",
     "text": [
      "\n",
      "train loss = 0.0525216:  13%|█▎        | 1/7.8125 [00:00<00:00,  7.99it/s]\u001b[A\n",
      "train loss = 0.0525216:  13%|█▎        | 1/7.8125 [00:00<00:00,  7.99it/s]\u001b[A\n",
      "train loss = 0.0525216:  26%|██▌       | 2/7.8125 [00:00<00:00,  8.41it/s]\u001b[A\n",
      "train loss = 0.1710123:  26%|██▌       | 2/7.8125 [00:00<00:00,  8.41it/s]\u001b[A\n",
      "train loss = 0.1710123:  26%|██▌       | 2/7.8125 [00:00<00:00,  8.41it/s]\u001b[A\n",
      "train loss = 0.1710123:  38%|███▊      | 3/7.8125 [00:00<00:00,  8.58it/s]\u001b[A\n",
      "train loss = 0.1020277:  38%|███▊      | 3/7.8125 [00:00<00:00,  8.58it/s]\u001b[A\n",
      "train loss = 0.1020277:  38%|███▊      | 3/7.8125 [00:00<00:00,  8.58it/s]\u001b[A\n",
      "train loss = 0.1020277:  51%|█████     | 4/7.8125 [00:00<00:00,  8.80it/s]\u001b[A\n",
      "train loss = 0.0832661:  51%|█████     | 4/7.8125 [00:00<00:00,  8.80it/s]\u001b[A\n",
      "train loss = 0.0832661:  51%|█████     | 4/7.8125 [00:00<00:00,  8.80it/s]\u001b[A\n",
      "train loss = 0.0832661:  64%|██████▍   | 5/7.8125 [00:00<00:00,  8.91it/s]\u001b[A\n",
      "train loss = 0.0756523:  64%|██████▍   | 5/7.8125 [00:00<00:00,  8.91it/s]\u001b[A\n",
      "train loss = 0.0756523:  64%|██████▍   | 5/7.8125 [00:00<00:00,  8.91it/s]\u001b[A\n",
      "train loss = 0.0756523:  77%|███████▋  | 6/7.8125 [00:00<00:00,  8.78it/s]\u001b[A\n",
      "train loss = 0.0716303:  77%|███████▋  | 6/7.8125 [00:00<00:00,  8.78it/s]\u001b[A\n",
      "train loss = 0.0716303:  77%|███████▋  | 6/7.8125 [00:00<00:00,  8.78it/s]\u001b[A\n",
      "train loss = 0.0716303:  90%|████████▉ | 7/7.8125 [00:00<00:00,  8.87it/s]\u001b[A\n",
      "train loss = 0.0896923:  90%|████████▉ | 7/7.8125 [00:00<00:00,  8.87it/s]\u001b[A\n",
      "train loss = 0.0896923:  90%|████████▉ | 7/7.8125 [00:00<00:00,  8.87it/s]\u001b[A\n",
      "train loss = 0.0896923: : 8it [00:00,  9.07it/s]                          \u001b[A\n",
      "  0%|          | 0/7.8125 [00:00<?, ?it/s]\u001b[A\n",
      "train loss = 0.0861085:   0%|          | 0/7.8125 [00:00<?, ?it/s]\u001b[A\n",
      "train loss = 0.0861085:   0%|          | 0/7.8125 [00:00<?, ?it/s]\u001b[A\n",
      "train loss = 0.0861085:  13%|█▎        | 1/7.8125 [00:00<00:00,  7.38it/s]\u001b[A"
     ]
    },
    {
     "name": "stdout",
     "output_type": "stream",
     "text": [
      "Epoch: 23, Training Loss:   0.0933\n"
     ]
    },
    {
     "name": "stderr",
     "output_type": "stream",
     "text": [
      "\n",
      "train loss = 0.0813877:  13%|█▎        | 1/7.8125 [00:00<00:00,  7.38it/s]\u001b[A\n",
      "train loss = 0.0813877:  13%|█▎        | 1/7.8125 [00:00<00:00,  7.38it/s]\u001b[A\n",
      "train loss = 0.0813877:  26%|██▌       | 2/7.8125 [00:00<00:00,  7.77it/s]\u001b[A\n",
      "train loss = 0.1255197:  26%|██▌       | 2/7.8125 [00:00<00:00,  7.77it/s]\u001b[A\n",
      "train loss = 0.1255197:  26%|██▌       | 2/7.8125 [00:00<00:00,  7.77it/s]\u001b[A\n",
      "train loss = 0.1255197:  38%|███▊      | 3/7.8125 [00:00<00:00,  8.20it/s]\u001b[A\n",
      "train loss = 0.0687709:  38%|███▊      | 3/7.8125 [00:00<00:00,  8.20it/s]\u001b[A\n",
      "train loss = 0.0687709:  38%|███▊      | 3/7.8125 [00:00<00:00,  8.20it/s]\u001b[A\n",
      "train loss = 0.0687709:  51%|█████     | 4/7.8125 [00:00<00:00,  8.46it/s]\u001b[A\n",
      "train loss = 0.0787559:  51%|█████     | 4/7.8125 [00:00<00:00,  8.46it/s]\u001b[A\n",
      "train loss = 0.0787559:  51%|█████     | 4/7.8125 [00:00<00:00,  8.46it/s]\u001b[A\n",
      "train loss = 0.0787559:  64%|██████▍   | 5/7.8125 [00:00<00:00,  8.65it/s]\u001b[A\n",
      "train loss = 0.1054573:  64%|██████▍   | 5/7.8125 [00:00<00:00,  8.65it/s]\u001b[A\n",
      "train loss = 0.1054573:  64%|██████▍   | 5/7.8125 [00:00<00:00,  8.65it/s]\u001b[A\n",
      "train loss = 0.1054573:  77%|███████▋  | 6/7.8125 [00:00<00:00,  8.93it/s]\u001b[A\n",
      "train loss = 0.1114175:  77%|███████▋  | 6/7.8125 [00:00<00:00,  8.93it/s]\u001b[A\n",
      "train loss = 0.1114175:  77%|███████▋  | 6/7.8125 [00:00<00:00,  8.93it/s]\u001b[A\n",
      "train loss = 0.1114175:  90%|████████▉ | 7/7.8125 [00:00<00:00,  9.06it/s]\u001b[A\n",
      "train loss = 0.0981870:  90%|████████▉ | 7/7.8125 [00:00<00:00,  9.06it/s]\u001b[A\n",
      "train loss = 0.0981870:  90%|████████▉ | 7/7.8125 [00:00<00:00,  9.06it/s]\u001b[A\n",
      "train loss = 0.0981870: : 8it [00:00,  9.08it/s]                          \u001b[A\n",
      "  0%|          | 0/7.8125 [00:00<?, ?it/s]\u001b[A\n",
      "train loss = 0.0990743:   0%|          | 0/7.8125 [00:00<?, ?it/s]\u001b[A\n",
      "train loss = 0.0990743:   0%|          | 0/7.8125 [00:00<?, ?it/s]\u001b[A\n",
      "train loss = 0.0990743:  13%|█▎        | 1/7.8125 [00:00<00:00,  8.37it/s]\u001b[A"
     ]
    },
    {
     "name": "stdout",
     "output_type": "stream",
     "text": [
      "Epoch: 24, Training Loss:   0.0945\n"
     ]
    },
    {
     "name": "stderr",
     "output_type": "stream",
     "text": [
      "\n",
      "train loss = 0.1001483:  13%|█▎        | 1/7.8125 [00:00<00:00,  8.37it/s]\u001b[A\n",
      "train loss = 0.1001483:  13%|█▎        | 1/7.8125 [00:00<00:00,  8.37it/s]\u001b[A\n",
      "train loss = 0.1001483:  26%|██▌       | 2/7.8125 [00:00<00:00,  8.20it/s]\u001b[A\n",
      "train loss = 0.0875834:  26%|██▌       | 2/7.8125 [00:00<00:00,  8.20it/s]\u001b[A\n",
      "train loss = 0.0875834:  26%|██▌       | 2/7.8125 [00:00<00:00,  8.20it/s]\u001b[A\n",
      "train loss = 0.0875834:  38%|███▊      | 3/7.8125 [00:00<00:00,  8.32it/s]\u001b[A\n",
      "train loss = 0.0726132:  38%|███▊      | 3/7.8125 [00:00<00:00,  8.32it/s]\u001b[A\n",
      "train loss = 0.0726132:  38%|███▊      | 3/7.8125 [00:00<00:00,  8.32it/s]\u001b[A\n",
      "train loss = 0.0726132:  51%|█████     | 4/7.8125 [00:00<00:00,  8.49it/s]\u001b[A\n",
      "train loss = 0.0683674:  51%|█████     | 4/7.8125 [00:00<00:00,  8.49it/s]\u001b[A\n",
      "train loss = 0.0683674:  51%|█████     | 4/7.8125 [00:00<00:00,  8.49it/s]\u001b[A\n",
      "train loss = 0.0683674:  64%|██████▍   | 5/7.8125 [00:00<00:00,  8.53it/s]\u001b[A\n",
      "train loss = 0.0515738:  64%|██████▍   | 5/7.8125 [00:00<00:00,  8.53it/s]\u001b[A\n",
      "train loss = 0.0515738:  64%|██████▍   | 5/7.8125 [00:00<00:00,  8.53it/s]\u001b[A\n",
      "train loss = 0.0515738:  77%|███████▋  | 6/7.8125 [00:00<00:00,  8.68it/s]\u001b[A\n",
      "train loss = 0.0803729:  77%|███████▋  | 6/7.8125 [00:00<00:00,  8.68it/s]\u001b[A\n",
      "train loss = 0.0803729:  77%|███████▋  | 6/7.8125 [00:00<00:00,  8.68it/s]\u001b[A\n",
      "train loss = 0.0803729:  90%|████████▉ | 7/7.8125 [00:00<00:00,  8.84it/s]\u001b[A\n",
      "train loss = 0.1046651:  90%|████████▉ | 7/7.8125 [00:00<00:00,  8.84it/s]\u001b[A\n",
      "train loss = 0.1046651:  90%|████████▉ | 7/7.8125 [00:00<00:00,  8.84it/s]\u001b[A\n",
      "train loss = 0.1046651: : 8it [00:00,  8.82it/s]                          \u001b[A\n",
      "  0%|          | 0/7.8125 [00:00<?, ?it/s]\u001b[A\n",
      "train loss = 0.0665353:   0%|          | 0/7.8125 [00:00<?, ?it/s]\u001b[A\n",
      "train loss = 0.0665353:   0%|          | 0/7.8125 [00:00<?, ?it/s]\u001b[A\n",
      "train loss = 0.0665353:  13%|█▎        | 1/7.8125 [00:00<00:00,  7.16it/s]\u001b[A"
     ]
    },
    {
     "name": "stdout",
     "output_type": "stream",
     "text": [
      "Epoch: 25, Training Loss:   0.0830\n"
     ]
    },
    {
     "name": "stderr",
     "output_type": "stream",
     "text": [
      "\n",
      "train loss = 0.0780062:  13%|█▎        | 1/7.8125 [00:00<00:00,  7.16it/s]\u001b[A\n",
      "train loss = 0.0780062:  13%|█▎        | 1/7.8125 [00:00<00:00,  7.16it/s]\u001b[A\n",
      "train loss = 0.0780062:  26%|██▌       | 2/7.8125 [00:00<00:00,  7.65it/s]\u001b[A\n",
      "train loss = 0.0917886:  26%|██▌       | 2/7.8125 [00:00<00:00,  7.65it/s]\u001b[A\n",
      "train loss = 0.0917886:  26%|██▌       | 2/7.8125 [00:00<00:00,  7.65it/s]\u001b[A\n",
      "train loss = 0.0917886:  38%|███▊      | 3/7.8125 [00:00<00:00,  8.07it/s]\u001b[A\n",
      "train loss = 0.0685968:  38%|███▊      | 3/7.8125 [00:00<00:00,  8.07it/s]\u001b[A\n",
      "train loss = 0.0685968:  38%|███▊      | 3/7.8125 [00:00<00:00,  8.07it/s]\u001b[A\n",
      "train loss = 0.0685968:  51%|█████     | 4/7.8125 [00:00<00:00,  8.35it/s]\u001b[A\n",
      "train loss = 0.0934838:  51%|█████     | 4/7.8125 [00:00<00:00,  8.35it/s]\u001b[A\n",
      "train loss = 0.0934838:  51%|█████     | 4/7.8125 [00:00<00:00,  8.35it/s]\u001b[A\n",
      "train loss = 0.0934838:  64%|██████▍   | 5/7.8125 [00:00<00:00,  8.46it/s]\u001b[A\n",
      "train loss = 0.0863185:  64%|██████▍   | 5/7.8125 [00:00<00:00,  8.46it/s]\u001b[A\n",
      "train loss = 0.0863185:  64%|██████▍   | 5/7.8125 [00:00<00:00,  8.46it/s]\u001b[A\n",
      "train loss = 0.0863185:  77%|███████▋  | 6/7.8125 [00:00<00:00,  8.64it/s]\u001b[A\n",
      "train loss = 0.0675003:  77%|███████▋  | 6/7.8125 [00:00<00:00,  8.64it/s]\u001b[A\n",
      "train loss = 0.0675003:  77%|███████▋  | 6/7.8125 [00:00<00:00,  8.64it/s]\u001b[A\n",
      "train loss = 0.0675003:  90%|████████▉ | 7/7.8125 [00:00<00:00,  8.74it/s]\u001b[A\n",
      "train loss = 0.0615094:  90%|████████▉ | 7/7.8125 [00:00<00:00,  8.74it/s]\u001b[A\n",
      "train loss = 0.0615094:  90%|████████▉ | 7/7.8125 [00:00<00:00,  8.74it/s]\u001b[A\n",
      "train loss = 0.0615094: : 8it [00:00,  8.99it/s]                          \u001b[A\n",
      "  0%|          | 0/7.8125 [00:00<?, ?it/s]\u001b[A\n",
      "train loss = 0.1395773:   0%|          | 0/7.8125 [00:00<?, ?it/s]\u001b[A\n",
      "train loss = 0.1395773:   0%|          | 0/7.8125 [00:00<?, ?it/s]\u001b[A\n",
      "train loss = 0.1395773:  13%|█▎        | 1/7.8125 [00:00<00:00,  8.02it/s]\u001b[A"
     ]
    },
    {
     "name": "stdout",
     "output_type": "stream",
     "text": [
      "Epoch: 26, Training Loss:   0.0767\n"
     ]
    },
    {
     "name": "stderr",
     "output_type": "stream",
     "text": [
      "\n",
      "train loss = 0.0617898:  13%|█▎        | 1/7.8125 [00:00<00:00,  8.02it/s]\u001b[A\n",
      "train loss = 0.0617898:  13%|█▎        | 1/7.8125 [00:00<00:00,  8.02it/s]\u001b[A\n",
      "train loss = 0.0617898:  26%|██▌       | 2/7.8125 [00:00<00:00,  8.32it/s]\u001b[A\n",
      "train loss = 0.0753173:  26%|██▌       | 2/7.8125 [00:00<00:00,  8.32it/s]\u001b[A\n",
      "train loss = 0.0753173:  26%|██▌       | 2/7.8125 [00:00<00:00,  8.32it/s]\u001b[A\n",
      "train loss = 0.0753173:  38%|███▊      | 3/7.8125 [00:00<00:00,  8.62it/s]\u001b[A\n",
      "train loss = 0.0617038:  38%|███▊      | 3/7.8125 [00:00<00:00,  8.62it/s]\u001b[A\n",
      "train loss = 0.0617038:  38%|███▊      | 3/7.8125 [00:00<00:00,  8.62it/s]\u001b[A\n",
      "train loss = 0.0617038:  51%|█████     | 4/7.8125 [00:00<00:00,  8.81it/s]\u001b[A\n",
      "train loss = 0.0743326:  51%|█████     | 4/7.8125 [00:00<00:00,  8.81it/s]\u001b[A\n",
      "train loss = 0.0743326:  51%|█████     | 4/7.8125 [00:00<00:00,  8.81it/s]\u001b[A\n",
      "train loss = 0.0743326:  64%|██████▍   | 5/7.8125 [00:00<00:00,  8.83it/s]\u001b[A\n",
      "train loss = 0.0859547:  64%|██████▍   | 5/7.8125 [00:00<00:00,  8.83it/s]\u001b[A\n",
      "train loss = 0.0859547:  64%|██████▍   | 5/7.8125 [00:00<00:00,  8.83it/s]\u001b[A\n",
      "train loss = 0.0859547:  77%|███████▋  | 6/7.8125 [00:00<00:00,  8.98it/s]\u001b[A\n",
      "train loss = 0.0557593:  77%|███████▋  | 6/7.8125 [00:00<00:00,  8.98it/s]\u001b[A\n",
      "train loss = 0.0557593:  77%|███████▋  | 6/7.8125 [00:00<00:00,  8.98it/s]\u001b[A\n",
      "train loss = 0.0557593:  90%|████████▉ | 7/7.8125 [00:00<00:00,  8.97it/s]\u001b[A\n",
      "train loss = 0.0794231:  90%|████████▉ | 7/7.8125 [00:00<00:00,  8.97it/s]\u001b[A\n",
      "train loss = 0.0794231:  90%|████████▉ | 7/7.8125 [00:00<00:00,  8.97it/s]\u001b[A\n",
      "train loss = 0.0794231: : 8it [00:00,  9.09it/s]                          \u001b[A\n",
      "  0%|          | 0/7.8125 [00:00<?, ?it/s]\u001b[A\n",
      "train loss = 0.0936219:   0%|          | 0/7.8125 [00:00<?, ?it/s]\u001b[A\n",
      "train loss = 0.0936219:   0%|          | 0/7.8125 [00:00<?, ?it/s]\u001b[A\n",
      "train loss = 0.0936219:  13%|█▎        | 1/7.8125 [00:00<00:00,  8.09it/s]\u001b[A"
     ]
    },
    {
     "name": "stdout",
     "output_type": "stream",
     "text": [
      "Epoch: 27, Training Loss:   0.0792\n"
     ]
    },
    {
     "name": "stderr",
     "output_type": "stream",
     "text": [
      "\n",
      "train loss = 0.0590314:  13%|█▎        | 1/7.8125 [00:00<00:00,  8.09it/s]\u001b[A\n",
      "train loss = 0.0590314:  13%|█▎        | 1/7.8125 [00:00<00:00,  8.09it/s]\u001b[A\n",
      "train loss = 0.0590314:  26%|██▌       | 2/7.8125 [00:00<00:00,  8.30it/s]\u001b[A\n",
      "train loss = 0.0779663:  26%|██▌       | 2/7.8125 [00:00<00:00,  8.30it/s]\u001b[A\n",
      "train loss = 0.0779663:  26%|██▌       | 2/7.8125 [00:00<00:00,  8.30it/s]\u001b[A\n",
      "train loss = 0.0779663:  38%|███▊      | 3/7.8125 [00:00<00:00,  8.57it/s]\u001b[A\n",
      "train loss = 0.0724147:  38%|███▊      | 3/7.8125 [00:00<00:00,  8.57it/s]\u001b[A\n",
      "train loss = 0.0724147:  38%|███▊      | 3/7.8125 [00:00<00:00,  8.57it/s]\u001b[A\n",
      "train loss = 0.0724147:  51%|█████     | 4/7.8125 [00:00<00:00,  8.78it/s]\u001b[A\n",
      "train loss = 0.0804570:  51%|█████     | 4/7.8125 [00:00<00:00,  8.78it/s]\u001b[A\n",
      "train loss = 0.0804570:  51%|█████     | 4/7.8125 [00:00<00:00,  8.78it/s]\u001b[A\n",
      "train loss = 0.0804570:  64%|██████▍   | 5/7.8125 [00:00<00:00,  8.87it/s]\u001b[A\n",
      "train loss = 0.0883396:  64%|██████▍   | 5/7.8125 [00:00<00:00,  8.87it/s]\u001b[A\n",
      "train loss = 0.0883396:  64%|██████▍   | 5/7.8125 [00:00<00:00,  8.87it/s]\u001b[A\n",
      "train loss = 0.0883396:  77%|███████▋  | 6/7.8125 [00:00<00:00,  8.93it/s]\u001b[A\n",
      "train loss = 0.0793302:  77%|███████▋  | 6/7.8125 [00:00<00:00,  8.93it/s]\u001b[A\n",
      "train loss = 0.0793302:  77%|███████▋  | 6/7.8125 [00:00<00:00,  8.93it/s]\u001b[A\n",
      "train loss = 0.0793302:  90%|████████▉ | 7/7.8125 [00:00<00:00,  9.06it/s]\u001b[A\n",
      "train loss = 0.0846179:  90%|████████▉ | 7/7.8125 [00:00<00:00,  9.06it/s]\u001b[A\n",
      "train loss = 0.0846179:  90%|████████▉ | 7/7.8125 [00:00<00:00,  9.06it/s]\u001b[A\n",
      "train loss = 0.0846179: : 8it [00:00,  9.23it/s]                          \u001b[A\n",
      "  0%|          | 0/7.8125 [00:00<?, ?it/s]\u001b[A\n",
      "train loss = 0.0858510:   0%|          | 0/7.8125 [00:00<?, ?it/s]\u001b[A\n",
      "train loss = 0.0858510:   0%|          | 0/7.8125 [00:00<?, ?it/s]\u001b[A\n",
      "train loss = 0.0858510:  13%|█▎        | 1/7.8125 [00:00<00:00,  8.12it/s]\u001b[A"
     ]
    },
    {
     "name": "stdout",
     "output_type": "stream",
     "text": [
      "Epoch: 28, Training Loss:   0.0795\n"
     ]
    },
    {
     "name": "stderr",
     "output_type": "stream",
     "text": [
      "\n",
      "train loss = 0.0873540:  13%|█▎        | 1/7.8125 [00:00<00:00,  8.12it/s]\u001b[A\n",
      "train loss = 0.0873540:  13%|█▎        | 1/7.8125 [00:00<00:00,  8.12it/s]\u001b[A\n",
      "train loss = 0.0873540:  26%|██▌       | 2/7.8125 [00:00<00:00,  8.46it/s]\u001b[A\n",
      "train loss = 0.1075063:  26%|██▌       | 2/7.8125 [00:00<00:00,  8.46it/s]\u001b[A\n",
      "train loss = 0.1075063:  26%|██▌       | 2/7.8125 [00:00<00:00,  8.46it/s]\u001b[A\n",
      "train loss = 0.1075063:  38%|███▊      | 3/7.8125 [00:00<00:00,  8.57it/s]\u001b[A\n",
      "train loss = 0.0699111:  38%|███▊      | 3/7.8125 [00:00<00:00,  8.57it/s]\u001b[A\n",
      "train loss = 0.0699111:  38%|███▊      | 3/7.8125 [00:00<00:00,  8.57it/s]\u001b[A\n",
      "train loss = 0.0699111:  51%|█████     | 4/7.8125 [00:00<00:00,  8.83it/s]\u001b[A\n",
      "train loss = 0.0732936:  51%|█████     | 4/7.8125 [00:00<00:00,  8.83it/s]\u001b[A\n",
      "train loss = 0.0732936:  51%|█████     | 4/7.8125 [00:00<00:00,  8.83it/s]\u001b[A\n",
      "train loss = 0.0732936:  64%|██████▍   | 5/7.8125 [00:00<00:00,  9.07it/s]\u001b[A\n",
      "train loss = 0.0854839:  64%|██████▍   | 5/7.8125 [00:00<00:00,  9.07it/s]\u001b[A\n",
      "train loss = 0.0854839:  64%|██████▍   | 5/7.8125 [00:00<00:00,  9.07it/s]\u001b[A\n",
      "train loss = 0.0854839:  77%|███████▋  | 6/7.8125 [00:00<00:00,  8.96it/s]\u001b[A\n",
      "train loss = 0.0819986:  77%|███████▋  | 6/7.8125 [00:00<00:00,  8.96it/s]\u001b[A\n",
      "train loss = 0.0819986:  77%|███████▋  | 6/7.8125 [00:00<00:00,  8.96it/s]\u001b[A\n",
      "train loss = 0.0819986:  90%|████████▉ | 7/7.8125 [00:00<00:00,  8.72it/s]\u001b[A\n",
      "train loss = 0.0748683:  90%|████████▉ | 7/7.8125 [00:00<00:00,  8.72it/s]\u001b[A\n",
      "train loss = 0.0748683:  90%|████████▉ | 7/7.8125 [00:00<00:00,  8.72it/s]\u001b[A\n",
      "train loss = 0.0748683: : 8it [00:00,  9.05it/s]                          \u001b[A\n",
      "  0%|          | 0/7.8125 [00:00<?, ?it/s]\u001b[A\n",
      "train loss = 0.0852250:   0%|          | 0/7.8125 [00:00<?, ?it/s]\u001b[A\n",
      "train loss = 0.0852250:   0%|          | 0/7.8125 [00:00<?, ?it/s]\u001b[A\n",
      "train loss = 0.0852250:  13%|█▎        | 1/7.8125 [00:00<00:00,  8.75it/s]\u001b[A"
     ]
    },
    {
     "name": "stdout",
     "output_type": "stream",
     "text": [
      "Epoch: 29, Training Loss:   0.0833\n"
     ]
    },
    {
     "name": "stderr",
     "output_type": "stream",
     "text": [
      "\n",
      "train loss = 0.0754241:  13%|█▎        | 1/7.8125 [00:00<00:00,  8.75it/s]\u001b[A\n",
      "train loss = 0.0754241:  13%|█▎        | 1/7.8125 [00:00<00:00,  8.75it/s]\u001b[A\n",
      "train loss = 0.0754241:  26%|██▌       | 2/7.8125 [00:00<00:00,  8.90it/s]\u001b[A\n",
      "train loss = 0.0722677:  26%|██▌       | 2/7.8125 [00:00<00:00,  8.90it/s]\u001b[A\n",
      "train loss = 0.0722677:  26%|██▌       | 2/7.8125 [00:00<00:00,  8.90it/s]\u001b[A\n",
      "train loss = 0.0722677:  38%|███▊      | 3/7.8125 [00:00<00:00,  9.16it/s]\u001b[A\n",
      "train loss = 0.1159050:  38%|███▊      | 3/7.8125 [00:00<00:00,  9.16it/s]\u001b[A\n",
      "train loss = 0.1159050:  38%|███▊      | 3/7.8125 [00:00<00:00,  9.16it/s]\u001b[A\n",
      "train loss = 0.0610848:  38%|███▊      | 3/7.8125 [00:00<00:00,  9.16it/s]\u001b[A\n",
      "train loss = 0.0610848:  38%|███▊      | 3/7.8125 [00:00<00:00,  9.16it/s]\u001b[A\n",
      "train loss = 0.0610848:  64%|██████▍   | 5/7.8125 [00:00<00:00,  9.33it/s]\u001b[A\n",
      "train loss = 0.0741080:  64%|██████▍   | 5/7.8125 [00:00<00:00,  9.33it/s]\u001b[A\n",
      "train loss = 0.0741080:  64%|██████▍   | 5/7.8125 [00:00<00:00,  9.33it/s]\u001b[A\n",
      "train loss = 0.0741080:  77%|███████▋  | 6/7.8125 [00:00<00:00,  9.21it/s]\u001b[A\n",
      "train loss = 0.0771283:  77%|███████▋  | 6/7.8125 [00:00<00:00,  9.21it/s]\u001b[A\n",
      "train loss = 0.0771283:  77%|███████▋  | 6/7.8125 [00:00<00:00,  9.21it/s]\u001b[A\n",
      "train loss = 0.0771283:  90%|████████▉ | 7/7.8125 [00:00<00:00,  9.07it/s]\u001b[A\n",
      "train loss = 0.0636602:  90%|████████▉ | 7/7.8125 [00:00<00:00,  9.07it/s]\u001b[A\n",
      "train loss = 0.0636602:  90%|████████▉ | 7/7.8125 [00:00<00:00,  9.07it/s]\u001b[A\n",
      "train loss = 0.0636602: : 8it [00:00,  9.42it/s]                          \u001b[A\n",
      "  0%|          | 0/7.8125 [00:00<?, ?it/s]\u001b[A\n",
      "train loss = 0.0675850:   0%|          | 0/7.8125 [00:00<?, ?it/s]\u001b[A\n",
      "train loss = 0.0675850:   0%|          | 0/7.8125 [00:00<?, ?it/s]\u001b[A\n",
      "train loss = 0.0675850:  13%|█▎        | 1/7.8125 [00:00<00:00,  8.05it/s]\u001b[A"
     ]
    },
    {
     "name": "stdout",
     "output_type": "stream",
     "text": [
      "Epoch: 30, Training Loss:   0.0781\n"
     ]
    },
    {
     "name": "stderr",
     "output_type": "stream",
     "text": [
      "\n",
      "train loss = 0.0568324:  13%|█▎        | 1/7.8125 [00:00<00:00,  8.05it/s]\u001b[A\n",
      "train loss = 0.0568324:  13%|█▎        | 1/7.8125 [00:00<00:00,  8.05it/s]\u001b[A\n",
      "train loss = 0.0568324:  26%|██▌       | 2/7.8125 [00:00<00:00,  8.23it/s]\u001b[A\n",
      "train loss = 0.0817980:  26%|██▌       | 2/7.8125 [00:00<00:00,  8.23it/s]\u001b[A\n",
      "train loss = 0.0817980:  26%|██▌       | 2/7.8125 [00:00<00:00,  8.23it/s]\u001b[A\n",
      "train loss = 0.0817980:  38%|███▊      | 3/7.8125 [00:00<00:00,  8.56it/s]\u001b[A\n",
      "train loss = 0.0846560:  38%|███▊      | 3/7.8125 [00:00<00:00,  8.56it/s]\u001b[A\n",
      "train loss = 0.0846560:  38%|███▊      | 3/7.8125 [00:00<00:00,  8.56it/s]\u001b[A\n",
      "train loss = 0.0846560:  51%|█████     | 4/7.8125 [00:00<00:00,  8.82it/s]\u001b[A\n",
      "train loss = 0.0723236:  51%|█████     | 4/7.8125 [00:00<00:00,  8.82it/s]\u001b[A\n",
      "train loss = 0.0723236:  51%|█████     | 4/7.8125 [00:00<00:00,  8.82it/s]\u001b[A\n",
      "train loss = 0.0723236:  64%|██████▍   | 5/7.8125 [00:00<00:00,  8.85it/s]\u001b[A\n",
      "train loss = 0.0535744:  64%|██████▍   | 5/7.8125 [00:00<00:00,  8.85it/s]\u001b[A\n",
      "train loss = 0.0535744:  64%|██████▍   | 5/7.8125 [00:00<00:00,  8.85it/s]\u001b[A\n",
      "train loss = 0.0535744:  77%|███████▋  | 6/7.8125 [00:00<00:00,  8.77it/s]\u001b[A\n",
      "train loss = 0.0671075:  77%|███████▋  | 6/7.8125 [00:00<00:00,  8.77it/s]\u001b[A\n",
      "train loss = 0.0671075:  77%|███████▋  | 6/7.8125 [00:00<00:00,  8.77it/s]\u001b[A\n",
      "train loss = 0.0671075:  90%|████████▉ | 7/7.8125 [00:00<00:00,  8.91it/s]\u001b[A\n",
      "train loss = 0.0987590:  90%|████████▉ | 7/7.8125 [00:00<00:00,  8.91it/s]\u001b[A\n",
      "train loss = 0.0987590:  90%|████████▉ | 7/7.8125 [00:00<00:00,  8.91it/s]\u001b[A\n",
      "train loss = 0.0987590: : 8it [00:00,  9.02it/s]                          \u001b[A\n",
      "  0%|          | 0/7.8125 [00:00<?, ?it/s]\u001b[A\n",
      "train loss = 0.0501992:   0%|          | 0/7.8125 [00:00<?, ?it/s]\u001b[A\n",
      "train loss = 0.0501992:   0%|          | 0/7.8125 [00:00<?, ?it/s]\u001b[A\n",
      "train loss = 0.0501992:  13%|█▎        | 1/7.8125 [00:00<00:00,  7.75it/s]\u001b[A"
     ]
    },
    {
     "name": "stdout",
     "output_type": "stream",
     "text": [
      "Epoch: 31, Training Loss:   0.0728\n"
     ]
    },
    {
     "name": "stderr",
     "output_type": "stream",
     "text": [
      "\n",
      "train loss = 0.0627618:  13%|█▎        | 1/7.8125 [00:00<00:00,  7.75it/s]\u001b[A\n",
      "train loss = 0.0627618:  13%|█▎        | 1/7.8125 [00:00<00:00,  7.75it/s]\u001b[A\n",
      "train loss = 0.0627618:  26%|██▌       | 2/7.8125 [00:00<00:00,  8.05it/s]\u001b[A\n",
      "train loss = 0.0600206:  26%|██▌       | 2/7.8125 [00:00<00:00,  8.05it/s]\u001b[A\n",
      "train loss = 0.0600206:  26%|██▌       | 2/7.8125 [00:00<00:00,  8.05it/s]\u001b[A\n",
      "train loss = 0.0600206:  38%|███▊      | 3/7.8125 [00:00<00:00,  8.39it/s]\u001b[A\n",
      "train loss = 0.0703490:  38%|███▊      | 3/7.8125 [00:00<00:00,  8.39it/s]\u001b[A\n",
      "train loss = 0.0703490:  38%|███▊      | 3/7.8125 [00:00<00:00,  8.39it/s]\u001b[A\n",
      "train loss = 0.0703490:  51%|█████     | 4/7.8125 [00:00<00:00,  8.61it/s]\u001b[A\n",
      "train loss = 0.0704853:  51%|█████     | 4/7.8125 [00:00<00:00,  8.61it/s]\u001b[A\n",
      "train loss = 0.0704853:  51%|█████     | 4/7.8125 [00:00<00:00,  8.61it/s]\u001b[A\n",
      "train loss = 0.0704853:  64%|██████▍   | 5/7.8125 [00:00<00:00,  8.71it/s]\u001b[A\n",
      "train loss = 0.0657441:  64%|██████▍   | 5/7.8125 [00:00<00:00,  8.71it/s]\u001b[A\n",
      "train loss = 0.0657441:  64%|██████▍   | 5/7.8125 [00:00<00:00,  8.71it/s]\u001b[A\n",
      "train loss = 0.0657441:  77%|███████▋  | 6/7.8125 [00:00<00:00,  8.48it/s]\u001b[A\n",
      "train loss = 0.0633337:  77%|███████▋  | 6/7.8125 [00:00<00:00,  8.48it/s]\u001b[A\n",
      "train loss = 0.0633337:  77%|███████▋  | 6/7.8125 [00:00<00:00,  8.48it/s]\u001b[A\n",
      "train loss = 0.0633337:  90%|████████▉ | 7/7.8125 [00:00<00:00,  8.47it/s]\u001b[A\n",
      "train loss = 0.0826576:  90%|████████▉ | 7/7.8125 [00:00<00:00,  8.47it/s]\u001b[A\n",
      "train loss = 0.0826576:  90%|████████▉ | 7/7.8125 [00:00<00:00,  8.47it/s]\u001b[A\n",
      "train loss = 0.0826576: : 8it [00:00,  8.77it/s]                          \u001b[A\n",
      "  0%|          | 0/7.8125 [00:00<?, ?it/s]\u001b[A\n",
      "train loss = 0.1096040:   0%|          | 0/7.8125 [00:00<?, ?it/s]\u001b[A\n",
      "train loss = 0.1096040:   0%|          | 0/7.8125 [00:00<?, ?it/s]\u001b[A\n",
      "train loss = 0.1096040:  13%|█▎        | 1/7.8125 [00:00<00:00,  8.11it/s]\u001b[A"
     ]
    },
    {
     "name": "stdout",
     "output_type": "stream",
     "text": [
      "Epoch: 32, Training Loss:   0.0657\n"
     ]
    },
    {
     "name": "stderr",
     "output_type": "stream",
     "text": [
      "\n",
      "train loss = 0.0581628:  13%|█▎        | 1/7.8125 [00:00<00:00,  8.11it/s]\u001b[A\n",
      "train loss = 0.0581628:  13%|█▎        | 1/7.8125 [00:00<00:00,  8.11it/s]\u001b[A\n",
      "train loss = 0.0581628:  26%|██▌       | 2/7.8125 [00:00<00:00,  8.12it/s]\u001b[A\n",
      "train loss = 0.0540641:  26%|██▌       | 2/7.8125 [00:00<00:00,  8.12it/s]\u001b[A\n",
      "train loss = 0.0540641:  26%|██▌       | 2/7.8125 [00:00<00:00,  8.12it/s]\u001b[A\n",
      "train loss = 0.0540641:  38%|███▊      | 3/7.8125 [00:00<00:00,  8.41it/s]\u001b[A\n",
      "train loss = 0.0522071:  38%|███▊      | 3/7.8125 [00:00<00:00,  8.41it/s]\u001b[A\n",
      "train loss = 0.0522071:  38%|███▊      | 3/7.8125 [00:00<00:00,  8.41it/s]\u001b[A\n",
      "train loss = 0.0522071:  51%|█████     | 4/7.8125 [00:00<00:00,  8.73it/s]\u001b[A\n",
      "train loss = 0.0841580:  51%|█████     | 4/7.8125 [00:00<00:00,  8.73it/s]\u001b[A\n",
      "train loss = 0.0841580:  51%|█████     | 4/7.8125 [00:00<00:00,  8.73it/s]\u001b[A\n",
      "train loss = 0.0841580:  64%|██████▍   | 5/7.8125 [00:00<00:00,  8.83it/s]\u001b[A\n",
      "train loss = 0.0521882:  64%|██████▍   | 5/7.8125 [00:00<00:00,  8.83it/s]\u001b[A\n",
      "train loss = 0.0521882:  64%|██████▍   | 5/7.8125 [00:00<00:00,  8.83it/s]\u001b[A\n",
      "train loss = 0.0521882:  77%|███████▋  | 6/7.8125 [00:00<00:00,  8.83it/s]\u001b[A\n",
      "train loss = 0.0609684:  77%|███████▋  | 6/7.8125 [00:00<00:00,  8.83it/s]\u001b[A\n",
      "train loss = 0.0609684:  77%|███████▋  | 6/7.8125 [00:00<00:00,  8.83it/s]\u001b[A\n",
      "train loss = 0.0609684:  90%|████████▉ | 7/7.8125 [00:00<00:00,  8.85it/s]\u001b[A\n",
      "train loss = 0.0787834:  90%|████████▉ | 7/7.8125 [00:00<00:00,  8.85it/s]\u001b[A\n",
      "train loss = 0.0787834:  90%|████████▉ | 7/7.8125 [00:00<00:00,  8.85it/s]\u001b[A\n",
      "train loss = 0.0787834: : 8it [00:00,  8.94it/s]                          \u001b[A\n",
      "  0%|          | 0/7.8125 [00:00<?, ?it/s]\u001b[A\n",
      "train loss = 0.0482011:   0%|          | 0/7.8125 [00:00<?, ?it/s]\u001b[A\n",
      "train loss = 0.0482011:   0%|          | 0/7.8125 [00:00<?, ?it/s]\u001b[A\n",
      "train loss = 0.0482011:  13%|█▎        | 1/7.8125 [00:00<00:00,  8.31it/s]\u001b[A"
     ]
    },
    {
     "name": "stdout",
     "output_type": "stream",
     "text": [
      "Epoch: 33, Training Loss:   0.0688\n"
     ]
    },
    {
     "name": "stderr",
     "output_type": "stream",
     "text": [
      "\n",
      "train loss = 0.0758421:  13%|█▎        | 1/7.8125 [00:00<00:00,  8.31it/s]\u001b[A\n",
      "train loss = 0.0758421:  13%|█▎        | 1/7.8125 [00:00<00:00,  8.31it/s]\u001b[A\n",
      "train loss = 0.0758421:  26%|██▌       | 2/7.8125 [00:00<00:00,  8.61it/s]\u001b[A\n",
      "train loss = 0.0587611:  26%|██▌       | 2/7.8125 [00:00<00:00,  8.61it/s]\u001b[A\n",
      "train loss = 0.0587611:  26%|██▌       | 2/7.8125 [00:00<00:00,  8.61it/s]\u001b[A\n",
      "train loss = 0.0587611:  38%|███▊      | 3/7.8125 [00:00<00:00,  8.64it/s]\u001b[A\n",
      "train loss = 0.0665099:  38%|███▊      | 3/7.8125 [00:00<00:00,  8.64it/s]\u001b[A\n",
      "train loss = 0.0665099:  38%|███▊      | 3/7.8125 [00:00<00:00,  8.64it/s]\u001b[A\n",
      "train loss = 0.0665099:  51%|█████     | 4/7.8125 [00:00<00:00,  8.95it/s]\u001b[A\n",
      "train loss = 0.0528517:  51%|█████     | 4/7.8125 [00:00<00:00,  8.95it/s]\u001b[A\n",
      "train loss = 0.0528517:  51%|█████     | 4/7.8125 [00:00<00:00,  8.95it/s]\u001b[A\n",
      "train loss = 0.0528517:  64%|██████▍   | 5/7.8125 [00:00<00:00,  8.97it/s]\u001b[A\n",
      "train loss = 0.0555474:  64%|██████▍   | 5/7.8125 [00:00<00:00,  8.97it/s]\u001b[A\n",
      "train loss = 0.0555474:  64%|██████▍   | 5/7.8125 [00:00<00:00,  8.97it/s]\u001b[A\n",
      "train loss = 0.0555474:  77%|███████▋  | 6/7.8125 [00:00<00:00,  9.09it/s]\u001b[A\n",
      "train loss = 0.0683100:  77%|███████▋  | 6/7.8125 [00:00<00:00,  9.09it/s]\u001b[A\n",
      "train loss = 0.0683100:  77%|███████▋  | 6/7.8125 [00:00<00:00,  9.09it/s]\u001b[A\n",
      "train loss = 0.0683100:  90%|████████▉ | 7/7.8125 [00:00<00:00,  9.02it/s]\u001b[A\n",
      "train loss = 0.0757029:  90%|████████▉ | 7/7.8125 [00:00<00:00,  9.02it/s]\u001b[A\n",
      "train loss = 0.0757029:  90%|████████▉ | 7/7.8125 [00:00<00:00,  9.02it/s]\u001b[A\n",
      "train loss = 0.0757029: : 8it [00:00,  9.16it/s]                          \u001b[A\n",
      "  0%|          | 0/7.8125 [00:00<?, ?it/s]\u001b[A\n",
      "train loss = 0.0728007:   0%|          | 0/7.8125 [00:00<?, ?it/s]\u001b[A\n",
      "train loss = 0.0728007:   0%|          | 0/7.8125 [00:00<?, ?it/s]\u001b[A\n",
      "train loss = 0.0728007:  13%|█▎        | 1/7.8125 [00:00<00:00,  7.98it/s]\u001b[A"
     ]
    },
    {
     "name": "stdout",
     "output_type": "stream",
     "text": [
      "Epoch: 34, Training Loss:   0.0627\n"
     ]
    },
    {
     "name": "stderr",
     "output_type": "stream",
     "text": [
      "\n",
      "train loss = 0.0605321:  13%|█▎        | 1/7.8125 [00:00<00:00,  7.98it/s]\u001b[A\n",
      "train loss = 0.0605321:  13%|█▎        | 1/7.8125 [00:00<00:00,  7.98it/s]\u001b[A\n",
      "train loss = 0.0605321:  26%|██▌       | 2/7.8125 [00:00<00:00,  8.35it/s]\u001b[A\n",
      "train loss = 0.0486498:  26%|██▌       | 2/7.8125 [00:00<00:00,  8.35it/s]\u001b[A\n",
      "train loss = 0.0486498:  26%|██▌       | 2/7.8125 [00:00<00:00,  8.35it/s]\u001b[A\n",
      "train loss = 0.0486498:  38%|███▊      | 3/7.8125 [00:00<00:00,  8.58it/s]\u001b[A\n",
      "train loss = 0.0404537:  38%|███▊      | 3/7.8125 [00:00<00:00,  8.58it/s]\u001b[A\n",
      "train loss = 0.0404537:  38%|███▊      | 3/7.8125 [00:00<00:00,  8.58it/s]\u001b[A\n",
      "train loss = 0.0404537:  51%|█████     | 4/7.8125 [00:00<00:00,  8.37it/s]\u001b[A\n",
      "train loss = 0.0837953:  51%|█████     | 4/7.8125 [00:00<00:00,  8.37it/s]\u001b[A\n",
      "train loss = 0.0837953:  51%|█████     | 4/7.8125 [00:00<00:00,  8.37it/s]\u001b[A\n",
      "train loss = 0.0837953:  64%|██████▍   | 5/7.8125 [00:00<00:00,  8.65it/s]\u001b[A\n",
      "train loss = 0.0700567:  64%|██████▍   | 5/7.8125 [00:00<00:00,  8.65it/s]\u001b[A\n",
      "train loss = 0.0700567:  64%|██████▍   | 5/7.8125 [00:00<00:00,  8.65it/s]\u001b[A\n",
      "train loss = 0.0700567:  77%|███████▋  | 6/7.8125 [00:00<00:00,  8.88it/s]\u001b[A\n",
      "train loss = 0.0730490:  77%|███████▋  | 6/7.8125 [00:00<00:00,  8.88it/s]\u001b[A\n",
      "train loss = 0.0730490:  77%|███████▋  | 6/7.8125 [00:00<00:00,  8.88it/s]\u001b[A\n",
      "train loss = 0.0730490:  90%|████████▉ | 7/7.8125 [00:00<00:00,  8.76it/s]\u001b[A\n",
      "train loss = 0.0561471:  90%|████████▉ | 7/7.8125 [00:00<00:00,  8.76it/s]\u001b[A\n",
      "train loss = 0.0561471:  90%|████████▉ | 7/7.8125 [00:00<00:00,  8.76it/s]\u001b[A\n",
      "train loss = 0.0561471: : 8it [00:00,  9.05it/s]                          \u001b[A\n",
      "  0%|          | 0/7.8125 [00:00<?, ?it/s]\u001b[A\n",
      "train loss = 0.0548135:   0%|          | 0/7.8125 [00:00<?, ?it/s]\u001b[A\n",
      "train loss = 0.0548135:   0%|          | 0/7.8125 [00:00<?, ?it/s]\u001b[A\n",
      "train loss = 0.0548135:  13%|█▎        | 1/7.8125 [00:00<00:00,  7.96it/s]\u001b[A"
     ]
    },
    {
     "name": "stdout",
     "output_type": "stream",
     "text": [
      "Epoch: 35, Training Loss:   0.0632\n"
     ]
    },
    {
     "name": "stderr",
     "output_type": "stream",
     "text": [
      "\n",
      "train loss = 0.0715950:  13%|█▎        | 1/7.8125 [00:00<00:00,  7.96it/s]\u001b[A\n",
      "train loss = 0.0715950:  13%|█▎        | 1/7.8125 [00:00<00:00,  7.96it/s]\u001b[A\n",
      "train loss = 0.0715950:  26%|██▌       | 2/7.8125 [00:00<00:00,  8.31it/s]\u001b[A\n",
      "train loss = 0.0660852:  26%|██▌       | 2/7.8125 [00:00<00:00,  8.31it/s]\u001b[A\n",
      "train loss = 0.0660852:  26%|██▌       | 2/7.8125 [00:00<00:00,  8.31it/s]\u001b[A\n",
      "train loss = 0.0660852:  38%|███▊      | 3/7.8125 [00:00<00:00,  8.44it/s]\u001b[A\n",
      "train loss = 0.0560726:  38%|███▊      | 3/7.8125 [00:00<00:00,  8.44it/s]\u001b[A\n",
      "train loss = 0.0560726:  38%|███▊      | 3/7.8125 [00:00<00:00,  8.44it/s]\u001b[A\n",
      "train loss = 0.0560726:  51%|█████     | 4/7.8125 [00:00<00:00,  8.53it/s]\u001b[A\n",
      "train loss = 0.0586265:  51%|█████     | 4/7.8125 [00:00<00:00,  8.53it/s]\u001b[A\n",
      "train loss = 0.0586265:  51%|█████     | 4/7.8125 [00:00<00:00,  8.53it/s]\u001b[A\n",
      "train loss = 0.0586265:  64%|██████▍   | 5/7.8125 [00:00<00:00,  8.45it/s]\u001b[A\n",
      "train loss = 0.0520812:  64%|██████▍   | 5/7.8125 [00:00<00:00,  8.45it/s]\u001b[A\n",
      "train loss = 0.0520812:  64%|██████▍   | 5/7.8125 [00:00<00:00,  8.45it/s]\u001b[A\n",
      "train loss = 0.0520812:  77%|███████▋  | 6/7.8125 [00:00<00:00,  8.56it/s]\u001b[A\n",
      "train loss = 0.0678681:  77%|███████▋  | 6/7.8125 [00:00<00:00,  8.56it/s]\u001b[A\n",
      "train loss = 0.0678681:  77%|███████▋  | 6/7.8125 [00:00<00:00,  8.56it/s]\u001b[A\n",
      "train loss = 0.0678681:  90%|████████▉ | 7/7.8125 [00:00<00:00,  8.65it/s]\u001b[A\n",
      "train loss = 0.0491333:  90%|████████▉ | 7/7.8125 [00:00<00:00,  8.65it/s]\u001b[A\n",
      "train loss = 0.0491333:  90%|████████▉ | 7/7.8125 [00:00<00:00,  8.65it/s]\u001b[A\n",
      "train loss = 0.0491333: : 8it [00:00,  9.00it/s]                          \u001b[A\n",
      "  0%|          | 0/7.8125 [00:00<?, ?it/s]\u001b[A\n",
      "train loss = 0.0494948:   0%|          | 0/7.8125 [00:00<?, ?it/s]\u001b[A\n",
      "train loss = 0.0494948:   0%|          | 0/7.8125 [00:00<?, ?it/s]\u001b[A\n",
      "train loss = 0.0494948:  13%|█▎        | 1/7.8125 [00:00<00:00,  8.10it/s]\u001b[A"
     ]
    },
    {
     "name": "stdout",
     "output_type": "stream",
     "text": [
      "Epoch: 36, Training Loss:   0.0595\n"
     ]
    },
    {
     "name": "stderr",
     "output_type": "stream",
     "text": [
      "\n",
      "train loss = 0.0669746:  13%|█▎        | 1/7.8125 [00:00<00:00,  8.10it/s]\u001b[A\n",
      "train loss = 0.0669746:  13%|█▎        | 1/7.8125 [00:00<00:00,  8.10it/s]\u001b[A\n",
      "train loss = 0.0669746:  26%|██▌       | 2/7.8125 [00:00<00:00,  8.39it/s]\u001b[A\n",
      "train loss = 0.0548659:  26%|██▌       | 2/7.8125 [00:00<00:00,  8.39it/s]\u001b[A\n",
      "train loss = 0.0548659:  26%|██▌       | 2/7.8125 [00:00<00:00,  8.39it/s]\u001b[A\n",
      "train loss = 0.0548659:  38%|███▊      | 3/7.8125 [00:00<00:00,  8.54it/s]\u001b[A\n",
      "train loss = 0.0574743:  38%|███▊      | 3/7.8125 [00:00<00:00,  8.54it/s]\u001b[A\n",
      "train loss = 0.0574743:  38%|███▊      | 3/7.8125 [00:00<00:00,  8.54it/s]\u001b[A\n",
      "train loss = 0.0574743:  51%|█████     | 4/7.8125 [00:00<00:00,  8.58it/s]\u001b[A\n",
      "train loss = 0.0624096:  51%|█████     | 4/7.8125 [00:00<00:00,  8.58it/s]\u001b[A\n",
      "train loss = 0.0624096:  51%|█████     | 4/7.8125 [00:00<00:00,  8.58it/s]\u001b[A\n",
      "train loss = 0.0624096:  64%|██████▍   | 5/7.8125 [00:00<00:00,  8.60it/s]\u001b[A\n",
      "train loss = 0.0426232:  64%|██████▍   | 5/7.8125 [00:00<00:00,  8.60it/s]\u001b[A\n",
      "train loss = 0.0426232:  64%|██████▍   | 5/7.8125 [00:00<00:00,  8.60it/s]\u001b[A\n",
      "train loss = 0.0426232:  77%|███████▋  | 6/7.8125 [00:00<00:00,  8.78it/s]\u001b[A\n",
      "train loss = 0.0456877:  77%|███████▋  | 6/7.8125 [00:00<00:00,  8.78it/s]\u001b[A\n",
      "train loss = 0.0456877:  77%|███████▋  | 6/7.8125 [00:00<00:00,  8.78it/s]\u001b[A\n",
      "train loss = 0.0456877:  90%|████████▉ | 7/7.8125 [00:00<00:00,  8.86it/s]\u001b[A\n",
      "train loss = 0.0966982:  90%|████████▉ | 7/7.8125 [00:00<00:00,  8.86it/s]\u001b[A\n",
      "train loss = 0.0966982:  90%|████████▉ | 7/7.8125 [00:00<00:00,  8.86it/s]\u001b[A\n",
      "train loss = 0.0966982: : 8it [00:00,  9.11it/s]                          \u001b[A\n",
      "  0%|          | 0/7.8125 [00:00<?, ?it/s]\u001b[A\n",
      "train loss = 0.0647477:   0%|          | 0/7.8125 [00:00<?, ?it/s]\u001b[A\n",
      "train loss = 0.0647477:   0%|          | 0/7.8125 [00:00<?, ?it/s]\u001b[A\n",
      "train loss = 0.0647477:  13%|█▎        | 1/7.8125 [00:00<00:00,  7.58it/s]\u001b[A"
     ]
    },
    {
     "name": "stdout",
     "output_type": "stream",
     "text": [
      "Epoch: 37, Training Loss:   0.0595\n"
     ]
    },
    {
     "name": "stderr",
     "output_type": "stream",
     "text": [
      "\n",
      "train loss = 0.0463673:  13%|█▎        | 1/7.8125 [00:00<00:00,  7.58it/s]\u001b[A\n",
      "train loss = 0.0463673:  13%|█▎        | 1/7.8125 [00:00<00:00,  7.58it/s]\u001b[A\n",
      "train loss = 0.0463673:  26%|██▌       | 2/7.8125 [00:00<00:00,  7.82it/s]\u001b[A\n",
      "train loss = 0.0628623:  26%|██▌       | 2/7.8125 [00:00<00:00,  7.82it/s]\u001b[A\n",
      "train loss = 0.0628623:  26%|██▌       | 2/7.8125 [00:00<00:00,  7.82it/s]\u001b[A\n",
      "train loss = 0.0628623:  38%|███▊      | 3/7.8125 [00:00<00:00,  8.14it/s]\u001b[A\n",
      "train loss = 0.0524866:  38%|███▊      | 3/7.8125 [00:00<00:00,  8.14it/s]\u001b[A\n",
      "train loss = 0.0524866:  38%|███▊      | 3/7.8125 [00:00<00:00,  8.14it/s]\u001b[A\n",
      "train loss = 0.0524866:  51%|█████     | 4/7.8125 [00:00<00:00,  8.48it/s]\u001b[A\n",
      "train loss = 0.0485325:  51%|█████     | 4/7.8125 [00:00<00:00,  8.48it/s]\u001b[A\n",
      "train loss = 0.0485325:  51%|█████     | 4/7.8125 [00:00<00:00,  8.48it/s]\u001b[A\n",
      "train loss = 0.0485325:  64%|██████▍   | 5/7.8125 [00:00<00:00,  8.56it/s]\u001b[A\n",
      "train loss = 0.0468392:  64%|██████▍   | 5/7.8125 [00:00<00:00,  8.56it/s]\u001b[A\n",
      "train loss = 0.0468392:  64%|██████▍   | 5/7.8125 [00:00<00:00,  8.56it/s]\u001b[A\n",
      "train loss = 0.0468392:  77%|███████▋  | 6/7.8125 [00:00<00:00,  8.80it/s]\u001b[A\n",
      "train loss = 0.0561521:  77%|███████▋  | 6/7.8125 [00:00<00:00,  8.80it/s]\u001b[A\n",
      "train loss = 0.0561521:  77%|███████▋  | 6/7.8125 [00:00<00:00,  8.80it/s]\u001b[A\n",
      "train loss = 0.0561521:  90%|████████▉ | 7/7.8125 [00:00<00:00,  8.56it/s]\u001b[A\n",
      "train loss = 0.0568544:  90%|████████▉ | 7/7.8125 [00:00<00:00,  8.56it/s]\u001b[A\n",
      "train loss = 0.0568544:  90%|████████▉ | 7/7.8125 [00:00<00:00,  8.56it/s]\u001b[A\n",
      "train loss = 0.0568544: : 8it [00:00,  8.80it/s]                          \u001b[A\n",
      "  0%|          | 0/7.8125 [00:00<?, ?it/s]\u001b[A\n",
      "train loss = 0.0417054:   0%|          | 0/7.8125 [00:00<?, ?it/s]\u001b[A\n",
      "train loss = 0.0417054:   0%|          | 0/7.8125 [00:00<?, ?it/s]\u001b[A\n",
      "train loss = 0.0417054:  13%|█▎        | 1/7.8125 [00:00<00:00,  7.53it/s]\u001b[A"
     ]
    },
    {
     "name": "stdout",
     "output_type": "stream",
     "text": [
      "Epoch: 38, Training Loss:   0.0544\n"
     ]
    },
    {
     "name": "stderr",
     "output_type": "stream",
     "text": [
      "\n",
      "train loss = 0.0507132:  13%|█▎        | 1/7.8125 [00:00<00:00,  7.53it/s]\u001b[A\n",
      "train loss = 0.0507132:  13%|█▎        | 1/7.8125 [00:00<00:00,  7.53it/s]\u001b[A\n",
      "train loss = 0.0507132:  26%|██▌       | 2/7.8125 [00:00<00:00,  7.73it/s]\u001b[A\n",
      "train loss = 0.0585340:  26%|██▌       | 2/7.8125 [00:00<00:00,  7.73it/s]\u001b[A\n",
      "train loss = 0.0585340:  26%|██▌       | 2/7.8125 [00:00<00:00,  7.73it/s]\u001b[A\n",
      "train loss = 0.0585340:  38%|███▊      | 3/7.8125 [00:00<00:00,  7.96it/s]\u001b[A\n",
      "train loss = 0.0562740:  38%|███▊      | 3/7.8125 [00:00<00:00,  7.96it/s]\u001b[A\n",
      "train loss = 0.0562740:  38%|███▊      | 3/7.8125 [00:00<00:00,  7.96it/s]\u001b[A\n",
      "train loss = 0.0562740:  51%|█████     | 4/7.8125 [00:00<00:00,  8.22it/s]\u001b[A\n",
      "train loss = 0.0467743:  51%|█████     | 4/7.8125 [00:00<00:00,  8.22it/s]\u001b[A\n",
      "train loss = 0.0467743:  51%|█████     | 4/7.8125 [00:00<00:00,  8.22it/s]\u001b[A\n",
      "train loss = 0.0467743:  64%|██████▍   | 5/7.8125 [00:00<00:00,  8.41it/s]\u001b[A\n",
      "train loss = 0.0510226:  64%|██████▍   | 5/7.8125 [00:00<00:00,  8.41it/s]\u001b[A\n",
      "train loss = 0.0510226:  64%|██████▍   | 5/7.8125 [00:00<00:00,  8.41it/s]\u001b[A\n",
      "train loss = 0.0510226:  77%|███████▋  | 6/7.8125 [00:00<00:00,  8.45it/s]\u001b[A\n",
      "train loss = 0.0424400:  77%|███████▋  | 6/7.8125 [00:00<00:00,  8.45it/s]\u001b[A\n",
      "train loss = 0.0424400:  77%|███████▋  | 6/7.8125 [00:00<00:00,  8.45it/s]\u001b[A\n",
      "train loss = 0.0424400:  90%|████████▉ | 7/7.8125 [00:00<00:00,  8.13it/s]\u001b[A\n",
      "train loss = 0.0924844:  90%|████████▉ | 7/7.8125 [00:00<00:00,  8.13it/s]\u001b[A\n",
      "train loss = 0.0924844:  90%|████████▉ | 7/7.8125 [00:00<00:00,  8.13it/s]\u001b[A\n",
      "train loss = 0.0924844: : 8it [00:00,  8.44it/s]                          \u001b[A\n",
      "  0%|          | 0/7.8125 [00:00<?, ?it/s]\u001b[A\n",
      "train loss = 0.1003482:   0%|          | 0/7.8125 [00:00<?, ?it/s]\u001b[A\n",
      "train loss = 0.1003482:   0%|          | 0/7.8125 [00:00<?, ?it/s]\u001b[A\n",
      "train loss = 0.1003482:  13%|█▎        | 1/7.8125 [00:00<00:00,  7.54it/s]\u001b[A"
     ]
    },
    {
     "name": "stdout",
     "output_type": "stream",
     "text": [
      "Epoch: 39, Training Loss:   0.0550\n"
     ]
    },
    {
     "name": "stderr",
     "output_type": "stream",
     "text": [
      "\n",
      "train loss = 0.0603842:  13%|█▎        | 1/7.8125 [00:00<00:00,  7.54it/s]\u001b[A\n",
      "train loss = 0.0603842:  13%|█▎        | 1/7.8125 [00:00<00:00,  7.54it/s]\u001b[A\n",
      "train loss = 0.0603842:  26%|██▌       | 2/7.8125 [00:00<00:00,  8.05it/s]\u001b[A\n",
      "train loss = 0.0671516:  26%|██▌       | 2/7.8125 [00:00<00:00,  8.05it/s]\u001b[A\n",
      "train loss = 0.0671516:  26%|██▌       | 2/7.8125 [00:00<00:00,  8.05it/s]\u001b[A\n",
      "train loss = 0.0671516:  38%|███▊      | 3/7.8125 [00:00<00:00,  8.38it/s]\u001b[A\n",
      "train loss = 0.0779947:  38%|███▊      | 3/7.8125 [00:00<00:00,  8.38it/s]\u001b[A\n",
      "train loss = 0.0779947:  38%|███▊      | 3/7.8125 [00:00<00:00,  8.38it/s]\u001b[A\n",
      "train loss = 0.0779947:  51%|█████     | 4/7.8125 [00:00<00:00,  8.48it/s]\u001b[A\n",
      "train loss = 0.0594018:  51%|█████     | 4/7.8125 [00:00<00:00,  8.48it/s]\u001b[A\n",
      "train loss = 0.0594018:  51%|█████     | 4/7.8125 [00:00<00:00,  8.48it/s]\u001b[A\n",
      "train loss = 0.0594018:  64%|██████▍   | 5/7.8125 [00:00<00:00,  8.63it/s]\u001b[A\n",
      "train loss = 0.0504315:  64%|██████▍   | 5/7.8125 [00:00<00:00,  8.63it/s]\u001b[A\n",
      "train loss = 0.0504315:  64%|██████▍   | 5/7.8125 [00:00<00:00,  8.63it/s]\u001b[A\n",
      "train loss = 0.0504315:  77%|███████▋  | 6/7.8125 [00:00<00:00,  8.84it/s]\u001b[A\n",
      "train loss = 0.0715123:  77%|███████▋  | 6/7.8125 [00:00<00:00,  8.84it/s]\u001b[A\n",
      "train loss = 0.0715123:  77%|███████▋  | 6/7.8125 [00:00<00:00,  8.84it/s]\u001b[A\n",
      "train loss = 0.0715123:  90%|████████▉ | 7/7.8125 [00:00<00:00,  9.01it/s]\u001b[A\n",
      "train loss = 0.1075777:  90%|████████▉ | 7/7.8125 [00:00<00:00,  9.01it/s]\u001b[A\n",
      "train loss = 0.1075777:  90%|████████▉ | 7/7.8125 [00:00<00:00,  9.01it/s]\u001b[A\n",
      "train loss = 0.1075777: : 8it [00:00,  9.21it/s]                          \u001b[A\n",
      "  0%|          | 0/7.8125 [00:00<?, ?it/s]\u001b[A\n",
      "train loss = 0.0849989:   0%|          | 0/7.8125 [00:00<?, ?it/s]\u001b[A\n",
      "train loss = 0.0849989:   0%|          | 0/7.8125 [00:00<?, ?it/s]\u001b[A\n",
      "train loss = 0.0849989:  13%|█▎        | 1/7.8125 [00:00<00:00,  7.97it/s]\u001b[A"
     ]
    },
    {
     "name": "stdout",
     "output_type": "stream",
     "text": [
      "Epoch: 40, Training Loss:   0.0744\n"
     ]
    },
    {
     "name": "stderr",
     "output_type": "stream",
     "text": [
      "\n",
      "train loss = 0.0437709:  13%|█▎        | 1/7.8125 [00:00<00:00,  7.97it/s]\u001b[A\n",
      "train loss = 0.0437709:  13%|█▎        | 1/7.8125 [00:00<00:00,  7.97it/s]\u001b[A\n",
      "train loss = 0.0437709:  26%|██▌       | 2/7.8125 [00:00<00:00,  8.25it/s]\u001b[A\n",
      "train loss = 0.0716469:  26%|██▌       | 2/7.8125 [00:00<00:00,  8.25it/s]\u001b[A\n",
      "train loss = 0.0716469:  26%|██▌       | 2/7.8125 [00:00<00:00,  8.25it/s]\u001b[A\n",
      "train loss = 0.0716469:  38%|███▊      | 3/7.8125 [00:00<00:00,  8.47it/s]\u001b[A\n",
      "train loss = 0.0908394:  38%|███▊      | 3/7.8125 [00:00<00:00,  8.47it/s]\u001b[A\n",
      "train loss = 0.0908394:  38%|███▊      | 3/7.8125 [00:00<00:00,  8.47it/s]\u001b[A\n",
      "train loss = 0.0908394:  51%|█████     | 4/7.8125 [00:00<00:00,  8.61it/s]\u001b[A\n",
      "train loss = 0.1084001:  51%|█████     | 4/7.8125 [00:00<00:00,  8.61it/s]\u001b[A\n",
      "train loss = 0.1084001:  51%|█████     | 4/7.8125 [00:00<00:00,  8.61it/s]\u001b[A\n",
      "train loss = 0.1084001:  64%|██████▍   | 5/7.8125 [00:00<00:00,  8.66it/s]\u001b[A\n",
      "train loss = 0.0545249:  64%|██████▍   | 5/7.8125 [00:00<00:00,  8.66it/s]\u001b[A\n",
      "train loss = 0.0545249:  64%|██████▍   | 5/7.8125 [00:00<00:00,  8.66it/s]\u001b[A\n",
      "train loss = 0.0545249:  77%|███████▋  | 6/7.8125 [00:00<00:00,  8.82it/s]\u001b[A\n",
      "train loss = 0.0470918:  77%|███████▋  | 6/7.8125 [00:00<00:00,  8.82it/s]\u001b[A\n",
      "train loss = 0.0470918:  77%|███████▋  | 6/7.8125 [00:00<00:00,  8.82it/s]\u001b[A\n",
      "train loss = 0.0470918:  90%|████████▉ | 7/7.8125 [00:00<00:00,  8.49it/s]\u001b[A\n",
      "train loss = 0.1062453:  90%|████████▉ | 7/7.8125 [00:00<00:00,  8.49it/s]\u001b[A\n",
      "train loss = 0.1062453:  90%|████████▉ | 7/7.8125 [00:00<00:00,  8.49it/s]\u001b[A\n",
      "train loss = 0.1062453: : 8it [00:00,  8.80it/s]                          \u001b[A\n",
      "  0%|          | 0/7.8125 [00:00<?, ?it/s]\u001b[A\n",
      "train loss = 0.0855603:   0%|          | 0/7.8125 [00:00<?, ?it/s]\u001b[A\n",
      "train loss = 0.0855603:   0%|          | 0/7.8125 [00:00<?, ?it/s]\u001b[A\n",
      "train loss = 0.0855603:  13%|█▎        | 1/7.8125 [00:00<00:00,  7.76it/s]\u001b[A"
     ]
    },
    {
     "name": "stdout",
     "output_type": "stream",
     "text": [
      "Epoch: 41, Training Loss:   0.0759\n"
     ]
    },
    {
     "name": "stderr",
     "output_type": "stream",
     "text": [
      "\n",
      "train loss = 0.1065495:  13%|█▎        | 1/7.8125 [00:00<00:00,  7.76it/s]\u001b[A\n",
      "train loss = 0.1065495:  13%|█▎        | 1/7.8125 [00:00<00:00,  7.76it/s]\u001b[A\n",
      "train loss = 0.1065495:  26%|██▌       | 2/7.8125 [00:00<00:00,  7.94it/s]\u001b[A\n",
      "train loss = 0.0464999:  26%|██▌       | 2/7.8125 [00:00<00:00,  7.94it/s]\u001b[A\n",
      "train loss = 0.0464999:  26%|██▌       | 2/7.8125 [00:00<00:00,  7.94it/s]\u001b[A\n",
      "train loss = 0.0464999:  38%|███▊      | 3/7.8125 [00:00<00:00,  8.20it/s]\u001b[A\n",
      "train loss = 0.0890377:  38%|███▊      | 3/7.8125 [00:00<00:00,  8.20it/s]\u001b[A\n",
      "train loss = 0.0890377:  38%|███▊      | 3/7.8125 [00:00<00:00,  8.20it/s]\u001b[A\n",
      "train loss = 0.0890377:  51%|█████     | 4/7.8125 [00:00<00:00,  8.48it/s]\u001b[A\n",
      "train loss = 0.0787509:  51%|█████     | 4/7.8125 [00:00<00:00,  8.48it/s]\u001b[A\n",
      "train loss = 0.0787509:  51%|█████     | 4/7.8125 [00:00<00:00,  8.48it/s]\u001b[A\n",
      "train loss = 0.0787509:  64%|██████▍   | 5/7.8125 [00:00<00:00,  8.70it/s]\u001b[A\n",
      "train loss = 0.0858209:  64%|██████▍   | 5/7.8125 [00:00<00:00,  8.70it/s]\u001b[A\n",
      "train loss = 0.0858209:  64%|██████▍   | 5/7.8125 [00:00<00:00,  8.70it/s]\u001b[A\n",
      "train loss = 0.0858209:  77%|███████▋  | 6/7.8125 [00:00<00:00,  8.83it/s]\u001b[A\n",
      "train loss = 0.0761311:  77%|███████▋  | 6/7.8125 [00:00<00:00,  8.83it/s]\u001b[A\n",
      "train loss = 0.0761311:  77%|███████▋  | 6/7.8125 [00:00<00:00,  8.83it/s]\u001b[A\n",
      "train loss = 0.0761311:  90%|████████▉ | 7/7.8125 [00:00<00:00,  8.88it/s]\u001b[A\n",
      "train loss = 0.0672904:  90%|████████▉ | 7/7.8125 [00:00<00:00,  8.88it/s]\u001b[A\n",
      "train loss = 0.0672904:  90%|████████▉ | 7/7.8125 [00:00<00:00,  8.88it/s]\u001b[A\n",
      "train loss = 0.0672904: : 8it [00:00,  9.03it/s]                          \u001b[A\n",
      "  0%|          | 0/7.8125 [00:00<?, ?it/s]\u001b[A\n",
      "train loss = 0.0647669:   0%|          | 0/7.8125 [00:00<?, ?it/s]\u001b[A\n",
      "train loss = 0.0647669:   0%|          | 0/7.8125 [00:00<?, ?it/s]\u001b[A\n",
      "train loss = 0.0647669:  13%|█▎        | 1/7.8125 [00:00<00:00,  7.72it/s]\u001b[A"
     ]
    },
    {
     "name": "stdout",
     "output_type": "stream",
     "text": [
      "Epoch: 42, Training Loss:   0.0795\n"
     ]
    },
    {
     "name": "stderr",
     "output_type": "stream",
     "text": [
      "\n",
      "train loss = 0.1082952:  13%|█▎        | 1/7.8125 [00:00<00:00,  7.72it/s]\u001b[A\n",
      "train loss = 0.1082952:  13%|█▎        | 1/7.8125 [00:00<00:00,  7.72it/s]\u001b[A\n",
      "train loss = 0.1082952:  26%|██▌       | 2/7.8125 [00:00<00:00,  8.05it/s]\u001b[A\n",
      "train loss = 0.0611766:  26%|██▌       | 2/7.8125 [00:00<00:00,  8.05it/s]\u001b[A\n",
      "train loss = 0.0611766:  26%|██▌       | 2/7.8125 [00:00<00:00,  8.05it/s]\u001b[A\n",
      "train loss = 0.0611766:  38%|███▊      | 3/7.8125 [00:00<00:00,  7.67it/s]\u001b[A\n",
      "train loss = 0.1023922:  38%|███▊      | 3/7.8125 [00:00<00:00,  7.67it/s]\u001b[A\n",
      "train loss = 0.1023922:  38%|███▊      | 3/7.8125 [00:00<00:00,  7.67it/s]\u001b[A\n",
      "train loss = 0.1023922:  51%|█████     | 4/7.8125 [00:00<00:00,  7.96it/s]\u001b[A\n",
      "train loss = 0.0618346:  51%|█████     | 4/7.8125 [00:00<00:00,  7.96it/s]\u001b[A\n",
      "train loss = 0.0618346:  51%|█████     | 4/7.8125 [00:00<00:00,  7.96it/s]\u001b[A\n",
      "train loss = 0.0618346:  64%|██████▍   | 5/7.8125 [00:00<00:00,  8.18it/s]\u001b[A\n",
      "train loss = 0.0612466:  64%|██████▍   | 5/7.8125 [00:00<00:00,  8.18it/s]\u001b[A\n",
      "train loss = 0.0612466:  64%|██████▍   | 5/7.8125 [00:00<00:00,  8.18it/s]\u001b[A\n",
      "train loss = 0.0612466:  77%|███████▋  | 6/7.8125 [00:00<00:00,  8.45it/s]\u001b[A\n",
      "train loss = 0.0652538:  77%|███████▋  | 6/7.8125 [00:00<00:00,  8.45it/s]\u001b[A\n",
      "train loss = 0.0652538:  77%|███████▋  | 6/7.8125 [00:00<00:00,  8.45it/s]\u001b[A\n",
      "train loss = 0.0652538:  90%|████████▉ | 7/7.8125 [00:00<00:00,  8.63it/s]\u001b[A\n",
      "train loss = 0.0692143:  90%|████████▉ | 7/7.8125 [00:00<00:00,  8.63it/s]\u001b[A\n",
      "train loss = 0.0692143:  90%|████████▉ | 7/7.8125 [00:00<00:00,  8.63it/s]\u001b[A\n",
      "train loss = 0.0692143: : 8it [00:00,  8.91it/s]                          \u001b[A\n",
      "  0%|          | 0/7.8125 [00:00<?, ?it/s]\u001b[A\n",
      "train loss = 0.0576286:   0%|          | 0/7.8125 [00:00<?, ?it/s]\u001b[A\n",
      "train loss = 0.0576286:   0%|          | 0/7.8125 [00:00<?, ?it/s]\u001b[A\n",
      "train loss = 0.0576286:  13%|█▎        | 1/7.8125 [00:00<00:00,  7.75it/s]\u001b[A"
     ]
    },
    {
     "name": "stdout",
     "output_type": "stream",
     "text": [
      "Epoch: 43, Training Loss:   0.0743\n"
     ]
    },
    {
     "name": "stderr",
     "output_type": "stream",
     "text": [
      "\n",
      "train loss = 0.0513424:  13%|█▎        | 1/7.8125 [00:00<00:00,  7.75it/s]\u001b[A\n",
      "train loss = 0.0513424:  13%|█▎        | 1/7.8125 [00:00<00:00,  7.75it/s]\u001b[A\n",
      "train loss = 0.0513424:  26%|██▌       | 2/7.8125 [00:00<00:00,  7.79it/s]\u001b[A\n",
      "train loss = 0.1125640:  26%|██▌       | 2/7.8125 [00:00<00:00,  7.79it/s]\u001b[A\n",
      "train loss = 0.1125640:  26%|██▌       | 2/7.8125 [00:00<00:00,  7.79it/s]\u001b[A\n",
      "train loss = 0.1125640:  38%|███▊      | 3/7.8125 [00:00<00:00,  8.00it/s]\u001b[A\n",
      "train loss = 0.0479404:  38%|███▊      | 3/7.8125 [00:00<00:00,  8.00it/s]\u001b[A\n",
      "train loss = 0.0479404:  38%|███▊      | 3/7.8125 [00:00<00:00,  8.00it/s]\u001b[A\n",
      "train loss = 0.0479404:  51%|█████     | 4/7.8125 [00:00<00:00,  8.14it/s]\u001b[A\n",
      "train loss = 0.0673662:  51%|█████     | 4/7.8125 [00:00<00:00,  8.14it/s]\u001b[A\n",
      "train loss = 0.0673662:  51%|█████     | 4/7.8125 [00:00<00:00,  8.14it/s]\u001b[A\n",
      "train loss = 0.0673662:  64%|██████▍   | 5/7.8125 [00:00<00:00,  8.41it/s]\u001b[A\n",
      "train loss = 0.0519090:  64%|██████▍   | 5/7.8125 [00:00<00:00,  8.41it/s]\u001b[A\n",
      "train loss = 0.0519090:  64%|██████▍   | 5/7.8125 [00:00<00:00,  8.41it/s]\u001b[A\n",
      "train loss = 0.0519090:  77%|███████▋  | 6/7.8125 [00:00<00:00,  8.67it/s]\u001b[A\n",
      "train loss = 0.0558985:  77%|███████▋  | 6/7.8125 [00:00<00:00,  8.67it/s]\u001b[A\n",
      "train loss = 0.0558985:  77%|███████▋  | 6/7.8125 [00:00<00:00,  8.67it/s]\u001b[A\n",
      "train loss = 0.0558985:  90%|████████▉ | 7/7.8125 [00:00<00:00,  8.71it/s]\u001b[A\n",
      "train loss = 0.0637160:  90%|████████▉ | 7/7.8125 [00:00<00:00,  8.71it/s]\u001b[A\n",
      "train loss = 0.0637160:  90%|████████▉ | 7/7.8125 [00:00<00:00,  8.71it/s]\u001b[A\n",
      "train loss = 0.0637160: : 8it [00:00,  8.76it/s]                          \u001b[A\n",
      "  0%|          | 0/7.8125 [00:00<?, ?it/s]\u001b[A\n",
      "train loss = 0.0480069:   0%|          | 0/7.8125 [00:00<?, ?it/s]\u001b[A\n",
      "train loss = 0.0480069:   0%|          | 0/7.8125 [00:00<?, ?it/s]\u001b[A\n",
      "train loss = 0.0480069:  13%|█▎        | 1/7.8125 [00:00<00:00,  7.48it/s]\u001b[A"
     ]
    },
    {
     "name": "stdout",
     "output_type": "stream",
     "text": [
      "Epoch: 44, Training Loss:   0.0635\n"
     ]
    },
    {
     "name": "stderr",
     "output_type": "stream",
     "text": [
      "\n",
      "train loss = 0.0473704:  13%|█▎        | 1/7.8125 [00:00<00:00,  7.48it/s]\u001b[A\n",
      "train loss = 0.0473704:  13%|█▎        | 1/7.8125 [00:00<00:00,  7.48it/s]\u001b[A\n",
      "train loss = 0.0473704:  26%|██▌       | 2/7.8125 [00:00<00:00,  7.86it/s]\u001b[A\n",
      "train loss = 0.0955097:  26%|██▌       | 2/7.8125 [00:00<00:00,  7.86it/s]\u001b[A\n",
      "train loss = 0.0955097:  26%|██▌       | 2/7.8125 [00:00<00:00,  7.86it/s]\u001b[A\n",
      "train loss = 0.0955097:  38%|███▊      | 3/7.8125 [00:00<00:00,  8.21it/s]\u001b[A\n",
      "train loss = 0.0848486:  38%|███▊      | 3/7.8125 [00:00<00:00,  8.21it/s]\u001b[A\n",
      "train loss = 0.0848486:  38%|███▊      | 3/7.8125 [00:00<00:00,  8.21it/s]\u001b[A\n",
      "train loss = 0.0848486:  51%|█████     | 4/7.8125 [00:00<00:00,  8.41it/s]\u001b[A\n",
      "train loss = 0.0438760:  51%|█████     | 4/7.8125 [00:00<00:00,  8.41it/s]\u001b[A\n",
      "train loss = 0.0438760:  51%|█████     | 4/7.8125 [00:00<00:00,  8.41it/s]\u001b[A\n",
      "train loss = 0.0438760:  64%|██████▍   | 5/7.8125 [00:00<00:00,  8.36it/s]\u001b[A\n",
      "train loss = 0.0527523:  64%|██████▍   | 5/7.8125 [00:00<00:00,  8.36it/s]\u001b[A\n",
      "train loss = 0.0527523:  64%|██████▍   | 5/7.8125 [00:00<00:00,  8.36it/s]\u001b[A\n",
      "train loss = 0.0527523:  77%|███████▋  | 6/7.8125 [00:00<00:00,  8.55it/s]\u001b[A\n",
      "train loss = 0.0505330:  77%|███████▋  | 6/7.8125 [00:00<00:00,  8.55it/s]\u001b[A\n",
      "train loss = 0.0505330:  77%|███████▋  | 6/7.8125 [00:00<00:00,  8.55it/s]\u001b[A\n",
      "train loss = 0.0505330:  90%|████████▉ | 7/7.8125 [00:00<00:00,  8.71it/s]\u001b[A\n",
      "train loss = 0.0422438:  90%|████████▉ | 7/7.8125 [00:00<00:00,  8.71it/s]\u001b[A\n",
      "train loss = 0.0422438:  90%|████████▉ | 7/7.8125 [00:00<00:00,  8.71it/s]\u001b[A\n",
      "train loss = 0.0422438: : 8it [00:00,  9.00it/s]                          \u001b[A\n",
      "  0%|          | 0/7.8125 [00:00<?, ?it/s]\u001b[A\n",
      "train loss = 0.0436805:   0%|          | 0/7.8125 [00:00<?, ?it/s]\u001b[A\n",
      "train loss = 0.0436805:   0%|          | 0/7.8125 [00:00<?, ?it/s]\u001b[A\n",
      "train loss = 0.0436805:  13%|█▎        | 1/7.8125 [00:00<00:00,  7.62it/s]\u001b[A"
     ]
    },
    {
     "name": "stdout",
     "output_type": "stream",
     "text": [
      "Epoch: 45, Training Loss:   0.0581\n"
     ]
    },
    {
     "name": "stderr",
     "output_type": "stream",
     "text": [
      "\n",
      "train loss = 0.0754394:  13%|█▎        | 1/7.8125 [00:00<00:00,  7.62it/s]\u001b[A\n",
      "train loss = 0.0754394:  13%|█▎        | 1/7.8125 [00:00<00:00,  7.62it/s]\u001b[A\n",
      "train loss = 0.0754394:  26%|██▌       | 2/7.8125 [00:00<00:00,  7.96it/s]\u001b[A\n",
      "train loss = 0.0538819:  26%|██▌       | 2/7.8125 [00:00<00:00,  7.96it/s]\u001b[A\n",
      "train loss = 0.0538819:  26%|██▌       | 2/7.8125 [00:00<00:00,  7.96it/s]\u001b[A\n",
      "train loss = 0.0538819:  38%|███▊      | 3/7.8125 [00:00<00:00,  8.30it/s]\u001b[A\n",
      "train loss = 0.0623936:  38%|███▊      | 3/7.8125 [00:00<00:00,  8.30it/s]\u001b[A\n",
      "train loss = 0.0623936:  38%|███▊      | 3/7.8125 [00:00<00:00,  8.30it/s]\u001b[A\n",
      "train loss = 0.0623936:  51%|█████     | 4/7.8125 [00:00<00:00,  8.59it/s]\u001b[A\n",
      "train loss = 0.0849667:  51%|█████     | 4/7.8125 [00:00<00:00,  8.59it/s]\u001b[A\n",
      "train loss = 0.0849667:  51%|█████     | 4/7.8125 [00:00<00:00,  8.59it/s]\u001b[A\n",
      "train loss = 0.0849667:  64%|██████▍   | 5/7.8125 [00:00<00:00,  8.85it/s]\u001b[A\n",
      "train loss = 0.0616851:  64%|██████▍   | 5/7.8125 [00:00<00:00,  8.85it/s]\u001b[A\n",
      "train loss = 0.0616851:  64%|██████▍   | 5/7.8125 [00:00<00:00,  8.85it/s]\u001b[A\n",
      "train loss = 0.0616851:  77%|███████▋  | 6/7.8125 [00:00<00:00,  9.02it/s]\u001b[A\n",
      "train loss = 0.0549970:  77%|███████▋  | 6/7.8125 [00:00<00:00,  9.02it/s]\u001b[A\n",
      "train loss = 0.0549970:  77%|███████▋  | 6/7.8125 [00:00<00:00,  9.02it/s]\u001b[A\n",
      "train loss = 0.0549970:  90%|████████▉ | 7/7.8125 [00:00<00:00,  9.10it/s]\u001b[A\n",
      "train loss = 0.0657407:  90%|████████▉ | 7/7.8125 [00:00<00:00,  9.10it/s]\u001b[A\n",
      "train loss = 0.0657407:  90%|████████▉ | 7/7.8125 [00:00<00:00,  9.10it/s]\u001b[A\n",
      "train loss = 0.0657407: : 8it [00:00,  9.12it/s]                          \u001b[A\n",
      "  0%|          | 0/7.8125 [00:00<?, ?it/s]\u001b[A\n",
      "train loss = 0.0565133:   0%|          | 0/7.8125 [00:00<?, ?it/s]\u001b[A\n",
      "train loss = 0.0565133:   0%|          | 0/7.8125 [00:00<?, ?it/s]\u001b[A\n",
      "train loss = 0.0565133:  13%|█▎        | 1/7.8125 [00:00<00:00,  8.06it/s]\u001b[A"
     ]
    },
    {
     "name": "stdout",
     "output_type": "stream",
     "text": [
      "Epoch: 46, Training Loss:   0.0628\n"
     ]
    },
    {
     "name": "stderr",
     "output_type": "stream",
     "text": [
      "\n",
      "train loss = 0.0580170:  13%|█▎        | 1/7.8125 [00:00<00:00,  8.06it/s]\u001b[A\n",
      "train loss = 0.0580170:  13%|█▎        | 1/7.8125 [00:00<00:00,  8.06it/s]\u001b[A\n",
      "train loss = 0.0580170:  26%|██▌       | 2/7.8125 [00:00<00:00,  8.40it/s]\u001b[A\n",
      "train loss = 0.0466277:  26%|██▌       | 2/7.8125 [00:00<00:00,  8.40it/s]\u001b[A\n",
      "train loss = 0.0466277:  26%|██▌       | 2/7.8125 [00:00<00:00,  8.40it/s]\u001b[A\n",
      "train loss = 0.0466277:  38%|███▊      | 3/7.8125 [00:00<00:00,  8.54it/s]\u001b[A\n",
      "train loss = 0.0607051:  38%|███▊      | 3/7.8125 [00:00<00:00,  8.54it/s]\u001b[A\n",
      "train loss = 0.0607051:  38%|███▊      | 3/7.8125 [00:00<00:00,  8.54it/s]\u001b[A\n",
      "train loss = 0.0607051:  51%|█████     | 4/7.8125 [00:00<00:00,  8.48it/s]\u001b[A\n",
      "train loss = 0.0515129:  51%|█████     | 4/7.8125 [00:00<00:00,  8.48it/s]\u001b[A\n",
      "train loss = 0.0515129:  51%|█████     | 4/7.8125 [00:00<00:00,  8.48it/s]\u001b[A\n",
      "train loss = 0.0515129:  64%|██████▍   | 5/7.8125 [00:00<00:00,  8.60it/s]\u001b[A\n",
      "train loss = 0.0788946:  64%|██████▍   | 5/7.8125 [00:00<00:00,  8.60it/s]\u001b[A\n",
      "train loss = 0.0788946:  64%|██████▍   | 5/7.8125 [00:00<00:00,  8.60it/s]\u001b[A\n",
      "train loss = 0.0788946:  77%|███████▋  | 6/7.8125 [00:00<00:00,  8.65it/s]\u001b[A\n",
      "train loss = 0.0585996:  77%|███████▋  | 6/7.8125 [00:00<00:00,  8.65it/s]\u001b[A\n",
      "train loss = 0.0585996:  77%|███████▋  | 6/7.8125 [00:00<00:00,  8.65it/s]\u001b[A\n",
      "train loss = 0.0585996:  90%|████████▉ | 7/7.8125 [00:00<00:00,  8.65it/s]\u001b[A\n",
      "train loss = 0.0478895:  90%|████████▉ | 7/7.8125 [00:00<00:00,  8.65it/s]\u001b[A\n",
      "train loss = 0.0478895:  90%|████████▉ | 7/7.8125 [00:00<00:00,  8.65it/s]\u001b[A\n",
      "train loss = 0.0478895: : 8it [00:00,  8.88it/s]                          \u001b[A\n",
      "  0%|          | 0/7.8125 [00:00<?, ?it/s]\u001b[A\n",
      "train loss = 0.0470121:   0%|          | 0/7.8125 [00:00<?, ?it/s]\u001b[A\n",
      "train loss = 0.0470121:   0%|          | 0/7.8125 [00:00<?, ?it/s]\u001b[A\n",
      "train loss = 0.0470121:  13%|█▎        | 1/7.8125 [00:00<00:00,  7.93it/s]\u001b[A"
     ]
    },
    {
     "name": "stdout",
     "output_type": "stream",
     "text": [
      "Epoch: 47, Training Loss:   0.0573\n"
     ]
    },
    {
     "name": "stderr",
     "output_type": "stream",
     "text": [
      "\n",
      "train loss = 0.0488995:  13%|█▎        | 1/7.8125 [00:00<00:00,  7.93it/s]\u001b[A\n",
      "train loss = 0.0488995:  13%|█▎        | 1/7.8125 [00:00<00:00,  7.93it/s]\u001b[A\n",
      "train loss = 0.0488995:  26%|██▌       | 2/7.8125 [00:00<00:00,  8.14it/s]\u001b[A\n",
      "train loss = 0.0610677:  26%|██▌       | 2/7.8125 [00:00<00:00,  8.14it/s]\u001b[A\n",
      "train loss = 0.0610677:  26%|██▌       | 2/7.8125 [00:00<00:00,  8.14it/s]\u001b[A\n",
      "train loss = 0.0610677:  38%|███▊      | 3/7.8125 [00:00<00:00,  8.30it/s]\u001b[A\n",
      "train loss = 0.0454324:  38%|███▊      | 3/7.8125 [00:00<00:00,  8.30it/s]\u001b[A\n",
      "train loss = 0.0454324:  38%|███▊      | 3/7.8125 [00:00<00:00,  8.30it/s]\u001b[A\n",
      "train loss = 0.0454324:  51%|█████     | 4/7.8125 [00:00<00:00,  8.47it/s]\u001b[A\n",
      "train loss = 0.0486259:  51%|█████     | 4/7.8125 [00:00<00:00,  8.47it/s]\u001b[A\n",
      "train loss = 0.0486259:  51%|█████     | 4/7.8125 [00:00<00:00,  8.47it/s]\u001b[A\n",
      "train loss = 0.0486259:  64%|██████▍   | 5/7.8125 [00:00<00:00,  8.76it/s]\u001b[A\n",
      "train loss = 0.0574105:  64%|██████▍   | 5/7.8125 [00:00<00:00,  8.76it/s]\u001b[A\n",
      "train loss = 0.0574105:  64%|██████▍   | 5/7.8125 [00:00<00:00,  8.76it/s]\u001b[A\n",
      "train loss = 0.0320813:  64%|██████▍   | 5/7.8125 [00:00<00:00,  8.76it/s]\u001b[A\n",
      "train loss = 0.0320813:  64%|██████▍   | 5/7.8125 [00:00<00:00,  8.76it/s]\u001b[A\n",
      "train loss = 0.0320813:  90%|████████▉ | 7/7.8125 [00:00<00:00,  9.44it/s]\u001b[A\n",
      "train loss = 0.0450886:  90%|████████▉ | 7/7.8125 [00:00<00:00,  9.44it/s]\u001b[A\n",
      "train loss = 0.0450886:  90%|████████▉ | 7/7.8125 [00:00<00:00,  9.44it/s]\u001b[A\n",
      "train loss = 0.0450886: : 8it [00:00,  9.69it/s]                          \u001b[A\n",
      "  0%|          | 0/7.8125 [00:00<?, ?it/s]\u001b[A\n",
      "train loss = 0.0541986:   0%|          | 0/7.8125 [00:00<?, ?it/s]\u001b[A\n",
      "train loss = 0.0541986:   0%|          | 0/7.8125 [00:00<?, ?it/s]\u001b[A\n",
      "train loss = 0.0377791:   0%|          | 0/7.8125 [00:00<?, ?it/s]\u001b[A\n",
      "train loss = 0.0377791:   0%|          | 0/7.8125 [00:00<?, ?it/s]\u001b[A\n",
      "train loss = 0.0377791:  26%|██▌       | 2/7.8125 [00:00<00:00, 11.04it/s]\u001b[A"
     ]
    },
    {
     "name": "stdout",
     "output_type": "stream",
     "text": [
      "Epoch: 48, Training Loss:   0.0482\n"
     ]
    },
    {
     "name": "stderr",
     "output_type": "stream",
     "text": [
      "\n",
      "train loss = 0.0729649:  26%|██▌       | 2/7.8125 [00:00<00:00, 11.04it/s]\u001b[A\n",
      "train loss = 0.0729649:  26%|██▌       | 2/7.8125 [00:00<00:00, 11.04it/s]\u001b[A\n",
      "train loss = 0.0729649:  38%|███▊      | 3/7.8125 [00:00<00:00, 10.09it/s]\u001b[A\n",
      "train loss = 0.0424590:  38%|███▊      | 3/7.8125 [00:00<00:00, 10.09it/s]\u001b[A\n",
      "train loss = 0.0424590:  38%|███▊      | 3/7.8125 [00:00<00:00, 10.09it/s]\u001b[A\n",
      "train loss = 0.0424590:  51%|█████     | 4/7.8125 [00:00<00:00,  9.96it/s]\u001b[A\n",
      "train loss = 0.0529937:  51%|█████     | 4/7.8125 [00:00<00:00,  9.96it/s]\u001b[A\n",
      "train loss = 0.0529937:  51%|█████     | 4/7.8125 [00:00<00:00,  9.96it/s]\u001b[A\n",
      "train loss = 0.0529937:  64%|██████▍   | 5/7.8125 [00:00<00:00,  9.27it/s]\u001b[A\n",
      "train loss = 0.0529160:  64%|██████▍   | 5/7.8125 [00:00<00:00,  9.27it/s]\u001b[A\n",
      "train loss = 0.0529160:  64%|██████▍   | 5/7.8125 [00:00<00:00,  9.27it/s]\u001b[A\n",
      "train loss = 0.0529160:  77%|███████▋  | 6/7.8125 [00:00<00:00,  9.19it/s]\u001b[A\n",
      "train loss = 0.0433688:  77%|███████▋  | 6/7.8125 [00:00<00:00,  9.19it/s]\u001b[A\n",
      "train loss = 0.0433688:  77%|███████▋  | 6/7.8125 [00:00<00:00,  9.19it/s]\u001b[A\n",
      "train loss = 0.0433688:  90%|████████▉ | 7/7.8125 [00:00<00:00,  8.96it/s]\u001b[A\n",
      "train loss = 0.0444113:  90%|████████▉ | 7/7.8125 [00:00<00:00,  8.96it/s]\u001b[A\n",
      "train loss = 0.0444113:  90%|████████▉ | 7/7.8125 [00:00<00:00,  8.96it/s]\u001b[A\n",
      "train loss = 0.0444113: : 8it [00:00,  9.12it/s]                          \u001b[A\n",
      "  0%|          | 0/7.8125 [00:00<?, ?it/s]\u001b[A\n",
      "train loss = 0.0390275:   0%|          | 0/7.8125 [00:00<?, ?it/s]\u001b[A\n",
      "train loss = 0.0390275:   0%|          | 0/7.8125 [00:00<?, ?it/s]\u001b[A\n",
      "train loss = 0.0390275:  13%|█▎        | 1/7.8125 [00:00<00:00,  8.07it/s]\u001b[A"
     ]
    },
    {
     "name": "stdout",
     "output_type": "stream",
     "text": [
      "Epoch: 49, Training Loss:   0.0501\n"
     ]
    },
    {
     "name": "stderr",
     "output_type": "stream",
     "text": [
      "\n",
      "train loss = 0.0476639:  13%|█▎        | 1/7.8125 [00:00<00:00,  8.07it/s]\u001b[A\n",
      "train loss = 0.0476639:  13%|█▎        | 1/7.8125 [00:00<00:00,  8.07it/s]\u001b[A\n",
      "train loss = 0.0476639:  26%|██▌       | 2/7.8125 [00:00<00:00,  8.36it/s]\u001b[A\n",
      "train loss = 0.0899239:  26%|██▌       | 2/7.8125 [00:00<00:00,  8.36it/s]\u001b[A\n",
      "train loss = 0.0899239:  26%|██▌       | 2/7.8125 [00:00<00:00,  8.36it/s]\u001b[A\n",
      "train loss = 0.0899239:  38%|███▊      | 3/7.8125 [00:00<00:00,  8.52it/s]\u001b[A\n",
      "train loss = 0.0448098:  38%|███▊      | 3/7.8125 [00:00<00:00,  8.52it/s]\u001b[A\n",
      "train loss = 0.0448098:  38%|███▊      | 3/7.8125 [00:00<00:00,  8.52it/s]\u001b[A\n",
      "train loss = 0.0448098:  51%|█████     | 4/7.8125 [00:00<00:00,  8.48it/s]\u001b[A\n",
      "train loss = 0.0474096:  51%|█████     | 4/7.8125 [00:00<00:00,  8.48it/s]\u001b[A\n",
      "train loss = 0.0474096:  51%|█████     | 4/7.8125 [00:00<00:00,  8.48it/s]\u001b[A\n",
      "train loss = 0.0474096:  64%|██████▍   | 5/7.8125 [00:00<00:00,  8.58it/s]\u001b[A\n",
      "train loss = 0.0509998:  64%|██████▍   | 5/7.8125 [00:00<00:00,  8.58it/s]\u001b[A\n",
      "train loss = 0.0509998:  64%|██████▍   | 5/7.8125 [00:00<00:00,  8.58it/s]\u001b[A\n",
      "train loss = 0.0509998:  77%|███████▋  | 6/7.8125 [00:00<00:00,  8.48it/s]\u001b[A\n",
      "train loss = 0.0897145:  77%|███████▋  | 6/7.8125 [00:00<00:00,  8.48it/s]\u001b[A\n",
      "train loss = 0.0897145:  77%|███████▋  | 6/7.8125 [00:00<00:00,  8.48it/s]\u001b[A\n",
      "train loss = 0.0897145:  90%|████████▉ | 7/7.8125 [00:00<00:00,  8.65it/s]\u001b[A\n",
      "train loss = 0.0594301:  90%|████████▉ | 7/7.8125 [00:00<00:00,  8.65it/s]\u001b[A\n",
      "train loss = 0.0594301:  90%|████████▉ | 7/7.8125 [00:00<00:00,  8.65it/s]\u001b[A\n",
      "train loss = 0.0594301: : 8it [00:00,  8.95it/s]                          \u001b[A\n",
      "  0%|          | 0/7.8125 [00:00<?, ?it/s]\u001b[A\n",
      "train loss = 0.0587180:   0%|          | 0/7.8125 [00:00<?, ?it/s]\u001b[A\n",
      "train loss = 0.0587180:   0%|          | 0/7.8125 [00:00<?, ?it/s]\u001b[A\n",
      "train loss = 0.0587180:  13%|█▎        | 1/7.8125 [00:00<00:00,  7.73it/s]\u001b[A"
     ]
    },
    {
     "name": "stdout",
     "output_type": "stream",
     "text": [
      "Epoch: 50, Training Loss:   0.0586\n"
     ]
    },
    {
     "name": "stderr",
     "output_type": "stream",
     "text": [
      "\n",
      "train loss = 0.0882349:  13%|█▎        | 1/7.8125 [00:00<00:00,  7.73it/s]\u001b[A\n",
      "train loss = 0.0882349:  13%|█▎        | 1/7.8125 [00:00<00:00,  7.73it/s]\u001b[A\n",
      "train loss = 0.0882349:  26%|██▌       | 2/7.8125 [00:00<00:00,  7.93it/s]\u001b[A\n",
      "train loss = 0.1052292:  26%|██▌       | 2/7.8125 [00:00<00:00,  7.93it/s]\u001b[A\n",
      "train loss = 0.1052292:  26%|██▌       | 2/7.8125 [00:00<00:00,  7.93it/s]\u001b[A\n",
      "train loss = 0.0961919:  26%|██▌       | 2/7.8125 [00:00<00:00,  7.93it/s]\u001b[A\n",
      "train loss = 0.0961919:  26%|██▌       | 2/7.8125 [00:00<00:00,  7.93it/s]\u001b[A\n",
      "train loss = 0.0961919:  51%|█████     | 4/7.8125 [00:00<00:00,  8.45it/s]\u001b[A\n",
      "train loss = 0.0671165:  51%|█████     | 4/7.8125 [00:00<00:00,  8.45it/s]\u001b[A\n",
      "train loss = 0.0671165:  51%|█████     | 4/7.8125 [00:00<00:00,  8.45it/s]\u001b[A\n",
      "train loss = 0.0482186:  51%|█████     | 4/7.8125 [00:00<00:00,  8.45it/s]\u001b[A\n",
      "train loss = 0.0482186:  51%|█████     | 4/7.8125 [00:00<00:00,  8.45it/s]\u001b[A\n",
      "train loss = 0.0482186:  77%|███████▋  | 6/7.8125 [00:00<00:00,  9.02it/s]\u001b[A\n",
      "train loss = 0.0781176:  77%|███████▋  | 6/7.8125 [00:00<00:00,  9.02it/s]\u001b[A\n",
      "train loss = 0.0781176:  77%|███████▋  | 6/7.8125 [00:00<00:00,  9.02it/s]\u001b[A\n",
      "train loss = 0.0781176:  90%|████████▉ | 7/7.8125 [00:00<00:00,  9.02it/s]\u001b[A\n",
      "train loss = 0.0700274:  90%|████████▉ | 7/7.8125 [00:00<00:00,  9.02it/s]\u001b[A\n",
      "train loss = 0.0700274:  90%|████████▉ | 7/7.8125 [00:00<00:00,  9.02it/s]\u001b[A\n",
      "train loss = 0.0700274: : 8it [00:00,  9.20it/s]                          \u001b[A\n",
      "  0%|          | 0/7.8125 [00:00<?, ?it/s]\u001b[A\n",
      "train loss = 0.0688265:   0%|          | 0/7.8125 [00:00<?, ?it/s]\u001b[A\n",
      "train loss = 0.0688265:   0%|          | 0/7.8125 [00:00<?, ?it/s]\u001b[A\n",
      "train loss = 0.0688265:  13%|█▎        | 1/7.8125 [00:00<00:00,  7.66it/s]\u001b[A"
     ]
    },
    {
     "name": "stdout",
     "output_type": "stream",
     "text": [
      "Epoch: 51, Training Loss:   0.0765\n"
     ]
    },
    {
     "name": "stderr",
     "output_type": "stream",
     "text": [
      "\n",
      "train loss = 0.0547116:  13%|█▎        | 1/7.8125 [00:00<00:00,  7.66it/s]\u001b[A\n",
      "train loss = 0.0547116:  13%|█▎        | 1/7.8125 [00:00<00:00,  7.66it/s]\u001b[A\n",
      "train loss = 0.0547116:  26%|██▌       | 2/7.8125 [00:00<00:00,  7.96it/s]\u001b[A\n",
      "train loss = 0.0485629:  26%|██▌       | 2/7.8125 [00:00<00:00,  7.96it/s]\u001b[A\n",
      "train loss = 0.0485629:  26%|██▌       | 2/7.8125 [00:00<00:00,  7.96it/s]\u001b[A\n",
      "train loss = 0.0485629:  38%|███▊      | 3/7.8125 [00:00<00:00,  8.21it/s]\u001b[A\n",
      "train loss = 0.1466058:  38%|███▊      | 3/7.8125 [00:00<00:00,  8.21it/s]\u001b[A\n",
      "train loss = 0.1466058:  38%|███▊      | 3/7.8125 [00:00<00:00,  8.21it/s]\u001b[A\n",
      "train loss = 0.1466058:  51%|█████     | 4/7.8125 [00:00<00:00,  8.55it/s]\u001b[A\n",
      "train loss = 0.0848736:  51%|█████     | 4/7.8125 [00:00<00:00,  8.55it/s]\u001b[A\n",
      "train loss = 0.0848736:  51%|█████     | 4/7.8125 [00:00<00:00,  8.55it/s]\u001b[A\n",
      "train loss = 0.0848736:  64%|██████▍   | 5/7.8125 [00:00<00:00,  8.80it/s]\u001b[A\n",
      "train loss = 0.0973180:  64%|██████▍   | 5/7.8125 [00:00<00:00,  8.80it/s]\u001b[A\n",
      "train loss = 0.0973180:  64%|██████▍   | 5/7.8125 [00:00<00:00,  8.80it/s]\u001b[A\n",
      "train loss = 0.0973180:  77%|███████▋  | 6/7.8125 [00:00<00:00,  8.88it/s]\u001b[A\n",
      "train loss = 0.1083344:  77%|███████▋  | 6/7.8125 [00:00<00:00,  8.88it/s]\u001b[A\n",
      "train loss = 0.1083344:  77%|███████▋  | 6/7.8125 [00:00<00:00,  8.88it/s]\u001b[A\n",
      "train loss = 0.1083344:  90%|████████▉ | 7/7.8125 [00:00<00:00,  9.10it/s]\u001b[A\n",
      "train loss = 0.0557294:  90%|████████▉ | 7/7.8125 [00:00<00:00,  9.10it/s]\u001b[A\n",
      "train loss = 0.0557294:  90%|████████▉ | 7/7.8125 [00:00<00:00,  9.10it/s]\u001b[A\n",
      "train loss = 0.0557294: : 8it [00:00,  9.05it/s]                          \u001b[A\n",
      "  0%|          | 0/7.8125 [00:00<?, ?it/s]\u001b[A\n",
      "train loss = 0.0652321:   0%|          | 0/7.8125 [00:00<?, ?it/s]\u001b[A\n",
      "train loss = 0.0652321:   0%|          | 0/7.8125 [00:00<?, ?it/s]\u001b[A\n",
      "train loss = 0.0652321:  13%|█▎        | 1/7.8125 [00:00<00:00,  8.19it/s]\u001b[A"
     ]
    },
    {
     "name": "stdout",
     "output_type": "stream",
     "text": [
      "Epoch: 52, Training Loss:   0.0831\n"
     ]
    },
    {
     "name": "stderr",
     "output_type": "stream",
     "text": [
      "\n",
      "train loss = 0.0987665:  13%|█▎        | 1/7.8125 [00:00<00:00,  8.19it/s]\u001b[A\n",
      "train loss = 0.0987665:  13%|█▎        | 1/7.8125 [00:00<00:00,  8.19it/s]\u001b[A\n",
      "train loss = 0.0987665:  26%|██▌       | 2/7.8125 [00:00<00:00,  8.39it/s]\u001b[A\n",
      "train loss = 0.0502955:  26%|██▌       | 2/7.8125 [00:00<00:00,  8.39it/s]\u001b[A\n",
      "train loss = 0.0502955:  26%|██▌       | 2/7.8125 [00:00<00:00,  8.39it/s]\u001b[A\n",
      "train loss = 0.0502955:  38%|███▊      | 3/7.8125 [00:00<00:00,  8.48it/s]\u001b[A\n",
      "train loss = 0.0799465:  38%|███▊      | 3/7.8125 [00:00<00:00,  8.48it/s]\u001b[A\n",
      "train loss = 0.0799465:  38%|███▊      | 3/7.8125 [00:00<00:00,  8.48it/s]\u001b[A\n",
      "train loss = 0.0799465:  51%|█████     | 4/7.8125 [00:00<00:00,  8.56it/s]\u001b[A\n",
      "train loss = 0.0464366:  51%|█████     | 4/7.8125 [00:00<00:00,  8.56it/s]\u001b[A\n",
      "train loss = 0.0464366:  51%|█████     | 4/7.8125 [00:00<00:00,  8.56it/s]\u001b[A\n",
      "train loss = 0.0464366:  64%|██████▍   | 5/7.8125 [00:00<00:00,  8.66it/s]\u001b[A\n",
      "train loss = 0.0651793:  64%|██████▍   | 5/7.8125 [00:00<00:00,  8.66it/s]\u001b[A\n",
      "train loss = 0.0651793:  64%|██████▍   | 5/7.8125 [00:00<00:00,  8.66it/s]\u001b[A\n",
      "train loss = 0.0651793:  77%|███████▋  | 6/7.8125 [00:00<00:00,  8.87it/s]\u001b[A\n",
      "train loss = 0.0473143:  77%|███████▋  | 6/7.8125 [00:00<00:00,  8.87it/s]\u001b[A\n",
      "train loss = 0.0473143:  77%|███████▋  | 6/7.8125 [00:00<00:00,  8.87it/s]\u001b[A\n",
      "train loss = 0.0473143:  90%|████████▉ | 7/7.8125 [00:00<00:00,  8.83it/s]\u001b[A\n",
      "train loss = 0.0672902:  90%|████████▉ | 7/7.8125 [00:00<00:00,  8.83it/s]\u001b[A\n",
      "train loss = 0.0672902:  90%|████████▉ | 7/7.8125 [00:00<00:00,  8.83it/s]\u001b[A\n",
      "train loss = 0.0672902: : 8it [00:00,  9.14it/s]                          \u001b[A\n",
      "  0%|          | 0/7.8125 [00:00<?, ?it/s]\u001b[A\n",
      "train loss = 0.0397872:   0%|          | 0/7.8125 [00:00<?, ?it/s]\u001b[A\n",
      "train loss = 0.0397872:   0%|          | 0/7.8125 [00:00<?, ?it/s]\u001b[A\n",
      "train loss = 0.0397872:  13%|█▎        | 1/7.8125 [00:00<00:00,  7.99it/s]\u001b[A"
     ]
    },
    {
     "name": "stdout",
     "output_type": "stream",
     "text": [
      "Epoch: 53, Training Loss:   0.0651\n"
     ]
    },
    {
     "name": "stderr",
     "output_type": "stream",
     "text": [
      "\n",
      "train loss = 0.0418418:  13%|█▎        | 1/7.8125 [00:00<00:00,  7.99it/s]\u001b[A\n",
      "train loss = 0.0418418:  13%|█▎        | 1/7.8125 [00:00<00:00,  7.99it/s]\u001b[A\n",
      "train loss = 0.0418418:  26%|██▌       | 2/7.8125 [00:00<00:00,  8.04it/s]\u001b[A\n",
      "train loss = 0.0643882:  26%|██▌       | 2/7.8125 [00:00<00:00,  8.04it/s]\u001b[A\n",
      "train loss = 0.0643882:  26%|██▌       | 2/7.8125 [00:00<00:00,  8.04it/s]\u001b[A\n",
      "train loss = 0.0643882:  38%|███▊      | 3/7.8125 [00:00<00:00,  8.30it/s]\u001b[A\n",
      "train loss = 0.0459146:  38%|███▊      | 3/7.8125 [00:00<00:00,  8.30it/s]\u001b[A\n",
      "train loss = 0.0459146:  38%|███▊      | 3/7.8125 [00:00<00:00,  8.30it/s]\u001b[A\n",
      "train loss = 0.0459146:  51%|█████     | 4/7.8125 [00:00<00:00,  8.44it/s]\u001b[A\n",
      "train loss = 0.0684275:  51%|█████     | 4/7.8125 [00:00<00:00,  8.44it/s]\u001b[A\n",
      "train loss = 0.0684275:  51%|█████     | 4/7.8125 [00:00<00:00,  8.44it/s]\u001b[A\n",
      "train loss = 0.0684275:  64%|██████▍   | 5/7.8125 [00:00<00:00,  8.80it/s]\u001b[A\n",
      "train loss = 0.0407307:  64%|██████▍   | 5/7.8125 [00:00<00:00,  8.80it/s]\u001b[A\n",
      "train loss = 0.0407307:  64%|██████▍   | 5/7.8125 [00:00<00:00,  8.80it/s]\u001b[A\n",
      "train loss = 0.0407307:  77%|███████▋  | 6/7.8125 [00:00<00:00,  8.84it/s]\u001b[A\n",
      "train loss = 0.0480366:  77%|███████▋  | 6/7.8125 [00:00<00:00,  8.84it/s]\u001b[A\n",
      "train loss = 0.0480366:  77%|███████▋  | 6/7.8125 [00:00<00:00,  8.84it/s]\u001b[A\n",
      "train loss = 0.0480366:  90%|████████▉ | 7/7.8125 [00:00<00:00,  9.04it/s]\u001b[A\n",
      "train loss = 0.0469892:  90%|████████▉ | 7/7.8125 [00:00<00:00,  9.04it/s]\u001b[A\n",
      "train loss = 0.0469892:  90%|████████▉ | 7/7.8125 [00:00<00:00,  9.04it/s]\u001b[A\n",
      "train loss = 0.0469892: : 8it [00:00,  9.01it/s]                          \u001b[A\n",
      "  0%|          | 0/7.8125 [00:00<?, ?it/s]\u001b[A\n",
      "train loss = 0.0407413:   0%|          | 0/7.8125 [00:00<?, ?it/s]\u001b[A\n",
      "train loss = 0.0407413:   0%|          | 0/7.8125 [00:00<?, ?it/s]\u001b[A\n",
      "train loss = 0.0407413:  13%|█▎        | 1/7.8125 [00:00<00:00,  8.66it/s]\u001b[A"
     ]
    },
    {
     "name": "stdout",
     "output_type": "stream",
     "text": [
      "Epoch: 54, Training Loss:   0.0495\n"
     ]
    },
    {
     "name": "stderr",
     "output_type": "stream",
     "text": [
      "\n",
      "train loss = 0.0403987:  13%|█▎        | 1/7.8125 [00:00<00:00,  8.66it/s]\u001b[A\n",
      "train loss = 0.0403987:  13%|█▎        | 1/7.8125 [00:00<00:00,  8.66it/s]\u001b[A\n",
      "train loss = 0.0403987:  26%|██▌       | 2/7.8125 [00:00<00:00,  8.97it/s]\u001b[A\n",
      "train loss = 0.0360256:  26%|██▌       | 2/7.8125 [00:00<00:00,  8.97it/s]\u001b[A\n",
      "train loss = 0.0360256:  26%|██▌       | 2/7.8125 [00:00<00:00,  8.97it/s]\u001b[A\n",
      "train loss = 0.0360256:  38%|███▊      | 3/7.8125 [00:00<00:00,  9.14it/s]\u001b[A\n",
      "train loss = 0.0382300:  38%|███▊      | 3/7.8125 [00:00<00:00,  9.14it/s]\u001b[A\n",
      "train loss = 0.0382300:  38%|███▊      | 3/7.8125 [00:00<00:00,  9.14it/s]\u001b[A\n",
      "train loss = 0.0382300:  51%|█████     | 4/7.8125 [00:00<00:00,  9.05it/s]\u001b[A\n",
      "train loss = 0.0468223:  51%|█████     | 4/7.8125 [00:00<00:00,  9.05it/s]\u001b[A\n",
      "train loss = 0.0468223:  51%|█████     | 4/7.8125 [00:00<00:00,  9.05it/s]\u001b[A\n",
      "train loss = 0.0468223:  64%|██████▍   | 5/7.8125 [00:00<00:00,  8.98it/s]\u001b[A\n",
      "train loss = 0.0426392:  64%|██████▍   | 5/7.8125 [00:00<00:00,  8.98it/s]\u001b[A\n",
      "train loss = 0.0426392:  64%|██████▍   | 5/7.8125 [00:00<00:00,  8.98it/s]\u001b[A\n",
      "train loss = 0.0426392:  77%|███████▋  | 6/7.8125 [00:00<00:00,  9.12it/s]\u001b[A\n",
      "train loss = 0.0412762:  77%|███████▋  | 6/7.8125 [00:00<00:00,  9.12it/s]\u001b[A\n",
      "train loss = 0.0412762:  77%|███████▋  | 6/7.8125 [00:00<00:00,  9.12it/s]\u001b[A\n",
      "train loss = 0.0412762:  90%|████████▉ | 7/7.8125 [00:00<00:00,  9.09it/s]\u001b[A\n",
      "train loss = 0.0492509:  90%|████████▉ | 7/7.8125 [00:00<00:00,  9.09it/s]\u001b[A\n",
      "train loss = 0.0492509:  90%|████████▉ | 7/7.8125 [00:00<00:00,  9.09it/s]\u001b[A\n",
      "train loss = 0.0492509: : 8it [00:00,  9.42it/s]                          \u001b[A\n",
      "  0%|          | 0/7.8125 [00:00<?, ?it/s]\u001b[A\n",
      "train loss = 0.0573979:   0%|          | 0/7.8125 [00:00<?, ?it/s]\u001b[A\n",
      "train loss = 0.0573979:   0%|          | 0/7.8125 [00:00<?, ?it/s]\u001b[A\n",
      "train loss = 0.0573979:  13%|█▎        | 1/7.8125 [00:00<00:00,  8.15it/s]\u001b[A"
     ]
    },
    {
     "name": "stdout",
     "output_type": "stream",
     "text": [
      "Epoch: 55, Training Loss:   0.0419\n"
     ]
    },
    {
     "name": "stderr",
     "output_type": "stream",
     "text": [
      "\n",
      "train loss = 0.0457917:  13%|█▎        | 1/7.8125 [00:00<00:00,  8.15it/s]\u001b[A\n",
      "train loss = 0.0457917:  13%|█▎        | 1/7.8125 [00:00<00:00,  8.15it/s]\u001b[A\n",
      "train loss = 0.0457917:  26%|██▌       | 2/7.8125 [00:00<00:00,  8.46it/s]\u001b[A\n",
      "train loss = 0.0341501:  26%|██▌       | 2/7.8125 [00:00<00:00,  8.46it/s]\u001b[A\n",
      "train loss = 0.0341501:  26%|██▌       | 2/7.8125 [00:00<00:00,  8.46it/s]\u001b[A\n",
      "train loss = 0.0341501:  38%|███▊      | 3/7.8125 [00:00<00:00,  8.76it/s]\u001b[A\n",
      "train loss = 0.0362720:  38%|███▊      | 3/7.8125 [00:00<00:00,  8.76it/s]\u001b[A\n",
      "train loss = 0.0362720:  38%|███▊      | 3/7.8125 [00:00<00:00,  8.76it/s]\u001b[A\n",
      "train loss = 0.0515246:  38%|███▊      | 3/7.8125 [00:00<00:00,  8.76it/s]\u001b[A\n",
      "train loss = 0.0515246:  38%|███▊      | 3/7.8125 [00:00<00:00,  8.76it/s]\u001b[A\n",
      "train loss = 0.0515246:  64%|██████▍   | 5/7.8125 [00:00<00:00,  9.63it/s]\u001b[A\n",
      "train loss = 0.0465226:  64%|██████▍   | 5/7.8125 [00:00<00:00,  9.63it/s]\u001b[A\n",
      "train loss = 0.0465226:  64%|██████▍   | 5/7.8125 [00:00<00:00,  9.63it/s]\u001b[A\n",
      "train loss = 0.0465226:  77%|███████▋  | 6/7.8125 [00:00<00:00,  9.51it/s]\u001b[A\n",
      "train loss = 0.0320797:  77%|███████▋  | 6/7.8125 [00:00<00:00,  9.51it/s]\u001b[A\n",
      "train loss = 0.0320797:  77%|███████▋  | 6/7.8125 [00:00<00:00,  9.51it/s]\u001b[A\n",
      "train loss = 0.0320797:  90%|████████▉ | 7/7.8125 [00:00<00:00,  9.31it/s]\u001b[A\n",
      "train loss = 0.0472742:  90%|████████▉ | 7/7.8125 [00:00<00:00,  9.31it/s]\u001b[A\n",
      "train loss = 0.0472742:  90%|████████▉ | 7/7.8125 [00:00<00:00,  9.31it/s]\u001b[A\n",
      "train loss = 0.0472742: : 8it [00:00,  9.46it/s]                          \u001b[A\n",
      "  0%|          | 0/7.8125 [00:00<?, ?it/s]\u001b[A\n",
      "train loss = 0.0704029:   0%|          | 0/7.8125 [00:00<?, ?it/s]\u001b[A\n",
      "train loss = 0.0704029:   0%|          | 0/7.8125 [00:00<?, ?it/s]\u001b[A\n",
      "train loss = 0.0704029:  13%|█▎        | 1/7.8125 [00:00<00:00,  8.26it/s]\u001b[A"
     ]
    },
    {
     "name": "stdout",
     "output_type": "stream",
     "text": [
      "Epoch: 56, Training Loss:   0.0439\n"
     ]
    },
    {
     "name": "stderr",
     "output_type": "stream",
     "text": [
      "\n",
      "train loss = 0.0487993:  13%|█▎        | 1/7.8125 [00:00<00:00,  8.26it/s]\u001b[A\n",
      "train loss = 0.0487993:  13%|█▎        | 1/7.8125 [00:00<00:00,  8.26it/s]\u001b[A\n",
      "train loss = 0.0487993:  26%|██▌       | 2/7.8125 [00:00<00:00,  8.62it/s]\u001b[A\n",
      "train loss = 0.0391609:  26%|██▌       | 2/7.8125 [00:00<00:00,  8.62it/s]\u001b[A\n",
      "train loss = 0.0391609:  26%|██▌       | 2/7.8125 [00:00<00:00,  8.62it/s]\u001b[A\n",
      "train loss = 0.0391609:  38%|███▊      | 3/7.8125 [00:00<00:00,  8.74it/s]\u001b[A\n",
      "train loss = 0.0326768:  38%|███▊      | 3/7.8125 [00:00<00:00,  8.74it/s]\u001b[A\n",
      "train loss = 0.0326768:  38%|███▊      | 3/7.8125 [00:00<00:00,  8.74it/s]\u001b[A\n",
      "train loss = 0.0326768:  51%|█████     | 4/7.8125 [00:00<00:00,  8.79it/s]\u001b[A\n",
      "train loss = 0.0481254:  51%|█████     | 4/7.8125 [00:00<00:00,  8.79it/s]\u001b[A\n",
      "train loss = 0.0481254:  51%|█████     | 4/7.8125 [00:00<00:00,  8.79it/s]\u001b[A\n",
      "train loss = 0.0481254:  64%|██████▍   | 5/7.8125 [00:00<00:00,  8.77it/s]\u001b[A\n",
      "train loss = 0.0491168:  64%|██████▍   | 5/7.8125 [00:00<00:00,  8.77it/s]\u001b[A\n",
      "train loss = 0.0491168:  64%|██████▍   | 5/7.8125 [00:00<00:00,  8.77it/s]\u001b[A\n",
      "train loss = 0.0491168:  77%|███████▋  | 6/7.8125 [00:00<00:00,  8.82it/s]\u001b[A\n",
      "train loss = 0.0397143:  77%|███████▋  | 6/7.8125 [00:00<00:00,  8.82it/s]\u001b[A\n",
      "train loss = 0.0397143:  77%|███████▋  | 6/7.8125 [00:00<00:00,  8.82it/s]\u001b[A\n",
      "train loss = 0.0397143:  90%|████████▉ | 7/7.8125 [00:00<00:00,  8.84it/s]\u001b[A\n",
      "train loss = 0.0714625:  90%|████████▉ | 7/7.8125 [00:00<00:00,  8.84it/s]\u001b[A\n",
      "train loss = 0.0714625:  90%|████████▉ | 7/7.8125 [00:00<00:00,  8.84it/s]\u001b[A\n",
      "train loss = 0.0714625: : 8it [00:00,  8.97it/s]                          \u001b[A\n",
      "  0%|          | 0/7.8125 [00:00<?, ?it/s]\u001b[A\n",
      "train loss = 0.0320853:   0%|          | 0/7.8125 [00:00<?, ?it/s]\u001b[A\n",
      "train loss = 0.0320853:   0%|          | 0/7.8125 [00:00<?, ?it/s]\u001b[A\n",
      "train loss = 0.0320853:  13%|█▎        | 1/7.8125 [00:00<00:00,  7.81it/s]\u001b[A"
     ]
    },
    {
     "name": "stdout",
     "output_type": "stream",
     "text": [
      "Epoch: 57, Training Loss:   0.0499\n"
     ]
    },
    {
     "name": "stderr",
     "output_type": "stream",
     "text": [
      "\n",
      "train loss = 0.0524585:  13%|█▎        | 1/7.8125 [00:00<00:00,  7.81it/s]\u001b[A\n",
      "train loss = 0.0524585:  13%|█▎        | 1/7.8125 [00:00<00:00,  7.81it/s]\u001b[A\n",
      "train loss = 0.0524585:  26%|██▌       | 2/7.8125 [00:00<00:00,  8.18it/s]\u001b[A\n",
      "train loss = 0.0379712:  26%|██▌       | 2/7.8125 [00:00<00:00,  8.18it/s]\u001b[A\n",
      "train loss = 0.0379712:  26%|██▌       | 2/7.8125 [00:00<00:00,  8.18it/s]\u001b[A\n",
      "train loss = 0.0379712:  38%|███▊      | 3/7.8125 [00:00<00:00,  8.58it/s]\u001b[A\n",
      "train loss = 0.0452766:  38%|███▊      | 3/7.8125 [00:00<00:00,  8.58it/s]\u001b[A\n",
      "train loss = 0.0452766:  38%|███▊      | 3/7.8125 [00:00<00:00,  8.58it/s]\u001b[A\n",
      "train loss = 0.0452766:  51%|█████     | 4/7.8125 [00:00<00:00,  8.71it/s]\u001b[A\n",
      "train loss = 0.0420623:  51%|█████     | 4/7.8125 [00:00<00:00,  8.71it/s]\u001b[A\n",
      "train loss = 0.0420623:  51%|█████     | 4/7.8125 [00:00<00:00,  8.71it/s]\u001b[A\n",
      "train loss = 0.0420623:  64%|██████▍   | 5/7.8125 [00:00<00:00,  8.90it/s]\u001b[A\n",
      "train loss = 0.0434928:  64%|██████▍   | 5/7.8125 [00:00<00:00,  8.90it/s]\u001b[A\n",
      "train loss = 0.0434928:  64%|██████▍   | 5/7.8125 [00:00<00:00,  8.90it/s]\u001b[A\n",
      "train loss = 0.0434928:  77%|███████▋  | 6/7.8125 [00:00<00:00,  8.89it/s]\u001b[A\n",
      "train loss = 0.0602878:  77%|███████▋  | 6/7.8125 [00:00<00:00,  8.89it/s]\u001b[A\n",
      "train loss = 0.0602878:  77%|███████▋  | 6/7.8125 [00:00<00:00,  8.89it/s]\u001b[A\n",
      "train loss = 0.0602878:  90%|████████▉ | 7/7.8125 [00:00<00:00,  9.01it/s]\u001b[A\n",
      "train loss = 0.0407167:  90%|████████▉ | 7/7.8125 [00:00<00:00,  9.01it/s]\u001b[A\n",
      "train loss = 0.0407167:  90%|████████▉ | 7/7.8125 [00:00<00:00,  9.01it/s]\u001b[A\n",
      "train loss = 0.0407167: : 8it [00:00,  9.10it/s]                          \u001b[A\n",
      "  0%|          | 0/7.8125 [00:00<?, ?it/s]\u001b[A\n",
      "train loss = 0.0381650:   0%|          | 0/7.8125 [00:00<?, ?it/s]\u001b[A\n",
      "train loss = 0.0381650:   0%|          | 0/7.8125 [00:00<?, ?it/s]\u001b[A\n",
      "train loss = 0.0381650:  13%|█▎        | 1/7.8125 [00:00<00:00,  7.66it/s]\u001b[A"
     ]
    },
    {
     "name": "stdout",
     "output_type": "stream",
     "text": [
      "Epoch: 58, Training Loss:   0.0443\n"
     ]
    },
    {
     "name": "stderr",
     "output_type": "stream",
     "text": [
      "\n",
      "train loss = 0.0498237:  13%|█▎        | 1/7.8125 [00:00<00:00,  7.66it/s]\u001b[A\n",
      "train loss = 0.0498237:  13%|█▎        | 1/7.8125 [00:00<00:00,  7.66it/s]\u001b[A\n",
      "train loss = 0.0498237:  26%|██▌       | 2/7.8125 [00:00<00:00,  7.99it/s]\u001b[A\n",
      "train loss = 0.0636129:  26%|██▌       | 2/7.8125 [00:00<00:00,  7.99it/s]\u001b[A\n",
      "train loss = 0.0636129:  26%|██▌       | 2/7.8125 [00:00<00:00,  7.99it/s]\u001b[A\n",
      "train loss = 0.0636129:  38%|███▊      | 3/7.8125 [00:00<00:00,  8.25it/s]\u001b[A\n",
      "train loss = 0.0587005:  38%|███▊      | 3/7.8125 [00:00<00:00,  8.25it/s]\u001b[A\n",
      "train loss = 0.0587005:  38%|███▊      | 3/7.8125 [00:00<00:00,  8.25it/s]\u001b[A\n",
      "train loss = 0.0587005:  51%|█████     | 4/7.8125 [00:00<00:00,  8.36it/s]\u001b[A\n",
      "train loss = 0.0549057:  51%|█████     | 4/7.8125 [00:00<00:00,  8.36it/s]\u001b[A\n",
      "train loss = 0.0549057:  51%|█████     | 4/7.8125 [00:00<00:00,  8.36it/s]\u001b[A\n",
      "train loss = 0.0549057:  64%|██████▍   | 5/7.8125 [00:00<00:00,  8.51it/s]\u001b[A\n",
      "train loss = 0.0504457:  64%|██████▍   | 5/7.8125 [00:00<00:00,  8.51it/s]\u001b[A\n",
      "train loss = 0.0504457:  64%|██████▍   | 5/7.8125 [00:00<00:00,  8.51it/s]\u001b[A\n",
      "train loss = 0.0504457:  77%|███████▋  | 6/7.8125 [00:00<00:00,  8.81it/s]\u001b[A\n",
      "train loss = 0.0837204:  77%|███████▋  | 6/7.8125 [00:00<00:00,  8.81it/s]\u001b[A\n",
      "train loss = 0.0837204:  77%|███████▋  | 6/7.8125 [00:00<00:00,  8.81it/s]\u001b[A\n",
      "train loss = 0.0837204:  90%|████████▉ | 7/7.8125 [00:00<00:00,  8.79it/s]\u001b[A\n",
      "train loss = 0.0575112:  90%|████████▉ | 7/7.8125 [00:00<00:00,  8.79it/s]\u001b[A\n",
      "train loss = 0.0575112:  90%|████████▉ | 7/7.8125 [00:00<00:00,  8.79it/s]\u001b[A\n",
      "train loss = 0.0575112: : 8it [00:00,  8.98it/s]                          \u001b[A\n",
      "  0%|          | 0/7.8125 [00:00<?, ?it/s]\u001b[A\n",
      "train loss = 0.0564655:   0%|          | 0/7.8125 [00:00<?, ?it/s]\u001b[A\n",
      "train loss = 0.0564655:   0%|          | 0/7.8125 [00:00<?, ?it/s]\u001b[A\n",
      "train loss = 0.0564655:  13%|█▎        | 1/7.8125 [00:00<00:00,  7.86it/s]\u001b[A"
     ]
    },
    {
     "name": "stdout",
     "output_type": "stream",
     "text": [
      "Epoch: 59, Training Loss:   0.0571\n"
     ]
    },
    {
     "name": "stderr",
     "output_type": "stream",
     "text": [
      "\n",
      "train loss = 0.0562257:  13%|█▎        | 1/7.8125 [00:00<00:00,  7.86it/s]\u001b[A\n",
      "train loss = 0.0562257:  13%|█▎        | 1/7.8125 [00:00<00:00,  7.86it/s]\u001b[A\n",
      "train loss = 0.0562257:  26%|██▌       | 2/7.8125 [00:00<00:00,  8.14it/s]\u001b[A\n",
      "train loss = 0.0712144:  26%|██▌       | 2/7.8125 [00:00<00:00,  8.14it/s]\u001b[A\n",
      "train loss = 0.0712144:  26%|██▌       | 2/7.8125 [00:00<00:00,  8.14it/s]\u001b[A\n",
      "train loss = 0.0712144:  38%|███▊      | 3/7.8125 [00:00<00:00,  8.37it/s]\u001b[A\n",
      "train loss = 0.0799228:  38%|███▊      | 3/7.8125 [00:00<00:00,  8.37it/s]\u001b[A\n",
      "train loss = 0.0799228:  38%|███▊      | 3/7.8125 [00:00<00:00,  8.37it/s]\u001b[A\n",
      "train loss = 0.0799228:  51%|█████     | 4/7.8125 [00:00<00:00,  8.60it/s]\u001b[A\n",
      "train loss = 0.0599569:  51%|█████     | 4/7.8125 [00:00<00:00,  8.60it/s]\u001b[A\n",
      "train loss = 0.0599569:  51%|█████     | 4/7.8125 [00:00<00:00,  8.60it/s]\u001b[A\n",
      "train loss = 0.0599569:  64%|██████▍   | 5/7.8125 [00:00<00:00,  8.72it/s]\u001b[A\n",
      "train loss = 0.0496551:  64%|██████▍   | 5/7.8125 [00:00<00:00,  8.72it/s]\u001b[A\n",
      "train loss = 0.0496551:  64%|██████▍   | 5/7.8125 [00:00<00:00,  8.72it/s]\u001b[A\n",
      "train loss = 0.0496551:  77%|███████▋  | 6/7.8125 [00:00<00:00,  8.97it/s]\u001b[A\n",
      "train loss = 0.0616627:  77%|███████▋  | 6/7.8125 [00:00<00:00,  8.97it/s]\u001b[A\n",
      "train loss = 0.0616627:  77%|███████▋  | 6/7.8125 [00:00<00:00,  8.97it/s]\u001b[A\n",
      "train loss = 0.0616627:  90%|████████▉ | 7/7.8125 [00:00<00:00,  9.03it/s]\u001b[A\n",
      "train loss = 0.0853795:  90%|████████▉ | 7/7.8125 [00:00<00:00,  9.03it/s]\u001b[A\n",
      "train loss = 0.0853795:  90%|████████▉ | 7/7.8125 [00:00<00:00,  9.03it/s]\u001b[A\n",
      "train loss = 0.0853795: : 8it [00:00,  9.12it/s]                          \u001b[A\n",
      "  0%|          | 0/7.8125 [00:00<?, ?it/s]\u001b[A\n",
      "train loss = 0.0583714:   0%|          | 0/7.8125 [00:00<?, ?it/s]\u001b[A\n",
      "train loss = 0.0583714:   0%|          | 0/7.8125 [00:00<?, ?it/s]\u001b[A\n",
      "train loss = 0.0583714:  13%|█▎        | 1/7.8125 [00:00<00:00,  8.18it/s]\u001b[A"
     ]
    },
    {
     "name": "stdout",
     "output_type": "stream",
     "text": [
      "Epoch: 60, Training Loss:   0.0651\n"
     ]
    },
    {
     "name": "stderr",
     "output_type": "stream",
     "text": [
      "\n",
      "train loss = 0.0410992:  13%|█▎        | 1/7.8125 [00:00<00:00,  8.18it/s]\u001b[A\n",
      "train loss = 0.0410992:  13%|█▎        | 1/7.8125 [00:00<00:00,  8.18it/s]\u001b[A\n",
      "train loss = 0.0410992:  26%|██▌       | 2/7.8125 [00:00<00:00,  8.41it/s]\u001b[A\n",
      "train loss = 0.0367240:  26%|██▌       | 2/7.8125 [00:00<00:00,  8.41it/s]\u001b[A\n",
      "train loss = 0.0367240:  26%|██▌       | 2/7.8125 [00:00<00:00,  8.41it/s]\u001b[A\n",
      "train loss = 0.0367240:  38%|███▊      | 3/7.8125 [00:00<00:00,  8.61it/s]\u001b[A\n",
      "train loss = 0.0479709:  38%|███▊      | 3/7.8125 [00:00<00:00,  8.61it/s]\u001b[A\n",
      "train loss = 0.0479709:  38%|███▊      | 3/7.8125 [00:00<00:00,  8.61it/s]\u001b[A\n",
      "train loss = 0.0479709:  51%|█████     | 4/7.8125 [00:00<00:00,  8.71it/s]\u001b[A\n",
      "train loss = 0.0568340:  51%|█████     | 4/7.8125 [00:00<00:00,  8.71it/s]\u001b[A\n",
      "train loss = 0.0568340:  51%|█████     | 4/7.8125 [00:00<00:00,  8.71it/s]\u001b[A\n",
      "train loss = 0.0568340:  64%|██████▍   | 5/7.8125 [00:00<00:00,  8.79it/s]\u001b[A\n",
      "train loss = 0.0487134:  64%|██████▍   | 5/7.8125 [00:00<00:00,  8.79it/s]\u001b[A\n",
      "train loss = 0.0487134:  64%|██████▍   | 5/7.8125 [00:00<00:00,  8.79it/s]\u001b[A\n",
      "train loss = 0.0487134:  77%|███████▋  | 6/7.8125 [00:00<00:00,  8.88it/s]\u001b[A\n",
      "train loss = 0.0439806:  77%|███████▋  | 6/7.8125 [00:00<00:00,  8.88it/s]\u001b[A\n",
      "train loss = 0.0439806:  77%|███████▋  | 6/7.8125 [00:00<00:00,  8.88it/s]\u001b[A\n",
      "train loss = 0.0439806:  90%|████████▉ | 7/7.8125 [00:00<00:00,  8.93it/s]\u001b[A\n",
      "train loss = 0.0522121:  90%|████████▉ | 7/7.8125 [00:00<00:00,  8.93it/s]\u001b[A\n",
      "train loss = 0.0522121:  90%|████████▉ | 7/7.8125 [00:00<00:00,  8.93it/s]\u001b[A\n",
      "train loss = 0.0522121: : 8it [00:00,  9.05it/s]                          \u001b[A\n",
      "  0%|          | 0/7.8125 [00:00<?, ?it/s]\u001b[A\n",
      "train loss = 0.0397521:   0%|          | 0/7.8125 [00:00<?, ?it/s]\u001b[A\n",
      "train loss = 0.0397521:   0%|          | 0/7.8125 [00:00<?, ?it/s]\u001b[A\n",
      "train loss = 0.0397521:  13%|█▎        | 1/7.8125 [00:00<00:00,  7.89it/s]\u001b[A"
     ]
    },
    {
     "name": "stdout",
     "output_type": "stream",
     "text": [
      "Epoch: 61, Training Loss:   0.0482\n"
     ]
    },
    {
     "name": "stderr",
     "output_type": "stream",
     "text": [
      "\n",
      "train loss = 0.0556704:  13%|█▎        | 1/7.8125 [00:00<00:00,  7.89it/s]\u001b[A\n",
      "train loss = 0.0556704:  13%|█▎        | 1/7.8125 [00:00<00:00,  7.89it/s]\u001b[A\n",
      "train loss = 0.0556704:  26%|██▌       | 2/7.8125 [00:00<00:00,  8.22it/s]\u001b[A\n",
      "train loss = 0.0628260:  26%|██▌       | 2/7.8125 [00:00<00:00,  8.22it/s]\u001b[A\n",
      "train loss = 0.0628260:  26%|██▌       | 2/7.8125 [00:00<00:00,  8.22it/s]\u001b[A\n",
      "train loss = 0.0628260:  38%|███▊      | 3/7.8125 [00:00<00:00,  8.37it/s]\u001b[A\n",
      "train loss = 0.0406156:  38%|███▊      | 3/7.8125 [00:00<00:00,  8.37it/s]\u001b[A\n",
      "train loss = 0.0406156:  38%|███▊      | 3/7.8125 [00:00<00:00,  8.37it/s]\u001b[A\n",
      "train loss = 0.0406156:  51%|█████     | 4/7.8125 [00:00<00:00,  8.53it/s]\u001b[A\n",
      "train loss = 0.0809667:  51%|█████     | 4/7.8125 [00:00<00:00,  8.53it/s]\u001b[A\n",
      "train loss = 0.0809667:  51%|█████     | 4/7.8125 [00:00<00:00,  8.53it/s]\u001b[A\n",
      "train loss = 0.0809667:  64%|██████▍   | 5/7.8125 [00:00<00:00,  8.66it/s]\u001b[A\n",
      "train loss = 0.0446410:  64%|██████▍   | 5/7.8125 [00:00<00:00,  8.66it/s]\u001b[A\n",
      "train loss = 0.0446410:  64%|██████▍   | 5/7.8125 [00:00<00:00,  8.66it/s]\u001b[A\n",
      "train loss = 0.0446410:  77%|███████▋  | 6/7.8125 [00:00<00:00,  8.74it/s]\u001b[A\n",
      "train loss = 0.0410970:  77%|███████▋  | 6/7.8125 [00:00<00:00,  8.74it/s]\u001b[A\n",
      "train loss = 0.0410970:  77%|███████▋  | 6/7.8125 [00:00<00:00,  8.74it/s]\u001b[A\n",
      "train loss = 0.0410970:  90%|████████▉ | 7/7.8125 [00:00<00:00,  8.83it/s]\u001b[A\n",
      "train loss = 0.0583010:  90%|████████▉ | 7/7.8125 [00:00<00:00,  8.83it/s]\u001b[A\n",
      "train loss = 0.0583010:  90%|████████▉ | 7/7.8125 [00:00<00:00,  8.83it/s]\u001b[A\n",
      "train loss = 0.0583010: : 8it [00:00,  8.94it/s]                          \u001b[A\n",
      "  0%|          | 0/7.8125 [00:00<?, ?it/s]\u001b[A\n",
      "train loss = 0.0639982:   0%|          | 0/7.8125 [00:00<?, ?it/s]\u001b[A\n",
      "train loss = 0.0639982:   0%|          | 0/7.8125 [00:00<?, ?it/s]\u001b[A\n",
      "train loss = 0.0639982:  13%|█▎        | 1/7.8125 [00:00<00:00,  8.12it/s]\u001b[A"
     ]
    },
    {
     "name": "stdout",
     "output_type": "stream",
     "text": [
      "Epoch: 62, Training Loss:   0.0530\n"
     ]
    },
    {
     "name": "stderr",
     "output_type": "stream",
     "text": [
      "\n",
      "train loss = 0.0549646:  13%|█▎        | 1/7.8125 [00:00<00:00,  8.12it/s]\u001b[A\n",
      "train loss = 0.0549646:  13%|█▎        | 1/7.8125 [00:00<00:00,  8.12it/s]\u001b[A\n",
      "train loss = 0.0549646:  26%|██▌       | 2/7.8125 [00:00<00:00,  8.37it/s]\u001b[A\n",
      "train loss = 0.0546422:  26%|██▌       | 2/7.8125 [00:00<00:00,  8.37it/s]\u001b[A\n",
      "train loss = 0.0546422:  26%|██▌       | 2/7.8125 [00:00<00:00,  8.37it/s]\u001b[A\n",
      "train loss = 0.0546422:  38%|███▊      | 3/7.8125 [00:00<00:00,  8.49it/s]\u001b[A\n",
      "train loss = 0.0398070:  38%|███▊      | 3/7.8125 [00:00<00:00,  8.49it/s]\u001b[A\n",
      "train loss = 0.0398070:  38%|███▊      | 3/7.8125 [00:00<00:00,  8.49it/s]\u001b[A\n",
      "train loss = 0.0398070:  51%|█████     | 4/7.8125 [00:00<00:00,  8.47it/s]\u001b[A\n",
      "train loss = 0.0434702:  51%|█████     | 4/7.8125 [00:00<00:00,  8.47it/s]\u001b[A\n",
      "train loss = 0.0434702:  51%|█████     | 4/7.8125 [00:00<00:00,  8.47it/s]\u001b[A\n",
      "train loss = 0.0434702:  64%|██████▍   | 5/7.8125 [00:00<00:00,  8.72it/s]\u001b[A\n",
      "train loss = 0.0376651:  64%|██████▍   | 5/7.8125 [00:00<00:00,  8.72it/s]\u001b[A\n",
      "train loss = 0.0376651:  64%|██████▍   | 5/7.8125 [00:00<00:00,  8.72it/s]\u001b[A\n",
      "train loss = 0.0376651:  77%|███████▋  | 6/7.8125 [00:00<00:00,  8.71it/s]\u001b[A\n",
      "train loss = 0.0429217:  77%|███████▋  | 6/7.8125 [00:00<00:00,  8.71it/s]\u001b[A\n",
      "train loss = 0.0429217:  77%|███████▋  | 6/7.8125 [00:00<00:00,  8.71it/s]\u001b[A\n",
      "train loss = 0.0429217:  90%|████████▉ | 7/7.8125 [00:00<00:00,  8.68it/s]\u001b[A\n",
      "train loss = 0.0314195:  90%|████████▉ | 7/7.8125 [00:00<00:00,  8.68it/s]\u001b[A\n",
      "train loss = 0.0314195:  90%|████████▉ | 7/7.8125 [00:00<00:00,  8.68it/s]\u001b[A\n",
      "train loss = 0.0314195: : 8it [00:00,  8.86it/s]                          \u001b[A\n",
      "  0%|          | 0/7.8125 [00:00<?, ?it/s]\u001b[A\n",
      "train loss = 0.0462222:   0%|          | 0/7.8125 [00:00<?, ?it/s]\u001b[A\n",
      "train loss = 0.0462222:   0%|          | 0/7.8125 [00:00<?, ?it/s]\u001b[A\n",
      "train loss = 0.0462222:  13%|█▎        | 1/7.8125 [00:00<00:00,  7.41it/s]\u001b[A"
     ]
    },
    {
     "name": "stdout",
     "output_type": "stream",
     "text": [
      "Epoch: 63, Training Loss:   0.0461\n"
     ]
    },
    {
     "name": "stderr",
     "output_type": "stream",
     "text": [
      "\n",
      "train loss = 0.0555673:  13%|█▎        | 1/7.8125 [00:00<00:00,  7.41it/s]\u001b[A\n",
      "train loss = 0.0555673:  13%|█▎        | 1/7.8125 [00:00<00:00,  7.41it/s]\u001b[A\n",
      "train loss = 0.0555673:  26%|██▌       | 2/7.8125 [00:00<00:00,  7.69it/s]\u001b[A\n",
      "train loss = 0.0656903:  26%|██▌       | 2/7.8125 [00:00<00:00,  7.69it/s]\u001b[A\n",
      "train loss = 0.0656903:  26%|██▌       | 2/7.8125 [00:00<00:00,  7.69it/s]\u001b[A\n",
      "train loss = 0.0656903:  38%|███▊      | 3/7.8125 [00:00<00:00,  8.09it/s]\u001b[A\n",
      "train loss = 0.0509418:  38%|███▊      | 3/7.8125 [00:00<00:00,  8.09it/s]\u001b[A\n",
      "train loss = 0.0509418:  38%|███▊      | 3/7.8125 [00:00<00:00,  8.09it/s]\u001b[A\n",
      "train loss = 0.0509418:  51%|█████     | 4/7.8125 [00:00<00:00,  8.38it/s]\u001b[A\n",
      "train loss = 0.0402588:  51%|█████     | 4/7.8125 [00:00<00:00,  8.38it/s]\u001b[A\n",
      "train loss = 0.0402588:  51%|█████     | 4/7.8125 [00:00<00:00,  8.38it/s]\u001b[A\n",
      "train loss = 0.0402588:  64%|██████▍   | 5/7.8125 [00:00<00:00,  8.43it/s]\u001b[A\n",
      "train loss = 0.0708155:  64%|██████▍   | 5/7.8125 [00:00<00:00,  8.43it/s]\u001b[A\n",
      "train loss = 0.0708155:  64%|██████▍   | 5/7.8125 [00:00<00:00,  8.43it/s]\u001b[A\n",
      "train loss = 0.0708155:  77%|███████▋  | 6/7.8125 [00:00<00:00,  8.75it/s]\u001b[A\n",
      "train loss = 0.0522453:  77%|███████▋  | 6/7.8125 [00:00<00:00,  8.75it/s]\u001b[A\n",
      "train loss = 0.0522453:  77%|███████▋  | 6/7.8125 [00:00<00:00,  8.75it/s]\u001b[A\n",
      "train loss = 0.0522453:  90%|████████▉ | 7/7.8125 [00:00<00:00,  8.94it/s]\u001b[A\n",
      "train loss = 0.0791183:  90%|████████▉ | 7/7.8125 [00:00<00:00,  8.94it/s]\u001b[A\n",
      "train loss = 0.0791183:  90%|████████▉ | 7/7.8125 [00:00<00:00,  8.94it/s]\u001b[A\n",
      "train loss = 0.0791183: : 8it [00:00,  9.16it/s]                          \u001b[A\n",
      "  0%|          | 0/7.8125 [00:00<?, ?it/s]\u001b[A\n",
      "train loss = 0.0733804:   0%|          | 0/7.8125 [00:00<?, ?it/s]\u001b[A\n",
      "train loss = 0.0733804:   0%|          | 0/7.8125 [00:00<?, ?it/s]\u001b[A\n",
      "train loss = 0.0733804:  13%|█▎        | 1/7.8125 [00:00<00:00,  8.14it/s]\u001b[A"
     ]
    },
    {
     "name": "stdout",
     "output_type": "stream",
     "text": [
      "Epoch: 64, Training Loss:   0.0576\n"
     ]
    },
    {
     "name": "stderr",
     "output_type": "stream",
     "text": [
      "\n",
      "train loss = 0.0384779:  13%|█▎        | 1/7.8125 [00:00<00:00,  8.14it/s]\u001b[A\n",
      "train loss = 0.0384779:  13%|█▎        | 1/7.8125 [00:00<00:00,  8.14it/s]\u001b[A\n",
      "train loss = 0.0384779:  26%|██▌       | 2/7.8125 [00:00<00:00,  8.36it/s]\u001b[A\n",
      "train loss = 0.0631910:  26%|██▌       | 2/7.8125 [00:00<00:00,  8.36it/s]\u001b[A\n",
      "train loss = 0.0631910:  26%|██▌       | 2/7.8125 [00:00<00:00,  8.36it/s]\u001b[A\n",
      "train loss = 0.0631910:  38%|███▊      | 3/7.8125 [00:00<00:00,  8.37it/s]\u001b[A\n",
      "train loss = 0.0485021:  38%|███▊      | 3/7.8125 [00:00<00:00,  8.37it/s]\u001b[A\n",
      "train loss = 0.0485021:  38%|███▊      | 3/7.8125 [00:00<00:00,  8.37it/s]\u001b[A\n",
      "train loss = 0.0485021:  51%|█████     | 4/7.8125 [00:00<00:00,  8.54it/s]\u001b[A\n",
      "train loss = 0.0656017:  51%|█████     | 4/7.8125 [00:00<00:00,  8.54it/s]\u001b[A\n",
      "train loss = 0.0656017:  51%|█████     | 4/7.8125 [00:00<00:00,  8.54it/s]\u001b[A\n",
      "train loss = 0.0656017:  64%|██████▍   | 5/7.8125 [00:00<00:00,  8.79it/s]\u001b[A\n",
      "train loss = 0.0733098:  64%|██████▍   | 5/7.8125 [00:00<00:00,  8.79it/s]\u001b[A\n",
      "train loss = 0.0733098:  64%|██████▍   | 5/7.8125 [00:00<00:00,  8.79it/s]\u001b[A\n",
      "train loss = 0.0733098:  77%|███████▋  | 6/7.8125 [00:00<00:00,  8.59it/s]\u001b[A\n",
      "train loss = 0.1108006:  77%|███████▋  | 6/7.8125 [00:00<00:00,  8.59it/s]\u001b[A\n",
      "train loss = 0.1108006:  77%|███████▋  | 6/7.8125 [00:00<00:00,  8.59it/s]\u001b[A\n",
      "train loss = 0.1108006:  90%|████████▉ | 7/7.8125 [00:00<00:00,  8.66it/s]\u001b[A\n",
      "train loss = 0.0398187:  90%|████████▉ | 7/7.8125 [00:00<00:00,  8.66it/s]\u001b[A\n",
      "train loss = 0.0398187:  90%|████████▉ | 7/7.8125 [00:00<00:00,  8.66it/s]\u001b[A\n",
      "train loss = 0.0398187: : 8it [00:00,  8.98it/s]                          \u001b[A\n",
      "  0%|          | 0/7.8125 [00:00<?, ?it/s]\u001b[A\n",
      "train loss = 0.0413469:   0%|          | 0/7.8125 [00:00<?, ?it/s]\u001b[A\n",
      "train loss = 0.0413469:   0%|          | 0/7.8125 [00:00<?, ?it/s]\u001b[A\n",
      "train loss = 0.0413469:  13%|█▎        | 1/7.8125 [00:00<00:00,  7.88it/s]\u001b[A"
     ]
    },
    {
     "name": "stdout",
     "output_type": "stream",
     "text": [
      "Epoch: 65, Training Loss:   0.0641\n"
     ]
    },
    {
     "name": "stderr",
     "output_type": "stream",
     "text": [
      "\n",
      "train loss = 0.0723891:  13%|█▎        | 1/7.8125 [00:00<00:00,  7.88it/s]\u001b[A\n",
      "train loss = 0.0723891:  13%|█▎        | 1/7.8125 [00:00<00:00,  7.88it/s]\u001b[A\n",
      "train loss = 0.0723891:  26%|██▌       | 2/7.8125 [00:00<00:00,  8.03it/s]\u001b[A\n",
      "train loss = 0.0664893:  26%|██▌       | 2/7.8125 [00:00<00:00,  8.03it/s]\u001b[A\n",
      "train loss = 0.0664893:  26%|██▌       | 2/7.8125 [00:00<00:00,  8.03it/s]\u001b[A\n",
      "train loss = 0.0664893:  38%|███▊      | 3/7.8125 [00:00<00:00,  8.35it/s]\u001b[A\n",
      "train loss = 0.0373281:  38%|███▊      | 3/7.8125 [00:00<00:00,  8.35it/s]\u001b[A\n",
      "train loss = 0.0373281:  38%|███▊      | 3/7.8125 [00:00<00:00,  8.35it/s]\u001b[A\n",
      "train loss = 0.0373281:  51%|█████     | 4/7.8125 [00:00<00:00,  8.43it/s]\u001b[A\n",
      "train loss = 0.0405225:  51%|█████     | 4/7.8125 [00:00<00:00,  8.43it/s]\u001b[A\n",
      "train loss = 0.0405225:  51%|█████     | 4/7.8125 [00:00<00:00,  8.43it/s]\u001b[A\n",
      "train loss = 0.0405225:  64%|██████▍   | 5/7.8125 [00:00<00:00,  8.61it/s]\u001b[A\n",
      "train loss = 0.0575790:  64%|██████▍   | 5/7.8125 [00:00<00:00,  8.61it/s]\u001b[A\n",
      "train loss = 0.0575790:  64%|██████▍   | 5/7.8125 [00:00<00:00,  8.61it/s]\u001b[A\n",
      "train loss = 0.0575790:  77%|███████▋  | 6/7.8125 [00:00<00:00,  8.76it/s]\u001b[A\n",
      "train loss = 0.0821596:  77%|███████▋  | 6/7.8125 [00:00<00:00,  8.76it/s]\u001b[A\n",
      "train loss = 0.0821596:  77%|███████▋  | 6/7.8125 [00:00<00:00,  8.76it/s]\u001b[A\n",
      "train loss = 0.0821596:  90%|████████▉ | 7/7.8125 [00:00<00:00,  8.65it/s]\u001b[A\n",
      "train loss = 0.0339053:  90%|████████▉ | 7/7.8125 [00:00<00:00,  8.65it/s]\u001b[A\n",
      "train loss = 0.0339053:  90%|████████▉ | 7/7.8125 [00:00<00:00,  8.65it/s]\u001b[A\n",
      "train loss = 0.0339053: : 8it [00:00,  8.98it/s]                          \u001b[A\n",
      "  0%|          | 0/7.8125 [00:00<?, ?it/s]\u001b[A\n",
      "train loss = 0.0388644:   0%|          | 0/7.8125 [00:00<?, ?it/s]\u001b[A\n",
      "train loss = 0.0388644:   0%|          | 0/7.8125 [00:00<?, ?it/s]\u001b[A\n",
      "train loss = 0.0388644:  13%|█▎        | 1/7.8125 [00:00<00:00,  7.87it/s]\u001b[A"
     ]
    },
    {
     "name": "stdout",
     "output_type": "stream",
     "text": [
      "Epoch: 66, Training Loss:   0.0540\n"
     ]
    },
    {
     "name": "stderr",
     "output_type": "stream",
     "text": [
      "\n",
      "train loss = 0.0454010:  13%|█▎        | 1/7.8125 [00:00<00:00,  7.87it/s]\u001b[A\n",
      "train loss = 0.0454010:  13%|█▎        | 1/7.8125 [00:00<00:00,  7.87it/s]\u001b[A\n",
      "train loss = 0.0454010:  26%|██▌       | 2/7.8125 [00:00<00:00,  8.16it/s]\u001b[A\n",
      "train loss = 0.0366458:  26%|██▌       | 2/7.8125 [00:00<00:00,  8.16it/s]\u001b[A\n",
      "train loss = 0.0366458:  26%|██▌       | 2/7.8125 [00:00<00:00,  8.16it/s]\u001b[A\n",
      "train loss = 0.0366458:  38%|███▊      | 3/7.8125 [00:00<00:00,  8.52it/s]\u001b[A\n",
      "train loss = 0.0411904:  38%|███▊      | 3/7.8125 [00:00<00:00,  8.52it/s]\u001b[A\n",
      "train loss = 0.0411904:  38%|███▊      | 3/7.8125 [00:00<00:00,  8.52it/s]\u001b[A\n",
      "train loss = 0.0411904:  51%|█████     | 4/7.8125 [00:00<00:00,  8.73it/s]\u001b[A\n",
      "train loss = 0.0379417:  51%|█████     | 4/7.8125 [00:00<00:00,  8.73it/s]\u001b[A\n",
      "train loss = 0.0379417:  51%|█████     | 4/7.8125 [00:00<00:00,  8.73it/s]\u001b[A\n",
      "train loss = 0.0379417:  64%|██████▍   | 5/7.8125 [00:00<00:00,  8.76it/s]\u001b[A\n",
      "train loss = 0.0369784:  64%|██████▍   | 5/7.8125 [00:00<00:00,  8.76it/s]\u001b[A\n",
      "train loss = 0.0369784:  64%|██████▍   | 5/7.8125 [00:00<00:00,  8.76it/s]\u001b[A\n",
      "train loss = 0.0369784:  77%|███████▋  | 6/7.8125 [00:00<00:00,  8.98it/s]\u001b[A\n",
      "train loss = 0.0368399:  77%|███████▋  | 6/7.8125 [00:00<00:00,  8.98it/s]\u001b[A\n",
      "train loss = 0.0368399:  77%|███████▋  | 6/7.8125 [00:00<00:00,  8.98it/s]\u001b[A\n",
      "train loss = 0.0368399:  90%|████████▉ | 7/7.8125 [00:00<00:00,  8.89it/s]\u001b[A\n",
      "train loss = 0.0312347:  90%|████████▉ | 7/7.8125 [00:00<00:00,  8.89it/s]\u001b[A\n",
      "train loss = 0.0312347:  90%|████████▉ | 7/7.8125 [00:00<00:00,  8.89it/s]\u001b[A\n",
      "train loss = 0.0312347: : 8it [00:00,  9.02it/s]                          \u001b[A\n",
      "  0%|          | 0/7.8125 [00:00<?, ?it/s]\u001b[A\n",
      "train loss = 0.0525324:   0%|          | 0/7.8125 [00:00<?, ?it/s]\u001b[A\n",
      "train loss = 0.0525324:   0%|          | 0/7.8125 [00:00<?, ?it/s]\u001b[A\n",
      "train loss = 0.0525324:  13%|█▎        | 1/7.8125 [00:00<00:00,  7.80it/s]\u001b[A"
     ]
    },
    {
     "name": "stdout",
     "output_type": "stream",
     "text": [
      "Epoch: 67, Training Loss:   0.0381\n"
     ]
    },
    {
     "name": "stderr",
     "output_type": "stream",
     "text": [
      "\n",
      "train loss = 0.0627391:  13%|█▎        | 1/7.8125 [00:00<00:00,  7.80it/s]\u001b[A\n",
      "train loss = 0.0627391:  13%|█▎        | 1/7.8125 [00:00<00:00,  7.80it/s]\u001b[A\n",
      "train loss = 0.0627391:  26%|██▌       | 2/7.8125 [00:00<00:00,  8.16it/s]\u001b[A\n",
      "train loss = 0.0392950:  26%|██▌       | 2/7.8125 [00:00<00:00,  8.16it/s]\u001b[A\n",
      "train loss = 0.0392950:  26%|██▌       | 2/7.8125 [00:00<00:00,  8.16it/s]\u001b[A\n",
      "train loss = 0.0392950:  38%|███▊      | 3/7.8125 [00:00<00:00,  8.47it/s]\u001b[A\n",
      "train loss = 0.0360541:  38%|███▊      | 3/7.8125 [00:00<00:00,  8.47it/s]\u001b[A\n",
      "train loss = 0.0360541:  38%|███▊      | 3/7.8125 [00:00<00:00,  8.47it/s]\u001b[A\n",
      "train loss = 0.0360541:  51%|█████     | 4/7.8125 [00:00<00:00,  8.63it/s]\u001b[A\n",
      "train loss = 0.0294983:  51%|█████     | 4/7.8125 [00:00<00:00,  8.63it/s]\u001b[A\n",
      "train loss = 0.0294983:  51%|█████     | 4/7.8125 [00:00<00:00,  8.63it/s]\u001b[A\n",
      "train loss = 0.0294983:  64%|██████▍   | 5/7.8125 [00:00<00:00,  8.80it/s]\u001b[A\n",
      "train loss = 0.0346962:  64%|██████▍   | 5/7.8125 [00:00<00:00,  8.80it/s]\u001b[A\n",
      "train loss = 0.0346962:  64%|██████▍   | 5/7.8125 [00:00<00:00,  8.80it/s]\u001b[A\n",
      "train loss = 0.0346962:  77%|███████▋  | 6/7.8125 [00:00<00:00,  8.90it/s]\u001b[A\n",
      "train loss = 0.0439128:  77%|███████▋  | 6/7.8125 [00:00<00:00,  8.90it/s]\u001b[A\n",
      "train loss = 0.0439128:  77%|███████▋  | 6/7.8125 [00:00<00:00,  8.90it/s]\u001b[A\n",
      "train loss = 0.0439128:  90%|████████▉ | 7/7.8125 [00:00<00:00,  9.03it/s]\u001b[A\n",
      "train loss = 0.0384786:  90%|████████▉ | 7/7.8125 [00:00<00:00,  9.03it/s]\u001b[A\n",
      "train loss = 0.0384786:  90%|████████▉ | 7/7.8125 [00:00<00:00,  9.03it/s]\u001b[A\n",
      "train loss = 0.0384786: : 8it [00:00,  9.23it/s]                          \u001b[A\n",
      "  0%|          | 0/7.8125 [00:00<?, ?it/s]\u001b[A\n",
      "train loss = 0.0316615:   0%|          | 0/7.8125 [00:00<?, ?it/s]\u001b[A\n",
      "train loss = 0.0316615:   0%|          | 0/7.8125 [00:00<?, ?it/s]\u001b[A\n",
      "train loss = 0.0316615:  13%|█▎        | 1/7.8125 [00:00<00:00,  7.25it/s]\u001b[A"
     ]
    },
    {
     "name": "stdout",
     "output_type": "stream",
     "text": [
      "Epoch: 68, Training Loss:   0.0422\n"
     ]
    },
    {
     "name": "stderr",
     "output_type": "stream",
     "text": [
      "\n",
      "train loss = 0.0353820:  13%|█▎        | 1/7.8125 [00:00<00:00,  7.25it/s]\u001b[A\n",
      "train loss = 0.0353820:  13%|█▎        | 1/7.8125 [00:00<00:00,  7.25it/s]\u001b[A\n",
      "train loss = 0.0353820:  26%|██▌       | 2/7.8125 [00:00<00:00,  7.62it/s]\u001b[A\n",
      "train loss = 0.0400516:  26%|██▌       | 2/7.8125 [00:00<00:00,  7.62it/s]\u001b[A\n",
      "train loss = 0.0400516:  26%|██▌       | 2/7.8125 [00:00<00:00,  7.62it/s]\u001b[A\n",
      "train loss = 0.0400516:  38%|███▊      | 3/7.8125 [00:00<00:00,  7.93it/s]\u001b[A\n",
      "train loss = 0.0376530:  38%|███▊      | 3/7.8125 [00:00<00:00,  7.93it/s]\u001b[A\n",
      "train loss = 0.0376530:  38%|███▊      | 3/7.8125 [00:00<00:00,  7.93it/s]\u001b[A\n",
      "train loss = 0.0376530:  51%|█████     | 4/7.8125 [00:00<00:00,  8.19it/s]\u001b[A\n",
      "train loss = 0.0596041:  51%|█████     | 4/7.8125 [00:00<00:00,  8.19it/s]\u001b[A\n",
      "train loss = 0.0596041:  51%|█████     | 4/7.8125 [00:00<00:00,  8.19it/s]\u001b[A\n",
      "train loss = 0.0596041:  64%|██████▍   | 5/7.8125 [00:00<00:00,  8.48it/s]\u001b[A\n",
      "train loss = 0.0403668:  64%|██████▍   | 5/7.8125 [00:00<00:00,  8.48it/s]\u001b[A\n",
      "train loss = 0.0403668:  64%|██████▍   | 5/7.8125 [00:00<00:00,  8.48it/s]\u001b[A\n",
      "train loss = 0.0403668:  77%|███████▋  | 6/7.8125 [00:00<00:00,  8.73it/s]\u001b[A\n",
      "train loss = 0.0384084:  77%|███████▋  | 6/7.8125 [00:00<00:00,  8.73it/s]\u001b[A\n",
      "train loss = 0.0384084:  77%|███████▋  | 6/7.8125 [00:00<00:00,  8.73it/s]\u001b[A\n",
      "train loss = 0.0384084:  90%|████████▉ | 7/7.8125 [00:00<00:00,  8.78it/s]\u001b[A\n",
      "train loss = 0.0586893:  90%|████████▉ | 7/7.8125 [00:00<00:00,  8.78it/s]\u001b[A\n",
      "train loss = 0.0586893:  90%|████████▉ | 7/7.8125 [00:00<00:00,  8.78it/s]\u001b[A\n",
      "train loss = 0.0586893: : 8it [00:00,  9.03it/s]                          \u001b[A\n",
      "  0%|          | 0/7.8125 [00:00<?, ?it/s]\u001b[A\n",
      "train loss = 0.0388902:   0%|          | 0/7.8125 [00:00<?, ?it/s]\u001b[A\n",
      "train loss = 0.0388902:   0%|          | 0/7.8125 [00:00<?, ?it/s]\u001b[A\n",
      "train loss = 0.0388902:  13%|█▎        | 1/7.8125 [00:00<00:00,  8.35it/s]\u001b[A"
     ]
    },
    {
     "name": "stdout",
     "output_type": "stream",
     "text": [
      "Epoch: 69, Training Loss:   0.0427\n"
     ]
    },
    {
     "name": "stderr",
     "output_type": "stream",
     "text": [
      "\n",
      "train loss = 0.0482844:  13%|█▎        | 1/7.8125 [00:00<00:00,  8.35it/s]\u001b[A\n",
      "train loss = 0.0482844:  13%|█▎        | 1/7.8125 [00:00<00:00,  8.35it/s]\u001b[A\n",
      "train loss = 0.0482844:  26%|██▌       | 2/7.8125 [00:00<00:00,  8.61it/s]\u001b[A\n",
      "train loss = 0.0658102:  26%|██▌       | 2/7.8125 [00:00<00:00,  8.61it/s]\u001b[A\n",
      "train loss = 0.0658102:  26%|██▌       | 2/7.8125 [00:00<00:00,  8.61it/s]\u001b[A\n",
      "train loss = 0.0658102:  38%|███▊      | 3/7.8125 [00:00<00:00,  8.63it/s]\u001b[A\n",
      "train loss = 0.0282348:  38%|███▊      | 3/7.8125 [00:00<00:00,  8.63it/s]\u001b[A\n",
      "train loss = 0.0282348:  38%|███▊      | 3/7.8125 [00:00<00:00,  8.63it/s]\u001b[A\n",
      "train loss = 0.0282348:  51%|█████     | 4/7.8125 [00:00<00:00,  8.86it/s]\u001b[A\n",
      "train loss = 0.0632082:  51%|█████     | 4/7.8125 [00:00<00:00,  8.86it/s]\u001b[A\n",
      "train loss = 0.0632082:  51%|█████     | 4/7.8125 [00:00<00:00,  8.86it/s]\u001b[A\n",
      "train loss = 0.0632082:  64%|██████▍   | 5/7.8125 [00:00<00:00,  8.84it/s]\u001b[A\n",
      "train loss = 0.0531008:  64%|██████▍   | 5/7.8125 [00:00<00:00,  8.84it/s]\u001b[A\n",
      "train loss = 0.0531008:  64%|██████▍   | 5/7.8125 [00:00<00:00,  8.84it/s]\u001b[A\n",
      "train loss = 0.0531008:  77%|███████▋  | 6/7.8125 [00:00<00:00,  8.94it/s]\u001b[A\n",
      "train loss = 0.0566216:  77%|███████▋  | 6/7.8125 [00:00<00:00,  8.94it/s]\u001b[A\n",
      "train loss = 0.0566216:  77%|███████▋  | 6/7.8125 [00:00<00:00,  8.94it/s]\u001b[A\n",
      "train loss = 0.0566216:  90%|████████▉ | 7/7.8125 [00:00<00:00,  9.07it/s]\u001b[A\n",
      "train loss = 0.0360280:  90%|████████▉ | 7/7.8125 [00:00<00:00,  9.07it/s]\u001b[A\n",
      "train loss = 0.0360280:  90%|████████▉ | 7/7.8125 [00:00<00:00,  9.07it/s]\u001b[A\n",
      "train loss = 0.0360280: : 8it [00:00,  9.18it/s]                          \u001b[A\n",
      "  0%|          | 0/7.8125 [00:00<?, ?it/s]\u001b[A\n",
      "train loss = 0.0616852:   0%|          | 0/7.8125 [00:00<?, ?it/s]\u001b[A\n",
      "train loss = 0.0616852:   0%|          | 0/7.8125 [00:00<?, ?it/s]\u001b[A\n",
      "train loss = 0.0616852:  13%|█▎        | 1/7.8125 [00:00<00:00,  7.90it/s]\u001b[A"
     ]
    },
    {
     "name": "stdout",
     "output_type": "stream",
     "text": [
      "Epoch: 70, Training Loss:   0.0488\n"
     ]
    },
    {
     "name": "stderr",
     "output_type": "stream",
     "text": [
      "\n",
      "train loss = 0.0545717:  13%|█▎        | 1/7.8125 [00:00<00:00,  7.90it/s]\u001b[A\n",
      "train loss = 0.0545717:  13%|█▎        | 1/7.8125 [00:00<00:00,  7.90it/s]\u001b[A\n",
      "train loss = 0.0545717:  26%|██▌       | 2/7.8125 [00:00<00:00,  8.26it/s]\u001b[A\n",
      "train loss = 0.0537915:  26%|██▌       | 2/7.8125 [00:00<00:00,  8.26it/s]\u001b[A\n",
      "train loss = 0.0537915:  26%|██▌       | 2/7.8125 [00:00<00:00,  8.26it/s]\u001b[A\n",
      "train loss = 0.0537915:  38%|███▊      | 3/7.8125 [00:00<00:00,  8.39it/s]\u001b[A\n",
      "train loss = 0.0438226:  38%|███▊      | 3/7.8125 [00:00<00:00,  8.39it/s]\u001b[A\n",
      "train loss = 0.0438226:  38%|███▊      | 3/7.8125 [00:00<00:00,  8.39it/s]\u001b[A\n",
      "train loss = 0.0438226:  51%|█████     | 4/7.8125 [00:00<00:00,  8.53it/s]\u001b[A\n",
      "train loss = 0.0428397:  51%|█████     | 4/7.8125 [00:00<00:00,  8.53it/s]\u001b[A\n",
      "train loss = 0.0428397:  51%|█████     | 4/7.8125 [00:00<00:00,  8.53it/s]\u001b[A\n",
      "train loss = 0.0428397:  64%|██████▍   | 5/7.8125 [00:00<00:00,  8.79it/s]\u001b[A\n",
      "train loss = 0.0356792:  64%|██████▍   | 5/7.8125 [00:00<00:00,  8.79it/s]\u001b[A\n",
      "train loss = 0.0356792:  64%|██████▍   | 5/7.8125 [00:00<00:00,  8.79it/s]\u001b[A\n",
      "train loss = 0.0356792:  77%|███████▋  | 6/7.8125 [00:00<00:00,  8.95it/s]\u001b[A\n",
      "train loss = 0.0349857:  77%|███████▋  | 6/7.8125 [00:00<00:00,  8.95it/s]\u001b[A\n",
      "train loss = 0.0349857:  77%|███████▋  | 6/7.8125 [00:00<00:00,  8.95it/s]\u001b[A\n",
      "train loss = 0.0349857:  90%|████████▉ | 7/7.8125 [00:00<00:00,  9.10it/s]\u001b[A\n",
      "train loss = 0.0326359:  90%|████████▉ | 7/7.8125 [00:00<00:00,  9.10it/s]\u001b[A\n",
      "train loss = 0.0326359:  90%|████████▉ | 7/7.8125 [00:00<00:00,  9.10it/s]\u001b[A\n",
      "train loss = 0.0326359: : 8it [00:00,  9.11it/s]                          \u001b[A\n",
      "  0%|          | 0/7.8125 [00:00<?, ?it/s]\u001b[A\n",
      "train loss = 0.0402947:   0%|          | 0/7.8125 [00:00<?, ?it/s]\u001b[A\n",
      "train loss = 0.0402947:   0%|          | 0/7.8125 [00:00<?, ?it/s]\u001b[A\n",
      "train loss = 0.0402947:  13%|█▎        | 1/7.8125 [00:00<00:00,  8.12it/s]\u001b[A"
     ]
    },
    {
     "name": "stdout",
     "output_type": "stream",
     "text": [
      "Epoch: 71, Training Loss:   0.0450\n"
     ]
    },
    {
     "name": "stderr",
     "output_type": "stream",
     "text": [
      "\n",
      "train loss = 0.0404092:  13%|█▎        | 1/7.8125 [00:00<00:00,  8.12it/s]\u001b[A\n",
      "train loss = 0.0404092:  13%|█▎        | 1/7.8125 [00:00<00:00,  8.12it/s]\u001b[A\n",
      "train loss = 0.0404092:  26%|██▌       | 2/7.8125 [00:00<00:00,  8.21it/s]\u001b[A\n",
      "train loss = 0.0417580:  26%|██▌       | 2/7.8125 [00:00<00:00,  8.21it/s]\u001b[A\n",
      "train loss = 0.0417580:  26%|██▌       | 2/7.8125 [00:00<00:00,  8.21it/s]\u001b[A\n",
      "train loss = 0.0417580:  38%|███▊      | 3/7.8125 [00:00<00:00,  8.30it/s]\u001b[A\n",
      "train loss = 0.0432235:  38%|███▊      | 3/7.8125 [00:00<00:00,  8.30it/s]\u001b[A\n",
      "train loss = 0.0432235:  38%|███▊      | 3/7.8125 [00:00<00:00,  8.30it/s]\u001b[A\n",
      "train loss = 0.0432235:  51%|█████     | 4/7.8125 [00:00<00:00,  8.53it/s]\u001b[A\n",
      "train loss = 0.0378387:  51%|█████     | 4/7.8125 [00:00<00:00,  8.53it/s]\u001b[A\n",
      "train loss = 0.0378387:  51%|█████     | 4/7.8125 [00:00<00:00,  8.53it/s]\u001b[A\n",
      "train loss = 0.0378387:  64%|██████▍   | 5/7.8125 [00:00<00:00,  8.53it/s]\u001b[A\n",
      "train loss = 0.0520365:  64%|██████▍   | 5/7.8125 [00:00<00:00,  8.53it/s]\u001b[A\n",
      "train loss = 0.0520365:  64%|██████▍   | 5/7.8125 [00:00<00:00,  8.53it/s]\u001b[A\n",
      "train loss = 0.0520365:  77%|███████▋  | 6/7.8125 [00:00<00:00,  8.73it/s]\u001b[A\n",
      "train loss = 0.0316676:  77%|███████▋  | 6/7.8125 [00:00<00:00,  8.73it/s]\u001b[A\n",
      "train loss = 0.0316676:  77%|███████▋  | 6/7.8125 [00:00<00:00,  8.73it/s]\u001b[A\n",
      "train loss = 0.0316676:  90%|████████▉ | 7/7.8125 [00:00<00:00,  8.91it/s]\u001b[A\n",
      "train loss = 0.0415495:  90%|████████▉ | 7/7.8125 [00:00<00:00,  8.91it/s]\u001b[A\n",
      "train loss = 0.0415495:  90%|████████▉ | 7/7.8125 [00:00<00:00,  8.91it/s]\u001b[A\n",
      "train loss = 0.0415495: : 8it [00:00,  8.89it/s]                          \u001b[A\n",
      "  0%|          | 0/7.8125 [00:00<?, ?it/s]\u001b[A\n",
      "train loss = 0.0276794:   0%|          | 0/7.8125 [00:00<?, ?it/s]\u001b[A\n",
      "train loss = 0.0276794:   0%|          | 0/7.8125 [00:00<?, ?it/s]\u001b[A\n",
      "train loss = 0.0276794:  13%|█▎        | 1/7.8125 [00:00<00:00,  7.68it/s]\u001b[A"
     ]
    },
    {
     "name": "stdout",
     "output_type": "stream",
     "text": [
      "Epoch: 72, Training Loss:   0.0411\n"
     ]
    },
    {
     "name": "stderr",
     "output_type": "stream",
     "text": [
      "\n",
      "train loss = 0.0418672:  13%|█▎        | 1/7.8125 [00:00<00:00,  7.68it/s]\u001b[A\n",
      "train loss = 0.0418672:  13%|█▎        | 1/7.8125 [00:00<00:00,  7.68it/s]\u001b[A\n",
      "train loss = 0.0418672:  26%|██▌       | 2/7.8125 [00:00<00:00,  8.10it/s]\u001b[A\n",
      "train loss = 0.0326203:  26%|██▌       | 2/7.8125 [00:00<00:00,  8.10it/s]\u001b[A\n",
      "train loss = 0.0326203:  26%|██▌       | 2/7.8125 [00:00<00:00,  8.10it/s]\u001b[A\n",
      "train loss = 0.0326203:  38%|███▊      | 3/7.8125 [00:00<00:00,  8.26it/s]\u001b[A\n",
      "train loss = 0.0378442:  38%|███▊      | 3/7.8125 [00:00<00:00,  8.26it/s]\u001b[A\n",
      "train loss = 0.0378442:  38%|███▊      | 3/7.8125 [00:00<00:00,  8.26it/s]\u001b[A\n",
      "train loss = 0.0378442:  51%|█████     | 4/7.8125 [00:00<00:00,  8.49it/s]\u001b[A\n",
      "train loss = 0.0496996:  51%|█████     | 4/7.8125 [00:00<00:00,  8.49it/s]\u001b[A\n",
      "train loss = 0.0496996:  51%|█████     | 4/7.8125 [00:00<00:00,  8.49it/s]\u001b[A\n",
      "train loss = 0.0496996:  64%|██████▍   | 5/7.8125 [00:00<00:00,  8.54it/s]\u001b[A\n",
      "train loss = 0.0297824:  64%|██████▍   | 5/7.8125 [00:00<00:00,  8.54it/s]\u001b[A\n",
      "train loss = 0.0297824:  64%|██████▍   | 5/7.8125 [00:00<00:00,  8.54it/s]\u001b[A\n",
      "train loss = 0.0297824:  77%|███████▋  | 6/7.8125 [00:00<00:00,  8.60it/s]\u001b[A\n",
      "train loss = 0.0393557:  77%|███████▋  | 6/7.8125 [00:00<00:00,  8.60it/s]\u001b[A\n",
      "train loss = 0.0393557:  77%|███████▋  | 6/7.8125 [00:00<00:00,  8.60it/s]\u001b[A\n",
      "train loss = 0.0393557:  90%|████████▉ | 7/7.8125 [00:00<00:00,  8.80it/s]\u001b[A\n",
      "train loss = 0.0490760:  90%|████████▉ | 7/7.8125 [00:00<00:00,  8.80it/s]\u001b[A\n",
      "train loss = 0.0490760:  90%|████████▉ | 7/7.8125 [00:00<00:00,  8.80it/s]\u001b[A\n",
      "train loss = 0.0490760: : 8it [00:00,  9.02it/s]                          \u001b[A\n",
      "  0%|          | 0/7.8125 [00:00<?, ?it/s]\u001b[A\n",
      "train loss = 0.0458769:   0%|          | 0/7.8125 [00:00<?, ?it/s]\u001b[A\n",
      "train loss = 0.0458769:   0%|          | 0/7.8125 [00:00<?, ?it/s]\u001b[A\n",
      "train loss = 0.0458769:  13%|█▎        | 1/7.8125 [00:00<00:00,  7.77it/s]\u001b[A"
     ]
    },
    {
     "name": "stdout",
     "output_type": "stream",
     "text": [
      "Epoch: 73, Training Loss:   0.0385\n"
     ]
    },
    {
     "name": "stderr",
     "output_type": "stream",
     "text": [
      "\n",
      "train loss = 0.0479379:  13%|█▎        | 1/7.8125 [00:00<00:00,  7.77it/s]\u001b[A\n",
      "train loss = 0.0479379:  13%|█▎        | 1/7.8125 [00:00<00:00,  7.77it/s]\u001b[A\n",
      "train loss = 0.0479379:  26%|██▌       | 2/7.8125 [00:00<00:00,  8.17it/s]\u001b[A\n",
      "train loss = 0.0584404:  26%|██▌       | 2/7.8125 [00:00<00:00,  8.17it/s]\u001b[A\n",
      "train loss = 0.0584404:  26%|██▌       | 2/7.8125 [00:00<00:00,  8.17it/s]\u001b[A\n",
      "train loss = 0.0584404:  38%|███▊      | 3/7.8125 [00:00<00:00,  8.38it/s]\u001b[A\n",
      "train loss = 0.0282127:  38%|███▊      | 3/7.8125 [00:00<00:00,  8.38it/s]\u001b[A\n",
      "train loss = 0.0282127:  38%|███▊      | 3/7.8125 [00:00<00:00,  8.38it/s]\u001b[A\n",
      "train loss = 0.0282127:  51%|█████     | 4/7.8125 [00:00<00:00,  8.46it/s]\u001b[A\n",
      "train loss = 0.0373344:  51%|█████     | 4/7.8125 [00:00<00:00,  8.46it/s]\u001b[A\n",
      "train loss = 0.0373344:  51%|█████     | 4/7.8125 [00:00<00:00,  8.46it/s]\u001b[A\n",
      "train loss = 0.0373344:  64%|██████▍   | 5/7.8125 [00:00<00:00,  8.48it/s]\u001b[A\n",
      "train loss = 0.0356695:  64%|██████▍   | 5/7.8125 [00:00<00:00,  8.48it/s]\u001b[A\n",
      "train loss = 0.0356695:  64%|██████▍   | 5/7.8125 [00:00<00:00,  8.48it/s]\u001b[A\n",
      "train loss = 0.0356695:  77%|███████▋  | 6/7.8125 [00:00<00:00,  8.68it/s]\u001b[A\n",
      "train loss = 0.0528423:  77%|███████▋  | 6/7.8125 [00:00<00:00,  8.68it/s]\u001b[A\n",
      "train loss = 0.0528423:  77%|███████▋  | 6/7.8125 [00:00<00:00,  8.68it/s]\u001b[A\n",
      "train loss = 0.0528423:  90%|████████▉ | 7/7.8125 [00:00<00:00,  8.91it/s]\u001b[A\n",
      "train loss = 0.0537528:  90%|████████▉ | 7/7.8125 [00:00<00:00,  8.91it/s]\u001b[A\n",
      "train loss = 0.0537528:  90%|████████▉ | 7/7.8125 [00:00<00:00,  8.91it/s]\u001b[A\n",
      "train loss = 0.0537528: : 8it [00:00,  8.92it/s]                          \u001b[A\n",
      "  0%|          | 0/7.8125 [00:00<?, ?it/s]\u001b[A\n",
      "train loss = 0.0321174:   0%|          | 0/7.8125 [00:00<?, ?it/s]\u001b[A\n",
      "train loss = 0.0321174:   0%|          | 0/7.8125 [00:00<?, ?it/s]\u001b[A\n",
      "train loss = 0.0321174:  13%|█▎        | 1/7.8125 [00:00<00:00,  7.92it/s]\u001b[A"
     ]
    },
    {
     "name": "stdout",
     "output_type": "stream",
     "text": [
      "Epoch: 74, Training Loss:   0.0450\n"
     ]
    },
    {
     "name": "stderr",
     "output_type": "stream",
     "text": [
      "\n",
      "train loss = 0.0403998:  13%|█▎        | 1/7.8125 [00:00<00:00,  7.92it/s]\u001b[A\n",
      "train loss = 0.0403998:  13%|█▎        | 1/7.8125 [00:00<00:00,  7.92it/s]\u001b[A\n",
      "train loss = 0.0403998:  26%|██▌       | 2/7.8125 [00:00<00:00,  8.34it/s]\u001b[A\n",
      "train loss = 0.0396730:  26%|██▌       | 2/7.8125 [00:00<00:00,  8.34it/s]\u001b[A\n",
      "train loss = 0.0396730:  26%|██▌       | 2/7.8125 [00:00<00:00,  8.34it/s]\u001b[A\n",
      "train loss = 0.0396730:  38%|███▊      | 3/7.8125 [00:00<00:00,  8.59it/s]\u001b[A\n",
      "train loss = 0.0396612:  38%|███▊      | 3/7.8125 [00:00<00:00,  8.59it/s]\u001b[A\n",
      "train loss = 0.0396612:  38%|███▊      | 3/7.8125 [00:00<00:00,  8.59it/s]\u001b[A\n",
      "train loss = 0.0396612:  51%|█████     | 4/7.8125 [00:00<00:00,  8.88it/s]\u001b[A\n",
      "train loss = 0.0379901:  51%|█████     | 4/7.8125 [00:00<00:00,  8.88it/s]\u001b[A\n",
      "train loss = 0.0379901:  51%|█████     | 4/7.8125 [00:00<00:00,  8.88it/s]\u001b[A\n",
      "train loss = 0.0379901:  64%|██████▍   | 5/7.8125 [00:00<00:00,  8.79it/s]\u001b[A\n",
      "train loss = 0.0279024:  64%|██████▍   | 5/7.8125 [00:00<00:00,  8.79it/s]\u001b[A\n",
      "train loss = 0.0279024:  64%|██████▍   | 5/7.8125 [00:00<00:00,  8.79it/s]\u001b[A\n",
      "train loss = 0.0279024:  77%|███████▋  | 6/7.8125 [00:00<00:00,  8.74it/s]\u001b[A\n",
      "train loss = 0.1226029:  77%|███████▋  | 6/7.8125 [00:00<00:00,  8.74it/s]\u001b[A\n",
      "train loss = 0.1226029:  77%|███████▋  | 6/7.8125 [00:00<00:00,  8.74it/s]\u001b[A\n",
      "train loss = 0.1226029:  90%|████████▉ | 7/7.8125 [00:00<00:00,  8.93it/s]\u001b[A\n",
      "train loss = 0.0413190:  90%|████████▉ | 7/7.8125 [00:00<00:00,  8.93it/s]\u001b[A\n",
      "train loss = 0.0413190:  90%|████████▉ | 7/7.8125 [00:00<00:00,  8.93it/s]\u001b[A\n",
      "train loss = 0.0413190: : 8it [00:00,  9.09it/s]                          \u001b[A\n",
      "  0%|          | 0/7.8125 [00:00<?, ?it/s]\u001b[A\n",
      "train loss = 0.0421775:   0%|          | 0/7.8125 [00:00<?, ?it/s]\u001b[A\n",
      "train loss = 0.0421775:   0%|          | 0/7.8125 [00:00<?, ?it/s]\u001b[A\n",
      "train loss = 0.0421775:  13%|█▎        | 1/7.8125 [00:00<00:00,  7.91it/s]\u001b[A"
     ]
    },
    {
     "name": "stdout",
     "output_type": "stream",
     "text": [
      "Epoch: 75, Training Loss:   0.0477\n"
     ]
    },
    {
     "name": "stderr",
     "output_type": "stream",
     "text": [
      "\n",
      "train loss = 0.0423017:  13%|█▎        | 1/7.8125 [00:00<00:00,  7.91it/s]\u001b[A\n",
      "train loss = 0.0423017:  13%|█▎        | 1/7.8125 [00:00<00:00,  7.91it/s]\u001b[A\n",
      "train loss = 0.0423017:  26%|██▌       | 2/7.8125 [00:00<00:00,  8.11it/s]\u001b[A\n",
      "train loss = 0.0440983:  26%|██▌       | 2/7.8125 [00:00<00:00,  8.11it/s]\u001b[A\n",
      "train loss = 0.0440983:  26%|██▌       | 2/7.8125 [00:00<00:00,  8.11it/s]\u001b[A\n",
      "train loss = 0.0440983:  38%|███▊      | 3/7.8125 [00:00<00:00,  8.30it/s]\u001b[A\n",
      "train loss = 0.0373795:  38%|███▊      | 3/7.8125 [00:00<00:00,  8.30it/s]\u001b[A\n",
      "train loss = 0.0373795:  38%|███▊      | 3/7.8125 [00:00<00:00,  8.30it/s]\u001b[A\n",
      "train loss = 0.0373795:  51%|█████     | 4/7.8125 [00:00<00:00,  8.35it/s]\u001b[A\n",
      "train loss = 0.0470396:  51%|█████     | 4/7.8125 [00:00<00:00,  8.35it/s]\u001b[A\n",
      "train loss = 0.0470396:  51%|█████     | 4/7.8125 [00:00<00:00,  8.35it/s]\u001b[A\n",
      "train loss = 0.0470396:  64%|██████▍   | 5/7.8125 [00:00<00:00,  8.52it/s]\u001b[A\n",
      "train loss = 0.0583470:  64%|██████▍   | 5/7.8125 [00:00<00:00,  8.52it/s]\u001b[A\n",
      "train loss = 0.0583470:  64%|██████▍   | 5/7.8125 [00:00<00:00,  8.52it/s]\u001b[A\n",
      "train loss = 0.0583470:  77%|███████▋  | 6/7.8125 [00:00<00:00,  8.56it/s]\u001b[A\n",
      "train loss = 0.0568124:  77%|███████▋  | 6/7.8125 [00:00<00:00,  8.56it/s]\u001b[A\n",
      "train loss = 0.0568124:  77%|███████▋  | 6/7.8125 [00:00<00:00,  8.56it/s]\u001b[A\n",
      "train loss = 0.0568124:  90%|████████▉ | 7/7.8125 [00:00<00:00,  8.72it/s]\u001b[A\n",
      "train loss = 0.0362522:  90%|████████▉ | 7/7.8125 [00:00<00:00,  8.72it/s]\u001b[A\n",
      "train loss = 0.0362522:  90%|████████▉ | 7/7.8125 [00:00<00:00,  8.72it/s]\u001b[A\n",
      "train loss = 0.0362522: : 8it [00:00,  9.02it/s]                          \u001b[A\n",
      "  0%|          | 0/7.8125 [00:00<?, ?it/s]\u001b[A\n",
      "train loss = 0.0233456:   0%|          | 0/7.8125 [00:00<?, ?it/s]\u001b[A\n",
      "train loss = 0.0233456:   0%|          | 0/7.8125 [00:00<?, ?it/s]\u001b[A\n",
      "train loss = 0.0233456:  13%|█▎        | 1/7.8125 [00:00<00:00,  8.05it/s]\u001b[A"
     ]
    },
    {
     "name": "stdout",
     "output_type": "stream",
     "text": [
      "Epoch: 76, Training Loss:   0.0456\n"
     ]
    },
    {
     "name": "stderr",
     "output_type": "stream",
     "text": [
      "\n",
      "train loss = 0.0332921:  13%|█▎        | 1/7.8125 [00:00<00:00,  8.05it/s]\u001b[A\n",
      "train loss = 0.0332921:  13%|█▎        | 1/7.8125 [00:00<00:00,  8.05it/s]\u001b[A\n",
      "train loss = 0.0332921:  26%|██▌       | 2/7.8125 [00:00<00:00,  8.23it/s]\u001b[A\n",
      "train loss = 0.0714695:  26%|██▌       | 2/7.8125 [00:00<00:00,  8.23it/s]\u001b[A\n",
      "train loss = 0.0714695:  26%|██▌       | 2/7.8125 [00:00<00:00,  8.23it/s]\u001b[A\n",
      "train loss = 0.0714695:  38%|███▊      | 3/7.8125 [00:00<00:00,  8.55it/s]\u001b[A\n",
      "train loss = 0.0376952:  38%|███▊      | 3/7.8125 [00:00<00:00,  8.55it/s]\u001b[A\n",
      "train loss = 0.0376952:  38%|███▊      | 3/7.8125 [00:00<00:00,  8.55it/s]\u001b[A\n",
      "train loss = 0.0376952:  51%|█████     | 4/7.8125 [00:00<00:00,  8.60it/s]\u001b[A\n",
      "train loss = 0.0405682:  51%|█████     | 4/7.8125 [00:00<00:00,  8.60it/s]\u001b[A\n",
      "train loss = 0.0405682:  51%|█████     | 4/7.8125 [00:00<00:00,  8.60it/s]\u001b[A\n",
      "train loss = 0.0405682:  64%|██████▍   | 5/7.8125 [00:00<00:00,  8.70it/s]\u001b[A\n",
      "train loss = 0.0477604:  64%|██████▍   | 5/7.8125 [00:00<00:00,  8.70it/s]\u001b[A\n",
      "train loss = 0.0477604:  64%|██████▍   | 5/7.8125 [00:00<00:00,  8.70it/s]\u001b[A\n",
      "train loss = 0.0477604:  77%|███████▋  | 6/7.8125 [00:00<00:00,  8.78it/s]\u001b[A\n",
      "train loss = 0.0390336:  77%|███████▋  | 6/7.8125 [00:00<00:00,  8.78it/s]\u001b[A\n",
      "train loss = 0.0390336:  77%|███████▋  | 6/7.8125 [00:00<00:00,  8.78it/s]\u001b[A\n",
      "train loss = 0.0390336:  90%|████████▉ | 7/7.8125 [00:00<00:00,  8.94it/s]\u001b[A\n",
      "train loss = 0.0486327:  90%|████████▉ | 7/7.8125 [00:00<00:00,  8.94it/s]\u001b[A\n",
      "train loss = 0.0486327:  90%|████████▉ | 7/7.8125 [00:00<00:00,  8.94it/s]\u001b[A\n",
      "train loss = 0.0486327: : 8it [00:00,  9.21it/s]                          \u001b[A\n",
      "  0%|          | 0/7.8125 [00:00<?, ?it/s]\u001b[A\n",
      "train loss = 0.0490812:   0%|          | 0/7.8125 [00:00<?, ?it/s]\u001b[A\n",
      "train loss = 0.0490812:   0%|          | 0/7.8125 [00:00<?, ?it/s]\u001b[A\n",
      "train loss = 0.0490812:  13%|█▎        | 1/7.8125 [00:00<00:00,  8.09it/s]\u001b[A"
     ]
    },
    {
     "name": "stdout",
     "output_type": "stream",
     "text": [
      "Epoch: 77, Training Loss:   0.0427\n"
     ]
    },
    {
     "name": "stderr",
     "output_type": "stream",
     "text": [
      "\n",
      "train loss = 0.0267673:  13%|█▎        | 1/7.8125 [00:00<00:00,  8.09it/s]\u001b[A\n",
      "train loss = 0.0267673:  13%|█▎        | 1/7.8125 [00:00<00:00,  8.09it/s]\u001b[A\n",
      "train loss = 0.0267673:  26%|██▌       | 2/7.8125 [00:00<00:00,  8.21it/s]\u001b[A\n",
      "train loss = 0.0632067:  26%|██▌       | 2/7.8125 [00:00<00:00,  8.21it/s]\u001b[A\n",
      "train loss = 0.0632067:  26%|██▌       | 2/7.8125 [00:00<00:00,  8.21it/s]\u001b[A\n",
      "train loss = 0.0632067:  38%|███▊      | 3/7.8125 [00:00<00:00,  8.41it/s]\u001b[A\n",
      "train loss = 0.0342462:  38%|███▊      | 3/7.8125 [00:00<00:00,  8.41it/s]\u001b[A\n",
      "train loss = 0.0342462:  38%|███▊      | 3/7.8125 [00:00<00:00,  8.41it/s]\u001b[A\n",
      "train loss = 0.0342462:  51%|█████     | 4/7.8125 [00:00<00:00,  8.60it/s]\u001b[A\n",
      "train loss = 0.0334786:  51%|█████     | 4/7.8125 [00:00<00:00,  8.60it/s]\u001b[A\n",
      "train loss = 0.0334786:  51%|█████     | 4/7.8125 [00:00<00:00,  8.60it/s]\u001b[A\n",
      "train loss = 0.0334786:  64%|██████▍   | 5/7.8125 [00:00<00:00,  8.72it/s]\u001b[A\n",
      "train loss = 0.0469487:  64%|██████▍   | 5/7.8125 [00:00<00:00,  8.72it/s]\u001b[A\n",
      "train loss = 0.0469487:  64%|██████▍   | 5/7.8125 [00:00<00:00,  8.72it/s]\u001b[A\n",
      "train loss = 0.0469487:  77%|███████▋  | 6/7.8125 [00:00<00:00,  8.68it/s]\u001b[A\n",
      "train loss = 0.0302186:  77%|███████▋  | 6/7.8125 [00:00<00:00,  8.68it/s]\u001b[A\n",
      "train loss = 0.0302186:  77%|███████▋  | 6/7.8125 [00:00<00:00,  8.68it/s]\u001b[A\n",
      "train loss = 0.0302186:  90%|████████▉ | 7/7.8125 [00:00<00:00,  8.76it/s]\u001b[A\n",
      "train loss = 0.0358481:  90%|████████▉ | 7/7.8125 [00:00<00:00,  8.76it/s]\u001b[A\n",
      "train loss = 0.0358481:  90%|████████▉ | 7/7.8125 [00:00<00:00,  8.76it/s]\u001b[A\n",
      "train loss = 0.0358481: : 8it [00:00,  9.04it/s]                          \u001b[A\n",
      "  0%|          | 0/7.8125 [00:00<?, ?it/s]\u001b[A\n",
      "train loss = 0.0474748:   0%|          | 0/7.8125 [00:00<?, ?it/s]\u001b[A\n",
      "train loss = 0.0474748:   0%|          | 0/7.8125 [00:00<?, ?it/s]\u001b[A\n",
      "train loss = 0.0474748:  13%|█▎        | 1/7.8125 [00:00<00:00,  7.73it/s]\u001b[A"
     ]
    },
    {
     "name": "stdout",
     "output_type": "stream",
     "text": [
      "Epoch: 78, Training Loss:   0.0400\n"
     ]
    },
    {
     "name": "stderr",
     "output_type": "stream",
     "text": [
      "\n",
      "train loss = 0.0262361:  13%|█▎        | 1/7.8125 [00:00<00:00,  7.73it/s]\u001b[A\n",
      "train loss = 0.0262361:  13%|█▎        | 1/7.8125 [00:00<00:00,  7.73it/s]\u001b[A\n",
      "train loss = 0.0262361:  26%|██▌       | 2/7.8125 [00:00<00:00,  8.10it/s]\u001b[A\n",
      "train loss = 0.0501203:  26%|██▌       | 2/7.8125 [00:00<00:00,  8.10it/s]\u001b[A\n",
      "train loss = 0.0501203:  26%|██▌       | 2/7.8125 [00:00<00:00,  8.10it/s]\u001b[A\n",
      "train loss = 0.0501203:  38%|███▊      | 3/7.8125 [00:00<00:00,  8.44it/s]\u001b[A\n",
      "train loss = 0.0377088:  38%|███▊      | 3/7.8125 [00:00<00:00,  8.44it/s]\u001b[A\n",
      "train loss = 0.0377088:  38%|███▊      | 3/7.8125 [00:00<00:00,  8.44it/s]\u001b[A\n",
      "train loss = 0.0377088:  51%|█████     | 4/7.8125 [00:00<00:00,  8.73it/s]\u001b[A\n",
      "train loss = 0.0371194:  51%|█████     | 4/7.8125 [00:00<00:00,  8.73it/s]\u001b[A\n",
      "train loss = 0.0371194:  51%|█████     | 4/7.8125 [00:00<00:00,  8.73it/s]\u001b[A\n",
      "train loss = 0.0371194:  64%|██████▍   | 5/7.8125 [00:00<00:00,  8.97it/s]\u001b[A\n",
      "train loss = 0.0375429:  64%|██████▍   | 5/7.8125 [00:00<00:00,  8.97it/s]\u001b[A\n",
      "train loss = 0.0375429:  64%|██████▍   | 5/7.8125 [00:00<00:00,  8.97it/s]\u001b[A\n",
      "train loss = 0.0375429:  77%|███████▋  | 6/7.8125 [00:00<00:00,  9.02it/s]\u001b[A\n",
      "train loss = 0.0408994:  77%|███████▋  | 6/7.8125 [00:00<00:00,  9.02it/s]\u001b[A\n",
      "train loss = 0.0408994:  77%|███████▋  | 6/7.8125 [00:00<00:00,  9.02it/s]\u001b[A\n",
      "train loss = 0.0408994:  90%|████████▉ | 7/7.8125 [00:00<00:00,  9.01it/s]\u001b[A\n",
      "train loss = 0.0430491:  90%|████████▉ | 7/7.8125 [00:00<00:00,  9.01it/s]\u001b[A\n",
      "train loss = 0.0430491:  90%|████████▉ | 7/7.8125 [00:00<00:00,  9.01it/s]\u001b[A\n",
      "train loss = 0.0430491: : 8it [00:00,  9.15it/s]                          \u001b[A"
     ]
    },
    {
     "name": "stdout",
     "output_type": "stream",
     "text": [
      "Epoch: 79, Training Loss:   0.0400\n"
     ]
    }
   ],
   "source": [
    "# Training loop\n",
    "n_epochs = 80\n",
    "stale_epochs = 0\n",
    "loss = 999999\n",
    "train_losses = []\n",
    "for epoch in range(0, n_epochs):\n",
    "    #loss = train(model, optimizer, loader, len(datas), 128, loss_ftn_obj)\n",
    "    loss = train.train(model, optimizer, dataloaders['train'], len(dataloaders['train'].dataset), dataloaders['train'].batch_size, loss_ftn_obj)\n",
    "    train_losses.append(loss)\n",
    "    print('Epoch: {:02d}, Training Loss:   {:.4f}'.format(epoch, loss))"
   ]
  },
  {
   "cell_type": "code",
   "execution_count": 84,
   "metadata": {},
   "outputs": [
    {
     "data": {
      "text/plain": [
       "8000"
      ]
     },
     "execution_count": 84,
     "metadata": {},
     "output_type": "execute_result"
    }
   ],
   "source": []
  },
  {
   "cell_type": "code",
   "execution_count": 12,
   "metadata": {},
   "outputs": [],
   "source": []
  },
  {
   "cell_type": "code",
   "execution_count": 79,
   "metadata": {},
   "outputs": [],
   "source": [
    "inverse_standardization = False\n",
    "plot.plot_reco_for_loader(model, dataloaders['train'], device, scaler, inverse_standardization, 'test_train', osp.join(save_dir, 'reconstruction_post_train', 'train_reco_all_std'), 'all')\n"
   ]
  },
  {
   "cell_type": "code",
   "execution_count": null,
   "metadata": {},
   "outputs": [],
   "source": []
  }
 ],
 "metadata": {
  "kernelspec": {
   "display_name": "Python 3",
   "language": "python",
   "name": "python3"
  },
  "language_info": {
   "codemirror_mode": {
    "name": "ipython",
    "version": 3
   },
   "file_extension": ".py",
   "mimetype": "text/x-python",
   "name": "python",
   "nbconvert_exporter": "python",
   "pygments_lexer": "ipython3",
   "version": "3.6.10"
  }
 },
 "nbformat": 4,
 "nbformat_minor": 2
}
