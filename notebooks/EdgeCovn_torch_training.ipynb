{
 "cells": [
  {
   "cell_type": "code",
   "execution_count": 1,
   "metadata": {},
   "outputs": [],
   "source": [
    "import os,sys\n",
    "import numpy as np\n",
    "from collections import namedtuple\n",
    "import tqdm\n",
    "import glob\n",
    "import math\n",
    "import random\n",
    "import inspect\n",
    "import os.path as osp\n",
    "from pathlib import Path\n",
    "import itertools\n",
    "from itertools import chain\n",
    "import numpy as np\n",
    "import pandas as pd\n",
    "import multiprocessing\n",
    "import h5py\n",
    "import matplotlib.pyplot as plt\n",
    "import numpy as np\n",
    "import sys, os\n",
    "from importlib import reload\n",
    "\n",
    "import torch\n",
    "import torch.nn as nn\n",
    "from torch.utils.data import random_split\n",
    "from torch_geometric.data import Data, DataLoader, DataListLoader\n",
    "from torch_geometric.nn import EdgeConv, global_mean_pool, DataParallel\n",
    "import torch.nn as nn\n",
    "import torch.nn.functional as F\n",
    "import torch_geometric.transforms as T\n",
    "from torch_geometric.data import Data,Dataset\n",
    "from torch_scatter import scatter_mean, scatter\n",
    "from torch.nn import Sequential as Seq, Linear as Lin, ReLU\n",
    "from torch_geometric.nn import MetaLayer, EdgeConv, global_mean_pool, DynamicEdgeConv\n",
    "import h5py"
   ]
  },
  {
   "cell_type": "code",
   "execution_count": 9,
   "metadata": {},
   "outputs": [
    {
     "data": {
      "text/plain": [
       "<module 'vande.util.util_plotting' from '/eos/home-n/nchernya/MLHEP/AnomalyDetection/vande/util/util_plotting.py'>"
      ]
     },
     "execution_count": 9,
     "metadata": {},
     "output_type": "execute_result"
    }
   ],
   "source": [
    "import sys, os\n",
    "sys.path.append(os.path.abspath(os.path.join('../')))\n",
    "\n",
    "import models_torch.models as models\n",
    "reload(models)\n",
    "import models_torch.losses as losses\n",
    "reload(losses)\n",
    "import utils_torch.scaler\n",
    "reload(utils_torch.scaler)\n",
    "import utils_torch.preprocessing as prepr\n",
    "import utils_torch.plot_util as plot\n",
    "reload(plot)\n",
    "import utils_torch.train_util as train\n",
    "reload(train)\n",
    "import graph_data.graph_data as graph_data\n",
    "reload(graph_data)\n",
    "sys.path.append(os.path.abspath(os.path.join('../../')))\n",
    "import vande.util.util_plotting as vande_plot\n",
    "reload(vande_plot)"
   ]
  },
  {
   "cell_type": "code",
   "execution_count": 3,
   "metadata": {},
   "outputs": [],
   "source": [
    "data_dir = '/eos/user/n/nchernya/MLHEP/AnomalyDetection/ADgvae/output_models/pytroch/'\n",
    "dataset = graph_data.GraphDataset(root=data_dir,n_jets=1e3)\n",
    "save_dir = '/eos/user/n/nchernya/MLHEP/AnomalyDetection/ADgvae/output_models/pytroch/input_feats/'\n",
    "   \n",
    "use_generator = False\n",
    "if use_generator:\n",
    "    validation_split = 0.2\n",
    "    dataset_size = len(dataset)\n",
    "    indices = list(range(dataset_size))\n",
    "    if dataset_size > 2:\n",
    "        split = int(np.floor(validation_split * dataset_size))\n",
    "    else: \n",
    "        split = 1\n",
    "    print(dataset_size,split)\n",
    "    random_seed= 1001\n",
    "\n",
    "    train_subset, val_subset = torch.utils.data.random_split(dataset, [dataset_size - split, split],\n",
    "                                                             generator=torch.Generator().manual_seed(random_seed))\n",
    "    print(\"train subset dim:\", len(train_subset))\n",
    "    print(\"validation subset dim\", len(val_subset))\n",
    "    dataloaders = {\n",
    "        'train':  DataLoader(train_subset, batch_size=128, shuffle=True),\n",
    "        'val':   DataLoader(val_subset, batch_size=128, shuffle=True)\n",
    "    }\n",
    "    print(\"train_dataloader dim:\", len(dataloaders['train']))\n",
    "    print(\"val dataloader dim:\", len(dataloaders['val']))\n",
    "else : \n",
    "    in_memory_datas = dataset.return_inmemory_data() "
   ]
  },
  {
   "cell_type": "code",
   "execution_count": null,
   "metadata": {},
   "outputs": [],
   "source": [
    "pf_cands,jet_prop = dataset.pf_cands,dataset.jet_prop\n",
    "pf_cands_t = torch.cat([torch.tensor(pf_cands[i], dtype=torch.float) for i in range(len(pf_cands))])\n",
    "#Plot consistuents and jet features prepared for the graph! (but before any normalization)\n",
    "pf_feats = 'px,py,pz,E,pt,eta,phi'.split(',')\n",
    "jet_feats = 'N_constituents,M,Pt,Eta,Phi'.split(',')\n",
    "\n",
    "\n",
    "save_dir = '/eos/user/n/nchernya/MLHEP/AnomalyDetection/ADgvae/output_models/pytroch/input_feats/'\n",
    "vande_plot.plot_features(pf_cands_t.numpy(), pf_feats ,'Normalized' , 'QCD', plotname='{}plot_pf_feats_{}'.format(save_dir,'QCD_side'), legend=['QCD'], ylogscale=True)\n",
    "vande_plot.plot_features(jet_prop[:,0:-1], jet_feats ,'Normalized' , 'QCD', plotname='{}plot_jet_feats_{}'.format(save_dir,'QCD_side'), legend=['QCD'], ylogscale=True)\n"
   ]
  },
  {
   "cell_type": "code",
   "execution_count": null,
   "metadata": {},
   "outputs": [],
   "source": []
  },
  {
   "cell_type": "code",
   "execution_count": null,
   "metadata": {},
   "outputs": [],
   "source": []
  },
  {
   "cell_type": "code",
   "execution_count": 4,
   "metadata": {},
   "outputs": [
    {
     "name": "stdout",
     "output_type": "stream",
     "text": [
      "train_dataloader dim: 8\n"
     ]
    }
   ],
   "source": [
    "#scaler = standardize(train_subset) # I dont think that this works for the dataset implementation as it is done now, implement scaler as part of dataset ? \n",
    "scaler = prepr.standardize(in_memory_datas,minmax_idx=[3,4],log_idx=[3,4]) \n",
    "\n",
    "dataloaders = {\n",
    "    'train':  DataLoader(in_memory_datas, batch_size=128, shuffle=True)\n",
    "    }\n",
    "print(\"train_dataloader dim:\", len(dataloaders['train']))\n",
    "\n",
    "#dataset.get(0).u"
   ]
  },
  {
   "cell_type": "code",
   "execution_count": null,
   "metadata": {},
   "outputs": [],
   "source": [
    "pf_cands_norm = torch.cat([torch.tensor(in_memory_datas[i].x, dtype=torch.float) for i in range(len(in_memory_datas))])\n",
    "#Plot consistuents and jet features prepared for the graph! (after normalization)\n",
    "pf_feats = 'px,py,pz,E,pt,eta,phi'.split(',')\n",
    "save_dir = '/eos/user/n/nchernya/MLHEP/AnomalyDetection/ADgvae/output_models/pytroch/input_feats_normalized/'\n",
    "vande_plot.plot_features(pf_cands_norm.numpy(), pf_feats ,'Normalized' , 'QCD', plotname='{}plot_pf_feats_{}'.format(save_dir,'QCD_side'), legend=['QCD'], ylogscale=True)\n"
   ]
  },
  {
   "cell_type": "code",
   "execution_count": null,
   "metadata": {},
   "outputs": [],
   "source": []
  },
  {
   "cell_type": "code",
   "execution_count": 5,
   "metadata": {},
   "outputs": [],
   "source": [
    "torch.manual_seed(0)\n",
    "device = torch.device('cuda:0' if torch.cuda.is_available() else 'cpu')\n",
    "multi_gpu = False #torch.cuda.device_count()>1"
   ]
  },
  {
   "cell_type": "code",
   "execution_count": null,
   "metadata": {},
   "outputs": [],
   "source": []
  },
  {
   "cell_type": "code",
   "execution_count": null,
   "metadata": {},
   "outputs": [],
   "source": []
  },
  {
   "cell_type": "code",
   "execution_count": 7,
   "metadata": {},
   "outputs": [
    {
     "data": {
      "text/plain": [
       "EdgeNet(\n",
       "  (batchnorm): BatchNorm1d(7, eps=1e-05, momentum=0.1, affine=True, track_running_stats=True)\n",
       "  (encoder): EdgeConv(nn=Sequential(\n",
       "    (0): Linear(in_features=14, out_features=32, bias=True)\n",
       "    (1): ReLU()\n",
       "    (2): Linear(in_features=32, out_features=32, bias=True)\n",
       "    (3): ReLU()\n",
       "    (4): Linear(in_features=32, out_features=2, bias=True)\n",
       "    (5): ReLU()\n",
       "  ))\n",
       "  (decoder): EdgeConv(nn=Sequential(\n",
       "    (0): Linear(in_features=4, out_features=32, bias=True)\n",
       "    (1): ReLU()\n",
       "    (2): Linear(in_features=32, out_features=32, bias=True)\n",
       "    (3): ReLU()\n",
       "    (4): Linear(in_features=32, out_features=4, bias=True)\n",
       "  ))\n",
       ")"
      ]
     },
     "execution_count": 7,
     "metadata": {},
     "output_type": "execute_result"
    }
   ],
   "source": [
    "#loss\n",
    "loss_ftn_obj = losses.LossFunction('mse_coordinates', device=device)\n",
    "#loss_ftn_obj = losses.LossFunction('mse', device=device)\n",
    "\n",
    "# model\n",
    "input_dim = 7\n",
    "output_dim = 4#4,7\n",
    "big_dim = 32\n",
    "hidden_dim = 2\n",
    "model = models.EdgeNet(input_dim=input_dim,output_dim=output_dim, big_dim=big_dim, hidden_dim=hidden_dim)\n",
    "\n",
    "optimizer = torch.optim.Adam(model.parameters(), lr = 10e-3)\n",
    "scheduler = torch.optim.lr_scheduler.ReduceLROnPlateau(optimizer, patience=4, threshold=1e-6)\n",
    "\n",
    "model.to(device)\n"
   ]
  },
  {
   "cell_type": "code",
   "execution_count": 10,
   "metadata": {},
   "outputs": [
    {
     "name": "stderr",
     "output_type": "stream",
     "text": [
      "\n",
      "  0%|          | 0/7.8125 [00:00<?, ?it/s]\u001b[A\n",
      "train loss = 0.8334530:   0%|          | 0/7.8125 [00:00<?, ?it/s]\u001b[A\n",
      "train loss = 0.8334530:   0%|          | 0/7.8125 [00:00<?, ?it/s]\u001b[A\n",
      "train loss = 0.6948934:   0%|          | 0/7.8125 [00:00<?, ?it/s]\u001b[A\n",
      "train loss = 0.6948934:   0%|          | 0/7.8125 [00:00<?, ?it/s]\u001b[A\n",
      "train loss = 0.6948934:  26%|██▌       | 2/7.8125 [00:00<00:00, 17.74it/s]\u001b[A\n",
      "train loss = 0.7692120:  26%|██▌       | 2/7.8125 [00:00<00:00, 17.74it/s]\u001b[A\n",
      "train loss = 0.7692120:  26%|██▌       | 2/7.8125 [00:00<00:00, 17.74it/s]\u001b[A\n",
      "train loss = 0.8018770:  26%|██▌       | 2/7.8125 [00:00<00:00, 17.74it/s]\u001b[A\n",
      "train loss = 0.8018770:  26%|██▌       | 2/7.8125 [00:00<00:00, 17.74it/s]\u001b[A\n",
      "train loss = 0.6796097:  26%|██▌       | 2/7.8125 [00:00<00:00, 17.74it/s]\u001b[A\n",
      "train loss = 0.6796097:  26%|██▌       | 2/7.8125 [00:00<00:00, 17.74it/s]\u001b[A\n",
      "train loss = 0.6796097:  64%|██████▍   | 5/7.8125 [00:00<00:00, 20.04it/s]\u001b[A\n",
      "train loss = 0.6011668:  64%|██████▍   | 5/7.8125 [00:00<00:00, 20.04it/s]\u001b[A\n",
      "train loss = 0.6011668:  64%|██████▍   | 5/7.8125 [00:00<00:00, 20.04it/s]\u001b[A\n",
      "train loss = 0.6146135:  64%|██████▍   | 5/7.8125 [00:00<00:00, 20.04it/s]\u001b[A\n",
      "train loss = 0.6146135:  64%|██████▍   | 5/7.8125 [00:00<00:00, 20.04it/s]\u001b[A\n",
      "train loss = 0.6001505:  64%|██████▍   | 5/7.8125 [00:00<00:00, 20.04it/s]\u001b[A\n",
      "train loss = 0.6001505:  64%|██████▍   | 5/7.8125 [00:00<00:00, 20.04it/s]\u001b[A\n",
      "train loss = 0.6001505: : 8it [00:00, 22.17it/s]                          \u001b[A\n",
      "  0%|          | 0/7.8125 [00:00<?, ?it/s]\u001b[A\n",
      "train loss = 0.5997152:   0%|          | 0/7.8125 [00:00<?, ?it/s]\u001b[A\n",
      "train loss = 0.5997152:   0%|          | 0/7.8125 [00:00<?, ?it/s]\u001b[A\n",
      "train loss = 0.6024315:   0%|          | 0/7.8125 [00:00<?, ?it/s]\u001b[A\n",
      "train loss = 0.6024315:   0%|          | 0/7.8125 [00:00<?, ?it/s]\u001b[A\n",
      "train loss = 0.5478314:   0%|          | 0/7.8125 [00:00<?, ?it/s]\u001b[A\n",
      "train loss = 0.5478314:   0%|          | 0/7.8125 [00:00<?, ?it/s]\u001b[A\n",
      "train loss = 0.5478314:  38%|███▊      | 3/7.8125 [00:00<00:00, 28.74it/s]\u001b[A\n",
      "train loss = 0.5818535:  38%|███▊      | 3/7.8125 [00:00<00:00, 28.74it/s]\u001b[A\n",
      "train loss = 0.5818535:  38%|███▊      | 3/7.8125 [00:00<00:00, 28.74it/s]\u001b[A\n",
      "train loss = 0.6053486:  38%|███▊      | 3/7.8125 [00:00<00:00, 28.74it/s]\u001b[A\n",
      "train loss = 0.6053486:  38%|███▊      | 3/7.8125 [00:00<00:00, 28.74it/s]\u001b[A"
     ]
    },
    {
     "name": "stdout",
     "output_type": "stream",
     "text": [
      "Epoch: 00, Training Loss:   0.6994\n"
     ]
    },
    {
     "name": "stderr",
     "output_type": "stream",
     "text": [
      "\n",
      "train loss = 0.5485487:  38%|███▊      | 3/7.8125 [00:00<00:00, 28.74it/s]\u001b[A\n",
      "train loss = 0.5485487:  38%|███▊      | 3/7.8125 [00:00<00:00, 28.74it/s]\u001b[A\n",
      "train loss = 0.5485487:  77%|███████▋  | 6/7.8125 [00:00<00:00, 28.85it/s]\u001b[A\n",
      "train loss = 0.4756831:  77%|███████▋  | 6/7.8125 [00:00<00:00, 28.85it/s]\u001b[A\n",
      "train loss = 0.4756831:  77%|███████▋  | 6/7.8125 [00:00<00:00, 28.85it/s]\u001b[A\n",
      "train loss = 0.4829677:  77%|███████▋  | 6/7.8125 [00:00<00:00, 28.85it/s]\u001b[A\n",
      "train loss = 0.4829677:  77%|███████▋  | 6/7.8125 [00:00<00:00, 28.85it/s]\u001b[A\n",
      "train loss = 0.4829677: : 8it [00:00, 29.08it/s]                          \u001b[A\n",
      "  0%|          | 0/7.8125 [00:00<?, ?it/s]\u001b[A\n",
      "train loss = 0.6121086:   0%|          | 0/7.8125 [00:00<?, ?it/s]\u001b[A\n",
      "train loss = 0.6121086:   0%|          | 0/7.8125 [00:00<?, ?it/s]\u001b[A\n",
      "train loss = 0.5403536:   0%|          | 0/7.8125 [00:00<?, ?it/s]\u001b[A\n",
      "train loss = 0.5403536:   0%|          | 0/7.8125 [00:00<?, ?it/s]\u001b[A\n",
      "train loss = 0.5944874:   0%|          | 0/7.8125 [00:00<?, ?it/s]\u001b[A\n",
      "train loss = 0.5944874:   0%|          | 0/7.8125 [00:00<?, ?it/s]\u001b[A\n",
      "train loss = 0.5944874:  38%|███▊      | 3/7.8125 [00:00<00:00, 28.98it/s]\u001b[A\n",
      "train loss = 0.5099810:  38%|███▊      | 3/7.8125 [00:00<00:00, 28.98it/s]\u001b[A\n",
      "train loss = 0.5099810:  38%|███▊      | 3/7.8125 [00:00<00:00, 28.98it/s]\u001b[A\n",
      "train loss = 0.4784450:  38%|███▊      | 3/7.8125 [00:00<00:00, 28.98it/s]\u001b[A\n",
      "train loss = 0.4784450:  38%|███▊      | 3/7.8125 [00:00<00:00, 28.98it/s]\u001b[A"
     ]
    },
    {
     "name": "stdout",
     "output_type": "stream",
     "text": [
      "Epoch: 01, Training Loss:   0.5555\n"
     ]
    },
    {
     "name": "stderr",
     "output_type": "stream",
     "text": [
      "\n",
      "train loss = 0.5927446:  38%|███▊      | 3/7.8125 [00:00<00:00, 28.98it/s]\u001b[A\n",
      "train loss = 0.5927446:  38%|███▊      | 3/7.8125 [00:00<00:00, 28.98it/s]\u001b[A\n",
      "train loss = 0.5927446:  77%|███████▋  | 6/7.8125 [00:00<00:00, 28.91it/s]\u001b[A\n",
      "train loss = 0.4857911:  77%|███████▋  | 6/7.8125 [00:00<00:00, 28.91it/s]\u001b[A\n",
      "train loss = 0.4857911:  77%|███████▋  | 6/7.8125 [00:00<00:00, 28.91it/s]\u001b[A\n",
      "train loss = 0.4330948:  77%|███████▋  | 6/7.8125 [00:00<00:00, 28.91it/s]\u001b[A\n",
      "train loss = 0.4330948:  77%|███████▋  | 6/7.8125 [00:00<00:00, 28.91it/s]\u001b[A\n",
      "train loss = 0.4330948: : 8it [00:00, 28.85it/s]                          \u001b[A\n",
      "  0%|          | 0/7.8125 [00:00<?, ?it/s]\u001b[A\n",
      "train loss = 0.5138445:   0%|          | 0/7.8125 [00:00<?, ?it/s]\u001b[A\n",
      "train loss = 0.5138445:   0%|          | 0/7.8125 [00:00<?, ?it/s]\u001b[A\n",
      "train loss = 0.3961394:   0%|          | 0/7.8125 [00:00<?, ?it/s]\u001b[A\n",
      "train loss = 0.3961394:   0%|          | 0/7.8125 [00:00<?, ?it/s]\u001b[A\n",
      "train loss = 0.4673441:   0%|          | 0/7.8125 [00:00<?, ?it/s]\u001b[A\n",
      "train loss = 0.4673441:   0%|          | 0/7.8125 [00:00<?, ?it/s]\u001b[A\n",
      "train loss = 0.4673441:  38%|███▊      | 3/7.8125 [00:00<00:00, 28.98it/s]\u001b[A\n",
      "train loss = 0.4992625:  38%|███▊      | 3/7.8125 [00:00<00:00, 28.98it/s]\u001b[A\n",
      "train loss = 0.4992625:  38%|███▊      | 3/7.8125 [00:00<00:00, 28.98it/s]\u001b[A\n",
      "train loss = 0.4653409:  38%|███▊      | 3/7.8125 [00:00<00:00, 28.98it/s]\u001b[A\n",
      "train loss = 0.4653409:  38%|███▊      | 3/7.8125 [00:00<00:00, 28.98it/s]\u001b[A"
     ]
    },
    {
     "name": "stdout",
     "output_type": "stream",
     "text": [
      "Epoch: 02, Training Loss:   0.5309\n"
     ]
    },
    {
     "name": "stderr",
     "output_type": "stream",
     "text": [
      "\n",
      "train loss = 0.6041210:  38%|███▊      | 3/7.8125 [00:00<00:00, 28.98it/s]\u001b[A\n",
      "train loss = 0.6041210:  38%|███▊      | 3/7.8125 [00:00<00:00, 28.98it/s]\u001b[A\n",
      "train loss = 0.5821003:  38%|███▊      | 3/7.8125 [00:00<00:00, 28.98it/s]\u001b[A\n",
      "train loss = 0.5821003:  38%|███▊      | 3/7.8125 [00:00<00:00, 28.98it/s]\u001b[A\n",
      "train loss = 0.5821003:  90%|████████▉ | 7/7.8125 [00:00<00:00, 29.34it/s]\u001b[A\n",
      "train loss = 0.5239688:  90%|████████▉ | 7/7.8125 [00:00<00:00, 29.34it/s]\u001b[A\n",
      "train loss = 0.5239688:  90%|████████▉ | 7/7.8125 [00:00<00:00, 29.34it/s]\u001b[A\n",
      "train loss = 0.5239688: : 8it [00:00, 29.87it/s]                          \u001b[A\n",
      "  0%|          | 0/7.8125 [00:00<?, ?it/s]\u001b[A\n",
      "train loss = 0.5047972:   0%|          | 0/7.8125 [00:00<?, ?it/s]\u001b[A\n",
      "train loss = 0.5047972:   0%|          | 0/7.8125 [00:00<?, ?it/s]\u001b[A\n",
      "train loss = 0.3787993:   0%|          | 0/7.8125 [00:00<?, ?it/s]\u001b[A\n",
      "train loss = 0.3787993:   0%|          | 0/7.8125 [00:00<?, ?it/s]\u001b[A\n",
      "train loss = 0.4917031:   0%|          | 0/7.8125 [00:00<?, ?it/s]\u001b[A\n",
      "train loss = 0.4917031:   0%|          | 0/7.8125 [00:00<?, ?it/s]\u001b[A\n",
      "train loss = 0.4917031:  38%|███▊      | 3/7.8125 [00:00<00:00, 29.40it/s]\u001b[A\n",
      "train loss = 0.4621782:  38%|███▊      | 3/7.8125 [00:00<00:00, 29.40it/s]\u001b[A\n",
      "train loss = 0.4621782:  38%|███▊      | 3/7.8125 [00:00<00:00, 29.40it/s]\u001b[A\n",
      "train loss = 0.5856425:  38%|███▊      | 3/7.8125 [00:00<00:00, 29.40it/s]\u001b[A\n",
      "train loss = 0.5856425:  38%|███▊      | 3/7.8125 [00:00<00:00, 29.40it/s]\u001b[A"
     ]
    },
    {
     "name": "stdout",
     "output_type": "stream",
     "text": [
      "Epoch: 03, Training Loss:   0.5065\n"
     ]
    },
    {
     "name": "stderr",
     "output_type": "stream",
     "text": [
      "\n",
      "train loss = 0.4851241:  38%|███▊      | 3/7.8125 [00:00<00:00, 29.40it/s]\u001b[A\n",
      "train loss = 0.4851241:  38%|███▊      | 3/7.8125 [00:00<00:00, 29.40it/s]\u001b[A\n",
      "train loss = 0.4851241:  77%|███████▋  | 6/7.8125 [00:00<00:00, 29.49it/s]\u001b[A\n",
      "train loss = 0.4552958:  77%|███████▋  | 6/7.8125 [00:00<00:00, 29.49it/s]\u001b[A\n",
      "train loss = 0.4552958:  77%|███████▋  | 6/7.8125 [00:00<00:00, 29.49it/s]\u001b[A\n",
      "train loss = 0.5074710:  77%|███████▋  | 6/7.8125 [00:00<00:00, 29.49it/s]\u001b[A\n",
      "train loss = 0.5074710:  77%|███████▋  | 6/7.8125 [00:00<00:00, 29.49it/s]\u001b[A\n",
      "train loss = 0.5074710: : 8it [00:00, 29.87it/s]                          \u001b[A\n",
      "  0%|          | 0/7.8125 [00:00<?, ?it/s]\u001b[A\n",
      "train loss = 0.4980549:   0%|          | 0/7.8125 [00:00<?, ?it/s]\u001b[A\n",
      "train loss = 0.4980549:   0%|          | 0/7.8125 [00:00<?, ?it/s]\u001b[A\n",
      "train loss = 0.4082552:   0%|          | 0/7.8125 [00:00<?, ?it/s]\u001b[A\n",
      "train loss = 0.4082552:   0%|          | 0/7.8125 [00:00<?, ?it/s]\u001b[A\n",
      "train loss = 0.4490236:   0%|          | 0/7.8125 [00:00<?, ?it/s]\u001b[A\n",
      "train loss = 0.4490236:   0%|          | 0/7.8125 [00:00<?, ?it/s]\u001b[A\n",
      "train loss = 0.4490236:  38%|███▊      | 3/7.8125 [00:00<00:00, 29.33it/s]\u001b[A\n",
      "train loss = 0.5317845:  38%|███▊      | 3/7.8125 [00:00<00:00, 29.33it/s]\u001b[A\n",
      "train loss = 0.5317845:  38%|███▊      | 3/7.8125 [00:00<00:00, 29.33it/s]\u001b[A\n",
      "train loss = 0.4571135:  38%|███▊      | 3/7.8125 [00:00<00:00, 29.33it/s]\u001b[A\n",
      "train loss = 0.4571135:  38%|███▊      | 3/7.8125 [00:00<00:00, 29.33it/s]\u001b[A"
     ]
    },
    {
     "name": "stdout",
     "output_type": "stream",
     "text": [
      "Epoch: 04, Training Loss:   0.4839\n"
     ]
    },
    {
     "name": "stderr",
     "output_type": "stream",
     "text": [
      "\n",
      "train loss = 0.4974778:  38%|███▊      | 3/7.8125 [00:00<00:00, 29.33it/s]\u001b[A\n",
      "train loss = 0.4974778:  38%|███▊      | 3/7.8125 [00:00<00:00, 29.33it/s]\u001b[A\n",
      "train loss = 0.4974778:  77%|███████▋  | 6/7.8125 [00:00<00:00, 29.24it/s]\u001b[A\n",
      "train loss = 0.4059149:  77%|███████▋  | 6/7.8125 [00:00<00:00, 29.24it/s]\u001b[A\n",
      "train loss = 0.4059149:  77%|███████▋  | 6/7.8125 [00:00<00:00, 29.24it/s]\u001b[A\n",
      "train loss = 0.4701815:  77%|███████▋  | 6/7.8125 [00:00<00:00, 29.24it/s]\u001b[A\n",
      "train loss = 0.4701815:  77%|███████▋  | 6/7.8125 [00:00<00:00, 29.24it/s]\u001b[A\n",
      "train loss = 0.4701815: : 8it [00:00, 29.22it/s]                          \u001b[A\n",
      "  0%|          | 0/7.8125 [00:00<?, ?it/s]\u001b[A\n",
      "train loss = 0.4086947:   0%|          | 0/7.8125 [00:00<?, ?it/s]\u001b[A\n",
      "train loss = 0.4086947:   0%|          | 0/7.8125 [00:00<?, ?it/s]\u001b[A\n",
      "train loss = 0.5061128:   0%|          | 0/7.8125 [00:00<?, ?it/s]\u001b[A\n",
      "train loss = 0.5061128:   0%|          | 0/7.8125 [00:00<?, ?it/s]\u001b[A\n",
      "train loss = 0.4765770:   0%|          | 0/7.8125 [00:00<?, ?it/s]\u001b[A\n",
      "train loss = 0.4765770:   0%|          | 0/7.8125 [00:00<?, ?it/s]\u001b[A\n",
      "train loss = 0.4765770:  38%|███▊      | 3/7.8125 [00:00<00:00, 29.13it/s]\u001b[A\n",
      "train loss = 0.4582040:  38%|███▊      | 3/7.8125 [00:00<00:00, 29.13it/s]\u001b[A\n",
      "train loss = 0.4582040:  38%|███▊      | 3/7.8125 [00:00<00:00, 29.13it/s]\u001b[A\n",
      "train loss = 0.4550972:  38%|███▊      | 3/7.8125 [00:00<00:00, 29.13it/s]\u001b[A\n",
      "train loss = 0.4550972:  38%|███▊      | 3/7.8125 [00:00<00:00, 29.13it/s]\u001b[A"
     ]
    },
    {
     "name": "stdout",
     "output_type": "stream",
     "text": [
      "Epoch: 05, Training Loss:   0.4647\n"
     ]
    },
    {
     "name": "stderr",
     "output_type": "stream",
     "text": [
      "\n",
      "train loss = 0.3811356:  38%|███▊      | 3/7.8125 [00:00<00:00, 29.13it/s]\u001b[A\n",
      "train loss = 0.3811356:  38%|███▊      | 3/7.8125 [00:00<00:00, 29.13it/s]\u001b[A\n",
      "train loss = 0.3811356:  77%|███████▋  | 6/7.8125 [00:00<00:00, 29.16it/s]\u001b[A\n",
      "train loss = 0.4334112:  77%|███████▋  | 6/7.8125 [00:00<00:00, 29.16it/s]\u001b[A\n",
      "train loss = 0.4334112:  77%|███████▋  | 6/7.8125 [00:00<00:00, 29.16it/s]\u001b[A\n",
      "train loss = 0.4484138:  77%|███████▋  | 6/7.8125 [00:00<00:00, 29.16it/s]\u001b[A\n",
      "train loss = 0.4484138:  77%|███████▋  | 6/7.8125 [00:00<00:00, 29.16it/s]\u001b[A\n",
      "train loss = 0.4484138: : 8it [00:00, 29.48it/s]                          \u001b[A\n",
      "  0%|          | 0/7.8125 [00:00<?, ?it/s]\u001b[A\n",
      "train loss = 0.4120075:   0%|          | 0/7.8125 [00:00<?, ?it/s]\u001b[A\n",
      "train loss = 0.4120075:   0%|          | 0/7.8125 [00:00<?, ?it/s]\u001b[A\n",
      "train loss = 0.4698887:   0%|          | 0/7.8125 [00:00<?, ?it/s]\u001b[A\n",
      "train loss = 0.4698887:   0%|          | 0/7.8125 [00:00<?, ?it/s]\u001b[A\n",
      "train loss = 0.4857760:   0%|          | 0/7.8125 [00:00<?, ?it/s]\u001b[A\n",
      "train loss = 0.4857760:   0%|          | 0/7.8125 [00:00<?, ?it/s]\u001b[A\n",
      "train loss = 0.4857760:  38%|███▊      | 3/7.8125 [00:00<00:00, 29.11it/s]\u001b[A\n",
      "train loss = 0.3890863:  38%|███▊      | 3/7.8125 [00:00<00:00, 29.11it/s]\u001b[A\n",
      "train loss = 0.3890863:  38%|███▊      | 3/7.8125 [00:00<00:00, 29.11it/s]\u001b[A\n",
      "train loss = 0.3714120:  38%|███▊      | 3/7.8125 [00:00<00:00, 29.11it/s]\u001b[A\n",
      "train loss = 0.3714120:  38%|███▊      | 3/7.8125 [00:00<00:00, 29.11it/s]\u001b[A"
     ]
    },
    {
     "name": "stdout",
     "output_type": "stream",
     "text": [
      "Epoch: 06, Training Loss:   0.4460\n"
     ]
    },
    {
     "name": "stderr",
     "output_type": "stream",
     "text": [
      "\n",
      "train loss = 0.4696447:  38%|███▊      | 3/7.8125 [00:00<00:00, 29.11it/s]\u001b[A\n",
      "train loss = 0.4696447:  38%|███▊      | 3/7.8125 [00:00<00:00, 29.11it/s]\u001b[A\n",
      "train loss = 0.4696447:  77%|███████▋  | 6/7.8125 [00:00<00:00, 28.93it/s]\u001b[A\n",
      "train loss = 0.4476728:  77%|███████▋  | 6/7.8125 [00:00<00:00, 28.93it/s]\u001b[A\n",
      "train loss = 0.4476728:  77%|███████▋  | 6/7.8125 [00:00<00:00, 28.93it/s]\u001b[A\n",
      "train loss = 0.4560704:  77%|███████▋  | 6/7.8125 [00:00<00:00, 28.93it/s]\u001b[A\n",
      "train loss = 0.4560704:  77%|███████▋  | 6/7.8125 [00:00<00:00, 28.93it/s]\u001b[A\n",
      "train loss = 0.4560704: : 8it [00:00, 29.03it/s]                          \u001b[A\n",
      "  0%|          | 0/7.8125 [00:00<?, ?it/s]\u001b[A\n",
      "train loss = 0.4002661:   0%|          | 0/7.8125 [00:00<?, ?it/s]\u001b[A\n",
      "train loss = 0.4002661:   0%|          | 0/7.8125 [00:00<?, ?it/s]\u001b[A\n",
      "train loss = 0.4397959:   0%|          | 0/7.8125 [00:00<?, ?it/s]\u001b[A\n",
      "train loss = 0.4397959:   0%|          | 0/7.8125 [00:00<?, ?it/s]\u001b[A\n",
      "train loss = 0.5263380:   0%|          | 0/7.8125 [00:00<?, ?it/s]\u001b[A\n",
      "train loss = 0.5263380:   0%|          | 0/7.8125 [00:00<?, ?it/s]\u001b[A\n",
      "train loss = 0.5263380:  38%|███▊      | 3/7.8125 [00:00<00:00, 29.11it/s]\u001b[A\n",
      "train loss = 0.4026231:  38%|███▊      | 3/7.8125 [00:00<00:00, 29.11it/s]\u001b[A\n",
      "train loss = 0.4026231:  38%|███▊      | 3/7.8125 [00:00<00:00, 29.11it/s]\u001b[A\n",
      "train loss = 0.3863543:  38%|███▊      | 3/7.8125 [00:00<00:00, 29.11it/s]\u001b[A\n",
      "train loss = 0.3863543:  38%|███▊      | 3/7.8125 [00:00<00:00, 29.11it/s]\u001b[A"
     ]
    },
    {
     "name": "stdout",
     "output_type": "stream",
     "text": [
      "Epoch: 07, Training Loss:   0.4377\n"
     ]
    },
    {
     "name": "stderr",
     "output_type": "stream",
     "text": [
      "\n",
      "train loss = 0.4681460:  38%|███▊      | 3/7.8125 [00:00<00:00, 29.11it/s]\u001b[A\n",
      "train loss = 0.4681460:  38%|███▊      | 3/7.8125 [00:00<00:00, 29.11it/s]\u001b[A\n",
      "train loss = 0.4681460:  77%|███████▋  | 6/7.8125 [00:00<00:00, 29.13it/s]\u001b[A\n",
      "train loss = 0.3710480:  77%|███████▋  | 6/7.8125 [00:00<00:00, 29.13it/s]\u001b[A\n",
      "train loss = 0.3710480:  77%|███████▋  | 6/7.8125 [00:00<00:00, 29.13it/s]\u001b[A\n",
      "train loss = 0.4253647:  77%|███████▋  | 6/7.8125 [00:00<00:00, 29.13it/s]\u001b[A\n",
      "train loss = 0.4253647:  77%|███████▋  | 6/7.8125 [00:00<00:00, 29.13it/s]\u001b[A\n",
      "train loss = 0.4253647: : 8it [00:00, 29.37it/s]                          \u001b[A\n",
      "  0%|          | 0/7.8125 [00:00<?, ?it/s]\u001b[A\n",
      "train loss = 0.4355969:   0%|          | 0/7.8125 [00:00<?, ?it/s]\u001b[A\n",
      "train loss = 0.4355969:   0%|          | 0/7.8125 [00:00<?, ?it/s]\u001b[A\n",
      "train loss = 0.4311187:   0%|          | 0/7.8125 [00:00<?, ?it/s]\u001b[A\n",
      "train loss = 0.4311187:   0%|          | 0/7.8125 [00:00<?, ?it/s]\u001b[A\n",
      "train loss = 0.4177626:   0%|          | 0/7.8125 [00:00<?, ?it/s]\u001b[A\n",
      "train loss = 0.4177626:   0%|          | 0/7.8125 [00:00<?, ?it/s]\u001b[A\n",
      "train loss = 0.4177626:  38%|███▊      | 3/7.8125 [00:00<00:00, 29.26it/s]\u001b[A\n",
      "train loss = 0.4521474:  38%|███▊      | 3/7.8125 [00:00<00:00, 29.26it/s]\u001b[A\n",
      "train loss = 0.4521474:  38%|███▊      | 3/7.8125 [00:00<00:00, 29.26it/s]\u001b[A\n",
      "train loss = 0.4012110:  38%|███▊      | 3/7.8125 [00:00<00:00, 29.26it/s]\u001b[A\n",
      "train loss = 0.4012110:  38%|███▊      | 3/7.8125 [00:00<00:00, 29.26it/s]\u001b[A"
     ]
    },
    {
     "name": "stdout",
     "output_type": "stream",
     "text": [
      "Epoch: 08, Training Loss:   0.4275\n"
     ]
    },
    {
     "name": "stderr",
     "output_type": "stream",
     "text": [
      "\n",
      "train loss = 0.3843289:  38%|███▊      | 3/7.8125 [00:00<00:00, 29.26it/s]\u001b[A\n",
      "train loss = 0.3843289:  38%|███▊      | 3/7.8125 [00:00<00:00, 29.26it/s]\u001b[A\n",
      "train loss = 0.3843289:  77%|███████▋  | 6/7.8125 [00:00<00:00, 29.10it/s]\u001b[A\n",
      "train loss = 0.3755518:  77%|███████▋  | 6/7.8125 [00:00<00:00, 29.10it/s]\u001b[A\n",
      "train loss = 0.3755518:  77%|███████▋  | 6/7.8125 [00:00<00:00, 29.10it/s]\u001b[A\n",
      "train loss = 0.4417016:  77%|███████▋  | 6/7.8125 [00:00<00:00, 29.10it/s]\u001b[A\n",
      "train loss = 0.4417016:  77%|███████▋  | 6/7.8125 [00:00<00:00, 29.10it/s]\u001b[A\n",
      "train loss = 0.4417016: : 8it [00:00, 29.36it/s]                          \u001b[A\n",
      "  0%|          | 0/7.8125 [00:00<?, ?it/s]\u001b[A\n",
      "train loss = 0.4608282:   0%|          | 0/7.8125 [00:00<?, ?it/s]\u001b[A\n",
      "train loss = 0.4608282:   0%|          | 0/7.8125 [00:00<?, ?it/s]\u001b[A\n",
      "train loss = 0.4484708:   0%|          | 0/7.8125 [00:00<?, ?it/s]\u001b[A\n",
      "train loss = 0.4484708:   0%|          | 0/7.8125 [00:00<?, ?it/s]\u001b[A\n",
      "train loss = 0.3864796:   0%|          | 0/7.8125 [00:00<?, ?it/s]\u001b[A\n",
      "train loss = 0.3864796:   0%|          | 0/7.8125 [00:00<?, ?it/s]\u001b[A\n",
      "train loss = 0.3864796:  38%|███▊      | 3/7.8125 [00:00<00:00, 29.75it/s]\u001b[A\n",
      "train loss = 0.4384309:  38%|███▊      | 3/7.8125 [00:00<00:00, 29.75it/s]\u001b[A\n",
      "train loss = 0.4384309:  38%|███▊      | 3/7.8125 [00:00<00:00, 29.75it/s]\u001b[A\n",
      "train loss = 0.3664220:  38%|███▊      | 3/7.8125 [00:00<00:00, 29.75it/s]\u001b[A\n",
      "train loss = 0.3664220:  38%|███▊      | 3/7.8125 [00:00<00:00, 29.75it/s]\u001b[A\n"
     ]
    },
    {
     "name": "stdout",
     "output_type": "stream",
     "text": [
      "Epoch: 09, Training Loss:   0.4174\n"
     ]
    },
    {
     "name": "stderr",
     "output_type": "stream",
     "text": [
      "train loss = 0.3970799:  38%|███▊      | 3/7.8125 [00:00<00:00, 29.75it/s]\u001b[A\n",
      "train loss = 0.3970799:  38%|███▊      | 3/7.8125 [00:00<00:00, 29.75it/s]\u001b[A\n",
      "train loss = 0.3970799:  77%|███████▋  | 6/7.8125 [00:00<00:00, 29.78it/s]\u001b[A\n",
      "train loss = 0.3666535:  77%|███████▋  | 6/7.8125 [00:00<00:00, 29.78it/s]\u001b[A\n",
      "train loss = 0.3666535:  77%|███████▋  | 6/7.8125 [00:00<00:00, 29.78it/s]\u001b[A\n",
      "train loss = 0.4063692:  77%|███████▋  | 6/7.8125 [00:00<00:00, 29.78it/s]\u001b[A\n",
      "train loss = 0.4063692:  77%|███████▋  | 6/7.8125 [00:00<00:00, 29.78it/s]\u001b[A\n",
      "train loss = 0.4063692: : 8it [00:00, 29.97it/s]                          \u001b[A\n",
      "  0%|          | 0/7.8125 [00:00<?, ?it/s]\u001b[A\n",
      "train loss = 0.4285543:   0%|          | 0/7.8125 [00:00<?, ?it/s]\u001b[A\n",
      "train loss = 0.4285543:   0%|          | 0/7.8125 [00:00<?, ?it/s]\u001b[A\n",
      "train loss = 0.3353871:   0%|          | 0/7.8125 [00:00<?, ?it/s]\u001b[A\n",
      "train loss = 0.3353871:   0%|          | 0/7.8125 [00:00<?, ?it/s]\u001b[A\n",
      "train loss = 0.3300058:   0%|          | 0/7.8125 [00:00<?, ?it/s]\u001b[A\n",
      "train loss = 0.3300058:   0%|          | 0/7.8125 [00:00<?, ?it/s]\u001b[A\n",
      "train loss = 0.3300058:  38%|███▊      | 3/7.8125 [00:00<00:00, 29.37it/s]\u001b[A\n",
      "train loss = 0.3988386:  38%|███▊      | 3/7.8125 [00:00<00:00, 29.37it/s]\u001b[A\n",
      "train loss = 0.3988386:  38%|███▊      | 3/7.8125 [00:00<00:00, 29.37it/s]\u001b[A\n",
      "train loss = 0.3828171:  38%|███▊      | 3/7.8125 [00:00<00:00, 29.37it/s]\u001b[A\n",
      "train loss = 0.3828171:  38%|███▊      | 3/7.8125 [00:00<00:00, 29.37it/s]\u001b[A"
     ]
    },
    {
     "name": "stdout",
     "output_type": "stream",
     "text": [
      "Epoch: 10, Training Loss:   0.4088\n"
     ]
    },
    {
     "name": "stderr",
     "output_type": "stream",
     "text": [
      "\n",
      "train loss = 0.4300319:  38%|███▊      | 3/7.8125 [00:00<00:00, 29.37it/s]\u001b[A\n",
      "train loss = 0.4300319:  38%|███▊      | 3/7.8125 [00:00<00:00, 29.37it/s]\u001b[A\n",
      "train loss = 0.4300319:  77%|███████▋  | 6/7.8125 [00:00<00:00, 29.48it/s]\u001b[A\n",
      "train loss = 0.4931385:  77%|███████▋  | 6/7.8125 [00:00<00:00, 29.48it/s]\u001b[A\n",
      "train loss = 0.4931385:  77%|███████▋  | 6/7.8125 [00:00<00:00, 29.48it/s]\u001b[A\n",
      "train loss = 0.4158040:  77%|███████▋  | 6/7.8125 [00:00<00:00, 29.48it/s]\u001b[A\n",
      "train loss = 0.4158040:  77%|███████▋  | 6/7.8125 [00:00<00:00, 29.48it/s]\u001b[A\n",
      "train loss = 0.4158040: : 8it [00:00, 29.91it/s]                          \u001b[A\n",
      "  0%|          | 0/7.8125 [00:00<?, ?it/s]\u001b[A\n",
      "train loss = 0.4360857:   0%|          | 0/7.8125 [00:00<?, ?it/s]\u001b[A\n",
      "train loss = 0.4360857:   0%|          | 0/7.8125 [00:00<?, ?it/s]\u001b[A\n",
      "train loss = 0.4411059:   0%|          | 0/7.8125 [00:00<?, ?it/s]\u001b[A\n",
      "train loss = 0.4411059:   0%|          | 0/7.8125 [00:00<?, ?it/s]\u001b[A\n",
      "train loss = 0.4534811:   0%|          | 0/7.8125 [00:00<?, ?it/s]\u001b[A\n",
      "train loss = 0.4534811:   0%|          | 0/7.8125 [00:00<?, ?it/s]\u001b[A\n",
      "train loss = 0.3411165:   0%|          | 0/7.8125 [00:00<?, ?it/s]\u001b[A\n",
      "train loss = 0.3411165:   0%|          | 0/7.8125 [00:00<?, ?it/s]\u001b[A\n",
      "train loss = 0.3411165:  51%|█████     | 4/7.8125 [00:00<00:00, 30.29it/s]\u001b[A\n",
      "train loss = 0.4076359:  51%|█████     | 4/7.8125 [00:00<00:00, 30.29it/s]\u001b[A\n",
      "train loss = 0.4076359:  51%|█████     | 4/7.8125 [00:00<00:00, 30.29it/s]\u001b[A\n",
      "train loss = 0.3563873:  51%|█████     | 4/7.8125 [00:00<00:00, 30.29it/s]\u001b[A"
     ]
    },
    {
     "name": "stdout",
     "output_type": "stream",
     "text": [
      "Epoch: 11, Training Loss:   0.4018\n"
     ]
    },
    {
     "name": "stderr",
     "output_type": "stream",
     "text": [
      "\n",
      "train loss = 0.3563873:  51%|█████     | 4/7.8125 [00:00<00:00, 30.29it/s]\u001b[A\n",
      "train loss = 0.3912233:  51%|█████     | 4/7.8125 [00:00<00:00, 30.29it/s]\u001b[A\n",
      "train loss = 0.3912233:  51%|█████     | 4/7.8125 [00:00<00:00, 30.29it/s]\u001b[A\n",
      "train loss = 0.3912233:  90%|████████▉ | 7/7.8125 [00:00<00:00, 30.09it/s]\u001b[A\n",
      "train loss = 0.3611625:  90%|████████▉ | 7/7.8125 [00:00<00:00, 30.09it/s]\u001b[A\n",
      "train loss = 0.3611625:  90%|████████▉ | 7/7.8125 [00:00<00:00, 30.09it/s]\u001b[A\n",
      "train loss = 0.3611625: : 8it [00:00, 30.19it/s]                          \u001b[A\n",
      "  0%|          | 0/7.8125 [00:00<?, ?it/s]\u001b[A\n",
      "train loss = 0.3880602:   0%|          | 0/7.8125 [00:00<?, ?it/s]\u001b[A\n",
      "train loss = 0.3880602:   0%|          | 0/7.8125 [00:00<?, ?it/s]\u001b[A\n",
      "train loss = 0.3584842:   0%|          | 0/7.8125 [00:00<?, ?it/s]\u001b[A\n",
      "train loss = 0.3584842:   0%|          | 0/7.8125 [00:00<?, ?it/s]\u001b[A\n",
      "train loss = 0.3833195:   0%|          | 0/7.8125 [00:00<?, ?it/s]\u001b[A\n",
      "train loss = 0.3833195:   0%|          | 0/7.8125 [00:00<?, ?it/s]\u001b[A\n",
      "train loss = 0.3833195:  38%|███▊      | 3/7.8125 [00:00<00:00, 29.94it/s]\u001b[A\n",
      "train loss = 0.4501636:  38%|███▊      | 3/7.8125 [00:00<00:00, 29.94it/s]\u001b[A\n",
      "train loss = 0.4501636:  38%|███▊      | 3/7.8125 [00:00<00:00, 29.94it/s]\u001b[A\n",
      "train loss = 0.4614630:  38%|███▊      | 3/7.8125 [00:00<00:00, 29.94it/s]\u001b[A\n",
      "train loss = 0.4614630:  38%|███▊      | 3/7.8125 [00:00<00:00, 29.94it/s]\u001b[A\n"
     ]
    },
    {
     "name": "stdout",
     "output_type": "stream",
     "text": [
      "Epoch: 12, Training Loss:   0.3985\n"
     ]
    },
    {
     "name": "stderr",
     "output_type": "stream",
     "text": [
      "train loss = 0.3638352:  38%|███▊      | 3/7.8125 [00:00<00:00, 29.94it/s]\u001b[A\n",
      "train loss = 0.3638352:  38%|███▊      | 3/7.8125 [00:00<00:00, 29.94it/s]\u001b[A\n",
      "train loss = 0.3638352:  77%|███████▋  | 6/7.8125 [00:00<00:00, 29.93it/s]\u001b[A\n",
      "train loss = 0.3645650:  77%|███████▋  | 6/7.8125 [00:00<00:00, 29.93it/s]\u001b[A\n",
      "train loss = 0.3645650:  77%|███████▋  | 6/7.8125 [00:00<00:00, 29.93it/s]\u001b[A\n",
      "train loss = 0.3921432:  77%|███████▋  | 6/7.8125 [00:00<00:00, 29.93it/s]\u001b[A\n",
      "train loss = 0.3921432:  77%|███████▋  | 6/7.8125 [00:00<00:00, 29.93it/s]\u001b[A\n",
      "train loss = 0.3921432: : 8it [00:00, 30.09it/s]                          \u001b[A\n",
      "  0%|          | 0/7.8125 [00:00<?, ?it/s]\u001b[A\n",
      "train loss = 0.3686350:   0%|          | 0/7.8125 [00:00<?, ?it/s]\u001b[A\n",
      "train loss = 0.3686350:   0%|          | 0/7.8125 [00:00<?, ?it/s]\u001b[A\n",
      "train loss = 0.4034601:   0%|          | 0/7.8125 [00:00<?, ?it/s]\u001b[A\n",
      "train loss = 0.4034601:   0%|          | 0/7.8125 [00:00<?, ?it/s]\u001b[A\n",
      "train loss = 0.4385557:   0%|          | 0/7.8125 [00:00<?, ?it/s]\u001b[A\n",
      "train loss = 0.4385557:   0%|          | 0/7.8125 [00:00<?, ?it/s]\u001b[A\n",
      "train loss = 0.4530859:   0%|          | 0/7.8125 [00:00<?, ?it/s]\u001b[A\n",
      "train loss = 0.4530859:   0%|          | 0/7.8125 [00:00<?, ?it/s]\u001b[A\n",
      "train loss = 0.4530859:  51%|█████     | 4/7.8125 [00:00<00:00, 30.25it/s]\u001b[A\n",
      "train loss = 0.2990165:  51%|█████     | 4/7.8125 [00:00<00:00, 30.25it/s]\u001b[A\n",
      "train loss = 0.2990165:  51%|█████     | 4/7.8125 [00:00<00:00, 30.25it/s]\u001b[A\n"
     ]
    },
    {
     "name": "stdout",
     "output_type": "stream",
     "text": [
      "Epoch: 13, Training Loss:   0.3953\n"
     ]
    },
    {
     "name": "stderr",
     "output_type": "stream",
     "text": [
      "train loss = 0.3443885:  51%|█████     | 4/7.8125 [00:00<00:00, 30.25it/s]\u001b[A\n",
      "train loss = 0.3443885:  51%|█████     | 4/7.8125 [00:00<00:00, 30.25it/s]\u001b[A\n",
      "train loss = 0.4259039:  51%|█████     | 4/7.8125 [00:00<00:00, 30.25it/s]\u001b[A\n",
      "train loss = 0.4259039:  51%|█████     | 4/7.8125 [00:00<00:00, 30.25it/s]\u001b[A\n",
      "train loss = 0.4259039:  90%|████████▉ | 7/7.8125 [00:00<00:00, 30.01it/s]\u001b[A\n",
      "train loss = 0.3805148:  90%|████████▉ | 7/7.8125 [00:00<00:00, 30.01it/s]\u001b[A\n",
      "train loss = 0.3805148:  90%|████████▉ | 7/7.8125 [00:00<00:00, 30.01it/s]\u001b[A\n",
      "train loss = 0.3805148: : 8it [00:00, 30.12it/s]                          \u001b[A\n",
      "  0%|          | 0/7.8125 [00:00<?, ?it/s]\u001b[A\n",
      "train loss = 0.3732754:   0%|          | 0/7.8125 [00:00<?, ?it/s]\u001b[A\n",
      "train loss = 0.3732754:   0%|          | 0/7.8125 [00:00<?, ?it/s]\u001b[A\n",
      "train loss = 0.4166882:   0%|          | 0/7.8125 [00:00<?, ?it/s]\u001b[A\n",
      "train loss = 0.4166882:   0%|          | 0/7.8125 [00:00<?, ?it/s]\u001b[A\n",
      "train loss = 0.3744646:   0%|          | 0/7.8125 [00:00<?, ?it/s]\u001b[A\n",
      "train loss = 0.3744646:   0%|          | 0/7.8125 [00:00<?, ?it/s]\u001b[A\n",
      "train loss = 0.3563845:   0%|          | 0/7.8125 [00:00<?, ?it/s]\u001b[A\n",
      "train loss = 0.3563845:   0%|          | 0/7.8125 [00:00<?, ?it/s]\u001b[A\n",
      "train loss = 0.3563845:  51%|█████     | 4/7.8125 [00:00<00:00, 30.18it/s]\u001b[A\n",
      "train loss = 0.3955637:  51%|█████     | 4/7.8125 [00:00<00:00, 30.18it/s]\u001b[A\n",
      "train loss = 0.3955637:  51%|█████     | 4/7.8125 [00:00<00:00, 30.18it/s]\u001b[A\n",
      "train loss = 0.3862613:  51%|█████     | 4/7.8125 [00:00<00:00, 30.18it/s]"
     ]
    },
    {
     "name": "stdout",
     "output_type": "stream",
     "text": [
      "Epoch: 14, Training Loss:   0.3892\n"
     ]
    },
    {
     "name": "stderr",
     "output_type": "stream",
     "text": [
      "\u001b[A\n",
      "train loss = 0.3862613:  51%|█████     | 4/7.8125 [00:00<00:00, 30.18it/s]\u001b[A\n",
      "train loss = 0.3691905:  51%|█████     | 4/7.8125 [00:00<00:00, 30.18it/s]\u001b[A\n",
      "train loss = 0.3691905:  51%|█████     | 4/7.8125 [00:00<00:00, 30.18it/s]\u001b[A\n",
      "train loss = 0.3691905:  90%|████████▉ | 7/7.8125 [00:00<00:00, 29.77it/s]\u001b[A\n",
      "train loss = 0.3817952:  90%|████████▉ | 7/7.8125 [00:00<00:00, 29.77it/s]\u001b[A\n",
      "train loss = 0.3817952:  90%|████████▉ | 7/7.8125 [00:00<00:00, 29.77it/s]\u001b[A\n",
      "train loss = 0.3817952: : 8it [00:00, 29.88it/s]                          \u001b[A\n",
      "  0%|          | 0/7.8125 [00:00<?, ?it/s]\u001b[A\n",
      "train loss = 0.3325815:   0%|          | 0/7.8125 [00:00<?, ?it/s]\u001b[A\n",
      "train loss = 0.3325815:   0%|          | 0/7.8125 [00:00<?, ?it/s]\u001b[A\n",
      "train loss = 0.4425973:   0%|          | 0/7.8125 [00:00<?, ?it/s]\u001b[A\n",
      "train loss = 0.4425973:   0%|          | 0/7.8125 [00:00<?, ?it/s]\u001b[A\n",
      "train loss = 0.3204413:   0%|          | 0/7.8125 [00:00<?, ?it/s]\u001b[A\n",
      "train loss = 0.3204413:   0%|          | 0/7.8125 [00:00<?, ?it/s]\u001b[A\n",
      "train loss = 0.3357446:   0%|          | 0/7.8125 [00:00<?, ?it/s]\u001b[A\n",
      "train loss = 0.3357446:   0%|          | 0/7.8125 [00:00<?, ?it/s]\u001b[A\n",
      "train loss = 0.3357446:  51%|█████     | 4/7.8125 [00:00<00:00, 30.18it/s]\u001b[A\n",
      "train loss = 0.3687256:  51%|█████     | 4/7.8125 [00:00<00:00, 30.18it/s]\u001b[A\n",
      "train loss = 0.3687256:  51%|█████     | 4/7.8125 [00:00<00:00, 30.18it/s]\u001b[A\n",
      "train loss = 0.3426981:  51%|█████     | 4/7.8125 [00:00<00:00, 30.18it/s]"
     ]
    },
    {
     "name": "stdout",
     "output_type": "stream",
     "text": [
      "Epoch: 15, Training Loss:   0.3817\n"
     ]
    },
    {
     "name": "stderr",
     "output_type": "stream",
     "text": [
      "\u001b[A\n",
      "train loss = 0.3426981:  51%|█████     | 4/7.8125 [00:00<00:00, 30.18it/s]\u001b[A\n",
      "train loss = 0.3177165:  51%|█████     | 4/7.8125 [00:00<00:00, 30.18it/s]\u001b[A\n",
      "train loss = 0.3177165:  51%|█████     | 4/7.8125 [00:00<00:00, 30.18it/s]\u001b[A\n",
      "train loss = 0.3177165:  90%|████████▉ | 7/7.8125 [00:00<00:00, 29.99it/s]\u001b[A\n",
      "train loss = 0.4097846:  90%|████████▉ | 7/7.8125 [00:00<00:00, 29.99it/s]\u001b[A\n",
      "train loss = 0.4097846:  90%|████████▉ | 7/7.8125 [00:00<00:00, 29.99it/s]\u001b[A\n",
      "train loss = 0.4097846: : 8it [00:00, 30.07it/s]                          \u001b[A\n",
      "  0%|          | 0/7.8125 [00:00<?, ?it/s]\u001b[A\n",
      "train loss = 0.3121675:   0%|          | 0/7.8125 [00:00<?, ?it/s]\u001b[A\n",
      "train loss = 0.3121675:   0%|          | 0/7.8125 [00:00<?, ?it/s]\u001b[A\n",
      "train loss = 0.3177290:   0%|          | 0/7.8125 [00:00<?, ?it/s]\u001b[A\n",
      "train loss = 0.3177290:   0%|          | 0/7.8125 [00:00<?, ?it/s]\u001b[A\n",
      "train loss = 0.3301710:   0%|          | 0/7.8125 [00:00<?, ?it/s]\u001b[A\n",
      "train loss = 0.3301710:   0%|          | 0/7.8125 [00:00<?, ?it/s]\u001b[A\n",
      "train loss = 0.3301710:  38%|███▊      | 3/7.8125 [00:00<00:00, 29.47it/s]\u001b[A\n",
      "train loss = 0.3398723:  38%|███▊      | 3/7.8125 [00:00<00:00, 29.47it/s]\u001b[A\n",
      "train loss = 0.3398723:  38%|███▊      | 3/7.8125 [00:00<00:00, 29.47it/s]\u001b[A\n",
      "train loss = 0.2781709:  38%|███▊      | 3/7.8125 [00:00<00:00, 29.47it/s]\u001b[A\n",
      "train loss = 0.2781709:  38%|███▊      | 3/7.8125 [00:00<00:00, 29.47it/s]\u001b[A"
     ]
    },
    {
     "name": "stdout",
     "output_type": "stream",
     "text": [
      "Epoch: 16, Training Loss:   0.3588\n"
     ]
    },
    {
     "name": "stderr",
     "output_type": "stream",
     "text": [
      "\n",
      "train loss = 0.2985268:  38%|███▊      | 3/7.8125 [00:00<00:00, 29.47it/s]\u001b[A\n",
      "train loss = 0.2985268:  38%|███▊      | 3/7.8125 [00:00<00:00, 29.47it/s]\u001b[A\n",
      "train loss = 0.2985268:  77%|███████▋  | 6/7.8125 [00:00<00:00, 29.59it/s]\u001b[A\n",
      "train loss = 0.3433853:  77%|███████▋  | 6/7.8125 [00:00<00:00, 29.59it/s]\u001b[A\n",
      "train loss = 0.3433853:  77%|███████▋  | 6/7.8125 [00:00<00:00, 29.59it/s]\u001b[A\n",
      "train loss = 0.3195127:  77%|███████▋  | 6/7.8125 [00:00<00:00, 29.59it/s]\u001b[A\n",
      "train loss = 0.3195127:  77%|███████▋  | 6/7.8125 [00:00<00:00, 29.59it/s]\u001b[A\n",
      "train loss = 0.3195127: : 8it [00:00, 29.98it/s]                          \u001b[A\n",
      "  0%|          | 0/7.8125 [00:00<?, ?it/s]\u001b[A\n",
      "train loss = 0.2811910:   0%|          | 0/7.8125 [00:00<?, ?it/s]\u001b[A\n",
      "train loss = 0.2811910:   0%|          | 0/7.8125 [00:00<?, ?it/s]\u001b[A\n",
      "train loss = 0.3199520:   0%|          | 0/7.8125 [00:00<?, ?it/s]\u001b[A\n",
      "train loss = 0.3199520:   0%|          | 0/7.8125 [00:00<?, ?it/s]\u001b[A\n",
      "train loss = 0.3297720:   0%|          | 0/7.8125 [00:00<?, ?it/s]\u001b[A\n",
      "train loss = 0.3297720:   0%|          | 0/7.8125 [00:00<?, ?it/s]\u001b[A\n",
      "train loss = 0.2977471:   0%|          | 0/7.8125 [00:00<?, ?it/s]\u001b[A\n",
      "train loss = 0.2977471:   0%|          | 0/7.8125 [00:00<?, ?it/s]\u001b[A\n",
      "train loss = 0.2977471:  51%|█████     | 4/7.8125 [00:00<00:00, 30.07it/s]\u001b[A\n",
      "train loss = 0.2590403:  51%|█████     | 4/7.8125 [00:00<00:00, 30.07it/s]\u001b[A\n",
      "train loss = 0.2590403:  51%|█████     | 4/7.8125 [00:00<00:00, 30.07it/s]\u001b[A"
     ]
    },
    {
     "name": "stdout",
     "output_type": "stream",
     "text": [
      "Epoch: 17, Training Loss:   0.3174\n"
     ]
    },
    {
     "name": "stderr",
     "output_type": "stream",
     "text": [
      "\n",
      "train loss = 0.2803906:  51%|█████     | 4/7.8125 [00:00<00:00, 30.07it/s]\u001b[A\n",
      "train loss = 0.2803906:  51%|█████     | 4/7.8125 [00:00<00:00, 30.07it/s]\u001b[A\n",
      "train loss = 0.3037259:  51%|█████     | 4/7.8125 [00:00<00:00, 30.07it/s]\u001b[A\n",
      "train loss = 0.3037259:  51%|█████     | 4/7.8125 [00:00<00:00, 30.07it/s]\u001b[A\n",
      "train loss = 0.3037259:  90%|████████▉ | 7/7.8125 [00:00<00:00, 29.88it/s]\u001b[A\n",
      "train loss = 0.3278712:  90%|████████▉ | 7/7.8125 [00:00<00:00, 29.88it/s]\u001b[A\n",
      "train loss = 0.3278712:  90%|████████▉ | 7/7.8125 [00:00<00:00, 29.88it/s]\u001b[A\n",
      "train loss = 0.3278712: : 8it [00:00, 30.00it/s]                          \u001b[A\n",
      "  0%|          | 0/7.8125 [00:00<?, ?it/s]\u001b[A\n",
      "train loss = 0.2554423:   0%|          | 0/7.8125 [00:00<?, ?it/s]\u001b[A\n",
      "train loss = 0.2554423:   0%|          | 0/7.8125 [00:00<?, ?it/s]\u001b[A\n",
      "train loss = 0.3084866:   0%|          | 0/7.8125 [00:00<?, ?it/s]\u001b[A\n",
      "train loss = 0.3084866:   0%|          | 0/7.8125 [00:00<?, ?it/s]\u001b[A\n",
      "train loss = 0.3281548:   0%|          | 0/7.8125 [00:00<?, ?it/s]\u001b[A\n",
      "train loss = 0.3281548:   0%|          | 0/7.8125 [00:00<?, ?it/s]\u001b[A\n",
      "train loss = 0.2545561:   0%|          | 0/7.8125 [00:00<?, ?it/s]\u001b[A\n",
      "train loss = 0.2545561:   0%|          | 0/7.8125 [00:00<?, ?it/s]\u001b[A\n",
      "train loss = 0.2545561:  51%|█████     | 4/7.8125 [00:00<00:00, 30.06it/s]\u001b[A\n",
      "train loss = 0.3000545:  51%|█████     | 4/7.8125 [00:00<00:00, 30.06it/s]\u001b[A\n",
      "train loss = 0.3000545:  51%|█████     | 4/7.8125 [00:00<00:00, 30.06it/s]\u001b[A"
     ]
    },
    {
     "name": "stdout",
     "output_type": "stream",
     "text": [
      "Epoch: 18, Training Loss:   0.3000\n"
     ]
    },
    {
     "name": "stderr",
     "output_type": "stream",
     "text": [
      "\n",
      "train loss = 0.2597162:  51%|█████     | 4/7.8125 [00:00<00:00, 30.06it/s]\u001b[A\n",
      "train loss = 0.2597162:  51%|█████     | 4/7.8125 [00:00<00:00, 30.06it/s]\u001b[A\n",
      "train loss = 0.2670012:  51%|█████     | 4/7.8125 [00:00<00:00, 30.06it/s]\u001b[A\n",
      "train loss = 0.2670012:  51%|█████     | 4/7.8125 [00:00<00:00, 30.06it/s]\u001b[A\n",
      "train loss = 0.2670012:  90%|████████▉ | 7/7.8125 [00:00<00:00, 29.74it/s]\u001b[A\n",
      "train loss = 0.2935728:  90%|████████▉ | 7/7.8125 [00:00<00:00, 29.74it/s]\u001b[A\n",
      "train loss = 0.2935728:  90%|████████▉ | 7/7.8125 [00:00<00:00, 29.74it/s]\u001b[A\n",
      "train loss = 0.2935728: : 8it [00:00, 29.91it/s]                          \u001b[A\n",
      "  0%|          | 0/7.8125 [00:00<?, ?it/s]\u001b[A\n",
      "train loss = 0.2584855:   0%|          | 0/7.8125 [00:00<?, ?it/s]\u001b[A\n",
      "train loss = 0.2584855:   0%|          | 0/7.8125 [00:00<?, ?it/s]\u001b[A\n",
      "train loss = 0.2897697:   0%|          | 0/7.8125 [00:00<?, ?it/s]\u001b[A\n",
      "train loss = 0.2897697:   0%|          | 0/7.8125 [00:00<?, ?it/s]\u001b[A\n",
      "train loss = 0.3319657:   0%|          | 0/7.8125 [00:00<?, ?it/s]\u001b[A\n",
      "train loss = 0.3319657:   0%|          | 0/7.8125 [00:00<?, ?it/s]\u001b[A\n",
      "train loss = 0.2682530:   0%|          | 0/7.8125 [00:00<?, ?it/s]\u001b[A\n",
      "train loss = 0.2682530:   0%|          | 0/7.8125 [00:00<?, ?it/s]\u001b[A\n",
      "train loss = 0.2682530:  51%|█████     | 4/7.8125 [00:00<00:00, 29.94it/s]\u001b[A\n",
      "train loss = 0.2859600:  51%|█████     | 4/7.8125 [00:00<00:00, 29.94it/s]\u001b[A\n",
      "train loss = 0.2859600:  51%|█████     | 4/7.8125 [00:00<00:00, 29.94it/s]\u001b[A"
     ]
    },
    {
     "name": "stdout",
     "output_type": "stream",
     "text": [
      "Epoch: 19, Training Loss:   0.2834\n"
     ]
    },
    {
     "name": "stderr",
     "output_type": "stream",
     "text": [
      "\n",
      "train loss = 0.2577122:  51%|█████     | 4/7.8125 [00:00<00:00, 29.94it/s]\u001b[A\n",
      "train loss = 0.2577122:  51%|█████     | 4/7.8125 [00:00<00:00, 29.94it/s]\u001b[A\n",
      "train loss = 0.2727959:  51%|█████     | 4/7.8125 [00:00<00:00, 29.94it/s]\u001b[A\n",
      "train loss = 0.2727959:  51%|█████     | 4/7.8125 [00:00<00:00, 29.94it/s]\u001b[A\n",
      "train loss = 0.2727959:  90%|████████▉ | 7/7.8125 [00:00<00:00, 29.88it/s]\u001b[A\n",
      "train loss = 0.2286346:  90%|████████▉ | 7/7.8125 [00:00<00:00, 29.88it/s]\u001b[A\n",
      "train loss = 0.2286346:  90%|████████▉ | 7/7.8125 [00:00<00:00, 29.88it/s]\u001b[A\n",
      "train loss = 0.2286346: : 8it [00:00, 29.94it/s]                          \u001b[A\n",
      "  0%|          | 0/7.8125 [00:00<?, ?it/s]\u001b[A\n",
      "train loss = 0.2108273:   0%|          | 0/7.8125 [00:00<?, ?it/s]\u001b[A\n",
      "train loss = 0.2108273:   0%|          | 0/7.8125 [00:00<?, ?it/s]\u001b[A\n",
      "train loss = 0.2589731:   0%|          | 0/7.8125 [00:00<?, ?it/s]\u001b[A\n",
      "train loss = 0.2589731:   0%|          | 0/7.8125 [00:00<?, ?it/s]\u001b[A\n",
      "train loss = 0.2649952:   0%|          | 0/7.8125 [00:00<?, ?it/s]\u001b[A\n",
      "train loss = 0.2649952:   0%|          | 0/7.8125 [00:00<?, ?it/s]\u001b[A\n",
      "train loss = 0.2649952:  38%|███▊      | 3/7.8125 [00:00<00:00, 29.68it/s]\u001b[A\n",
      "train loss = 0.2767121:  38%|███▊      | 3/7.8125 [00:00<00:00, 29.68it/s]\u001b[A\n",
      "train loss = 0.2767121:  38%|███▊      | 3/7.8125 [00:00<00:00, 29.68it/s]\u001b[A\n",
      "train loss = 0.2816907:  38%|███▊      | 3/7.8125 [00:00<00:00, 29.68it/s]\u001b[A\n",
      "train loss = 0.2816907:  38%|███▊      | 3/7.8125 [00:00<00:00, 29.68it/s]\u001b[A"
     ]
    },
    {
     "name": "stdout",
     "output_type": "stream",
     "text": [
      "Epoch: 20, Training Loss:   0.2742\n"
     ]
    },
    {
     "name": "stderr",
     "output_type": "stream",
     "text": [
      "\n",
      "train loss = 0.2792221:  38%|███▊      | 3/7.8125 [00:00<00:00, 29.68it/s]\u001b[A\n",
      "train loss = 0.2792221:  38%|███▊      | 3/7.8125 [00:00<00:00, 29.68it/s]\u001b[A\n",
      "train loss = 0.2644566:  38%|███▊      | 3/7.8125 [00:00<00:00, 29.68it/s]\u001b[A\n",
      "train loss = 0.2644566:  38%|███▊      | 3/7.8125 [00:00<00:00, 29.68it/s]\u001b[A\n",
      "train loss = 0.2644566:  90%|████████▉ | 7/7.8125 [00:00<00:00, 29.73it/s]\u001b[A\n",
      "train loss = 0.2608826:  90%|████████▉ | 7/7.8125 [00:00<00:00, 29.73it/s]\u001b[A\n",
      "train loss = 0.2608826:  90%|████████▉ | 7/7.8125 [00:00<00:00, 29.73it/s]\u001b[A\n",
      "train loss = 0.2608826: : 8it [00:00, 30.00it/s]                          \u001b[A\n",
      "  0%|          | 0/7.8125 [00:00<?, ?it/s]\u001b[A\n",
      "train loss = 0.3036300:   0%|          | 0/7.8125 [00:00<?, ?it/s]\u001b[A\n",
      "train loss = 0.3036300:   0%|          | 0/7.8125 [00:00<?, ?it/s]\u001b[A\n",
      "train loss = 0.2653390:   0%|          | 0/7.8125 [00:00<?, ?it/s]\u001b[A\n",
      "train loss = 0.2653390:   0%|          | 0/7.8125 [00:00<?, ?it/s]\u001b[A\n",
      "train loss = 0.2315996:   0%|          | 0/7.8125 [00:00<?, ?it/s]\u001b[A\n",
      "train loss = 0.2315996:   0%|          | 0/7.8125 [00:00<?, ?it/s]\u001b[A\n",
      "train loss = 0.3311059:   0%|          | 0/7.8125 [00:00<?, ?it/s]\u001b[A\n",
      "train loss = 0.3311059:   0%|          | 0/7.8125 [00:00<?, ?it/s]\u001b[A\n",
      "train loss = 0.3311059:  51%|█████     | 4/7.8125 [00:00<00:00, 30.19it/s]\u001b[A\n",
      "train loss = 0.2118523:  51%|█████     | 4/7.8125 [00:00<00:00, 30.19it/s]\u001b[A\n",
      "train loss = 0.2118523:  51%|█████     | 4/7.8125 [00:00<00:00, 30.19it/s]\u001b[A\n"
     ]
    },
    {
     "name": "stdout",
     "output_type": "stream",
     "text": [
      "Epoch: 21, Training Loss:   0.2622\n"
     ]
    },
    {
     "name": "stderr",
     "output_type": "stream",
     "text": [
      "train loss = 0.2572710:  51%|█████     | 4/7.8125 [00:00<00:00, 30.19it/s]\u001b[A\n",
      "train loss = 0.2572710:  51%|█████     | 4/7.8125 [00:00<00:00, 30.19it/s]\u001b[A\n",
      "train loss = 0.2459506:  51%|█████     | 4/7.8125 [00:00<00:00, 30.19it/s]\u001b[A\n",
      "train loss = 0.2459506:  51%|█████     | 4/7.8125 [00:00<00:00, 30.19it/s]\u001b[A\n",
      "train loss = 0.2459506:  90%|████████▉ | 7/7.8125 [00:00<00:00, 29.94it/s]\u001b[A\n",
      "train loss = 0.2301140:  90%|████████▉ | 7/7.8125 [00:00<00:00, 29.94it/s]\u001b[A\n",
      "train loss = 0.2301140:  90%|████████▉ | 7/7.8125 [00:00<00:00, 29.94it/s]\u001b[A\n",
      "train loss = 0.2301140: : 8it [00:00, 29.91it/s]                          \u001b[A\n",
      "  0%|          | 0/7.8125 [00:00<?, ?it/s]\u001b[A\n",
      "train loss = 0.2682509:   0%|          | 0/7.8125 [00:00<?, ?it/s]\u001b[A\n",
      "train loss = 0.2682509:   0%|          | 0/7.8125 [00:00<?, ?it/s]\u001b[A\n",
      "train loss = 0.2275961:   0%|          | 0/7.8125 [00:00<?, ?it/s]\u001b[A\n",
      "train loss = 0.2275961:   0%|          | 0/7.8125 [00:00<?, ?it/s]\u001b[A\n",
      "train loss = 0.3191163:   0%|          | 0/7.8125 [00:00<?, ?it/s]\u001b[A\n",
      "train loss = 0.3191163:   0%|          | 0/7.8125 [00:00<?, ?it/s]\u001b[A\n",
      "train loss = 0.3191163:  38%|███▊      | 3/7.8125 [00:00<00:00, 29.53it/s]\u001b[A\n",
      "train loss = 0.2573488:  38%|███▊      | 3/7.8125 [00:00<00:00, 29.53it/s]\u001b[A\n",
      "train loss = 0.2573488:  38%|███▊      | 3/7.8125 [00:00<00:00, 29.53it/s]\u001b[A\n",
      "train loss = 0.2306187:  38%|███▊      | 3/7.8125 [00:00<00:00, 29.53it/s]\u001b[A\n",
      "train loss = 0.2306187:  38%|███▊      | 3/7.8125 [00:00<00:00, 29.53it/s]\u001b[A"
     ]
    },
    {
     "name": "stdout",
     "output_type": "stream",
     "text": [
      "Epoch: 22, Training Loss:   0.2596\n"
     ]
    },
    {
     "name": "stderr",
     "output_type": "stream",
     "text": [
      "\n",
      "train loss = 0.2145671:  38%|███▊      | 3/7.8125 [00:00<00:00, 29.53it/s]\u001b[A\n",
      "train loss = 0.2145671:  38%|███▊      | 3/7.8125 [00:00<00:00, 29.53it/s]\u001b[A\n",
      "train loss = 0.2145671:  77%|███████▋  | 6/7.8125 [00:00<00:00, 29.61it/s]\u001b[A\n",
      "train loss = 0.2360814:  77%|███████▋  | 6/7.8125 [00:00<00:00, 29.61it/s]\u001b[A\n",
      "train loss = 0.2360814:  77%|███████▋  | 6/7.8125 [00:00<00:00, 29.61it/s]\u001b[A\n",
      "train loss = 0.2344883:  77%|███████▋  | 6/7.8125 [00:00<00:00, 29.61it/s]\u001b[A\n",
      "train loss = 0.2344883:  77%|███████▋  | 6/7.8125 [00:00<00:00, 29.61it/s]\u001b[A\n",
      "train loss = 0.2344883: : 8it [00:00, 29.96it/s]                          \u001b[A\n",
      "  0%|          | 0/7.8125 [00:00<?, ?it/s]\u001b[A\n",
      "train loss = 0.2464275:   0%|          | 0/7.8125 [00:00<?, ?it/s]\u001b[A\n",
      "train loss = 0.2464275:   0%|          | 0/7.8125 [00:00<?, ?it/s]\u001b[A\n",
      "train loss = 0.2119140:   0%|          | 0/7.8125 [00:00<?, ?it/s]\u001b[A\n",
      "train loss = 0.2119140:   0%|          | 0/7.8125 [00:00<?, ?it/s]\u001b[A\n",
      "train loss = 0.2643944:   0%|          | 0/7.8125 [00:00<?, ?it/s]\u001b[A\n",
      "train loss = 0.2643944:   0%|          | 0/7.8125 [00:00<?, ?it/s]\u001b[A\n",
      "train loss = 0.2643944:  38%|███▊      | 3/7.8125 [00:00<00:00, 29.68it/s]\u001b[A\n",
      "train loss = 0.2146671:  38%|███▊      | 3/7.8125 [00:00<00:00, 29.68it/s]\u001b[A\n",
      "train loss = 0.2146671:  38%|███▊      | 3/7.8125 [00:00<00:00, 29.68it/s]\u001b[A\n",
      "train loss = 0.2317061:  38%|███▊      | 3/7.8125 [00:00<00:00, 29.68it/s]\u001b[A\n",
      "train loss = 0.2317061:  38%|███▊      | 3/7.8125 [00:00<00:00, 29.68it/s]\u001b[A"
     ]
    },
    {
     "name": "stdout",
     "output_type": "stream",
     "text": [
      "Epoch: 23, Training Loss:   0.2485\n"
     ]
    },
    {
     "name": "stderr",
     "output_type": "stream",
     "text": [
      "\n",
      "train loss = 0.2487725:  38%|███▊      | 3/7.8125 [00:00<00:00, 29.68it/s]\u001b[A\n",
      "train loss = 0.2487725:  38%|███▊      | 3/7.8125 [00:00<00:00, 29.68it/s]\u001b[A\n",
      "train loss = 0.2487725:  77%|███████▋  | 6/7.8125 [00:00<00:00, 29.68it/s]\u001b[A\n",
      "train loss = 0.2518372:  77%|███████▋  | 6/7.8125 [00:00<00:00, 29.68it/s]\u001b[A\n",
      "train loss = 0.2518372:  77%|███████▋  | 6/7.8125 [00:00<00:00, 29.68it/s]\u001b[A\n",
      "train loss = 0.2612275:  77%|███████▋  | 6/7.8125 [00:00<00:00, 29.68it/s]\u001b[A\n",
      "train loss = 0.2612275:  77%|███████▋  | 6/7.8125 [00:00<00:00, 29.68it/s]\u001b[A\n",
      "train loss = 0.2612275: : 8it [00:00, 29.97it/s]                          \u001b[A\n",
      "  0%|          | 0/7.8125 [00:00<?, ?it/s]\u001b[A\n",
      "train loss = 0.2656698:   0%|          | 0/7.8125 [00:00<?, ?it/s]\u001b[A\n",
      "train loss = 0.2656698:   0%|          | 0/7.8125 [00:00<?, ?it/s]\u001b[A\n",
      "train loss = 0.2203758:   0%|          | 0/7.8125 [00:00<?, ?it/s]\u001b[A\n",
      "train loss = 0.2203758:   0%|          | 0/7.8125 [00:00<?, ?it/s]\u001b[A\n",
      "train loss = 0.2771714:   0%|          | 0/7.8125 [00:00<?, ?it/s]\u001b[A\n",
      "train loss = 0.2771714:   0%|          | 0/7.8125 [00:00<?, ?it/s]\u001b[A\n",
      "train loss = 0.2237190:   0%|          | 0/7.8125 [00:00<?, ?it/s]\u001b[A\n",
      "train loss = 0.2237190:   0%|          | 0/7.8125 [00:00<?, ?it/s]\u001b[A\n",
      "train loss = 0.2237190:  51%|█████     | 4/7.8125 [00:00<00:00, 30.00it/s]\u001b[A\n",
      "train loss = 0.2168603:  51%|█████     | 4/7.8125 [00:00<00:00, 30.00it/s]\u001b[A\n",
      "train loss = 0.2168603:  51%|█████     | 4/7.8125 [00:00<00:00, 30.00it/s]\u001b[A"
     ]
    },
    {
     "name": "stdout",
     "output_type": "stream",
     "text": [
      "Epoch: 24, Training Loss:   0.2414\n"
     ]
    },
    {
     "name": "stderr",
     "output_type": "stream",
     "text": [
      "\n",
      "train loss = 0.2052227:  51%|█████     | 4/7.8125 [00:00<00:00, 30.00it/s]\u001b[A\n",
      "train loss = 0.2052227:  51%|█████     | 4/7.8125 [00:00<00:00, 30.00it/s]\u001b[A\n",
      "train loss = 0.2135894:  51%|█████     | 4/7.8125 [00:00<00:00, 30.00it/s]\u001b[A\n",
      "train loss = 0.2135894:  51%|█████     | 4/7.8125 [00:00<00:00, 30.00it/s]\u001b[A\n",
      "train loss = 0.2135894:  90%|████████▉ | 7/7.8125 [00:00<00:00, 29.84it/s]\u001b[A\n",
      "train loss = 0.2591287:  90%|████████▉ | 7/7.8125 [00:00<00:00, 29.84it/s]\u001b[A\n",
      "train loss = 0.2591287:  90%|████████▉ | 7/7.8125 [00:00<00:00, 29.84it/s]\u001b[A\n",
      "train loss = 0.2591287: : 8it [00:00, 30.02it/s]                          \u001b[A\n",
      "  0%|          | 0/7.8125 [00:00<?, ?it/s]\u001b[A\n",
      "train loss = 0.1761661:   0%|          | 0/7.8125 [00:00<?, ?it/s]\u001b[A\n",
      "train loss = 0.1761661:   0%|          | 0/7.8125 [00:00<?, ?it/s]\u001b[A\n",
      "train loss = 0.2430682:   0%|          | 0/7.8125 [00:00<?, ?it/s]\u001b[A\n",
      "train loss = 0.2430682:   0%|          | 0/7.8125 [00:00<?, ?it/s]\u001b[A\n",
      "train loss = 0.2638663:   0%|          | 0/7.8125 [00:00<?, ?it/s]\u001b[A\n",
      "train loss = 0.2638663:   0%|          | 0/7.8125 [00:00<?, ?it/s]\u001b[A\n",
      "train loss = 0.2638663:  38%|███▊      | 3/7.8125 [00:00<00:00, 29.90it/s]\u001b[A\n",
      "train loss = 0.2096704:  38%|███▊      | 3/7.8125 [00:00<00:00, 29.90it/s]\u001b[A\n",
      "train loss = 0.2096704:  38%|███▊      | 3/7.8125 [00:00<00:00, 29.90it/s]\u001b[A\n",
      "train loss = 0.2679499:  38%|███▊      | 3/7.8125 [00:00<00:00, 29.90it/s]\u001b[A\n",
      "train loss = 0.2679499:  38%|███▊      | 3/7.8125 [00:00<00:00, 29.90it/s]\u001b[A"
     ]
    },
    {
     "name": "stdout",
     "output_type": "stream",
     "text": [
      "Epoch: 25, Training Loss:   0.2352\n"
     ]
    },
    {
     "name": "stderr",
     "output_type": "stream",
     "text": [
      "\n",
      "train loss = 0.2261806:  38%|███▊      | 3/7.8125 [00:00<00:00, 29.90it/s]\u001b[A\n",
      "train loss = 0.2261806:  38%|███▊      | 3/7.8125 [00:00<00:00, 29.90it/s]\u001b[A\n",
      "train loss = 0.2261806:  77%|███████▋  | 6/7.8125 [00:00<00:00, 29.85it/s]\u001b[A\n",
      "train loss = 0.2315781:  77%|███████▋  | 6/7.8125 [00:00<00:00, 29.85it/s]\u001b[A\n",
      "train loss = 0.2315781:  77%|███████▋  | 6/7.8125 [00:00<00:00, 29.85it/s]\u001b[A\n",
      "train loss = 0.2142002:  77%|███████▋  | 6/7.8125 [00:00<00:00, 29.85it/s]\u001b[A\n",
      "train loss = 0.2142002:  77%|███████▋  | 6/7.8125 [00:00<00:00, 29.85it/s]\u001b[A\n",
      "train loss = 0.2142002: : 8it [00:00, 30.09it/s]                          \u001b[A\n",
      "  0%|          | 0/7.8125 [00:00<?, ?it/s]\u001b[A\n",
      "train loss = 0.2673779:   0%|          | 0/7.8125 [00:00<?, ?it/s]\u001b[A\n",
      "train loss = 0.2673779:   0%|          | 0/7.8125 [00:00<?, ?it/s]\u001b[A\n",
      "train loss = 0.2145026:   0%|          | 0/7.8125 [00:00<?, ?it/s]\u001b[A\n",
      "train loss = 0.2145026:   0%|          | 0/7.8125 [00:00<?, ?it/s]\u001b[A\n",
      "train loss = 0.2133720:   0%|          | 0/7.8125 [00:00<?, ?it/s]\u001b[A\n",
      "train loss = 0.2133720:   0%|          | 0/7.8125 [00:00<?, ?it/s]\u001b[A\n",
      "train loss = 0.2133720:  38%|███▊      | 3/7.8125 [00:00<00:00, 29.91it/s]\u001b[A\n",
      "train loss = 0.2231409:  38%|███▊      | 3/7.8125 [00:00<00:00, 29.91it/s]\u001b[A\n",
      "train loss = 0.2231409:  38%|███▊      | 3/7.8125 [00:00<00:00, 29.91it/s]\u001b[A\n",
      "train loss = 0.2114334:  38%|███▊      | 3/7.8125 [00:00<00:00, 29.91it/s]\u001b[A\n",
      "train loss = 0.2114334:  38%|███▊      | 3/7.8125 [00:00<00:00, 29.91it/s]\u001b[A"
     ]
    },
    {
     "name": "stdout",
     "output_type": "stream",
     "text": [
      "Epoch: 26, Training Loss:   0.2291\n"
     ]
    },
    {
     "name": "stderr",
     "output_type": "stream",
     "text": [
      "\n",
      "train loss = 0.2269888:  38%|███▊      | 3/7.8125 [00:00<00:00, 29.91it/s]\u001b[A\n",
      "train loss = 0.2269888:  38%|███▊      | 3/7.8125 [00:00<00:00, 29.91it/s]\u001b[A\n",
      "train loss = 0.2269888:  77%|███████▋  | 6/7.8125 [00:00<00:00, 29.85it/s]\u001b[A\n",
      "train loss = 0.2135276:  77%|███████▋  | 6/7.8125 [00:00<00:00, 29.85it/s]\u001b[A\n",
      "train loss = 0.2135276:  77%|███████▋  | 6/7.8125 [00:00<00:00, 29.85it/s]\u001b[A\n",
      "train loss = 0.2286633:  77%|███████▋  | 6/7.8125 [00:00<00:00, 29.85it/s]\u001b[A\n",
      "train loss = 0.2286633:  77%|███████▋  | 6/7.8125 [00:00<00:00, 29.85it/s]\u001b[A\n",
      "train loss = 0.2286633: : 8it [00:00, 29.81it/s]                          \u001b[A\n",
      "  0%|          | 0/7.8125 [00:00<?, ?it/s]\u001b[A\n",
      "train loss = 0.2286934:   0%|          | 0/7.8125 [00:00<?, ?it/s]\u001b[A\n",
      "train loss = 0.2286934:   0%|          | 0/7.8125 [00:00<?, ?it/s]\u001b[A\n",
      "train loss = 0.2098392:   0%|          | 0/7.8125 [00:00<?, ?it/s]\u001b[A\n",
      "train loss = 0.2098392:   0%|          | 0/7.8125 [00:00<?, ?it/s]\u001b[A\n",
      "train loss = 0.2399463:   0%|          | 0/7.8125 [00:00<?, ?it/s]\u001b[A\n",
      "train loss = 0.2399463:   0%|          | 0/7.8125 [00:00<?, ?it/s]\u001b[A\n",
      "train loss = 0.2399463:  38%|███▊      | 3/7.8125 [00:00<00:00, 29.84it/s]\u001b[A\n",
      "train loss = 0.2313016:  38%|███▊      | 3/7.8125 [00:00<00:00, 29.84it/s]\u001b[A\n",
      "train loss = 0.2313016:  38%|███▊      | 3/7.8125 [00:00<00:00, 29.84it/s]\u001b[A\n",
      "train loss = 0.2147032:  38%|███▊      | 3/7.8125 [00:00<00:00, 29.84it/s]\u001b[A\n",
      "train loss = 0.2147032:  38%|███▊      | 3/7.8125 [00:00<00:00, 29.84it/s]\u001b[A\n",
      "train loss = 0.2169458:  38%|███▊      | 3/7.8125 [00:00<00:00, 29.84it/s]\u001b[A"
     ]
    },
    {
     "name": "stdout",
     "output_type": "stream",
     "text": [
      "Epoch: 27, Training Loss:   0.2249\n"
     ]
    },
    {
     "name": "stderr",
     "output_type": "stream",
     "text": [
      "\n",
      "train loss = 0.2169458:  38%|███▊      | 3/7.8125 [00:00<00:00, 29.84it/s]\u001b[A\n",
      "train loss = 0.2352162:  38%|███▊      | 3/7.8125 [00:00<00:00, 29.84it/s]\u001b[A\n",
      "train loss = 0.2352162:  38%|███▊      | 3/7.8125 [00:00<00:00, 29.84it/s]\u001b[A\n",
      "train loss = 0.2352162:  90%|████████▉ | 7/7.8125 [00:00<00:00, 29.98it/s]\u001b[A\n",
      "train loss = 0.1971416:  90%|████████▉ | 7/7.8125 [00:00<00:00, 29.98it/s]\u001b[A\n",
      "train loss = 0.1971416:  90%|████████▉ | 7/7.8125 [00:00<00:00, 29.98it/s]\u001b[A\n",
      "train loss = 0.1971416: : 8it [00:00, 30.18it/s]                          \u001b[A\n",
      "  0%|          | 0/7.8125 [00:00<?, ?it/s]\u001b[A\n",
      "train loss = 0.2679024:   0%|          | 0/7.8125 [00:00<?, ?it/s]\u001b[A\n",
      "train loss = 0.2679024:   0%|          | 0/7.8125 [00:00<?, ?it/s]\u001b[A\n",
      "train loss = 0.2314527:   0%|          | 0/7.8125 [00:00<?, ?it/s]\u001b[A\n",
      "train loss = 0.2314527:   0%|          | 0/7.8125 [00:00<?, ?it/s]\u001b[A\n",
      "train loss = 0.2004145:   0%|          | 0/7.8125 [00:00<?, ?it/s]\u001b[A\n",
      "train loss = 0.2004145:   0%|          | 0/7.8125 [00:00<?, ?it/s]\u001b[A\n",
      "train loss = 0.2004145:  38%|███▊      | 3/7.8125 [00:00<00:00, 29.98it/s]\u001b[A\n",
      "train loss = 0.2217104:  38%|███▊      | 3/7.8125 [00:00<00:00, 29.98it/s]\u001b[A\n",
      "train loss = 0.2217104:  38%|███▊      | 3/7.8125 [00:00<00:00, 29.98it/s]\u001b[A\n",
      "train loss = 0.2307192:  38%|███▊      | 3/7.8125 [00:00<00:00, 29.98it/s]\u001b[A\n",
      "train loss = 0.2307192:  38%|███▊      | 3/7.8125 [00:00<00:00, 29.98it/s]\u001b[A\n",
      "train loss = 0.1864722:  38%|███▊      | 3/7.8125 [00:00<00:00, 29.98it/s]\u001b[A"
     ]
    },
    {
     "name": "stdout",
     "output_type": "stream",
     "text": [
      "Epoch: 28, Training Loss:   0.2217\n"
     ]
    },
    {
     "name": "stderr",
     "output_type": "stream",
     "text": [
      "\n",
      "train loss = 0.1864722:  38%|███▊      | 3/7.8125 [00:00<00:00, 29.98it/s]\u001b[A\n",
      "train loss = 0.1878105:  38%|███▊      | 3/7.8125 [00:00<00:00, 29.98it/s]\u001b[A\n",
      "train loss = 0.1878105:  38%|███▊      | 3/7.8125 [00:00<00:00, 29.98it/s]\u001b[A\n",
      "train loss = 0.1878105:  90%|████████▉ | 7/7.8125 [00:00<00:00, 29.97it/s]\u001b[A\n",
      "train loss = 0.2571920:  90%|████████▉ | 7/7.8125 [00:00<00:00, 29.97it/s]\u001b[A\n",
      "train loss = 0.2571920:  90%|████████▉ | 7/7.8125 [00:00<00:00, 29.97it/s]\u001b[A\n",
      "train loss = 0.2571920: : 8it [00:00, 30.13it/s]                          \u001b[A\n",
      "  0%|          | 0/7.8125 [00:00<?, ?it/s]\u001b[A\n",
      "train loss = 0.2472814:   0%|          | 0/7.8125 [00:00<?, ?it/s]\u001b[A\n",
      "train loss = 0.2472814:   0%|          | 0/7.8125 [00:00<?, ?it/s]\u001b[A\n",
      "train loss = 0.2020823:   0%|          | 0/7.8125 [00:00<?, ?it/s]\u001b[A\n",
      "train loss = 0.2020823:   0%|          | 0/7.8125 [00:00<?, ?it/s]\u001b[A\n",
      "train loss = 0.2030886:   0%|          | 0/7.8125 [00:00<?, ?it/s]\u001b[A\n",
      "train loss = 0.2030886:   0%|          | 0/7.8125 [00:00<?, ?it/s]\u001b[A\n",
      "train loss = 0.2030886:  38%|███▊      | 3/7.8125 [00:00<00:00, 29.91it/s]\u001b[A\n",
      "train loss = 0.2552914:  38%|███▊      | 3/7.8125 [00:00<00:00, 29.91it/s]\u001b[A\n",
      "train loss = 0.2552914:  38%|███▊      | 3/7.8125 [00:00<00:00, 29.91it/s]\u001b[A\n",
      "train loss = 0.2179118:  38%|███▊      | 3/7.8125 [00:00<00:00, 29.91it/s]\u001b[A\n",
      "train loss = 0.2179118:  38%|███▊      | 3/7.8125 [00:00<00:00, 29.91it/s]\u001b[A\n",
      "train loss = 0.1962326:  38%|███▊      | 3/7.8125 [00:00<00:00, 29.91it/s]"
     ]
    },
    {
     "name": "stdout",
     "output_type": "stream",
     "text": [
      "Epoch: 29, Training Loss:   0.2230\n"
     ]
    },
    {
     "name": "stderr",
     "output_type": "stream",
     "text": [
      "\u001b[A\n",
      "train loss = 0.1962326:  38%|███▊      | 3/7.8125 [00:00<00:00, 29.91it/s]\u001b[A\n",
      "train loss = 0.2014244:  38%|███▊      | 3/7.8125 [00:00<00:00, 29.91it/s]\u001b[A\n",
      "train loss = 0.2014244:  38%|███▊      | 3/7.8125 [00:00<00:00, 29.91it/s]\u001b[A\n",
      "train loss = 0.2014244:  90%|████████▉ | 7/7.8125 [00:00<00:00, 29.91it/s]\u001b[A\n",
      "train loss = 0.2132399:  90%|████████▉ | 7/7.8125 [00:00<00:00, 29.91it/s]\u001b[A\n",
      "train loss = 0.2132399:  90%|████████▉ | 7/7.8125 [00:00<00:00, 29.91it/s]\u001b[A\n",
      "train loss = 0.2132399: : 8it [00:00, 30.10it/s]                          \u001b[A\n",
      "  0%|          | 0/7.8125 [00:00<?, ?it/s]\u001b[A\n",
      "train loss = 0.2209795:   0%|          | 0/7.8125 [00:00<?, ?it/s]\u001b[A\n",
      "train loss = 0.2209795:   0%|          | 0/7.8125 [00:00<?, ?it/s]\u001b[A\n",
      "train loss = 0.2097232:   0%|          | 0/7.8125 [00:00<?, ?it/s]\u001b[A\n",
      "train loss = 0.2097232:   0%|          | 0/7.8125 [00:00<?, ?it/s]\u001b[A\n",
      "train loss = 0.2266325:   0%|          | 0/7.8125 [00:00<?, ?it/s]\u001b[A\n",
      "train loss = 0.2266325:   0%|          | 0/7.8125 [00:00<?, ?it/s]\u001b[A\n",
      "train loss = 0.2266325:  38%|███▊      | 3/7.8125 [00:00<00:00, 29.79it/s]\u001b[A\n",
      "train loss = 0.2344593:  38%|███▊      | 3/7.8125 [00:00<00:00, 29.79it/s]\u001b[A\n",
      "train loss = 0.2344593:  38%|███▊      | 3/7.8125 [00:00<00:00, 29.79it/s]\u001b[A\n",
      "train loss = 0.1867656:  38%|███▊      | 3/7.8125 [00:00<00:00, 29.79it/s]\u001b[A\n",
      "train loss = 0.1867656:  38%|███▊      | 3/7.8125 [00:00<00:00, 29.79it/s]\u001b[A"
     ]
    },
    {
     "name": "stdout",
     "output_type": "stream",
     "text": [
      "Epoch: 30, Training Loss:   0.2171\n"
     ]
    },
    {
     "name": "stderr",
     "output_type": "stream",
     "text": [
      "\n",
      "train loss = 0.1849902:  38%|███▊      | 3/7.8125 [00:00<00:00, 29.79it/s]\u001b[A\n",
      "train loss = 0.1849902:  38%|███▊      | 3/7.8125 [00:00<00:00, 29.79it/s]\u001b[A\n",
      "train loss = 0.1849902:  77%|███████▋  | 6/7.8125 [00:00<00:00, 29.67it/s]\u001b[A\n",
      "train loss = 0.2176378:  77%|███████▋  | 6/7.8125 [00:00<00:00, 29.67it/s]\u001b[A\n",
      "train loss = 0.2176378:  77%|███████▋  | 6/7.8125 [00:00<00:00, 29.67it/s]\u001b[A\n",
      "train loss = 0.2143938:  77%|███████▋  | 6/7.8125 [00:00<00:00, 29.67it/s]\u001b[A\n",
      "train loss = 0.2143938:  77%|███████▋  | 6/7.8125 [00:00<00:00, 29.67it/s]\u001b[A\n",
      "train loss = 0.2143938: : 8it [00:00, 29.78it/s]                          \u001b[A\n",
      "  0%|          | 0/7.8125 [00:00<?, ?it/s]\u001b[A\n",
      "train loss = 0.2045499:   0%|          | 0/7.8125 [00:00<?, ?it/s]\u001b[A\n",
      "train loss = 0.2045499:   0%|          | 0/7.8125 [00:00<?, ?it/s]\u001b[A\n",
      "train loss = 0.1830479:   0%|          | 0/7.8125 [00:00<?, ?it/s]\u001b[A\n",
      "train loss = 0.1830479:   0%|          | 0/7.8125 [00:00<?, ?it/s]\u001b[A\n",
      "train loss = 0.2019828:   0%|          | 0/7.8125 [00:00<?, ?it/s]\u001b[A\n",
      "train loss = 0.2019828:   0%|          | 0/7.8125 [00:00<?, ?it/s]\u001b[A\n",
      "train loss = 0.2463626:   0%|          | 0/7.8125 [00:00<?, ?it/s]\u001b[A\n",
      "train loss = 0.2463626:   0%|          | 0/7.8125 [00:00<?, ?it/s]\u001b[A\n",
      "train loss = 0.2463626:  51%|█████     | 4/7.8125 [00:00<00:00, 30.53it/s]\u001b[A\n",
      "train loss = 0.2170575:  51%|█████     | 4/7.8125 [00:00<00:00, 30.53it/s]\u001b[A\n",
      "train loss = 0.2170575:  51%|█████     | 4/7.8125 [00:00<00:00, 30.53it/s]\u001b[A\n"
     ]
    },
    {
     "name": "stdout",
     "output_type": "stream",
     "text": [
      "Epoch: 31, Training Loss:   0.2119\n"
     ]
    },
    {
     "name": "stderr",
     "output_type": "stream",
     "text": [
      "train loss = 0.1624443:  51%|█████     | 4/7.8125 [00:00<00:00, 30.53it/s]\u001b[A\n",
      "train loss = 0.1624443:  51%|█████     | 4/7.8125 [00:00<00:00, 30.53it/s]\u001b[A\n",
      "train loss = 0.2142143:  51%|█████     | 4/7.8125 [00:00<00:00, 30.53it/s]\u001b[A\n",
      "train loss = 0.2142143:  51%|█████     | 4/7.8125 [00:00<00:00, 30.53it/s]\u001b[A\n",
      "train loss = 0.2142143:  90%|████████▉ | 7/7.8125 [00:00<00:00, 30.13it/s]\u001b[A\n",
      "train loss = 0.2280580:  90%|████████▉ | 7/7.8125 [00:00<00:00, 30.13it/s]\u001b[A\n",
      "train loss = 0.2280580:  90%|████████▉ | 7/7.8125 [00:00<00:00, 30.13it/s]\u001b[A\n",
      "train loss = 0.2280580: : 8it [00:00, 29.99it/s]                          \u001b[A\n",
      "  0%|          | 0/7.8125 [00:00<?, ?it/s]\u001b[A\n",
      "train loss = 0.2620375:   0%|          | 0/7.8125 [00:00<?, ?it/s]\u001b[A\n",
      "train loss = 0.2620375:   0%|          | 0/7.8125 [00:00<?, ?it/s]\u001b[A\n",
      "train loss = 0.1901919:   0%|          | 0/7.8125 [00:00<?, ?it/s]\u001b[A\n",
      "train loss = 0.1901919:   0%|          | 0/7.8125 [00:00<?, ?it/s]\u001b[A\n",
      "train loss = 0.1841053:   0%|          | 0/7.8125 [00:00<?, ?it/s]\u001b[A\n",
      "train loss = 0.1841053:   0%|          | 0/7.8125 [00:00<?, ?it/s]\u001b[A\n",
      "train loss = 0.1841053:  38%|███▊      | 3/7.8125 [00:00<00:00, 29.17it/s]\u001b[A\n",
      "train loss = 0.1990349:  38%|███▊      | 3/7.8125 [00:00<00:00, 29.17it/s]\u001b[A\n",
      "train loss = 0.1990349:  38%|███▊      | 3/7.8125 [00:00<00:00, 29.17it/s]\u001b[A\n",
      "train loss = 0.2297009:  38%|███▊      | 3/7.8125 [00:00<00:00, 29.17it/s]\u001b[A\n",
      "train loss = 0.2297009:  38%|███▊      | 3/7.8125 [00:00<00:00, 29.17it/s]\u001b[A"
     ]
    },
    {
     "name": "stdout",
     "output_type": "stream",
     "text": [
      "Epoch: 32, Training Loss:   0.2072\n"
     ]
    },
    {
     "name": "stderr",
     "output_type": "stream",
     "text": [
      "\n",
      "train loss = 0.1918330:  38%|███▊      | 3/7.8125 [00:00<00:00, 29.17it/s]\u001b[A\n",
      "train loss = 0.1918330:  38%|███▊      | 3/7.8125 [00:00<00:00, 29.17it/s]\u001b[A\n",
      "train loss = 0.1918330:  77%|███████▋  | 6/7.8125 [00:00<00:00, 29.09it/s]\u001b[A\n",
      "train loss = 0.1808945:  77%|███████▋  | 6/7.8125 [00:00<00:00, 29.09it/s]\u001b[A\n",
      "train loss = 0.1808945:  77%|███████▋  | 6/7.8125 [00:00<00:00, 29.09it/s]\u001b[A\n",
      "train loss = 0.2365469:  77%|███████▋  | 6/7.8125 [00:00<00:00, 29.09it/s]\u001b[A\n",
      "train loss = 0.2365469:  77%|███████▋  | 6/7.8125 [00:00<00:00, 29.09it/s]\u001b[A\n",
      "train loss = 0.2365469: : 8it [00:00, 29.11it/s]                          \u001b[A\n",
      "  0%|          | 0/7.8125 [00:00<?, ?it/s]\u001b[A\n",
      "train loss = 0.1515736:   0%|          | 0/7.8125 [00:00<?, ?it/s]\u001b[A\n",
      "train loss = 0.1515736:   0%|          | 0/7.8125 [00:00<?, ?it/s]\u001b[A\n",
      "train loss = 0.2272379:   0%|          | 0/7.8125 [00:00<?, ?it/s]\u001b[A\n",
      "train loss = 0.2272379:   0%|          | 0/7.8125 [00:00<?, ?it/s]\u001b[A\n",
      "train loss = 0.1859867:   0%|          | 0/7.8125 [00:00<?, ?it/s]\u001b[A\n",
      "train loss = 0.1859867:   0%|          | 0/7.8125 [00:00<?, ?it/s]\u001b[A\n",
      "train loss = 0.1859867:  38%|███▊      | 3/7.8125 [00:00<00:00, 29.19it/s]\u001b[A\n",
      "train loss = 0.2168062:  38%|███▊      | 3/7.8125 [00:00<00:00, 29.19it/s]\u001b[A\n",
      "train loss = 0.2168062:  38%|███▊      | 3/7.8125 [00:00<00:00, 29.19it/s]\u001b[A\n",
      "train loss = 0.2082127:  38%|███▊      | 3/7.8125 [00:00<00:00, 29.19it/s]\u001b[A\n",
      "train loss = 0.2082127:  38%|███▊      | 3/7.8125 [00:00<00:00, 29.19it/s]\u001b[A"
     ]
    },
    {
     "name": "stdout",
     "output_type": "stream",
     "text": [
      "Epoch: 33, Training Loss:   0.2093\n"
     ]
    },
    {
     "name": "stderr",
     "output_type": "stream",
     "text": [
      "\n",
      "train loss = 0.2255763:  38%|███▊      | 3/7.8125 [00:00<00:00, 29.19it/s]\u001b[A\n",
      "train loss = 0.2255763:  38%|███▊      | 3/7.8125 [00:00<00:00, 29.19it/s]\u001b[A\n",
      "train loss = 0.1957925:  38%|███▊      | 3/7.8125 [00:00<00:00, 29.19it/s]\u001b[A\n",
      "train loss = 0.1957925:  38%|███▊      | 3/7.8125 [00:00<00:00, 29.19it/s]\u001b[A\n",
      "train loss = 0.1957925:  90%|████████▉ | 7/7.8125 [00:00<00:00, 29.41it/s]\u001b[A\n",
      "train loss = 0.2311216:  90%|████████▉ | 7/7.8125 [00:00<00:00, 29.41it/s]\u001b[A\n",
      "train loss = 0.2311216:  90%|████████▉ | 7/7.8125 [00:00<00:00, 29.41it/s]\u001b[A\n",
      "train loss = 0.2311216: : 8it [00:00, 29.78it/s]                          \u001b[A\n",
      "  0%|          | 0/7.8125 [00:00<?, ?it/s]\u001b[A\n",
      "train loss = 0.1858002:   0%|          | 0/7.8125 [00:00<?, ?it/s]\u001b[A\n",
      "train loss = 0.1858002:   0%|          | 0/7.8125 [00:00<?, ?it/s]\u001b[A\n",
      "train loss = 0.1755678:   0%|          | 0/7.8125 [00:00<?, ?it/s]\u001b[A\n",
      "train loss = 0.1755678:   0%|          | 0/7.8125 [00:00<?, ?it/s]\u001b[A\n",
      "train loss = 0.2070539:   0%|          | 0/7.8125 [00:00<?, ?it/s]\u001b[A\n",
      "train loss = 0.2070539:   0%|          | 0/7.8125 [00:00<?, ?it/s]\u001b[A\n",
      "train loss = 0.2070539:  38%|███▊      | 3/7.8125 [00:00<00:00, 29.88it/s]\u001b[A\n",
      "train loss = 0.1885565:  38%|███▊      | 3/7.8125 [00:00<00:00, 29.88it/s]\u001b[A\n",
      "train loss = 0.1885565:  38%|███▊      | 3/7.8125 [00:00<00:00, 29.88it/s]\u001b[A\n",
      "train loss = 0.2234589:  38%|███▊      | 3/7.8125 [00:00<00:00, 29.88it/s]\u001b[A\n",
      "train loss = 0.2234589:  38%|███▊      | 3/7.8125 [00:00<00:00, 29.88it/s]\u001b[A"
     ]
    },
    {
     "name": "stdout",
     "output_type": "stream",
     "text": [
      "Epoch: 34, Training Loss:   0.2053\n"
     ]
    },
    {
     "name": "stderr",
     "output_type": "stream",
     "text": [
      "\n",
      "train loss = 0.1924915:  38%|███▊      | 3/7.8125 [00:00<00:00, 29.88it/s]\u001b[A\n",
      "train loss = 0.1924915:  38%|███▊      | 3/7.8125 [00:00<00:00, 29.88it/s]\u001b[A\n",
      "train loss = 0.1924915:  77%|███████▋  | 6/7.8125 [00:00<00:00, 29.83it/s]\u001b[A\n",
      "train loss = 0.2229801:  77%|███████▋  | 6/7.8125 [00:00<00:00, 29.83it/s]\u001b[A\n",
      "train loss = 0.2229801:  77%|███████▋  | 6/7.8125 [00:00<00:00, 29.83it/s]\u001b[A\n",
      "train loss = 0.1865415:  77%|███████▋  | 6/7.8125 [00:00<00:00, 29.83it/s]\u001b[A\n",
      "train loss = 0.1865415:  77%|███████▋  | 6/7.8125 [00:00<00:00, 29.83it/s]\u001b[A\n",
      "train loss = 0.1865415: : 8it [00:00, 29.90it/s]                          \u001b[A\n",
      "  0%|          | 0/7.8125 [00:00<?, ?it/s]\u001b[A\n",
      "train loss = 0.2037155:   0%|          | 0/7.8125 [00:00<?, ?it/s]\u001b[A\n",
      "train loss = 0.2037155:   0%|          | 0/7.8125 [00:00<?, ?it/s]\u001b[A\n",
      "train loss = 0.2254854:   0%|          | 0/7.8125 [00:00<?, ?it/s]\u001b[A\n",
      "train loss = 0.2254854:   0%|          | 0/7.8125 [00:00<?, ?it/s]\u001b[A\n",
      "train loss = 0.2097089:   0%|          | 0/7.8125 [00:00<?, ?it/s]\u001b[A\n",
      "train loss = 0.2097089:   0%|          | 0/7.8125 [00:00<?, ?it/s]\u001b[A\n",
      "train loss = 0.1795353:   0%|          | 0/7.8125 [00:00<?, ?it/s]\u001b[A\n",
      "train loss = 0.1795353:   0%|          | 0/7.8125 [00:00<?, ?it/s]\u001b[A\n",
      "train loss = 0.1795353:  51%|█████     | 4/7.8125 [00:00<00:00, 30.11it/s]\u001b[A\n",
      "train loss = 0.2005478:  51%|█████     | 4/7.8125 [00:00<00:00, 30.11it/s]\u001b[A\n",
      "train loss = 0.2005478:  51%|█████     | 4/7.8125 [00:00<00:00, 30.11it/s]\u001b[A\n",
      "train loss = 0.1733836:  51%|█████     | 4/7.8125 [00:00<00:00, 30.11it/s]\u001b[A\n"
     ]
    },
    {
     "name": "stdout",
     "output_type": "stream",
     "text": [
      "Epoch: 35, Training Loss:   0.1978\n"
     ]
    },
    {
     "name": "stderr",
     "output_type": "stream",
     "text": [
      "train loss = 0.1733836:  51%|█████     | 4/7.8125 [00:00<00:00, 30.11it/s]\u001b[A\n",
      "train loss = 0.1571461:  51%|█████     | 4/7.8125 [00:00<00:00, 30.11it/s]\u001b[A\n",
      "train loss = 0.1571461:  51%|█████     | 4/7.8125 [00:00<00:00, 30.11it/s]\u001b[A\n",
      "train loss = 0.1952994:  51%|█████     | 4/7.8125 [00:00<00:00, 30.11it/s]\u001b[A\n",
      "train loss = 0.1952994:  51%|█████     | 4/7.8125 [00:00<00:00, 30.11it/s]\u001b[A\n",
      "train loss = 0.1952994: : 8it [00:00, 30.27it/s]                          \u001b[A\n",
      "  0%|          | 0/7.8125 [00:00<?, ?it/s]\u001b[A\n",
      "train loss = 0.1818282:   0%|          | 0/7.8125 [00:00<?, ?it/s]\u001b[A\n",
      "train loss = 0.1818282:   0%|          | 0/7.8125 [00:00<?, ?it/s]\u001b[A\n",
      "train loss = 0.2031375:   0%|          | 0/7.8125 [00:00<?, ?it/s]\u001b[A\n",
      "train loss = 0.2031375:   0%|          | 0/7.8125 [00:00<?, ?it/s]\u001b[A\n",
      "train loss = 0.1709570:   0%|          | 0/7.8125 [00:00<?, ?it/s]\u001b[A\n",
      "train loss = 0.1709570:   0%|          | 0/7.8125 [00:00<?, ?it/s]\u001b[A\n",
      "train loss = 0.1904774:   0%|          | 0/7.8125 [00:00<?, ?it/s]\u001b[A\n",
      "train loss = 0.1904774:   0%|          | 0/7.8125 [00:00<?, ?it/s]\u001b[A\n",
      "train loss = 0.1904774:  51%|█████     | 4/7.8125 [00:00<00:00, 30.10it/s]\u001b[A\n",
      "train loss = 0.1762028:  51%|█████     | 4/7.8125 [00:00<00:00, 30.10it/s]\u001b[A\n",
      "train loss = 0.1762028:  51%|█████     | 4/7.8125 [00:00<00:00, 30.10it/s]\u001b[A"
     ]
    },
    {
     "name": "stdout",
     "output_type": "stream",
     "text": [
      "Epoch: 36, Training Loss:   0.1931\n"
     ]
    },
    {
     "name": "stderr",
     "output_type": "stream",
     "text": [
      "\n",
      "train loss = 0.1903409:  51%|█████     | 4/7.8125 [00:00<00:00, 30.10it/s]\u001b[A\n",
      "train loss = 0.1903409:  51%|█████     | 4/7.8125 [00:00<00:00, 30.10it/s]\u001b[A\n",
      "train loss = 0.1864312:  51%|█████     | 4/7.8125 [00:00<00:00, 30.10it/s]\u001b[A\n",
      "train loss = 0.1864312:  51%|█████     | 4/7.8125 [00:00<00:00, 30.10it/s]\u001b[A\n",
      "train loss = 0.1864312:  90%|████████▉ | 7/7.8125 [00:00<00:00, 29.91it/s]\u001b[A\n",
      "train loss = 0.2047026:  90%|████████▉ | 7/7.8125 [00:00<00:00, 29.91it/s]\u001b[A\n",
      "train loss = 0.2047026:  90%|████████▉ | 7/7.8125 [00:00<00:00, 29.91it/s]\u001b[A\n",
      "train loss = 0.2047026: : 8it [00:00, 29.97it/s]                          \u001b[A\n",
      "  0%|          | 0/7.8125 [00:00<?, ?it/s]\u001b[A\n",
      "train loss = 0.1661849:   0%|          | 0/7.8125 [00:00<?, ?it/s]\u001b[A\n",
      "train loss = 0.1661849:   0%|          | 0/7.8125 [00:00<?, ?it/s]\u001b[A\n",
      "train loss = 0.1677880:   0%|          | 0/7.8125 [00:00<?, ?it/s]\u001b[A\n",
      "train loss = 0.1677880:   0%|          | 0/7.8125 [00:00<?, ?it/s]\u001b[A\n",
      "train loss = 0.1686272:   0%|          | 0/7.8125 [00:00<?, ?it/s]\u001b[A\n",
      "train loss = 0.1686272:   0%|          | 0/7.8125 [00:00<?, ?it/s]\u001b[A\n",
      "train loss = 0.1686272:  38%|███▊      | 3/7.8125 [00:00<00:00, 29.44it/s]\u001b[A\n",
      "train loss = 0.1913365:  38%|███▊      | 3/7.8125 [00:00<00:00, 29.44it/s]\u001b[A\n",
      "train loss = 0.1913365:  38%|███▊      | 3/7.8125 [00:00<00:00, 29.44it/s]\u001b[A\n",
      "train loss = 0.1892977:  38%|███▊      | 3/7.8125 [00:00<00:00, 29.44it/s]\u001b[A\n",
      "train loss = 0.1892977:  38%|███▊      | 3/7.8125 [00:00<00:00, 29.44it/s]\u001b[A"
     ]
    },
    {
     "name": "stdout",
     "output_type": "stream",
     "text": [
      "Epoch: 37, Training Loss:   0.1880\n"
     ]
    },
    {
     "name": "stderr",
     "output_type": "stream",
     "text": [
      "\n",
      "train loss = 0.1970182:  38%|███▊      | 3/7.8125 [00:00<00:00, 29.44it/s]\u001b[A\n",
      "train loss = 0.1970182:  38%|███▊      | 3/7.8125 [00:00<00:00, 29.44it/s]\u001b[A\n",
      "train loss = 0.1970182:  77%|███████▋  | 6/7.8125 [00:00<00:00, 29.49it/s]\u001b[A\n",
      "train loss = 0.1803242:  77%|███████▋  | 6/7.8125 [00:00<00:00, 29.49it/s]\u001b[A\n",
      "train loss = 0.1803242:  77%|███████▋  | 6/7.8125 [00:00<00:00, 29.49it/s]\u001b[A\n",
      "train loss = 0.2200565:  77%|███████▋  | 6/7.8125 [00:00<00:00, 29.49it/s]\u001b[A\n",
      "train loss = 0.2200565:  77%|███████▋  | 6/7.8125 [00:00<00:00, 29.49it/s]\u001b[A\n",
      "train loss = 0.2200565: : 8it [00:00, 29.87it/s]                          \u001b[A\n",
      "  0%|          | 0/7.8125 [00:00<?, ?it/s]\u001b[A\n",
      "train loss = 0.1744617:   0%|          | 0/7.8125 [00:00<?, ?it/s]\u001b[A\n",
      "train loss = 0.1744617:   0%|          | 0/7.8125 [00:00<?, ?it/s]\u001b[A\n",
      "train loss = 0.2091165:   0%|          | 0/7.8125 [00:00<?, ?it/s]\u001b[A\n",
      "train loss = 0.2091165:   0%|          | 0/7.8125 [00:00<?, ?it/s]\u001b[A\n",
      "train loss = 0.1654279:   0%|          | 0/7.8125 [00:00<?, ?it/s]\u001b[A\n",
      "train loss = 0.1654279:   0%|          | 0/7.8125 [00:00<?, ?it/s]\u001b[A\n",
      "train loss = 0.2240521:   0%|          | 0/7.8125 [00:00<?, ?it/s]\u001b[A\n",
      "train loss = 0.2240521:   0%|          | 0/7.8125 [00:00<?, ?it/s]\u001b[A\n",
      "train loss = 0.2240521:  51%|█████     | 4/7.8125 [00:00<00:00, 30.17it/s]\u001b[A\n",
      "train loss = 0.1425066:  51%|█████     | 4/7.8125 [00:00<00:00, 30.17it/s]\u001b[A\n",
      "train loss = 0.1425066:  51%|█████     | 4/7.8125 [00:00<00:00, 30.17it/s]\u001b[A\n"
     ]
    },
    {
     "name": "stdout",
     "output_type": "stream",
     "text": [
      "Epoch: 38, Training Loss:   0.1851\n"
     ]
    },
    {
     "name": "stderr",
     "output_type": "stream",
     "text": [
      "train loss = 0.1466500:  51%|█████     | 4/7.8125 [00:00<00:00, 30.17it/s]\u001b[A\n",
      "train loss = 0.1466500:  51%|█████     | 4/7.8125 [00:00<00:00, 30.17it/s]\u001b[A\n",
      "train loss = 0.1740144:  51%|█████     | 4/7.8125 [00:00<00:00, 30.17it/s]\u001b[A\n",
      "train loss = 0.1740144:  51%|█████     | 4/7.8125 [00:00<00:00, 30.17it/s]\u001b[A\n",
      "train loss = 0.1740144:  90%|████████▉ | 7/7.8125 [00:00<00:00, 29.92it/s]\u001b[A\n",
      "train loss = 0.2211306:  90%|████████▉ | 7/7.8125 [00:00<00:00, 29.92it/s]\u001b[A\n",
      "train loss = 0.2211306:  90%|████████▉ | 7/7.8125 [00:00<00:00, 29.92it/s]\u001b[A\n",
      "train loss = 0.2211306: : 8it [00:00, 30.08it/s]                          \u001b[A\n",
      "  0%|          | 0/7.8125 [00:00<?, ?it/s]\u001b[A\n",
      "train loss = 0.2189603:   0%|          | 0/7.8125 [00:00<?, ?it/s]\u001b[A\n",
      "train loss = 0.2189603:   0%|          | 0/7.8125 [00:00<?, ?it/s]\u001b[A\n",
      "train loss = 0.2293410:   0%|          | 0/7.8125 [00:00<?, ?it/s]\u001b[A\n",
      "train loss = 0.2293410:   0%|          | 0/7.8125 [00:00<?, ?it/s]\u001b[A\n",
      "train loss = 0.2026901:   0%|          | 0/7.8125 [00:00<?, ?it/s]\u001b[A\n",
      "train loss = 0.2026901:   0%|          | 0/7.8125 [00:00<?, ?it/s]\u001b[A\n",
      "train loss = 0.2003230:   0%|          | 0/7.8125 [00:00<?, ?it/s]\u001b[A\n",
      "train loss = 0.2003230:   0%|          | 0/7.8125 [00:00<?, ?it/s]\u001b[A\n",
      "train loss = 0.2003230:  51%|█████     | 4/7.8125 [00:00<00:00, 29.94it/s]\u001b[A\n",
      "train loss = 0.1746184:  51%|█████     | 4/7.8125 [00:00<00:00, 29.94it/s]\u001b[A\n",
      "train loss = 0.1746184:  51%|█████     | 4/7.8125 [00:00<00:00, 29.94it/s]\u001b[A"
     ]
    },
    {
     "name": "stdout",
     "output_type": "stream",
     "text": [
      "Epoch: 39, Training Loss:   0.1822\n"
     ]
    },
    {
     "name": "stderr",
     "output_type": "stream",
     "text": [
      "\n",
      "train loss = 0.1876132:  51%|█████     | 4/7.8125 [00:00<00:00, 29.94it/s]\u001b[A\n",
      "train loss = 0.1876132:  51%|█████     | 4/7.8125 [00:00<00:00, 29.94it/s]\u001b[A\n",
      "train loss = 0.1667984:  51%|█████     | 4/7.8125 [00:00<00:00, 29.94it/s]\u001b[A\n",
      "train loss = 0.1667984:  51%|█████     | 4/7.8125 [00:00<00:00, 29.94it/s]\u001b[A\n",
      "train loss = 0.1667984:  90%|████████▉ | 7/7.8125 [00:00<00:00, 29.80it/s]\u001b[A\n",
      "train loss = 0.1992323:  90%|████████▉ | 7/7.8125 [00:00<00:00, 29.80it/s]\u001b[A\n",
      "train loss = 0.1992323:  90%|████████▉ | 7/7.8125 [00:00<00:00, 29.80it/s]\u001b[A\n",
      "train loss = 0.1992323: : 8it [00:00, 29.95it/s]                          \u001b[A\n",
      "  0%|          | 0/7.8125 [00:00<?, ?it/s]\u001b[A\n",
      "train loss = 0.1925369:   0%|          | 0/7.8125 [00:00<?, ?it/s]\u001b[A\n",
      "train loss = 0.1925369:   0%|          | 0/7.8125 [00:00<?, ?it/s]\u001b[A\n",
      "train loss = 0.1755611:   0%|          | 0/7.8125 [00:00<?, ?it/s]\u001b[A\n",
      "train loss = 0.1755611:   0%|          | 0/7.8125 [00:00<?, ?it/s]\u001b[A\n",
      "train loss = 0.2256854:   0%|          | 0/7.8125 [00:00<?, ?it/s]\u001b[A\n",
      "train loss = 0.2256854:   0%|          | 0/7.8125 [00:00<?, ?it/s]\u001b[A\n",
      "train loss = 0.2256854:  38%|███▊      | 3/7.8125 [00:00<00:00, 29.76it/s]\u001b[A\n",
      "train loss = 0.2243347:  38%|███▊      | 3/7.8125 [00:00<00:00, 29.76it/s]\u001b[A\n",
      "train loss = 0.2243347:  38%|███▊      | 3/7.8125 [00:00<00:00, 29.76it/s]\u001b[A\n",
      "train loss = 0.1612879:  38%|███▊      | 3/7.8125 [00:00<00:00, 29.76it/s]\u001b[A\n",
      "train loss = 0.1612879:  38%|███▊      | 3/7.8125 [00:00<00:00, 29.76it/s]\u001b[A"
     ]
    },
    {
     "name": "stdout",
     "output_type": "stream",
     "text": [
      "Epoch: 40, Training Loss:   0.1974\n"
     ]
    },
    {
     "name": "stderr",
     "output_type": "stream",
     "text": [
      "\n",
      "train loss = 0.1726685:  38%|███▊      | 3/7.8125 [00:00<00:00, 29.76it/s]\u001b[A\n",
      "train loss = 0.1726685:  38%|███▊      | 3/7.8125 [00:00<00:00, 29.76it/s]\u001b[A\n",
      "train loss = 0.1726685:  77%|███████▋  | 6/7.8125 [00:00<00:00, 29.79it/s]\u001b[A\n",
      "train loss = 0.1684458:  77%|███████▋  | 6/7.8125 [00:00<00:00, 29.79it/s]\u001b[A\n",
      "train loss = 0.1684458:  77%|███████▋  | 6/7.8125 [00:00<00:00, 29.79it/s]\u001b[A\n",
      "train loss = 0.1938029:  77%|███████▋  | 6/7.8125 [00:00<00:00, 29.79it/s]\u001b[A\n",
      "train loss = 0.1938029:  77%|███████▋  | 6/7.8125 [00:00<00:00, 29.79it/s]\u001b[A\n",
      "train loss = 0.1938029: : 8it [00:00, 29.95it/s]                          \u001b[A\n",
      "  0%|          | 0/7.8125 [00:00<?, ?it/s]\u001b[A\n",
      "train loss = 0.1806694:   0%|          | 0/7.8125 [00:00<?, ?it/s]\u001b[A\n",
      "train loss = 0.1806694:   0%|          | 0/7.8125 [00:00<?, ?it/s]\u001b[A\n",
      "train loss = 0.1923423:   0%|          | 0/7.8125 [00:00<?, ?it/s]\u001b[A\n",
      "train loss = 0.1923423:   0%|          | 0/7.8125 [00:00<?, ?it/s]\u001b[A\n",
      "train loss = 0.1617365:   0%|          | 0/7.8125 [00:00<?, ?it/s]\u001b[A\n",
      "train loss = 0.1617365:   0%|          | 0/7.8125 [00:00<?, ?it/s]\u001b[A\n",
      "train loss = 0.2069044:   0%|          | 0/7.8125 [00:00<?, ?it/s]\u001b[A\n",
      "train loss = 0.2069044:   0%|          | 0/7.8125 [00:00<?, ?it/s]\u001b[A\n",
      "train loss = 0.2069044:  51%|█████     | 4/7.8125 [00:00<00:00, 30.41it/s]\u001b[A\n",
      "train loss = 0.1821972:  51%|█████     | 4/7.8125 [00:00<00:00, 30.41it/s]\u001b[A\n",
      "train loss = 0.1821972:  51%|█████     | 4/7.8125 [00:00<00:00, 30.41it/s]\u001b[A\n",
      "train loss = 0.1527126:  51%|█████     | 4/7.8125 [00:00<00:00, 30.41it/s]\u001b[A\n",
      "train loss = 0.1527126:  51%|█████     | 4/7.8125 [00:00<00:00, 30.41it/s]\u001b[A"
     ]
    },
    {
     "name": "stdout",
     "output_type": "stream",
     "text": [
      "Epoch: 41, Training Loss:   0.1893\n"
     ]
    },
    {
     "name": "stderr",
     "output_type": "stream",
     "text": [
      "\n",
      "train loss = 0.1882410:  51%|█████     | 4/7.8125 [00:00<00:00, 30.41it/s]\u001b[A\n",
      "train loss = 0.1882410:  51%|█████     | 4/7.8125 [00:00<00:00, 30.41it/s]\u001b[A\n",
      "train loss = 0.1882410:  90%|████████▉ | 7/7.8125 [00:00<00:00, 30.21it/s]\u001b[A\n",
      "train loss = 0.1730060:  90%|████████▉ | 7/7.8125 [00:00<00:00, 30.21it/s]\u001b[A\n",
      "train loss = 0.1730060:  90%|████████▉ | 7/7.8125 [00:00<00:00, 30.21it/s]\u001b[A\n",
      "train loss = 0.1730060: : 8it [00:00, 30.21it/s]                          \u001b[A\n",
      "  0%|          | 0/7.8125 [00:00<?, ?it/s]\u001b[A\n",
      "train loss = 0.1917866:   0%|          | 0/7.8125 [00:00<?, ?it/s]\u001b[A\n",
      "train loss = 0.1917866:   0%|          | 0/7.8125 [00:00<?, ?it/s]\u001b[A\n",
      "train loss = 0.1951624:   0%|          | 0/7.8125 [00:00<?, ?it/s]\u001b[A\n",
      "train loss = 0.1951624:   0%|          | 0/7.8125 [00:00<?, ?it/s]\u001b[A\n",
      "train loss = 0.1719140:   0%|          | 0/7.8125 [00:00<?, ?it/s]\u001b[A\n",
      "train loss = 0.1719140:   0%|          | 0/7.8125 [00:00<?, ?it/s]\u001b[A\n",
      "train loss = 0.1719140:  38%|███▊      | 3/7.8125 [00:00<00:00, 29.78it/s]\u001b[A\n",
      "train loss = 0.1816787:  38%|███▊      | 3/7.8125 [00:00<00:00, 29.78it/s]\u001b[A\n",
      "train loss = 0.1816787:  38%|███▊      | 3/7.8125 [00:00<00:00, 29.78it/s]\u001b[A\n",
      "train loss = 0.1603251:  38%|███▊      | 3/7.8125 [00:00<00:00, 29.78it/s]\u001b[A\n",
      "train loss = 0.1603251:  38%|███▊      | 3/7.8125 [00:00<00:00, 29.78it/s]\u001b[A"
     ]
    },
    {
     "name": "stdout",
     "output_type": "stream",
     "text": [
      "Epoch: 42, Training Loss:   0.1797\n"
     ]
    },
    {
     "name": "stderr",
     "output_type": "stream",
     "text": [
      "\n",
      "train loss = 0.2026997:  38%|███▊      | 3/7.8125 [00:00<00:00, 29.78it/s]\u001b[A\n",
      "train loss = 0.2026997:  38%|███▊      | 3/7.8125 [00:00<00:00, 29.78it/s]\u001b[A\n",
      "train loss = 0.2026997:  77%|███████▋  | 6/7.8125 [00:00<00:00, 29.73it/s]\u001b[A\n",
      "train loss = 0.1739223:  77%|███████▋  | 6/7.8125 [00:00<00:00, 29.73it/s]\u001b[A\n",
      "train loss = 0.1739223:  77%|███████▋  | 6/7.8125 [00:00<00:00, 29.73it/s]\u001b[A\n",
      "train loss = 0.1455000:  77%|███████▋  | 6/7.8125 [00:00<00:00, 29.73it/s]\u001b[A\n",
      "train loss = 0.1455000:  77%|███████▋  | 6/7.8125 [00:00<00:00, 29.73it/s]\u001b[A\n",
      "train loss = 0.1455000: : 8it [00:00, 29.82it/s]                          \u001b[A\n",
      "  0%|          | 0/7.8125 [00:00<?, ?it/s]\u001b[A\n",
      "train loss = 0.1494548:   0%|          | 0/7.8125 [00:00<?, ?it/s]\u001b[A\n",
      "train loss = 0.1494548:   0%|          | 0/7.8125 [00:00<?, ?it/s]\u001b[A\n",
      "train loss = 0.1796410:   0%|          | 0/7.8125 [00:00<?, ?it/s]\u001b[A\n",
      "train loss = 0.1796410:   0%|          | 0/7.8125 [00:00<?, ?it/s]\u001b[A\n",
      "train loss = 0.1949990:   0%|          | 0/7.8125 [00:00<?, ?it/s]\u001b[A\n",
      "train loss = 0.1949990:   0%|          | 0/7.8125 [00:00<?, ?it/s]\u001b[A\n",
      "train loss = 0.1949990:  38%|███▊      | 3/7.8125 [00:00<00:00, 28.86it/s]\u001b[A\n",
      "train loss = 0.1742135:  38%|███▊      | 3/7.8125 [00:00<00:00, 28.86it/s]\u001b[A\n",
      "train loss = 0.1742135:  38%|███▊      | 3/7.8125 [00:00<00:00, 28.86it/s]\u001b[A\n",
      "train loss = 0.1910243:  38%|███▊      | 3/7.8125 [00:00<00:00, 28.86it/s]\u001b[A\n",
      "train loss = 0.1910243:  38%|███▊      | 3/7.8125 [00:00<00:00, 28.86it/s]\u001b[A"
     ]
    },
    {
     "name": "stdout",
     "output_type": "stream",
     "text": [
      "Epoch: 43, Training Loss:   0.1779\n"
     ]
    },
    {
     "name": "stderr",
     "output_type": "stream",
     "text": [
      "\n",
      "train loss = 0.1948198:  38%|███▊      | 3/7.8125 [00:00<00:00, 28.86it/s]\u001b[A\n",
      "train loss = 0.1948198:  38%|███▊      | 3/7.8125 [00:00<00:00, 28.86it/s]\u001b[A\n",
      "train loss = 0.1948198:  77%|███████▋  | 6/7.8125 [00:00<00:00, 29.13it/s]\u001b[A\n",
      "train loss = 0.1713144:  77%|███████▋  | 6/7.8125 [00:00<00:00, 29.13it/s]\u001b[A\n",
      "train loss = 0.1713144:  77%|███████▋  | 6/7.8125 [00:00<00:00, 29.13it/s]\u001b[A\n",
      "train loss = 0.1849851:  77%|███████▋  | 6/7.8125 [00:00<00:00, 29.13it/s]\u001b[A\n",
      "train loss = 0.1849851:  77%|███████▋  | 6/7.8125 [00:00<00:00, 29.13it/s]\u001b[A\n",
      "train loss = 0.1849851: : 8it [00:00, 29.60it/s]                          \u001b[A\n",
      "  0%|          | 0/7.8125 [00:00<?, ?it/s]\u001b[A\n",
      "train loss = 0.1636539:   0%|          | 0/7.8125 [00:00<?, ?it/s]\u001b[A\n",
      "train loss = 0.1636539:   0%|          | 0/7.8125 [00:00<?, ?it/s]\u001b[A\n",
      "train loss = 0.1732812:   0%|          | 0/7.8125 [00:00<?, ?it/s]\u001b[A\n",
      "train loss = 0.1732812:   0%|          | 0/7.8125 [00:00<?, ?it/s]\u001b[A\n",
      "train loss = 0.2193348:   0%|          | 0/7.8125 [00:00<?, ?it/s]\u001b[A\n",
      "train loss = 0.2193348:   0%|          | 0/7.8125 [00:00<?, ?it/s]\u001b[A\n",
      "train loss = 0.1903662:   0%|          | 0/7.8125 [00:00<?, ?it/s]\u001b[A\n",
      "train loss = 0.1903662:   0%|          | 0/7.8125 [00:00<?, ?it/s]\u001b[A\n",
      "train loss = 0.1903662:  51%|█████     | 4/7.8125 [00:00<00:00, 30.29it/s]\u001b[A\n",
      "train loss = 0.1813052:  51%|█████     | 4/7.8125 [00:00<00:00, 30.29it/s]\u001b[A\n",
      "train loss = 0.1813052:  51%|█████     | 4/7.8125 [00:00<00:00, 30.29it/s]\u001b[A"
     ]
    },
    {
     "name": "stdout",
     "output_type": "stream",
     "text": [
      "Epoch: 44, Training Loss:   0.1801\n"
     ]
    },
    {
     "name": "stderr",
     "output_type": "stream",
     "text": [
      "\n",
      "train loss = 0.1685438:  51%|█████     | 4/7.8125 [00:00<00:00, 30.29it/s]\u001b[A\n",
      "train loss = 0.1685438:  51%|█████     | 4/7.8125 [00:00<00:00, 30.29it/s]\u001b[A\n",
      "train loss = 0.1645460:  51%|█████     | 4/7.8125 [00:00<00:00, 30.29it/s]\u001b[A\n",
      "train loss = 0.1645460:  51%|█████     | 4/7.8125 [00:00<00:00, 30.29it/s]\u001b[A\n",
      "train loss = 0.1645460:  90%|████████▉ | 7/7.8125 [00:00<00:00, 29.82it/s]\u001b[A\n",
      "train loss = 0.1442493:  90%|████████▉ | 7/7.8125 [00:00<00:00, 29.82it/s]\u001b[A\n",
      "train loss = 0.1442493:  90%|████████▉ | 7/7.8125 [00:00<00:00, 29.82it/s]\u001b[A\n",
      "train loss = 0.1442493: : 8it [00:00, 29.63it/s]                          \u001b[A\n",
      "  0%|          | 0/7.8125 [00:00<?, ?it/s]\u001b[A\n",
      "train loss = 0.1604488:   0%|          | 0/7.8125 [00:00<?, ?it/s]\u001b[A\n",
      "train loss = 0.1604488:   0%|          | 0/7.8125 [00:00<?, ?it/s]\u001b[A\n",
      "train loss = 0.2050074:   0%|          | 0/7.8125 [00:00<?, ?it/s]\u001b[A\n",
      "train loss = 0.2050074:   0%|          | 0/7.8125 [00:00<?, ?it/s]\u001b[A\n",
      "train loss = 0.1818644:   0%|          | 0/7.8125 [00:00<?, ?it/s]\u001b[A\n",
      "train loss = 0.1818644:   0%|          | 0/7.8125 [00:00<?, ?it/s]\u001b[A\n",
      "train loss = 0.1818644:  38%|███▊      | 3/7.8125 [00:00<00:00, 29.71it/s]\u001b[A\n",
      "train loss = 0.1719831:  38%|███▊      | 3/7.8125 [00:00<00:00, 29.71it/s]\u001b[A\n",
      "train loss = 0.1719831:  38%|███▊      | 3/7.8125 [00:00<00:00, 29.71it/s]\u001b[A\n",
      "train loss = 0.1746072:  38%|███▊      | 3/7.8125 [00:00<00:00, 29.71it/s]\u001b[A\n",
      "train loss = 0.1746072:  38%|███▊      | 3/7.8125 [00:00<00:00, 29.71it/s]\u001b[A\n"
     ]
    },
    {
     "name": "stdout",
     "output_type": "stream",
     "text": [
      "Epoch: 45, Training Loss:   0.1757\n"
     ]
    },
    {
     "name": "stderr",
     "output_type": "stream",
     "text": [
      "train loss = 0.1994067:  38%|███▊      | 3/7.8125 [00:00<00:00, 29.71it/s]\u001b[A\n",
      "train loss = 0.1994067:  38%|███▊      | 3/7.8125 [00:00<00:00, 29.71it/s]\u001b[A\n",
      "train loss = 0.1994067:  77%|███████▋  | 6/7.8125 [00:00<00:00, 29.75it/s]\u001b[A\n",
      "train loss = 0.1770666:  77%|███████▋  | 6/7.8125 [00:00<00:00, 29.75it/s]\u001b[A\n",
      "train loss = 0.1770666:  77%|███████▋  | 6/7.8125 [00:00<00:00, 29.75it/s]\u001b[A\n",
      "train loss = 0.2059716:  77%|███████▋  | 6/7.8125 [00:00<00:00, 29.75it/s]\u001b[A\n",
      "train loss = 0.2059716:  77%|███████▋  | 6/7.8125 [00:00<00:00, 29.75it/s]\u001b[A\n",
      "train loss = 0.2059716: : 8it [00:00, 29.88it/s]                          \u001b[A\n",
      "  0%|          | 0/7.8125 [00:00<?, ?it/s]\u001b[A\n",
      "train loss = 0.1522030:   0%|          | 0/7.8125 [00:00<?, ?it/s]\u001b[A\n",
      "train loss = 0.1522030:   0%|          | 0/7.8125 [00:00<?, ?it/s]\u001b[A\n",
      "train loss = 0.1985449:   0%|          | 0/7.8125 [00:00<?, ?it/s]\u001b[A\n",
      "train loss = 0.1985449:   0%|          | 0/7.8125 [00:00<?, ?it/s]\u001b[A\n",
      "train loss = 0.1774315:   0%|          | 0/7.8125 [00:00<?, ?it/s]\u001b[A\n",
      "train loss = 0.1774315:   0%|          | 0/7.8125 [00:00<?, ?it/s]\u001b[A\n",
      "train loss = 0.1774315:  38%|███▊      | 3/7.8125 [00:00<00:00, 29.70it/s]\u001b[A\n",
      "train loss = 0.1821894:  38%|███▊      | 3/7.8125 [00:00<00:00, 29.70it/s]\u001b[A\n",
      "train loss = 0.1821894:  38%|███▊      | 3/7.8125 [00:00<00:00, 29.70it/s]\u001b[A\n",
      "train loss = 0.1774266:  38%|███▊      | 3/7.8125 [00:00<00:00, 29.70it/s]\u001b[A\n",
      "train loss = 0.1774266:  38%|███▊      | 3/7.8125 [00:00<00:00, 29.70it/s]\u001b[A"
     ]
    },
    {
     "name": "stdout",
     "output_type": "stream",
     "text": [
      "Epoch: 46, Training Loss:   0.1845\n"
     ]
    },
    {
     "name": "stderr",
     "output_type": "stream",
     "text": [
      "\n",
      "train loss = 0.2046707:  38%|███▊      | 3/7.8125 [00:00<00:00, 29.70it/s]\u001b[A\n",
      "train loss = 0.2046707:  38%|███▊      | 3/7.8125 [00:00<00:00, 29.70it/s]\u001b[A\n",
      "train loss = 0.2046707:  77%|███████▋  | 6/7.8125 [00:00<00:00, 29.64it/s]\u001b[A\n",
      "train loss = 0.1647949:  77%|███████▋  | 6/7.8125 [00:00<00:00, 29.64it/s]\u001b[A\n",
      "train loss = 0.1647949:  77%|███████▋  | 6/7.8125 [00:00<00:00, 29.64it/s]\u001b[A\n",
      "train loss = 0.1684948:  77%|███████▋  | 6/7.8125 [00:00<00:00, 29.64it/s]\u001b[A\n",
      "train loss = 0.1684948:  77%|███████▋  | 6/7.8125 [00:00<00:00, 29.64it/s]\u001b[A\n",
      "train loss = 0.1684948: : 8it [00:00, 29.78it/s]                          \u001b[A\n",
      "  0%|          | 0/7.8125 [00:00<?, ?it/s]\u001b[A\n",
      "train loss = 0.1634663:   0%|          | 0/7.8125 [00:00<?, ?it/s]\u001b[A\n",
      "train loss = 0.1634663:   0%|          | 0/7.8125 [00:00<?, ?it/s]\u001b[A\n",
      "train loss = 0.1520277:   0%|          | 0/7.8125 [00:00<?, ?it/s]\u001b[A\n",
      "train loss = 0.1520277:   0%|          | 0/7.8125 [00:00<?, ?it/s]\u001b[A\n",
      "train loss = 0.1911865:   0%|          | 0/7.8125 [00:00<?, ?it/s]\u001b[A\n",
      "train loss = 0.1911865:   0%|          | 0/7.8125 [00:00<?, ?it/s]\u001b[A\n",
      "train loss = 0.1911865:  38%|███▊      | 3/7.8125 [00:00<00:00, 29.80it/s]\u001b[A\n",
      "train loss = 0.1609464:  38%|███▊      | 3/7.8125 [00:00<00:00, 29.80it/s]\u001b[A\n",
      "train loss = 0.1609464:  38%|███▊      | 3/7.8125 [00:00<00:00, 29.80it/s]\u001b[A\n",
      "train loss = 0.1470548:  38%|███▊      | 3/7.8125 [00:00<00:00, 29.80it/s]\u001b[A\n",
      "train loss = 0.1470548:  38%|███▊      | 3/7.8125 [00:00<00:00, 29.80it/s]\u001b[A"
     ]
    },
    {
     "name": "stdout",
     "output_type": "stream",
     "text": [
      "Epoch: 47, Training Loss:   0.1782\n"
     ]
    },
    {
     "name": "stderr",
     "output_type": "stream",
     "text": [
      "\n",
      "train loss = 0.2038428:  38%|███▊      | 3/7.8125 [00:00<00:00, 29.80it/s]\u001b[A\n",
      "train loss = 0.2038428:  38%|███▊      | 3/7.8125 [00:00<00:00, 29.80it/s]\u001b[A\n",
      "train loss = 0.2038428:  77%|███████▋  | 6/7.8125 [00:00<00:00, 29.67it/s]\u001b[A\n",
      "train loss = 0.1652192:  77%|███████▋  | 6/7.8125 [00:00<00:00, 29.67it/s]\u001b[A\n",
      "train loss = 0.1652192:  77%|███████▋  | 6/7.8125 [00:00<00:00, 29.67it/s]\u001b[A\n",
      "train loss = 0.1679593:  77%|███████▋  | 6/7.8125 [00:00<00:00, 29.67it/s]\u001b[A\n",
      "train loss = 0.1679593:  77%|███████▋  | 6/7.8125 [00:00<00:00, 29.67it/s]\u001b[A\n",
      "train loss = 0.1679593: : 8it [00:00, 29.75it/s]                          \u001b[A\n",
      "  0%|          | 0/7.8125 [00:00<?, ?it/s]\u001b[A\n",
      "train loss = 0.1324460:   0%|          | 0/7.8125 [00:00<?, ?it/s]\u001b[A\n",
      "train loss = 0.1324460:   0%|          | 0/7.8125 [00:00<?, ?it/s]\u001b[A\n",
      "train loss = 0.1592209:   0%|          | 0/7.8125 [00:00<?, ?it/s]\u001b[A\n",
      "train loss = 0.1592209:   0%|          | 0/7.8125 [00:00<?, ?it/s]\u001b[A\n",
      "train loss = 0.2126405:   0%|          | 0/7.8125 [00:00<?, ?it/s]\u001b[A\n",
      "train loss = 0.2126405:   0%|          | 0/7.8125 [00:00<?, ?it/s]\u001b[A\n",
      "train loss = 0.2126405:  38%|███▊      | 3/7.8125 [00:00<00:00, 29.72it/s]\u001b[A\n",
      "train loss = 0.1753090:  38%|███▊      | 3/7.8125 [00:00<00:00, 29.72it/s]\u001b[A\n",
      "train loss = 0.1753090:  38%|███▊      | 3/7.8125 [00:00<00:00, 29.72it/s]\u001b[A\n",
      "train loss = 0.1626174:  38%|███▊      | 3/7.8125 [00:00<00:00, 29.72it/s]\u001b[A\n",
      "train loss = 0.1626174:  38%|███▊      | 3/7.8125 [00:00<00:00, 29.72it/s]\u001b[A"
     ]
    },
    {
     "name": "stdout",
     "output_type": "stream",
     "text": [
      "Epoch: 48, Training Loss:   0.1690\n"
     ]
    },
    {
     "name": "stderr",
     "output_type": "stream",
     "text": [
      "\n",
      "train loss = 0.1578689:  38%|███▊      | 3/7.8125 [00:00<00:00, 29.72it/s]\u001b[A\n",
      "train loss = 0.1578689:  38%|███▊      | 3/7.8125 [00:00<00:00, 29.72it/s]\u001b[A\n",
      "train loss = 0.1578689:  77%|███████▋  | 6/7.8125 [00:00<00:00, 29.66it/s]\u001b[A\n",
      "train loss = 0.1681496:  77%|███████▋  | 6/7.8125 [00:00<00:00, 29.66it/s]\u001b[A\n",
      "train loss = 0.1681496:  77%|███████▋  | 6/7.8125 [00:00<00:00, 29.66it/s]\u001b[A\n",
      "train loss = 0.1471203:  77%|███████▋  | 6/7.8125 [00:00<00:00, 29.66it/s]\u001b[A\n",
      "train loss = 0.1471203:  77%|███████▋  | 6/7.8125 [00:00<00:00, 29.66it/s]\u001b[A\n",
      "train loss = 0.1471203: : 8it [00:00, 29.83it/s]                          \u001b[A\n",
      "  0%|          | 0/7.8125 [00:00<?, ?it/s]\u001b[A\n",
      "train loss = 0.1536003:   0%|          | 0/7.8125 [00:00<?, ?it/s]\u001b[A\n",
      "train loss = 0.1536003:   0%|          | 0/7.8125 [00:00<?, ?it/s]\u001b[A\n",
      "train loss = 0.1604640:   0%|          | 0/7.8125 [00:00<?, ?it/s]\u001b[A\n",
      "train loss = 0.1604640:   0%|          | 0/7.8125 [00:00<?, ?it/s]\u001b[A\n",
      "train loss = 0.1995772:   0%|          | 0/7.8125 [00:00<?, ?it/s]\u001b[A\n",
      "train loss = 0.1995772:   0%|          | 0/7.8125 [00:00<?, ?it/s]\u001b[A\n",
      "train loss = 0.1609451:   0%|          | 0/7.8125 [00:00<?, ?it/s]\u001b[A\n",
      "train loss = 0.1609451:   0%|          | 0/7.8125 [00:00<?, ?it/s]\u001b[A\n",
      "train loss = 0.1609451:  51%|█████     | 4/7.8125 [00:00<00:00, 29.85it/s]\u001b[A\n",
      "train loss = 0.1744770:  51%|█████     | 4/7.8125 [00:00<00:00, 29.85it/s]\u001b[A\n",
      "train loss = 0.1744770:  51%|█████     | 4/7.8125 [00:00<00:00, 29.85it/s]\u001b[A"
     ]
    },
    {
     "name": "stdout",
     "output_type": "stream",
     "text": [
      "Epoch: 49, Training Loss:   0.1644\n"
     ]
    },
    {
     "name": "stderr",
     "output_type": "stream",
     "text": [
      "\n",
      "train loss = 0.1820008:  51%|█████     | 4/7.8125 [00:00<00:00, 29.85it/s]\u001b[A\n",
      "train loss = 0.1820008:  51%|█████     | 4/7.8125 [00:00<00:00, 29.85it/s]\u001b[A\n",
      "train loss = 0.1645499:  51%|█████     | 4/7.8125 [00:00<00:00, 29.85it/s]\u001b[A\n",
      "train loss = 0.1645499:  51%|█████     | 4/7.8125 [00:00<00:00, 29.85it/s]\u001b[A\n",
      "train loss = 0.1645499:  90%|████████▉ | 7/7.8125 [00:00<00:00, 29.68it/s]\u001b[A\n",
      "train loss = 0.1342423:  90%|████████▉ | 7/7.8125 [00:00<00:00, 29.68it/s]\u001b[A\n",
      "train loss = 0.1342423:  90%|████████▉ | 7/7.8125 [00:00<00:00, 29.68it/s]\u001b[A\n",
      "train loss = 0.1342423: : 8it [00:00, 29.81it/s]                          \u001b[A\n",
      "  0%|          | 0/7.8125 [00:00<?, ?it/s]\u001b[A\n",
      "train loss = 0.1589175:   0%|          | 0/7.8125 [00:00<?, ?it/s]\u001b[A\n",
      "train loss = 0.1589175:   0%|          | 0/7.8125 [00:00<?, ?it/s]\u001b[A\n",
      "train loss = 0.1682764:   0%|          | 0/7.8125 [00:00<?, ?it/s]\u001b[A\n",
      "train loss = 0.1682764:   0%|          | 0/7.8125 [00:00<?, ?it/s]\u001b[A\n",
      "train loss = 0.2151095:   0%|          | 0/7.8125 [00:00<?, ?it/s]\u001b[A\n",
      "train loss = 0.2151095:   0%|          | 0/7.8125 [00:00<?, ?it/s]\u001b[A\n",
      "train loss = 0.1741599:   0%|          | 0/7.8125 [00:00<?, ?it/s]\u001b[A\n",
      "train loss = 0.1741599:   0%|          | 0/7.8125 [00:00<?, ?it/s]\u001b[A\n",
      "train loss = 0.1741599:  51%|█████     | 4/7.8125 [00:00<00:00, 30.01it/s]\u001b[A\n",
      "train loss = 0.1338633:  51%|█████     | 4/7.8125 [00:00<00:00, 30.01it/s]\u001b[A\n",
      "train loss = 0.1338633:  51%|█████     | 4/7.8125 [00:00<00:00, 30.01it/s]\u001b[A\n"
     ]
    },
    {
     "name": "stdout",
     "output_type": "stream",
     "text": [
      "Epoch: 50, Training Loss:   0.1662\n"
     ]
    },
    {
     "name": "stderr",
     "output_type": "stream",
     "text": [
      "train loss = 0.1628188:  51%|█████     | 4/7.8125 [00:00<00:00, 30.01it/s]\u001b[A\n",
      "train loss = 0.1628188:  51%|█████     | 4/7.8125 [00:00<00:00, 30.01it/s]\u001b[A\n",
      "train loss = 0.2242121:  51%|█████     | 4/7.8125 [00:00<00:00, 30.01it/s]\u001b[A\n",
      "train loss = 0.2242121:  51%|█████     | 4/7.8125 [00:00<00:00, 30.01it/s]\u001b[A\n",
      "train loss = 0.1575453:  51%|█████     | 4/7.8125 [00:00<00:00, 30.01it/s]\u001b[A\n",
      "train loss = 0.1575453:  51%|█████     | 4/7.8125 [00:00<00:00, 30.01it/s]\u001b[A\n",
      "train loss = 0.1575453: : 8it [00:00, 30.19it/s]                          \u001b[A\n",
      "  0%|          | 0/7.8125 [00:00<?, ?it/s]\u001b[A\n",
      "train loss = 0.1646247:   0%|          | 0/7.8125 [00:00<?, ?it/s]\u001b[A\n",
      "train loss = 0.1646247:   0%|          | 0/7.8125 [00:00<?, ?it/s]\u001b[A\n",
      "train loss = 0.1387103:   0%|          | 0/7.8125 [00:00<?, ?it/s]\u001b[A\n",
      "train loss = 0.1387103:   0%|          | 0/7.8125 [00:00<?, ?it/s]\u001b[A\n",
      "train loss = 0.1447379:   0%|          | 0/7.8125 [00:00<?, ?it/s]\u001b[A\n",
      "train loss = 0.1447379:   0%|          | 0/7.8125 [00:00<?, ?it/s]\u001b[A\n",
      "train loss = 0.1447379:  38%|███▊      | 3/7.8125 [00:00<00:00, 29.75it/s]\u001b[A\n",
      "train loss = 0.2249001:  38%|███▊      | 3/7.8125 [00:00<00:00, 29.75it/s]\u001b[A\n",
      "train loss = 0.2249001:  38%|███▊      | 3/7.8125 [00:00<00:00, 29.75it/s]\u001b[A\n",
      "train loss = 0.1756167:  38%|███▊      | 3/7.8125 [00:00<00:00, 29.75it/s]\u001b[A\n",
      "train loss = 0.1756167:  38%|███▊      | 3/7.8125 [00:00<00:00, 29.75it/s]\u001b[A"
     ]
    },
    {
     "name": "stdout",
     "output_type": "stream",
     "text": [
      "Epoch: 51, Training Loss:   0.1744\n"
     ]
    },
    {
     "name": "stderr",
     "output_type": "stream",
     "text": [
      "\n",
      "train loss = 0.1759907:  38%|███▊      | 3/7.8125 [00:00<00:00, 29.75it/s]\u001b[A\n",
      "train loss = 0.1759907:  38%|███▊      | 3/7.8125 [00:00<00:00, 29.75it/s]\u001b[A\n",
      "train loss = 0.1759907:  77%|███████▋  | 6/7.8125 [00:00<00:00, 29.75it/s]\u001b[A\n",
      "train loss = 0.1976573:  77%|███████▋  | 6/7.8125 [00:00<00:00, 29.75it/s]\u001b[A\n",
      "train loss = 0.1976573:  77%|███████▋  | 6/7.8125 [00:00<00:00, 29.75it/s]\u001b[A\n",
      "train loss = 0.1747818:  77%|███████▋  | 6/7.8125 [00:00<00:00, 29.75it/s]\u001b[A\n",
      "train loss = 0.1747818:  77%|███████▋  | 6/7.8125 [00:00<00:00, 29.75it/s]\u001b[A\n",
      "train loss = 0.1747818: : 8it [00:00, 30.09it/s]                          \u001b[A\n",
      "  0%|          | 0/7.8125 [00:00<?, ?it/s]\u001b[A\n",
      "train loss = 0.1823392:   0%|          | 0/7.8125 [00:00<?, ?it/s]\u001b[A\n",
      "train loss = 0.1823392:   0%|          | 0/7.8125 [00:00<?, ?it/s]\u001b[A\n",
      "train loss = 0.1544147:   0%|          | 0/7.8125 [00:00<?, ?it/s]\u001b[A\n",
      "train loss = 0.1544147:   0%|          | 0/7.8125 [00:00<?, ?it/s]\u001b[A\n",
      "train loss = 0.1759577:   0%|          | 0/7.8125 [00:00<?, ?it/s]\u001b[A\n",
      "train loss = 0.1759577:   0%|          | 0/7.8125 [00:00<?, ?it/s]\u001b[A\n",
      "train loss = 0.1933315:   0%|          | 0/7.8125 [00:00<?, ?it/s]\u001b[A\n",
      "train loss = 0.1933315:   0%|          | 0/7.8125 [00:00<?, ?it/s]\u001b[A\n",
      "train loss = 0.1933315:  51%|█████     | 4/7.8125 [00:00<00:00, 30.06it/s]\u001b[A\n",
      "train loss = 0.1784416:  51%|█████     | 4/7.8125 [00:00<00:00, 30.06it/s]\u001b[A\n",
      "train loss = 0.1784416:  51%|█████     | 4/7.8125 [00:00<00:00, 30.06it/s]\u001b[A\n"
     ]
    },
    {
     "name": "stdout",
     "output_type": "stream",
     "text": [
      "Epoch: 52, Training Loss:   0.1746\n"
     ]
    },
    {
     "name": "stderr",
     "output_type": "stream",
     "text": [
      "train loss = 0.1983243:  51%|█████     | 4/7.8125 [00:00<00:00, 30.06it/s]\u001b[A\n",
      "train loss = 0.1983243:  51%|█████     | 4/7.8125 [00:00<00:00, 30.06it/s]\u001b[A\n",
      "train loss = 0.1369866:  51%|█████     | 4/7.8125 [00:00<00:00, 30.06it/s]\u001b[A\n",
      "train loss = 0.1369866:  51%|█████     | 4/7.8125 [00:00<00:00, 30.06it/s]\u001b[A\n",
      "train loss = 0.1369866:  90%|████████▉ | 7/7.8125 [00:00<00:00, 29.94it/s]\u001b[A\n",
      "train loss = 0.1796999:  90%|████████▉ | 7/7.8125 [00:00<00:00, 29.94it/s]\u001b[A\n",
      "train loss = 0.1796999:  90%|████████▉ | 7/7.8125 [00:00<00:00, 29.94it/s]\u001b[A\n",
      "train loss = 0.1796999: : 8it [00:00, 30.08it/s]                          \u001b[A\n",
      "  0%|          | 0/7.8125 [00:00<?, ?it/s]\u001b[A\n",
      "train loss = 0.1587980:   0%|          | 0/7.8125 [00:00<?, ?it/s]\u001b[A\n",
      "train loss = 0.1587980:   0%|          | 0/7.8125 [00:00<?, ?it/s]\u001b[A\n",
      "train loss = 0.1551494:   0%|          | 0/7.8125 [00:00<?, ?it/s]\u001b[A\n",
      "train loss = 0.1551494:   0%|          | 0/7.8125 [00:00<?, ?it/s]\u001b[A\n",
      "train loss = 0.1863684:   0%|          | 0/7.8125 [00:00<?, ?it/s]\u001b[A\n",
      "train loss = 0.1863684:   0%|          | 0/7.8125 [00:00<?, ?it/s]\u001b[A\n",
      "train loss = 0.1863684:  38%|███▊      | 3/7.8125 [00:00<00:00, 29.91it/s]\u001b[A\n",
      "train loss = 0.1718363:  38%|███▊      | 3/7.8125 [00:00<00:00, 29.91it/s]\u001b[A\n",
      "train loss = 0.1718363:  38%|███▊      | 3/7.8125 [00:00<00:00, 29.91it/s]\u001b[A\n",
      "train loss = 0.1447908:  38%|███▊      | 3/7.8125 [00:00<00:00, 29.91it/s]\u001b[A\n",
      "train loss = 0.1447908:  38%|███▊      | 3/7.8125 [00:00<00:00, 29.91it/s]\u001b[A"
     ]
    },
    {
     "name": "stdout",
     "output_type": "stream",
     "text": [
      "Epoch: 53, Training Loss:   0.1749\n"
     ]
    },
    {
     "name": "stderr",
     "output_type": "stream",
     "text": [
      "\n",
      "train loss = 0.1533336:  38%|███▊      | 3/7.8125 [00:00<00:00, 29.91it/s]\u001b[A\n",
      "train loss = 0.1533336:  38%|███▊      | 3/7.8125 [00:00<00:00, 29.91it/s]\u001b[A\n",
      "train loss = 0.1533336:  77%|███████▋  | 6/7.8125 [00:00<00:00, 29.80it/s]\u001b[A\n",
      "train loss = 0.1859918:  77%|███████▋  | 6/7.8125 [00:00<00:00, 29.80it/s]\u001b[A\n",
      "train loss = 0.1859918:  77%|███████▋  | 6/7.8125 [00:00<00:00, 29.80it/s]\u001b[A\n",
      "train loss = 0.1916844:  77%|███████▋  | 6/7.8125 [00:00<00:00, 29.80it/s]\u001b[A\n",
      "train loss = 0.1916844:  77%|███████▋  | 6/7.8125 [00:00<00:00, 29.80it/s]\u001b[A\n",
      "train loss = 0.1916844: : 8it [00:00, 30.08it/s]                          \u001b[A\n",
      "  0%|          | 0/7.8125 [00:00<?, ?it/s]\u001b[A\n",
      "train loss = 0.1555804:   0%|          | 0/7.8125 [00:00<?, ?it/s]\u001b[A\n",
      "train loss = 0.1555804:   0%|          | 0/7.8125 [00:00<?, ?it/s]\u001b[A\n",
      "train loss = 0.1725955:   0%|          | 0/7.8125 [00:00<?, ?it/s]\u001b[A\n",
      "train loss = 0.1725955:   0%|          | 0/7.8125 [00:00<?, ?it/s]\u001b[A\n",
      "train loss = 0.1572910:   0%|          | 0/7.8125 [00:00<?, ?it/s]\u001b[A\n",
      "train loss = 0.1572910:   0%|          | 0/7.8125 [00:00<?, ?it/s]\u001b[A\n",
      "train loss = 0.1842522:   0%|          | 0/7.8125 [00:00<?, ?it/s]\u001b[A\n",
      "train loss = 0.1842522:   0%|          | 0/7.8125 [00:00<?, ?it/s]\u001b[A\n",
      "train loss = 0.1842522:  51%|█████     | 4/7.8125 [00:00<00:00, 30.31it/s]\u001b[A\n",
      "train loss = 0.1419464:  51%|█████     | 4/7.8125 [00:00<00:00, 30.31it/s]\u001b[A\n",
      "train loss = 0.1419464:  51%|█████     | 4/7.8125 [00:00<00:00, 30.31it/s]\u001b[A\n",
      "train loss = 0.1684808:  51%|█████     | 4/7.8125 [00:00<00:00, 30.31it/s]\u001b[A"
     ]
    },
    {
     "name": "stdout",
     "output_type": "stream",
     "text": [
      "Epoch: 54, Training Loss:   0.1685\n"
     ]
    },
    {
     "name": "stderr",
     "output_type": "stream",
     "text": [
      "\n",
      "train loss = 0.1684808:  51%|█████     | 4/7.8125 [00:00<00:00, 30.31it/s]\u001b[A\n",
      "train loss = 0.1931735:  51%|█████     | 4/7.8125 [00:00<00:00, 30.31it/s]\u001b[A\n",
      "train loss = 0.1931735:  51%|█████     | 4/7.8125 [00:00<00:00, 30.31it/s]\u001b[A\n",
      "train loss = 0.1931735:  90%|████████▉ | 7/7.8125 [00:00<00:00, 30.11it/s]\u001b[A\n",
      "train loss = 0.1380929:  90%|████████▉ | 7/7.8125 [00:00<00:00, 30.11it/s]\u001b[A\n",
      "train loss = 0.1380929:  90%|████████▉ | 7/7.8125 [00:00<00:00, 30.11it/s]\u001b[A\n",
      "train loss = 0.1380929: : 8it [00:00, 30.11it/s]                          \u001b[A\n",
      "  0%|          | 0/7.8125 [00:00<?, ?it/s]\u001b[A\n",
      "train loss = 0.1866799:   0%|          | 0/7.8125 [00:00<?, ?it/s]\u001b[A\n",
      "train loss = 0.1866799:   0%|          | 0/7.8125 [00:00<?, ?it/s]\u001b[A\n",
      "train loss = 0.1720225:   0%|          | 0/7.8125 [00:00<?, ?it/s]\u001b[A\n",
      "train loss = 0.1720225:   0%|          | 0/7.8125 [00:00<?, ?it/s]\u001b[A\n",
      "train loss = 0.1563866:   0%|          | 0/7.8125 [00:00<?, ?it/s]\u001b[A\n",
      "train loss = 0.1563866:   0%|          | 0/7.8125 [00:00<?, ?it/s]\u001b[A\n",
      "train loss = 0.1450296:   0%|          | 0/7.8125 [00:00<?, ?it/s]\u001b[A\n",
      "train loss = 0.1450296:   0%|          | 0/7.8125 [00:00<?, ?it/s]\u001b[A\n",
      "train loss = 0.1450296:  51%|█████     | 4/7.8125 [00:00<00:00, 30.17it/s]\u001b[A\n",
      "train loss = 0.1753921:  51%|█████     | 4/7.8125 [00:00<00:00, 30.17it/s]\u001b[A\n",
      "train loss = 0.1753921:  51%|█████     | 4/7.8125 [00:00<00:00, 30.17it/s]\u001b[A\n",
      "train loss = 0.1831026:  51%|█████     | 4/7.8125 [00:00<00:00, 30.17it/s]"
     ]
    },
    {
     "name": "stdout",
     "output_type": "stream",
     "text": [
      "Epoch: 55, Training Loss:   0.1639\n"
     ]
    },
    {
     "name": "stderr",
     "output_type": "stream",
     "text": [
      "\u001b[A\n",
      "train loss = 0.1831026:  51%|█████     | 4/7.8125 [00:00<00:00, 30.17it/s]\u001b[A\n",
      "train loss = 0.1425121:  51%|█████     | 4/7.8125 [00:00<00:00, 30.17it/s]\u001b[A\n",
      "train loss = 0.1425121:  51%|█████     | 4/7.8125 [00:00<00:00, 30.17it/s]\u001b[A\n",
      "train loss = 0.1425121:  90%|████████▉ | 7/7.8125 [00:00<00:00, 30.02it/s]\u001b[A\n",
      "train loss = 0.1703645:  90%|████████▉ | 7/7.8125 [00:00<00:00, 30.02it/s]\u001b[A\n",
      "train loss = 0.1703645:  90%|████████▉ | 7/7.8125 [00:00<00:00, 30.02it/s]\u001b[A\n",
      "train loss = 0.1703645: : 8it [00:00, 30.11it/s]                          \u001b[A\n",
      "  0%|          | 0/7.8125 [00:00<?, ?it/s]\u001b[A\n",
      "train loss = 0.1901578:   0%|          | 0/7.8125 [00:00<?, ?it/s]\u001b[A\n",
      "train loss = 0.1901578:   0%|          | 0/7.8125 [00:00<?, ?it/s]\u001b[A\n",
      "train loss = 0.1840805:   0%|          | 0/7.8125 [00:00<?, ?it/s]\u001b[A\n",
      "train loss = 0.1840805:   0%|          | 0/7.8125 [00:00<?, ?it/s]\u001b[A\n",
      "train loss = 0.1520471:   0%|          | 0/7.8125 [00:00<?, ?it/s]\u001b[A\n",
      "train loss = 0.1520471:   0%|          | 0/7.8125 [00:00<?, ?it/s]\u001b[A\n",
      "train loss = 0.1431644:   0%|          | 0/7.8125 [00:00<?, ?it/s]\u001b[A\n",
      "train loss = 0.1431644:   0%|          | 0/7.8125 [00:00<?, ?it/s]\u001b[A\n",
      "train loss = 0.1431644:  51%|█████     | 4/7.8125 [00:00<00:00, 29.90it/s]\u001b[A\n",
      "train loss = 0.1709928:  51%|█████     | 4/7.8125 [00:00<00:00, 29.90it/s]\u001b[A\n",
      "train loss = 0.1709928:  51%|█████     | 4/7.8125 [00:00<00:00, 29.90it/s]\u001b[A"
     ]
    },
    {
     "name": "stdout",
     "output_type": "stream",
     "text": [
      "Epoch: 56, Training Loss:   0.1664\n"
     ]
    },
    {
     "name": "stderr",
     "output_type": "stream",
     "text": [
      "\n",
      "train loss = 0.1510847:  51%|█████     | 4/7.8125 [00:00<00:00, 29.90it/s]\u001b[A\n",
      "train loss = 0.1510847:  51%|█████     | 4/7.8125 [00:00<00:00, 29.90it/s]\u001b[A\n",
      "train loss = 0.1622196:  51%|█████     | 4/7.8125 [00:00<00:00, 29.90it/s]\u001b[A\n",
      "train loss = 0.1622196:  51%|█████     | 4/7.8125 [00:00<00:00, 29.90it/s]\u001b[A\n",
      "train loss = 0.1622196:  90%|████████▉ | 7/7.8125 [00:00<00:00, 29.86it/s]\u001b[A\n",
      "train loss = 0.1913065:  90%|████████▉ | 7/7.8125 [00:00<00:00, 29.86it/s]\u001b[A\n",
      "train loss = 0.1913065:  90%|████████▉ | 7/7.8125 [00:00<00:00, 29.86it/s]\u001b[A\n",
      "train loss = 0.1913065: : 8it [00:00, 30.00it/s]                          \u001b[A\n",
      "  0%|          | 0/7.8125 [00:00<?, ?it/s]\u001b[A\n",
      "train loss = 0.1280059:   0%|          | 0/7.8125 [00:00<?, ?it/s]\u001b[A\n",
      "train loss = 0.1280059:   0%|          | 0/7.8125 [00:00<?, ?it/s]\u001b[A\n",
      "train loss = 0.1678601:   0%|          | 0/7.8125 [00:00<?, ?it/s]\u001b[A\n",
      "train loss = 0.1678601:   0%|          | 0/7.8125 [00:00<?, ?it/s]\u001b[A\n",
      "train loss = 0.1899998:   0%|          | 0/7.8125 [00:00<?, ?it/s]\u001b[A\n",
      "train loss = 0.1899998:   0%|          | 0/7.8125 [00:00<?, ?it/s]\u001b[A\n",
      "train loss = 0.1773296:   0%|          | 0/7.8125 [00:00<?, ?it/s]\u001b[A\n",
      "train loss = 0.1773296:   0%|          | 0/7.8125 [00:00<?, ?it/s]\u001b[A\n",
      "train loss = 0.1773296:  51%|█████     | 4/7.8125 [00:00<00:00, 30.15it/s]\u001b[A\n",
      "train loss = 0.1607849:  51%|█████     | 4/7.8125 [00:00<00:00, 30.15it/s]\u001b[A\n",
      "train loss = 0.1607849:  51%|█████     | 4/7.8125 [00:00<00:00, 30.15it/s]\u001b[A\n",
      "train loss = 0.1813831:  51%|█████     | 4/7.8125 [00:00<00:00, 30.15it/s]"
     ]
    },
    {
     "name": "stdout",
     "output_type": "stream",
     "text": [
      "Epoch: 57, Training Loss:   0.1681\n"
     ]
    },
    {
     "name": "stderr",
     "output_type": "stream",
     "text": [
      "\u001b[A\n",
      "train loss = 0.1813831:  51%|█████     | 4/7.8125 [00:00<00:00, 30.15it/s]\u001b[A\n",
      "train loss = 0.1646349:  51%|█████     | 4/7.8125 [00:00<00:00, 30.15it/s]\u001b[A\n",
      "train loss = 0.1646349:  51%|█████     | 4/7.8125 [00:00<00:00, 30.15it/s]\u001b[A\n",
      "train loss = 0.1646349:  90%|████████▉ | 7/7.8125 [00:00<00:00, 30.00it/s]\u001b[A\n",
      "train loss = 0.1340119:  90%|████████▉ | 7/7.8125 [00:00<00:00, 30.00it/s]\u001b[A\n",
      "train loss = 0.1340119:  90%|████████▉ | 7/7.8125 [00:00<00:00, 30.00it/s]\u001b[A\n",
      "train loss = 0.1340119: : 8it [00:00, 30.10it/s]                          \u001b[A\n",
      "  0%|          | 0/7.8125 [00:00<?, ?it/s]\u001b[A\n",
      "train loss = 0.1470539:   0%|          | 0/7.8125 [00:00<?, ?it/s]\u001b[A\n",
      "train loss = 0.1470539:   0%|          | 0/7.8125 [00:00<?, ?it/s]\u001b[A\n",
      "train loss = 0.1230530:   0%|          | 0/7.8125 [00:00<?, ?it/s]\u001b[A\n",
      "train loss = 0.1230530:   0%|          | 0/7.8125 [00:00<?, ?it/s]\u001b[A\n",
      "train loss = 0.1640060:   0%|          | 0/7.8125 [00:00<?, ?it/s]\u001b[A\n",
      "train loss = 0.1640060:   0%|          | 0/7.8125 [00:00<?, ?it/s]\u001b[A\n",
      "train loss = 0.1640060:  38%|███▊      | 3/7.8125 [00:00<00:00, 29.57it/s]\u001b[A\n",
      "train loss = 0.2030015:  38%|███▊      | 3/7.8125 [00:00<00:00, 29.57it/s]\u001b[A\n",
      "train loss = 0.2030015:  38%|███▊      | 3/7.8125 [00:00<00:00, 29.57it/s]\u001b[A\n",
      "train loss = 0.2088485:  38%|███▊      | 3/7.8125 [00:00<00:00, 29.57it/s]\u001b[A\n",
      "train loss = 0.2088485:  38%|███▊      | 3/7.8125 [00:00<00:00, 29.57it/s]\u001b[A\n"
     ]
    },
    {
     "name": "stdout",
     "output_type": "stream",
     "text": [
      "Epoch: 58, Training Loss:   0.1630\n"
     ]
    },
    {
     "name": "stderr",
     "output_type": "stream",
     "text": [
      "train loss = 0.1674187:  38%|███▊      | 3/7.8125 [00:00<00:00, 29.57it/s]\u001b[A\n",
      "train loss = 0.1674187:  38%|███▊      | 3/7.8125 [00:00<00:00, 29.57it/s]\u001b[A\n",
      "train loss = 0.1422354:  38%|███▊      | 3/7.8125 [00:00<00:00, 29.57it/s]\u001b[A\n",
      "train loss = 0.1422354:  38%|███▊      | 3/7.8125 [00:00<00:00, 29.57it/s]\u001b[A\n",
      "train loss = 0.1422354:  90%|████████▉ | 7/7.8125 [00:00<00:00, 29.75it/s]\u001b[A\n",
      "train loss = 0.1842586:  90%|████████▉ | 7/7.8125 [00:00<00:00, 29.75it/s]\u001b[A\n",
      "train loss = 0.1842586:  90%|████████▉ | 7/7.8125 [00:00<00:00, 29.75it/s]\u001b[A\n",
      "train loss = 0.1842586: : 8it [00:00, 29.98it/s]                          \u001b[A\n",
      "  0%|          | 0/7.8125 [00:00<?, ?it/s]\u001b[A\n",
      "train loss = 0.1473975:   0%|          | 0/7.8125 [00:00<?, ?it/s]\u001b[A\n",
      "train loss = 0.1473975:   0%|          | 0/7.8125 [00:00<?, ?it/s]\u001b[A\n",
      "train loss = 0.1695751:   0%|          | 0/7.8125 [00:00<?, ?it/s]\u001b[A\n",
      "train loss = 0.1695751:   0%|          | 0/7.8125 [00:00<?, ?it/s]\u001b[A\n",
      "train loss = 0.1697071:   0%|          | 0/7.8125 [00:00<?, ?it/s]\u001b[A\n",
      "train loss = 0.1697071:   0%|          | 0/7.8125 [00:00<?, ?it/s]\u001b[A\n",
      "train loss = 0.1697071:  38%|███▊      | 3/7.8125 [00:00<00:00, 29.46it/s]\u001b[A\n",
      "train loss = 0.1900258:  38%|███▊      | 3/7.8125 [00:00<00:00, 29.46it/s]\u001b[A\n",
      "train loss = 0.1900258:  38%|███▊      | 3/7.8125 [00:00<00:00, 29.46it/s]\u001b[A\n",
      "train loss = 0.1778744:  38%|███▊      | 3/7.8125 [00:00<00:00, 29.46it/s]\u001b[A\n",
      "train loss = 0.1778744:  38%|███▊      | 3/7.8125 [00:00<00:00, 29.46it/s]\u001b[A"
     ]
    },
    {
     "name": "stdout",
     "output_type": "stream",
     "text": [
      "Epoch: 59, Training Loss:   0.1675\n"
     ]
    },
    {
     "name": "stderr",
     "output_type": "stream",
     "text": [
      "\n",
      "train loss = 0.1633947:  38%|███▊      | 3/7.8125 [00:00<00:00, 29.46it/s]\u001b[A\n",
      "train loss = 0.1633947:  38%|███▊      | 3/7.8125 [00:00<00:00, 29.46it/s]\u001b[A\n",
      "train loss = 0.1743937:  38%|███▊      | 3/7.8125 [00:00<00:00, 29.46it/s]\u001b[A\n",
      "train loss = 0.1743937:  38%|███▊      | 3/7.8125 [00:00<00:00, 29.46it/s]\u001b[A\n",
      "train loss = 0.1743937:  90%|████████▉ | 7/7.8125 [00:00<00:00, 29.65it/s]\u001b[A\n",
      "train loss = 0.1474988:  90%|████████▉ | 7/7.8125 [00:00<00:00, 29.65it/s]\u001b[A\n",
      "train loss = 0.1474988:  90%|████████▉ | 7/7.8125 [00:00<00:00, 29.65it/s]\u001b[A\n",
      "train loss = 0.1474988: : 8it [00:00, 29.91it/s]                          \u001b[A\n",
      "  0%|          | 0/7.8125 [00:00<?, ?it/s]\u001b[A\n",
      "train loss = 0.1959273:   0%|          | 0/7.8125 [00:00<?, ?it/s]\u001b[A\n",
      "train loss = 0.1959273:   0%|          | 0/7.8125 [00:00<?, ?it/s]\u001b[A\n",
      "train loss = 0.1662360:   0%|          | 0/7.8125 [00:00<?, ?it/s]\u001b[A\n",
      "train loss = 0.1662360:   0%|          | 0/7.8125 [00:00<?, ?it/s]\u001b[A\n",
      "train loss = 0.1362305:   0%|          | 0/7.8125 [00:00<?, ?it/s]\u001b[A\n",
      "train loss = 0.1362305:   0%|          | 0/7.8125 [00:00<?, ?it/s]\u001b[A\n",
      "train loss = 0.1536437:   0%|          | 0/7.8125 [00:00<?, ?it/s]\u001b[A\n",
      "train loss = 0.1536437:   0%|          | 0/7.8125 [00:00<?, ?it/s]\u001b[A\n",
      "train loss = 0.1536437:  51%|█████     | 4/7.8125 [00:00<00:00, 29.94it/s]\u001b[A\n",
      "train loss = 0.1686588:  51%|█████     | 4/7.8125 [00:00<00:00, 29.94it/s]\u001b[A\n",
      "train loss = 0.1686588:  51%|█████     | 4/7.8125 [00:00<00:00, 29.94it/s]\u001b[A"
     ]
    },
    {
     "name": "stdout",
     "output_type": "stream",
     "text": [
      "Epoch: 60, Training Loss:   0.1675\n"
     ]
    },
    {
     "name": "stderr",
     "output_type": "stream",
     "text": [
      "\n",
      "train loss = 0.1531631:  51%|█████     | 4/7.8125 [00:00<00:00, 29.94it/s]\u001b[A\n",
      "train loss = 0.1531631:  51%|█████     | 4/7.8125 [00:00<00:00, 29.94it/s]\u001b[A\n",
      "train loss = 0.1662544:  51%|█████     | 4/7.8125 [00:00<00:00, 29.94it/s]\u001b[A\n",
      "train loss = 0.1662544:  51%|█████     | 4/7.8125 [00:00<00:00, 29.94it/s]\u001b[A\n",
      "train loss = 0.1662544:  90%|████████▉ | 7/7.8125 [00:00<00:00, 29.68it/s]\u001b[A\n",
      "train loss = 0.1801254:  90%|████████▉ | 7/7.8125 [00:00<00:00, 29.68it/s]\u001b[A\n",
      "train loss = 0.1801254:  90%|████████▉ | 7/7.8125 [00:00<00:00, 29.68it/s]\u001b[A\n",
      "train loss = 0.1801254: : 8it [00:00, 29.76it/s]                          \u001b[A\n",
      "  0%|          | 0/7.8125 [00:00<?, ?it/s]\u001b[A\n",
      "train loss = 0.1740533:   0%|          | 0/7.8125 [00:00<?, ?it/s]\u001b[A\n",
      "train loss = 0.1740533:   0%|          | 0/7.8125 [00:00<?, ?it/s]\u001b[A\n",
      "train loss = 0.1745072:   0%|          | 0/7.8125 [00:00<?, ?it/s]\u001b[A\n",
      "train loss = 0.1745072:   0%|          | 0/7.8125 [00:00<?, ?it/s]\u001b[A\n",
      "train loss = 0.1372239:   0%|          | 0/7.8125 [00:00<?, ?it/s]\u001b[A\n",
      "train loss = 0.1372239:   0%|          | 0/7.8125 [00:00<?, ?it/s]\u001b[A\n",
      "train loss = 0.1372239:  38%|███▊      | 3/7.8125 [00:00<00:00, 29.73it/s]\u001b[A\n",
      "train loss = 0.1555868:  38%|███▊      | 3/7.8125 [00:00<00:00, 29.73it/s]\u001b[A\n",
      "train loss = 0.1555868:  38%|███▊      | 3/7.8125 [00:00<00:00, 29.73it/s]\u001b[A\n",
      "train loss = 0.2016407:  38%|███▊      | 3/7.8125 [00:00<00:00, 29.73it/s]\u001b[A\n",
      "train loss = 0.2016407:  38%|███▊      | 3/7.8125 [00:00<00:00, 29.73it/s]\u001b[A"
     ]
    },
    {
     "name": "stdout",
     "output_type": "stream",
     "text": [
      "Epoch: 61, Training Loss:   0.1650\n"
     ]
    },
    {
     "name": "stderr",
     "output_type": "stream",
     "text": [
      "\n",
      "train loss = 0.1646035:  38%|███▊      | 3/7.8125 [00:00<00:00, 29.73it/s]\u001b[A\n",
      "train loss = 0.1646035:  38%|███▊      | 3/7.8125 [00:00<00:00, 29.73it/s]\u001b[A\n",
      "train loss = 0.1646035:  77%|███████▋  | 6/7.8125 [00:00<00:00, 29.59it/s]\u001b[A\n",
      "train loss = 0.1401691:  77%|███████▋  | 6/7.8125 [00:00<00:00, 29.59it/s]\u001b[A\n",
      "train loss = 0.1401691:  77%|███████▋  | 6/7.8125 [00:00<00:00, 29.59it/s]\u001b[A\n",
      "train loss = 0.1550174:  77%|███████▋  | 6/7.8125 [00:00<00:00, 29.59it/s]\u001b[A\n",
      "train loss = 0.1550174:  77%|███████▋  | 6/7.8125 [00:00<00:00, 29.59it/s]\u001b[A\n",
      "train loss = 0.1550174: : 8it [00:00, 29.11it/s]                          \u001b[A\n",
      "  0%|          | 0/7.8125 [00:00<?, ?it/s]\u001b[A\n",
      "train loss = 0.1916038:   0%|          | 0/7.8125 [00:00<?, ?it/s]\u001b[A\n",
      "train loss = 0.1916038:   0%|          | 0/7.8125 [00:00<?, ?it/s]\u001b[A\n",
      "train loss = 0.1477962:   0%|          | 0/7.8125 [00:00<?, ?it/s]\u001b[A\n",
      "train loss = 0.1477962:   0%|          | 0/7.8125 [00:00<?, ?it/s]\u001b[A\n",
      "train loss = 0.1726362:   0%|          | 0/7.8125 [00:00<?, ?it/s]\u001b[A\n",
      "train loss = 0.1726362:   0%|          | 0/7.8125 [00:00<?, ?it/s]\u001b[A\n",
      "train loss = 0.1726362:  38%|███▊      | 3/7.8125 [00:00<00:00, 29.75it/s]\u001b[A\n",
      "train loss = 0.1586143:  38%|███▊      | 3/7.8125 [00:00<00:00, 29.75it/s]\u001b[A\n",
      "train loss = 0.1586143:  38%|███▊      | 3/7.8125 [00:00<00:00, 29.75it/s]\u001b[A\n",
      "train loss = 0.1395601:  38%|███▊      | 3/7.8125 [00:00<00:00, 29.75it/s]\u001b[A\n",
      "train loss = 0.1395601:  38%|███▊      | 3/7.8125 [00:00<00:00, 29.75it/s]\u001b[A"
     ]
    },
    {
     "name": "stdout",
     "output_type": "stream",
     "text": [
      "Epoch: 62, Training Loss:   0.1629\n"
     ]
    },
    {
     "name": "stderr",
     "output_type": "stream",
     "text": [
      "\n",
      "train loss = 0.1580167:  38%|███▊      | 3/7.8125 [00:00<00:00, 29.75it/s]\u001b[A\n",
      "train loss = 0.1580167:  38%|███▊      | 3/7.8125 [00:00<00:00, 29.75it/s]\u001b[A\n",
      "train loss = 0.1580167:  77%|███████▋  | 6/7.8125 [00:00<00:00, 29.62it/s]\u001b[A\n",
      "train loss = 0.1835016:  77%|███████▋  | 6/7.8125 [00:00<00:00, 29.62it/s]\u001b[A\n",
      "train loss = 0.1835016:  77%|███████▋  | 6/7.8125 [00:00<00:00, 29.62it/s]\u001b[A\n",
      "train loss = 0.1628058:  77%|███████▋  | 6/7.8125 [00:00<00:00, 29.62it/s]\u001b[A\n",
      "train loss = 0.1628058:  77%|███████▋  | 6/7.8125 [00:00<00:00, 29.62it/s]\u001b[A\n",
      "train loss = 0.1628058: : 8it [00:00, 29.84it/s]                          \u001b[A\n",
      "  0%|          | 0/7.8125 [00:00<?, ?it/s]\u001b[A\n",
      "train loss = 0.1475549:   0%|          | 0/7.8125 [00:00<?, ?it/s]\u001b[A\n",
      "train loss = 0.1475549:   0%|          | 0/7.8125 [00:00<?, ?it/s]\u001b[A\n",
      "train loss = 0.1649149:   0%|          | 0/7.8125 [00:00<?, ?it/s]\u001b[A\n",
      "train loss = 0.1649149:   0%|          | 0/7.8125 [00:00<?, ?it/s]\u001b[A\n",
      "train loss = 0.1708062:   0%|          | 0/7.8125 [00:00<?, ?it/s]\u001b[A\n",
      "train loss = 0.1708062:   0%|          | 0/7.8125 [00:00<?, ?it/s]\u001b[A\n",
      "train loss = 0.1708062:  38%|███▊      | 3/7.8125 [00:00<00:00, 29.38it/s]\u001b[A\n",
      "train loss = 0.1719470:  38%|███▊      | 3/7.8125 [00:00<00:00, 29.38it/s]\u001b[A\n",
      "train loss = 0.1719470:  38%|███▊      | 3/7.8125 [00:00<00:00, 29.38it/s]\u001b[A\n",
      "train loss = 0.1560847:  38%|███▊      | 3/7.8125 [00:00<00:00, 29.38it/s]\u001b[A\n",
      "train loss = 0.1560847:  38%|███▊      | 3/7.8125 [00:00<00:00, 29.38it/s]\u001b[A"
     ]
    },
    {
     "name": "stdout",
     "output_type": "stream",
     "text": [
      "Epoch: 63, Training Loss:   0.1643\n"
     ]
    },
    {
     "name": "stderr",
     "output_type": "stream",
     "text": [
      "\n",
      "train loss = 0.1970429:  38%|███▊      | 3/7.8125 [00:00<00:00, 29.38it/s]\u001b[A\n",
      "train loss = 0.1970429:  38%|███▊      | 3/7.8125 [00:00<00:00, 29.38it/s]\u001b[A\n",
      "train loss = 0.1970429:  77%|███████▋  | 6/7.8125 [00:00<00:00, 29.42it/s]\u001b[A\n",
      "train loss = 0.1814357:  77%|███████▋  | 6/7.8125 [00:00<00:00, 29.42it/s]\u001b[A\n",
      "train loss = 0.1814357:  77%|███████▋  | 6/7.8125 [00:00<00:00, 29.42it/s]\u001b[A\n",
      "train loss = 0.1628315:  77%|███████▋  | 6/7.8125 [00:00<00:00, 29.42it/s]\u001b[A\n",
      "train loss = 0.1628315:  77%|███████▋  | 6/7.8125 [00:00<00:00, 29.42it/s]\u001b[A\n",
      "train loss = 0.1628315: : 8it [00:00, 29.85it/s]                          \u001b[A\n",
      "  0%|          | 0/7.8125 [00:00<?, ?it/s]\u001b[A\n",
      "train loss = 0.1872436:   0%|          | 0/7.8125 [00:00<?, ?it/s]\u001b[A\n",
      "train loss = 0.1872436:   0%|          | 0/7.8125 [00:00<?, ?it/s]\u001b[A\n",
      "train loss = 0.1582224:   0%|          | 0/7.8125 [00:00<?, ?it/s]\u001b[A\n",
      "train loss = 0.1582224:   0%|          | 0/7.8125 [00:00<?, ?it/s]\u001b[A\n",
      "train loss = 0.1737447:   0%|          | 0/7.8125 [00:00<?, ?it/s]\u001b[A\n",
      "train loss = 0.1737447:   0%|          | 0/7.8125 [00:00<?, ?it/s]\u001b[A\n",
      "train loss = 0.1737447:  38%|███▊      | 3/7.8125 [00:00<00:00, 29.79it/s]\u001b[A\n",
      "train loss = 0.1507661:  38%|███▊      | 3/7.8125 [00:00<00:00, 29.79it/s]\u001b[A\n",
      "train loss = 0.1507661:  38%|███▊      | 3/7.8125 [00:00<00:00, 29.79it/s]\u001b[A\n",
      "train loss = 0.1723915:  38%|███▊      | 3/7.8125 [00:00<00:00, 29.79it/s]\u001b[A\n",
      "train loss = 0.1723915:  38%|███▊      | 3/7.8125 [00:00<00:00, 29.79it/s]\u001b[A"
     ]
    },
    {
     "name": "stdout",
     "output_type": "stream",
     "text": [
      "Epoch: 64, Training Loss:   0.1691\n"
     ]
    },
    {
     "name": "stderr",
     "output_type": "stream",
     "text": [
      "\n",
      "train loss = 0.1713631:  38%|███▊      | 3/7.8125 [00:00<00:00, 29.79it/s]\u001b[A\n",
      "train loss = 0.1713631:  38%|███▊      | 3/7.8125 [00:00<00:00, 29.79it/s]\u001b[A\n",
      "train loss = 0.1713631:  77%|███████▋  | 6/7.8125 [00:00<00:00, 29.75it/s]\u001b[A\n",
      "train loss = 0.2094650:  77%|███████▋  | 6/7.8125 [00:00<00:00, 29.75it/s]\u001b[A\n",
      "train loss = 0.2094650:  77%|███████▋  | 6/7.8125 [00:00<00:00, 29.75it/s]\u001b[A\n",
      "train loss = 0.1343643:  77%|███████▋  | 6/7.8125 [00:00<00:00, 29.75it/s]\u001b[A\n",
      "train loss = 0.1343643:  77%|███████▋  | 6/7.8125 [00:00<00:00, 29.75it/s]\u001b[A\n",
      "train loss = 0.1343643: : 8it [00:00, 29.99it/s]                          \u001b[A\n",
      "  0%|          | 0/7.8125 [00:00<?, ?it/s]\u001b[A\n",
      "train loss = 0.1905088:   0%|          | 0/7.8125 [00:00<?, ?it/s]\u001b[A\n",
      "train loss = 0.1905088:   0%|          | 0/7.8125 [00:00<?, ?it/s]\u001b[A\n",
      "train loss = 0.1663938:   0%|          | 0/7.8125 [00:00<?, ?it/s]\u001b[A\n",
      "train loss = 0.1663938:   0%|          | 0/7.8125 [00:00<?, ?it/s]\u001b[A\n",
      "train loss = 0.1712542:   0%|          | 0/7.8125 [00:00<?, ?it/s]\u001b[A\n",
      "train loss = 0.1712542:   0%|          | 0/7.8125 [00:00<?, ?it/s]\u001b[A\n",
      "train loss = 0.1406510:   0%|          | 0/7.8125 [00:00<?, ?it/s]\u001b[A\n",
      "train loss = 0.1406510:   0%|          | 0/7.8125 [00:00<?, ?it/s]\u001b[A\n",
      "train loss = 0.1406510:  51%|█████     | 4/7.8125 [00:00<00:00, 29.98it/s]\u001b[A\n",
      "train loss = 0.1693887:  51%|█████     | 4/7.8125 [00:00<00:00, 29.98it/s]\u001b[A\n",
      "train loss = 0.1693887:  51%|█████     | 4/7.8125 [00:00<00:00, 29.98it/s]\u001b[A"
     ]
    },
    {
     "name": "stdout",
     "output_type": "stream",
     "text": [
      "Epoch: 65, Training Loss:   0.1697\n"
     ]
    },
    {
     "name": "stderr",
     "output_type": "stream",
     "text": [
      "\n",
      "train loss = 0.1848561:  51%|█████     | 4/7.8125 [00:00<00:00, 29.98it/s]\u001b[A\n",
      "train loss = 0.1848561:  51%|█████     | 4/7.8125 [00:00<00:00, 29.98it/s]\u001b[A\n",
      "train loss = 0.1735184:  51%|█████     | 4/7.8125 [00:00<00:00, 29.98it/s]\u001b[A\n",
      "train loss = 0.1735184:  51%|█████     | 4/7.8125 [00:00<00:00, 29.98it/s]\u001b[A\n",
      "train loss = 0.1735184:  90%|████████▉ | 7/7.8125 [00:00<00:00, 29.74it/s]\u001b[A\n",
      "train loss = 0.1427564:  90%|████████▉ | 7/7.8125 [00:00<00:00, 29.74it/s]\u001b[A\n",
      "train loss = 0.1427564:  90%|████████▉ | 7/7.8125 [00:00<00:00, 29.74it/s]\u001b[A\n",
      "train loss = 0.1427564: : 8it [00:00, 29.81it/s]                          \u001b[A\n",
      "  0%|          | 0/7.8125 [00:00<?, ?it/s]\u001b[A\n",
      "train loss = 0.1534572:   0%|          | 0/7.8125 [00:00<?, ?it/s]\u001b[A\n",
      "train loss = 0.1534572:   0%|          | 0/7.8125 [00:00<?, ?it/s]\u001b[A\n",
      "train loss = 0.1726736:   0%|          | 0/7.8125 [00:00<?, ?it/s]\u001b[A\n",
      "train loss = 0.1726736:   0%|          | 0/7.8125 [00:00<?, ?it/s]\u001b[A\n",
      "train loss = 0.1616569:   0%|          | 0/7.8125 [00:00<?, ?it/s]\u001b[A\n",
      "train loss = 0.1616569:   0%|          | 0/7.8125 [00:00<?, ?it/s]\u001b[A\n",
      "train loss = 0.1973186:   0%|          | 0/7.8125 [00:00<?, ?it/s]\u001b[A\n",
      "train loss = 0.1973186:   0%|          | 0/7.8125 [00:00<?, ?it/s]\u001b[A\n",
      "train loss = 0.1973186:  51%|█████     | 4/7.8125 [00:00<00:00, 29.90it/s]\u001b[A\n",
      "train loss = 0.1950024:  51%|█████     | 4/7.8125 [00:00<00:00, 29.90it/s]\u001b[A\n",
      "train loss = 0.1950024:  51%|█████     | 4/7.8125 [00:00<00:00, 29.90it/s]\u001b[A"
     ]
    },
    {
     "name": "stdout",
     "output_type": "stream",
     "text": [
      "Epoch: 66, Training Loss:   0.1674\n"
     ]
    },
    {
     "name": "stderr",
     "output_type": "stream",
     "text": [
      "\n",
      "train loss = 0.1622750:  51%|█████     | 4/7.8125 [00:00<00:00, 29.90it/s]\u001b[A\n",
      "train loss = 0.1622750:  51%|█████     | 4/7.8125 [00:00<00:00, 29.90it/s]\u001b[A\n",
      "train loss = 0.1685905:  51%|█████     | 4/7.8125 [00:00<00:00, 29.90it/s]\u001b[A\n",
      "train loss = 0.1685905:  51%|█████     | 4/7.8125 [00:00<00:00, 29.90it/s]\u001b[A\n",
      "train loss = 0.1685905:  90%|████████▉ | 7/7.8125 [00:00<00:00, 29.75it/s]\u001b[A\n",
      "train loss = 0.1405918:  90%|████████▉ | 7/7.8125 [00:00<00:00, 29.75it/s]\u001b[A\n",
      "train loss = 0.1405918:  90%|████████▉ | 7/7.8125 [00:00<00:00, 29.75it/s]\u001b[A\n",
      "train loss = 0.1405918: : 8it [00:00, 29.81it/s]                          \u001b[A\n",
      "  0%|          | 0/7.8125 [00:00<?, ?it/s]\u001b[A\n",
      "train loss = 0.1680261:   0%|          | 0/7.8125 [00:00<?, ?it/s]\u001b[A\n",
      "train loss = 0.1680261:   0%|          | 0/7.8125 [00:00<?, ?it/s]\u001b[A\n",
      "train loss = 0.1832829:   0%|          | 0/7.8125 [00:00<?, ?it/s]\u001b[A\n",
      "train loss = 0.1832829:   0%|          | 0/7.8125 [00:00<?, ?it/s]\u001b[A\n",
      "train loss = 0.1918028:   0%|          | 0/7.8125 [00:00<?, ?it/s]\u001b[A\n",
      "train loss = 0.1918028:   0%|          | 0/7.8125 [00:00<?, ?it/s]\u001b[A\n",
      "train loss = 0.1918028:  38%|███▊      | 3/7.8125 [00:00<00:00, 29.62it/s]\u001b[A\n",
      "train loss = 0.1894683:  38%|███▊      | 3/7.8125 [00:00<00:00, 29.62it/s]\u001b[A\n",
      "train loss = 0.1894683:  38%|███▊      | 3/7.8125 [00:00<00:00, 29.62it/s]\u001b[A\n",
      "train loss = 0.1557111:  38%|███▊      | 3/7.8125 [00:00<00:00, 29.62it/s]\u001b[A\n",
      "train loss = 0.1557111:  38%|███▊      | 3/7.8125 [00:00<00:00, 29.62it/s]\u001b[A"
     ]
    },
    {
     "name": "stdout",
     "output_type": "stream",
     "text": [
      "Epoch: 67, Training Loss:   0.1689\n"
     ]
    },
    {
     "name": "stderr",
     "output_type": "stream",
     "text": [
      "\n",
      "train loss = 0.1713060:  38%|███▊      | 3/7.8125 [00:00<00:00, 29.62it/s]\u001b[A\n",
      "train loss = 0.1713060:  38%|███▊      | 3/7.8125 [00:00<00:00, 29.62it/s]\u001b[A\n",
      "train loss = 0.1713060:  77%|███████▋  | 6/7.8125 [00:00<00:00, 29.69it/s]\u001b[A\n",
      "train loss = 0.1553116:  77%|███████▋  | 6/7.8125 [00:00<00:00, 29.69it/s]\u001b[A\n",
      "train loss = 0.1553116:  77%|███████▋  | 6/7.8125 [00:00<00:00, 29.69it/s]\u001b[A\n",
      "train loss = 0.1466943:  77%|███████▋  | 6/7.8125 [00:00<00:00, 29.69it/s]\u001b[A\n",
      "train loss = 0.1466943:  77%|███████▋  | 6/7.8125 [00:00<00:00, 29.69it/s]\u001b[A\n",
      "train loss = 0.1466943: : 8it [00:00, 29.94it/s]                          \u001b[A\n",
      "  0%|          | 0/7.8125 [00:00<?, ?it/s]\u001b[A\n",
      "train loss = 0.1612968:   0%|          | 0/7.8125 [00:00<?, ?it/s]\u001b[A\n",
      "train loss = 0.1612968:   0%|          | 0/7.8125 [00:00<?, ?it/s]\u001b[A\n",
      "train loss = 0.1739652:   0%|          | 0/7.8125 [00:00<?, ?it/s]\u001b[A\n",
      "train loss = 0.1739652:   0%|          | 0/7.8125 [00:00<?, ?it/s]\u001b[A\n",
      "train loss = 0.1827148:   0%|          | 0/7.8125 [00:00<?, ?it/s]\u001b[A\n",
      "train loss = 0.1827148:   0%|          | 0/7.8125 [00:00<?, ?it/s]\u001b[A\n",
      "train loss = 0.1827148:  38%|███▊      | 3/7.8125 [00:00<00:00, 29.96it/s]\u001b[A\n",
      "train loss = 0.1535874:  38%|███▊      | 3/7.8125 [00:00<00:00, 29.96it/s]\u001b[A\n",
      "train loss = 0.1535874:  38%|███▊      | 3/7.8125 [00:00<00:00, 29.96it/s]\u001b[A\n",
      "train loss = 0.1607859:  38%|███▊      | 3/7.8125 [00:00<00:00, 29.96it/s]\u001b[A\n",
      "train loss = 0.1607859:  38%|███▊      | 3/7.8125 [00:00<00:00, 29.96it/s]\u001b[A"
     ]
    },
    {
     "name": "stdout",
     "output_type": "stream",
     "text": [
      "Epoch: 68, Training Loss:   0.1702\n"
     ]
    },
    {
     "name": "stderr",
     "output_type": "stream",
     "text": [
      "\n",
      "train loss = 0.1477739:  38%|███▊      | 3/7.8125 [00:00<00:00, 29.96it/s]\u001b[A\n",
      "train loss = 0.1477739:  38%|███▊      | 3/7.8125 [00:00<00:00, 29.96it/s]\u001b[A\n",
      "train loss = 0.1477739:  77%|███████▋  | 6/7.8125 [00:00<00:00, 29.82it/s]\u001b[A\n",
      "train loss = 0.1637841:  77%|███████▋  | 6/7.8125 [00:00<00:00, 29.82it/s]\u001b[A\n",
      "train loss = 0.1637841:  77%|███████▋  | 6/7.8125 [00:00<00:00, 29.82it/s]\u001b[A\n",
      "train loss = 0.1910951:  77%|███████▋  | 6/7.8125 [00:00<00:00, 29.82it/s]\u001b[A\n",
      "train loss = 0.1910951:  77%|███████▋  | 6/7.8125 [00:00<00:00, 29.82it/s]\u001b[A\n",
      "train loss = 0.1910951: : 8it [00:00, 29.99it/s]                          \u001b[A\n",
      "  0%|          | 0/7.8125 [00:00<?, ?it/s]\u001b[A\n",
      "train loss = 0.1793696:   0%|          | 0/7.8125 [00:00<?, ?it/s]\u001b[A\n",
      "train loss = 0.1793696:   0%|          | 0/7.8125 [00:00<?, ?it/s]\u001b[A\n",
      "train loss = 0.1676625:   0%|          | 0/7.8125 [00:00<?, ?it/s]\u001b[A\n",
      "train loss = 0.1676625:   0%|          | 0/7.8125 [00:00<?, ?it/s]\u001b[A\n",
      "train loss = 0.1696339:   0%|          | 0/7.8125 [00:00<?, ?it/s]\u001b[A\n",
      "train loss = 0.1696339:   0%|          | 0/7.8125 [00:00<?, ?it/s]\u001b[A\n",
      "train loss = 0.1584262:   0%|          | 0/7.8125 [00:00<?, ?it/s]\u001b[A\n",
      "train loss = 0.1584262:   0%|          | 0/7.8125 [00:00<?, ?it/s]\u001b[A\n",
      "train loss = 0.1584262:  51%|█████     | 4/7.8125 [00:00<00:00, 30.13it/s]\u001b[A\n",
      "train loss = 0.1835207:  51%|█████     | 4/7.8125 [00:00<00:00, 30.13it/s]\u001b[A\n",
      "train loss = 0.1835207:  51%|█████     | 4/7.8125 [00:00<00:00, 30.13it/s]\u001b[A\n"
     ]
    },
    {
     "name": "stdout",
     "output_type": "stream",
     "text": [
      "Epoch: 69, Training Loss:   0.1669\n"
     ]
    },
    {
     "name": "stderr",
     "output_type": "stream",
     "text": [
      "train loss = 0.1612911:  51%|█████     | 4/7.8125 [00:00<00:00, 30.13it/s]\u001b[A\n",
      "train loss = 0.1612911:  51%|█████     | 4/7.8125 [00:00<00:00, 30.13it/s]\u001b[A\n",
      "train loss = 0.1862336:  51%|█████     | 4/7.8125 [00:00<00:00, 30.13it/s]\u001b[A\n",
      "train loss = 0.1862336:  51%|█████     | 4/7.8125 [00:00<00:00, 30.13it/s]\u001b[A\n",
      "train loss = 0.1862336:  90%|████████▉ | 7/7.8125 [00:00<00:00, 30.01it/s]\u001b[A\n",
      "train loss = 0.1530081:  90%|████████▉ | 7/7.8125 [00:00<00:00, 30.01it/s]\u001b[A\n",
      "train loss = 0.1530081:  90%|████████▉ | 7/7.8125 [00:00<00:00, 30.01it/s]\u001b[A\n",
      "train loss = 0.1530081: : 8it [00:00, 30.09it/s]                          \u001b[A\n",
      "  0%|          | 0/7.8125 [00:00<?, ?it/s]\u001b[A\n",
      "train loss = 0.1867700:   0%|          | 0/7.8125 [00:00<?, ?it/s]\u001b[A\n",
      "train loss = 0.1867700:   0%|          | 0/7.8125 [00:00<?, ?it/s]\u001b[A\n",
      "train loss = 0.1817509:   0%|          | 0/7.8125 [00:00<?, ?it/s]\u001b[A\n",
      "train loss = 0.1817509:   0%|          | 0/7.8125 [00:00<?, ?it/s]\u001b[A\n",
      "train loss = 0.1604967:   0%|          | 0/7.8125 [00:00<?, ?it/s]\u001b[A\n",
      "train loss = 0.1604967:   0%|          | 0/7.8125 [00:00<?, ?it/s]\u001b[A\n",
      "train loss = 0.1551607:   0%|          | 0/7.8125 [00:00<?, ?it/s]\u001b[A\n",
      "train loss = 0.1551607:   0%|          | 0/7.8125 [00:00<?, ?it/s]\u001b[A\n",
      "train loss = 0.1551607:  51%|█████     | 4/7.8125 [00:00<00:00, 29.96it/s]\u001b[A\n",
      "train loss = 0.1422690:  51%|█████     | 4/7.8125 [00:00<00:00, 29.96it/s]\u001b[A\n",
      "train loss = 0.1422690:  51%|█████     | 4/7.8125 [00:00<00:00, 29.96it/s]\u001b[A"
     ]
    },
    {
     "name": "stdout",
     "output_type": "stream",
     "text": [
      "Epoch: 70, Training Loss:   0.1699\n"
     ]
    },
    {
     "name": "stderr",
     "output_type": "stream",
     "text": [
      "\n",
      "train loss = 0.1702807:  51%|█████     | 4/7.8125 [00:00<00:00, 29.96it/s]\u001b[A\n",
      "train loss = 0.1702807:  51%|█████     | 4/7.8125 [00:00<00:00, 29.96it/s]\u001b[A\n",
      "train loss = 0.1743949:  51%|█████     | 4/7.8125 [00:00<00:00, 29.96it/s]\u001b[A\n",
      "train loss = 0.1743949:  51%|█████     | 4/7.8125 [00:00<00:00, 29.96it/s]\u001b[A\n",
      "train loss = 0.1743949:  90%|████████▉ | 7/7.8125 [00:00<00:00, 29.93it/s]\u001b[A\n",
      "train loss = 0.1554919:  90%|████████▉ | 7/7.8125 [00:00<00:00, 29.93it/s]\u001b[A\n",
      "train loss = 0.1554919:  90%|████████▉ | 7/7.8125 [00:00<00:00, 29.93it/s]\u001b[A\n",
      "train loss = 0.1554919: : 8it [00:00, 30.09it/s]                          \u001b[A\n",
      "  0%|          | 0/7.8125 [00:00<?, ?it/s]\u001b[A\n",
      "train loss = 0.1702259:   0%|          | 0/7.8125 [00:00<?, ?it/s]\u001b[A\n",
      "train loss = 0.1702259:   0%|          | 0/7.8125 [00:00<?, ?it/s]\u001b[A\n",
      "train loss = 0.1702191:   0%|          | 0/7.8125 [00:00<?, ?it/s]\u001b[A\n",
      "train loss = 0.1702191:   0%|          | 0/7.8125 [00:00<?, ?it/s]\u001b[A\n",
      "train loss = 0.1781491:   0%|          | 0/7.8125 [00:00<?, ?it/s]\u001b[A\n",
      "train loss = 0.1781491:   0%|          | 0/7.8125 [00:00<?, ?it/s]\u001b[A\n",
      "train loss = 0.1664067:   0%|          | 0/7.8125 [00:00<?, ?it/s]\u001b[A\n",
      "train loss = 0.1664067:   0%|          | 0/7.8125 [00:00<?, ?it/s]\u001b[A\n",
      "train loss = 0.1664067:  51%|█████     | 4/7.8125 [00:00<00:00, 30.24it/s]\u001b[A\n",
      "train loss = 0.1476623:  51%|█████     | 4/7.8125 [00:00<00:00, 30.24it/s]\u001b[A\n",
      "train loss = 0.1476623:  51%|█████     | 4/7.8125 [00:00<00:00, 30.24it/s]\u001b[A\n"
     ]
    },
    {
     "name": "stdout",
     "output_type": "stream",
     "text": [
      "Epoch: 71, Training Loss:   0.1658\n"
     ]
    },
    {
     "name": "stderr",
     "output_type": "stream",
     "text": [
      "train loss = 0.1440757:  51%|█████     | 4/7.8125 [00:00<00:00, 30.24it/s]\u001b[A\n",
      "train loss = 0.1440757:  51%|█████     | 4/7.8125 [00:00<00:00, 30.24it/s]\u001b[A\n",
      "train loss = 0.1573173:  51%|█████     | 4/7.8125 [00:00<00:00, 30.24it/s]\u001b[A\n",
      "train loss = 0.1573173:  51%|█████     | 4/7.8125 [00:00<00:00, 30.24it/s]\u001b[A\n",
      "train loss = 0.1573173:  90%|████████▉ | 7/7.8125 [00:00<00:00, 29.95it/s]\u001b[A\n",
      "train loss = 0.1399738:  90%|████████▉ | 7/7.8125 [00:00<00:00, 29.95it/s]\u001b[A\n",
      "train loss = 0.1399738:  90%|████████▉ | 7/7.8125 [00:00<00:00, 29.95it/s]\u001b[A\n",
      "train loss = 0.1399738: : 8it [00:00, 30.05it/s]                          \u001b[A\n",
      "  0%|          | 0/7.8125 [00:00<?, ?it/s]\u001b[A\n",
      "train loss = 0.1303384:   0%|          | 0/7.8125 [00:00<?, ?it/s]\u001b[A\n",
      "train loss = 0.1303384:   0%|          | 0/7.8125 [00:00<?, ?it/s]\u001b[A\n",
      "train loss = 0.1621478:   0%|          | 0/7.8125 [00:00<?, ?it/s]\u001b[A\n",
      "train loss = 0.1621478:   0%|          | 0/7.8125 [00:00<?, ?it/s]\u001b[A\n",
      "train loss = 0.1472427:   0%|          | 0/7.8125 [00:00<?, ?it/s]\u001b[A\n",
      "train loss = 0.1472427:   0%|          | 0/7.8125 [00:00<?, ?it/s]\u001b[A\n",
      "train loss = 0.1512814:   0%|          | 0/7.8125 [00:00<?, ?it/s]\u001b[A\n",
      "train loss = 0.1512814:   0%|          | 0/7.8125 [00:00<?, ?it/s]\u001b[A\n",
      "train loss = 0.1512814:  51%|█████     | 4/7.8125 [00:00<00:00, 30.13it/s]\u001b[A\n",
      "train loss = 0.1747348:  51%|█████     | 4/7.8125 [00:00<00:00, 30.13it/s]\u001b[A\n",
      "train loss = 0.1747348:  51%|█████     | 4/7.8125 [00:00<00:00, 30.13it/s]\u001b[A\n"
     ]
    },
    {
     "name": "stdout",
     "output_type": "stream",
     "text": [
      "Epoch: 72, Training Loss:   0.1593\n"
     ]
    },
    {
     "name": "stderr",
     "output_type": "stream",
     "text": [
      "train loss = 0.1700895:  51%|█████     | 4/7.8125 [00:00<00:00, 30.13it/s]\u001b[A\n",
      "train loss = 0.1700895:  51%|█████     | 4/7.8125 [00:00<00:00, 30.13it/s]\u001b[A\n",
      "train loss = 0.1546231:  51%|█████     | 4/7.8125 [00:00<00:00, 30.13it/s]\u001b[A\n",
      "train loss = 0.1546231:  51%|█████     | 4/7.8125 [00:00<00:00, 30.13it/s]\u001b[A\n",
      "train loss = 0.1546231:  90%|████████▉ | 7/7.8125 [00:00<00:00, 30.03it/s]\u001b[A\n",
      "train loss = 0.1698684:  90%|████████▉ | 7/7.8125 [00:00<00:00, 30.03it/s]\u001b[A\n",
      "train loss = 0.1698684:  90%|████████▉ | 7/7.8125 [00:00<00:00, 30.03it/s]\u001b[A\n",
      "train loss = 0.1698684: : 8it [00:00, 30.13it/s]                          \u001b[A\n",
      "  0%|          | 0/7.8125 [00:00<?, ?it/s]\u001b[A\n",
      "train loss = 0.1445661:   0%|          | 0/7.8125 [00:00<?, ?it/s]\u001b[A\n",
      "train loss = 0.1445661:   0%|          | 0/7.8125 [00:00<?, ?it/s]\u001b[A\n",
      "train loss = 0.1786857:   0%|          | 0/7.8125 [00:00<?, ?it/s]\u001b[A\n",
      "train loss = 0.1786857:   0%|          | 0/7.8125 [00:00<?, ?it/s]\u001b[A\n",
      "train loss = 0.1796235:   0%|          | 0/7.8125 [00:00<?, ?it/s]\u001b[A\n",
      "train loss = 0.1796235:   0%|          | 0/7.8125 [00:00<?, ?it/s]\u001b[A\n",
      "train loss = 0.1434991:   0%|          | 0/7.8125 [00:00<?, ?it/s]\u001b[A\n",
      "train loss = 0.1434991:   0%|          | 0/7.8125 [00:00<?, ?it/s]\u001b[A\n",
      "train loss = 0.1434991:  51%|█████     | 4/7.8125 [00:00<00:00, 30.30it/s]\u001b[A\n",
      "train loss = 0.1273760:  51%|█████     | 4/7.8125 [00:00<00:00, 30.30it/s]\u001b[A\n",
      "train loss = 0.1273760:  51%|█████     | 4/7.8125 [00:00<00:00, 30.30it/s]\u001b[A\n"
     ]
    },
    {
     "name": "stdout",
     "output_type": "stream",
     "text": [
      "Epoch: 73, Training Loss:   0.1575\n"
     ]
    },
    {
     "name": "stderr",
     "output_type": "stream",
     "text": [
      "train loss = 0.1376878:  51%|█████     | 4/7.8125 [00:00<00:00, 30.30it/s]\u001b[A\n",
      "train loss = 0.1376878:  51%|█████     | 4/7.8125 [00:00<00:00, 30.30it/s]\u001b[A\n",
      "train loss = 0.1966261:  51%|█████     | 4/7.8125 [00:00<00:00, 30.30it/s]\u001b[A\n",
      "train loss = 0.1966261:  51%|█████     | 4/7.8125 [00:00<00:00, 30.30it/s]\u001b[A\n",
      "train loss = 0.1966261:  90%|████████▉ | 7/7.8125 [00:00<00:00, 30.04it/s]\u001b[A\n",
      "train loss = 0.1764473:  90%|████████▉ | 7/7.8125 [00:00<00:00, 30.04it/s]\u001b[A\n",
      "train loss = 0.1764473:  90%|████████▉ | 7/7.8125 [00:00<00:00, 30.04it/s]\u001b[A\n",
      "train loss = 0.1764473: : 8it [00:00, 30.07it/s]                          \u001b[A\n",
      "  0%|          | 0/7.8125 [00:00<?, ?it/s]\u001b[A\n",
      "train loss = 0.1647585:   0%|          | 0/7.8125 [00:00<?, ?it/s]\u001b[A\n",
      "train loss = 0.1647585:   0%|          | 0/7.8125 [00:00<?, ?it/s]\u001b[A\n",
      "train loss = 0.1550517:   0%|          | 0/7.8125 [00:00<?, ?it/s]\u001b[A\n",
      "train loss = 0.1550517:   0%|          | 0/7.8125 [00:00<?, ?it/s]\u001b[A\n",
      "train loss = 0.1586744:   0%|          | 0/7.8125 [00:00<?, ?it/s]\u001b[A\n",
      "train loss = 0.1586744:   0%|          | 0/7.8125 [00:00<?, ?it/s]\u001b[A\n",
      "train loss = 0.1634343:   0%|          | 0/7.8125 [00:00<?, ?it/s]\u001b[A\n",
      "train loss = 0.1634343:   0%|          | 0/7.8125 [00:00<?, ?it/s]\u001b[A\n",
      "train loss = 0.1634343:  51%|█████     | 4/7.8125 [00:00<00:00, 30.37it/s]\u001b[A\n",
      "train loss = 0.1462429:  51%|█████     | 4/7.8125 [00:00<00:00, 30.37it/s]\u001b[A\n",
      "train loss = 0.1462429:  51%|█████     | 4/7.8125 [00:00<00:00, 30.37it/s]\u001b[A\n"
     ]
    },
    {
     "name": "stdout",
     "output_type": "stream",
     "text": [
      "Epoch: 74, Training Loss:   0.1606\n"
     ]
    },
    {
     "name": "stderr",
     "output_type": "stream",
     "text": [
      "train loss = 0.1214017:  51%|█████     | 4/7.8125 [00:00<00:00, 30.37it/s]\u001b[A\n",
      "train loss = 0.1214017:  51%|█████     | 4/7.8125 [00:00<00:00, 30.37it/s]\u001b[A\n",
      "train loss = 0.2194477:  51%|█████     | 4/7.8125 [00:00<00:00, 30.37it/s]\u001b[A\n",
      "train loss = 0.2194477:  51%|█████     | 4/7.8125 [00:00<00:00, 30.37it/s]\u001b[A\n",
      "train loss = 0.2194477:  90%|████████▉ | 7/7.8125 [00:00<00:00, 30.12it/s]\u001b[A\n",
      "train loss = 0.1468933:  90%|████████▉ | 7/7.8125 [00:00<00:00, 30.12it/s]\u001b[A\n",
      "train loss = 0.1468933:  90%|████████▉ | 7/7.8125 [00:00<00:00, 30.12it/s]\u001b[A\n",
      "train loss = 0.1468933: : 8it [00:00, 30.11it/s]                          \u001b[A\n",
      "  0%|          | 0/7.8125 [00:00<?, ?it/s]\u001b[A\n",
      "train loss = 0.1568139:   0%|          | 0/7.8125 [00:00<?, ?it/s]\u001b[A\n",
      "train loss = 0.1568139:   0%|          | 0/7.8125 [00:00<?, ?it/s]\u001b[A\n",
      "train loss = 0.1684901:   0%|          | 0/7.8125 [00:00<?, ?it/s]\u001b[A\n",
      "train loss = 0.1684901:   0%|          | 0/7.8125 [00:00<?, ?it/s]\u001b[A\n",
      "train loss = 0.1498161:   0%|          | 0/7.8125 [00:00<?, ?it/s]\u001b[A\n",
      "train loss = 0.1498161:   0%|          | 0/7.8125 [00:00<?, ?it/s]\u001b[A\n",
      "train loss = 0.1498161:  38%|███▊      | 3/7.8125 [00:00<00:00, 29.91it/s]\u001b[A\n",
      "train loss = 0.1433302:  38%|███▊      | 3/7.8125 [00:00<00:00, 29.91it/s]\u001b[A\n",
      "train loss = 0.1433302:  38%|███▊      | 3/7.8125 [00:00<00:00, 29.91it/s]\u001b[A\n",
      "train loss = 0.1707456:  38%|███▊      | 3/7.8125 [00:00<00:00, 29.91it/s]\u001b[A\n",
      "train loss = 0.1707456:  38%|███▊      | 3/7.8125 [00:00<00:00, 29.91it/s]\u001b[A\n"
     ]
    },
    {
     "name": "stdout",
     "output_type": "stream",
     "text": [
      "Epoch: 75, Training Loss:   0.1595\n"
     ]
    },
    {
     "name": "stderr",
     "output_type": "stream",
     "text": [
      "train loss = 0.1458449:  38%|███▊      | 3/7.8125 [00:00<00:00, 29.91it/s]\u001b[A\n",
      "train loss = 0.1458449:  38%|███▊      | 3/7.8125 [00:00<00:00, 29.91it/s]\u001b[A\n",
      "train loss = 0.1458449:  77%|███████▋  | 6/7.8125 [00:00<00:00, 29.85it/s]\u001b[A\n",
      "train loss = 0.1866633:  77%|███████▋  | 6/7.8125 [00:00<00:00, 29.85it/s]\u001b[A\n",
      "train loss = 0.1866633:  77%|███████▋  | 6/7.8125 [00:00<00:00, 29.85it/s]\u001b[A\n",
      "train loss = 0.1708800:  77%|███████▋  | 6/7.8125 [00:00<00:00, 29.85it/s]\u001b[A\n",
      "train loss = 0.1708800:  77%|███████▋  | 6/7.8125 [00:00<00:00, 29.85it/s]\u001b[A\n",
      "train loss = 0.1708800: : 8it [00:00, 30.04it/s]                          \u001b[A\n",
      "  0%|          | 0/7.8125 [00:00<?, ?it/s]\u001b[A\n",
      "train loss = 0.1355002:   0%|          | 0/7.8125 [00:00<?, ?it/s]\u001b[A\n",
      "train loss = 0.1355002:   0%|          | 0/7.8125 [00:00<?, ?it/s]\u001b[A\n",
      "train loss = 0.1469519:   0%|          | 0/7.8125 [00:00<?, ?it/s]\u001b[A\n",
      "train loss = 0.1469519:   0%|          | 0/7.8125 [00:00<?, ?it/s]\u001b[A\n",
      "train loss = 0.2053361:   0%|          | 0/7.8125 [00:00<?, ?it/s]\u001b[A\n",
      "train loss = 0.2053361:   0%|          | 0/7.8125 [00:00<?, ?it/s]\u001b[A\n",
      "train loss = 0.1376768:   0%|          | 0/7.8125 [00:00<?, ?it/s]\u001b[A\n",
      "train loss = 0.1376768:   0%|          | 0/7.8125 [00:00<?, ?it/s]\u001b[A\n",
      "train loss = 0.1376768:  51%|█████     | 4/7.8125 [00:00<00:00, 30.01it/s]\u001b[A\n",
      "train loss = 0.1547719:  51%|█████     | 4/7.8125 [00:00<00:00, 30.01it/s]\u001b[A\n",
      "train loss = 0.1547719:  51%|█████     | 4/7.8125 [00:00<00:00, 30.01it/s]\u001b[A\n",
      "train loss = 0.1904554:  51%|█████     | 4/7.8125 [00:00<00:00, 30.01it/s]"
     ]
    },
    {
     "name": "stdout",
     "output_type": "stream",
     "text": [
      "Epoch: 76, Training Loss:   0.1616\n"
     ]
    },
    {
     "name": "stderr",
     "output_type": "stream",
     "text": [
      "\u001b[A\n",
      "train loss = 0.1904554:  51%|█████     | 4/7.8125 [00:00<00:00, 30.01it/s]\u001b[A\n",
      "train loss = 0.1658517:  51%|█████     | 4/7.8125 [00:00<00:00, 30.01it/s]\u001b[A\n",
      "train loss = 0.1658517:  51%|█████     | 4/7.8125 [00:00<00:00, 30.01it/s]\u001b[A\n",
      "train loss = 0.1658517:  90%|████████▉ | 7/7.8125 [00:00<00:00, 30.00it/s]\u001b[A\n",
      "train loss = 0.1653133:  90%|████████▉ | 7/7.8125 [00:00<00:00, 30.00it/s]\u001b[A\n",
      "train loss = 0.1653133:  90%|████████▉ | 7/7.8125 [00:00<00:00, 30.00it/s]\u001b[A\n",
      "train loss = 0.1653133: : 8it [00:00, 30.21it/s]                          \u001b[A\n",
      "  0%|          | 0/7.8125 [00:00<?, ?it/s]\u001b[A\n",
      "train loss = 0.1519943:   0%|          | 0/7.8125 [00:00<?, ?it/s]\u001b[A\n",
      "train loss = 0.1519943:   0%|          | 0/7.8125 [00:00<?, ?it/s]\u001b[A\n",
      "train loss = 0.1479134:   0%|          | 0/7.8125 [00:00<?, ?it/s]\u001b[A\n",
      "train loss = 0.1479134:   0%|          | 0/7.8125 [00:00<?, ?it/s]\u001b[A\n",
      "train loss = 0.2093474:   0%|          | 0/7.8125 [00:00<?, ?it/s]\u001b[A\n",
      "train loss = 0.2093474:   0%|          | 0/7.8125 [00:00<?, ?it/s]\u001b[A\n",
      "train loss = 0.1710983:   0%|          | 0/7.8125 [00:00<?, ?it/s]\u001b[A\n",
      "train loss = 0.1710983:   0%|          | 0/7.8125 [00:00<?, ?it/s]\u001b[A\n",
      "train loss = 0.1710983:  51%|█████     | 4/7.8125 [00:00<00:00, 30.21it/s]\u001b[A\n",
      "train loss = 0.1488803:  51%|█████     | 4/7.8125 [00:00<00:00, 30.21it/s]\u001b[A\n",
      "train loss = 0.1488803:  51%|█████     | 4/7.8125 [00:00<00:00, 30.21it/s]\u001b[A\n"
     ]
    },
    {
     "name": "stdout",
     "output_type": "stream",
     "text": [
      "Epoch: 77, Training Loss:   0.1627\n"
     ]
    },
    {
     "name": "stderr",
     "output_type": "stream",
     "text": [
      "train loss = 0.1555887:  51%|█████     | 4/7.8125 [00:00<00:00, 30.21it/s]\u001b[A\n",
      "train loss = 0.1555887:  51%|█████     | 4/7.8125 [00:00<00:00, 30.21it/s]\u001b[A\n",
      "train loss = 0.1332035:  51%|█████     | 4/7.8125 [00:00<00:00, 30.21it/s]\u001b[A\n",
      "train loss = 0.1332035:  51%|█████     | 4/7.8125 [00:00<00:00, 30.21it/s]\u001b[A\n",
      "train loss = 0.1332035:  90%|████████▉ | 7/7.8125 [00:00<00:00, 30.05it/s]\u001b[A\n",
      "train loss = 0.1473888:  90%|████████▉ | 7/7.8125 [00:00<00:00, 30.05it/s]\u001b[A\n",
      "train loss = 0.1473888:  90%|████████▉ | 7/7.8125 [00:00<00:00, 30.05it/s]\u001b[A\n",
      "train loss = 0.1473888: : 8it [00:00, 30.18it/s]                          \u001b[A\n",
      "  0%|          | 0/7.8125 [00:00<?, ?it/s]\u001b[A\n",
      "train loss = 0.1485485:   0%|          | 0/7.8125 [00:00<?, ?it/s]\u001b[A\n",
      "train loss = 0.1485485:   0%|          | 0/7.8125 [00:00<?, ?it/s]\u001b[A\n",
      "train loss = 0.1278569:   0%|          | 0/7.8125 [00:00<?, ?it/s]\u001b[A\n",
      "train loss = 0.1278569:   0%|          | 0/7.8125 [00:00<?, ?it/s]\u001b[A\n",
      "train loss = 0.1940827:   0%|          | 0/7.8125 [00:00<?, ?it/s]\u001b[A\n",
      "train loss = 0.1940827:   0%|          | 0/7.8125 [00:00<?, ?it/s]\u001b[A\n",
      "train loss = 0.1685308:   0%|          | 0/7.8125 [00:00<?, ?it/s]\u001b[A\n",
      "train loss = 0.1685308:   0%|          | 0/7.8125 [00:00<?, ?it/s]\u001b[A\n",
      "train loss = 0.1685308:  51%|█████     | 4/7.8125 [00:00<00:00, 30.35it/s]\u001b[A\n",
      "train loss = 0.1723262:  51%|█████     | 4/7.8125 [00:00<00:00, 30.35it/s]\u001b[A\n",
      "train loss = 0.1723262:  51%|█████     | 4/7.8125 [00:00<00:00, 30.35it/s]\u001b[A\n",
      "train loss = 0.1779136:  51%|█████     | 4/7.8125 [00:00<00:00, 30.35it/s]"
     ]
    },
    {
     "name": "stdout",
     "output_type": "stream",
     "text": [
      "Epoch: 78, Training Loss:   0.1582\n"
     ]
    },
    {
     "name": "stderr",
     "output_type": "stream",
     "text": [
      "\u001b[A\n",
      "train loss = 0.1779136:  51%|█████     | 4/7.8125 [00:00<00:00, 30.35it/s]\u001b[A\n",
      "train loss = 0.1744689:  51%|█████     | 4/7.8125 [00:00<00:00, 30.35it/s]\u001b[A\n",
      "train loss = 0.1744689:  51%|█████     | 4/7.8125 [00:00<00:00, 30.35it/s]\u001b[A\n",
      "train loss = 0.1744689:  90%|████████▉ | 7/7.8125 [00:00<00:00, 30.08it/s]\u001b[A\n",
      "train loss = 0.1349699:  90%|████████▉ | 7/7.8125 [00:00<00:00, 30.08it/s]\u001b[A\n",
      "train loss = 0.1349699:  90%|████████▉ | 7/7.8125 [00:00<00:00, 30.08it/s]\u001b[A\n",
      "train loss = 0.1349699: : 8it [00:00, 30.13it/s]                          \u001b[A"
     ]
    },
    {
     "name": "stdout",
     "output_type": "stream",
     "text": [
      "Epoch: 79, Training Loss:   0.1623\n"
     ]
    }
   ],
   "source": [
    "# Training loop\n",
    "n_epochs = 80\n",
    "stale_epochs = 0\n",
    "loss = 999999\n",
    "train_losses = []\n",
    "for epoch in range(0, n_epochs):\n",
    "    #loss = train(model, optimizer, loader, len(datas), 128, loss_ftn_obj)\n",
    "    loss = train.train(model, optimizer, dataloaders['train'], len(dataloaders['train'].dataset), dataloaders['train'].batch_size, loss_ftn_obj)\n",
    "    train_losses.append(loss)\n",
    "    print('Epoch: {:02d}, Training Loss:   {:.4f}'.format(epoch, loss))"
   ]
  },
  {
   "cell_type": "code",
   "execution_count": 16,
   "metadata": {},
   "outputs": [],
   "source": [
    "reload(utils_torch.scaler)\n",
    "reload(prepr)\n",
    "reload(plot)\n",
    "\n",
    "inverse_standardization = False\n",
    "plot.plot_reco_for_loader(model, dataloaders['train'], device, scaler, inverse_standardization, 'test_train', osp.join(save_dir, 'reconstruction_post_train', 'train_reco_std_log_minmax_mseconv'), 'all_norm_mseconv')\n"
   ]
  },
  {
   "cell_type": "code",
   "execution_count": 88,
   "metadata": {},
   "outputs": [],
   "source": [
    "scaler_new = utils_torch.scaler.Standardizer(minmax_idx=[3,4],  log_idx=[3,4])\n",
    "scaler_new.std=scaler.std\n",
    "scaler_new.mean=scaler.mean\n",
    "scaler_new.max=scaler.max\n",
    "scaler_new.min=scaler.min\n",
    "scaler_new.minmax_idx = scaler.minmax_idx\n",
    "scaler_new.std_idx = scaler.std_idx\n",
    "scaler_new.log_idx = scaler.log_idx"
   ]
  },
  {
   "cell_type": "code",
   "execution_count": null,
   "metadata": {},
   "outputs": [],
   "source": []
  },
  {
   "cell_type": "code",
   "execution_count": null,
   "metadata": {},
   "outputs": [],
   "source": []
  },
  {
   "cell_type": "code",
   "execution_count": null,
   "metadata": {},
   "outputs": [],
   "source": []
  },
  {
   "cell_type": "code",
   "execution_count": null,
   "metadata": {},
   "outputs": [],
   "source": []
  },
  {
   "cell_type": "code",
   "execution_count": null,
   "metadata": {},
   "outputs": [],
   "source": []
  }
 ],
 "metadata": {
  "kernelspec": {
   "display_name": "Python 3",
   "language": "python",
   "name": "python3"
  },
  "language_info": {
   "codemirror_mode": {
    "name": "ipython",
    "version": 3
   },
   "file_extension": ".py",
   "mimetype": "text/x-python",
   "name": "python",
   "nbconvert_exporter": "python",
   "pygments_lexer": "ipython3",
   "version": "3.6.10"
  }
 },
 "nbformat": 4,
 "nbformat_minor": 2
}
