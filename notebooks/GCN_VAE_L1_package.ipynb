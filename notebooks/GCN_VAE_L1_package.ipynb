{
 "cells": [
  {
   "cell_type": "code",
   "execution_count": 2,
   "id": "alleged-daily",
   "metadata": {},
   "outputs": [],
   "source": [
    "import tensorflow as tf\n",
    "import numpy as np\n",
    "import h5py\n",
    "import matplotlib.pyplot as plt\n",
    "from importlib import reload"
   ]
  },
  {
   "cell_type": "code",
   "execution_count": 2,
   "id": "flexible-audit",
   "metadata": {},
   "outputs": [
    {
     "data": {
      "text/plain": [
       "<module 'utils.preprocessing' from '/eos/home-n/nchernya/MLHEP/AnomalyDetection/ADgvae/utils/preprocessing.py'>"
      ]
     },
     "execution_count": 2,
     "metadata": {},
     "output_type": "execute_result"
    }
   ],
   "source": [
    "import models.models as models\n",
    "reload(models)\n",
    "import utils.preprocessing_L1 as prepr\n",
    "reload(prepr)"
   ]
  },
  {
   "cell_type": "code",
   "execution_count": 3,
   "id": "handled-battlefield",
   "metadata": {},
   "outputs": [
    {
     "name": "stderr",
     "output_type": "stream",
     "text": [
      "/eos/home-n/nchernya/MLHEP/AnomalyDetection/ADgvae/utils/preprocessing.py:20: RuntimeWarning: divide by zero encountered in power\n",
      "  D = np.nan_to_num(np.power(D,-0.5), posinf=0, neginf=0) # normalize (**-(1/2))\n"
     ]
    }
   ],
   "source": [
    "#BG\n",
    "data_dir = 'datasets/L1_ADC_2021/'\n",
    "filename_bg =  data_dir + 'background_for_training.h5'\n",
    "batch_size = 128\n",
    "nodes_n, feat_sz, particles_bg, A_bg, A_tilde_bg = prepr.prepare_data(filename_bg,0,batch_size*20)"
   ]
  },
  {
   "cell_type": "code",
   "execution_count": 4,
   "id": "nearby-conditioning",
   "metadata": {},
   "outputs": [
    {
     "name": "stdout",
     "output_type": "stream",
     "text": [
      "(2560, 19, 4) (2560, 19, 19) (2560, 19, 19)\n"
     ]
    }
   ],
   "source": [
    "print(particles_bg.shape, A_tilde_bg.shape, A_bg.shape)"
   ]
  },
  {
   "cell_type": "code",
   "execution_count": null,
   "id": "magnetic-complexity",
   "metadata": {},
   "outputs": [],
   "source": []
  },
  {
   "cell_type": "markdown",
   "id": "reverse-summary",
   "metadata": {},
   "source": [
    "# Autoencoder"
   ]
  },
  {
   "cell_type": "code",
   "execution_count": 5,
   "id": "decimal-afghanistan",
   "metadata": {},
   "outputs": [
    {
     "name": "stdout",
     "output_type": "stream",
     "text": [
      "Model: \"functional_1\"\n",
      "__________________________________________________________________________________________________\n",
      "Layer (type)                    Output Shape         Param #     Connected to                     \n",
      "==================================================================================================\n",
      "encoder_input_features (InputLa [(None, 19, 4)]      0                                            \n",
      "__________________________________________________________________________________________________\n",
      "encoder_input_adjacency (InputL [(None, 19, 19)]     0                                            \n",
      "__________________________________________________________________________________________________\n",
      "graph_convolution (GraphConvolu (None, 19, 6)        54          encoder_input_features[0][0]     \n",
      "                                                                 encoder_input_adjacency[0][0]    \n",
      "__________________________________________________________________________________________________\n",
      "graph_convolution_1 (GraphConvo (None, 19, 8)        104         graph_convolution[0][0]          \n",
      "                                                                 encoder_input_adjacency[0][0]    \n",
      "__________________________________________________________________________________________________\n",
      "graph_convolution_2 (GraphConvo (None, 19, 4)        68          graph_convolution_1[0][0]        \n",
      "                                                                 encoder_input_adjacency[0][0]    \n",
      "__________________________________________________________________________________________________\n",
      "graph_convolution_3 (GraphConvo (None, 19, 3)        27          graph_convolution_2[0][0]        \n",
      "                                                                 encoder_input_adjacency[0][0]    \n",
      "__________________________________________________________________________________________________\n",
      "graph_convolution_4 (GraphConvo (None, 19, 2)        14          graph_convolution_3[0][0]        \n",
      "                                                                 encoder_input_adjacency[0][0]    \n",
      "__________________________________________________________________________________________________\n",
      "graph_convolution_5 (GraphConvo (None, 19, 1)        5           graph_convolution_4[0][0]        \n",
      "                                                                 encoder_input_adjacency[0][0]    \n",
      "==================================================================================================\n",
      "Total params: 272\n",
      "Trainable params: 272\n",
      "Non-trainable params: 0\n",
      "__________________________________________________________________________________________________\n"
     ]
    }
   ],
   "source": [
    "gnn = models.GraphAutoencoder(nodes_n=nodes_n, feat_sz=feat_sz, activation=tf.nn.tanh)\n",
    "gnn.compile(optimizer=tf.keras.optimizers.Adam(learning_rate=0.01), run_eagerly=True)"
   ]
  },
  {
   "cell_type": "code",
   "execution_count": 6,
   "id": "boring-ireland",
   "metadata": {
    "scrolled": true
   },
   "outputs": [
    {
     "name": "stdout",
     "output_type": "stream",
     "text": [
      "Epoch 1/100\n",
      "15/15 [==============================] - 1s 48ms/step - val_loss: 0.7328\n",
      "Epoch 2/100\n",
      "15/15 [==============================] - 1s 34ms/step - val_loss: 0.6731\n",
      "Epoch 3/100\n",
      "15/15 [==============================] - 1s 34ms/step - val_loss: 0.6582\n",
      "Epoch 4/100\n",
      "15/15 [==============================] - 1s 36ms/step - val_loss: 0.6527\n",
      "Epoch 5/100\n",
      "15/15 [==============================] - 0s 33ms/step - val_loss: 0.6475\n",
      "Epoch 6/100\n",
      "15/15 [==============================] - 1s 35ms/step - val_loss: 0.6423\n",
      "Epoch 7/100\n",
      "15/15 [==============================] - 0s 33ms/step - val_loss: 0.6371\n",
      "Epoch 8/100\n",
      "15/15 [==============================] - 0s 30ms/step - val_loss: 0.6321\n",
      "Epoch 9/100\n",
      "15/15 [==============================] - 1s 37ms/step - val_loss: 0.6274\n",
      "Epoch 10/100\n",
      "15/15 [==============================] - 0s 33ms/step - val_loss: 0.6230\n",
      "Epoch 11/100\n",
      "15/15 [==============================] - 1s 33ms/step - val_loss: 0.6190\n",
      "Epoch 12/100\n",
      "15/15 [==============================] - 0s 32ms/step - val_loss: 0.6153\n",
      "Epoch 13/100\n",
      "15/15 [==============================] - 0s 33ms/step - val_loss: 0.6119\n",
      "Epoch 14/100\n",
      "15/15 [==============================] - 0s 32ms/step - val_loss: 0.6088\n",
      "Epoch 15/100\n",
      "15/15 [==============================] - 0s 32ms/step - val_loss: 0.6060\n",
      "Epoch 16/100\n",
      "15/15 [==============================] - 1s 35ms/step - val_loss: 0.6033\n",
      "Epoch 17/100\n",
      "15/15 [==============================] - 0s 32ms/step - val_loss: 0.6009\n",
      "Epoch 18/100\n",
      "15/15 [==============================] - 0s 29ms/step - val_loss: 0.5987\n",
      "Epoch 19/100\n",
      "15/15 [==============================] - 0s 31ms/step - val_loss: 0.5966\n",
      "Epoch 20/100\n",
      "15/15 [==============================] - 0s 30ms/step - val_loss: 0.5946\n",
      "Epoch 21/100\n",
      "15/15 [==============================] - 0s 29ms/step - val_loss: 0.5928\n",
      "Epoch 22/100\n",
      "15/15 [==============================] - 0s 31ms/step - val_loss: 0.5911\n",
      "Epoch 23/100\n",
      "15/15 [==============================] - 1s 36ms/step - val_loss: 0.5895\n",
      "Epoch 24/100\n",
      "15/15 [==============================] - 1s 36ms/step - val_loss: 0.5881\n",
      "Epoch 25/100\n",
      "15/15 [==============================] - 0s 33ms/step - val_loss: 0.5866\n",
      "Epoch 26/100\n",
      "15/15 [==============================] - 0s 30ms/step - val_loss: 0.5853\n",
      "Epoch 27/100\n",
      "15/15 [==============================] - 0s 30ms/step - val_loss: 0.5841\n",
      "Epoch 28/100\n",
      "15/15 [==============================] - 0s 32ms/step - val_loss: 0.5829\n",
      "Epoch 29/100\n",
      "15/15 [==============================] - 0s 31ms/step - val_loss: 0.5818\n",
      "Epoch 30/100\n",
      "15/15 [==============================] - 0s 32ms/step - val_loss: 0.5807\n",
      "Epoch 31/100\n",
      "15/15 [==============================] - 0s 31ms/step - val_loss: 0.5796\n",
      "Epoch 32/100\n",
      "15/15 [==============================] - 0s 32ms/step - val_loss: 0.5787\n",
      "Epoch 33/100\n",
      "15/15 [==============================] - 0s 31ms/step - val_loss: 0.5777\n",
      "Epoch 34/100\n",
      "15/15 [==============================] - 1s 34ms/step - val_loss: 0.5768\n",
      "Epoch 35/100\n",
      "15/15 [==============================] - 0s 33ms/step - val_loss: 0.5760\n",
      "Epoch 36/100\n",
      "15/15 [==============================] - 0s 32ms/step - val_loss: 0.5752\n",
      "Epoch 37/100\n",
      "15/15 [==============================] - 1s 34ms/step - val_loss: 0.5744\n",
      "Epoch 38/100\n",
      "15/15 [==============================] - 1s 34ms/step - val_loss: 0.5736\n",
      "Epoch 39/100\n",
      "15/15 [==============================] - 0s 33ms/step - val_loss: 0.5729\n",
      "Epoch 40/100\n",
      "15/15 [==============================] - 0s 32ms/step - val_loss: 0.5722\n",
      "Epoch 41/100\n",
      "15/15 [==============================] - 0s 33ms/step - val_loss: 0.5715\n",
      "Epoch 42/100\n",
      "15/15 [==============================] - 1s 33ms/step - val_loss: 0.5708\n",
      "Epoch 43/100\n",
      "15/15 [==============================] - 1s 35ms/step - val_loss: 0.5702\n",
      "Epoch 44/100\n",
      "15/15 [==============================] - 0s 33ms/step - val_loss: 0.5696\n",
      "Epoch 45/100\n",
      "15/15 [==============================] - 0s 31ms/step - val_loss: 0.5690\n",
      "Epoch 46/100\n",
      "15/15 [==============================] - 1s 36ms/step - val_loss: 0.5684\n",
      "Epoch 47/100\n",
      "15/15 [==============================] - 0s 32ms/step - val_loss: 0.5679\n",
      "Epoch 48/100\n",
      "15/15 [==============================] - 0s 32ms/step - val_loss: 0.5673\n",
      "Epoch 49/100\n",
      "15/15 [==============================] - 1s 34ms/step - val_loss: 0.5668\n",
      "Epoch 50/100\n",
      "15/15 [==============================] - 0s 32ms/step - val_loss: 0.5663\n",
      "Epoch 51/100\n",
      "15/15 [==============================] - 0s 33ms/step - val_loss: 0.5658\n",
      "Epoch 52/100\n",
      "15/15 [==============================] - 0s 31ms/step - val_loss: 0.5654\n",
      "Epoch 53/100\n",
      "15/15 [==============================] - 0s 32ms/step - val_loss: 0.5649\n",
      "Epoch 54/100\n",
      "15/15 [==============================] - 0s 31ms/step - val_loss: 0.5644\n",
      "Epoch 55/100\n",
      "15/15 [==============================] - 0s 27ms/step - val_loss: 0.5640\n",
      "Epoch 56/100\n",
      "15/15 [==============================] - 0s 33ms/step - val_loss: 0.5635\n",
      "Epoch 57/100\n",
      "15/15 [==============================] - 0s 31ms/step - val_loss: 0.5631\n",
      "Epoch 58/100\n",
      "15/15 [==============================] - 0s 30ms/step - val_loss: 0.5627\n",
      "Epoch 59/100\n",
      "15/15 [==============================] - 1s 35ms/step - val_loss: 0.5623\n",
      "Epoch 60/100\n",
      "15/15 [==============================] - 1s 34ms/step - val_loss: 0.5619\n",
      "Epoch 61/100\n",
      "15/15 [==============================] - 0s 30ms/step - val_loss: 0.5615\n",
      "Epoch 62/100\n",
      "15/15 [==============================] - 0s 31ms/step - val_loss: 0.5613\n",
      "Epoch 63/100\n",
      "15/15 [==============================] - 1s 36ms/step - val_loss: 0.5608\n",
      "Epoch 64/100\n",
      "15/15 [==============================] - 1s 39ms/step - val_loss: 0.5604\n",
      "Epoch 65/100\n",
      "15/15 [==============================] - 1s 34ms/step - val_loss: 0.5601\n",
      "Epoch 66/100\n",
      "15/15 [==============================] - 0s 33ms/step - val_loss: 0.5598\n",
      "Epoch 67/100\n",
      "15/15 [==============================] - 1s 38ms/step - val_loss: 0.5595\n",
      "Epoch 68/100\n",
      "15/15 [==============================] - 1s 36ms/step - val_loss: 0.5591\n",
      "Epoch 69/100\n",
      "15/15 [==============================] - 0s 31ms/step - val_loss: 0.5588\n",
      "Epoch 70/100\n",
      "15/15 [==============================] - 0s 32ms/step - val_loss: 0.5585\n",
      "Epoch 71/100\n",
      "15/15 [==============================] - 0s 33ms/step - val_loss: 0.5582\n",
      "Epoch 72/100\n",
      "15/15 [==============================] - 1s 36ms/step - val_loss: 0.5579\n",
      "Epoch 73/100\n",
      "15/15 [==============================] - 1s 34ms/step - val_loss: 0.5576\n",
      "Epoch 74/100\n",
      "15/15 [==============================] - 1s 33ms/step - val_loss: 0.5573\n",
      "Epoch 75/100\n",
      "15/15 [==============================] - 1s 35ms/step - val_loss: 0.5570\n",
      "Epoch 76/100\n",
      "15/15 [==============================] - 0s 31ms/step - val_loss: 0.5567\n",
      "Epoch 77/100\n",
      "15/15 [==============================] - 0s 32ms/step - val_loss: 0.5565\n",
      "Epoch 78/100\n",
      "15/15 [==============================] - 0s 32ms/step - val_loss: 0.5562\n",
      "Epoch 79/100\n",
      "15/15 [==============================] - 0s 30ms/step - val_loss: 0.5560\n",
      "Epoch 80/100\n",
      "15/15 [==============================] - 0s 32ms/step - val_loss: 0.5557\n",
      "Epoch 81/100\n",
      "15/15 [==============================] - 0s 32ms/step - val_loss: 0.5555\n",
      "Epoch 82/100\n",
      "15/15 [==============================] - 1s 36ms/step - val_loss: 0.5552\n",
      "Epoch 83/100\n",
      "15/15 [==============================] - 1s 34ms/step - val_loss: 0.5550\n",
      "Epoch 84/100\n",
      "15/15 [==============================] - 1s 34ms/step - val_loss: 0.5548\n",
      "Epoch 85/100\n",
      "15/15 [==============================] - 0s 32ms/step - val_loss: 0.5545\n",
      "Epoch 86/100\n",
      "15/15 [==============================] - 0s 31ms/step - val_loss: 0.5543\n",
      "Epoch 87/100\n",
      "15/15 [==============================] - 1s 35ms/step - val_loss: 0.5541\n",
      "Epoch 88/100\n",
      "15/15 [==============================] - 1s 34ms/step - val_loss: 0.5539\n",
      "Epoch 89/100\n",
      "15/15 [==============================] - 1s 36ms/step - val_loss: 0.5536\n",
      "Epoch 90/100\n",
      "15/15 [==============================] - 1s 34ms/step - val_loss: 0.5534\n",
      "Epoch 91/100\n",
      "15/15 [==============================] - 0s 33ms/step - val_loss: 0.5533\n",
      "Epoch 92/100\n",
      "15/15 [==============================] - 1s 34ms/step - val_loss: 0.5530\n",
      "Epoch 93/100\n",
      "15/15 [==============================] - 0s 31ms/step - val_loss: 0.5529\n",
      "Epoch 94/100\n",
      "15/15 [==============================] - 0s 32ms/step - val_loss: 0.5526\n",
      "Epoch 95/100\n",
      "15/15 [==============================] - 1s 35ms/step - val_loss: 0.5524\n",
      "Epoch 96/100\n"
     ]
    },
    {
     "name": "stdout",
     "output_type": "stream",
     "text": [
      "15/15 [==============================] - 0s 32ms/step - val_loss: 0.5522\n",
      "Epoch 97/100\n",
      "15/15 [==============================] - 0s 32ms/step - val_loss: 0.5521\n",
      "Epoch 98/100\n",
      "15/15 [==============================] - 1s 35ms/step - val_loss: 0.5520\n",
      "Epoch 99/100\n",
      "15/15 [==============================] - 1s 37ms/step - val_loss: 0.5517\n",
      "Epoch 100/100\n",
      "15/15 [==============================] - 1s 34ms/step - val_loss: 0.5515\n"
     ]
    },
    {
     "data": {
      "text/plain": [
       "<tensorflow.python.keras.callbacks.History at 0x7f29d81f7f70>"
      ]
     },
     "execution_count": 6,
     "metadata": {},
     "output_type": "execute_result"
    }
   ],
   "source": [
    "callbacks = [tf.keras.callbacks.ReduceLROnPlateau(factor=0.1, patience=5, verbose=1)]\n",
    "gnn.fit((particles_bg, A_tilde_bg), A_bg, epochs=100, batch_size=128, validation_split=0.25, callbacks=callbacks)"
   ]
  },
  {
   "cell_type": "markdown",
   "id": "final-hunter",
   "metadata": {},
   "source": [
    "## Predict BG and Sig"
   ]
  },
  {
   "cell_type": "code",
   "execution_count": 7,
   "id": "swiss-comedy",
   "metadata": {},
   "outputs": [],
   "source": [
    "#signal\n",
    "#filename_sig = 'Ato4l_lepFilter_13TeV.h5'\n",
    "#filename_sig='leptoquark_LOWMASS_lepFilter_13TeV.h5'\n",
    "filename_sig = data_dir + 'hToTauTau_13TeV_PU20.h5'\n",
    "_,_, particles_sig, A_sig, A_tilde_sig = prepr.prepare_data(filename_sig)\n",
    "\n",
    "#background test \n",
    "_,_, particles_bg_test, A_bg_test, A_tilde_bg_test = prepr.prepare_data(filename_bg,3000,4000)\n"
   ]
  },
  {
   "cell_type": "code",
   "execution_count": 1,
   "id": "christian-adolescent",
   "metadata": {},
   "outputs": [
    {
     "ename": "NameError",
     "evalue": "name 'gnn' is not defined",
     "output_type": "error",
     "traceback": [
      "\u001b[0;31m---------------------------------------------------------------------------\u001b[0m",
      "\u001b[0;31mNameError\u001b[0m                                 Traceback (most recent call last)",
      "\u001b[0;32m<ipython-input-1-59867e926f01>\u001b[0m in \u001b[0;36m<module>\u001b[0;34m\u001b[0m\n\u001b[0;32m----> 1\u001b[0;31m \u001b[0mz_sig\u001b[0m\u001b[0;34m,\u001b[0m \u001b[0mA_pred_sig\u001b[0m \u001b[0;34m=\u001b[0m \u001b[0mgnn\u001b[0m\u001b[0;34m(\u001b[0m\u001b[0;34m(\u001b[0m\u001b[0mparticles_sig\u001b[0m\u001b[0;34m,\u001b[0m \u001b[0mA_tilde_sig\u001b[0m\u001b[0;34m)\u001b[0m\u001b[0;34m)\u001b[0m\u001b[0;34m\u001b[0m\u001b[0;34m\u001b[0m\u001b[0m\n\u001b[0m\u001b[1;32m      2\u001b[0m \u001b[0mz_bg_test\u001b[0m\u001b[0;34m,\u001b[0m \u001b[0mA_pred_bg_test\u001b[0m \u001b[0;34m=\u001b[0m \u001b[0mgnn\u001b[0m\u001b[0;34m(\u001b[0m\u001b[0;34m(\u001b[0m\u001b[0mparticles_bg_test\u001b[0m\u001b[0;34m,\u001b[0m \u001b[0mA_tilde_bg_test\u001b[0m\u001b[0;34m)\u001b[0m\u001b[0;34m)\u001b[0m\u001b[0;34m\u001b[0m\u001b[0;34m\u001b[0m\u001b[0m\n\u001b[1;32m      3\u001b[0m \u001b[0mloss_signal\u001b[0m \u001b[0;34m=\u001b[0m \u001b[0mtf\u001b[0m\u001b[0;34m.\u001b[0m\u001b[0mmath\u001b[0m\u001b[0;34m.\u001b[0m\u001b[0mreduce_mean\u001b[0m\u001b[0;34m(\u001b[0m\u001b[0mtf\u001b[0m\u001b[0;34m.\u001b[0m\u001b[0mnn\u001b[0m\u001b[0;34m.\u001b[0m\u001b[0msigmoid_cross_entropy_with_logits\u001b[0m\u001b[0;34m(\u001b[0m\u001b[0mA_sig\u001b[0m\u001b[0;34m,\u001b[0m \u001b[0mA_pred_sig\u001b[0m\u001b[0;34m)\u001b[0m\u001b[0;34m,\u001b[0m \u001b[0maxis\u001b[0m\u001b[0;34m=\u001b[0m\u001b[0;34m(\u001b[0m\u001b[0;36m1\u001b[0m\u001b[0;34m,\u001b[0m\u001b[0;36m2\u001b[0m\u001b[0;34m)\u001b[0m\u001b[0;34m)\u001b[0m\u001b[0;34m.\u001b[0m\u001b[0mnumpy\u001b[0m\u001b[0;34m(\u001b[0m\u001b[0;34m)\u001b[0m\u001b[0;34m\u001b[0m\u001b[0;34m\u001b[0m\u001b[0m\n\u001b[1;32m      4\u001b[0m \u001b[0mloss_bg\u001b[0m \u001b[0;34m=\u001b[0m \u001b[0mtf\u001b[0m\u001b[0;34m.\u001b[0m\u001b[0mmath\u001b[0m\u001b[0;34m.\u001b[0m\u001b[0mreduce_mean\u001b[0m\u001b[0;34m(\u001b[0m\u001b[0mtf\u001b[0m\u001b[0;34m.\u001b[0m\u001b[0mnn\u001b[0m\u001b[0;34m.\u001b[0m\u001b[0msigmoid_cross_entropy_with_logits\u001b[0m\u001b[0;34m(\u001b[0m\u001b[0mA_bg_test\u001b[0m\u001b[0;34m,\u001b[0m \u001b[0mA_pred_bg_test\u001b[0m\u001b[0;34m)\u001b[0m\u001b[0;34m,\u001b[0m \u001b[0maxis\u001b[0m\u001b[0;34m=\u001b[0m\u001b[0;34m(\u001b[0m\u001b[0;36m1\u001b[0m\u001b[0;34m,\u001b[0m\u001b[0;36m2\u001b[0m\u001b[0;34m)\u001b[0m\u001b[0;34m)\u001b[0m\u001b[0;34m.\u001b[0m\u001b[0mnumpy\u001b[0m\u001b[0;34m(\u001b[0m\u001b[0;34m)\u001b[0m\u001b[0;34m\u001b[0m\u001b[0;34m\u001b[0m\u001b[0m\n",
      "\u001b[0;31mNameError\u001b[0m: name 'gnn' is not defined"
     ]
    }
   ],
   "source": [
    "z_sig, A_pred_sig = gnn((particles_sig, A_tilde_sig))\n",
    "z_bg_test, A_pred_bg_test = gnn((particles_bg_test, A_tilde_bg_test))\n",
    "loss_signal = tf.math.reduce_mean(tf.nn.sigmoid_cross_entropy_with_logits(A_sig, A_pred_sig), axis=(1,2)).numpy()\n",
    "loss_bg = tf.math.reduce_mean(tf.nn.sigmoid_cross_entropy_with_logits(A_bg_test, A_pred_bg_test), axis=(1,2)).numpy()"
   ]
  },
  {
   "cell_type": "code",
   "execution_count": null,
   "id": "careful-martin",
   "metadata": {},
   "outputs": [],
   "source": [
    "max_score = np.max(np.max(loss_bg))#,np.max(loss_bg_dist))\n",
    "# plot BG\n",
    "plt.figure()\n",
    "plt.hist(loss_bg, bins=100, label='BG', density=True, range=(0, max_score), \n",
    "         histtype='step', fill=False, linewidth=1.5,color='g')\n",
    "plt.hist(loss_signal, bins=100, label='SIG', density=True, range=(0, max_score), \n",
    "         histtype='step', fill=False, linewidth=1.5,color='r')\n",
    "plt.semilogy()\n",
    "plt.xlabel(\"AE Loss\")\n",
    "plt.ylabel(\"Probability (a.u.)\")\n",
    "plt.grid(True)\n",
    "plt.legend(loc='upper right')\n",
    "plt.show()"
   ]
  },
  {
   "cell_type": "code",
   "execution_count": null,
   "id": "featured-father",
   "metadata": {},
   "outputs": [],
   "source": []
  },
  {
   "cell_type": "code",
   "execution_count": null,
   "id": "cardiovascular-simpson",
   "metadata": {},
   "outputs": [],
   "source": []
  },
  {
   "cell_type": "markdown",
   "id": "sudden-occasion",
   "metadata": {},
   "source": [
    "# Trying GCN VAE"
   ]
  },
  {
   "cell_type": "code",
   "execution_count": null,
   "id": "intended-major",
   "metadata": {},
   "outputs": [],
   "source": [
    "def threeD_loss_manual(inputs, outputs):\n",
    "    distances = np.sum(np.subtract(inputs[:,:,np.newaxis,:],outputs[:,np.newaxis,:,:])**2, axis=-1)\n",
    "    min_dist_to_inputs = np.min(distances,axis=1)\n",
    "    min_dist_to_outputs = np.min(distances,axis=2)\n",
    "    return np.sum(min_dist_to_inputs,axis=1) + np.sum(min_dist_to_outputs,axis=1)\n",
    "\n"
   ]
  },
  {
   "cell_type": "code",
   "execution_count": null,
   "id": "recorded-senegal",
   "metadata": {
    "scrolled": true
   },
   "outputs": [],
   "source": [
    "from importlib import reload\n",
    "import model\n",
    "reload(model)\n",
    "from model import *\n",
    "gcnvae = GCNVariationalAutoEncoder(nodes_n=nodes_n, feat_sz=feat_sz, activation=tf.nn.tanh)\n",
    "gcnvae.compile(optimizer=tf.keras.optimizers.Adam(learning_rate=0.01), run_eagerly=True)"
   ]
  },
  {
   "cell_type": "code",
   "execution_count": null,
   "id": "electric-harvey",
   "metadata": {
    "scrolled": true
   },
   "outputs": [],
   "source": [
    "callbacks = [tf.keras.callbacks.ReduceLROnPlateau(factor=0.1, patience=5, verbose=1)]\n",
    "gcnvae.fit(particles_bg, A_bg, epochs=100, batch_size=128,callbacks=callbacks) # validation_split=0.25, "
   ]
  },
  {
   "cell_type": "code",
   "execution_count": null,
   "id": "expanded-cattle",
   "metadata": {},
   "outputs": [],
   "source": [
    "#background"
   ]
  },
  {
   "cell_type": "code",
   "execution_count": null,
   "id": "sufficient-advance",
   "metadata": {},
   "outputs": [],
   "source": [
    "_,_, particles_bg_test, A_bg_test, A_tilde_bg_test = prepare_data(filename_bg,3000,4000)\n",
    "features_out_bg_test, z_bg_test, z_mean_bg_test, z_log_var_bg_test = gcnvae((particles_bg_test, A_bg_test))\n",
    "features_out_bg_test = features_out_bg_test.numpy().astype('float32')\n",
    "loss_bg = threeD_loss(particles_bg_test.astype('float32'),features_out_bg_test).numpy()"
   ]
  },
  {
   "cell_type": "code",
   "execution_count": null,
   "id": "scientific-lawsuit",
   "metadata": {},
   "outputs": [],
   "source": [
    "#signal\n",
    "#filename_sig = 'Ato4l_lepFilter_13TeV.h5'\n",
    "#filename_sig='leptoquark_LOWMASS_lepFilter_13TeV.h5'\n",
    "filename_sig = 'hToTauTau_13TeV_PU20.h5'\n",
    "nodes_n, feat_sz, particles_sig, A_sig, A_tilde_sig = prepare_data(filename_sig)\n",
    "\n",
    "features_out_sig, z_sig, z_mean_sig, z_log_var_sig = gcnvae((particles_sig, A_sig))\n",
    "features_out_sig = features_out_sig.numpy().astype('float32')\n",
    "loss_signal = threeD_loss(particles_sig.astype('float32'),features_out_sig).numpy()"
   ]
  },
  {
   "cell_type": "code",
   "execution_count": null,
   "id": "attractive-valentine",
   "metadata": {},
   "outputs": [],
   "source": [
    "max_score = np.max(np.max(loss_bg))#,np.max(loss_bg_dist))\n",
    "# plot BG\n",
    "plt.figure()\n",
    "plt.hist(loss_bg, bins=100, label='BG', density=True, range=(0, max_score), \n",
    "         histtype='step', fill=False, linewidth=1.5,color='g')\n",
    "plt.hist(loss_signal, bins=100, label='SIG', density=True, range=(0, max_score), \n",
    "         histtype='step', fill=False, linewidth=1.5,color='r')\n",
    "#plt.semilogy()\n",
    "plt.xlabel(\"AE Loss\")\n",
    "plt.ylabel(\"Probability (a.u.)\")\n",
    "plt.grid(True)\n",
    "plt.legend(loc='upper right')\n",
    "plt.show()"
   ]
  },
  {
   "cell_type": "code",
   "execution_count": null,
   "id": "applicable-accuracy",
   "metadata": {},
   "outputs": [],
   "source": [
    "loss_signal.mean()"
   ]
  },
  {
   "cell_type": "code",
   "execution_count": null,
   "id": "important-accounting",
   "metadata": {},
   "outputs": [],
   "source": [
    "loss_bg.mean()"
   ]
  },
  {
   "cell_type": "code",
   "execution_count": null,
   "id": "accepting-summit",
   "metadata": {},
   "outputs": [],
   "source": []
  }
 ],
 "metadata": {
  "kernelspec": {
   "display_name": "Python 3",
   "language": "python",
   "name": "python3"
  },
  "language_info": {
   "codemirror_mode": {
    "name": "ipython",
    "version": 3
   },
   "file_extension": ".py",
   "mimetype": "text/x-python",
   "name": "python",
   "nbconvert_exporter": "python",
   "pygments_lexer": "ipython3",
   "version": "3.8.6"
  }
 },
 "nbformat": 4,
 "nbformat_minor": 5
}
